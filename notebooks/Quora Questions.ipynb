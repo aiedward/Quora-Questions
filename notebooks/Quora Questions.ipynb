{
 "cells": [
  {
   "cell_type": "markdown",
   "metadata": {},
   "source": [
    "# Quora Questions"
   ]
  },
  {
   "cell_type": "markdown",
   "metadata": {},
   "source": [
    "Here I'll be playing around with the Quora Questions dataset from Kaggle."
   ]
  },
  {
   "cell_type": "code",
   "execution_count": 1,
   "metadata": {
    "collapsed": false
   },
   "outputs": [],
   "source": [
    "import os\n",
    "import numpy as np\n",
    "import pandas as pd\n",
    "import matplotlib\n",
    "import matplotlib.pyplot as plt\n",
    "% matplotlib inline\n",
    "import seaborn; seaborn.set()"
   ]
  },
  {
   "cell_type": "code",
   "execution_count": 3,
   "metadata": {
    "collapsed": true
   },
   "outputs": [],
   "source": [
    "q_data = pd.read_csv(folder + 'train.csv')"
   ]
  },
  {
   "cell_type": "code",
   "execution_count": 4,
   "metadata": {
    "collapsed": false
   },
   "outputs": [
    {
     "data": {
      "text/html": [
       "<div>\n",
       "<table border=\"1\" class=\"dataframe\">\n",
       "  <thead>\n",
       "    <tr style=\"text-align: right;\">\n",
       "      <th></th>\n",
       "      <th>id</th>\n",
       "      <th>qid1</th>\n",
       "      <th>qid2</th>\n",
       "      <th>question1</th>\n",
       "      <th>question2</th>\n",
       "      <th>is_duplicate</th>\n",
       "    </tr>\n",
       "  </thead>\n",
       "  <tbody>\n",
       "    <tr>\n",
       "      <th>0</th>\n",
       "      <td>0</td>\n",
       "      <td>1</td>\n",
       "      <td>2</td>\n",
       "      <td>What is the step by step guide to invest in sh...</td>\n",
       "      <td>What is the step by step guide to invest in sh...</td>\n",
       "      <td>0</td>\n",
       "    </tr>\n",
       "    <tr>\n",
       "      <th>1</th>\n",
       "      <td>1</td>\n",
       "      <td>3</td>\n",
       "      <td>4</td>\n",
       "      <td>What is the story of Kohinoor (Koh-i-Noor) Dia...</td>\n",
       "      <td>What would happen if the Indian government sto...</td>\n",
       "      <td>0</td>\n",
       "    </tr>\n",
       "    <tr>\n",
       "      <th>2</th>\n",
       "      <td>2</td>\n",
       "      <td>5</td>\n",
       "      <td>6</td>\n",
       "      <td>How can I increase the speed of my internet co...</td>\n",
       "      <td>How can Internet speed be increased by hacking...</td>\n",
       "      <td>0</td>\n",
       "    </tr>\n",
       "    <tr>\n",
       "      <th>3</th>\n",
       "      <td>3</td>\n",
       "      <td>7</td>\n",
       "      <td>8</td>\n",
       "      <td>Why am I mentally very lonely? How can I solve...</td>\n",
       "      <td>Find the remainder when [math]23^{24}[/math] i...</td>\n",
       "      <td>0</td>\n",
       "    </tr>\n",
       "    <tr>\n",
       "      <th>4</th>\n",
       "      <td>4</td>\n",
       "      <td>9</td>\n",
       "      <td>10</td>\n",
       "      <td>Which one dissolve in water quikly sugar, salt...</td>\n",
       "      <td>Which fish would survive in salt water?</td>\n",
       "      <td>0</td>\n",
       "    </tr>\n",
       "  </tbody>\n",
       "</table>\n",
       "</div>"
      ],
      "text/plain": [
       "   id  qid1  qid2                                          question1  \\\n",
       "0   0     1     2  What is the step by step guide to invest in sh...   \n",
       "1   1     3     4  What is the story of Kohinoor (Koh-i-Noor) Dia...   \n",
       "2   2     5     6  How can I increase the speed of my internet co...   \n",
       "3   3     7     8  Why am I mentally very lonely? How can I solve...   \n",
       "4   4     9    10  Which one dissolve in water quikly sugar, salt...   \n",
       "\n",
       "                                           question2  is_duplicate  \n",
       "0  What is the step by step guide to invest in sh...             0  \n",
       "1  What would happen if the Indian government sto...             0  \n",
       "2  How can Internet speed be increased by hacking...             0  \n",
       "3  Find the remainder when [math]23^{24}[/math] i...             0  \n",
       "4            Which fish would survive in salt water?             0  "
      ]
     },
     "execution_count": 4,
     "metadata": {},
     "output_type": "execute_result"
    }
   ],
   "source": [
    "q_data.head()"
   ]
  },
  {
   "cell_type": "markdown",
   "metadata": {},
   "source": [
    "Lets take some time to properly define the meaning of each field.\n",
    "\n",
    "- `id` - the id of a training set question pair\n",
    "- `qid1`, `qid2` - unique ids of each question (only available in train.csv)\n",
    "- `question1`, `question2` - the full text of each question\n",
    "- `is_duplicate` - the target variable, set to 1 if question1 and question2 have essentially the same meaning, and 0 otherwise.\n",
    "\n",
    "So `id`, `qid1`, `qid2` are just identification variables, and so don't actually have any useful information content.\n",
    "\n",
    "Now lets take a look at some of the data."
   ]
  },
  {
   "cell_type": "code",
   "execution_count": 5,
   "metadata": {
    "collapsed": false
   },
   "outputs": [
    {
     "data": {
      "text/plain": [
       "404290"
      ]
     },
     "execution_count": 5,
     "metadata": {},
     "output_type": "execute_result"
    }
   ],
   "source": [
    "len(q_data)"
   ]
  },
  {
   "cell_type": "markdown",
   "metadata": {},
   "source": [
    "The data has 400,000+ rows, which should be enough to do some interesting things, but how many unique questions are there really?"
   ]
  },
  {
   "cell_type": "code",
   "execution_count": 6,
   "metadata": {
    "collapsed": false
   },
   "outputs": [
    {
     "data": {
      "text/plain": [
       "(290654, 290654)"
      ]
     },
     "execution_count": 6,
     "metadata": {},
     "output_type": "execute_result"
    }
   ],
   "source": [
    "len(np.unique(q_data.qid1)), len(np.unique(q_data.qid1))"
   ]
  },
  {
   "cell_type": "markdown",
   "metadata": {},
   "source": [
    "So only around 300,000 unique questions, which is actually a higher proportion of the training data than I might have expected.\n",
    "\n",
    "Next question is - what is the proportion of matches to non-matches?"
   ]
  },
  {
   "cell_type": "code",
   "execution_count": 7,
   "metadata": {
    "collapsed": false
   },
   "outputs": [
    {
     "data": {
      "text/plain": [
       "<matplotlib.axes._subplots.AxesSubplot at 0x26e5926c400>"
      ]
     },
     "execution_count": 7,
     "metadata": {},
     "output_type": "execute_result"
    },
    {
     "data": {
      "image/png": "[encoded data removed]",
      "text/plain": [
       "<matplotlib.figure.Figure at 0x26e58e776a0>"
      ]
     },
     "metadata": {},
     "output_type": "display_data"
    }
   ],
   "source": [
    "q_data.is_duplicate.value_counts().plot(kind='bar')"
   ]
  },
  {
   "cell_type": "markdown",
   "metadata": {},
   "source": [
    "The next thing I'd like to visualise is how the questions are all related to one another. Considering that there are questions that appear in multiple duplicate pairs, how are these connected to one another? I can do this by creating an adjacency matrix."
   ]
  },
  {
   "cell_type": "code",
   "execution_count": 9,
   "metadata": {
    "collapsed": false
   },
   "outputs": [
    {
     "ename": "MemoryError",
     "evalue": "",
     "output_type": "error",
     "traceback": [
      "\u001b[0;31m---------------------------------------------------------------------------\u001b[0m",
      "\u001b[0;31mMemoryError\u001b[0m                               Traceback (most recent call last)",
      "\u001b[0;32m<ipython-input-9-d6eaff2eb819>\u001b[0m in \u001b[0;36m<module>\u001b[0;34m()\u001b[0m\n\u001b[1;32m      1\u001b[0m \u001b[0mnum_qs\u001b[0m \u001b[1;33m=\u001b[0m \u001b[0mlen\u001b[0m\u001b[1;33m(\u001b[0m\u001b[0mnp\u001b[0m\u001b[1;33m.\u001b[0m\u001b[0munique\u001b[0m\u001b[1;33m(\u001b[0m\u001b[0mnp\u001b[0m\u001b[1;33m.\u001b[0m\u001b[0mconcatenate\u001b[0m\u001b[1;33m(\u001b[0m\u001b[1;33m[\u001b[0m\u001b[0mq_data\u001b[0m\u001b[1;33m.\u001b[0m\u001b[0mqid1\u001b[0m\u001b[1;33m,\u001b[0m \u001b[0mq_data\u001b[0m\u001b[1;33m.\u001b[0m\u001b[0mqid2\u001b[0m\u001b[1;33m]\u001b[0m\u001b[1;33m)\u001b[0m\u001b[1;33m)\u001b[0m\u001b[1;33m)\u001b[0m\u001b[1;33m\u001b[0m\u001b[0m\n\u001b[0;32m----> 2\u001b[0;31m \u001b[0madj_matx\u001b[0m \u001b[1;33m=\u001b[0m \u001b[0mnp\u001b[0m\u001b[1;33m.\u001b[0m\u001b[0mones\u001b[0m\u001b[1;33m(\u001b[0m\u001b[0mshape\u001b[0m\u001b[1;33m=\u001b[0m\u001b[1;33m(\u001b[0m\u001b[0mnum_qs\u001b[0m\u001b[1;33m,\u001b[0m \u001b[0mnum_qs\u001b[0m\u001b[1;33m)\u001b[0m\u001b[1;33m)\u001b[0m\u001b[1;33m\u001b[0m\u001b[0m\n\u001b[0m",
      "\u001b[0;32mC:\\ProgramData\\Anaconda3\\lib\\site-packages\\numpy\\core\\numeric.py\u001b[0m in \u001b[0;36mones\u001b[0;34m(shape, dtype, order)\u001b[0m\n\u001b[1;32m    188\u001b[0m \u001b[1;33m\u001b[0m\u001b[0m\n\u001b[1;32m    189\u001b[0m     \"\"\"\n\u001b[0;32m--> 190\u001b[0;31m     \u001b[0ma\u001b[0m \u001b[1;33m=\u001b[0m \u001b[0mempty\u001b[0m\u001b[1;33m(\u001b[0m\u001b[0mshape\u001b[0m\u001b[1;33m,\u001b[0m \u001b[0mdtype\u001b[0m\u001b[1;33m,\u001b[0m \u001b[0morder\u001b[0m\u001b[1;33m)\u001b[0m\u001b[1;33m\u001b[0m\u001b[0m\n\u001b[0m\u001b[1;32m    191\u001b[0m     \u001b[0mmultiarray\u001b[0m\u001b[1;33m.\u001b[0m\u001b[0mcopyto\u001b[0m\u001b[1;33m(\u001b[0m\u001b[0ma\u001b[0m\u001b[1;33m,\u001b[0m \u001b[1;36m1\u001b[0m\u001b[1;33m,\u001b[0m \u001b[0mcasting\u001b[0m\u001b[1;33m=\u001b[0m\u001b[1;34m'unsafe'\u001b[0m\u001b[1;33m)\u001b[0m\u001b[1;33m\u001b[0m\u001b[0m\n\u001b[1;32m    192\u001b[0m     \u001b[1;32mreturn\u001b[0m \u001b[0ma\u001b[0m\u001b[1;33m\u001b[0m\u001b[0m\n",
      "\u001b[0;31mMemoryError\u001b[0m: "
     ]
    }
   ],
   "source": [
    "num_qs = len(np.unique(np.concatenate([q_data.qid1, q_data.qid2])))\n",
    "adj_matx = np.ones(shape=(num_qs, num_qs))"
   ]
  },
  {
   "cell_type": "markdown",
   "metadata": {},
   "source": [
    "Or.. rather I would make an adjacency matrix if it would fit into memory."
   ]
  },
  {
   "cell_type": "code",
   "execution_count": 10,
   "metadata": {
    "collapsed": false
   },
   "outputs": [
    {
     "name": "stdout",
     "output_type": "stream",
     "text": [
      "289371912489\n"
     ]
    }
   ],
   "source": [
    "print(num_qs ** 2)"
   ]
  },
  {
   "cell_type": "markdown",
   "metadata": {},
   "source": [
    "That's 289 billion unique values in this single object. Hence it won't fit into memory.\n",
    "\n",
    "But I'm not one to give up so easily, so how about I encode this as a sparse matrix?"
   ]
  },
  {
   "cell_type": "code",
   "execution_count": 11,
   "metadata": {
    "collapsed": true
   },
   "outputs": [],
   "source": [
    "import matplotlib.pyplot as plt\n",
    "from scipy.sparse import coo_matrix\n",
    "\n",
    "def plot_coo_matrix(m):\n",
    "    if not isinstance(m, coo_matrix):\n",
    "        m = coo_matrix(m)\n",
    "    fig = plt.figure()\n",
    "    ax = fig.add_subplot(111, axisbg='white')\n",
    "    ax.plot(m.row[m.data == 1], m.col[m.data == 1], 's', color='blue', ms=0.15)\n",
    "    ax.plot(m.row[m.data == 0], m.col[m.data == 0], 's', color='red', ms=0.15)\n",
    "    ax.set_xlim(0, m.shape[1])\n",
    "    ax.set_ylim(0, m.shape[0])\n",
    "    ax.set_aspect('equal')\n",
    "    for spine in ax.spines.values():\n",
    "        spine.set_visible(False)\n",
    "    #ax.invert_yaxis()\n",
    "    ax.set_aspect('equal')\n",
    "    ax.set_xticks([])\n",
    "    ax.set_yticks([])\n",
    "    return ax"
   ]
  },
  {
   "cell_type": "code",
   "execution_count": 13,
   "metadata": {
    "collapsed": false,
    "scrolled": false
   },
   "outputs": [
    {
     "name": "stderr",
     "output_type": "stream",
     "text": [
      "C:\\ProgramData\\Anaconda3\\lib\\site-packages\\matplotlib\\cbook.py:136: MatplotlibDeprecationWarning: The axisbg attribute was deprecated in version 2.0. Use facecolor instead.\n",
      "  warnings.warn(message, mplDeprecation, stacklevel=1)\n",
      "C:\\ProgramData\\Anaconda3\\lib\\site-packages\\matplotlib\\figure.py:402: UserWarning: matplotlib is currently using a non-GUI backend, so cannot show the figure\n",
      "  \"matplotlib is currently using a non-GUI backend, \"\n"
     ]
    },
    {
     "data": {
      "image/png": "[encoded data removed]",
      "text/plain": [
       "<matplotlib.figure.Figure at 0x26e59aabb00>"
      ]
     },
     "metadata": {},
     "output_type": "display_data"
    }
   ],
   "source": [
    "import numpy as np\n",
    "from scipy.sparse import coo_matrix\n",
    "\n",
    "shape = (num_qs + 1, num_qs + 1)\n",
    "rows = np.concatenate([np.int_(q_data.qid1),\n",
    "                       np.int_(q_data.qid2),\n",
    "                       np.arange(num_qs + 1)\n",
    "                      ])\n",
    "cols = np.concatenate([np.int_(q_data.qid2), \n",
    "                       np.int_(q_data.qid1),\n",
    "                       np.arange(num_qs + 1)\n",
    "                      ])\n",
    "vals = np.concatenate([np.int_(q_data.is_duplicate),\n",
    "                       np.int_(q_data.is_duplicate),\n",
    "                       np.ones(num_qs + 1)\n",
    "                      ])\n",
    "\n",
    "m = coo_matrix((vals, (rows, cols)), shape=shape)\n",
    "ax = plot_coo_matrix(m)\n",
    "ax.figure.show()"
   ]
  },
  {
   "cell_type": "markdown",
   "metadata": {},
   "source": [
    "Later, I can try representing this graph in a graph database."
   ]
  },
  {
   "cell_type": "markdown",
   "metadata": {},
   "source": [
    "# Analysing the Text"
   ]
  },
  {
   "cell_type": "markdown",
   "metadata": {
    "collapsed": true
   },
   "source": [
    "Now, lets take a shot at actually processing the text information. Lets look from the perspective of asking which questions are the most common etc."
   ]
  },
  {
   "cell_type": "code",
   "execution_count": 14,
   "metadata": {
    "collapsed": false
   },
   "outputs": [],
   "source": [
    "qs = np.concatenate([q_data.question1, q_data.question2])\n",
    "qs = set([str(q) for q in qs])\n",
    "qs = sorted(qs)"
   ]
  },
  {
   "cell_type": "code",
   "execution_count": 15,
   "metadata": {
    "collapsed": false
   },
   "outputs": [
    {
     "data": {
      "text/plain": [
       "[' Any Canadian teachers (B.Ed. holders) teaching in U.S. schools?',\n",
       " ' Are there any underlying psychological tricks/tactics that are used when designing the lines for rides at amusement parks?',\n",
       " ' Can I pay with a debit card on PayPal?',\n",
       " ' Does New York state have a flagship university?',\n",
       " ' Failures haunt me all the time.How do I cope up?']"
      ]
     },
     "execution_count": 15,
     "metadata": {},
     "output_type": "execute_result"
    }
   ],
   "source": [
    "qs[:5]"
   ]
  },
  {
   "cell_type": "code",
   "execution_count": 16,
   "metadata": {
    "collapsed": false
   },
   "outputs": [
    {
     "data": {
      "text/plain": [
       "537362"
      ]
     },
     "execution_count": 16,
     "metadata": {},
     "output_type": "execute_result"
    }
   ],
   "source": [
    "len(qs)"
   ]
  },
  {
   "cell_type": "markdown",
   "metadata": {
    "collapsed": true
   },
   "source": [
    "So there are 537,000 unique questions. Now lets take a look at which characters occur in the dataset?"
   ]
  },
  {
   "cell_type": "code",
   "execution_count": 17,
   "metadata": {
    "collapsed": false,
    "scrolled": true
   },
   "outputs": [],
   "source": [
    "import functools"
   ]
  },
  {
   "cell_type": "code",
   "execution_count": 18,
   "metadata": {
    "collapsed": false
   },
   "outputs": [],
   "source": [
    "chs = [set(q) for q in qs]\n",
    "chs = sorted(functools.reduce(set.union, chs))"
   ]
  },
  {
   "cell_type": "code",
   "execution_count": 19,
   "metadata": {
    "collapsed": false
   },
   "outputs": [
    {
     "data": {
      "text/plain": [
       "'\\n !\"#$%&\\'()*+,-./0123456789:;<=>?@ABCDEFGHIJKLMNOPQRSTUVWXYZ[\\\\]^_`abcdefghijklmnopqrstuvwxyz{|}~\\x7f\\x80\\x87\\x8f\\x93\\x9d¢£¤¥§¨©«¬\\xad®°±²³´µ·¹º»¼½¾¿ÀÁÄÅÉÌÎÒÓÖ×ØÜàáâãäåæçèéêëìíîïðñòóôö÷øùúûüāăąćēėęğĩīİıĹĺłńňŋōœŕŚśŞşŠšŧũūƒƕƫǎǐǔǡțɐɖəɜɡɪɮɽʉʊʌʛʻʾː̱́ΔΙΜΞΠΡΣΧΩάίαβγδεηθκλμνοπρςστυφχψόώϞϵАВГДКНСабвгдежзийклнопрстуфхцчщыьюяҿְִָֹאבדהויכםמנספקרשת؟ءأؤإابةتثجحخدذرزسشصضظعغـفقكلمنهوىيکیँंःअआइईउऊऋएऐऔकखगचजटठडणतथदधनपफबभमयरलवशषसहािीुूृेैो्ॐड़फ़।३६জডতনপযসহাি্ਬਰਸ਼ੇੱଁଇକଧରାିஅஆஇஎகஙசடணதநனபமயரறலளழவாிுெேைொோ்ంఅజణనమరవాిుూಕಗಟಣತದಬಭಮರವಸಾಿುೂೆ್ഏകചഛജടതധനമരറഴസാിേോ്ൺർൾกคงจชซตถทนบปพฟมยรลวสหอัาำิีืุเแโใไ่้์ཡងដផរែḵṛṭệịộởữἐἶ\\u200b\\u200c\\u200e\\u200f‑–—‖‘’“”•…\\u202a\\u202c′″⁄\\u2060\\u2061⁴₂₅€₹℃℅ℝ℞™→∀∂∃∅∆∈−∓∖√∝∞∠∧∨∩∪∫≈≜≠≡≤≥⊂⊃⊆⊇⋯⌈⌉⏰┬╥◾☉☐☺♎♥⚡⚪✂✊✢➡➰⺈、。「」〖〗〽あいうかがきくけこごさざしすずせそただっつづてでとどなにのはばひびふほまみもやよらるれをんイグシトフプポルンーㄴㅇㅋㅌㅐ㊗㊙㎡一丁三上下不与专世东个中主久么义之乐也买乾了事二亚些交亮人什仁今从他付令以们仰任份伐休会伝伤伯但位体何你使來例便信修做傷傻僕儿允先光兔入內公共关兴其内冉冒冷几出分刚初利别到制則功动動勿十南卡印即卷历厚去县又友反变口另叫可吃合吉名后吐向君吝吴员呵呼哥唱啦啪啬喃善喝嘚回国图土在地场坏型城壁夏外多夜夢大天太失奖女好如妈妙妮子字存孤学安宋客宪家寂寒寞对导封将小少尖尚就尼局居島州工左己市师師常帽干平年幸序度廉建开弱形往很律得循心必忍忘怀思性怪恋恬息悄情惊想愁意愛感懂戏成我战手才打扣抜押抽拍招持捕插搬摄撑支收改放政整文斯方族无日旮时昂明易星昧是晚晶智暧最月有朋朝未本术杂权杨杰杵果枯柳校核格栽桂森極槽横欺步武歪每毒比毕民气氣水汉沓没治法洞洲海消淡港游湃満满演漢潘澎澳激火点為炼烤無然煥熱燥爱片特独狼猫王玩玲理琴瑟用画疑疼病痴白百的皮目直看真睨睹瞎知砖碰磨礼社神福秀科空窩立竟笑筋答簷粘精系経緣级统缅缘美翩翻老耻胖能脏脑脸腰腻膜自舞色艾花苦草荧荫莉莫菁華萌萎著蓮虫蝉螂螳行袋被装西要見親规角言話語説諸證譬计让许译语诱说课谁象货质购贰赋赤走赵起超践跹踏身転车轮轴辣边达过运还这进迪迷逆选這通逢逼運達遗那郊醉释野量金釣针钢钱铁锋长開閣问阿陰陽随隐隔隙难雀雅需霍露静非靠面音頼题风飛首香骂骗骚高魔魚鲜鴻鸡鸭鹵麽黄黎黑鼠齐게관구그근글기까나네니데도동됐될라런르마만북분불스슬심아앟어에오요위이자잖정지쪽친칭콜쾌키타하한해현\\uf04c\\uf09e\\uf0b7ﬁ️\\ufeff！（），－？￦￼'"
      ]
     },
     "execution_count": 19,
     "metadata": {},
     "output_type": "execute_result"
    }
   ],
   "source": [
    "''.join(chs)"
   ]
  },
  {
   "cell_type": "code",
   "execution_count": 20,
   "metadata": {
    "collapsed": false,
    "scrolled": true
   },
   "outputs": [],
   "source": [
    "non_eng_chs = ''.join(chs)[96:]"
   ]
  },
  {
   "cell_type": "code",
   "execution_count": 21,
   "metadata": {
    "collapsed": false,
    "scrolled": true
   },
   "outputs": [
    {
     "data": {
      "text/plain": [
       "'\\x7f\\x80\\x87\\x8f\\x93\\x9d¢£¤¥§¨©«¬\\xad®°±²³´µ·¹º»¼½¾¿ÀÁÄÅÉÌÎÒÓÖ×ØÜàáâãäåæçèéêëìíîïðñòóôö÷øùúûüāăąćēėęğĩīİıĹĺłńňŋōœŕŚśŞşŠšŧũūƒƕƫǎǐǔǡțɐɖəɜɡɪɮɽʉʊʌʛʻʾː̱́ΔΙΜΞΠΡΣΧΩάίαβγδεηθκλμνοπρςστυφχψόώϞϵАВГДКНСабвгдежзийклнопрстуфхцчщыьюяҿְִָֹאבדהויכםמנספקרשת؟ءأؤإابةتثجحخدذرزسشصضظعغـفقكلمنهوىيکیँंःअआइईउऊऋएऐऔकखगचजटठडणतथदधनपफबभमयरलवशषसहािीुूृेैो्ॐड़फ़।३६জডতনপযসহাি্ਬਰਸ਼ੇੱଁଇକଧରାିஅஆஇஎகஙசடணதநனபமயரறலளழவாிுெேைொோ்ంఅజణనమరవాిుూಕಗಟಣತದಬಭಮರವಸಾಿುೂೆ್ഏകചഛജടതധനമരറഴസാിേോ്ൺർൾกคงจชซตถทนบปพฟมยรลวสหอัาำิีืุเแโใไ่้์ཡងដផរែḵṛṭệịộởữἐἶ\\u200b\\u200c\\u200e\\u200f‑–—‖‘’“”•…\\u202a\\u202c′″⁄\\u2060\\u2061⁴₂₅€₹℃℅ℝ℞™→∀∂∃∅∆∈−∓∖√∝∞∠∧∨∩∪∫≈≜≠≡≤≥⊂⊃⊆⊇⋯⌈⌉⏰┬╥◾☉☐☺♎♥⚡⚪✂✊✢➡➰⺈、。「」〖〗〽あいうかがきくけこごさざしすずせそただっつづてでとどなにのはばひびふほまみもやよらるれをんイグシトフプポルンーㄴㅇㅋㅌㅐ㊗㊙㎡一丁三上下不与专世东个中主久么义之乐也买乾了事二亚些交亮人什仁今从他付令以们仰任份伐休会伝伤伯但位体何你使來例便信修做傷傻僕儿允先光兔入內公共关兴其内冉冒冷几出分刚初利别到制則功动動勿十南卡印即卷历厚去县又友反变口另叫可吃合吉名后吐向君吝吴员呵呼哥唱啦啪啬喃善喝嘚回国图土在地场坏型城壁夏外多夜夢大天太失奖女好如妈妙妮子字存孤学安宋客宪家寂寒寞对导封将小少尖尚就尼局居島州工左己市师師常帽干平年幸序度廉建开弱形往很律得循心必忍忘怀思性怪恋恬息悄情惊想愁意愛感懂戏成我战手才打扣抜押抽拍招持捕插搬摄撑支收改放政整文斯方族无日旮时昂明易星昧是晚晶智暧最月有朋朝未本术杂权杨杰杵果枯柳校核格栽桂森極槽横欺步武歪每毒比毕民气氣水汉沓没治法洞洲海消淡港游湃満满演漢潘澎澳激火点為炼烤無然煥熱燥爱片特独狼猫王玩玲理琴瑟用画疑疼病痴白百的皮目直看真睨睹瞎知砖碰磨礼社神福秀科空窩立竟笑筋答簷粘精系経緣级统缅缘美翩翻老耻胖能脏脑脸腰腻膜自舞色艾花苦草荧荫莉莫菁華萌萎著蓮虫蝉螂螳行袋被装西要見親规角言話語説諸證譬计让许译语诱说课谁象货质购贰赋赤走赵起超践跹踏身転车轮轴辣边达过运还这进迪迷逆选這通逢逼運達遗那郊醉释野量金釣针钢钱铁锋长開閣问阿陰陽随隐隔隙难雀雅需霍露静非靠面音頼题风飛首香骂骗骚高魔魚鲜鴻鸡鸭鹵麽黄黎黑鼠齐게관구그근글기까나네니데도동됐될라런르마만북분불스슬심아앟어에오요위이자잖정지쪽친칭콜쾌키타하한해현\\uf04c\\uf09e\\uf0b7ﬁ️\\ufeff！（），－？￦￼'"
      ]
     },
     "execution_count": 21,
     "metadata": {},
     "output_type": "execute_result"
    }
   ],
   "source": [
    "non_eng_chs"
   ]
  },
  {
   "cell_type": "markdown",
   "metadata": {
    "collapsed": true
   },
   "source": [
    "Oh no, there are other languages in here. That is scary...\n",
    "\n",
    "Why not take a look at the some of the non-english messages then?"
   ]
  },
  {
   "cell_type": "code",
   "execution_count": 22,
   "metadata": {
    "collapsed": true
   },
   "outputs": [],
   "source": [
    "import re"
   ]
  },
  {
   "cell_type": "markdown",
   "metadata": {},
   "source": [
    "## Cleaning the Data"
   ]
  },
  {
   "cell_type": "markdown",
   "metadata": {
    "collapsed": true
   },
   "source": [
    "In order to make progress, I am going to remove the non-english characters in the process of cleaning the data. This seems like a sensible idea for now - and if it becomes evident that this is an issue later, then I will deal with it then."
   ]
  },
  {
   "cell_type": "code",
   "execution_count": 32,
   "metadata": {
    "collapsed": false
   },
   "outputs": [],
   "source": [
    "import spacy"
   ]
  },
  {
   "cell_type": "code",
   "execution_count": 33,
   "metadata": {
    "collapsed": false
   },
   "outputs": [],
   "source": [
    "nlp = spacy.load('en')"
   ]
  },
  {
   "cell_type": "code",
   "execution_count": 34,
   "metadata": {
    "collapsed": false,
    "scrolled": true
   },
   "outputs": [],
   "source": [
    "# nlp_qs = [nlp(q) for q in qs]"
   ]
  },
  {
   "cell_type": "markdown",
   "metadata": {},
   "source": [
    "There are quite a lot of questions in `qs`, so this takes quite a while to run. Thankfully spacy permits multithreading.\n",
    "\n",
    "Spacy can also perform named entity recognition. This is performed when you make the `nlp` object for a given piece of text, and the result can be called via the attribute `.ents` for 'entities'."
   ]
  },
  {
   "cell_type": "code",
   "execution_count": 40,
   "metadata": {
    "collapsed": true
   },
   "outputs": [],
   "source": [
    "q = nlp(qs[0])"
   ]
  },
  {
   "cell_type": "code",
   "execution_count": 42,
   "metadata": {
    "collapsed": false
   },
   "outputs": [
    {
     "data": {
      "text/plain": [
       " Any Canadian teachers (B.Ed. holders) teaching in U.S. schools?"
      ]
     },
     "execution_count": 42,
     "metadata": {},
     "output_type": "execute_result"
    }
   ],
   "source": [
    "q"
   ]
  },
  {
   "cell_type": "code",
   "execution_count": 43,
   "metadata": {
    "collapsed": false
   },
   "outputs": [
    {
     "data": {
      "text/plain": [
       "( Any Canadian, U.S.)"
      ]
     },
     "execution_count": 43,
     "metadata": {},
     "output_type": "execute_result"
    }
   ],
   "source": [
    "q.ents"
   ]
  },
  {
   "cell_type": "code",
   "execution_count": 44,
   "metadata": {
    "collapsed": false
   },
   "outputs": [
    {
     "data": {
      "text/plain": [
       "[ Any Canadian, U.S.]"
      ]
     },
     "execution_count": 44,
     "metadata": {},
     "output_type": "execute_result"
    }
   ],
   "source": [
    "list(q.ents)"
   ]
  },
  {
   "cell_type": "markdown",
   "metadata": {},
   "source": [
    "It's not perfect (B.Ed. holders are also entities) but it's pretty good nonetheless.\n",
    "\n",
    "Spacy can also distinguish parts of speech, which is great."
   ]
  },
  {
   "cell_type": "code",
   "execution_count": 45,
   "metadata": {
    "collapsed": false
   },
   "outputs": [
    {
     "data": {
      "text/html": [
       "<div>\n",
       "<table border=\"1\" class=\"dataframe\">\n",
       "  <thead>\n",
       "    <tr style=\"text-align: right;\">\n",
       "      <th></th>\n",
       "      <th>token_text</th>\n",
       "      <th>part_of_speech</th>\n",
       "    </tr>\n",
       "  </thead>\n",
       "  <tbody>\n",
       "    <tr>\n",
       "      <th>0</th>\n",
       "      <td></td>\n",
       "      <td>SPACE</td>\n",
       "    </tr>\n",
       "    <tr>\n",
       "      <th>1</th>\n",
       "      <td>Any</td>\n",
       "      <td>DET</td>\n",
       "    </tr>\n",
       "    <tr>\n",
       "      <th>2</th>\n",
       "      <td>Canadian</td>\n",
       "      <td>ADJ</td>\n",
       "    </tr>\n",
       "    <tr>\n",
       "      <th>3</th>\n",
       "      <td>teachers</td>\n",
       "      <td>NOUN</td>\n",
       "    </tr>\n",
       "    <tr>\n",
       "      <th>4</th>\n",
       "      <td>(</td>\n",
       "      <td>PUNCT</td>\n",
       "    </tr>\n",
       "    <tr>\n",
       "      <th>5</th>\n",
       "      <td>B.Ed</td>\n",
       "      <td>PROPN</td>\n",
       "    </tr>\n",
       "    <tr>\n",
       "      <th>6</th>\n",
       "      <td>.</td>\n",
       "      <td>PUNCT</td>\n",
       "    </tr>\n",
       "    <tr>\n",
       "      <th>7</th>\n",
       "      <td>holders</td>\n",
       "      <td>NOUN</td>\n",
       "    </tr>\n",
       "    <tr>\n",
       "      <th>8</th>\n",
       "      <td>)</td>\n",
       "      <td>PUNCT</td>\n",
       "    </tr>\n",
       "    <tr>\n",
       "      <th>9</th>\n",
       "      <td>teaching</td>\n",
       "      <td>NOUN</td>\n",
       "    </tr>\n",
       "    <tr>\n",
       "      <th>10</th>\n",
       "      <td>in</td>\n",
       "      <td>ADP</td>\n",
       "    </tr>\n",
       "    <tr>\n",
       "      <th>11</th>\n",
       "      <td>U.S.</td>\n",
       "      <td>PROPN</td>\n",
       "    </tr>\n",
       "    <tr>\n",
       "      <th>12</th>\n",
       "      <td>schools</td>\n",
       "      <td>NOUN</td>\n",
       "    </tr>\n",
       "    <tr>\n",
       "      <th>13</th>\n",
       "      <td>?</td>\n",
       "      <td>PUNCT</td>\n",
       "    </tr>\n",
       "  </tbody>\n",
       "</table>\n",
       "</div>"
      ],
      "text/plain": [
       "   token_text part_of_speech\n",
       "0                      SPACE\n",
       "1         Any            DET\n",
       "2    Canadian            ADJ\n",
       "3    teachers           NOUN\n",
       "4           (          PUNCT\n",
       "5        B.Ed          PROPN\n",
       "6           .          PUNCT\n",
       "7     holders           NOUN\n",
       "8           )          PUNCT\n",
       "9    teaching           NOUN\n",
       "10         in            ADP\n",
       "11       U.S.          PROPN\n",
       "12    schools           NOUN\n",
       "13          ?          PUNCT"
      ]
     },
     "execution_count": 45,
     "metadata": {},
     "output_type": "execute_result"
    }
   ],
   "source": [
    "token_text = [token.orth_ for token in q]\n",
    "token_pos = [token.pos_ for token in q]\n",
    "\n",
    "pd.DataFrame(list(zip(token_text, token_pos)),\n",
    "             columns=['token_text', 'part_of_speech'])"
   ]
  },
  {
   "cell_type": "markdown",
   "metadata": {},
   "source": [
    "Spacy can also lemmatise and give the shape of each token."
   ]
  },
  {
   "cell_type": "code",
   "execution_count": 46,
   "metadata": {
    "collapsed": false
   },
   "outputs": [
    {
     "data": {
      "text/html": [
       "<div>\n",
       "<table border=\"1\" class=\"dataframe\">\n",
       "  <thead>\n",
       "    <tr style=\"text-align: right;\">\n",
       "      <th></th>\n",
       "      <th>token_text</th>\n",
       "      <th>token_lemma</th>\n",
       "      <th>token_shape</th>\n",
       "    </tr>\n",
       "  </thead>\n",
       "  <tbody>\n",
       "    <tr>\n",
       "      <th>0</th>\n",
       "      <td></td>\n",
       "      <td></td>\n",
       "      <td></td>\n",
       "    </tr>\n",
       "    <tr>\n",
       "      <th>1</th>\n",
       "      <td>Any</td>\n",
       "      <td>any</td>\n",
       "      <td>Xxx</td>\n",
       "    </tr>\n",
       "    <tr>\n",
       "      <th>2</th>\n",
       "      <td>Canadian</td>\n",
       "      <td>canadian</td>\n",
       "      <td>Xxxxx</td>\n",
       "    </tr>\n",
       "    <tr>\n",
       "      <th>3</th>\n",
       "      <td>teachers</td>\n",
       "      <td>teacher</td>\n",
       "      <td>xxxx</td>\n",
       "    </tr>\n",
       "    <tr>\n",
       "      <th>4</th>\n",
       "      <td>(</td>\n",
       "      <td>(</td>\n",
       "      <td>(</td>\n",
       "    </tr>\n",
       "    <tr>\n",
       "      <th>5</th>\n",
       "      <td>B.Ed</td>\n",
       "      <td>b.ed</td>\n",
       "      <td>X.Xx</td>\n",
       "    </tr>\n",
       "    <tr>\n",
       "      <th>6</th>\n",
       "      <td>.</td>\n",
       "      <td>.</td>\n",
       "      <td>.</td>\n",
       "    </tr>\n",
       "    <tr>\n",
       "      <th>7</th>\n",
       "      <td>holders</td>\n",
       "      <td>holder</td>\n",
       "      <td>xxxx</td>\n",
       "    </tr>\n",
       "    <tr>\n",
       "      <th>8</th>\n",
       "      <td>)</td>\n",
       "      <td>)</td>\n",
       "      <td>)</td>\n",
       "    </tr>\n",
       "    <tr>\n",
       "      <th>9</th>\n",
       "      <td>teaching</td>\n",
       "      <td>teaching</td>\n",
       "      <td>xxxx</td>\n",
       "    </tr>\n",
       "    <tr>\n",
       "      <th>10</th>\n",
       "      <td>in</td>\n",
       "      <td>in</td>\n",
       "      <td>xx</td>\n",
       "    </tr>\n",
       "    <tr>\n",
       "      <th>11</th>\n",
       "      <td>U.S.</td>\n",
       "      <td>u.s.</td>\n",
       "      <td>X.X.</td>\n",
       "    </tr>\n",
       "    <tr>\n",
       "      <th>12</th>\n",
       "      <td>schools</td>\n",
       "      <td>school</td>\n",
       "      <td>xxxx</td>\n",
       "    </tr>\n",
       "    <tr>\n",
       "      <th>13</th>\n",
       "      <td>?</td>\n",
       "      <td>?</td>\n",
       "      <td>?</td>\n",
       "    </tr>\n",
       "  </tbody>\n",
       "</table>\n",
       "</div>"
      ],
      "text/plain": [
       "   token_text token_lemma token_shape\n",
       "0                                    \n",
       "1         Any         any         Xxx\n",
       "2    Canadian    canadian       Xxxxx\n",
       "3    teachers     teacher        xxxx\n",
       "4           (           (           (\n",
       "5        B.Ed        b.ed        X.Xx\n",
       "6           .           .           .\n",
       "7     holders      holder        xxxx\n",
       "8           )           )           )\n",
       "9    teaching    teaching        xxxx\n",
       "10         in          in          xx\n",
       "11       U.S.        u.s.        X.X.\n",
       "12    schools      school        xxxx\n",
       "13          ?           ?           ?"
      ]
     },
     "execution_count": 46,
     "metadata": {},
     "output_type": "execute_result"
    }
   ],
   "source": [
    "token_lemma = [token.lemma_ for token in q]\n",
    "token_shape = [token.shape_ for token in q]\n",
    "\n",
    "pd.DataFrame(list(zip(token_text, token_lemma, token_shape)),\n",
    "             columns=['token_text', 'token_lemma', 'token_shape'])"
   ]
  },
  {
   "cell_type": "markdown",
   "metadata": {},
   "source": [
    "Calculating summary statistics is also fairly straightforward."
   ]
  },
  {
   "cell_type": "code",
   "execution_count": 48,
   "metadata": {
    "collapsed": false
   },
   "outputs": [
    {
     "data": {
      "text/html": [
       "<div>\n",
       "<table border=\"1\" class=\"dataframe\">\n",
       "  <thead>\n",
       "    <tr style=\"text-align: right;\">\n",
       "      <th></th>\n",
       "      <th>text</th>\n",
       "      <th>log_probability</th>\n",
       "      <th>stop?</th>\n",
       "      <th>punctuation?</th>\n",
       "      <th>whitespace?</th>\n",
       "      <th>number?</th>\n",
       "      <th>out of vocab.?</th>\n",
       "    </tr>\n",
       "  </thead>\n",
       "  <tbody>\n",
       "    <tr>\n",
       "      <th>0</th>\n",
       "      <td></td>\n",
       "      <td>-4.612954</td>\n",
       "      <td></td>\n",
       "      <td></td>\n",
       "      <td>Yes</td>\n",
       "      <td></td>\n",
       "      <td></td>\n",
       "    </tr>\n",
       "    <tr>\n",
       "      <th>1</th>\n",
       "      <td>Any</td>\n",
       "      <td>-9.606259</td>\n",
       "      <td>Yes</td>\n",
       "      <td></td>\n",
       "      <td></td>\n",
       "      <td></td>\n",
       "      <td></td>\n",
       "    </tr>\n",
       "    <tr>\n",
       "      <th>2</th>\n",
       "      <td>Canadian</td>\n",
       "      <td>-9.971039</td>\n",
       "      <td></td>\n",
       "      <td></td>\n",
       "      <td></td>\n",
       "      <td></td>\n",
       "      <td></td>\n",
       "    </tr>\n",
       "    <tr>\n",
       "      <th>3</th>\n",
       "      <td>teachers</td>\n",
       "      <td>-10.422482</td>\n",
       "      <td></td>\n",
       "      <td></td>\n",
       "      <td></td>\n",
       "      <td></td>\n",
       "      <td></td>\n",
       "    </tr>\n",
       "    <tr>\n",
       "      <th>4</th>\n",
       "      <td>(</td>\n",
       "      <td>-5.700670</td>\n",
       "      <td></td>\n",
       "      <td>Yes</td>\n",
       "      <td></td>\n",
       "      <td></td>\n",
       "      <td></td>\n",
       "    </tr>\n",
       "    <tr>\n",
       "      <th>5</th>\n",
       "      <td>B.Ed</td>\n",
       "      <td>-19.579313</td>\n",
       "      <td></td>\n",
       "      <td></td>\n",
       "      <td></td>\n",
       "      <td></td>\n",
       "      <td>Yes</td>\n",
       "    </tr>\n",
       "    <tr>\n",
       "      <th>6</th>\n",
       "      <td>.</td>\n",
       "      <td>-3.072948</td>\n",
       "      <td></td>\n",
       "      <td>Yes</td>\n",
       "      <td></td>\n",
       "      <td></td>\n",
       "      <td></td>\n",
       "    </tr>\n",
       "    <tr>\n",
       "      <th>7</th>\n",
       "      <td>holders</td>\n",
       "      <td>-19.579313</td>\n",
       "      <td></td>\n",
       "      <td></td>\n",
       "      <td></td>\n",
       "      <td></td>\n",
       "      <td></td>\n",
       "    </tr>\n",
       "    <tr>\n",
       "      <th>8</th>\n",
       "      <td>)</td>\n",
       "      <td>-5.341753</td>\n",
       "      <td></td>\n",
       "      <td>Yes</td>\n",
       "      <td></td>\n",
       "      <td></td>\n",
       "      <td></td>\n",
       "    </tr>\n",
       "    <tr>\n",
       "      <th>9</th>\n",
       "      <td>teaching</td>\n",
       "      <td>-10.515229</td>\n",
       "      <td></td>\n",
       "      <td></td>\n",
       "      <td></td>\n",
       "      <td></td>\n",
       "      <td></td>\n",
       "    </tr>\n",
       "    <tr>\n",
       "      <th>10</th>\n",
       "      <td>in</td>\n",
       "      <td>-4.585874</td>\n",
       "      <td>Yes</td>\n",
       "      <td></td>\n",
       "      <td></td>\n",
       "      <td></td>\n",
       "      <td></td>\n",
       "    </tr>\n",
       "    <tr>\n",
       "      <th>11</th>\n",
       "      <td>U.S.</td>\n",
       "      <td>-9.187038</td>\n",
       "      <td></td>\n",
       "      <td></td>\n",
       "      <td></td>\n",
       "      <td></td>\n",
       "      <td></td>\n",
       "    </tr>\n",
       "    <tr>\n",
       "      <th>12</th>\n",
       "      <td>schools</td>\n",
       "      <td>-9.661138</td>\n",
       "      <td></td>\n",
       "      <td></td>\n",
       "      <td></td>\n",
       "      <td></td>\n",
       "      <td></td>\n",
       "    </tr>\n",
       "    <tr>\n",
       "      <th>13</th>\n",
       "      <td>?</td>\n",
       "      <td>-4.931884</td>\n",
       "      <td></td>\n",
       "      <td>Yes</td>\n",
       "      <td></td>\n",
       "      <td></td>\n",
       "      <td></td>\n",
       "    </tr>\n",
       "  </tbody>\n",
       "</table>\n",
       "</div>"
      ],
      "text/plain": [
       "        text  log_probability stop? punctuation? whitespace? number?  \\\n",
       "0                   -4.612954                            Yes           \n",
       "1        Any        -9.606259   Yes                                    \n",
       "2   Canadian        -9.971039                                          \n",
       "3   teachers       -10.422482                                          \n",
       "4          (        -5.700670                Yes                       \n",
       "5       B.Ed       -19.579313                                          \n",
       "6          .        -3.072948                Yes                       \n",
       "7    holders       -19.579313                                          \n",
       "8          )        -5.341753                Yes                       \n",
       "9   teaching       -10.515229                                          \n",
       "10        in        -4.585874   Yes                                    \n",
       "11      U.S.        -9.187038                                          \n",
       "12   schools        -9.661138                                          \n",
       "13         ?        -4.931884                Yes                       \n",
       "\n",
       "   out of vocab.?  \n",
       "0                  \n",
       "1                  \n",
       "2                  \n",
       "3                  \n",
       "4                  \n",
       "5             Yes  \n",
       "6                  \n",
       "7                  \n",
       "8                  \n",
       "9                  \n",
       "10                 \n",
       "11                 \n",
       "12                 \n",
       "13                 "
      ]
     },
     "execution_count": 48,
     "metadata": {},
     "output_type": "execute_result"
    }
   ],
   "source": [
    "token_attributes = [(token.orth_,\n",
    "                     token.prob,\n",
    "                     token.is_stop,\n",
    "                     token.is_punct,\n",
    "                     token.is_space,\n",
    "                     token.like_num,\n",
    "                     token.is_oov)\n",
    "                    for token in q]\n",
    "\n",
    "df = pd.DataFrame(token_attributes,\n",
    "                  columns=['text',\n",
    "                           'log_probability',\n",
    "                           'stop?',\n",
    "                           'punctuation?',\n",
    "                           'whitespace?',\n",
    "                           'number?',\n",
    "                           'out of vocab.?'])\n",
    "\n",
    "df.loc[:, 'stop?':'out of vocab.?'] = (df.loc[:, 'stop?':'out of vocab.?']\n",
    "                                       .applymap(lambda x: u'Yes' if x else u''))\n",
    "                                               \n",
    "df"
   ]
  },
  {
   "cell_type": "markdown",
   "metadata": {
    "collapsed": true
   },
   "source": [
    "There - so that is an interesting application of the models that I saw used on the Yelp dataset.\n",
    "\n",
    "The usecase here is slightly different because each question is quite a small snippet of text. This means that analysing the frequency distribution in a particular question is less likely to be useful.\n",
    "\n",
    "Now I'd quite like to attempt a tf-idf (Term Frequency - Inverse Document Frequency) analysis of a group of questions."
   ]
  },
  {
   "cell_type": "code",
   "execution_count": 49,
   "metadata": {
    "collapsed": false
   },
   "outputs": [],
   "source": [
    "import random\n",
    "random.seed(1234)"
   ]
  },
  {
   "cell_type": "code",
   "execution_count": 50,
   "metadata": {
    "collapsed": false
   },
   "outputs": [],
   "source": [
    "nlp_qs = [nlp(q) for q in random.sample(qs,1000)]"
   ]
  },
  {
   "cell_type": "code",
   "execution_count": 51,
   "metadata": {
    "collapsed": false
   },
   "outputs": [],
   "source": [
    "nlp_lemmas = [' '.join([token.lemma_ for token in q]) for q in nlp_qs]"
   ]
  },
  {
   "cell_type": "code",
   "execution_count": 52,
   "metadata": {
    "collapsed": true
   },
   "outputs": [],
   "source": [
    "ch_sets = [set(''.join(q)) for q in nlp_lemmas]\n",
    "chs = functools.reduce(set.union, ch_sets)"
   ]
  },
  {
   "cell_type": "code",
   "execution_count": 53,
   "metadata": {
    "collapsed": false
   },
   "outputs": [
    {
     "name": "stdout",
     "output_type": "stream",
     "text": [
      "0uൺbതa8 hशdr|qn-नz5é.k]vl√?[’്mN✊Pto27म9ാമ*ु:f)3e'\"yRിw1&प4%,g6O;}c+‌s(गച$/രpxij{\\\n"
     ]
    }
   ],
   "source": [
    "print(''.join(chs))"
   ]
  },
  {
   "cell_type": "code",
   "execution_count": 54,
   "metadata": {
    "collapsed": true
   },
   "outputs": [],
   "source": [
    "from sklearn.feature_extraction.text import TfidfVectorizer"
   ]
  },
  {
   "cell_type": "code",
   "execution_count": 55,
   "metadata": {
    "collapsed": false
   },
   "outputs": [],
   "source": [
    "vectorizer = TfidfVectorizer(#stop_words='english'\n",
    "                            ).fit(nlp_lemmas)"
   ]
  },
  {
   "cell_type": "code",
   "execution_count": 62,
   "metadata": {
    "collapsed": false
   },
   "outputs": [
    {
     "data": {
      "text/plain": [
       "['which domain be good for do cse final year project ?',\n",
       " 'how do astronaut pee in zero gravity on the iss ?',\n",
       " 'be there any bad/cruel starks in game of thrones ?',\n",
       " 'how do -PRON- become a great role model for sibling ?',\n",
       " 'do animal cell have cell membrane ? if so , how do -PRON- differ from the one in plant cell ?',\n",
       " 'how can -PRON- simplify   [ math]\\\\frac{2+\\\\sqrt{3}}{\\\\sqrt{8 + 4\\\\sqrt{3}}}[/math ] ?',\n",
       " 'how do -PRON- get vat/tin in gurgaon to sell online ?',\n",
       " 'what be the good social medium organizer app ?',\n",
       " 'should all theist ask question about atheism be advise to read -PRON- with theist instead of atheist in -PRON- first ?',\n",
       " 'can -PRON- travel to mexico without a passport ?',\n",
       " 'describe a morning where -PRON- have lose -PRON- sight and be force to find -PRON- way to work without -PRON- eyesight and everybody else be blind ?',\n",
       " 'can -PRON- know the advantage and disadvantage of the metahuristic ?',\n",
       " 'what be the darpu for yammer ?',\n",
       " 'why do -PRON- have practical record in engineer college ?',\n",
       " 'who will win the world series ?',\n",
       " 'how many minute will -PRON- walk to cover 1 mile ?',\n",
       " 'how do -PRON- become the team manager ?',\n",
       " 'if -PRON- stop use borland delphi as -PRON- main programming language , then what should -PRON- replace -PRON- with ?',\n",
       " 'how do -PRON- trade cny/inr currency pair ?',\n",
       " 'can -PRON- drag - and - drop application on window to a different folder ?',\n",
       " 'why should the government not own company even if -PRON- make profit ?',\n",
       " 'why do quora discriminate between user allow different amount of question detail for different user ?',\n",
       " 'what be hibernate validation ?',\n",
       " 'how can -PRON- find out what fraction of employee be technology worker by industry ?',\n",
       " 'why and how do 3 g capital start the beer busines ?',\n",
       " 'how can -PRON- increase -PRON- follower count in quora ?',\n",
       " 'how do burmese and siamese cat look like ?',\n",
       " 'do drink too much cause hickup ?',\n",
       " 'what be some way -PRON- can become a good writer ?',\n",
       " 'how can -PRON- develop a website builder ?',\n",
       " 'what company be similar to ideo in brazil ?',\n",
       " 'why do people say jimmy carter ruin iran ?',\n",
       " 'what be the good thing to do after diploma ?',\n",
       " 'what be some thing new employee should know go into -PRON- first day at armor minerals ?',\n",
       " \"what be good gift for a foreign visitor to br when -PRON- be invite to someone 's home in australia for the first time ?\",\n",
       " 'be a earthworm unicellular or multi cellular ?',\n",
       " 'which sort algorithm have the good case time complexity ?',\n",
       " 'can a company criticize another company ? be there any legal issue',\n",
       " 'will have chartered accountant knowledge help in the stock market ?',\n",
       " 'how can -PRON- make a multiplayer game in android ?',\n",
       " 'be mathematician good at play piano ?',\n",
       " 'what be good music surround system for dance home ?',\n",
       " \"how be the word ' profound ' use in a sentence ?\",\n",
       " 'why do lucifer rebel against god ?',\n",
       " 'what be the most impressive inpatient drug and alcohol rehab center in maricopa county arizona ?',\n",
       " '-PRON- be fat and ugly boy and -PRON- sister be slim and beautiful . everybody in the family praise -PRON- for -PRON- look . nobody praise -PRON- . what should -PRON- do ?',\n",
       " 'have there ever be a u.s. president elect who , under normal circumstance , would be ineligible for security clearance ? if so , what be do ?',\n",
       " 'how can -PRON- transfer photoe and vidio from dropbox to google photoe by use -PRON- smart phone ?',\n",
       " 'why be cricket not popular in scotland as in england ?',\n",
       " 'how would -PRON- maximize -PRON- trading gain if -PRON- have a one - time superpower and know that s&p 500 would close at a certain point on a certain day ?',\n",
       " 'how can -PRON- stop nail bite habit ?',\n",
       " 'be someone interested to make a group for learn n try to become perfect in english fr sme competitive exam ?',\n",
       " 'how likely be employment after graduate with an entrepreneurship degree if -PRON- know -PRON- wo not have money of -PRON- own to start a busines out of college ?',\n",
       " 'can -PRON- keep photo in icloud and delete on iphone with ios 10 ?',\n",
       " 'what be the english word for മൺചിരാത്\\u200c ?',\n",
       " 'how do -PRON- search for a roommate in bangalore ?',\n",
       " 'how be -PRON- possible for teacher to adopt different teaching method and technique to keep student engage ?',\n",
       " \"what do quorans think of dinesh d'souza and -PRON- opinion of president obama ?\",\n",
       " 'which university offer phd degree in sustainable energy ?',\n",
       " 'do woman feel uncomfortable in short dresses/mini skirt ? if so , why do -PRON- wear -PRON- ?',\n",
       " 'what be the good political system ?',\n",
       " 'what be the good online clothing store in london ?',\n",
       " 'do -PRON- ever get confused for the opposite gender ?',\n",
       " '-PRON- want to join the indian air force in the ground duty branch but -PRON- be a flat foot . will -PRON- be able to clear the medical standard ?',\n",
       " 'what be the aspect of political culture ?',\n",
       " 'how much of shantaram be fictional ?',\n",
       " 'what can be the good idea to become an entrepreneur ?',\n",
       " 'how much nicotine be in american spirit cigarette ?',\n",
       " 'why americans will escape to canada when trump will rule the usa ?',\n",
       " 'do -PRON- ne to be good at math to be a good database administrator ?',\n",
       " 'what be the total amount of energy contain in the universe ?',\n",
       " 'what be the good abs workout at home to get six pack ab ? 15 year old ?',\n",
       " 'why be yagami light call light ?',\n",
       " \"what be mean by a ' cuspate delta ' ?\",\n",
       " 'why be only hindus allow in jagannath temple in puri ?',\n",
       " 'why do -PRON- have to let -PRON- go ?',\n",
       " 'do anyone find parasyte maxim a good anime to watch ?',\n",
       " 'why can not -PRON- configure the d - link ap with a d - link router ?',\n",
       " '-PRON- earn $ 250,000 per annum at google . how much should -PRON- expect from facebook ?',\n",
       " 'which company be hire ios developer in nyc ?',\n",
       " 'which be the top software company in ahmedabad for php developer ?',\n",
       " 'what be the two structure of a viru ?',\n",
       " 'what be the good custom essay writing service that can be use for academic task ?',\n",
       " 'how do -PRON- find out if -PRON- be adopt ?',\n",
       " 'if infinite dark/vacuum/gravitational energy can be create as universe expands , do -PRON- mean that -PRON- potentiality or potential energy be infinite ?',\n",
       " 'what be the good service that will notify -PRON- when -PRON- favorite band put out new disc and/or come to -PRON- town on tour ?',\n",
       " 'which be some useful app for android on google play store ?',\n",
       " 'how do self clean oven work ? be -PRON- a good alternative to regular oven ?',\n",
       " 'how do -PRON- install hadoop on ubantu ?',\n",
       " 'why do -PRON- hate c++ ?',\n",
       " 'what be the most disturbing truth about money ?',\n",
       " 'what be some extinct religion ?',\n",
       " 'in the nfl , what be the good head coach hire decision over the past 10 - 20 year ?',\n",
       " 'what be sup critical boiler ?',\n",
       " 'how do -PRON- prepare for viteee 2016 for pcb ?',\n",
       " 'how reliable be mini coopers ?',\n",
       " 'what be some way to lace etnie shoe ?',\n",
       " 'how much real money would -PRON- cost to upgrade archer queen from level 1 to level 40 ?',\n",
       " 'what be bloomberg vcon ?',\n",
       " 'which be the good hospital in kolkata for skin treatment ?',\n",
       " 'how can -PRON- make free mas p2p ach payment ?',\n",
       " 'how can atom and aora by aspen become compatible with exaquantum historian ?',\n",
       " 'what make -PRON- good than trump ? why should -PRON- vote for -PRON- ?',\n",
       " 'be plank exercise dangerous ?',\n",
       " 'do skip increase height ?',\n",
       " 'what be the interview question for civil engineer ?',\n",
       " 'do people with aspergers have a full range of emotion or do -PRON- have \" different \" version of common emotion ?',\n",
       " 'be there a way to make a down arrow on the keyboard ?',\n",
       " 'will -PRON- get an admission into a medical college if -PRON- score less than 550 or 500 in neet ?',\n",
       " 'how do the rothschild family get -PRON- money ?',\n",
       " 'what do not an iq test measure ?',\n",
       " 'what do an international student ne to get a scholarship for mit ?',\n",
       " 'who be the most inspirational person to -PRON- ?',\n",
       " 'how can -PRON- get into google as a software engineer ?',\n",
       " 'what be some good mythical creature ?',\n",
       " 'how can -PRON- recover a delete snapchat account ?',\n",
       " 'where can -PRON- buy gourmet cheese online ?',\n",
       " 'be cros - validation a good way to judge if a machine learn algorithm generalize for the task of auto - encoder ?',\n",
       " 'how do -PRON- get start with cybersecurity ?',\n",
       " 'what payment gateway tip -PRON- have for -PRON- online store ?',\n",
       " 'be canada better than the usa ?',\n",
       " \"who be the university of tennessee 's mascot ? how be -PRON- establish ?\",\n",
       " 'why be the number of wave make by an electron in any orbit equal to the principle quantum number ?',\n",
       " 'should -PRON- watch \" stranger thing \" ?',\n",
       " 'what be the corporate culture like at annaly capital ? how be the culture different than oth company ?',\n",
       " 'be -PRON- diffult to become a doctor ?',\n",
       " 'when pokémon go will be available for download in india on android ?',\n",
       " '-PRON- live with -PRON- mom and -PRON- be always argue and -PRON- be always blame -PRON- for thing and -PRON- never want to talk to -PRON- and -PRON- tell -PRON- that -PRON- do not care about -PRON- and that -PRON- want -PRON- out of the house and -PRON- never let -PRON- hang out with anyone or leave the house . what should -PRON- do about -PRON- ?',\n",
       " 'be homosexuality associate with certain disease or oth health issue ?',\n",
       " 'what cause uneven facial hair growth pattern ? how can -PRON- be correct ?',\n",
       " 'how can -PRON- be tension free ?',\n",
       " 'what be the good keyword research tool for search engine optimization ?',\n",
       " 'how much do the maybach landaulet cost ?',\n",
       " 'why be the android file system so complex ?',\n",
       " 'why do god create only two main gender , male and female ?',\n",
       " 'what be good for the human race . bature vs nurture ?',\n",
       " 'how important be further mathematic in a - levels ?',\n",
       " 'how do paypal use debit card ?',\n",
       " 'do the clinton campaign plant operative on quora ?',\n",
       " '-PRON- be 22 , be -PRON- too late to enter stock market ?',\n",
       " 'how long do hypomania in bipolar 2 patient usually last if leave untreated ?',\n",
       " 'how can -PRON- learn something ?',\n",
       " 'what be ngdp targeting and what be some argument for/against this as a us monetary policy ?',\n",
       " '-PRON- have a knee fracture in 2013 & -PRON- have -PRON- med test for the indian air force & the doc say that -PRON- bone be join incorrectly ?',\n",
       " 'advertising agencies : how many people do company typically expect to reach when launch a $ 100.000 , $ 500.000 or $ 1.000.000 campaign ?',\n",
       " 'how can -PRON- become datum scientist after do computer scienceengineering ?',\n",
       " 'how do the louisiana purchase change the united states ?',\n",
       " 'how many ladyboy be in thailand ?',\n",
       " 'be the planet earth flat , hollow , or round ?',\n",
       " 'do -PRON- believe in astrology or palmistry ? if yes , why ?',\n",
       " 'where be -PRON- husband find -PRON- now ?',\n",
       " 'what be -PRON- review of jawaharlal nehru technological university ( jntu ) ?',\n",
       " 'what be hbx analytic ?',\n",
       " 'be -PRON- ok to let -PRON- work be the one thing that define -PRON- ?',\n",
       " 'what be the pro and con of netbeans ide for web development ?',\n",
       " 'what be the good website for career advice ?',\n",
       " 'what do greeks and italians know and think about -PRON- share history with persia ( include war , cultural exchange and art ) ?',\n",
       " 'when do the allies know about the holocaust ?',\n",
       " 'what happen to ning as of july 2016 ?',\n",
       " 'how much do -PRON- cost to build typhoon lagoon ?',\n",
       " 'how do -PRON- clean off an old knife blade ?',\n",
       " 'what be some local law in regard to nudity in vermont , and how do -PRON- differ from nudity law in kansas ?',\n",
       " 'what be the good rock dubstep song ?',\n",
       " 'what will happen to human body when -PRON- be expose to out space ? will human body rotate around earth forever , if leave there to rotate ?',\n",
       " 'what should -PRON- do to have sex with as many woman as possible ?',\n",
       " 'what be the good off - broadway musical ?',\n",
       " 'how do -PRON- sweat easily for a person who be suffer with cholinergic urticaria or hive ?',\n",
       " 'what be the meaning of puku ?',\n",
       " 'what be the good book on chanakya ?',\n",
       " \"be one full year 's preparation enough to crack the ias ?\",\n",
       " 'what be -PRON- good study tip ?',\n",
       " 'what rock band be the most overrated ?',\n",
       " \"grubwithus : who be grubwith.us ' competitor ?\",\n",
       " 'what be the good wysiwyg editor for drupal 7 ?',\n",
       " 'which currency should -PRON- pay -PRON- debt with ?',\n",
       " 'rearrange the letter in the word \" rite \" in order to make a new word . which sentence below describe the new word ?',\n",
       " 'why do not quora display the name of the person who ask the question , or the date the question be ask ?',\n",
       " '-PRON- be 40 year old woman who have never be in a relationship . how do -PRON- get start ?',\n",
       " 'what be the problem in -PRON- code ?',\n",
       " 'what do -PRON- find beautiful about the female body ?',\n",
       " 'be -PRON- bisexual , lesbian or straight ?',\n",
       " 'how can -PRON- remember -PRON- word better ?',\n",
       " 'why do people feel the need to hate apple product ?',\n",
       " 'what make mayonnaise a dairy product ?',\n",
       " 'what basically be the function of main ( ) ?',\n",
       " 'where can -PRON- get cheap football replica jersey ( full sleeve ) in pune ?',\n",
       " 'why do only the union territory of delhi and puducherry have chief minister and not other ?',\n",
       " 'if human have eternal soul what be the point of -PRON- have body ?',\n",
       " 'what should -PRON- do ?',\n",
       " 'why do earthquake happen ?',\n",
       " 'how reliable be storenvy ?',\n",
       " 'what be the change -PRON- observe in people the moment -PRON- tell -PRON- that -PRON- have a phd ?',\n",
       " 'what be the ending of \" the aviator \" try to show ?',\n",
       " 'what be the improve india movement ? who lead -PRON- ?',\n",
       " 'be -PRON- important to learn mysql for learn php ?',\n",
       " '-PRON- believe -PRON- wife be cheat . how can -PRON- hack -PRON- iphone 5s ?',\n",
       " 'who do -PRON- think -PRON- be in a past life ?',\n",
       " 'why do not indian army show the face of terrorist who attack uri base camp so that everyone can know about terrorist whereabout ?',\n",
       " 'can -PRON- use quantum entanglement to travel through time ?',\n",
       " 'why be most of the schemes/offer not applicable in the state of tamil nadu ( india ) ?',\n",
       " 'how do -PRON- know about mobile phone battery timing ? how long will the battery life time be if -PRON- have 1000mah , 2000mah , 3000mah ? be mah the only metric for battery timing or do -PRON- also depend on oth factor ?',\n",
       " 'can -PRON- give -PRON- some linear equation ?',\n",
       " 'what be the difference between industrial design and engineering ?',\n",
       " 'why do -PRON- have a fear of reverse age ?',\n",
       " 'how can -PRON- get mooc/e - learn through online web and video course relate to pharmacy develop by indian professorial/professor ?',\n",
       " 'how be sprite as a hangover cure ?',\n",
       " 'what be actual height of bollywood star ?',\n",
       " 'what be the good avenge sevenfold song ?',\n",
       " 'what be the must - have app for travel ?',\n",
       " 'what book and study material -PRON- will ne for political science and ir for cse optional ?',\n",
       " 'what be a recipe for pizza bagel ?',\n",
       " 'what be the strength and weakness of the advise system at eastern illinois university ?',\n",
       " 'be crax good for health ?',\n",
       " 'will there be a lenovo a7000 plus variant ?',\n",
       " 'what be the good tourist destination for culture in nigeria ?',\n",
       " 'how can -PRON- prepare -PRON- to crack the nid postgraduate entrance exam ?',\n",
       " 'be -PRON- a problem when a laptop run out of power while travel without power bank ?',\n",
       " 'what be -PRON- like to live in mumbai , india ?',\n",
       " 'would -PRON- get a call from iit - kharagpur , iit kanpur , iit roorkee & iit madras for -PRON- mba programme with 93.3 percantile in cat-15 ?',\n",
       " 'what be cause by astigmatism ?',\n",
       " \"what have member of khizr khan 's family accomplish personally and professionally since emigrate to the united states from pakistan in the 1980 ?\",\n",
       " 'who invent the submarine ?',\n",
       " 'what be some tip for get high score in imbroglio ( ios game ) ?',\n",
       " 'how common be -PRON- for iphone user to create a game center account ?',\n",
       " 'how do some student score very well without study much ?',\n",
       " 'what advice would -PRON- give to a 15 year old boy ?',\n",
       " 'what be some good historical documentary ?',\n",
       " 'what be the gun carry by annie walker in season 3 episode 14 of covert affairs ?',\n",
       " 'how fast do phone led flash degrade ?',\n",
       " 'can -PRON- write a sentence that begin with \" -PRON- be \" ?',\n",
       " 'what make spark faster than mapreduce ?',\n",
       " 'do most people have eye floater when -PRON- look at the sky or oth bright thing ?',\n",
       " 'do quora pay well - know people for submit -PRON- answer ?',\n",
       " 'be -PRON- possible to end the terrorism completely or not ?',\n",
       " 'how much profit per trade do hft firm target while trading in indian market ?',\n",
       " 'what do -PRON- feel like for someone with borderline pd to be drunk ?',\n",
       " 'what be the good time to buy a car ?',\n",
       " 'which iit be good for pursue an mtech in civil engineering ?',\n",
       " 'how can -PRON- join the us military without be a us citizen or pr ?',\n",
       " 'what do iranians think about israel ?',\n",
       " 'what be some of the advantage and disadvantage of arrange marriage ?',\n",
       " 'why do -PRON- want to work for ?',\n",
       " 'be there a way -PRON- can just unlock 10% of -PRON- brain ?',\n",
       " 'what be the anti - arrhythmic mechanism of esmolol ?',\n",
       " 'why be sweden able to stay neutral ?',\n",
       " 'how can -PRON- file complaint against apartment complex and what be some example ?',\n",
       " 'can -PRON- work in india after persu llb from abroad ?',\n",
       " 'what be a suitable inpatient drug and alcohol rehab center near franklin county al ?',\n",
       " 'mydad have a low sugar level of 68mg/dlhe have start act completely differently and have psychologically change . -PRON- do remain depressed wht to do ?',\n",
       " 'how will the demonetization of 500 and 1000 rupee note affect the value of inr against usd ?',\n",
       " 'why do electron move from depletion region to cathode in photodiode and depletion region to base in the base - collector junction of phototransistor ?',\n",
       " 'why be study important ?',\n",
       " 'how be russia a superpower ?',\n",
       " 'how can -PRON- improve -PRON- general awarenes ?',\n",
       " 'how long do -PRON- take -PRON- to write one page ?',\n",
       " 'be the film bahubali release in bangladesh ?',\n",
       " 'how would -PRON- write -PRON- into fantastic beast and where to find -PRON- ?',\n",
       " 'will gary johnson be include in the presidential debate for the 2016 general election ?',\n",
       " 'why be the aboriginals so primitive ?',\n",
       " 'what kind of freelance project(c ) do earn the most ?',\n",
       " 'what be verilog and where be -PRON- use in real life ?',\n",
       " 'how do -PRON- tell uber -PRON- want to pick up another passenger on the way to -PRON- final destination ?',\n",
       " 'which be the good engineering college in chennai ?',\n",
       " 'do -PRON- like spanking or be spank ?',\n",
       " 'what be the good time to sell a property in india after the recent demonetization of currency ?',\n",
       " 'how can -PRON- increase the size of -PRON- buttock ?',\n",
       " 'what be the easy way to learn 3d max ?',\n",
       " 'what be the belief of aristotle ?',\n",
       " 'do youtube certification in audience growth give -PRON- knowledge that can significantly boost youtube view ?',\n",
       " 'how can -PRON- make money from trade ?',\n",
       " 'what do -PRON- mean to have chemistry with someone ?',\n",
       " '-PRON- ex boyfriend lie to -PRON- on -PRON- first date about be marry what should -PRON- do ?',\n",
       " 'be quora a safe way to date than craigslist ?',\n",
       " \"what be the english meaning of ' kaju ' ?\",\n",
       " 'what be the per question weightage ( mark ) in the engineering service exam objective paper ?',\n",
       " \"why haven't isi attack israel with a terrorist attack similar to -PRON- attack across the middle east and in france ?\",\n",
       " 'grammar : when should -PRON- say -PRON- have have or -PRON- have ?',\n",
       " 'could dark matter exist in small clump here on earth ?',\n",
       " 'which be the good site for online movie ?',\n",
       " 'how can some people still believe the world be flat ?',\n",
       " 'what be the similarity and difference between the two relativity theory ? ( special & general )',\n",
       " 'where can -PRON- buy second hand bike in pune ?',\n",
       " 'what be -PRON- like to work at industrybuying.com ?',\n",
       " 'how many heterosexual woman have \" dip in the lady pond \" once or twice ?',\n",
       " 'why do gordon ramsay like to curse ?',\n",
       " 'video games : could -PRON- be possible to create a video game that be high art ?',\n",
       " 'could anyone jump from free fall object ? if yes , explain how . if not pl also explain why no ?',\n",
       " 'what be the good way to delete -PRON- kijiji account ?',\n",
       " 'what be the future of civil engineer in india ?',\n",
       " 'what be -PRON- like to have parent who both attend harvard ( or any oth elite university ) ?',\n",
       " '-PRON- hear the work culture in barc be bad , be -PRON- true ?',\n",
       " 'how can -PRON- start a small scale 3d printing busines ?',\n",
       " 'can -PRON- use any full cover fake/acrylic nail for uv gel ?',\n",
       " 'be -PRON- bad to fail at something or never attempt -PRON- in the first place ?',\n",
       " 'be indian education system right to br good of indian talent forward to serve the country , or any particular field ?',\n",
       " 'how be junior college in singapore compare to pakistan ?',\n",
       " 'why be not there any international cricket stadium in coimbatore ?',\n",
       " 'how do an instant messenger work ?',\n",
       " 'what be some example of great mentor in the history of the world ?',\n",
       " 'during ww ii how many german soldier impregnate -PRON- wife before go to the war ?',\n",
       " 'why be -PRON- vein very visible on -PRON- hand , arm , leg , and foot ?',\n",
       " \"what be the correct pronunciation of ' the ' ?\",\n",
       " 'what be the great lie ever tell ?',\n",
       " 'what be the most expensive item list on amazon ?',\n",
       " 'what people do with -PRON- free time ?',\n",
       " 'what be palmer raids a reaction to ?',\n",
       " 'what be the difference between story writing and screenplay writing for movie ?',\n",
       " 'should -PRON- buy a samsung galaxy note 4 now ? be -PRON- a wise choice now ?',\n",
       " 'what be the good and bad thing about city living ?',\n",
       " 'be there any truly capitalist or socialist country ?',\n",
       " 'what do each check box mean when a message be send on messenger ? how do -PRON- know when -PRON- have be read ?',\n",
       " 'what be some special care for someone with a nose that get stuffy during the night ?',\n",
       " 'how do -PRON- get dead people off busines junk mail list faster ?',\n",
       " 'do canadian university accept 3 year bachelor program from india for pursue m ?',\n",
       " 'be there a pattern to the prime number ?',\n",
       " 'what be the elasticity of substitution ?',\n",
       " 'if silicon valley startup be tech and ip drive , and la startup be busines model drive , what be startup from nyc ? and oth city ?',\n",
       " 'what impact do demonetize the 500 and 1000 rupee note will have on rupee ’s value against oth currency ?',\n",
       " 'what be the side effect of 100 piper scotch whiskey ?',\n",
       " 'what be the difference between \" neutral axi \" and \" centroidal axi \" ?',\n",
       " 'what be the good indian tv serie ?',\n",
       " '-PRON- think vodka be suppose to be colourles , odourles and tasteless . how be -PRON- suppose to be able to choose good quality vodka to drink ?',\n",
       " 'who can help -PRON- deal with the australia student visa ?',\n",
       " \"-PRON- can not finish cognizant 's eugenic . -PRON- be show that -PRON- have only complete 33% even after -PRON- completion . what should -PRON- do ?\",\n",
       " 'any recommendation for a cms that provide geo target content functionality ?',\n",
       " 'what be the long term effect of world war -PRON- ?',\n",
       " 'stephanie macmahon : when will john cena turn heel ?',\n",
       " \"in the proces of deindustrialization as a country 's economy move from manufacturing to service sector , do -PRON- go through recession ?\",\n",
       " 'which be cheap , fastest and simple email marketing tool ?',\n",
       " 'what be the good alternative to alexa.com ?',\n",
       " '-PRON- just jump out of -PRON- sleep and feel -PRON- body buzz and -PRON- can not remember if -PRON- heart be stop or beat really fast . what be wrong with -PRON- ?',\n",
       " 'what be the good price to buy a share ?',\n",
       " \"what will be the effect on commodity ( silver/gold ) because of china 's economy collapse ?\",\n",
       " 'why do hdtv do not support hdcp ?',\n",
       " 'why do people shout ?',\n",
       " 'why do people feel patriotic only towards -PRON- country ?',\n",
       " 'which be the good book for inorganic chemistry ?',\n",
       " 'what be the infinitive verb ?',\n",
       " 'how do -PRON- improve -PRON- concentration while study for exam ?',\n",
       " \"what should be one 's jee main score to get cse at nit tirchy with sc reservation ?\",\n",
       " \"how do -PRON- post a ' move to ' statu on facebook with the house symbol ?\",\n",
       " 'how do -PRON- make money online with decent photoshop skill ?',\n",
       " 'why be the flywheel in a 2 stroke engine light than in a 4 stroke engine ?',\n",
       " 'why do -PRON- say on instagram that a username be unavailable when -PRON- just get delete ?',\n",
       " 'how do -PRON- finalize sign up with quora ?',\n",
       " 'how do a girl feel during -PRON- first period ?',\n",
       " 'what be some funny bar trivium team name ?',\n",
       " 'startup law : how common be the anti - dilution provision for vc in a series a round ?',\n",
       " 'how can -PRON- make money buying from aliexpress and sell -PRON- in -PRON- country ?',\n",
       " 'what be difference between \" come in \" and \" come on in\"?which be the correct usage ?',\n",
       " 'what be -PRON- review proces of a*star ( agency for science , technology and research , singapore ) ?',\n",
       " 'what be the step involve in board an international flight like from new delhi to london from the moment -PRON- reach airport ?',\n",
       " 'what be the good suited material use to make a quadcopter or the material use in the body frame of dji phantom quadcopter ?',\n",
       " 'what university do roadrunner trans recruit new grad from ? what major be -PRON- look for ?',\n",
       " 'if -PRON- go from enlisted to officer , do -PRON- time spend as an enlist member count towards -PRON- overall time in service ?',\n",
       " 'why do mohammed order muslims to sever all tie with -PRON- parent and all oth family member until -PRON- embrace islam ?',\n",
       " 'why be -PRON- obsess with depressing quote , and music ?',\n",
       " 'what happen if line bleed and shed during pregnancy ?',\n",
       " 'which iphone should -PRON- buy , the iphone 6s plus or iphone 7 ?',\n",
       " 'how do -PRON- prepare for cds and ssb ?',\n",
       " 'who will donald trump appoint to the supreme court ?',\n",
       " 'how dangerous be -PRON- to pick up hitchhiker ?',\n",
       " 'how can -PRON- tie - dye this soccer jersey ?',\n",
       " 'be modi never corruptible ?',\n",
       " '-PRON- resign -PRON- job due to transfer to oth state , 5 yr work for the company , -PRON- be 3mnth , now the company want to retain -PRON- with salary hike ?',\n",
       " 'what be drop shipping ?',\n",
       " '-PRON- have begin teach -PRON- a new language . -PRON- be afraid that after a month or two , -PRON- enthusiasm will fizzle out and -PRON- will start slack off . how can -PRON- keep -PRON- motivated to stick with this endeavor ?',\n",
       " 'what be the most popular name ?',\n",
       " 'what be the application area of mdn ?',\n",
       " 'be world war 3 more imminent than expect ?',\n",
       " 'what be some option for a biology student after clas 12th in india ?',\n",
       " 'could cat exam and mat exam take place on same day ( 4th december 2016 ) ?',\n",
       " 'how should -PRON- invest $ 3000 ?',\n",
       " 'what do the expression \" smoke and mirror \" mean ?',\n",
       " 'how do -PRON- get into isro or drdo after complete a btech in cse ?',\n",
       " 'do any one have ebook of answer of wren and martin grammer and composition ?',\n",
       " 'hi everyone . be there any good site for watch movie with subtitle for free ?',\n",
       " 'what be some low fluoride tea ( from the camellia sinensi plant ) ?',\n",
       " 'when be quora launch ?',\n",
       " 'what be amazon prime now ?',\n",
       " \"what be -PRON- like to ride in uber 's self - drive car ?\",\n",
       " 'what do -PRON- generally call a person that create / make / do busines ?',\n",
       " 'where to invest ? tomorrow -PRON- will be go to invest stock for the first time . can any one suggest which one to buy ? -PRON- will be invest 1k-2k inr ?',\n",
       " '-PRON- be a single female . -PRON- be almost 29 and -PRON- do want to eventually get marry , have child and live in a nice house . currently far from this , should -PRON- be worry ?',\n",
       " 'what be the meaning of पशुगमन ?',\n",
       " 'what make university of pennsylvania ( u penn ) a great school ?',\n",
       " 'be there artist active today who embrace element of wabi - sabi in -PRON- work ?',\n",
       " 'what be the most overrated accelerator and why ?',\n",
       " 'what be the difficult part of be a qa engineer ?',\n",
       " 'what do this emoticon mean ✊ ?',\n",
       " 'what be food that start with w ?',\n",
       " 'how much wwe earn per weekly raw show ?',\n",
       " 'be basa fish good for health ?',\n",
       " 'which s the good book for ibps -PRON- offcer ?',\n",
       " 'which be the good approach to measure roi of csr initiative ?',\n",
       " 'what be the difference between grand central station and grand central terminal ?',\n",
       " 'why be not there a single modern latin language like modern greek ?',\n",
       " 'what be feeder ?',\n",
       " 'what be some useful equation in civil engineering ?',\n",
       " 'which tv serie can be compare to the friend ?',\n",
       " 'what be -PRON- review of seaworld parks & entertainment ?',\n",
       " 'what be some interesting farewell email ?',\n",
       " 'why be candy crush so addictive ?',\n",
       " 'what do -PRON- kundali reveal about career ?',\n",
       " 'what be cob grow light ?',\n",
       " \"what be the job opportunity after get a master 's degree in mechanical engineering in germany ?\",\n",
       " 'how should -PRON- celebrate -PRON- 18th birthday ?',\n",
       " 'how would -PRON- go about to assassinate the president of the usa ?',\n",
       " 'what would mike pence do as a president or vice president ?',\n",
       " 'how shall -PRON- report a question ?',\n",
       " 'do russians listen to american music ?',\n",
       " 'reception definition ?',\n",
       " 'what be the good pre workout drink before a long run ?',\n",
       " 'be -PRON- legal to own a grenade in the us ?',\n",
       " 'where can -PRON- order whale milk online ?',\n",
       " 'which be the good alternative rock band and why ?',\n",
       " 'can sugar go bad ? why or why not ?',\n",
       " \"what trick do -PRON- use with apple 's ios10 ?\",\n",
       " 'how can -PRON- know if a girl have a day of -PRON- period ?',\n",
       " 'how can -PRON- develop an e - commerce website ?',\n",
       " 'how can -PRON- make great chili burger pizza ?',\n",
       " 'what gate rank be require to get into psu like ongc and iocl ?',\n",
       " 'what be the prop form for do squat without weight ?',\n",
       " 'why do -PRON- think people be support trump ?',\n",
       " 'what be the past participle of \" hear \" ?',\n",
       " 'should the age of majority be lower to 12 ?',\n",
       " 'what could be an innovative and presentable project by ece student in 2nd year ?',\n",
       " 'what be a good gaming laptop below $ 700 ?',\n",
       " 'which online forum( ) can one find the most rational , productive and insightful discussion on the planet ?',\n",
       " 'how can -PRON- find a person with only -PRON- picture ?',\n",
       " 'what could be do to solve the water problem in india ?',\n",
       " 'can -PRON- be both spontaneous and successful ?',\n",
       " 'why be there no apple pay show on the wallet app ?',\n",
       " '-PRON- be sort of an introvert . kindly tell -PRON- how to begin a conversation with a total stranger ?',\n",
       " 'how be the enthalpy of combustion of octane determine ?',\n",
       " 'how many attempt can a person make for gate ?',\n",
       " 'what be the meaning of the punjabi word \" bulleya \" ?',\n",
       " 'where can -PRON- find experience & friendly team of counsellor and psychotherapist in sydney ?',\n",
       " '-PRON- want to discontinue 5 plan 149 jeevan anand & 3 plan 165 jeevan saral policy . what should -PRON- do ?',\n",
       " 'how far could jet li go in the ufc if -PRON- really train for -PRON- while in -PRON- physical prime ?',\n",
       " \"what cause black spot on a cat 's gum ?\",\n",
       " 'how do -PRON- convince people with mathematical proof that nothing can go faster than the speed of light ?',\n",
       " 'why do -PRON- cat get mad when -PRON- pet -PRON- ?',\n",
       " 'what be domestic shipping ? what be -PRON- use for ?',\n",
       " 'how do -PRON- feel to have climb mount everest ?',\n",
       " 'what be some thing new employee should know go into -PRON- first day at tyson foods ?',\n",
       " 'where can -PRON- the watch the english dubbed , naruto shippuden episode 362 ?',\n",
       " 'why degree in psychology ?',\n",
       " 'what be the good technology wallet -PRON- probably should buy ?',\n",
       " 'what do social study include ?',\n",
       " '-PRON- be in a long distance relationship . -PRON- can not get -PRON- boyfriend to talk to -PRON- , yet -PRON- spend a great deal of time on quora . what do -PRON- do ?',\n",
       " 'how can -PRON- get better at talk to stranger ?',\n",
       " 'which city be best to visit milan , venice , florence or rome ?',\n",
       " 'oceanography : after a day spend in the ocean , why be -PRON- -PRON- still feel the wave when -PRON- be lay still at night ?',\n",
       " 'which be a suitable solar panel installation provider in lamont , california ca ?',\n",
       " 'what be great example of self - sacrifice ?',\n",
       " 'how can -PRON- get rich quick in london ?',\n",
       " 'what be some thing new employee should know go into -PRON- first day at first potomac realty ?',\n",
       " 'how often can -PRON- high - five -PRON- ?',\n",
       " 'what be the good book for psychology ?',\n",
       " 'how long do a quality mattres last ?',\n",
       " 'what legality do -PRON- have to deal with when -PRON- turn 18 ?',\n",
       " 'be there a cold war between pakistan and india ?',\n",
       " 'be be a perfectionist a strength or a weaknes ?',\n",
       " 'how long would -PRON- take to walk across tokyo ?',\n",
       " 'be -PRON- unethical to block ad on mobile app when there be option to pay to remove ad ?',\n",
       " 'what be non - fiction ?',\n",
       " \"what would really happen if someone 's neck be to be snap , like in action movie ?\",\n",
       " 'after a person complete a statement when rhetorical word be involve and catch on by a listener , be -PRON- technically ( or politically ) correct to state that the person be \" use \" rhetoric , \" be \" rhetorical , or be both the same ?',\n",
       " 'what be the fourier transform of this ?',\n",
       " 'in term of general relativity , how do the moon create tide ?',\n",
       " 'be type 2 diabete genetic ?',\n",
       " \"can -PRON- re - purpose someone else 's patented invention and patent -PRON- ?\",\n",
       " 'can -PRON- use ruby for build app and game on io and android ?',\n",
       " 'what be the difference between arthematical and analytical calculation ?',\n",
       " 'which country in the world be consider to have the good foreign policy ? why ?',\n",
       " 'should -PRON- write \" to give , to show and to influence \" or \" to give , show , and influence \" ?',\n",
       " 'as an indian , how can -PRON- join a fight against isis ?',\n",
       " 'what be a math trick that be not very well - know ?',\n",
       " 'when do -PRON- use semi colon ?',\n",
       " 'why be everybody still pretend there be one china ?',\n",
       " 'when can -PRON- test for pregnancy ?',\n",
       " 'what be a white dwarf and how do -PRON- form ?',\n",
       " 'what be good mixer with fireball whiskey ?',\n",
       " 'why do -PRON- use rocket instead of airplane ?',\n",
       " 'what do south koreans think about indonesia ?',\n",
       " \"why be some americans so upset about trump 's be elect as president of the u.s. ?\",\n",
       " 'can -PRON- still be pregnant ?',\n",
       " \"can a shopping portal use image of product from -PRON- official company 's website ?\",\n",
       " 'what be the reason for rural - urban migration in india ?',\n",
       " 'how do -PRON- eat tampico pop ?',\n",
       " 'which place in the world change -PRON- personality ?',\n",
       " 'what toni morrison book should -PRON- start out with , and be there anything -PRON- should know before -PRON- start read -PRON- novel ?',\n",
       " 'what make woman or girl hard to understand ?',\n",
       " 'what be the most secure web browser ?',\n",
       " 'be -PRON- possible to make a living by be a film extra ?',\n",
       " 'do -PRON- think the world would have be more peaceful if there be no religion ?',\n",
       " 'where do -PRON- catch a gastly in pokemon go ?',\n",
       " 'what be -PRON- review of ourcampus.co ?',\n",
       " 'how do -PRON- significantly improve -PRON- grade ?',\n",
       " 'what would happen if -PRON- simply declare cuba , north korea , and iran as friend , and genuinely treat -PRON- as such ?',\n",
       " '-PRON- want to start watch korean drama and movie . where should -PRON- start ?',\n",
       " '-PRON- instal the movie torrent with ultra xvid codec pack.exe in folder with -PRON- . be -PRON- safe to run -PRON- in order to play the movie ( be -PRON- a viru ) ?',\n",
       " 'how can -PRON- prepare for upsc enforcement officer exam ?',\n",
       " 'what be the difference between white and yellow cheddar cheese ?',\n",
       " '-PRON- get 10 $ uber credit by use promo code although -PRON- set -PRON- country as india ( local currency be inr ) . can -PRON- use -PRON- here ?',\n",
       " '-PRON- wife just start follow -PRON- on quora . how do -PRON- get completely off quora ?',\n",
       " 'how can -PRON- do network setup for directv ?',\n",
       " 'what be the physical criterion for the army ?',\n",
       " 'do americans really believe in vampire ?',\n",
       " 'how do -PRON- play the game snaps ?',\n",
       " 'what be some tip to stop overeat ?',\n",
       " 'why be not the earth and the oth matter inside the earth atmosphere be blow away because of the high pressure inside the atmosphere and the vacuum in out space ?',\n",
       " 'china : what make majority of china poor despite -PRON- high development rate ?',\n",
       " 'what be speed of plane ?',\n",
       " 'will -PRON- iphone 6 that be purchase in india work in the usa ?',\n",
       " 'how can -PRON- be a good lover ?',\n",
       " 'what be the good city to live in the us ?',\n",
       " 'can -PRON- use university logo \\'s on -PRON- website , accompany by : \" use by researcher from a.o . these university \" ?',\n",
       " 'do an incumbent president ne to be nominate to run for a second term ?',\n",
       " 'what would be the salary of a bank po after a recent hike by the banking industry ( include 7th pay commission if applicable ) ?',\n",
       " 'why do people talk behind -PRON- back ?',\n",
       " 'crush use to like -PRON- . -PRON- think -PRON- do not anymore . should -PRON- talk to -PRON- ?',\n",
       " 'what be the most effective way to sell to a new industry ?',\n",
       " 'if -PRON- have a laptop power cord that be plug into the electric wall plug socket , but not plug into -PRON- laptop , will this add to -PRON- electric bill ?',\n",
       " 'on what factor do the resistance of a conductor depend ?',\n",
       " 'why do the speed of a synchronous alternator decrease slightly on load while that of a synchronous motor remain constant even as -PRON- load -PRON- ?',\n",
       " 'how can -PRON- check if -PRON- 11 year old and unused bank account still exist or not ?',\n",
       " 'what be the thing -PRON- ne for survival ?',\n",
       " \"be there ever a rational explanation offer by censor for why woman 's navel could not be expose on american tv until the late 1960 ?\",\n",
       " 'which be the good car in the range of 3 - 5 lakh ?',\n",
       " 'who be good , lebron james or kobe bryant ? why ?',\n",
       " '-PRON- may score 178 in wbjee medical 2016 , what would be -PRON- probable rank ?',\n",
       " 'what be some of the intrest story of placement ?',\n",
       " 'how be the mughal empire in india ?',\n",
       " 'what be the difference between \" what be -PRON- think \" and \" what do -PRON- think \" ?',\n",
       " 'what do a \" life worth live \" mean to -PRON- ?',\n",
       " 'be these video on youtube about fake image of earth from nasa true or not ?',\n",
       " 'what be the reason to prefer a windows phone over an android ?',\n",
       " 'what be simon cowell like in person ?',\n",
       " 'be -PRON- easy to get into university of british columbia or toronto for mscs than into one of top 50 university ( exclude top 20 ) in us ?',\n",
       " 'if honesty be the good policy then why most of the hon people remain poor and middle clas , but dishon people get rich ?',\n",
       " 'do time begin before the big bang ?',\n",
       " 'what do woman think about nice guy ?',\n",
       " 'why be the google pixel name \" google pixel , phone by google ? \"',\n",
       " 'can -PRON- use water pump on sticky liquid instead of water ?',\n",
       " 'when will season 2 of attack on titan be on netflix ?',\n",
       " 'how will scrap the inr 500 and inr 1000 currency note affect the daily life of indians ?',\n",
       " 'which luna bar flavor be the good ?',\n",
       " 'what be -PRON- like to become successful ?',\n",
       " 'what be the limit of string size and biginteger in java ?',\n",
       " 'how do -PRON- crash nda ?',\n",
       " 'how can or will ems accommodate those on the autism spectrum ?',\n",
       " 'what be the most efficient way to learn any language ?',\n",
       " 'what be difference between a bushing and a bearing ?',\n",
       " 'do people with avoidant personality disorder often choose people with narcissistic personality disorder as life partner ?',\n",
       " 'what be some of the movie -PRON- have watch again and again ?',\n",
       " 'which be a great seo content generator ?',\n",
       " 'if -PRON- have unfriend someone on facebook can -PRON- see what -PRON- post on -PRON- page ?',\n",
       " \"what be dennis ritchie 's net value prior to -PRON- death ?\",\n",
       " 'how do -PRON- market -PRON- small busines in budget ?',\n",
       " 'what be a summary of \" -PRON- oedipus complex \" by frank o\\'connor ?',\n",
       " 'in les miserables , why be the woman of the factory so upset that fantine have a daughter ?',\n",
       " 'how do -PRON- get -PRON- girlfriend to have sex with -PRON- ?',\n",
       " 'what optic do navy seal use ?',\n",
       " 'how do -PRON- apply for an interview in zoho ?',\n",
       " 'what famous actor be diagnose as psychopath ?',\n",
       " 'how do -PRON- know if a girlfriend be right for -PRON- ?',\n",
       " 'how can -PRON- prepare -PRON- self to be a good doctor ?',\n",
       " 'what be a portfolio url ?',\n",
       " 'why do so many americans know so little about the rest of the world ?',\n",
       " 'what be some of the good gift for raksha bandhan ?',\n",
       " 'how can -PRON- treat pancreatiti in a natural way ?',\n",
       " 'how can -PRON- earn more credit on quora ?',\n",
       " 'which material be useful for the ccnp route 300 - 101 exam ?',\n",
       " 'as a nigerian why have -PRON- decide not to ever get marry ?',\n",
       " 'what be the good mobile phone below r . 25000 ?',\n",
       " 'do fish fart ?',\n",
       " 'be the wd passport ultra hard - disk compatible with linux os ?',\n",
       " 'how do -PRON- prepare for dmrc je electronic exam ?',\n",
       " 'which be the good college for aeronautical engineering in india ?',\n",
       " \"-PRON- be 26 year old and -PRON- eye sight hasn't stabilize yet . be this normal ?\",\n",
       " 'do -PRON- think india be go win more medal in next olympics ( 2020 ) ?',\n",
       " 'what be some thing new employee should know go into -PRON- first day at oceaneering international ?',\n",
       " 'why -PRON- usa visit visa have be reject ?',\n",
       " 'what should -PRON- do to have a freelancer debit card ?',\n",
       " 'what do \" think \" mean ?',\n",
       " 'do the chinese ever take revenge for nanking ?',\n",
       " 'what be import and export ?',\n",
       " 'what be on - site ratio use by it company ?',\n",
       " 'be -PRON- worth spend the extra money to get the 1 tb ssd option on a new macbook pro ?',\n",
       " 'how do the universe look like before the big bang ?',\n",
       " 'be german soldier in ww2 actually \" nazis \" ?',\n",
       " 'what can -PRON- do with a project management certification ?',\n",
       " 'can -PRON- say , -PRON- uncle hint on a pleasant surprise if -PRON- behave -PRON- ?',\n",
       " 'how can -PRON- improve -PRON- programming knowledge to settle in it industry ?',\n",
       " 'how can -PRON- tell if somebody have a low iq ?',\n",
       " 'can -PRON- suggest good topic for ib maths ia sl ?',\n",
       " 'what be -PRON- favorite documentary of all time ?',\n",
       " 'what be target ?',\n",
       " 'where do the phrase \" shut up \" come from ?',\n",
       " 'can -PRON- use wifi without password ?',\n",
       " 'what be -PRON- problem with start -PRON- own busines and why -PRON- want to start ? what will happen if the problem will be solve',\n",
       " 'who be the good indian journalist ?',\n",
       " 'how do the germans feel about general eisenhower during ww2 ?',\n",
       " 'be there a difference in meaning between \" take the time \" and \" take time \" ?',\n",
       " 'how can emotional intelligence help -PRON- manage resentment ?',\n",
       " 'what be the average salary -PRON- get in india after do an m in computer science from an average us university ?',\n",
       " 'what be consider the most difficult instrument to play ?',\n",
       " 'what be the good meal in the world ?',\n",
       " 'what be this in -PRON- ear ?',\n",
       " 'what be the good technique to teach coding ?',\n",
       " 'how do -PRON- delete live story from snapchat ?',\n",
       " 'do gandhi ji meet swami vivekanand ?',\n",
       " 'how do -PRON- translate the word \" peace \" to german ?',\n",
       " 'how do -PRON- feel to run the technical department of a non - technical start - up ?',\n",
       " 'which of the four lead seinfeld character be the least evil ?',\n",
       " 'what be the good way to prepare for gate in cse , when -PRON- be do -PRON- b.tech ?',\n",
       " 'how do -PRON- learn new thing on the job ?',\n",
       " 'how do -PRON- evaluate the integral [ math]\\\\int\\\\log x\\\\sin x\\\\,dx[/math ] ?',\n",
       " 'how can -PRON- change the font size of the quora app ?',\n",
       " 'what be some taboo topic that should not be taboo ?',\n",
       " 'how should -PRON- prepare for clear sap lab online test ?',\n",
       " 'do michael jackson use wig since 1995 till -PRON- death ?',\n",
       " 'what be -PRON- like to live in the playboy mansion ?',\n",
       " 'why be donald trump be criticize for minimize -PRON- tax ?',\n",
       " 'how can -PRON- calculate sin , co , and tan without a calculator ?',\n",
       " 'why should -PRON- join the bpo sector ?',\n",
       " 'which among cat and iift difficult ?',\n",
       " 'what be the big website make in laravel ?',\n",
       " 'can -PRON- use -PRON- credit visa card to receive payment from online employer through paypal ?',\n",
       " 'what be -PRON- view of happy family ?',\n",
       " 'what do -PRON- take to be a plastic surgeon ?',\n",
       " 'in what state be -PRON- illegal to transport liquor across state line ?',\n",
       " '-PRON- be a dancer and -PRON- have -PRON- own clas but -PRON- be financially weak and -PRON- want to help poor child to learn dance what should -PRON- do ?',\n",
       " '-PRON- rating on codeforce is1350 and -PRON- be 3rd yr it student how can -PRON- improve -PRON- coding skill as well as -PRON- rating to reach 1700 on codeforce ?',\n",
       " 'when look for a new job , should keep -PRON- work experience letter ready ?',\n",
       " '-PRON- have $ 100,000 . -PRON- be 16 . what should -PRON- do with this money ?',\n",
       " 'where be kumari kandam ?',\n",
       " 'why be the 230 volt for single phase and the 440 volt for three phase ?',\n",
       " 'how be lionel messi in person off field ?',\n",
       " 'what be the organisational structure of sbi ?',\n",
       " 'why be there a ( collective ) great britain team at the olympics and the commonwealth but at the fifa world cup there be individual country ( like england , wales , etc . ) ?',\n",
       " 'why do -PRON- lose facial hair ?',\n",
       " 'what be the supersoild state of matter ?',\n",
       " 'what do israelis think of yiddish ?',\n",
       " 'what be the good online shopping site in sweden ? do -PRON- know if any of list one use live chat in -PRON- customer service ? how popular be to have live chat option on -PRON- site in sweden ?',\n",
       " 'what be some interesting publicly available datum set ?',\n",
       " 'how be the future scope in be an android developer ?',\n",
       " 'what be the good way to learn how to rap ?',\n",
       " 'how do world war 2 start and end ?',\n",
       " 'what be some nice , beautiful story ?',\n",
       " 'what do richard muller think of free will ? be -PRON- consistent with -PRON- knowledge of the physical world ?',\n",
       " 'what be full grow jack russell/border collie mix like ?',\n",
       " 'what be the top forum for cpg and the retail industry , which can be use to post content and query ?',\n",
       " '-PRON- be interested in neural engineering , neuroscience and artificial intelligence . be there any relation between these three field ?',\n",
       " 'how much saving be require pm if a man have turn 45 and now want to start save in order to have a good pension by 58 ?',\n",
       " 'who be some of the most beautiful woman in the world ?',\n",
       " 'how be the type of nerve cell structure ?',\n",
       " \"what be some of the indian law that control indian medium 's misuse ?\",\n",
       " 'what be the reason when ever -PRON- smoke cigrette in fasting , -PRON- feel vomit , fainting , a lot of sweat and very high breath rate ?',\n",
       " 'what be the different between isometric view and isometric projection ?',\n",
       " \"electrical engineering vs computer science engineering ; which one 's better ?\",\n",
       " 'what be the application of rlc circuit ?',\n",
       " 'be there any useful chat room for hacker ?',\n",
       " 'will india be a develop country by 2020 ?',\n",
       " 'do narcissist tend to be neurotic and paranoid ?',\n",
       " 'be mark cuban on quora ?',\n",
       " 'what do people really mean when -PRON- say someone ( mostly a celebrity ) have \" age well \" ?',\n",
       " 'importance of evaporator ?',\n",
       " 'why do -PRON- have red dot on -PRON- thigh ?',\n",
       " 'what be the bad hospital experience -PRON- ever have ?',\n",
       " \"what be the detail of jose contreras ' coding house review ?\",\n",
       " 'what do the phrase \" orisha tengo empresa \" signify in santeria religion ?',\n",
       " \"what be the significance of the fact that ' 0 be neither a positive nor a negative number ?\",\n",
       " 'what be the basic set of application -PRON- be use in manage a project ?',\n",
       " 'what be the good gate exam book for mechanical engineering ?',\n",
       " 'which be the good call blocker for android ? caller must not know that app hang up the call ( phone be busy ) . what be oth way to block -PRON- ?',\n",
       " 'how heaven be describe in \" the bible \" ?',\n",
       " 'what be commission education ? how do -PRON- work in south korea ?',\n",
       " 'what be some good example of snes emulator that work with windows 7 ?',\n",
       " 'be derek carr of the oakland raiders a legitimate contender for nfl league mvp ?',\n",
       " 'what do prevent india from strike pakistan ?',\n",
       " 'how do -PRON- deal with stage fright ?',\n",
       " 'what song regularly get stuck in -PRON- head ?',\n",
       " 'what be the difference between a violin and a fiddle ?',\n",
       " 'what be the difference between a graduate education in the us and in the uk ?',\n",
       " 'where can -PRON- find a good mysql syntax checker ?',\n",
       " \"what be the world 's happy country ?\",\n",
       " 'what be us of die steel ?',\n",
       " 'what be the highlight of google i/o 2015 ?',\n",
       " 'what be the consequence of snort crystal meth ?',\n",
       " 'what be some good effect of ice cream when -PRON- have a fever ?',\n",
       " '-PRON- decide to make a special playlist with song name after various city and country . what be song that -PRON- can add to such a playlist ?',\n",
       " \"which be voldemort 's first murder ?\",\n",
       " 'what be the good way to start a project ?',\n",
       " 'be artificial intelligence real ?',\n",
       " 'will -PRON- narc ex ever come back to -PRON- even though -PRON- hat -PRON- right now ?',\n",
       " 'if -PRON- start -PRON- car in a closed garage , how long before -PRON- become dangerous ?',\n",
       " 'how can -PRON- control -PRON- anger .. -PRON- get an anxiety feeling for small small thing ?',\n",
       " \"what be the most f'kd up question that -PRON- have be ask in an interview ?\",\n",
       " 'which useful android phone app be not available in the google play store ?',\n",
       " 'how do blogg help ?',\n",
       " 'should -PRON- be concern if -PRON- boyfriend never think to phone -PRON- when -PRON- be drunk ?',\n",
       " 'what be the meaning of the phrase \" speak softly and carry a big stick \" ?',\n",
       " 'what do dalit think of rss ?',\n",
       " 'what be the healthy clothing to wear for sleep ?',\n",
       " 'what would be a good investigatory project in chemistry for clas 11 ?',\n",
       " 'what be some effect of be bear in the 21st century ?',\n",
       " 'be this real life ?',\n",
       " 'what be veto power ?',\n",
       " 'which be a good auto user manual creator for software ?',\n",
       " 'what do -PRON- mean if a guy ask for permission to kis -PRON- ?',\n",
       " 'how do -PRON- find out if someone get marry ?',\n",
       " '-PRON- be a microbiology student under calcutta university . -PRON- could not study well and -PRON- be sure , -PRON- will fail in -PRON- part1 what should -PRON- do ?',\n",
       " 'what be possible cause for a uteru to be in a retroverted position ?',\n",
       " '-PRON- think of -PRON- sister while masturbate . be   -PRON- wrong ?',\n",
       " 'what trivium ( and/or little - know fact ) do -PRON- find interesting about the usa ?',\n",
       " 'which be the most efficient candle design which do not exude even a small amount of wax as waste & continue to burn for a long time ?',\n",
       " 'what be some major project base on servlet and jsp ?',\n",
       " 'what be the good novel in 2016 ?',\n",
       " 'which material be hard than diamond ? why ?',\n",
       " 'how do -PRON- become a venture capitalist ?',\n",
       " 'how would -PRON- respond if -PRON- find out -PRON- son or daughter have just decide to be a porn actor ?',\n",
       " 'who be the good 5 minister in modi cabinet ?',\n",
       " 'why do not bastion work on chrome anymore ?',\n",
       " 'do spiritual healing work ?',\n",
       " 'how be particle observe in the double - slit experiment ?',\n",
       " 'what can -PRON- use the apple ipad pro 9.7 for if -PRON- do not have an itunes account ?',\n",
       " 'be -PRON- true that the insect find in cabbage can not be destroy even after cook ?',\n",
       " 'what be the objective of the pepsi company ?',\n",
       " 'how do bra size function ?',\n",
       " 'what would be some reason for change -PRON- school division ( without say that -PRON- be do -PRON- for -PRON- friend ) ?',\n",
       " 'how can -PRON- make -PRON- peni thick ?',\n",
       " 'if -PRON- ctc be rs.40 lpa , what do -PRON- take home after tax and oth deduction ?',\n",
       " 'how much do -PRON- cost to fit a drip irrigation system for 1 acre in india ?',\n",
       " 'what be the most watch movie online ?',\n",
       " 'what be the importance of the mona lisa ?',\n",
       " 'what be the pro and con of movable pulley ?',\n",
       " '-PRON- be think of purchase a solar charger that be list as 10000mah , with 5v with 2.1a max . can -PRON- use this to charge -PRON- cell phone , which be rat at 5v & 1.2a ?',\n",
       " 'which be some app that be popular in the usa but not so much in india and have not yet be implement due to whichev reason imaginable ?',\n",
       " 'why be there no sc/st obc in the indian cricket team ?',\n",
       " 'good library in old rajendra nagar ?',\n",
       " 'under what circumstance would the production possibility curve be a straight line ?',\n",
       " 'why do carbon form four single bond inspite of be electronegative and small in size ?',\n",
       " 'what be -PRON- review of accordion ?',\n",
       " 'how do -PRON- drive traffic to -PRON- launchrock landing page with no marketing budget ?',\n",
       " 'how should -PRON- start to prepare aptitude for cat ?',\n",
       " 'have the rapper eminem ever meet -PRON- father ?',\n",
       " 'how do -PRON- undo an ignore a request to connect on linkedin ?',\n",
       " 'how do -PRON- find people -PRON- know on quora ?',\n",
       " 'how many muslims live in brazil ?',\n",
       " 'how do -PRON- use the diamond on a pool table ?',\n",
       " 'how do -PRON- find -PRON- passion and purpose in life ?',\n",
       " 'why can not -PRON- watch putlocker video on -PRON- phone ?',\n",
       " 'what be the first aid for fish ?',\n",
       " 'how do -PRON- love -PRON- body as a guy ?',\n",
       " 'can anybody share -PRON- ca placement story ?',\n",
       " 'how can -PRON- get -PRON- own pc wifi password in ubuntu ?',\n",
       " 'be -PRON- illegal to tie a noose ?',\n",
       " 'how do one win at life ?',\n",
       " 'what do -PRON- feel to be batman ?',\n",
       " 'what be the new launching system that revolve around the earth and then propel to the moon or mars ?',\n",
       " \"what be some good anecdote about demis hassabis 's extremely high intelligence ?\",\n",
       " 'when sign a listing agreement for lease with a commercial real estate broker , what be some common factor to negotiate ?',\n",
       " 'what be the thing -PRON- hate about -PRON- country and people ?',\n",
       " 'what be the good website to explain case for faculty of law student ?',\n",
       " 'which be the co - valent compound that become electrovalent when dissolve in water ?',\n",
       " \"on hbo 's ballers , why be the lead character spencer strasmore name after an associate producer ?\",\n",
       " 'how can -PRON- edit a jpeg image ?',\n",
       " \"what do -PRON- mean for john mccain 's reputation to support donald trump after trump 's comment regard mccain 's time spend as a prisoner of war ?\",\n",
       " 'do the apple pencil support palm rejection when use with the ipad pro ?',\n",
       " 'be -PRON- difficult to score 6 in ielts ?',\n",
       " 'what can -PRON- do when a bu conductor be not willing to give change ?',\n",
       " 'what should be the conclusion for dissolution of a partnership firm ?',\n",
       " \"what be the meaning of hindi word ' yogdaan ' ?\",\n",
       " 'why be english consider an international language instead of other ?',\n",
       " 'what do indian parent think about -PRON- married child have sex with -PRON- spouse ?',\n",
       " 'what be some good characteristic of the american culture ?',\n",
       " '-PRON- be a special need nanny and tutor . how can -PRON- spin -PRON- skill and make -PRON- work for -PRON- new career in human resource ?',\n",
       " 'if another planet the size of earth be bring very close to -PRON- earth , would human between the two planet float due to gravity cancel out ?',\n",
       " 'what ever happen to launch from \" dragon ball z \" ?',\n",
       " 'can animal be well - treat in a circu ?',\n",
       " 'do weigh scale measure mas or weight ?',\n",
       " 'what be one thing that -PRON- should never do in -PRON- life ?',\n",
       " 'what be a good diet for lose weight ?',\n",
       " 'what be the compensator ?',\n",
       " 'while book a ticket on irctc , should -PRON- check \" consider for auto upgradation \" or not ?',\n",
       " 'how do -PRON- detect a phishing email ?',\n",
       " 'which be the company which want explainer video ?',\n",
       " 'how can -PRON- convert a three - phase ac to a single - phase ac ?',\n",
       " 'what be the tone in cantonese ?',\n",
       " \"what be the difference between ' -PRON- be ' and ' -PRON- be ' ?\",\n",
       " 'how do -PRON- make a video profile ?',\n",
       " 'what be chromium browser ?',\n",
       " \"how do -PRON- country 's people deal with demonic possession ?\",\n",
       " 'what kind of make - up can make -PRON- brown eye look light ?',\n",
       " 'what be some tutorial for build a toothpick bridge ?',\n",
       " 'why do small busines owner sometimes go for a hybrid app development for -PRON- mobile application ?',\n",
       " 'do deutsche bank group pune offer onsite or travel opportunity to software engineer in country like the usa and uk through internal job posting or internal mobility ?',\n",
       " 'what be the most common problem face by a common man in india ?',\n",
       " 'be tattoo allow in mpsc ?',\n",
       " 'what be special about the way steve jobs roll out the first iphone ?',\n",
       " 'can -PRON- perform the physical task associate with job ?',\n",
       " 'be there any tech fest for biotechnology ?',\n",
       " 'how can -PRON- download the girl of -PRON- dream novel by durjoy datta ?',\n",
       " 'how can -PRON- do a persuasive presentation ?',\n",
       " 'what be the history of restaurant in india ?',\n",
       " 'what be the difference between sap labs and sap sdc ?',\n",
       " 'why do surface of mars contain perchlorate ? do alien deliberately produce -PRON- and if so , why ?',\n",
       " 'do -PRON- like -PRON- when -PRON- man ejaculate in -PRON- vagina without a condom ?',\n",
       " 'how can -PRON- be a good coder ?',\n",
       " '( 2 + 2√2 ) / ( 1+√2 ) how to simplify this ?',\n",
       " 'can a credit card gateway company be register in one country and operate in another ?',\n",
       " 'be there any dominatrix in india , preferably in mumbai ?',\n",
       " 'how do -PRON- contact apple for feature -PRON- new game ?',\n",
       " 'what be the song call in the background of this video ?',\n",
       " 'what be the good restaurant in vancouver ?',\n",
       " 'will donald trump cause ww3 ?',\n",
       " 'prosumer : \" a new social theory be round the bend . \"',\n",
       " 'what be some example of reinforcement schedule ?',\n",
       " 'what be -PRON- view on cyrus mistry be remove as chairperson of tata sons ?',\n",
       " 'how can -PRON- direct traffic from -PRON- amazon store to -PRON- own website ?',\n",
       " 'how can -PRON- switch phone and change phone number on line ?',\n",
       " 'what be the pro and con of node.js ?',\n",
       " 'what be and be not a point charge ?',\n",
       " 'what be mean by the mark twain quote , \" to a man with a hammer , everything look like a nail . \" ?',\n",
       " 'when be the last year that america be great accord to the trump campaign ?',\n",
       " 'why do -PRON- always think negative thing and what should -PRON- do ?',\n",
       " 'do neurologist have significant career satisfaction ?',\n",
       " 'who be the most likely candidate to win the 2018 fields medal ?',\n",
       " 'what be the good way to learn c++ in urdu ?',\n",
       " 'what be qr code ?',\n",
       " 'be -PRON- true that most young man enjoy disturb young woman that -PRON- like to get -PRON- attention ?',\n",
       " 'be -PRON- possible that there be another planet with homo sapien human ?',\n",
       " 'be a mac or windows good for a cs student or developer ?',\n",
       " 'what be the benefit of yoga and exercise ?',\n",
       " 'bendix square employeeservicepinwithsmallrubylookingstonewhatyearisit ?',\n",
       " 'what would be the common characteristic of indians ?',\n",
       " 'dartmouth football live stream | watch dartmouth big green football game today live streaming online ?',\n",
       " \"why be so many engineering student from nit 's and oth premier college join young india fellowship(yif ) programme ?\",\n",
       " 'be there any disadvantage of use an android studio in windows ?',\n",
       " 'what be the benefit of use a command line irc client like weechat ?',\n",
       " 'where be the good place to sell old vinyl record ?',\n",
       " 'can -PRON- fly on a private jet ?',\n",
       " \"have there ever be an episode of newsround on bbc children 's tv that do not include an item on animal or wildlife ?   be this brainwashing ?\",\n",
       " 'what be the most traumatic event -PRON- have experience around which -PRON- have successfully live -PRON- life ?',\n",
       " 'when do -PRON- have -PRON- first kis and who be -PRON- with ?',\n",
       " '-PRON- be look forward to buy a stitching machine under 10000rs which one be good ?',\n",
       " 'how do -PRON- prepare for the gate without any coaching ?',\n",
       " 'which be the good lense for eyeglass ?',\n",
       " 'should -PRON- learn ruby on rails or html5 ?',\n",
       " 'do the actor really have sex while film for a hollywood or bollywood movie ?',\n",
       " 'multicolour gems : what be ultralite and how do -PRON- compare to amethyst ?',\n",
       " 'how do -PRON- determine the side of latent strabismu use cover uncov test ?',\n",
       " 'what be some of the good psychological horror film ?',\n",
       " 'be there any risk to living near hydro lines ?',\n",
       " 'be -PRON- possible to self - induce mental illness ?',\n",
       " 'what should -PRON- do know as a fact that -PRON- wife be cheat on -PRON- ?',\n",
       " 'what be the scope of mechanical engineering ?',\n",
       " 'can -PRON- use spark plug in diesel engine ?',\n",
       " \"if -PRON- have to choose one song from -PRON- phone 's playlist , which one would -PRON- choose ?\",\n",
       " 'how be the formula for residual volume determine ?',\n",
       " 'how do -PRON- find an investor for -PRON- mobile app start - up ?',\n",
       " 'what be -PRON- like live in thimpu ?',\n",
       " 'how do -PRON- gracefully let go of something -PRON- love and go to next phase in life ?',\n",
       " 'how can the urdu language be destroy ?',\n",
       " 'how do -PRON- catch charizard in pokémon go ?',\n",
       " \"how do islamic bank make money if -PRON- can not charge interest because of shari'a ?\",\n",
       " 'which outlaw motorcycle club accept jews ?',\n",
       " 'do ngc ( nano gps chip ) technology be implement in inr 2000 ?',\n",
       " 'be corruption human nature ?',\n",
       " 'what step one must take to become an actor in bollywood ?',\n",
       " 'what phone do -PRON- use as a programmer ?',\n",
       " 'be all matter in the universe on a course to become part of a single solitary black hole ?',\n",
       " 'what be a good solar panel installation provider in huntington beach , california ca ?',\n",
       " 'what be insulator ?',\n",
       " 'how be laxative good to induce labor ?',\n",
       " 'how can -PRON- celebrate new year ?',\n",
       " 'what be the difference between social anxiety and avoidant personality disorder ?',\n",
       " 'what will be the good smartphone around 15 k ?',\n",
       " 'which be good : ford figo aspire or honda amaze ?',\n",
       " '-PRON- be say that karma create -PRON- fate and hence future . then , why do -PRON- pray to god instead of religiously work to fulfill -PRON- wish ?',\n",
       " 'which be the good mba coach institute in pune ?',\n",
       " 'which pen go out of ink fast ballpoint or gel ?',\n",
       " 'would what happen if nato dissolve suddenly ?',\n",
       " 'what be the difference between \" sister concern \" and subsidiary company ?',\n",
       " 'wildfire interactive : review ?',\n",
       " 'what be a c program binary search use link list ?',\n",
       " 'what be the key responsibility of the ceo in the early stage of a start - up company ?',\n",
       " 'why do balloon let the ga escape but not oxygen in winemak ?',\n",
       " 'how do -PRON- sell use book ?',\n",
       " 'write all the 5-digit number that -PRON- can form use the digit 1,2,3,4 , and 5 only once . which of these number be great than 50,000 ?',\n",
       " 'what be some unexpected thing first - time visitor to egypt notice ?',\n",
       " 'why do not germany produce jet engine ?',\n",
       " 'what be the good way to write a cover letter for marketing ?',\n",
       " 'why be most people crazy about apple and -PRON- product ?',\n",
       " 'what be india do to become a manufacturing hub ?',\n",
       " 'how do -PRON- make a aaa game ?',\n",
       " 'how long do snake bite take to heal ? do -PRON- depend on the type of snake ?',\n",
       " 'if give the opportunity and choice , will balaji vishwanathan want to become the president of india ?',\n",
       " 'how do -PRON- make the good software company ?',\n",
       " 'what be the good book in telugu literature ?',\n",
       " 'what will shop mall be like in the future ?',\n",
       " 'what be the pro and con of ban 500 and 1000 rupee note in india ?',\n",
       " 'who be some of the good science - fiction writer alive today ?',\n",
       " 'why should one not bunk class ?',\n",
       " 'what be some unknown fact ?',\n",
       " 'what be the benefit of grade system in education ?',\n",
       " 'how do -PRON- mark an entire gmail inbox as read ?',\n",
       " 'do -PRON- help -PRON- english if -PRON- watch english movie without any subtitle ?',\n",
       " 'why do high - frequency noise hurt -PRON- ear ?',\n",
       " 'what instrument be use to measure air pressure ?',\n",
       " 'which be the good android phone under 16k in india ?',\n",
       " 'how do -PRON- get rid of the wrinkle that form under -PRON- eye when -PRON- smile ?',\n",
       " 'have -PRON- ever go on a date and what be -PRON- like ?',\n",
       " 'what be good android app for gk preparation for mba exam like iift , cmat ?',\n",
       " 'do god really plan everything ? if so , why would -PRON- allow sin in this world ?',\n",
       " 'be -PRON- possible to fall in love online ?',\n",
       " 'how do -PRON- avoid bot on omegle ?',\n",
       " 'what shall -PRON- do with a mouse which freeze on the screen and stop respond ?',\n",
       " 'what problem do one face when he/she start a company ? and how to overcome -PRON- ?',\n",
       " 'what be the difference between exception and interrupt in operate system ?',\n",
       " 'what be a proficient typing speed ?',\n",
       " 'how do -PRON- develop a serious personality ?',\n",
       " 'what be the benefit of be a \" thought leader \" ?',\n",
       " 'be jimmy fallon as nice a person as -PRON- appear on -PRON- show ?',\n",
       " 'how be sachin tendulkar as in person ?',\n",
       " 'what be the good 3-word story ?',\n",
       " 'what be the difference between h+ ion and proton ?',\n",
       " 'what be the good tip for early - stage startup ?',\n",
       " 'why do some people consider gambling as morally bad ?',\n",
       " 'do -PRON- know of an open source software that can be use to create the word - base image for crowdsourc ?',\n",
       " 'why be european film not popular while mainstream hollywood film be ?',\n",
       " 'do -PRON- sometimes struggle with the impostor syndrome ?',\n",
       " 'when -PRON- significant oth be angry with -PRON- , do this justify -PRON- significant oth treat -PRON- like shit ?',\n",
       " 'can -PRON- lose weight with just a vegan diet ?',\n",
       " 'be hillary clinton crooked ?',\n",
       " 'how do -PRON- send text message from facebook to whatsapp ?',\n",
       " 'what be -PRON- top 10 tamil song in 2014 ?',\n",
       " '-PRON- be an r educator . -PRON- want to lead with the tidyverse , but there be cost for new programmer . any tip for teach both the tidy/non - tidy world ?',\n",
       " 'what be some of the most iconic picture of nit trichy ?',\n",
       " 'where can -PRON- get good faculty for engineering mathematics/aptitude for -PRON- gate coach in delhi ?',\n",
       " 'how silicon valley be the silicon valley ?',\n",
       " \"what be the pro and con if the public sector bank ' share be divest to attain the capital requirement ?\",\n",
       " 'why have -PRON- always be so introverted ?',\n",
       " 'how can -PRON- loose weight naturally without do exercise ?',\n",
       " 'why some girl stare at boy and never talk to -PRON- ?',\n",
       " 'how can -PRON- view the shared preferences data in android studio ?',\n",
       " 'be goa a good place to go in january end ?',\n",
       " 'what be most embarrassing moment of -PRON- life ?',\n",
       " 'who be the likely candidate for the next chief justice of india after the retirement of justice thakur in january ?',\n",
       " 'how do -PRON- earn money through snapdeal ?',\n",
       " 'who be the rich person in india ?',\n",
       " 'how do -PRON- stop -PRON- from think about death all the time ?',\n",
       " 'why do -PRON- fish have cloudy eye ?',\n",
       " 'why be -PRON- take so much time for indians to get green card ?',\n",
       " 'what be -PRON- review of citibank india ?',\n",
       " 'what be the characteristic of a demand curve ?',\n",
       " 'what be the pro and con ubuntu and elementary os ?',\n",
       " 'how can -PRON- remember most of the thing -PRON- read ?',\n",
       " 'what be the relationship between law and sociology ?',\n",
       " '-PRON- be 2015 , which campaign promise do president obama fully fulfill , partially fulfill , do not act on , or completely go the oth way ?',\n",
       " 'do russians and chinese have fond memory of the old collective farm ?',\n",
       " 'would the color of light separate out , if a light source in any medium oth than vacuum , stream a beam of light through the medium to infinity ?',\n",
       " 'what do -PRON- hate ?',\n",
       " 'how much do bjp pay to zee news per month ?',\n",
       " 'why be -PRON- important to ask question ?',\n",
       " 'what be some good website to learn foreign language ?',\n",
       " 'why be marriage in the same caste so important to indian parent ?',\n",
       " \"what be india 's current gdp ?\",\n",
       " 'voice : what make people sound the same ?',\n",
       " 'what be complex sentence ?',\n",
       " 'which be the good dance academy ?',\n",
       " 'how do -PRON- increase -PRON- follower in facebook ?',\n",
       " 'what should -PRON- do for the rest of -PRON- life ?',\n",
       " 'how do ihide -PRON- youtube video from just -PRON- parent -PRON- do not want to watch -PRON- now maybe in future ?',\n",
       " 'how can -PRON- learn to memorize thing quickly ?',\n",
       " 'be go to a university worth -PRON- ?',\n",
       " 'how can -PRON- become good writer ?',\n",
       " 'what be the weather like in north britain ?',\n",
       " 'what do -PRON- think of donald trump before -PRON- presidential campaign ?',\n",
       " 'what affect and/or cause color in skin , besides melanin ?',\n",
       " 'what programming language and tool do ed boon and co use for the first mortal kombat ?',\n",
       " 'if a girl star , giggle , and smile at -PRON- do -PRON- like -PRON- then ?',\n",
       " 'in france , log(x ) be typically of base 10 . when -PRON- be of base e , -PRON- write ln(x ) for natural logarithm . why do not oth system do that ?',\n",
       " 'be china safe for indian tourist ?',\n",
       " 'how do paydivvy.com make money ?',\n",
       " 'what be all the good suspense or thriller movie in kannada ?',\n",
       " 'how do -PRON- determine the rate of diffusion ?',\n",
       " 'can -PRON- buy an iphone 6 online in india ? do -PRON- have any disadvantage than buy -PRON- in retail shop ?',\n",
       " 'what cause some girl to seek a lot of attention from guy ?',\n",
       " 'what be the good love song -PRON- have ever listen to ?',\n",
       " 'be -PRON- foolish to believe that all human being have value ? what allow one person or group of people to decide that a person or group of people must/should be kill ?',\n",
       " 'how do 3 ballerina tea work ?',\n",
       " 'how can -PRON- change -PRON- daily habit ?',\n",
       " 'what be the type of forest in india ?',\n",
       " 'what be wrong with quora ? why be -PRON- total view decrease ?',\n",
       " 'what do snake stick and angel wing have to do with doctor in -PRON- symbol ?',\n",
       " 'which be the most famous movie dialogue ?']"
      ]
     },
     "execution_count": 62,
     "metadata": {},
     "output_type": "execute_result"
    }
   ],
   "source": [
    "nlp_lemmas"
   ]
  },
  {
   "cell_type": "code",
   "execution_count": 56,
   "metadata": {
    "collapsed": false
   },
   "outputs": [],
   "source": [
    "idf = vectorizer.idf_"
   ]
  },
  {
   "cell_type": "code",
   "execution_count": 57,
   "metadata": {
    "collapsed": false
   },
   "outputs": [],
   "source": [
    "tfidf_dict = dict(zip(vectorizer.get_feature_names(), idf))"
   ]
  },
  {
   "cell_type": "code",
   "execution_count": 58,
   "metadata": {
    "collapsed": false
   },
   "outputs": [],
   "source": [
    "tfidf_df = pd.DataFrame.from_dict(tfidf_dict,\n",
    "                                 orient='index')"
   ]
  },
  {
   "cell_type": "code",
   "execution_count": 59,
   "metadata": {
    "collapsed": false,
    "scrolled": true
   },
   "outputs": [
    {
     "data": {
      "text/html": [
       "<div>\n",
       "<table border=\"1\" class=\"dataframe\">\n",
       "  <thead>\n",
       "    <tr style=\"text-align: right;\">\n",
       "      <th></th>\n",
       "      <th>0</th>\n",
       "    </tr>\n",
       "  </thead>\n",
       "  <tbody>\n",
       "    <tr>\n",
       "      <th>spirit</th>\n",
       "      <td>7.215608</td>\n",
       "    </tr>\n",
       "    <tr>\n",
       "      <th>annie</th>\n",
       "      <td>7.215608</td>\n",
       "    </tr>\n",
       "    <tr>\n",
       "      <th>url</th>\n",
       "      <td>7.215608</td>\n",
       "    </tr>\n",
       "    <tr>\n",
       "      <th>basically</th>\n",
       "      <td>7.215608</td>\n",
       "    </tr>\n",
       "    <tr>\n",
       "      <th>snap</th>\n",
       "      <td>7.215608</td>\n",
       "    </tr>\n",
       "    <tr>\n",
       "      <th>362</th>\n",
       "      <td>7.215608</td>\n",
       "    </tr>\n",
       "    <tr>\n",
       "      <th>children</th>\n",
       "      <td>7.215608</td>\n",
       "    </tr>\n",
       "    <tr>\n",
       "      <th>jagannath</th>\n",
       "      <td>7.215608</td>\n",
       "    </tr>\n",
       "    <tr>\n",
       "      <th>surround</th>\n",
       "      <td>7.215608</td>\n",
       "    </tr>\n",
       "    <tr>\n",
       "      <th>may</th>\n",
       "      <td>7.215608</td>\n",
       "    </tr>\n",
       "    <tr>\n",
       "      <th>milk</th>\n",
       "      <td>7.215608</td>\n",
       "    </tr>\n",
       "    <tr>\n",
       "      <th>ems</th>\n",
       "      <td>7.215608</td>\n",
       "    </tr>\n",
       "    <tr>\n",
       "      <th>aviator</th>\n",
       "      <td>7.215608</td>\n",
       "    </tr>\n",
       "    <tr>\n",
       "      <th>astrology</th>\n",
       "      <td>7.215608</td>\n",
       "    </tr>\n",
       "    <tr>\n",
       "      <th>25000</th>\n",
       "      <td>7.215608</td>\n",
       "    </tr>\n",
       "    <tr>\n",
       "      <th>cognizant</th>\n",
       "      <td>7.215608</td>\n",
       "    </tr>\n",
       "    <tr>\n",
       "      <th>justify</th>\n",
       "      <td>7.215608</td>\n",
       "    </tr>\n",
       "    <tr>\n",
       "      <th>10000mah</th>\n",
       "      <td>7.215608</td>\n",
       "    </tr>\n",
       "    <tr>\n",
       "      <th>supreme</th>\n",
       "      <td>7.215608</td>\n",
       "    </tr>\n",
       "    <tr>\n",
       "      <th>journalist</th>\n",
       "      <td>7.215608</td>\n",
       "    </tr>\n",
       "    <tr>\n",
       "      <th>detect</th>\n",
       "      <td>7.215608</td>\n",
       "    </tr>\n",
       "    <tr>\n",
       "      <th>clearance</th>\n",
       "      <td>7.215608</td>\n",
       "    </tr>\n",
       "    <tr>\n",
       "      <th>pc</th>\n",
       "      <td>7.215608</td>\n",
       "    </tr>\n",
       "    <tr>\n",
       "      <th>scienceengineering</th>\n",
       "      <td>7.215608</td>\n",
       "    </tr>\n",
       "    <tr>\n",
       "      <th>lines</th>\n",
       "      <td>7.215608</td>\n",
       "    </tr>\n",
       "    <tr>\n",
       "      <th>rebel</th>\n",
       "      <td>7.215608</td>\n",
       "    </tr>\n",
       "    <tr>\n",
       "      <th>26</th>\n",
       "      <td>7.215608</td>\n",
       "    </tr>\n",
       "    <tr>\n",
       "      <th>professorial</th>\n",
       "      <td>7.215608</td>\n",
       "    </tr>\n",
       "    <tr>\n",
       "      <th>lover</th>\n",
       "      <td>7.215608</td>\n",
       "    </tr>\n",
       "    <tr>\n",
       "      <th>justice</th>\n",
       "      <td>7.215608</td>\n",
       "    </tr>\n",
       "    <tr>\n",
       "      <th>...</th>\n",
       "      <td>...</td>\n",
       "    </tr>\n",
       "    <tr>\n",
       "      <th>an</th>\n",
       "      <td>4.353407</td>\n",
       "    </tr>\n",
       "    <tr>\n",
       "      <th>from</th>\n",
       "      <td>4.297837</td>\n",
       "    </tr>\n",
       "    <tr>\n",
       "      <th>india</th>\n",
       "      <td>4.297837</td>\n",
       "    </tr>\n",
       "    <tr>\n",
       "      <th>when</th>\n",
       "      <td>4.219875</td>\n",
       "    </tr>\n",
       "    <tr>\n",
       "      <th>get</th>\n",
       "      <td>4.171085</td>\n",
       "    </tr>\n",
       "    <tr>\n",
       "      <th>use</th>\n",
       "      <td>4.124565</td>\n",
       "    </tr>\n",
       "    <tr>\n",
       "      <th>not</th>\n",
       "      <td>3.996732</td>\n",
       "    </tr>\n",
       "    <tr>\n",
       "      <th>should</th>\n",
       "      <td>3.976929</td>\n",
       "    </tr>\n",
       "    <tr>\n",
       "      <th>that</th>\n",
       "      <td>3.957511</td>\n",
       "    </tr>\n",
       "    <tr>\n",
       "      <th>if</th>\n",
       "      <td>3.883403</td>\n",
       "    </tr>\n",
       "    <tr>\n",
       "      <th>some</th>\n",
       "      <td>3.883403</td>\n",
       "    </tr>\n",
       "    <tr>\n",
       "      <th>or</th>\n",
       "      <td>3.848312</td>\n",
       "    </tr>\n",
       "    <tr>\n",
       "      <th>which</th>\n",
       "      <td>3.814410</td>\n",
       "    </tr>\n",
       "    <tr>\n",
       "      <th>with</th>\n",
       "      <td>3.674648</td>\n",
       "    </tr>\n",
       "    <tr>\n",
       "      <th>on</th>\n",
       "      <td>3.632089</td>\n",
       "    </tr>\n",
       "    <tr>\n",
       "      <th>have</th>\n",
       "      <td>3.578021</td>\n",
       "    </tr>\n",
       "    <tr>\n",
       "      <th>why</th>\n",
       "      <td>3.264364</td>\n",
       "    </tr>\n",
       "    <tr>\n",
       "      <th>good</th>\n",
       "      <td>3.112964</td>\n",
       "    </tr>\n",
       "    <tr>\n",
       "      <th>can</th>\n",
       "      <td>2.959995</td>\n",
       "    </tr>\n",
       "    <tr>\n",
       "      <th>for</th>\n",
       "      <td>2.959995</td>\n",
       "    </tr>\n",
       "    <tr>\n",
       "      <th>and</th>\n",
       "      <td>2.884874</td>\n",
       "    </tr>\n",
       "    <tr>\n",
       "      <th>of</th>\n",
       "      <td>2.656481</td>\n",
       "    </tr>\n",
       "    <tr>\n",
       "      <th>in</th>\n",
       "      <td>2.528857</td>\n",
       "    </tr>\n",
       "    <tr>\n",
       "      <th>to</th>\n",
       "      <td>2.475033</td>\n",
       "    </tr>\n",
       "    <tr>\n",
       "      <th>how</th>\n",
       "      <td>2.449169</td>\n",
       "    </tr>\n",
       "    <tr>\n",
       "      <th>do</th>\n",
       "      <td>2.256266</td>\n",
       "    </tr>\n",
       "    <tr>\n",
       "      <th>the</th>\n",
       "      <td>1.934945</td>\n",
       "    </tr>\n",
       "    <tr>\n",
       "      <th>what</th>\n",
       "      <td>1.904868</td>\n",
       "    </tr>\n",
       "    <tr>\n",
       "      <th>pron</th>\n",
       "      <td>1.771028</td>\n",
       "    </tr>\n",
       "    <tr>\n",
       "      <th>be</th>\n",
       "      <td>1.520193</td>\n",
       "    </tr>\n",
       "  </tbody>\n",
       "</table>\n",
       "<p>2656 rows × 1 columns</p>\n",
       "</div>"
      ],
      "text/plain": [
       "                           0\n",
       "spirit              7.215608\n",
       "annie               7.215608\n",
       "url                 7.215608\n",
       "basically           7.215608\n",
       "snap                7.215608\n",
       "362                 7.215608\n",
       "children            7.215608\n",
       "jagannath           7.215608\n",
       "surround            7.215608\n",
       "may                 7.215608\n",
       "milk                7.215608\n",
       "ems                 7.215608\n",
       "aviator             7.215608\n",
       "astrology           7.215608\n",
       "25000               7.215608\n",
       "cognizant           7.215608\n",
       "justify             7.215608\n",
       "10000mah            7.215608\n",
       "supreme             7.215608\n",
       "journalist          7.215608\n",
       "detect              7.215608\n",
       "clearance           7.215608\n",
       "pc                  7.215608\n",
       "scienceengineering  7.215608\n",
       "lines               7.215608\n",
       "rebel               7.215608\n",
       "26                  7.215608\n",
       "professorial        7.215608\n",
       "lover               7.215608\n",
       "justice             7.215608\n",
       "...                      ...\n",
       "an                  4.353407\n",
       "from                4.297837\n",
       "india               4.297837\n",
       "when                4.219875\n",
       "get                 4.171085\n",
       "use                 4.124565\n",
       "not                 3.996732\n",
       "should              3.976929\n",
       "that                3.957511\n",
       "if                  3.883403\n",
       "some                3.883403\n",
       "or                  3.848312\n",
       "which               3.814410\n",
       "with                3.674648\n",
       "on                  3.632089\n",
       "have                3.578021\n",
       "why                 3.264364\n",
       "good                3.112964\n",
       "can                 2.959995\n",
       "for                 2.959995\n",
       "and                 2.884874\n",
       "of                  2.656481\n",
       "in                  2.528857\n",
       "to                  2.475033\n",
       "how                 2.449169\n",
       "do                  2.256266\n",
       "the                 1.934945\n",
       "what                1.904868\n",
       "pron                1.771028\n",
       "be                  1.520193\n",
       "\n",
       "[2656 rows x 1 columns]"
      ]
     },
     "execution_count": 59,
     "metadata": {},
     "output_type": "execute_result"
    }
   ],
   "source": [
    "tfidf_df.sort_values(by=0, ascending=False)"
   ]
  },
  {
   "cell_type": "markdown",
   "metadata": {},
   "source": [
    "Wow. This is totally not helpful.\n",
    "\n",
    "I guess I have to be cleverer."
   ]
  },
  {
   "cell_type": "markdown",
   "metadata": {},
   "source": [
    "## Phrase Modelling"
   ]
  },
  {
   "cell_type": "markdown",
   "metadata": {},
   "source": [
    "We will be bootstrapping from the talk titled `Modern NLP in Python`. Below is some code from the talk that we should be able to apply to our problem as well."
   ]
  },
  {
   "cell_type": "code",
   "execution_count": 64,
   "metadata": {
    "collapsed": false
   },
   "outputs": [
    {
     "name": "stderr",
     "output_type": "stream",
     "text": [
      "C:\\Program Files\\Anaconda3\\lib\\site-packages\\gensim\\utils.py:855: UserWarning: detected Windows; aliasing chunkize to chunkize_serial\n",
      "  warnings.warn(\"detected Windows; aliasing chunkize to chunkize_serial\")\n"
     ]
    }
   ],
   "source": [
    "from gensim.models import Phrases\n",
    "from gensim.models.word2vec import LineSentence"
   ]
  },
  {
   "cell_type": "code",
   "execution_count": 65,
   "metadata": {
    "collapsed": false
   },
   "outputs": [
    {
     "data": {
      "text/plain": [
       "[Which domain is best for doing CSE final year projects?,\n",
       " How do astronauts pee in zero gravity on the ISS?,\n",
       " Are there any bad/cruel Starks in Game of Thrones?,\n",
       " How do I become a great role model for siblings?,\n",
       " Do animal cells have cell membranes? If so, how does it differ from the one in plant cells?,\n",
       " How can you simplify  [math]\\frac{2+\\sqrt{3}}{\\sqrt{8+4\\sqrt{3}}}[/math]?,\n",
       " How do I get VAT/TIN in Gurgaon to sell online?,\n",
       " What is the best social media organizer app?,\n",
       " Should all theists asking questions about atheism be advised to read them with theist instead of atheist in them first?,\n",
       " Can I travel to Mexico without a passport?,\n",
       " Describe a morning where youve lost your sight and are forced to find your way to work without your eyesight and everybody else is blind?,\n",
       " Can I know the advantage and disadvantages of the metahuristics?,\n",
       " What is the DARPU for Yammer?,\n",
       " Why do we have practical records in engineering college?,\n",
       " Who will win the World Series?,\n",
       " How many minute will I walk to cover 1 mile?,\n",
       " How do I become the team manager?,\n",
       " If I stop using Borland Delphi as my main programming language, then what should I replace it with?,\n",
       " How do I trade CNY/INR currency pair?,\n",
       " Can I drag-and-drop applications on windows to a different folder?,\n",
       " Why should the government not own companies even if they make profit?,\n",
       " Why does Quora discriminate between users allowing different amount of question details for different users?,\n",
       " What are hibernate validations?,\n",
       " How can I find out what fraction of employees are technology workers by industry?,\n",
       " Why and how did 3G Capital start the beer business?,\n",
       " How can I increase my followers count in Quora?,\n",
       " How do Burmese and Siamese cats look like?,\n",
       " Does drinking too much cause hickups?,\n",
       " What are some ways you can become a better writer?,\n",
       " How can I develop a website builder?,\n",
       " What companies are similar to IDEO in Brazil?,\n",
       " Why do people say Jimmy Carter ruined Iran?,\n",
       " What is the best thing to do after diploma?,\n",
       " What are some things new employees should know going into their first day at Armor Minerals?,\n",
       " What are good gifts for a foreign visitor to bring when they're invited to someone's home in Australia for the first time?,\n",
       " Is a earthworm unicellular or multi cellular?,\n",
       " Which sorting algorithms have the best case time complexity?,\n",
       " Can a company criticize another company? Is there any legal issue,\n",
       " Will having chartered accountant knowledge help in the stock market?,\n",
       " How can I make a multiplayer game in android?,\n",
       " Are mathematicians good at playing piano?,\n",
       " What is best music surround system for dancing home?,\n",
       " How is the word 'profound' used in a sentence?,\n",
       " Why did Lucifer rebel against God?,\n",
       " What is the most impressive Inpatient Drug and Alcohol Rehab Center in Maricopa County Arizona?,\n",
       " I am fat and ugly boy and my sister is slim and beautiful. Everybody in the family praise her for her looks. Nobody praises me. What should I do?,\n",
       " Has there ever been a U.S. president elected who, under normal circumstances, would be ineligible for security clearance? If so, what was done?,\n",
       " How can I transfer photoes and vidios from Dropbox to Google photoes by using my smart phone?,\n",
       " Why is cricket not popular in Scotland as in England?,\n",
       " How would you maximize your trading gain if you have a one-time superpower and know that S&P 500 would close at a certain point on a certain day?,\n",
       " How can I stop nail biting habit?,\n",
       " Is someone interested to make a group for learning n trying to become perfect in English fr sme competitive exam?,\n",
       " How likely is employment after graduating with an entrepreneurship degree if you know you won't have money of your own to start a business out of college?,\n",
       " Can you keep photos in iCloud and delete on iPhone with iOS 10?,\n",
       " What is the English word for മൺചിരാത്‌?,\n",
       " How do I search for a roommate in Bangalore?,\n",
       " How is it possible for teachers to adopt different teaching methods and techniques to keep students engaged?,\n",
       " What do Quorans think of Dinesh D'Souza and his opinions of President Obama?,\n",
       " Which universities offer PhD degree in sustainable energy?,\n",
       " Do women feel uncomfortable in short dresses/mini skirts? If so, why do they wear them?,\n",
       " What's the best political system?,\n",
       " What are the best online clothing stores in London?,\n",
       " Do you ever get confused for the opposite gender?,\n",
       " I want to join the Indian Air Force in the ground duty branch but I am a flat foot. Will I be able to clear the medical standards?,\n",
       " What are the aspects of political culture?,\n",
       " How much of Shantaram is fictional?,\n",
       " What can be the best idea to become an entrepreneur?,\n",
       " How much nicotine is in American Spirit cigarettes?,\n",
       " Why Americans will escape to Canada when Trump will rule the USA?,\n",
       " Do you need to be good at math to be a good database administrator?,\n",
       " What is the total amount of energy contained in the universe?,\n",
       " What is the best abs workout at home to get six pack abs? 15 year old?,\n",
       " Why is Yagami Light called Light?,\n",
       " What is meant by a 'cuspate delta'?,\n",
       " Why are only Hindus allowed in Jagannath Temple in Puri?,\n",
       " Why do I have to let her go?,\n",
       " Does anyone find Parasyte Maxim a good Anime to watch?,\n",
       " Why can't I configure the D-Link AP with a D-Link router?,\n",
       " I earn $250,000 per annum at Google. How much should I expect from Facebook?,\n",
       " Which companies are hiring iOS developers in NYC?,\n",
       " Which are the top software companies in Ahmedabad for PHP developers?,\n",
       " What are the two structures of a virus?,\n",
       " What are the best custom essay writing service that can be used for academic task?,\n",
       " How do you find out if you were adopted?,\n",
       " If infinite dark/vacuum/gravitational energy can be created as universe expands, does it mean that their potentiality or potential energy is infinite?,\n",
       " What's the best service that will notify me when my favorite bands put out new discs and/or comes to my town on tour?,\n",
       " Which are some useful apps for android on Google play store?,\n",
       " How do self cleaning ovens work? Are they a better alternative to regular ovens?,\n",
       " How do I install Hadoop on Ubantu?,\n",
       " Why do you hate C++?,\n",
       " What is the most disturbing truth about money?,\n",
       " What are some extinct religions?,\n",
       " In the NFL, what was the best head coaching hiring decision over the past 10-20 years?,\n",
       " What is super critical boiler?,\n",
       " How do I prepare for VITEEE 2016 for PCB?,\n",
       " How reliable are Mini Coopers?,\n",
       " What are some ways to lace etnies shoes?,\n",
       " How much real money would it cost to upgrade Archer Queen from Level 1 to Level 40?,\n",
       " What is Bloomberg VCON?,\n",
       " Which is the best hospital in Kolkata for skin treatment?,\n",
       " How can I make free mass P2P ACH payments?,\n",
       " How can atom and AORA by Aspen become compatible with exaquantum historian?,\n",
       " What makes you better than Trump? Why should we vote for you?,\n",
       " Is planking exercise dangerous?,\n",
       " Does skipping increase height?,\n",
       " What are the interview questions for civil engineer?,\n",
       " Do people with Aspergers have a full range of emotions or do they have \"different\" versions of common emotions?,\n",
       " Is there a way to make a down arrow on the keyboard?,\n",
       " Will I get an admission into a medical college if I score less than 550 OR 500 in NEET?,\n",
       " How did the Rothschild family get their money?,\n",
       " What doesn't an IQ test measure?,\n",
       " What do an international student need to get a scholarship for MIT?,\n",
       " Who is the most inspirational person to you?,\n",
       " How can I get into Google as a software engineer?,\n",
       " What are some good mythical creatures?,\n",
       " How can I recover a deleted Snapchat account?,\n",
       " Where can I buy gourmet cheese online?,\n",
       " Is cross-validation a good way to judge if a machine learning algorithm generalizes for the task of auto-encoders?,\n",
       " How do I get started with Cybersecurity?,\n",
       " What payment gateway tips we have for your online store?,\n",
       " Is Canada better than the USA?,\n",
       " Who is the University of Tennessee's mascot? How was it established?,\n",
       " Why is the number of waves made by an electron in any orbit equal to the principle quantum number?,\n",
       " Should I watch \"Stranger Things\"?,\n",
       " What is the corporate culture like at Annaly Capital? How is the culture different than other companies?,\n",
       " Is it diffult to become a doctor?,\n",
       " When Pokémon GO will be available for download in India on Android?,\n",
       " I live with my mom and we are always arguing and she is always blaming me for things and she never wants to talk to me and she told me that she does not care about me and that she wants me out of the house and she never lets me hang out with anyone or leave the house. What should I do about it?,\n",
       " Is homosexuality associated with certain diseases or other health issues?,\n",
       " What causes uneven facial hair growth patterns? How can it be corrected?,\n",
       " How can I be tension free?,\n",
       " What is the best keyword research tool for search engine optimization?,\n",
       " How much does the Maybach Landaulet cost?,\n",
       " Why is the Android file system so complex?,\n",
       " Why did God created only two main genders, male and female?,\n",
       " What is better for the human race. Bature vs nurture?,\n",
       " How important is Further Mathematics in A-Levels?,\n",
       " How does PayPal use debit cards?,\n",
       " Does the Clinton campaign plant operatives on Quora?,\n",
       " I am 22, Am I too late to enter stock market?,\n",
       " How long does hypomania in bipolar 2 patients usually last if left untreated?,\n",
       " How can I learn something?,\n",
       " What is NGDP targeting and what are some arguments for/against this as a US monetary policy?,\n",
       " I had a knee fracture in 2013 & I had my med test for the Indian Air Force & the doc said that your bone is joined incorrectly?,\n",
       " Advertising Agencies: How many people do companies typically expect to reach when launching a $100.000, $500.000 or $1.000.000 campaign?,\n",
       " How can I become data scientist after doing computer scienceengineering?,\n",
       " How did the Louisiana Purchase change the United States?,\n",
       " How many ladyboys are in Thailand?,\n",
       " Is the planet earth flat, hollow, or round?,\n",
       " Do you believe in astrology or palmistry? If yes, why?,\n",
       " Where is my husband found it now?,\n",
       " What is your review of Jawaharlal Nehru Technological University (JNTU)?,\n",
       " What is HBX analytics?,\n",
       " Is it ok to let your work be the one thing that defines you?,\n",
       " What is the pros and cons of Netbeans IDE for web development?,\n",
       " What are the best websites for career advice?,\n",
       " What do Greeks and Italians know and think about their shared history with Persia (including wars, cultural exchange and arts)?,\n",
       " When did the Allies know about the Holocaust?,\n",
       " What happened to Ning as of July 2016?,\n",
       " How much did it cost to build typhoon lagoon?,\n",
       " How do I clean off an old knife blade?,\n",
       " What are some local laws in regards to nudity in Vermont, and how do they differ from nudity laws in Kansas?,\n",
       " What are the best rock dubstep songs?,\n",
       " What will happen to human body when it is exposed to outer space ? Will human body rotate around earth forever , if left there to rotate?,\n",
       " What should I do to have sex with as many women as possible?,\n",
       " What are the best off-Broadway musicals?,\n",
       " How do I sweat easily for a person who is suffering with cholinergic urticaria or hives?,\n",
       " What is the meaning of puku?,\n",
       " What are the best books on Chanakya?,\n",
       " Is one full year's preparation enough to crack the IAS?,\n",
       " What are your best study tips?,\n",
       " What rock bands are the most overrated?,\n",
       " Grubwithus: Who are Grubwith.us' competitors?,\n",
       " What is the best WYSIWYG editor for Drupal 7?,\n",
       " Which currency should I pay my debt with?,\n",
       " Rearrange the letters in the word \"rite\" in order to make a new word. Which sentence below describes the new word?,\n",
       " Why doesn't Quora display the name of the person who asks the question, or the date the question was asked?,\n",
       " I am 40 year old woman who has never been in a relationship. How do I get started?,\n",
       " What is the problem in my code?,\n",
       " What do you find beautiful about the female body?,\n",
       " Am I bisexual, lesbian or straight?,\n",
       " How can I remember my words better?,\n",
       " Why do people feel the need to hate Apple products?,\n",
       " What makes mayonnaise a dairy product?,\n",
       " What basically is the function of main( )?,\n",
       " Where can I get cheap football replica jerseys (full sleeve) in pune?,\n",
       " Why do only the union territories of Delhi and Puducherry have chief ministers and not others?,\n",
       " If humans have eternal souls what's the point of their having bodies?,\n",
       " What should I do?,\n",
       " Why do earthquakes happen?,\n",
       " How reliable is Storenvy?,\n",
       " What are the changes you observe in people the moment you tell them that you have a PhD?,\n",
       " What is the ending of \"The Aviator\" trying to show?,\n",
       " What is the Improve India movement? Who leads it?,\n",
       " Is it important to learn MySQL for learning PHP?,\n",
       " I believe my wife is cheating. How can I hack her iPhone 5s?,\n",
       " Who do you think you were in a past life?,\n",
       " Why didn't Indian army show the faces of terrorist who attacked Uri base camp so that everyone can know about terrorists whereabouts?,\n",
       " Can you use quantum entanglement to travel through time?,\n",
       " Why are most of the schemes/offers not applicable in the state of Tamil Nadu (India)?,\n",
       " How do I know about mobile phone battery timing? How long will the battery life time be if it has 1000mAh, 2000mAh, 3000mAh? Is mAh the only metric for battery timing or does it also depend on other factors?,\n",
       " Can you give me some linear equations?,\n",
       " What is the difference between industrial design and engineering?,\n",
       " Why do I have a fear of reverse aging?,\n",
       " How can I get MOOC/E-learning through online web and video courses related to pharmacy developed by Indian professorial/professors?,\n",
       " How is Sprite as a hangover cure?,\n",
       " What is actual height of bollywood stars?,\n",
       " What is the best Avenged Sevenfold song?,\n",
       " What are the must-have apps for traveling?,\n",
       " What books and study materials I will need for political science and IR for CSE optionals?,\n",
       " What is a recipe for Pizza bagels?,\n",
       " What are the strengths and weaknesses of the advising system at Eastern Illinois University?,\n",
       " Is CRAX good for health?,\n",
       " Will there be a Lenovo A7000 PLUS variant?,\n",
       " What are the best tourist destinations for culture in Nigeria?,\n",
       " How can I prepare myself to crack the NID postgraduate entrance exam?,\n",
       " Is it a problem when a laptop runs out of power while traveling without power bank?,\n",
       " What is it like to live in Mumbai, India?,\n",
       " Would I get a call from IIT-kharagpur, IIT Kanpur, IIT Roorkee & IIT Madras for their MBA programme with 93.3 percantile in CAT-15?,\n",
       " What is caused by astigmatism?,\n",
       " What have members of Khizr Khan's family accomplished personally and professionally since emigrating to the United States from Pakistan in the 1980?,\n",
       " Who invented the submarine?,\n",
       " What are some tips for getting high scores in Imbroglio (iOS game)?,\n",
       " How common is it for iPhone users to create a Game Center account?,\n",
       " How do some students score very well without studying much?,\n",
       " What advice would you give to a 15 year old boy?,\n",
       " What are some good historical documentaries?,\n",
       " What is the gun carried by Annie Walker in Season 3 Episode 14 of Covert Affairs?,\n",
       " How fast do phone LED flashes degrade?,\n",
       " Can you write a sentence that begins with \"I is\"?,\n",
       " What makes Spark faster than MapReduce?,\n",
       " Do most people have eye floaters when they look at the sky or other bright things?,\n",
       " Does Quora pay well-known people for submitting their answers?,\n",
       " Is it possible to end the terrorism completely or not?,\n",
       " How much profit per trade do HFT firms target while trading in Indian Market?,\n",
       " What does it feel like for someone with borderline PD to be drunk?,\n",
       " What is the best time to buy a car?,\n",
       " Which IIT is better for pursuing an Mtech in civil engineering?,\n",
       " How can I join the US Military without being a US citizen or PR?,\n",
       " What do Iranians think about Israel?,\n",
       " What are some of the advantages and disadvantages of arranged marriages?,\n",
       " Why do you want to work for?,\n",
       " Is there a way we can just unlock 10% of our brain?,\n",
       " What is the anti-arrhythmic mechanism of esmolol?,\n",
       " Why was Sweden able to stay neutral?,\n",
       " How can you file complaint against apartment complex and what are some examples?,\n",
       " Can I work in India after persuing LLB from abroad?,\n",
       " What is a suitable inpatient drug and alcohol rehab center near Franklin County AL?,\n",
       " MyDad has a low sugar level of 68mg/dLHe has started acting completely differently and has psychologically changed.He does remain depressed wht to do?,\n",
       " How will the demonetization of 500 and 1000 rupee notes affect the value of INR against USD?,\n",
       " Why do electrons move from depletion region to cathode in photodiodes and depletion region to base in the base-collector junction of phototransistors?,\n",
       " Why is studying important?,\n",
       " How is Russia a superpower?,\n",
       " How can I improve my general awareness?,\n",
       " How long does it take you to write one page?,\n",
       " Was the film Bahubali released in Bangladesh?,\n",
       " How would you write yourself into Fantastic Beasts and Where to Find Them?,\n",
       " Will Gary Johnson be included in the presidential debates for the 2016 general election?,\n",
       " Why were the Aboriginals so primitive?,\n",
       " What kind of freelance project(CS) does earn the most?,\n",
       " What is Verilog and where is it used in real life?,\n",
       " How do you tell Uber you want to pick up another passenger on the way to your final destination?,\n",
       " Which is the best engineering college in chennai?,\n",
       " Do you like spanking or being spanked?,\n",
       " What is the good time to sell a property in India after the recent Demonetization of currency?,\n",
       " How can I increase the size of my buttocks?,\n",
       " What is the easiest way to learn 3d max?,\n",
       " What were the beliefs of Aristotle?,\n",
       " Does YouTube Certification in Audience Growth give you knowledge that can significantly boost YouTube views?,\n",
       " How can I make money from trade?,\n",
       " What does it mean to have chemistry with someone?,\n",
       " My ex boyfriend lied to me on our first date about being married what should I do?,\n",
       " Is Quora a safer way to date than Craigslist?,\n",
       " What is the English meaning of 'KAJu'?,\n",
       " What is the per question weightage (marks) in the Engineering Service Exam objective paper?,\n",
       " Why haven't ISIS attacked Israel with a terrorist attack similar to their attacks across the Middle East and in France?,\n",
       " Grammar: When should I say I've had or I had?,\n",
       " Could dark matter exist in small clumps here on Earth?,\n",
       " Which is the best site for online movies?,\n",
       " How can some people still believe the world is flat?,\n",
       " What are the similarities and differences between the two relativity Theories? (Special & General),\n",
       " Where can I buy second hand bikes in Pune?,\n",
       " What is it like to work at Industrybuying.com?,\n",
       " How many heterosexual women have \"dipped in the lady pond\" once or twice?,\n",
       " Why does Gordon Ramsay like to curse?,\n",
       " Video Games: Could it be possible to create a video game that is high art?,\n",
       " Could anyone jump from free falling object? If yes, explain how. if not pls also explain why no?,\n",
       " What is the best way to delete my Kijiji account?,\n",
       " What is the future of civil engineer in India?,\n",
       " What's it like to have parents who both attended Harvard (or any other elite universities)?,\n",
       " I heard the work culture in BARC is bad,is it true?,\n",
       " How can I start a small scale 3D printing business?,\n",
       " Can I use any full cover fake/acrylic nails for UV gel?,\n",
       " Is it worse to fail at something or never attempt it in the first place?,\n",
       " Is Indian education system right to bring best of Indian talents forward to serve the country, or any particular field?,\n",
       " How is junior college in Singapore compared to Pakistan?,\n",
       " Why isn't there any international cricket stadium in Coimbatore?,\n",
       " How does an instant messenger work?,\n",
       " What are some examples of great mentors in the history of the world?,\n",
       " During WW II how many German soldiers impregnated their wives before going to the war?,\n",
       " Why are my veins very visible on my hands, arms, legs, and feet?,\n",
       " What is the correct pronunciation of 'the'?,\n",
       " What is the greatest lie ever told?,\n",
       " What are the most expensive items listed on Amazon?,\n",
       " What people do with their free time?,\n",
       " What were Palmer Raids a reaction to?,\n",
       " What is the difference between story writing and screenplay writing for movies?,\n",
       " Should I buy a Samsung Galaxy note 4 now? Is it a wise choice now?,\n",
       " What are the good and bad things about city living?,\n",
       " Are there any truly capitalist or socialist countries?,\n",
       " What does each check box mean when a message is sent on messenger? How do you know when it has been read?,\n",
       " What are some special cares for someone with a nose that gets stuffy during the night?,\n",
       " How do we get dead people off business junk mail lists faster?,\n",
       " Do canadian universities accept 3 year bachelor program from india for pursuing ms?,\n",
       " Is there a pattern to the prime numbers?,\n",
       " What is the elasticity of substitution?,\n",
       " If Silicon Valley startups are tech and IP driven, and LA startups are business model driven, what are startups from NYC? And other cities?,\n",
       " What impact does demonetizing the 500 and 1000 rupee notes will have on rupee’s value against other currencies?,\n",
       " What are the side effects of 100 Pipers Scotch whiskey?,\n",
       " What is the difference between \"Neutral axis\" and \"Centroidal axis\"?,\n",
       " What are the best Indian TV series?,\n",
       " I thought vodka was supposed to be colourless, odourless and tasteless. How am I supposed to be able to choose good quality vodka to drink?,\n",
       " Who can help me deal with the Australia student visa?,\n",
       " I can't finish Cognizant's eugenics. It's showing that I have only completed 33% even after its completion. What should I do?,\n",
       " Any recommendations for a CMS that provides geo targeted content functionality?,\n",
       " What were the long term effects of World War I?,\n",
       " Stephanie MacMahon: When will John Cena turn HEEL?,\n",
       " In the process of deindustrialization as a country's economy moves from manufacturing to service sector, does it go through recession?,\n",
       " Which is cheapest, fastest and simplest Email marketing tool?,\n",
       " What are the best alternatives to Alexa.com?,\n",
       " I just jumped out of my sleep and felt my body buzzing and I can't remember if my heart was stopped or beating really fast. What is wrong with me?,\n",
       " What is the best price to buy a share?,\n",
       " What will be the effect on commodities (silver/gold) because of China's economy collapse?,\n",
       " Why does HDTV does not support HDCP?,\n",
       " Why do people shout?,\n",
       " Why do people feel patriotic only towards their country?,\n",
       " Which is the best book for inorganic chemistry?,\n",
       " What is the infinitive verb?,\n",
       " How do I improve my concentration while studying for exams?,\n",
       " What should be one's JEE Main score to get CSE at NIT Tirchy with SC reservation?,\n",
       " How do you post a 'Moved to' status on Facebook with the house symbol?,\n",
       " How do I make money online with decent Photoshop skills?,\n",
       " Why are the flywheels in a 2 stroke engine lighter than in a 4 stroke engine?,\n",
       " Why does it say on instagram that a username is unavailable when it just got deleted?,\n",
       " How do I finalize signing up with Quora?,\n",
       " How does a girl feel during her first period?,\n",
       " What are some funny bar trivia team names?,\n",
       " Startup Law: How common is the anti-dilution provision for VCs in a Series A round?,\n",
       " How can I make money buying from AliExpress and selling them in my country?,\n",
       " What is difference between \"come in\" and \"come on in\"?which is the correct usage?,\n",
       " What is your review process of A*STAR (Agency for Science, Technology and Research, Singapore)?,\n",
       " What are the steps involved in boarding an international flight like from New Delhi to London from the moment you reach airport?,\n",
       " What is the best suited material used to make a quadcopter or the material used in the body frame of DJI Phantom quadcopter?,\n",
       " What universities does Roadrunner Trans recruit new grads from? What majors are they looking for?,\n",
       " If you go from enlisted to officer, does your time spent as an enlisted member count towards your overall time in service?,\n",
       " Why did Mohammed order Muslims to sever all ties with their parents and all other family members until they embraced Islam?,\n",
       " Why am I obsessed with depressing quotes, and music?,\n",
       " What happens if lining bleeds and sheds during pregnancy?,\n",
       " Which iPhone should I buy, the iPhone 6s Plus or iPhone 7?,\n",
       " How do I prepare for CDS and SSB?,\n",
       " Who will Donald Trump appoint to the Supreme Court?,\n",
       " How dangerous is it to pick up hitchhikers?,\n",
       " How can I tie-dye this soccer jersey?,\n",
       " Is Modi never corruptible?,\n",
       " I resigned my job due to transfer to other state, 5 yrs worked for the company, its been 3mnths, now the company wants to retain me with salary hike?,\n",
       " What is drop shipping?,\n",
       " I have begun teaching myself a new language. I am afraid that after a month or two, my enthusiasm will fizzle out and I'll start slacking off. How can I keep myself motivated to stick with this endeavor?,\n",
       " What is the most popular name?,\n",
       " What are the application areas of mDNS?,\n",
       " Is World War 3 more imminent than expected?,\n",
       " What are some options for a biology student after class 12th in India?,\n",
       " Could CAT exam and MAT exam take place on same day (4th December 2016)?,\n",
       " How should I invest $3000?,\n",
       " What does the expression \"smoke and mirrors\" mean?,\n",
       " How do I get into ISRO or DRDO after completing a BTech in CSE?,\n",
       " Does any one have ebook of answers of wren and Martin grammer and composition?,\n",
       " Hi everyone. Are there any best sites for watching movies with subtitles for free?,\n",
       " What are some low fluoride teas (from the camellia sinensis plant)?,\n",
       " When was Quora launched?,\n",
       " What is Amazon Prime Now?,\n",
       " What is it like to ride in Uber's self-driving car?,\n",
       " What do you generally call a person that creates / makes / does business?,\n",
       " Where to invest? Tomorrow I will be going to invest stocks for the first time. Can any one suggest which one to buy? I will be investing 1k-2k INR?,\n",
       " I am a single female. I'm almost 29 and I do want to eventually get married, have children and live in a nice house. Currently far from this, should I be worried?,\n",
       " What is the meaning of पशुगमन?,\n",
       " What makes University of Pennsylvania (U PENN) a great school?,\n",
       " Are there artists active today who embrace elements of wabi-sabi in their work?,\n",
       " What are the most overrated accelerators and why?,\n",
       " What are the difficult parts of being a QA engineer?,\n",
       " What does this emoticon mean ✊?,\n",
       " What are foods that start with W?,\n",
       " How much wwe earn per weekly raw show?,\n",
       " Is Basa fish good for health?,\n",
       " Which s the best book for IBPS it offcer?,\n",
       " Which is the best approach to measure ROI of CSR initiatives?,\n",
       " What's the difference between Grand Central Station and Grand Central Terminal?,\n",
       " Why isn't there a single Modern Latin language like Modern Greek?,\n",
       " What is feeder?,\n",
       " What are some useful equations in civil engineering?,\n",
       " Which TV series can be compared to the friends?,\n",
       " What is your review of SeaWorld Parks & Entertainment?,\n",
       " What are some interesting farewell emails?,\n",
       " Why is Candy Crush so addictive?,\n",
       " What does my Kundali reveal about career?,\n",
       " What are cob grow lights?,\n",
       " What are the job opportunities after getting a Master's degree in mechanical engineering in Germany?,\n",
       " How should I celebrate my 18th birthday?,\n",
       " How would you go about to assassinate the president of the USA?,\n",
       " What would Mike Pence do as a president or vice president?,\n",
       " How shall I report a question?,\n",
       " Do Russians listen to American music?,\n",
       " Reception definition?,\n",
       " What is the best pre workout drink before a long run?,\n",
       " Is it legal to own a grenade in the US?,\n",
       " Where can I order whale milk online?,\n",
       " Which is the best Alternative Rock band and Why?,\n",
       " Can sugar go bad? Why or why not?,\n",
       " What tricks do you use with Apple's iOS10?,\n",
       " How can I know if a girl has a day of her periods?,\n",
       " How can I develop an e-commerce website?,\n",
       " How can I make great chili burger pizza?,\n",
       " What GATE rank is required to get into PSUs like ONGC and IOCL?,\n",
       " What is the proper form for doing squats without weights?,\n",
       " Why do you think people are supporting Trump?,\n",
       " What is the past participle of \"hear\"?,\n",
       " Should the age of majority be lowered to 12?,\n",
       " What could be an innovative and presentable project by ece student in 2nd year?,\n",
       " What is a best gaming laptop below $700?,\n",
       " Which online forum(s) can one find the most rational, productive and insightful discussions on the planet?,\n",
       " How can I find a person with only their picture?,\n",
       " What could be done to solve the water problem in India?,\n",
       " Can you be both spontaneous and successful?,\n",
       " Why is there no Apple Pay showing on the wallet app?,\n",
       " I'm sort of an introvert. Kindly tell me how to begin a conversation with a total stranger?,\n",
       " How is the enthalpy of combustion of octane determined?,\n",
       " How many attempts can a person make for GATE?,\n",
       " What is the meaning of the Punjabi word “Bulleya”?,\n",
       " Where can I found experienced & friendly team of counsellors and psychotherapists in Sydney?,\n",
       " I want to discontinue 5 plan 149 Jeevan Anand & 3 plan 165 Jeevan Saral policies. What should I do?,\n",
       " How far could Jet Li go in the UFC if he really trained for it while in his physical prime?,\n",
       " What causes black spots on a cat's gums?,\n",
       " How do I convince people with mathematical proof that nothing can go faster than the speed of light?,\n",
       " Why does my cat get mad when I pet him?,\n",
       " What is domestic shipping? What's it used for?,\n",
       " How does it feel to have climbed Mount Everest?,\n",
       " What are some things new employees should know going into their first day at Tyson Foods?,\n",
       " Where can you the watch the English dubbed, Naruto Shippuden episode 362?,\n",
       " Why degree in psychology?,\n",
       " What are the best technology wallets you probably should buy?,\n",
       " What does social studies include?,\n",
       " I am in a long distance relationship. I cannot get my boyfriend to talk to me, yet he spends a great deal of time on Quora. What do I do?,\n",
       " How can I get better at talking to strangers?,\n",
       " Which city is best to visit Milan, Venice, Florence or Rome?,\n",
       " Oceanography: After a day spent in the ocean, why is it I still feel the waves when I'm laying still at night?,\n",
       " Which is a suitable solar panel installation provider in Lamont, California CA?,\n",
       " What are great examples of self-sacrifice?,\n",
       " How can I get rich quick in London?,\n",
       " What are some things new employees should know going into their first day at First Potomac Realty?,\n",
       " How often can I high-five myself?,\n",
       " What are the best books for psychology?,\n",
       " How long does a quality mattress last?,\n",
       " What legalities do you have to deal with when you turn 18?,\n",
       " Is there a cold war between Pakistan and India?,\n",
       " Is being a perfectionist a strength or a weakness?,\n",
       " How long would it take to walk across Tokyo?,\n",
       " Is it unethical to block ads on mobile apps when there are options to pay to remove ads?,\n",
       " What is non-fiction?,\n",
       " What would really happen if someone's neck were to be snapped, like in action movies?,\n",
       " After a person completes a statement when rhetorical words are involved and caught on by a listener, is it technically (or politically) correct to state that the person is \"using\" rhetoric, \"being\" rhetorical, or are both the same?,\n",
       " What is the Fourier transform of this?,\n",
       " In terms of general relativity, how does the moon create tides?,\n",
       " Is type 2 diabetes genetic?,\n",
       " Can I re-purpose someone else's patented invention and patent it?,\n",
       " Can I use Ruby for building apps and games on iOS and Android?,\n",
       " What is the difference between Arthematical and analytical calculation?,\n",
       " Which country in the world is considered to have the best foreign policy? Why?,\n",
       " Should I write \"to give, to show and to influence\" or \"to give, show, and influence\"?,\n",
       " As an Indian, how can I join a fight against ISIS?,\n",
       " What's a math trick that is not very well-known?,\n",
       " When do we use semi colon?,\n",
       " Why is everybody still pretending there is One China?,\n",
       " When can I test for pregnancy?,\n",
       " What is a white dwarf and how do they form?,\n",
       " What are good mixers with Fireball whiskey?,\n",
       " Why do we use rocket instead of airplane?,\n",
       " What do South Koreans think about Indonesia?,\n",
       " Why are some Americans so upset about Trump's being elected as President of the U.S.?,\n",
       " Can I still be pregnant?,\n",
       " Can a shopping portal use image of product from its official company's website?,\n",
       " What are the reasons for rural-urban migration in India?,\n",
       " How do you eat Tampico pops?,\n",
       " Which place in the world changes your personality?,\n",
       " What Toni Morrison book should I start out with, and is there anything I should know before I start reading her novels?,\n",
       " What makes women or girls hard to understand?,\n",
       " What's the most secure web browser?,\n",
       " Is it possible to make a living by being a film extra?,\n",
       " Do you think the world would have been more peaceful if there was no religion?,\n",
       " Where do I catch a Gastly in Pokemon Go?,\n",
       " What is your review of Ourcampus.co?,\n",
       " How do I significantly improve my grades?,\n",
       " What would happen if we simply declared Cuba, North Korea, and Iran as friends, and genuinely treated them as such?,\n",
       " I want to start watching Korean drama and movies. Where should I start?,\n",
       " I installed the movie torrent with Ultra XVid Codec Pack.exe in folder with it. Is it safe to run it in order to play the movie (is it a virus)?,\n",
       " How can I prepare for UPSC enforcement officer exam?,\n",
       " What is the difference between white and yellow cheddar cheese?,\n",
       " I got 10$ Uber credits by using promo code although I set my country as India (local currency is INR). Can I use it here?,\n",
       " My wife just started following me on Quora. How do I get completely off Quora?,\n",
       " How can I do network setup for DirecTV?,\n",
       " What is the physical criteria for the army?,\n",
       " Do Americans really believe in vampires?,\n",
       " How do you play the game Snaps?,\n",
       " What are some tips to stop overeating?,\n",
       " Why isn't the earth and the other matter inside the earth atmosphere is blown away because of the higher pressure inside the atmosphere and the vacuum in outer space?,\n",
       " China : What makes majority of China poor despite its high development rate?,\n",
       " What is speed of plane?,\n",
       " Will my iPhone 6 that was purchased in India work in the USA?,\n",
       " How can I be a good lover?,\n",
       " What are the best cities to live in the US?,\n",
       " Can I use University logo's on my website, accompanied by: \"used by researchers from a.o. these universities\"?,\n",
       " Does an incumbent president need to be nominated to run for a second term?,\n",
       " What would be the salary of a bank PO after a recent hike by the banking industry (including 7th pay commission if applicable)?,\n",
       " Why do people talk behind my back?,\n",
       " Crush used to like me. I think he doesn't anymore. Should I talk to him?,\n",
       " What are the most effective ways to sell to a new industry?,\n",
       " If I have a laptop power cord that is plugged into the electric wall plug socket, but not plugged into my laptop, will this add to my electric bill?,\n",
       " On what factor does the resistance of a conductor depend?,\n",
       " Why does the speed of a synchronous alternator decrease slightly on loading while that of a synchronous motor remain constant even as we load it?,\n",
       " How can I check if my 11 years old and unused bank account still exists or not?,\n",
       " What are the things you need for survival?,\n",
       " Was there ever a rational explanation offered by censors for why women's navels could not be exposed on American TV until the late 1960s?,\n",
       " Which is the best car in the range of 3-5 lakhs?,\n",
       " Who is better, Lebron James or Kobe Bryant? Why?,\n",
       " I may score 178 in WBJEE medical 2016, what would be my probable rank?,\n",
       " What are some of the intresting stories of placement?,\n",
       " How was the Mughal empire in India?,\n",
       " What's the difference between \"what are you thinking\" and \"what do you think\"?,\n",
       " What does a \"life worth living\" mean to you?,\n",
       " Are these videos on Youtube about fake images of Earth from NASA true or not?,\n",
       " What are the reasons to prefer a Windows phone over an Android?,\n",
       " What is Simon Cowell like in person?,\n",
       " Is it easier to get into University of British Columbia or Toronto for MSCS than into one of top 50 universities (excluding top 20) in US?,\n",
       " If honesty is the best policy then why most of the honest people remain poor and middle class, but dishonest people get rich?,\n",
       " Did time begin before the Big Bang?,\n",
       " What do women think about nice guys?,\n",
       " Why is the Google Pixel named “Google Pixel, Phone by Google?”,\n",
       " Can I use water pump on sticky liquid instead of water?,\n",
       " When will season 2 of attack on titan be on netflix?,\n",
       " How will scrapping the INR 500 and INR 1000 currency notes affect the daily lives of Indians?,\n",
       " Which Luna Bar flavor is the best?,\n",
       " What is it like to become successful?,\n",
       " What are the limits of String Size and BigInteger in Java?,\n",
       " How do I crash nda?,\n",
       " How can or will EMS accommodate those on the Autism spectrum?,\n",
       " What's the most efficient way to learn any language?,\n",
       " What is difference between a bushing and a bearing?,\n",
       " Do people with avoidant personality disorder often choose people with narcissistic personality disorder as life partners?,\n",
       " What were some of the movies you’ve watched again and again?,\n",
       " Which is a great SEO content generator?,\n",
       " If I have unfriended someone on Facebook can I see what they post on their page?,\n",
       " What was Dennis Ritchie's net value prior to his death?,\n",
       " How do I market my small business in budget?,\n",
       " What is a summary of \"My Oedipus Complex\" by Frank O'connor?,\n",
       " In Les Miserables, why are the women of the factory so upset that Fantine has a daughter?,\n",
       " How do I get my girlfriend to have sex with me?,\n",
       " What optics do Navy SEALs use?,\n",
       " How do I apply for an interview in zoho?,\n",
       " What famous actors are diagnosed as psychopaths?,\n",
       " How do you know if a girlfriend is right for you?,\n",
       " How can I prepare my self to be a good doctor?,\n",
       " What is a portfolio URL?,\n",
       " Why do so many Americans know so little about the rest of the world?,\n",
       " What are some of the best gifts for Raksha Bandhan?,\n",
       " How can I treat pancreatitis in a natural way?,\n",
       " How can I earn more credits on Quora?,\n",
       " Which material is useful for the ccnp route 300-101 exam?,\n",
       " As a Nigerian Why have you decided not to ever get married?,\n",
       " What is the best mobile phone below Rs. 25000?,\n",
       " Do fishes fart?,\n",
       " Is the WD Passport ultra hard-disk compatible with Linux OS?,\n",
       " How do I prepare for DMRC JE electronics exam?,\n",
       " Which is the best college for aeronautical engineering in india?,\n",
       " I'm 26 years old and my eye sight hasn't stabilized yet. Is this normal?,\n",
       " Do you think India is going win more medals in next Olympics (2020)?,\n",
       " What are some things new employees should know going into their first day at Oceaneering International?,\n",
       " Why my usa visit visa has been rejected?,\n",
       " What should I do to have a freelancer debit card?,\n",
       " What does \"thinking\" mean?,\n",
       " Did the Chinese ever take revenge for Nanking?,\n",
       " What is import and export?,\n",
       " What is on-site ratio used by IT companies?,\n",
       " Is it worth spending the extra money to get the 1TB SSD option on a new MacBook Pro?,\n",
       " How did the universe look like before the Big Bang?,\n",
       " Were German soldiers in WW2 actually \"Nazis\"?,\n",
       " What can I do with a project management certification?,\n",
       " Can I say, Their uncle hinted on a pleasant surprise if they behaved themselves?,\n",
       " How can I improve my programming knowledge to settle in IT industry?,\n",
       " How can you tell if somebody have a low IQ?,\n",
       " Can you suggest good topic for IB Maths IA SL?,\n",
       " What are your favorite documentaries of all time?,\n",
       " What is target?,\n",
       " Where did the phrase \"shut up\" come from?,\n",
       " Can I use wifi without password?,\n",
       " What is your problem with starting your own business and why you want to start? What will happened if the problem will be solved,\n",
       " Who are the best Indian journalists?,\n",
       " How did the Germans feel about General Eisenhower during WW2?,\n",
       " Is there a difference in meaning between \"take the time\" and \"take time\"?,\n",
       " How can emotional intelligence help you manage resentment?,\n",
       " What is the average salary you get in India after doing an MS in computer science from an average US university?,\n",
       " What is considered the most difficult instrument to play?,\n",
       " What is the best meal in the world?,\n",
       " What is this in my ear?,\n",
       " What is the best technique to teach coding?,\n",
       " How do I delete live stories from Snapchat?,\n",
       " Did Gandhi Ji meet Swami Vivekanand?,\n",
       " How do you translate the word \"peace\" to German?,\n",
       " How does it feel to run the technical department of a non-technical start-up?,\n",
       " Which of the four lead Seinfeld characters is the least evil?,\n",
       " What is the best way to prepare for GATE in CSE, when you are doing your b.tech?,\n",
       " How do you learn new things on the job?,\n",
       " How do I evaluate the integral [math]\\int\\log x\\sin x\\,dx[/math]?,\n",
       " How can I change the font size of the Quora app?,\n",
       " What are some taboo topics that shouldn't be taboo?,\n",
       " How should I prepare for clearing SAP labs online test?,\n",
       " Did Michael Jackson use wigs since 1995 till his death ?,\n",
       " What is it like to live in the playboy mansion?,\n",
       " Why is Donald Trump being criticized for minimizing his taxes?,\n",
       " How can you calculate sin, cos, and tan without a calculator?,\n",
       " Why should we join the BPO sector?,\n",
       " Which among cat and iift difficult?,\n",
       " What is the biggest website made in Laravel?,\n",
       " Can I use my credit visa card to receive payments from online employer through PayPal?,\n",
       " What's your view of happy family?,\n",
       " What does it take to be a plastic surgeon?,\n",
       " In what states is it illegal to transport liquor across state lines?,\n",
       " I am a dancer and I have my own class but I am financially weak and I want to help poor child to learn dance what should I do?,\n",
       " My rating on codeforces is1350 and I am 3rd yr IT student how can I improve my coding skills as well as my rating to reach 1700 on codeforces?,\n",
       " When looking for a new job, should keep my work experience letter ready?,\n",
       " I have $100,000. I'm 16. What should I do with this money?,\n",
       " Where is Kumari Kandam?,\n",
       " Why is the 230 Volt for single phase and the 440 Volt for three phase?,\n",
       " How is Lionel Messi in person off field?,\n",
       " What is the organisational structure of SBI?,\n",
       " Why is there a (collective) Great Britain team at the Olympics and the commonwealth but at the FIFA World Cup there are individual countries (like England, Wales, etc.)?,\n",
       " Why do I lose facial hair?,\n",
       " What is the supersoild state of matter?,\n",
       " What do Israelis think of Yiddish?,\n",
       " What are the best online shopping sites in Sweden? Do you know if any of listed ones use live chat in their customer service? How popular is to have live chat option on your site in Sweden?,\n",
       " What are some interesting publicly available data sets?,\n",
       " How is the future scope in being an Android Developer?,\n",
       " What is the best way to learn how to rap?,\n",
       " How does World War 2 started and ended?,\n",
       " What are some nice, beautiful stories?,\n",
       " What does Richard Muller think of free will? Is it consistent with our knowledge of the physical world?,\n",
       " What are full grown Jack Russell/Border Collie mixes like?,\n",
       " What are the top forums for CPG and the retail industry, which can be used to post contents and queries?,\n",
       " I am interested in neural engineering, neuroscience and artificial intelligence. Is there any relation between these three fields?,\n",
       " How much saving is required pm if a man has turned 45 and now wants to start saving in order to have a good pension by 58?,\n",
       " Who are some of the most beautiful women in the world?,\n",
       " How are the types of nerve cell structured?,\n",
       " What are some of the Indian laws that control Indian media's misuse?,\n",
       " What's the reason when ever I smoke cigrette in fasting, I feel vomiting, fainting, a lot of sweat and very high breath rate?,\n",
       " What is the differents between isometric view and isometric projection?,\n",
       " Electrical engineering vs computer science engineering; which one's better?,\n",
       " What is the application of RLC Circuit?,\n",
       " Are there any useful chat rooms for hackers?,\n",
       " Will India be a developed country by 2020?,\n",
       " Do narcissists tend to be neurotic and paranoid?,\n",
       " Is Mark Cuban on Quora?,\n",
       " What do people really mean when they say someone (mostly a celebrity) has \"aged well\"?,\n",
       " Importance of evaporator?,\n",
       " Why do I have red dots on my thighs?,\n",
       " What is the worst hospital experience you ever had?,\n",
       " What are the details of Jose Contreras' Coding House review?,\n",
       " What does the phrase \"Orisha tengo empresa \" signifies in santeria religion?,\n",
       " What is the significance of the fact that ' 0 is neither a positive nor a negative number?,\n",
       " What's the basic set of applications you are using in managing a project?,\n",
       " What are the best Gate exam Books for mechanical engineering?,\n",
       " Which is the best call blocker for Android? Caller must not know that App hung up the call (Phone is busy). What are other ways to block them?,\n",
       " How Heaven is described in \"The Bible\"?,\n",
       " What is commissioned education? How does it work in South Korea?,\n",
       " What are some good examples of SNES emulators that work with Windows 7?,\n",
       " Is Derek Carr of the Oakland Raiders a legitimate contender for NFL league MVP?,\n",
       " What does prevent India from striking Pakistan?,\n",
       " How do I deal with stage fright?,\n",
       " What songs regularly get stuck in your head?,\n",
       " What is the difference between a violin and a fiddle?,\n",
       " What is the difference between a graduate education in the US and in the UK?,\n",
       " Where can I find a good MySQL syntax checker?,\n",
       " What are the world's happiest countries?,\n",
       " What is uses of Die steel?,\n",
       " What were the highlights of Google I/O 2015?,\n",
       " What are the consequences of snorting crystal meth?,\n",
       " What are some good effects of ice cream when you have a fever?,\n",
       " I decided to make a special playlist with songs named after various cities and countries. What are songs that I can add to such a playlist?,\n",
       " Which was Voldemort's first murder?,\n",
       " What is the best way to start a project?,\n",
       " Is artificial intelligence real?,\n",
       " Will my narc ex ever come back to me even though he hates me right now?,\n",
       " If I start my car in a closed garage, how long before it becomes dangerous?,\n",
       " How can I control my anger.. I get an anxiety feeling for small small things?,\n",
       " What is the most f'kd up question that you have been asked in an interview?,\n",
       " Which useful Android phone apps are not available in the Google Play store?,\n",
       " How does blogging help?,\n",
       " Should it be concerning if your boyfriend never thinks to phone you when he's drunk?,\n",
       " What is the meaning of the phrase \"speak softly and carry a big stick\"?,\n",
       " What do Dalits think of RSS?,\n",
       " What is the healthiest clothing to wear for sleeping?,\n",
       " What would be a good investigatory project in chemistry for class 11?,\n",
       " What are some effects of being born in the 21st century?,\n",
       " Is this real life?,\n",
       " What is Veto power?,\n",
       " Which is a good auto user manual creator for software?,\n",
       " What does it mean if a guy asks for permission to kiss me?,\n",
       " How do you find out if someone got married?,\n",
       " I am a Microbiology student under Calcutta University. I could not study well and I am sure, I'll fail in my Part1 what should I do?,\n",
       " What are possible causes for a uterus to be in a retroverted position?,\n",
       " I think of my sister while masturbating. Is  it wrong?,\n",
       " What trivia (and/or little-known facts) do you find interesting about the USA?,\n",
       " Which is the most efficient candle design which doesn't exudes even a small amount of wax as waste & continues to burn for a long time?,\n",
       " What are some major projects based on servlets and jsp?,\n",
       " What are the best novels in 2016?,\n",
       " Which material is harder than diamond? Why?,\n",
       " How do I become a venture capitalist?,\n",
       " How would you respond if you found out your son or daughter had just decided to be a porn actor?,\n",
       " Who are the best 5 ministers in Modi cabinet?,\n",
       " Why doesn't Bastion work on Chrome anymore?,\n",
       " Does spiritual healing work?,\n",
       " How are particles observed in the double-slit experiment?,\n",
       " What can you use the Apple iPad Pro 9.7 for if you don't have an iTunes account?,\n",
       " Is it true that the insect found in cabbage can not be destroyed even after cooking?,\n",
       " What is the objective of the Pepsi company?,\n",
       " How does bra sizing function?,\n",
       " What would be some reasons for changing your school division (without saying that you're doing it for your friends)?,\n",
       " How can I make my penis thicker?,\n",
       " If your CTC is Rs.40 lpa, what do you take home after taxes and other deductions?,\n",
       " How much does it cost to fit a drip irrigation system for 1 acre in India?,\n",
       " What are the most watched movies online?,\n",
       " What is the importance of the Mona Lisa?,\n",
       " What are the pros and cons of movable pulleys?,\n",
       " I'm thinking of purchasing a solar charger that is listed as 10000mAH, with 5V with 2.1A max. Can I use this to charge my cell phone, which is rated at 5V& 1.2A?,\n",
       " Which are some apps that are popular in the USA but not so much in India and have not yet been implemented due to whichever reasons imaginable?,\n",
       " Why are there no SC/ST OBC in the Indian cricket team?,\n",
       " Good libraries in old Rajendra Nagar?,\n",
       " Under what circumstances would the production possibility curve be a straight line?,\n",
       " Why do carbon forms four single bonds inspite of being electronegative and smaller in size?,\n",
       " What is your review of Accordions?,\n",
       " How do I drive traffic to my LaunchRock landing page with no marketing budget?,\n",
       " How should I start to prepare aptitude for CAT?,\n",
       " Has the rapper Eminem ever met his father?,\n",
       " How do I undo an ignore a request to connect on LinkedIn?,\n",
       " How do I find people I know on Quora?,\n",
       " How many Muslims live in Brazil?,\n",
       " How do you use the diamonds on a pool table?,\n",
       " How do you find your passion and purpose in life?,\n",
       " Why can't I watch putlocker videos on my phone?,\n",
       " What is the first aid for fish?,\n",
       " How do I love my body as a guy?,\n",
       " Can anybody share their CA placement story?,\n",
       " How can we get our own PC wifi password in Ubuntu?,\n",
       " Is it illegal to tie a noose?,\n",
       " How does one win at life?,\n",
       " What does it feel to be Batman?,\n",
       " What is the new launching system that revolves around the Earth and then propelled to the moon or Mars?,\n",
       " What are some good anecdotes about Demis Hassabis's extremely high intelligence?,\n",
       " When signing a listing agreement for leasing with a commercial real estate broker, what are some common factors to negotiate?,\n",
       " What are the things you hate about your country and people?,\n",
       " What is the best websites to explain cases for faculty of law students?,\n",
       " Which is the co-valent compound that becomes electrovalent when dissolved in water?,\n",
       " On HBO's Ballers, why is the lead character Spencer Strasmore named after an associate producer?,\n",
       " How can I edit a JPEG image?,\n",
       " What does it mean for John McCain's reputation to support Donald Trump after Trump's comments regarding McCain's time spent as a prisoner of war?,\n",
       " Does the Apple Pencil support palm rejection when used with the iPad Pro?,\n",
       " Is it difficult to score 6 in IELTS?,\n",
       " What can we do when a bus conductor is not willing to give change?,\n",
       " What should be the conclusion for dissolution of a partnership firm?,\n",
       " What is the meaning of Hindi word 'Yogdaan'?,\n",
       " Why is English considered an international language instead of others?,\n",
       " What do Indian parents think about their married children having sex with their spouse?,\n",
       " What are some good characteristics of the American culture?,\n",
       " I am a special needs nanny and tutor. How can I spin my skills and make it work for my new career in human resources?,\n",
       " If another planet the size of earth were brought VERY close to our earth, would humans between the two planets float due to gravity cancelling out?,\n",
       " What ever happened to Launch from \"Dragon Ball Z\"?,\n",
       " Can animals be well-treated in a circus?,\n",
       " Do weighing scales measure mass or weight? ,\n",
       " What is one thing that you should never do in your life?,\n",
       " What is a good diet for losing weight?,\n",
       " What is the compensators?,\n",
       " While booking a ticket on IRCTC, should I check \"Consider for Auto Upgradation\" or not?,\n",
       " How do you detect a phishing email?,\n",
       " Which are the companies which want explainer videos?,\n",
       " How can we convert a three-phase AC to a single-phase AC?,\n",
       " What are the tones in Cantonese?,\n",
       " What's the difference between 'I was' and 'I were'?,\n",
       " How do I make a video profile?,\n",
       " What is Chromium browser?,\n",
       " How does your country's people deal with demonic possession?,\n",
       " What kind of make-up can make my brown eyes look lighter?,\n",
       " What are some tutorials for building a toothpick bridge?,\n",
       " Why do small business owners sometimes go for a hybrid app development for their mobile application?,\n",
       " Does Deutsche Bank Group Pune offer onsite or travel opportunities to software engineers in countries like the USA and UK through internal job posting or internal mobility?,\n",
       " What is the most common problem faced by a common man in india?,\n",
       " Are tattoos allowed in MPSC?,\n",
       " What was special about the way Steve Jobs rolled out the first iPhone?,\n",
       " Can you perform the physical task associated with job?,\n",
       " Is there any tech fest for biotechnology?,\n",
       " How can I download the girl of my dream novel by durjoy datta?,\n",
       " How can I do a persuasive presentation?,\n",
       " What is the history of restaurants in India?,\n",
       " What is the difference between SAP Labs and SAP SDC?,\n",
       " Why does surface of Mars contain perchlorates? Did aliens deliberately produce them and if so, why?,\n",
       " Do you like it when your man ejaculates in your vagina without a condom?,\n",
       " How can I be a better coder?,\n",
       " (2+2√2) / (1+√2) how to simplify this?,\n",
       " Can a credit card gateway company be registered in one country and operate in another?,\n",
       " Is there any Dominatrix in India, preferably in Mumbai?,\n",
       " How do we contact Apple for featuring our new game?,\n",
       " What is the song called in the background of this video?,\n",
       " What are the best restaurants in Vancouver?,\n",
       " Will Donald Trump cause WW3?,\n",
       " Prosumers: \"A new social theory is round the bend.\",\n",
       " What are some examples of reinforcement schedules?,\n",
       " What are your views on Cyrus Mistry being removed as Chairperson of Tata Sons?,\n",
       " How can I direct traffic from my Amazon store to my own website?,\n",
       " How can I switch phones and change phone number on line?,\n",
       " What are the pros and cons of Node.js?,\n",
       " What is and isn't a point charge?,\n",
       " What is meant by the Mark Twain quote, \"To a man with a hammer, everything looks like a nail.\"?,\n",
       " When was the last year that America was great according to the Trump campaign?,\n",
       " Why do I always thinking negative things and what should I do?,\n",
       " Do neurologists have significant career satisfaction?,\n",
       " Who are the most likely candidates to win the 2018 Fields Medal?,\n",
       " What's the best way to learn C++ in Urdu?,\n",
       " What is QR code?,\n",
       " Is it true that most young men enjoy disturbing young women that they like to get their attention?,\n",
       " Is it possible that there is another planet with homo sapien humans?,\n",
       " Is a Mac or Windows better for a CS student or developer?,\n",
       " What are the benefits of yoga and exercises?,\n",
       " Bendix square employeeservicepinwithsmallrubylookingstonewhatyearisit?,\n",
       " What would be the common characteristics of Indians?,\n",
       " Dartmouth Football Live Stream | Watch Dartmouth Big Green Football Game Today Live Streaming Online?,\n",
       " Why are so many engineering students from NIT's and other premier colleges joining Young India Fellowship(YIF) Programme?,\n",
       " Are there any disadvantages of using an Android studio in Windows?,\n",
       " What are the benefits of using a command line irc client like weechat?,\n",
       " Where is the best place to sell old vinyl records?,\n",
       " Can I fly on a private jet?,\n",
       " Has there ever been an episode of NewsRound on BBC Children's TV that didn't include an item on animals or wildlife?  Is this brainwashing?,\n",
       " What was the most traumatic event you've experienced around which you have successfully lived your life?,\n",
       " When did you have your first kiss and who was it with?,\n",
       " I am looking forward to buy a stitching machine under 10000rs which one is good?,\n",
       " How did you prepare for the GATE without any coaching?,\n",
       " Which is the best lense for eyeglasses?,\n",
       " Should I learn Ruby on Rails or HTML5?,\n",
       " Do the actors really have sex while filming for a Hollywood or Bollywood movie?,\n",
       " Multicolour Gems: What is ultralite and how does it compare to amethyst?,\n",
       " How do I determine the side of latent strabismus using cover uncover test?,\n",
       " What are some of the best psychological horror films?,\n",
       " Are there any risks to living near Hydro Lines?,\n",
       " Is it possible to self-induce mental illnesses?,\n",
       " What should I do knowing as a fact that my wife is cheating on me?,\n",
       " What is the scope of Mechanical Engineering?,\n",
       " Can we use spark plugs in diesel engines?,\n",
       " If you had to choose one song from you phone's playlist, which one would you choose?,\n",
       " How is the formula for residual volume determined?,\n",
       " How do I find an investor for my mobile app start-up?,\n",
       " What is it like living in Thimpu?,\n",
       " How do I gracefully let go of something you love and go to next phase in life?,\n",
       " How can the Urdu language be destroyed?,\n",
       " How do I catch Charizard in Pokémon GO?,\n",
       " How do Islamic banks make money if they can't charge interest because of shari'a?,\n",
       " Which outlaw motorcycle clubs accept Jews?,\n",
       " Did NGC (Nano GPS chip) technology is implemented in INR 2000?,\n",
       " Is corruption human nature?,\n",
       " What steps one must take to become an actor in bollywood?,\n",
       " What phone do you use as a programmer?,\n",
       " Is all matter in the universe on a course to become part of a single solitary black hole?,\n",
       " What is a good solar panel installation provider in Huntington Beach, California CA?,\n",
       " What is insulator?,\n",
       " How are laxatives good to induce labor?,\n",
       " How can I celebrate New Year?,\n",
       " What's the difference between social anxiety and avoidant personality disorder?,\n",
       " What will be the best smartphone around 15K?,\n",
       " Which is better: Ford Figo Aspire or Honda Amaze?,\n",
       " It is said that Karma creates your fate and hence future. Then, why do we pray to God instead of religiously working to fulfill our wishes?,\n",
       " Which is the best MBA coaching institute in Pune?,\n",
       " Which pen goes out of ink fast ballpoint or gel?,\n",
       " Would what happen if NATO dissolves suddenly?,\n",
       " What is the difference between \"sister concern\" and subsidiary companies?,\n",
       " Wildfire interactive: Reviews?,\n",
       " What is a C program binary search using link list?,\n",
       " What are the key responsibilities of the CEO in the early stages of a start-up company?,\n",
       " Why does balloon let the gas escape but not oxygen in winemaking?,\n",
       " How do I sell used books?,\n",
       " Write all the 5-digit numbers that you can form using the digits 1,2,3,4, and 5 only once. Which of these numbers are greater than 50,000?,\n",
       " What are some unexpected things first-time visitors to Egypt notice?,\n",
       " Why doesn't Germany produce jet engines?,\n",
       " What is the best way to write a cover letter for marketing?,\n",
       " Why are most people crazy about Apple and its products?,\n",
       " What is India doing to become a Manufacturing hub?,\n",
       " How do I make a AAA game?,\n",
       " How long do snake bites take to heal? Does it depend on the type of snake?,\n",
       " If given the opportunity and choice, will Balaji Vishwanathan want to become the president of India?,\n",
       " How do I make the best software company?,\n",
       " What are the best books in Telugu literature?,\n",
       " What will shopping malls be like in the future?,\n",
       " What are the pros and cons of banning 500 and 1000 rupee notes in India?,\n",
       " Who are some of the best science-fiction writers alive today?,\n",
       " Why should one not bunk classes?,\n",
       " What are some unknown facts?,\n",
       " What are the benefits of grading system in education?,\n",
       " How do I Mark an Entire Gmail Inbox as Read?,\n",
       " Does it help my English if I watch English movies without any subtitles?,\n",
       " Why do high-frequency noises hurt your ears?,\n",
       " What instrument is used to measure air pressure?,\n",
       " Which is the best Android phone under 16k in India?,\n",
       " How do I get rid of the wrinkles that form under my eyes when I smile?,\n",
       " Have you ever gone on a date and what was it like?,\n",
       " What are best Android app for GK preparations for MBA exams Like IIFT, CMAT?,\n",
       " Did God really plan everything? If so, why would he allow sin in this world?,\n",
       " Is it possible to fall in love online?,\n",
       " How do I avoid bots on Omegle?,\n",
       " What shall I do with a mouse which freezes on the screen and stop responding?,\n",
       " What problems does one face when he/she starts a company? And how to overcome them?,\n",
       " What is the difference between exception and interrupt in operating systems?,\n",
       " What is a proficient typing speed?,\n",
       " How do I develop a serious personality?,\n",
       " What are the benefits of being a \"thought leader\"?,\n",
       " Is Jimmy Fallon as nice a person as he appears on his show?,\n",
       " How is Sachin Tendulkar as in person?,\n",
       " What is the best 3-word story?,\n",
       " What is the difference between H+ ion and proton?,\n",
       " What are the best tips for early-stage startups?,\n",
       " Why do some people consider gambling as morally bad?,\n",
       " Do you know of an open source software that can be used to create the word-based images for crowdsourcing?,\n",
       " Why are European films not popular while mainstream Hollywood films are?,\n",
       " Do you sometimes struggle with the impostor syndrome?,\n",
       " When your significant other is angry with you, does this justify your significant other treating you like shit?,\n",
       " Can you lose weight with just a vegan diet?,\n",
       " Is Hillary Clinton crooked?,\n",
       " How do I send text message from Facebook to WhatsApp?,\n",
       " What are your top 10 Tamil songs in 2014?,\n",
       " I'm an R educator. I want to lead with the tidyverse, but there are costs for new programmers. Any tips for teaching both the tidy/non-tidy worlds?,\n",
       " What are some of the most iconic pictures of NIT Trichy?,\n",
       " Where can I get good faculty for engineering mathematics/aptitude for my GATE coaching in Delhi?,\n",
       " How silicon valley be the Silicon Valley?,\n",
       " What are the pros and cons if the public sector banks' shares are divested to attain the capital requirement?,\n",
       " Why have I always been so introverted?,\n",
       " How can I loose weight naturally without doing exercise?,\n",
       " Why some girls stare at boys and never talk to them?,\n",
       " How can I view the Shared Preferences Data in Android Studio?,\n",
       " Is Goa a good place to go in January end?,\n",
       " What is most embarrassing moment of your life?,\n",
       " Who are the likely candidates for the next Chief Justice of India after the retirement of Justice Thakur in January?,\n",
       " How do I earn money through Snapdeal?,\n",
       " Who is the richest person in India?,\n",
       " How do I stop myself from thinking about death all the time?,\n",
       " Why does my fish have cloudy eyes?,\n",
       " Why is it taking so much time for Indians to get green cards?,\n",
       " What is your review of Citibank India?,\n",
       " What are the characteristics of a demand curve?,\n",
       " What are the pros and cons Ubuntu and Elementary OS?,\n",
       " How can I remember most of the things I read?,\n",
       " What's the relationship between law and sociology?,\n",
       " It is 2015, which campaign promises did President Obama fully fulfill, partially fulfill, didn't act on, or completely went the other way?,\n",
       " Do Russians and Chinese have fond memories of the old collective farms?,\n",
       " Would the colors of light separate out, if a light source in any medium other than vacuum, streams a beam of light through the medium to infinity?,\n",
       " What do you hate?,\n",
       " How much does BJP pay to Zee News per month?,\n",
       " Why is it important to ask questions?,\n",
       " What are some good websites to learn foreign languages?,\n",
       " Why is marriage in the same caste so important to Indian parents?,\n",
       " What is India's current GDP?,\n",
       " Voice: What makes people sound the same?,\n",
       " What are complex sentences?,\n",
       " Which is the best dancing academy?,\n",
       " How do I increase my followers in Facebook?,\n",
       " What should I do for the rest of my life?,\n",
       " How do ihide my YouTube videos from just my parents I don't want to watch them now maybe in future?,\n",
       " How can you learn to memorize things quickly?,\n",
       " Is going to a university worth it?,\n",
       " How can I become good writer?,\n",
       " What is the weather like in North Britain?,\n",
       " What did you think of Donald Trump before his presidential campaign?,\n",
       " What affects and/or causes colors in skin, besides melanin?,\n",
       " What programming language and tools did Ed Boon and co use for the first Mortal Kombat?,\n",
       " If a girl stares, giggles, and smiles at me does she like me then?,\n",
       " In France, log(x) is typically of base 10. When it's of base e, we write ln(x) for natural logarithm. Why don't other systems do that?,\n",
       " Is China safe for Indian tourists?,\n",
       " How does paydivvy.com make money?,\n",
       " What are all the good suspense or thriller movies in Kannada?,\n",
       " How do you determine the rate of diffusion?,\n",
       " Can I buy an iPhone 6 online in India? Do we have any disadvantages than buying it in retail shop?,\n",
       " What causes some girls to seek a lot of attention from guys?,\n",
       " What are the best love songs you've ever listened to?,\n",
       " Is it foolish to believe that all human beings have value? What allows one person or group of people to decide that a person or group of people must/should be killed?,\n",
       " How does 3 Ballerina tea work?,\n",
       " How can I change my daily habits?,\n",
       " What are the type of forests in India?,\n",
       " What is wrong with Quora? Why are my total views decreasing?,\n",
       " What does snake stick and angel wings have to do with doctor in their symbol?,\n",
       " Which is the most famous movie dialogue?]"
      ]
     },
     "execution_count": 65,
     "metadata": {},
     "output_type": "execute_result"
    }
   ],
   "source": [
    "nlp_qs"
   ]
  },
  {
   "cell_type": "code",
   "execution_count": 66,
   "metadata": {
    "collapsed": true
   },
   "outputs": [],
   "source": [
    "def punct_or_space(token):\n",
    "    \"\"\"\n",
    "    helper function to eliminate tokens\n",
    "    that are pure punctuation or whitespace\n",
    "    \"\"\"\n",
    "    \n",
    "    return token.is_punct or token.is_space\n",
    "\n",
    "def unescape_breaks(q_list):\n",
    "    \"\"\"\n",
    "    generator function to un-escape line breaks\n",
    "    \"\"\"\n",
    "    for q in q_list:\n",
    "        yield q.replace(\"\\\\n\", '\\n')\n",
    "            \n",
    "def lemmatized_sentence_corpus(q_list):\n",
    "    \"\"\"\n",
    "    generator function to use spaCy to parse reviews,\n",
    "    lemmatize the text, and yield sentences\n",
    "    \"\"\"\n",
    "    \n",
    "    for nlp_q in nlp.pipe(unescape_breaks(q_list),\n",
    "                                  batch_size=10000, n_threads=3):\n",
    "        \n",
    "        for sent in nlp_q.sents:\n",
    "            yield u' '.join([token.lemma_ for token in sent\n",
    "                             if not punct_or_space(token)])"
   ]
  },
  {
   "cell_type": "code",
   "execution_count": 67,
   "metadata": {
    "collapsed": false
   },
   "outputs": [
    {
     "data": {
      "text/plain": [
       "['any canadian teacher b.ed holder teaching in u.s. school',\n",
       " 'be there any underlie psychological tricks/tactic that be use when design the line for ride at amusement park',\n",
       " 'can -PRON- pay with a debit card on paypal',\n",
       " 'do new york state have a flagship university',\n",
       " 'failure haunt -PRON- all the time',\n",
       " 'how do -PRON- cope up',\n",
       " 'how can -PRON- improve -PRON- sex life',\n",
       " 'how do -PRON- make the time lapse image use an eos 70d with an intervalometer',\n",
       " 'how will -PRON- interpret -PRON- dream',\n",
       " \"-PRON- be a 5 letter word -PRON- be normally below u if u remove -PRON- 1st letter u'll find -PRON- above u if u remove -PRON- 1st 2nd letter u can not see -PRON- answer be really very interesting let -PRON- see who solve this ⏰time limit today u can also send to oth grp if -PRON-\",\n",
       " '-PRON- do not file a police report for a car accident that happen over a month ago',\n",
       " '-PRON- insurance company wo not pay for damage what do -PRON- do']"
      ]
     },
     "execution_count": 67,
     "metadata": {},
     "output_type": "execute_result"
    }
   ],
   "source": [
    "list(lemmatized_sentence_corpus(qs[:10]))"
   ]
  },
  {
   "cell_type": "markdown",
   "metadata": {},
   "source": [
    "We have to lemmatize the text and then write it to disk. The model will read the data from the disk so that it never needs to be read directly into the RAM all at once."
   ]
  },
  {
   "cell_type": "code",
   "execution_count": 68,
   "metadata": {
    "collapsed": true
   },
   "outputs": [],
   "source": [
    "intermediate_directory = 'intermediate//'\n",
    "unigram_sentences_filepath = intermediate_directory + 'unigram_sentences_all.txt'"
   ]
  },
  {
   "cell_type": "code",
   "execution_count": 69,
   "metadata": {
    "collapsed": false
   },
   "outputs": [
    {
     "name": "stdout",
     "output_type": "stream",
     "text": [
      "Wall time: 0 ns\n"
     ]
    }
   ],
   "source": [
    "%%time\n",
    "# with codecs.open(unigram_sentences_filepath, 'w', encoding='utf_8') as f:\n",
    "#     for sent in lemmatized_sentence_corpus(qs):\n",
    "#         f.write(sent + '\\n')"
   ]
  },
  {
   "cell_type": "markdown",
   "metadata": {},
   "source": [
    "Now that the file has been written to disk, we can feed it into `gensim`'s `LineSentence` model."
   ]
  },
  {
   "cell_type": "code",
   "execution_count": 70,
   "metadata": {
    "collapsed": true
   },
   "outputs": [],
   "source": [
    "import itertools as it"
   ]
  },
  {
   "cell_type": "code",
   "execution_count": 71,
   "metadata": {
    "collapsed": true
   },
   "outputs": [],
   "source": [
    "unigram_sentences = LineSentence(unigram_sentences_filepath)"
   ]
  },
  {
   "cell_type": "code",
   "execution_count": 72,
   "metadata": {
    "collapsed": false
   },
   "outputs": [
    {
     "name": "stdout",
     "output_type": "stream",
     "text": [
      "this be the message -PRON- be get when -PRON- be try to acces windows defender\n",
      "\n",
      "\n",
      "what can -PRON- do\n",
      "\n",
      "\n",
      "the camera produce blur picture what will be the aspect in this sentence where the entity be mobile -PRON- m ask in context of aspect level sa\n",
      "\n",
      "\n",
      "the device be not ready problem encounter while initialize the external hard drive under disk management\n",
      "\n",
      "\n",
      "be -PRON- hardware or software fault\n",
      "\n",
      "\n",
      "the more thing change the more -PRON- stay the same -PRON- be not exactly clear what this phrase mean\n",
      "\n",
      "\n",
      "can anyone help -PRON-\n",
      "\n",
      "\n",
      "the question be mark as need improvement how to deal with this what ever -PRON- do still this error pop up\n",
      "\n",
      "\n",
      "be -PRON- quora bot or any user\n",
      "\n",
      "\n",
      "the reason why be because -PRON- hear that this be common usage for english speak people\n",
      "\n",
      "\n"
     ]
    }
   ],
   "source": [
    "for unigram_sentence in it.islice(unigram_sentences, 230, 240):\n",
    "    print(' '.join(unigram_sentence))\n",
    "    print('\\n')"
   ]
  },
  {
   "cell_type": "markdown",
   "metadata": {
    "collapsed": true
   },
   "source": [
    "Next, we'll learn a phrase model that will link individual words into two-word phrases. We'd expect words that together represent a specific concept, like \"`ice cream`\", to be linked together to form a new, single token: \"`ice_cream`\"."
   ]
  },
  {
   "cell_type": "code",
   "execution_count": 73,
   "metadata": {
    "collapsed": true
   },
   "outputs": [],
   "source": [
    "bigram_model_filepath = os.path.join(intermediate_directory, 'bigram_model_all')"
   ]
  },
  {
   "cell_type": "code",
   "execution_count": 74,
   "metadata": {
    "collapsed": false
   },
   "outputs": [
    {
     "name": "stdout",
     "output_type": "stream",
     "text": [
      "Wall time: 0 ns\n"
     ]
    }
   ],
   "source": [
    "%%time\n",
    "#bigram_model = Phrases(unigram_sentences)\n",
    "#bigram_model.save(bigram_model_filepath)"
   ]
  },
  {
   "cell_type": "code",
   "execution_count": 75,
   "metadata": {
    "collapsed": true
   },
   "outputs": [],
   "source": [
    "# load the finished model from disk\n",
    "bigram_model = Phrases.load(bigram_model_filepath)"
   ]
  },
  {
   "cell_type": "code",
   "execution_count": 76,
   "metadata": {
    "collapsed": true
   },
   "outputs": [],
   "source": [
    "bigram_sentences_filepath = os.path.join(intermediate_directory,\n",
    "                                         'bigram_sentences_all.txt')"
   ]
  },
  {
   "cell_type": "code",
   "execution_count": 77,
   "metadata": {
    "collapsed": false
   },
   "outputs": [
    {
     "name": "stdout",
     "output_type": "stream",
     "text": [
      "Wall time: 0 ns\n"
     ]
    }
   ],
   "source": [
    "%%time\n",
    "# with codecs.open(bigram_sentences_filepath, 'w', encoding='utf_8') as f:\n",
    "#     for unigram_sentence in unigram_sentences:\n",
    "#         bigram_sentence = u' '.join(bigram_model[unigram_sentence])\n",
    "#         f.write(bigram_sentence + '\\n')"
   ]
  },
  {
   "cell_type": "code",
   "execution_count": 78,
   "metadata": {
    "collapsed": true
   },
   "outputs": [],
   "source": [
    "bigram_sentences = LineSentence(bigram_sentences_filepath)"
   ]
  },
  {
   "cell_type": "code",
   "execution_count": 79,
   "metadata": {
    "collapsed": false
   },
   "outputs": [
    {
     "name": "stdout",
     "output_type": "stream",
     "text": [
      "this be the message -PRON- be get when -PRON- be try to acces windows_defender\n",
      "\n",
      "what can -PRON- do\n",
      "\n",
      "the camera produce blur picture what will be the aspect in this sentence where the entity be mobile -PRON- m ask in context of aspect level sa\n",
      "\n",
      "the device be not ready problem encounter while initialize the external_hard drive under disk management\n",
      "\n",
      "be -PRON- hardware or software fault\n",
      "\n",
      "the more thing change the more -PRON- stay the same -PRON- be not exactly clear what this phrase mean\n",
      "\n",
      "can anyone_help -PRON-\n",
      "\n",
      "the question be mark as need_improvement how to deal_with this what ever -PRON- do still this error pop_up\n",
      "\n",
      "be -PRON- quora bot or any user\n",
      "\n",
      "the reason why be because -PRON- hear that this be common usage for english_speak people\n",
      "\n"
     ]
    }
   ],
   "source": [
    "for bigram_sentence in it.islice(bigram_sentences, 230, 240):\n",
    "    print(' '.join(bigram_sentence))\n",
    "    print('')"
   ]
  },
  {
   "cell_type": "code",
   "execution_count": 80,
   "metadata": {
    "collapsed": true
   },
   "outputs": [],
   "source": [
    "trigram_model_filepath = os.path.join(intermediate_directory,\n",
    "                                      'trigram_model_all')"
   ]
  },
  {
   "cell_type": "code",
   "execution_count": 81,
   "metadata": {
    "collapsed": false
   },
   "outputs": [
    {
     "name": "stdout",
     "output_type": "stream",
     "text": [
      "Wall time: 0 ns\n"
     ]
    }
   ],
   "source": [
    "%%time\n",
    "\n",
    "#trigram_model = Phrases(bigram_sentences)\n",
    "#trigram_model.save(trigram_model_filepath)"
   ]
  },
  {
   "cell_type": "code",
   "execution_count": 82,
   "metadata": {
    "collapsed": true
   },
   "outputs": [],
   "source": [
    "# load the finished model from disk\n",
    "trigram_model = Phrases.load(trigram_model_filepath)"
   ]
  },
  {
   "cell_type": "code",
   "execution_count": 83,
   "metadata": {
    "collapsed": true
   },
   "outputs": [],
   "source": [
    "trigram_sentences_filepath = os.path.join(intermediate_directory,\n",
    "                                          'trigram_sentences_all.txt')"
   ]
  },
  {
   "cell_type": "code",
   "execution_count": 84,
   "metadata": {
    "collapsed": false
   },
   "outputs": [
    {
     "name": "stdout",
     "output_type": "stream",
     "text": [
      "Wall time: 0 ns\n"
     ]
    }
   ],
   "source": [
    "%%time\n",
    "# with codecs.open(trigram_sentences_filepath, 'w', encoding='utf_8') as f:\n",
    "#     for bigram_sentence in bigram_sentences:\n",
    "#         trigram_sentence = u' '.join(trigram_model[bigram_sentence])\n",
    "#         f.write(trigram_sentence + '\\n')"
   ]
  },
  {
   "cell_type": "code",
   "execution_count": 85,
   "metadata": {
    "collapsed": true
   },
   "outputs": [],
   "source": [
    "trigram_sentences = LineSentence(trigram_sentences_filepath)"
   ]
  },
  {
   "cell_type": "code",
   "execution_count": 64,
   "metadata": {
    "collapsed": false
   },
   "outputs": [
    {
     "name": "stdout",
     "output_type": "stream",
     "text": [
      "this be the message -PRON- be get when -PRON- be try to acces windows_defender\n",
      "\n",
      "what can -PRON- do\n",
      "\n",
      "the camera produce blur picture what will be the aspect in this_sentence where the entity be mobile -PRON- m ask in context of aspect level sa\n",
      "\n",
      "the device be not ready problem encounter while initialize the external_hard_drive under disk management\n",
      "\n",
      "be -PRON- hardware or software fault\n",
      "\n",
      "the more thing change the more -PRON- stay the same -PRON- be not exactly clear what this phrase mean\n",
      "\n",
      "can_anyone_help -PRON-\n",
      "\n",
      "the question be mark as_need_improvement how to deal_with this what ever -PRON- do still this error pop_up\n",
      "\n",
      "be -PRON- quora bot or any user\n",
      "\n",
      "the reason why be because -PRON- hear that this be common usage for english_speak people\n",
      "\n"
     ]
    }
   ],
   "source": [
    "for trigram_sentence in it.islice(trigram_sentences, 230, 240):\n",
    "    print(' '.join(trigram_sentence))\n",
    "    print('')"
   ]
  },
  {
   "cell_type": "code",
   "execution_count": 65,
   "metadata": {
    "collapsed": true
   },
   "outputs": [],
   "source": [
    "trigram_reviews_filepath = os.path.join(intermediate_directory,\n",
    "                                        'trigram_transformed_reviews_all.txt')"
   ]
  },
  {
   "cell_type": "code",
   "execution_count": 66,
   "metadata": {
    "collapsed": true
   },
   "outputs": [],
   "source": [
    "review_txt_filepath = os.path.join(intermediate_directory,\n",
    "                                   'review_text_all.txt')"
   ]
  },
  {
   "cell_type": "code",
   "execution_count": 68,
   "metadata": {
    "collapsed": true
   },
   "outputs": [],
   "source": [
    "import codecs"
   ]
  },
  {
   "cell_type": "code",
   "execution_count": 342,
   "metadata": {
    "collapsed": false
   },
   "outputs": [
    {
     "name": "stderr",
     "output_type": "stream",
     "text": [
      "C:\\Program Files\\Anaconda3\\lib\\site-packages\\gensim\\models\\phrases.py:274: UserWarning: For a faster implementation, use the gensim.models.phrases.Phraser class\n",
      "  warnings.warn(\"For a faster implementation, use the gensim.models.phrases.Phraser class\")\n"
     ]
    },
    {
     "name": "stdout",
     "output_type": "stream",
     "text": [
      "Wall time: 5min 39s\n"
     ]
    }
   ],
   "source": [
    "%%time\n",
    "\n",
    "# with codecs.open(trigram_reviews_filepath, 'w', encoding='utf_8') as f:\n",
    "\n",
    "#     for parsed_q in nlp.pipe(unescape_breaks(qs),\n",
    "#                                   batch_size=10000, n_threads=4):\n",
    "\n",
    "#         # lemmatize the text, removing punctuation and whitespace\n",
    "#         unigram_qs = [token.lemma_ for token in parsed_q\n",
    "#                           if not punct_space(token)]\n",
    "\n",
    "#         # apply the first-order and second-order phrase models\n",
    "#         bigram_qs = bigram_model[unigram_qs]\n",
    "#         trigram_qs = trigram_model[bigram_qs]\n",
    "\n",
    "#         # remove any remaining stopwords\n",
    "#         trigram_qs = [term for term in trigram_qs\n",
    "#                           if term not in spacy.en.STOP_WORDS]\n",
    "\n",
    "#         # write the transformed review as a line in the new file\n",
    "#         trigram_qs = u' '.join(trigram_qs)\n",
    "#         f.write(trigram_qs + '\\n')"
   ]
  },
  {
   "cell_type": "code",
   "execution_count": 69,
   "metadata": {
    "collapsed": false
   },
   "outputs": [
    {
     "name": "stdout",
     "output_type": "stream",
     "text": [
      "Original:\n",
      "\n",
      " I'm openly gay and falling in love with my best friend I've known for 5 years he's a really great guy but I'm stuck. What should I do?\n",
      "----\n",
      "\n",
      "Transformed:\n",
      "\n",
      "-PRON- openly_gay fall love -PRON- good friend -PRON- know 5_year -PRON- great guy -PRON- stuck -PRON-\n",
      "\n"
     ]
    }
   ],
   "source": [
    "print('Original:' + u'\\n')\n",
    "\n",
    "for review in it.islice(qs, 11, 12):\n",
    "    print(review)\n",
    "\n",
    "print('----' + u'\\n')\n",
    "print('Transformed:' + u'\\n')\n",
    "\n",
    "with codecs.open(trigram_reviews_filepath, encoding='utf_8') as f:\n",
    "    for review in it.islice(f, 11, 12):\n",
    "        print(review)"
   ]
  },
  {
   "cell_type": "markdown",
   "metadata": {
    "collapsed": true
   },
   "source": [
    "# Latent Dirichlet Allocation"
   ]
  },
  {
   "cell_type": "code",
   "execution_count": 70,
   "metadata": {
    "collapsed": false
   },
   "outputs": [],
   "source": [
    "from gensim.corpora import Dictionary, MmCorpus\n",
    "from gensim.models.ldamulticore import LdaMulticore\n",
    "\n",
    "import pyLDAvis\n",
    "import pyLDAvis.gensim\n",
    "import warnings\n",
    "import _pickle as pickle"
   ]
  },
  {
   "cell_type": "code",
   "execution_count": 71,
   "metadata": {
    "collapsed": true
   },
   "outputs": [],
   "source": [
    "trigram_dictionary_filepath = os.path.join(intermediate_directory,\n",
    "                                           'trigram_dict_all.dict')"
   ]
  },
  {
   "cell_type": "code",
   "execution_count": null,
   "metadata": {
    "collapsed": true
   },
   "outputs": [],
   "source": [
    "%%time\n",
    "\n",
    "# trigram_qs = LineSentence(trigram_reviews_filepath)\n",
    "\n",
    "# # learn the dictionary by iterating over all of the reviews\n",
    "# trigram_dictionary = Dictionary(trigram_qs)\n",
    "\n",
    "# # filter tokens that are very rare or too common from\n",
    "# # the dictionary (filter_extremes) and reassign integer ids (compactify)\n",
    "# trigram_dictionary.filter_extremes(no_below=10, no_above=0.4)\n",
    "# trigram_dictionary.compactify()\n",
    "\n",
    "# trigram_dictionary.save(trigram_dictionary_filepath)\n",
    "    "
   ]
  },
  {
   "cell_type": "code",
   "execution_count": 72,
   "metadata": {
    "collapsed": false
   },
   "outputs": [],
   "source": [
    "# load the finished dictionary from disk\n",
    "trigram_dictionary = Dictionary.load(trigram_dictionary_filepath)"
   ]
  },
  {
   "cell_type": "code",
   "execution_count": 73,
   "metadata": {
    "collapsed": true
   },
   "outputs": [],
   "source": [
    "trigram_bow_filepath = os.path.join(intermediate_directory,\n",
    "                                    'trigram_bow_corpus_all.mm')"
   ]
  },
  {
   "cell_type": "code",
   "execution_count": 74,
   "metadata": {
    "collapsed": true
   },
   "outputs": [],
   "source": [
    "def trigram_bow_generator(filepath):\n",
    "    \"\"\"\n",
    "    generator function to read reviews from a file\n",
    "    and yield a bag-of-words representation\n",
    "    \"\"\"\n",
    "    \n",
    "    for review in LineSentence(filepath):\n",
    "        yield trigram_dictionary.doc2bow(review)"
   ]
  },
  {
   "cell_type": "code",
   "execution_count": 75,
   "metadata": {
    "collapsed": false
   },
   "outputs": [
    {
     "name": "stdout",
     "output_type": "stream",
     "text": [
      "Wall time: 12.3 s\n"
     ]
    }
   ],
   "source": [
    "%%time\n",
    "\n",
    "# generate bag-of-words representations for\n",
    "# all reviews and save them as a matrix\n",
    "MmCorpus.serialize(trigram_bow_filepath,\n",
    "                   trigram_bow_generator(trigram_reviews_filepath))\n",
    "    \n",
    "# load the finished bag-of-words corpus from disk\n",
    "trigram_bow_corpus = MmCorpus(trigram_bow_filepath)"
   ]
  },
  {
   "cell_type": "code",
   "execution_count": 76,
   "metadata": {
    "collapsed": true
   },
   "outputs": [],
   "source": [
    "lda_model_filepath = os.path.join(intermediate_directory, 'lda_model_all')"
   ]
  },
  {
   "cell_type": "code",
   "execution_count": null,
   "metadata": {
    "collapsed": true
   },
   "outputs": [],
   "source": [
    "%%time\n",
    "\n",
    "num_topics = 200\n",
    "\n",
    "# with warnings.catch_warnings():\n",
    "#     warnings.simplefilter('ignore')\n",
    "\n",
    "#     # workers => sets the parallelism, and should be\n",
    "#     # set to your number of physical cores minus one\n",
    "#     lda = LdaMulticore(trigram_bow_corpus,\n",
    "#                        num_topics=num_topics,\n",
    "#                        id2word=trigram_dictionary,\n",
    "#                        workers=3)\n",
    "\n",
    "# lda.save(lda_model_filepath)\n",
    "   "
   ]
  },
  {
   "cell_type": "code",
   "execution_count": 77,
   "metadata": {
    "collapsed": false
   },
   "outputs": [],
   "source": [
    "# load the finished LDA model from disk\n",
    "lda = LdaMulticore.load(lda_model_filepath)"
   ]
  },
  {
   "cell_type": "code",
   "execution_count": 78,
   "metadata": {
    "collapsed": false
   },
   "outputs": [],
   "source": [
    "def explore_topic(topic_number, topn=25):\n",
    "    \"\"\"\n",
    "    accept a user-supplied topic number and\n",
    "    print out a formatted list of the top terms\n",
    "    \"\"\"\n",
    "        \n",
    "    print('{:20} {}'.format(u'term', u'frequency') + u'\\n')\n",
    "\n",
    "    for term, frequency in lda.show_topic(topic_number, topn=25):\n",
    "        print('{:20} {:.3f}'.format(term, round(frequency, 3)))"
   ]
  },
  {
   "cell_type": "code",
   "execution_count": 79,
   "metadata": {
    "collapsed": false
   },
   "outputs": [
    {
     "name": "stdout",
     "output_type": "stream",
     "text": [
      "term                 frequency\n",
      "\n",
      "why_hasn't           0.086\n",
      "claim                0.084\n",
      "cure                 0.072\n",
      "shoe                 0.065\n",
      "good                 0.038\n",
      "earphone             0.025\n",
      "international_student 0.023\n",
      "south_china_sea      0.020\n",
      "acknowledge          0.018\n",
      "module               0.018\n",
      "big_bang             0.016\n",
      "encourage            0.016\n",
      "apologize            0.015\n",
      "discriminate_against 0.015\n",
      "contemporary         0.014\n",
      "strange_thing        0.012\n",
      "indian_railway       0.012\n",
      "allen                0.011\n",
      "war_crime            0.011\n",
      "messenger            0.011\n",
      "fifa_world_cup       0.009\n",
      "hillary_clinton_win  0.009\n",
      "quora_moderation     0.009\n",
      "homeopathy           0.009\n",
      "most_amazing         0.009\n"
     ]
    }
   ],
   "source": [
    "explore_topic(topic_number=0)"
   ]
  },
  {
   "cell_type": "code",
   "execution_count": 80,
   "metadata": {
    "collapsed": true
   },
   "outputs": [],
   "source": [
    "LDAvis_data_filepath = os.path.join(intermediate_directory, 'ldavis_prepared')"
   ]
  },
  {
   "cell_type": "code",
   "execution_count": 415,
   "metadata": {
    "collapsed": false
   },
   "outputs": [
    {
     "name": "stdout",
     "output_type": "stream",
     "text": [
      "Wall time: 10min 50s\n"
     ]
    }
   ],
   "source": [
    "%%time\n",
    "\n",
    "# LDAvis_prepared = pyLDAvis.gensim.prepare(lda, trigram_bow_corpus,\n",
    "#                                           trigram_dictionary)"
   ]
  },
  {
   "cell_type": "code",
   "execution_count": 416,
   "metadata": {
    "collapsed": false
   },
   "outputs": [],
   "source": [
    "# with open(LDAvis_data_filepath+\"_\"+str(num_topics), 'wb') as f:\n",
    "#     pickle.dump(LDAvis_prepared, f)"
   ]
  },
  {
   "cell_type": "code",
   "execution_count": 90,
   "metadata": {
    "collapsed": false
   },
   "outputs": [],
   "source": [
    "# load the pre-prepared pyLDAvis data from disk\n",
    "with open(LDAvis_data_filepath, 'rb') as f:\n",
    "    LDAvis_prepared = pickle.load(f)"
   ]
  },
  {
   "cell_type": "code",
   "execution_count": 91,
   "metadata": {
    "collapsed": false,
    "scrolled": false
   },
   "outputs": [
    {
     "data": {
      "text/html": [
       "\n",
       "<link rel=\"stylesheet\" type=\"text/css\" href=\"https://cdn.rawgit.com/bmabey/pyLDAvis/files/ldavis.v1.0.0.css\">\n",
       "\n",
       "\n",
       "<div id=\"ldavis_el597231173280598728820573272\"></div>\n",
       "<script type=\"text/javascript\">\n",
       "\n",
       "var ldavis_el597231173280598728820573272_data = {\"R\": 30, \"topic.order\": [17, 9, 21, 37, 11, 31, 50, 3, 14, 33, 28, 5, 2, 13, 32, 24, 43, 10, 35, 4, 1, 23, 41, 48, 26, 49, 40, 30, 39, 20, 8, 15, 6, 38, 29, 18, 45, 27, 25, 34, 12, 19, 36, 16, 46, 44, 47, 22, 7, 42], \"mdsDat\": {\"cluster\": [1, 1, 1, 1, 1, 1, 1, 1, 1, 1, 1, 1, 1, 1, 1, 1, 1, 1, 1, 1, 1, 1, 1, 1, 1, 1, 1, 1, 1, 1, 1, 1, 1, 1, 1, 1, 1, 1, 1, 1, 1, 1, 1, 1, 1, 1, 1, 1, 1, 1], \"Freq\": [2.582131996192572, 2.5327673076448542, 2.524450149651563, 2.3995994384273875, 2.3643896974728946, 2.2649575730071994, 2.2516075875424164, 2.2218063797636516, 2.1704516621963488, 2.1620446489316234, 2.15984430424436, 2.1597511100187132, 2.13998362511959, 2.13669258742323, 2.135800286832348, 2.1316080433954796, 2.125555355731218, 2.115735965476531, 2.113098714316704, 2.058935928838303, 2.0445143944922037, 2.036810264932745, 2.0316782524518833, 2.01514723466378, 2.011744739958728, 2.0033561034476017, 1.9977834246377553, 1.9974011442318185, 1.9467804638425172, 1.9430570781283698, 1.911054038603538, 1.905744432745007, 1.8669287664982854, 1.8241361647612693, 1.8192150226964237, 1.8124302640102987, 1.8027044417840203, 1.7960798312455235, 1.7862085919691486, 1.7799859461619554, 1.7730643559670072, 1.7728335336227654, 1.7630098215018395, 1.7381249393731732, 1.7366792332032432, 1.7366624336243839, 1.716124634245135, 1.6627858805635183, 1.590108263163607, 1.4266339412454716], \"topics\": [1, 2, 3, 4, 5, 6, 7, 8, 9, 10, 11, 12, 13, 14, 15, 16, 17, 18, 19, 20, 21, 22, 23, 24, 25, 26, 27, 28, 29, 30, 31, 32, 33, 34, 35, 36, 37, 38, 39, 40, 41, 42, 43, 44, 45, 46, 47, 48, 49, 50], \"x\": [0.16816624839754205, 0.017134211071060664, -0.12269159336030033, -0.051155556656323216, 0.02850982270974714, -0.03631986458931079, -0.05565768620650851, 0.10542052048308448, -0.04106055395423119, -0.010290685363399499, -0.16859080188857864, 0.07206355039273928, -0.06923543581889126, 0.02504157918600056, -0.1147066236963796, -0.003436557511284411, -0.007578862343647711, -0.09325077549583075, -0.11020514422663079, -0.1163166168940222, -0.13309281639422224, 0.027402865182001516, 0.015922774971200836, 0.086343245270761, 0.08051396813177258, -0.022178616257305, 0.17458846591172833, 0.07695243029574692, 0.027307078250835944, -0.0011760104705169135, 0.058736588812214816, -0.13186058102349693, -0.004448988217436243, 0.10363052779027017, 0.01634199361248908, -0.004462508426670188, 0.016269593775398102, -0.0236691044149327, 0.09190269948123117, -0.006838874454135959, 0.0409057116977621, 0.13745053913556432, 0.04873200343506696, -0.08894950160003771, 0.055693957328712775, 0.006867611626421662, -0.009585867381996651, -0.023631743396160476, 0.061181196134715045, -0.09268781304181785], \"y\": [0.12173286651206525, -0.15066300454085746, 0.054901743549126795, 0.08624948836673409, -0.048856966123940464, 0.0811982592975202, 0.04374036290494956, -0.06959936662993178, -0.007744548482775438, 0.05370653368065421, 0.04705582446739357, 0.1263862935391511, 0.02869384701469914, 0.0390621296648259, -0.008845194172092154, 0.06572184436872727, -0.029093510359301782, -0.043287028162347634, 0.0423407094141735, 0.031430990230850754, 0.01986422452714869, 0.02549647783105496, -0.08632236085201088, -0.0739972577704487, -0.04988380057536943, 0.0019112332700246739, 0.04453482473778945, -0.019517947394118492, -0.03317562207823132, -0.08139507964411238, 0.19186581823672738, -0.016989965091812866, -0.08663490484170897, -0.025163710811232205, 0.019998056115696286, -0.07354112620642825, -0.05800354322287502, -0.14366656499066247, 0.04198135467583593, -0.05390133333647616, -0.09463950581915993, 0.02049023792416728, -0.008843930292739171, 0.012243883760193119, 0.14779603332172989, -0.012634724227633695, -0.022383175694909795, -0.029430906706363898, -0.05170531153471049, 0.03151735215101417]}, \"token.table\": {\"Topic\": [31, 1, 2, 3, 4, 5, 6, 7, 8, 9, 11, 12, 13, 14, 15, 16, 17, 18, 19, 20, 21, 22, 23, 24, 25, 26, 27, 28, 29, 30, 31, 32, 33, 34, 35, 36, 37, 38, 39, 40, 41, 42, 43, 44, 45, 46, 48, 49, 50, 10, 17, 18, 17, 3, 5, 7, 10, 11, 17, 18, 19, 20, 22, 24, 25, 26, 28, 29, 30, 33, 37, 38, 40, 41, 44, 45, 46, 47, 48, 49, 3, 44, 50, 24, 46, 17, 20, 38, 49, 3, 22, 45, 49, 3, 4, 8, 10, 11, 15, 17, 20, 21, 22, 24, 25, 29, 30, 32, 35, 36, 37, 38, 40, 41, 44, 45, 46, 47, 48, 49, 50, 10, 22, 33, 10, 49, 43, 35, 37, 3, 20, 44, 47, 2, 4, 5, 6, 7, 9, 11, 14, 20, 21, 27, 35, 37, 38, 43, 46, 47, 50, 45, 20, 8, 5, 8, 9, 10, 17, 20, 22, 24, 26, 29, 34, 38, 40, 44, 45, 47, 48, 49, 50, 3, 17, 44, 17, 24, 29, 38, 3, 17, 28, 31, 48, 49, 50, 2, 4, 8, 9, 11, 12, 13, 17, 18, 20, 22, 24, 27, 28, 29, 32, 34, 40, 41, 42, 44, 46, 47, 48, 49, 17, 41, 46, 33, 49, 2, 9, 14, 24, 26, 38, 44, 46, 47, 48, 9, 18, 20, 24, 38, 45, 46, 4, 9, 10, 11, 14, 24, 29, 34, 37, 43, 44, 47, 50, 24, 17, 24, 10, 14, 47, 27, 45, 37, 5, 9, 11, 14, 16, 21, 27, 30, 33, 43, 49, 47, 3, 4, 6, 9, 12, 13, 15, 22, 29, 36, 42, 28, 13, 4, 12, 41, 12, 26, 34, 4, 28, 17, 44, 39, 28, 29, 32, 35, 36, 13, 18, 32, 27, 3, 20, 21, 22, 10, 47, 49, 6, 10, 22, 1, 11, 7, 10, 13, 30, 45, 3, 28, 29, 31, 32, 37, 5, 35, 43, 5, 21, 3, 41, 38, 19, 19, 26, 50, 39, 10, 29, 2, 36, 40, 19, 34, 35, 3, 50, 43, 7, 31, 3, 6, 7, 9, 16, 20, 27, 32, 43, 48, 50, 7, 9, 30, 25, 31, 37, 39, 42, 14, 24, 27, 31, 42, 39, 42, 26, 15, 15, 2, 41, 40, 4, 9, 10, 12, 13, 14, 27, 30, 31, 32, 33, 49, 37, 45, 13, 15, 6, 22, 50, 3, 8, 12, 23, 24, 27, 28, 30, 35, 37, 39, 42, 45, 46, 47, 13, 19, 20, 30, 4, 10, 10, 13, 22, 30, 1, 12, 12, 23, 50, 9, 28, 2, 3, 6, 8, 9, 11, 13, 15, 19, 22, 25, 26, 28, 30, 32, 36, 40, 44, 49, 28, 8, 13, 15, 19, 22, 27, 36, 44, 20, 1, 10, 15, 16, 19, 21, 34, 35, 36, 38, 39, 44, 50, 21, 30, 28, 31, 30, 31, 7, 7, 2, 27, 35, 3, 25, 14, 16, 30, 16, 10, 16, 29, 38, 4, 5, 10, 22, 31, 43, 46, 4, 13, 9, 15, 25, 17, 23, 37, 42, 44, 45, 6, 47, 24, 32, 25, 35, 18, 21, 28, 31, 12, 39, 15, 16, 21, 38, 29, 22, 1, 3, 5, 31, 39, 40, 44, 31, 28, 21, 8, 19, 28, 9, 5, 17, 36, 10, 15, 18, 16, 20, 22, 31, 35, 38, 39, 46, 49, 3, 8, 33, 36, 3, 7, 11, 12, 20, 22, 25, 35, 38, 39, 43, 44, 47, 37, 38, 7, 8, 9, 15, 24, 33, 34, 37, 46, 49, 22, 9, 4, 15, 18, 30, 5, 3, 49, 12, 41, 49, 43, 1, 5, 9, 12, 13, 14, 15, 17, 20, 24, 27, 29, 36, 37, 38, 41, 47, 49, 18, 36, 45, 17, 1, 7, 40, 43, 31, 4, 6, 7, 8, 10, 12, 13, 14, 19, 22, 28, 29, 32, 33, 35, 37, 38, 42, 45, 46, 47, 49, 23, 24, 31, 28, 35, 47, 15, 45, 6, 27, 22, 1, 3, 6, 8, 9, 11, 15, 18, 19, 20, 22, 23, 25, 27, 28, 30, 32, 36, 37, 38, 43, 44, 45, 49, 50, 27, 5, 9, 21, 24, 50, 16, 18, 5, 2, 20, 27, 46, 30, 1, 11, 35, 39, 6, 32, 4, 33, 1, 22, 29, 35, 42, 18, 29, 25, 27, 32, 22, 46, 39, 37, 1, 9, 29, 30, 21, 28, 48, 1, 2, 4, 6, 7, 8, 12, 18, 19, 20, 21, 23, 24, 27, 28, 29, 31, 32, 33, 35, 37, 38, 40, 41, 42, 43, 44, 45, 46, 47, 48, 23, 38, 2, 4, 1, 4, 6, 11, 13, 14, 18, 19, 20, 21, 23, 24, 26, 27, 32, 33, 34, 37, 39, 40, 44, 47, 48, 49, 50, 20, 45, 5, 31, 26, 17, 6, 27, 43, 13, 15, 12, 50, 24, 20, 44, 40, 5, 42, 10, 44, 12, 21, 32, 50, 50, 2, 8, 9, 18, 23, 26, 28, 32, 34, 43, 45, 45, 15, 25, 4, 6, 14, 18, 19, 26, 33, 40, 33, 19, 47, 35, 2, 3, 4, 5, 6, 9, 10, 11, 12, 13, 14, 16, 17, 18, 19, 20, 21, 25, 26, 29, 30, 31, 34, 35, 36, 37, 38, 40, 41, 43, 45, 46, 47, 48, 50, 46, 5, 10, 11, 14, 17, 18, 20, 22, 24, 27, 30, 33, 38, 47, 48, 20, 37, 23, 3, 4, 8, 11, 17, 32, 36, 38, 39, 41, 46, 35, 5, 10, 11, 13, 17, 22, 24, 27, 30, 31, 32, 34, 36, 38, 41, 42, 44, 47, 48, 49, 50, 45, 17, 5, 2, 21, 30, 2, 44, 18, 23, 44, 11, 41, 2, 4, 5, 8, 9, 10, 11, 13, 14, 15, 17, 20, 23, 24, 26, 32, 36, 38, 41, 46, 48, 49, 14, 20, 45, 31, 4, 18, 36, 41, 5, 25, 1, 5, 15, 16, 38, 42, 33, 49, 31, 23, 33, 35, 49, 10, 11, 23, 25, 47, 42, 45, 36, 9, 45, 45, 36, 25, 18, 8, 3, 11, 39, 40, 48, 50, 9, 1, 3, 4, 5, 6, 7, 9, 10, 12, 13, 14, 15, 16, 17, 18, 19, 20, 21, 22, 24, 26, 27, 28, 29, 30, 31, 32, 33, 34, 35, 37, 38, 39, 40, 42, 43, 44, 45, 47, 48, 49, 50, 14, 5, 11, 13, 23, 24, 29, 44, 20, 8, 33, 38, 40, 49, 2, 16, 32, 44, 22, 16, 24, 33, 48, 34, 17, 15, 19, 16, 37, 45, 12, 1, 3, 7, 22, 35, 41, 45, 47, 14, 15, 16, 19, 41, 43, 46, 13, 14, 38, 45, 38, 12, 21, 17, 42, 24, 46, 24, 43, 26, 3, 7, 17, 13, 23, 31, 2, 4, 12, 19, 25, 37, 3, 38, 13, 9, 11, 14, 16, 19, 25, 26, 31, 32, 35, 39, 42, 49, 50, 37, 18, 37, 47, 47, 16, 3, 29, 48, 24, 39, 43, 5, 8, 11, 18, 24, 26, 28, 31, 33, 40, 43, 48, 16, 7, 21, 23, 31, 36, 18, 21, 30, 17, 36, 48, 1, 1, 3, 4, 5, 6, 7, 9, 10, 12, 13, 14, 15, 16, 17, 18, 19, 20, 22, 23, 24, 25, 26, 27, 28, 29, 30, 31, 33, 34, 35, 36, 37, 38, 39, 40, 43, 46, 47, 48, 49, 50, 1, 9, 13, 4, 5, 6, 7, 9, 10, 11, 12, 14, 17, 19, 20, 21, 22, 23, 26, 30, 31, 32, 35, 36, 37, 38, 39, 40, 41, 42, 43, 45, 46, 48, 49, 50, 3, 37, 27, 12, 15, 26, 27, 27, 47, 13, 20, 29, 17, 21, 36, 1, 2, 3, 4, 5, 7, 8, 9, 10, 11, 12, 14, 15, 16, 17, 18, 19, 20, 21, 22, 23, 24, 25, 26, 27, 29, 30, 31, 32, 33, 34, 35, 37, 38, 39, 40, 41, 42, 43, 44, 46, 47, 48, 49, 50, 1, 4, 10, 12, 13, 15, 18, 21, 24, 25, 27, 28, 32, 33, 34, 36, 39, 40, 42, 48, 49, 22, 37, 10, 15, 17, 36, 14, 13, 14, 19, 20, 29, 35, 36, 4, 3, 15, 18, 29, 35, 36, 40, 17, 5, 33, 35, 31, 37, 2, 7, 8, 33, 34, 36, 46, 16, 40, 1, 2, 3, 4, 5, 6, 7, 8, 11, 12, 13, 14, 15, 16, 18, 19, 20, 21, 22, 23, 24, 25, 26, 27, 28, 29, 30, 31, 32, 34, 35, 37, 38, 39, 40, 41, 42, 43, 44, 45, 46, 47, 48, 49, 50, 34, 41, 5, 30, 17, 32, 48, 4, 7, 17, 32, 45, 13, 33, 36, 37, 38, 41, 49, 41, 29, 26, 18, 20, 44, 40, 15, 20, 13, 39, 3, 22, 29, 44, 2, 3, 8, 9, 12, 13, 14, 15, 16, 18, 23, 25, 26, 27, 31, 32, 35, 37, 38, 42, 43, 44, 47, 50, 25, 22, 44, 3, 4, 10, 11, 14, 15, 16, 17, 18, 20, 21, 22, 28, 29, 33, 34, 35, 36, 37, 41, 46, 47, 48, 45, 46, 46, 47, 36, 48, 2, 6, 7, 9, 21, 25, 26, 42, 46, 40, 50, 8, 36, 15, 34, 20, 3, 5, 39, 3, 4, 20, 36, 3, 4, 32, 34, 1, 46, 10, 41, 46, 8, 27, 33, 2, 15, 17, 19, 34, 35, 38, 43, 47, 50, 19, 8, 46, 19, 10, 33, 38, 20, 45, 1, 13, 32, 38, 44, 37, 25, 35, 39, 43, 47, 13, 45, 3, 14, 1, 4, 11, 12, 15, 19, 22, 31, 45, 2, 36, 18, 18, 48, 17, 22, 23, 24, 28, 32, 40, 25, 10, 11, 7, 16, 30, 28, 22, 10, 26, 41, 37, 49, 22, 38, 20, 46, 28, 8, 40, 31, 14, 46, 8, 19, 3, 4, 10, 18, 36, 12, 29, 14, 15, 38, 39, 17, 3, 18, 43, 27, 46, 49, 17, 38, 50, 24, 44, 12, 34, 48, 38, 42, 2, 8, 10, 21, 13, 34, 46, 26, 10, 32, 41, 6, 34, 43, 50, 50, 36, 6, 18, 32, 34, 38, 41, 36, 39, 46, 13, 45, 39, 7, 12, 14, 15, 23, 24, 29, 30, 41, 47, 48, 2, 4, 6, 20, 21, 24, 26, 32, 34, 38, 41, 42, 48, 6, 14, 21, 27, 33, 34, 39, 43, 44, 6, 47, 14, 21, 30, 6, 18, 8, 36, 6, 46, 1, 12, 40, 25, 37, 48, 6, 12, 27, 4, 11, 23, 30, 16, 33, 22, 27, 43, 35, 28, 16, 5, 27, 31, 37, 39, 47, 44, 13, 46, 24, 25, 44, 3, 10, 10, 18, 32, 32, 41, 5, 14, 15, 48, 8, 15, 16, 41, 6, 22, 29, 32, 37, 12, 16, 25, 45, 31, 50, 17, 5, 26, 1, 3, 6, 26, 34, 29, 3, 3, 18, 19, 24, 32, 35, 36, 37, 38, 49, 1, 2, 3, 4, 5, 8, 9, 11, 13, 15, 16, 17, 18, 19, 25, 26, 27, 29, 30, 32, 33, 34, 36, 37, 38, 39, 43, 44, 45, 46, 47, 48, 50, 2, 19, 11, 2, 3, 7, 18, 21, 23, 28, 31, 41, 30, 8, 17, 20, 22, 25, 31, 32, 41, 42, 46, 48, 49, 7, 39, 4, 33, 25, 13, 49, 3, 4, 15, 21, 38, 41, 8, 9, 11, 28, 29, 34, 38, 40, 41, 44, 45, 48, 2, 6, 7, 10, 12, 14, 16, 25, 27, 32, 34, 37, 42, 43, 46, 50, 20, 45, 14, 24, 27, 31, 37, 43, 2, 9, 18, 34, 11, 15, 21, 18, 30, 15, 17, 31, 39, 2, 37, 44, 1, 3, 4, 5, 6, 7, 8, 13, 15, 17, 19, 20, 22, 23, 24, 28, 31, 32, 33, 34, 35, 36, 37, 38, 39, 40, 41, 42, 44, 45, 48, 49, 16, 25, 28, 42, 23, 38, 15, 39, 44, 46, 3, 17, 18, 19, 36, 41, 16, 29, 6, 12, 13, 30, 31, 9, 40, 34, 48, 13, 24, 1, 5, 7, 9, 10, 12, 14, 17, 23, 24, 25, 26, 27, 29, 42, 47, 48, 49, 10, 30, 34, 25, 43, 15, 30, 41, 7, 21, 42, 23, 42, 17, 33, 36, 1, 29, 38, 5, 28, 22, 41, 13, 8, 35, 48, 3, 5, 49, 29, 47, 7, 9, 11, 15, 16, 17, 19, 20, 21, 22, 23, 28, 33, 35, 37, 44, 46, 47, 49, 50, 4, 2, 4, 5, 7, 9, 10, 12, 13, 14, 20, 40, 42, 47, 50, 31, 14, 23, 6, 10, 25, 28, 34, 8, 1, 3, 5, 8, 14, 21, 22, 27, 31, 36, 20, 1, 2, 4, 5, 6, 7, 8, 10, 11, 12, 13, 14, 15, 16, 17, 19, 20, 21, 22, 23, 24, 25, 26, 27, 28, 29, 30, 31, 32, 33, 34, 35, 36, 37, 38, 39, 40, 43, 44, 46, 47, 48, 49, 50, 15, 24, 29, 38, 40, 47, 1, 1, 7, 11, 15, 19, 26, 35, 26, 37, 4, 14, 40, 7, 41, 20, 46, 6, 13, 6, 3, 1, 3, 6, 7, 9, 14, 16, 19, 20, 25, 26, 31, 32, 37, 41, 42, 44, 47, 25, 25, 38, 48, 29, 40, 22, 13, 26, 27, 8, 31, 47, 27, 34, 48, 2, 15, 28, 34, 39, 40, 21, 23, 1, 12, 16, 24, 28, 39, 45, 25, 28, 41, 38, 47, 29, 34, 36, 24, 28, 35, 26, 29, 10, 24, 44, 35, 29, 48, 4, 5, 6, 7, 9, 11, 12, 16, 17, 18, 21, 22, 23, 25, 26, 29, 30, 31, 32, 33, 35, 38, 40, 41, 47, 20, 32, 44, 42, 40, 8, 15, 39, 16, 31, 24, 3, 33, 33, 6, 19, 45, 26, 47, 2, 28, 50, 18, 1, 3, 4, 6, 8, 10, 11, 12, 17, 25, 26, 27, 33, 36, 39, 40, 41, 45, 46, 41, 12, 32, 45, 46, 4, 5, 7, 8, 9, 10, 12, 13, 14, 15, 16, 18, 23, 25, 27, 28, 29, 31, 32, 34, 36, 37, 38, 40, 42, 43, 45, 48, 50, 8, 21, 14, 33, 35, 8, 9, 25, 26, 30, 33, 35, 38, 47, 41, 15, 15, 48, 16, 42, 6, 13, 21, 23, 32, 42, 44, 12, 28, 9, 17, 34, 10, 3, 4, 15, 15, 1, 19, 31, 45, 11, 48, 11, 38, 49, 6, 17, 41, 25, 49, 7, 24, 41, 5, 30, 49, 37, 14, 27, 34, 6, 20, 25, 4, 12, 50, 39, 48, 1, 4, 5, 10, 14, 22, 25, 30, 33, 40, 43, 41, 39, 14, 14, 21, 23, 28, 19, 33, 35, 47, 7, 7, 14, 5, 6, 17, 21, 27, 31, 45, 46, 46, 42, 47, 16, 25, 31, 33, 47, 24, 33, 10, 33, 8, 24, 27, 43, 14, 1, 2, 3, 4, 5, 6, 7, 8, 9, 10, 11, 12, 13, 14, 15, 16, 17, 18, 19, 20, 21, 22, 23, 24, 25, 26, 27, 28, 29, 30, 31, 32, 33, 34, 35, 36, 37, 38, 39, 40, 41, 42, 43, 44, 45, 46, 47, 48, 49, 50, 39, 11, 15, 22, 25, 26, 30, 45, 48, 49, 4, 32, 15, 39, 22, 2, 5, 8, 10, 12, 13, 15, 18, 20, 21, 22, 23, 26, 29, 30, 33, 37, 42, 43, 48, 50, 10, 35, 3, 4, 15, 21, 36, 41, 44, 2, 3, 44, 34, 42, 29, 21, 23, 34, 22, 21, 41, 3, 22, 6, 16, 25, 40, 11, 5, 17, 31, 45, 23, 37, 35, 6, 22, 44, 10, 29, 35, 46, 26, 5, 16, 17, 24, 34, 8, 1, 2, 10, 12, 16, 17, 23, 31, 36, 21, 24, 47, 23, 12, 31, 6, 44, 3, 16, 17, 31, 40, 12, 18, 46, 5, 38, 40, 47, 38, 3, 7, 11, 13, 14, 17, 20, 26, 27, 28, 32, 33, 38, 39, 41, 45, 47, 48, 42, 1, 17, 30, 32, 42, 43, 50, 11, 28, 42, 23, 5, 43, 1, 3, 4, 6, 7, 8, 9, 10, 11, 12, 13, 14, 15, 16, 19, 20, 21, 22, 23, 25, 26, 28, 29, 30, 31, 32, 33, 35, 36, 37, 39, 43, 44, 45, 47, 48, 49, 50, 15, 7, 15, 1, 5, 6, 7, 8, 9, 10, 11, 12, 14, 15, 17, 20, 23, 24, 25, 26, 27, 28, 29, 30, 31, 35, 36, 37, 38, 39, 40, 41, 43, 44, 45, 46, 48, 49, 45, 27, 36, 8, 24, 8, 14, 27, 19, 21, 35, 28, 31, 3, 18, 46, 42, 34, 13, 47, 1, 14, 28, 33, 41, 41, 2, 33, 43, 2, 11, 21, 22, 32, 33, 37, 46, 39, 10, 37, 9, 21, 21, 14, 45, 18, 39, 16, 22, 5, 18, 22, 32, 33, 38, 47, 49, 4, 38, 11, 39, 35, 37, 38, 34, 27, 29, 16, 46, 18, 3, 19, 15, 32, 40, 40, 34, 50, 5, 41, 3, 33, 37, 8, 32, 39, 42, 1, 9, 23, 26, 28, 31, 35, 39, 43, 45, 48, 3, 27, 34, 46, 11, 40, 15, 38, 37, 37, 6, 18, 19, 31, 39, 42, 37, 50, 17, 23, 33, 34, 41, 38, 5, 1, 2, 3, 4, 5, 6, 7, 8, 9, 10, 12, 13, 14, 15, 16, 17, 18, 19, 20, 21, 22, 23, 24, 26, 27, 28, 29, 30, 31, 32, 33, 35, 36, 37, 38, 39, 41, 42, 43, 44, 45, 46, 47, 48, 49, 50, 1, 2, 3, 5, 6, 7, 8, 10, 11, 12, 13, 14, 15, 16, 17, 20, 21, 22, 23, 25, 30, 31, 32, 33, 34, 36, 37, 40, 42, 44, 45, 46, 49, 28, 50, 5, 7, 31, 39, 21, 25, 26, 27, 36, 38, 42, 45, 40, 32, 43, 29, 19, 39, 44, 2, 24, 8, 23, 25, 28, 29, 38, 42, 44, 9, 44, 48, 2, 6, 7, 9, 10, 12, 14, 23, 24, 31, 39, 41, 42, 48, 49, 3, 4, 10, 15, 19, 38, 6, 11, 2, 40, 44, 17, 4, 49, 46, 1, 3, 5, 12, 15, 17, 21, 22, 36, 39, 40, 45, 46, 4, 9, 16, 11, 46, 7, 3, 15, 30, 3, 18, 47, 7, 16, 46, 3, 31, 25, 44, 6, 22, 26, 28, 44, 8, 9, 2, 32, 38, 40, 15, 32, 13, 34, 19, 13, 44, 16, 41, 49, 12, 39, 4, 7, 8, 11, 16, 18, 24, 28, 34, 41, 43, 44, 45, 50, 16, 7, 1, 5, 8, 10, 13, 15, 16, 18, 19, 21, 43, 44, 36, 13, 41, 1, 7, 41, 18, 45, 22, 14, 20, 22, 33, 37, 48, 25, 26, 5, 9, 12, 42, 43, 9, 13, 19, 43, 2, 3, 4, 7, 12, 15, 17, 18, 21, 29, 31, 33, 34, 38, 41, 46, 47, 44, 18, 24, 1, 5, 40, 38, 42, 28, 6, 21, 23, 11, 12, 10, 22, 23, 24, 27, 28, 29, 35, 38, 39, 43, 44, 46, 47, 1, 15, 20, 26, 46, 1, 2, 3, 4, 5, 6, 7, 8, 9, 10, 12, 13, 15, 16, 17, 18, 19, 20, 21, 22, 23, 24, 25, 26, 27, 28, 29, 30, 31, 32, 33, 34, 35, 36, 37, 38, 39, 40, 42, 43, 44, 45, 46, 47, 48, 49, 50, 34, 22, 15, 13, 44, 2, 4, 19, 38, 44, 45, 40, 24, 23, 26, 43, 2, 3, 5, 6, 8, 9, 12, 13, 15, 17, 19, 20, 21, 22, 27, 34, 35, 36, 37, 42, 43, 44, 10, 20, 34, 38, 48, 23, 26, 35, 38, 42, 50, 6, 37, 50, 12, 48, 26, 32, 1, 2, 16, 12, 35, 1, 4, 10, 32, 4, 2, 3, 6, 7, 9, 10, 14, 20, 21, 22, 23, 24, 28, 30, 32, 36, 44, 48, 19, 20, 20, 2, 1, 3, 4, 7, 8, 9, 10, 12, 13, 14, 16, 17, 18, 19, 20, 21, 22, 28, 29, 30, 31, 32, 35, 36, 39, 42, 43, 44, 46, 47, 48, 43, 42, 5, 13, 34, 48, 5, 18, 41, 47, 49, 5, 1, 8, 15, 23, 31, 33, 34, 38, 45, 46, 43, 10, 15, 23, 37, 38, 49, 40, 18, 14, 49, 12, 1, 3, 4, 5, 6, 7, 8, 9, 10, 12, 13, 14, 15, 16, 18, 21, 22, 24, 25, 27, 28, 30, 31, 33, 34, 35, 36, 37, 38, 39, 40, 41, 42, 43, 46, 47, 48, 49, 50, 43, 3, 9, 23, 28, 38, 42, 43, 48, 1, 2, 3, 4, 5, 6, 7, 8, 9, 10, 11, 12, 13, 14, 15, 16, 17, 18, 19, 20, 21, 22, 23, 24, 25, 26, 27, 28, 29, 30, 31, 32, 33, 34, 35, 36, 37, 38, 39, 40, 41, 42, 43, 44, 45, 46, 47, 48, 49, 50, 5, 20, 25, 27, 28, 29, 31, 40, 45, 46, 47, 37, 43, 29, 39, 4, 20, 50, 38, 19, 32, 36, 40, 12, 1, 4, 6, 13, 14, 16, 22, 23, 24, 26, 27, 31, 32, 33, 34, 42, 44, 46, 23, 13, 18, 2, 8, 12, 19, 21, 29, 34, 36, 49, 50, 36, 8, 15, 36, 22, 43, 4, 4, 25, 50, 1, 2, 3, 4, 5, 6, 9, 11, 12, 13, 14, 16, 17, 18, 20, 23, 24, 25, 26, 27, 31, 32, 34, 35, 36, 37, 39, 40, 41, 42, 43, 44, 45, 47, 48, 49, 50, 1, 39, 15, 5, 7, 17, 11, 14, 26, 36, 41, 10, 27, 3, 6, 11, 12, 18, 21, 22, 25, 28, 29, 31, 37, 38, 39, 40, 44, 47, 5, 6, 12, 45, 38, 33, 9, 37, 6, 2, 7, 2, 41, 36, 19, 43, 42, 50, 19, 23, 24, 34, 17, 43, 3, 14, 41, 1, 6, 12, 16, 17, 19, 22, 28, 31, 38, 43, 46, 7, 29, 44, 19, 44, 32, 10, 50, 30, 16, 11, 32, 3, 30, 37, 43, 2, 14, 25, 32, 29, 16, 31, 1, 22, 31, 45, 46, 15, 28, 18, 23, 25, 27, 28, 42, 45, 34, 36, 5, 45, 1, 18, 19, 47, 9, 3, 10, 17, 29, 29, 4, 10, 15, 17, 40, 3, 15, 33, 30, 13, 1, 2, 3, 4, 6, 7, 8, 9, 10, 11, 12, 14, 15, 17, 18, 20, 21, 22, 24, 25, 27, 29, 30, 31, 32, 33, 34, 35, 36, 37, 38, 39, 40, 41, 42, 43, 45, 46, 47, 48, 49, 50, 15, 12, 45, 2, 42, 2, 34, 4, 34, 15, 6, 11, 15, 18, 34, 10, 14, 48, 19, 46, 24, 1, 5, 9, 15, 18, 22, 30, 37, 45, 27, 24, 41, 49, 36, 11, 12, 15, 29, 34, 45, 16, 37, 39, 4, 16, 27, 2, 47, 6, 26, 42, 42, 10, 43, 34, 20, 3, 28, 34, 39, 5, 6, 1, 41, 17, 34, 36, 29, 35, 36, 8, 17, 45, 48, 23, 42, 20, 7, 3, 4, 7, 18, 32, 29, 38, 18, 49, 12, 1, 27, 37, 45, 18, 25, 47, 7, 10, 4, 25, 36, 40, 17, 17, 31, 43, 47, 4, 36, 19, 1, 15, 24, 45, 1, 3, 9, 12, 13, 17, 20, 21, 25, 28, 34, 35, 43, 44, 45, 49, 50, 20, 34, 5, 1, 3, 1, 42, 31, 23, 24, 36, 8, 11, 22, 31, 35, 43, 8, 31, 43, 49, 29, 34, 1, 8, 43, 19, 35, 7, 8, 14, 14, 30, 40, 35, 25, 1, 2, 3, 4, 5, 6, 7, 8, 9, 11, 14, 15, 16, 17, 18, 19, 20, 21, 23, 24, 25, 26, 30, 31, 35, 36, 37, 38, 39, 40, 41, 42, 43, 44, 46, 47, 48, 50, 41, 3, 25, 26, 46, 21, 8, 17, 21, 36, 22, 10, 3, 30, 22, 6, 11, 26, 42, 1, 2, 3, 7, 9, 10, 11, 13, 14, 17, 20, 23, 26, 28, 31, 34, 35, 36, 41, 42, 43, 45, 49, 11, 41, 41, 48, 1, 40, 33, 49, 34, 13, 12, 49, 18, 39, 18, 2, 4, 5, 6, 9, 10, 12, 16, 18, 24, 26, 29, 30, 31, 34, 36, 38, 39, 41, 44, 49, 7, 48, 4, 43, 25, 28, 48, 30, 5, 48, 9, 6, 2, 3, 4, 5, 7, 8, 9, 11, 12, 14, 15, 16, 17, 18, 21, 22, 25, 27, 30, 31, 33, 34, 36, 37, 38, 39, 41, 44, 45, 46, 47, 49, 8, 42, 47, 49, 8, 19, 9, 1, 1, 3, 4, 5, 6, 7, 9, 10, 11, 12, 13, 14, 15, 16, 17, 18, 19, 20, 21, 22, 24, 25, 26, 29, 30, 31, 32, 33, 35, 36, 37, 38, 39, 40, 41, 43, 47, 48, 49, 9, 6, 9, 21, 25, 8, 9, 10, 12, 13, 30, 35, 3, 6, 9, 13, 18, 21, 30, 34, 40, 1, 2, 13, 22, 33, 47, 49, 2, 7, 14, 26, 15, 24, 1, 2, 3, 4, 12, 13, 14, 15, 16, 17, 18, 20, 21, 22, 26, 28, 29, 31, 32, 33, 34, 40, 44, 46, 48, 31, 22, 7, 18, 24, 32, 43, 48, 2, 47, 1, 6, 12, 13, 14, 16, 21, 29, 30, 33, 35, 48, 37, 8, 13, 17, 49, 7, 16, 17, 28, 42, 44, 47, 38, 15, 16, 18, 49, 26, 39, 1, 25, 25, 1, 9, 5, 12, 21, 31, 15, 23, 10, 22, 43, 6, 3, 12, 24, 30, 11, 19, 16, 21, 28, 33, 43, 49, 40, 2, 3, 10, 11, 13, 16, 22, 26, 27, 30, 32, 39, 40, 41, 44, 46, 47, 49, 40, 49, 34, 44, 16, 35, 29, 40, 1, 2, 3, 4, 5, 6, 7, 8, 9, 10, 11, 12, 13, 14, 15, 16, 17, 18, 19, 20, 21, 22, 23, 24, 25, 26, 27, 28, 29, 30, 31, 32, 33, 34, 35, 36, 37, 38, 39, 40, 41, 42, 43, 44, 45, 46, 47, 48, 49, 50, 50, 3, 35, 49, 21, 47, 47, 44, 40, 1, 2, 3, 4, 5, 6, 7, 9, 10, 11, 12, 13, 14, 15, 18, 20, 22, 25, 26, 27, 29, 31, 32, 33, 35, 36, 37, 38, 39, 40, 41, 42, 43, 44, 45, 46, 47, 48, 49, 10, 10, 43, 20, 5, 20, 3, 21, 35, 44, 10, 16, 36, 8, 36, 21, 32, 47, 17, 17, 5, 9, 38, 26, 6, 12, 45, 4, 38, 8, 14, 1, 2, 3, 4, 5, 6, 7, 10, 11, 12, 13, 14, 15, 16, 17, 18, 21, 22, 23, 25, 26, 27, 28, 30, 31, 32, 33, 34, 35, 36, 37, 38, 39, 40, 41, 43, 44, 45, 46, 47, 48, 49, 50, 3, 5, 15, 3, 5, 9, 13, 15, 17, 26, 28, 30, 32, 33, 36, 38, 43, 44, 47, 48, 50, 5, 36, 9, 39, 25, 9, 33, 4, 5, 6, 12, 15, 16, 20, 22, 23, 24, 25, 26, 27, 30, 32, 34, 35, 38, 41, 42, 43, 45, 47, 23, 10, 26, 38, 32, 50, 1, 2, 3, 5, 8, 12, 13, 14, 15, 17, 18, 20, 22, 24, 26, 27, 28, 29, 31, 33, 35, 36, 37, 38, 39, 43, 45, 46, 47, 49, 50, 15, 26, 2, 26, 1, 11, 14, 37, 7, 18, 50, 43, 26, 5, 39, 33, 15, 35, 29, 14, 33, 36, 47, 25, 15, 23, 39, 27, 45, 39, 10, 14, 17, 23, 27, 29, 36, 37, 38, 48, 50, 9, 3, 19, 28, 1, 4, 16, 29, 31, 40, 42, 50, 19, 23, 47, 49, 3, 2, 18, 19, 23, 36, 42, 47, 48, 37, 8, 25, 37, 43, 45, 39, 28, 25, 32, 32, 19, 8, 18, 21, 22, 12, 6, 9, 13, 16, 21, 25, 32, 39, 47, 14, 36, 25, 10, 11, 14, 18, 24, 25, 29, 31, 35, 43, 19, 16, 26, 33, 38, 48, 20, 44, 17, 25, 11, 30, 8, 24, 6, 7, 31, 4, 3, 9, 19, 2, 3, 10, 20, 30, 36, 36, 3, 20, 36, 37, 23, 2, 9, 15, 17, 18, 19, 20, 21, 28, 29, 30, 34, 41, 42, 48, 18, 33, 18, 36, 48, 24, 7, 46, 4, 31, 10, 23, 2, 10, 25, 38, 45, 2, 4, 6, 7, 8, 9, 10, 11, 13, 15, 16, 17, 18, 19, 20, 21, 24, 25, 29, 31, 32, 33, 35, 36, 37, 38, 39, 42, 46, 49, 50, 48, 12, 2, 2, 9, 28, 40, 45, 1, 2, 21, 10, 6, 11, 18, 19, 26, 27, 29, 38, 44, 36, 15, 18, 36, 35, 34, 44, 29, 1, 10, 13, 29, 4, 46, 41, 25, 3, 13, 39, 29, 6, 11, 17, 22, 41, 1, 14, 17, 42, 9, 14, 24, 24, 3, 33, 44, 22, 26, 47, 14, 23, 35, 40, 38, 41, 10, 11, 15, 22, 23, 26, 31, 36, 40, 43, 49, 38, 41, 15, 49, 49, 24, 6, 11, 13, 43, 1, 5, 6, 7, 9, 11, 13, 14, 16, 17, 18, 20, 24, 25, 26, 27, 28, 29, 31, 34, 35, 37, 39, 40, 41, 42, 43, 44, 45, 46, 47, 48, 8, 19, 1, 10, 22, 23, 26, 28, 34, 35, 42, 45, 6, 7, 8, 11, 20, 36, 49, 43, 12, 43, 41, 42, 44, 23, 3, 11, 29, 14, 38, 12, 24, 1, 31, 2, 3, 8, 11, 13, 18, 40, 42, 44, 15, 23, 33, 42, 5, 11, 50, 17, 1, 6, 16, 19, 24, 31, 44, 17, 18, 31, 1, 20, 30, 32, 1, 24, 27, 28, 33, 1, 17, 22, 4, 5, 7, 9, 13, 15, 16, 23, 25, 36, 40, 43, 47, 32, 2, 10, 14, 11, 31, 28, 50, 44, 43, 33, 2, 3, 4, 5, 6, 9, 10, 11, 15, 16, 17, 18, 20, 23, 24, 30, 34, 35, 38, 39, 41, 42, 43, 47, 48, 50, 3, 4, 20, 25, 43, 5, 50, 7, 2, 28, 40, 43, 50, 2, 31, 49, 11, 29, 10, 48, 32, 42, 46, 20, 6, 49, 7, 17, 22, 26, 30, 34, 35, 37, 38, 40, 44, 49, 50, 26, 49, 25, 1, 8, 12, 1, 5, 7, 9, 17, 18, 22, 24, 25, 27, 29, 30, 34, 35, 36, 40, 43, 45, 46, 24, 50, 23, 25, 17, 20, 24, 38, 46, 47, 48, 19, 47, 22, 16, 23, 32, 33, 35, 9, 33, 17, 18, 33, 50, 7, 30, 10, 33, 8, 11, 12, 17, 20, 28, 36, 45, 48, 40, 14, 16, 6, 24, 48, 1, 2, 4, 7, 13, 16, 20, 22, 27, 32, 33, 36, 37, 39, 41, 45, 49, 50, 26, 3, 4, 9, 10, 12, 13, 14, 15, 17, 22, 27, 28, 30, 32, 37, 38, 41, 44, 47, 7, 11, 29, 12, 42, 2, 36, 44, 31, 30, 36, 37, 1, 4, 6, 12, 22, 26, 34, 35, 39, 46, 8, 50, 1, 10, 19, 7, 50, 21, 47, 2, 6, 7, 16, 20, 21, 25, 26, 27, 30, 31, 33, 36, 38, 39, 40, 41, 46, 47, 49, 35, 39, 40, 15, 3, 17, 33, 35, 9, 9, 27, 1, 9, 34, 45, 11, 11, 22, 33, 5, 32, 4, 23, 16, 11, 47, 29, 3, 7, 9, 11, 13, 14, 19, 21, 22, 25, 26, 29, 36, 38, 40, 41, 46, 47, 6, 7, 11, 13, 15, 26, 31, 34, 39, 12, 12, 27, 34, 33, 6, 13, 14, 24, 34, 36, 40, 8, 14, 7, 8, 2, 9, 21, 33, 5, 6, 9, 13, 18, 19, 22, 27, 28, 32, 36, 37, 38, 41, 43, 48, 31, 38, 38, 36, 29, 3, 5, 8, 10, 14, 15, 16, 19, 21, 26, 30, 33, 38, 47, 5, 32, 3, 21, 24, 11, 40, 3, 27, 31, 41, 45, 46, 35, 7, 18, 49, 8, 34, 22, 21, 26, 50, 6, 7, 10, 15, 20, 40, 41, 12, 14, 15, 11, 1, 4, 6, 8, 10, 12, 14, 15, 18, 22, 26, 29, 31, 33, 36, 44, 45, 50, 27, 21, 32, 39, 41, 11, 48, 31, 11, 42, 20, 26, 8, 12, 18, 42, 43, 45, 2, 2, 9, 19, 5, 25, 50, 28, 6, 26, 36, 28, 40, 34, 22, 29, 48, 9, 15, 16, 13, 12, 30, 23, 23, 9, 12, 9, 41, 3, 11, 25, 27, 34, 41, 42, 7, 17, 20, 21, 33, 36, 44, 17, 47, 30, 27, 40, 34, 2, 3, 5, 8, 9, 10, 12, 13, 14, 16, 17, 19, 20, 22, 31, 36, 37, 39, 40, 43, 44, 45, 48, 8, 18, 19, 12, 26, 8, 33, 10, 35, 37, 4, 5, 9, 11, 12, 13, 24, 25, 28, 30, 32, 33, 34, 36, 40, 20, 23, 38, 24, 46, 17, 2, 25, 32, 40, 42, 41, 19, 27, 1, 2, 6, 8, 12, 15, 16, 17, 19, 23, 25, 26, 27, 28, 31, 32, 33, 34, 36, 37, 38, 39, 40, 41, 42, 44, 45, 47, 48, 14, 6, 13, 12, 13, 8, 37, 38, 2, 4, 10, 15, 25, 31, 35, 49, 9, 49, 27, 6, 23, 36, 38, 48, 28, 38, 2, 48, 39, 26, 41, 16, 27, 9, 41, 16, 46, 23, 32, 9, 18, 50, 1, 3, 5, 6, 8, 9, 10, 12, 13, 14, 15, 16, 17, 18, 19, 20, 22, 23, 24, 26, 27, 28, 30, 32, 33, 34, 35, 36, 37, 39, 40, 41, 44, 46, 47, 49, 50, 42, 3, 8, 9, 12, 15, 18, 20, 21, 26, 32, 35, 38, 40, 44, 49, 2, 3, 5, 8, 10, 14, 18, 24, 27, 28, 31, 32, 33, 34, 37, 40, 41, 42, 43, 47, 5, 38, 9, 16, 1, 21, 22, 37, 39, 2, 25, 7, 19, 39, 42, 44, 25, 25, 1, 2, 3, 4, 5, 6, 9, 10, 12, 14, 16, 22, 23, 27, 31, 33, 34, 38, 40, 41, 49, 50, 5, 27, 3, 12, 42, 15, 6, 14, 28, 7, 16, 48, 21, 41, 37, 42, 28, 14, 16, 39, 42, 47, 3, 4, 6, 7, 10, 11, 14, 15, 16, 17, 19, 20, 21, 23, 26, 27, 28, 29, 30, 32, 33, 35, 36, 37, 38, 39, 42, 47, 48, 3, 7, 15, 17, 21, 25, 31, 34, 36, 48, 50, 4, 42, 24, 3, 48, 49, 4, 37, 41, 4, 29, 5, 40, 20, 25, 7, 1, 4, 8, 11, 19, 20, 21, 24, 38, 39, 45, 47, 42, 2, 45, 42, 4, 25, 26, 30, 37, 45, 5, 10, 11, 17, 20, 22, 24, 31, 32, 34, 36, 38, 42, 44, 47, 48, 49, 50, 11, 18, 14, 3, 13, 2, 48, 8, 34, 43, 15, 45, 2, 27, 1, 44, 38, 33, 44, 1, 1, 2, 16, 2, 4, 8, 9, 14, 17, 18, 37, 39, 40, 43, 44, 47, 19, 49, 26, 13, 43, 3, 12, 5, 35, 42, 23, 46, 48, 28, 20, 24, 9, 39, 9, 14, 32, 37, 46, 11, 2, 4, 46, 21, 35, 20, 6, 7, 9, 15, 19, 20, 21, 22, 25, 32, 34, 36, 37, 38, 43, 45, 46, 47, 10, 45, 13, 39, 46, 45, 2, 10, 16, 22, 21, 24, 28, 29, 23, 30, 36, 2, 4, 5, 8, 9, 12, 13, 17, 19, 20, 21, 24, 25, 36, 38, 40, 44, 45, 48, 49, 41, 8, 15, 25, 28, 32, 33, 35, 46, 47, 48, 22, 31, 50, 30, 43, 30, 14, 18, 25, 34, 36, 40, 48, 4, 17, 1, 4, 5, 6, 7, 8, 9, 10, 11, 12, 13, 14, 15, 16, 17, 18, 19, 20, 21, 22, 23, 25, 26, 28, 29, 30, 31, 32, 33, 34, 36, 37, 38, 39, 40, 41, 42, 43, 44, 45, 46, 47, 48, 49, 50, 1, 2, 3, 4, 5, 6, 7, 8, 9, 10, 11, 12, 13, 14, 15, 16, 17, 19, 20, 21, 22, 23, 24, 26, 27, 28, 29, 32, 33, 34, 35, 36, 38, 39, 40, 41, 42, 43, 44, 46, 47, 48, 49, 50, 3, 27, 42, 28, 10, 44, 34, 1, 2, 3, 4, 5, 6, 7, 8, 9, 10, 11, 12, 13, 14, 15, 16, 17, 18, 19, 20, 21, 22, 23, 24, 25, 26, 27, 28, 29, 30, 31, 32, 33, 34, 35, 36, 37, 38, 39, 40, 41, 42, 43, 44, 45, 46, 47, 49, 50, 16, 4, 4, 1, 5, 7, 12, 14, 17, 18, 21, 27, 30, 31, 32, 38, 45, 47, 49, 27, 23, 43, 45, 4, 34, 41, 38, 25, 3, 7, 36, 49, 36, 38, 46, 36, 41, 29, 39, 29, 39, 48, 6, 13, 21, 44, 31, 4, 8, 26, 36, 23, 8, 5, 9, 16, 12, 30, 44, 33, 11, 34, 19, 1, 2, 3, 4, 6, 7, 9, 12, 14, 17, 20, 24, 26, 27, 28, 29, 30, 31, 32, 33, 34, 35, 37, 40, 42, 43, 44, 46, 48, 49, 6, 8, 10, 32, 37, 39, 43, 45, 47, 3, 10, 26, 4, 5, 6, 7, 8, 10, 11, 12, 16, 19, 21, 22, 26, 28, 29, 33, 34, 37, 39, 40, 41, 43, 44, 45, 47, 34, 28, 32, 16, 34, 47, 24, 3, 16, 45, 8, 12, 18, 37, 42, 46, 48, 20, 47, 33, 14, 16, 19, 19, 14, 16, 19, 36, 44, 37, 5, 34, 2, 11, 48, 31, 8, 25, 28, 30, 37, 43, 27, 3, 10, 20, 21, 35, 6, 26, 38, 43, 44, 35, 1, 49, 3, 10, 13, 45, 13, 14, 15, 16, 31, 44, 46, 15, 1, 2, 3, 4, 6, 7, 8, 9, 10, 11, 12, 13, 14, 15, 16, 17, 18, 19, 20, 21, 22, 23, 24, 25, 26, 27, 28, 29, 31, 32, 33, 34, 35, 36, 37, 39, 40, 41, 43, 45, 46, 47, 48, 49, 50, 48, 8, 15, 17, 29, 36, 45, 48, 32, 40, 5, 6, 9, 17, 26, 33, 34, 36, 41, 46, 26, 1, 48, 8, 28, 46, 49, 33, 21, 35, 40, 21, 3, 8, 9, 35, 16, 21, 1, 19, 30, 33, 34, 43, 24, 27, 31, 37, 42, 20, 35, 42, 11, 43, 47, 49, 28, 1, 3, 4, 5, 6, 9, 10, 11, 12, 14, 15, 16, 17, 18, 19, 20, 22, 23, 24, 27, 28, 29, 32, 33, 34, 36, 39, 40, 42, 43, 45, 46, 48, 49, 5, 8, 13, 14, 16, 22, 24, 27, 34, 37, 35, 2, 29, 32, 49, 13, 23, 12, 17, 23, 24, 32, 47, 9, 17, 28, 1, 3, 4, 5, 6, 7, 8, 9, 11, 12, 13, 14, 15, 16, 17, 18, 20, 21, 22, 24, 25, 26, 27, 28, 29, 30, 31, 32, 33, 34, 35, 36, 37, 38, 39, 40, 41, 42, 43, 44, 45, 46, 47, 48, 49, 50, 39, 31, 6, 7, 1, 3, 17, 21, 23, 29, 37, 43, 45, 46, 40, 34, 2, 1, 7, 9, 11, 12, 13, 15, 17, 18, 21, 23, 26, 29, 30, 32, 33, 35, 36, 39, 41, 50, 23, 41, 26, 1, 14, 49, 30, 6, 32, 21, 34, 17, 1, 12, 32, 42, 45, 11, 13, 1, 35, 23, 16, 43, 33, 30, 23, 43, 5, 6, 7, 8, 9, 11, 13, 16, 22, 24, 27, 32, 37, 40, 47, 20, 43, 43, 31, 4, 38, 37, 14, 33, 1, 3, 4, 5, 6, 11, 12, 13, 16, 17, 21, 22, 27, 28, 31, 35, 40, 41, 43, 45, 46, 46, 12, 18, 21, 2, 3, 4, 6, 7, 8, 10, 11, 12, 14, 15, 16, 17, 18, 21, 22, 23, 24, 27, 28, 30, 31, 32, 33, 34, 36, 37, 38, 39, 41, 42, 43, 44, 45, 46, 49, 50, 2, 1, 2, 7, 8, 9, 16, 24, 25, 27, 28, 29, 30, 33, 34, 36, 37, 38, 42, 43, 46, 48, 49, 24, 45, 25, 1, 4, 11, 15, 16, 19, 20, 33, 34, 38, 39, 40, 44, 5, 47, 1, 2, 3, 4, 5, 6, 7, 8, 9, 10, 11, 12, 14, 16, 17, 18, 20, 21, 23, 25, 26, 27, 28, 29, 30, 31, 32, 33, 34, 35, 37, 39, 40, 42, 43, 44, 45, 46, 48, 49, 50, 7, 6, 32, 4, 10, 11, 12, 14, 20, 22, 25, 27, 29, 31, 33, 35, 43, 44, 46, 37, 13, 5, 17, 49, 16, 42, 27, 11, 31, 33, 49, 35, 41, 14, 3, 27, 35, 1, 15, 24, 34], \"Term\": [\"$\", \"'s\", \"'s\", \"'s\", \"'s\", \"'s\", \"'s\", \"'s\", \"'s\", \"'s\", \"'s\", \"'s\", \"'s\", \"'s\", \"'s\", \"'s\", \"'s\", \"'s\", \"'s\", \"'s\", \"'s\", \"'s\", \"'s\", \"'s\", \"'s\", \"'s\", \"'s\", \"'s\", \"'s\", \"'s\", \"'s\", \"'s\", \"'s\", \"'s\", \"'s\", \"'s\", \"'s\", \"'s\", \"'s\", \"'s\", \"'s\", \"'s\", \"'s\", \"'s\", \"'s\", \"'s\", \"'s\", \"'s\", \"'s\", \"+\", \"+\", \"+\", \"0\", \"1\", \"1\", \"1\", \"1\", \"1\", \"1\", \"1\", \"1\", \"1\", \"1\", \"1\", \"1\", \"1\", \"1\", \"1\", \"1\", \"1\", \"1\", \"1\", \"1\", \"1\", \"1\", \"1\", \"1\", \"1\", \"1\", \"1\", \"100%\", \"100%\", \"100%\", \"1000\", \"1000\", \"12\", \"12\", \"12\", \"12\", \"15\", \"15\", \"15\", \"15\", \"2\", \"2\", \"2\", \"2\", \"2\", \"2\", \"2\", \"2\", \"2\", \"2\", \"2\", \"2\", \"2\", \"2\", \"2\", \"2\", \"2\", \"2\", \"2\", \"2\", \"2\", \"2\", \"2\", \"2\", \"2\", \"2\", \"2\", \"2\", \"20\", \"200\", \"2000\", \"2000_rupee_note\", \"2010\", \"2012\", \"2013\", \"2014\", \"2015\", \"2015\", \"2015\", \"2015\", \"2016\", \"2016\", \"2016\", \"2016\", \"2016\", \"2016\", \"2016\", \"2016\", \"2016\", \"2016\", \"2016\", \"2016\", \"2016\", \"2016\", \"2016\", \"2016\", \"2016\", \"2016\", \"2016_movie\", \"2017\", \"2020\", \"3\", \"3\", \"3\", \"3\", \"3\", \"3\", \"3\", \"3\", \"3\", \"3\", \"3\", \"3\", \"3\", \"3\", \"3\", \"3\", \"3\", \"3\", \"3\", \"30\", \"30\", \"3d\", \"4\", \"4\", \"4\", \"4\", \"40\", \"40\", \"40\", \"40\", \"40\", \"40\", \"4_g\", \"5\", \"5\", \"5\", \"5\", \"5\", \"5\", \"5\", \"5\", \"5\", \"5\", \"5\", \"5\", \"5\", \"5\", \"5\", \"5\", \"5\", \"5\", \"5\", \"5\", \"5\", \"5\", \"5\", \"5\", \"5\", \"50\", \"50\", \"50\", \"500\", \"500\", \"6\", \"6\", \"6\", \"6\", \"6\", \"6\", \"6\", \"6\", \"6\", \"6\", \"7\", \"7\", \"7\", \"7\", \"7\", \"7\", \"7\", \"8\", \"8\", \"8\", \"8\", \"8\", \"8\", \"8\", \"8\", \"8\", \"8\", \"8\", \"8\", \"8\", \"9\", \"9/11\", \"=\", \"^\", \"aap\", \"abolish\", \"abuse\", \"ac\", \"accent\", \"accept\", \"accept\", \"accept\", \"accept\", \"accept\", \"accept\", \"accept\", \"accept\", \"accept\", \"accept\", \"accept\", \"acces\", \"account\", \"account\", \"account\", \"account\", \"account\", \"account\", \"account\", \"account\", \"account\", \"account\", \"accuse\", \"achieve\", \"acid\", \"acquire\", \"act\", \"act\", \"action\", \"action\", \"action\", \"active\", \"activity\", \"actor\", \"actres\", \"actress\", \"ad\", \"ad\", \"ad\", \"ad\", \"ad\", \"add\", \"add\", \"add\", \"addres\", \"admission\", \"admission\", \"admission\", \"adopt\", \"adult\", \"adult\", \"adult\", \"advanced\", \"advanced\", \"advanced\", \"advantage\", \"advertising\", \"advice\", \"advice\", \"advice\", \"advice\", \"advice\", \"affect\", \"affect\", \"affordable\", \"afraid\", \"africa\", \"africa\", \"agency\", \"ahmedabad\", \"ai\", \"air\", \"air_force\", \"aircraft\", \"aircraft\", \"airline\", \"airplane\", \"airport\", \"airport\", \"airtel\", \"album\", \"alcohol\", \"alcohol\", \"algorithm\", \"algorithm\", \"algorithm\", \"alien\", \"alien\", \"alien\", \"alive\", \"all_time\", \"allah\", \"ally\", \"along_with\", \"alternative\", \"alternative\", \"alternative\", \"alternative\", \"alternative\", \"alternative\", \"alternative\", \"alternative\", \"alternative\", \"alternative\", \"alternative\", \"amazon\", \"amazon\", \"amazon\", \"america\", \"america\", \"america\", \"america\", \"america\", \"american\", \"american\", \"american\", \"american\", \"american\", \"americans\", \"americans\", \"an_iphone\", \"an_m\", \"an_mba\", \"analysi\", \"analysi\", \"ancient\", \"and/or\", \"and/or\", \"and/or\", \"and/or\", \"and/or\", \"and/or\", \"and/or\", \"and/or\", \"and/or\", \"and/or\", \"and/or\", \"and_1000_rupee\", \"and_alcohol_rehab\", \"and_alcohol_rehab\", \"android\", \"android\", \"android_app\", \"android_phone\", \"angry\", \"animal\", \"animal\", \"animal\", \"animal\", \"animal\", \"animal\", \"animal\", \"animal\", \"animal\", \"animal\", \"animal\", \"animal\", \"animal\", \"animal\", \"animal\", \"anime\", \"anime\", \"announce\", \"anonymous\", \"answer\", \"answer\", \"answer_on_quora\", \"answer_on_quora\", \"anti\", \"any_oth\", \"anymore\", \"anymore\", \"apart_from\", \"apart_from\", \"apart_from\", \"api\", \"api\", \"app\", \"app\", \"app\", \"app\", \"app\", \"app\", \"app\", \"app\", \"app\", \"app\", \"app\", \"app\", \"app\", \"app\", \"app\", \"app\", \"app\", \"app\", \"app\", \"appear\", \"apple\", \"apple\", \"apple\", \"apple\", \"apple\", \"apple\", \"apple\", \"apple\", \"application\", \"apply\", \"apply\", \"apply\", \"apply\", \"apply\", \"apply\", \"apply\", \"apply\", \"apply\", \"apply\", \"apply\", \"apply\", \"apply\", \"appreciate\", \"approach\", \"arabic\", \"architect\", \"architecture\", \"argument\", \"arm\", \"army\", \"arrest\", \"arrest\", \"art\", \"article\", \"artist\", \"arvind_kejriwal\", \"arvind_kejriwal\", \"as_need_improvement\", \"as_well_as\", \"asia\", \"asian\", \"asian\", \"asians\", \"ask\", \"ask\", \"ask\", \"ask\", \"ask\", \"ask\", \"ask\", \"ask_on_quora\", \"ask_question\", \"assassinate\", \"associate_with\", \"at_home\", \"at_least\", \"at_least\", \"at_least\", \"at_least\", \"at_least\", \"at_least\", \"at_night\", \"at_night\", \"atheist\", \"athlete\", \"atom\", \"attack\", \"attend\", \"attend\", \"attract\", \"attract\", \"attractive\", \"audio\", \"australia\", \"australia\", \"australia\", \"australian\", \"author\", \"auto\", \"average\", \"average\", \"average\", \"average\", \"average\", \"average\", \"average\", \"average_salary\", \"avoid\", \"award\", \"away\", \"away\", \"away\", \"awesome\", \"b\", \"b\", \"b\", \"b.tech\", \"b.tech\", \"b.tech\", \"baby\", \"baby\", \"baby\", \"baby\", \"baby\", \"baby\", \"baby\", \"baby\", \"baby\", \"background\", \"background\", \"background\", \"background\", \"bad\", \"bad\", \"bad\", \"bad\", \"bad\", \"bad\", \"bad\", \"bad\", \"bad\", \"bad\", \"bad\", \"bad\", \"bad\", \"bad_thing\", \"bag\", \"ban\", \"ban\", \"ban\", \"ban\", \"ban\", \"ban\", \"ban\", \"ban\", \"ban\", \"ban\", \"banana\", \"band\", \"bangalore\", \"bangalore\", \"bangalore\", \"bangalore\", \"bangladesh\", \"bank\", \"bank\", \"banking\", \"bar\", \"bar\", \"barack_obama\", \"base_on\", \"base_on\", \"base_on\", \"base_on\", \"base_on\", \"base_on\", \"base_on\", \"base_on\", \"base_on\", \"base_on\", \"base_on\", \"base_on\", \"base_on\", \"base_on\", \"base_on\", \"base_on\", \"base_on\", \"base_on\", \"basi\", \"basic\", \"batman\", \"battery\", \"battle\", \"battle\", \"battle\", \"battle\", \"beach\", \"bear\", \"bear\", \"bear\", \"bear\", \"bear\", \"bear\", \"bear\", \"bear\", \"bear\", \"bear\", \"bear\", \"bear\", \"bear\", \"bear\", \"bear\", \"bear\", \"bear\", \"bear\", \"bear\", \"bear\", \"bear\", \"bear\", \"beat\", \"beautiful\", \"beautiful\", \"beauty\", \"bed\", \"bed\", \"beer\", \"begin\", \"beginner\", \"believe\", \"belong\", \"benefit\", \"benefit\", \"benefit\", \"benefit\", \"benefit\", \"benefit\", \"benefit\", \"benefit\", \"benefit\", \"benefit\", \"benefit\", \"benefit\", \"benefit\", \"benefit\", \"benefit\", \"benefit\", \"benefit\", \"benefit\", \"benefit\", \"benefit\", \"benefit\", \"benefit\", \"benefit\", \"benefit\", \"benefit\", \"bernie_sanders\", \"best\", \"better\", \"better_than\", \"bible\", \"bicycle\", \"big\", \"big\", \"big_datum\", \"bihar\", \"bike\", \"bike\", \"bike\", \"bill\", \"billion\", \"billionaire\", \"biology\", \"bird\", \"birthday\", \"bitcoin\", \"bite\", \"bjp\", \"black\", \"black\", \"black\", \"black\", \"black\", \"black_hole\", \"black_hole\", \"black_money\", \"black_money\", \"black_money\", \"blame\", \"block\", \"blog\", \"blood\", \"blue\", \"blue\", \"blue\", \"blue\", \"board\", \"board\", \"board\", \"body\", \"body\", \"body\", \"body\", \"body\", \"body\", \"body\", \"body\", \"body\", \"body\", \"body\", \"body\", \"body\", \"body\", \"body\", \"body\", \"body\", \"body\", \"body\", \"body\", \"body\", \"body\", \"body\", \"body\", \"body\", \"body\", \"body\", \"body\", \"body\", \"body\", \"body\", \"bollywood\", \"bollywood_movie\", \"bomb\", \"bond\", \"book\", \"book\", \"book\", \"book\", \"book\", \"book\", \"book\", \"book\", \"book\", \"book\", \"book\", \"book\", \"book\", \"book\", \"book\", \"book\", \"book\", \"book\", \"book\", \"book\", \"book\", \"book\", \"book\", \"book\", \"book\", \"box\", \"boy\", \"boyfriend\", \"boyfriend\", \"br\", \"bra\", \"brain\", \"brain\", \"brain\", \"branch\", \"branch\", \"brand\", \"brazil\", \"break\", \"brexit\", \"brisbane\", \"britain\", \"british\", \"british\", \"brother\", \"brother\", \"brown\", \"brown\", \"budget\", \"budget\", \"bug\", \"build\", \"build\", \"build\", \"build\", \"build\", \"build\", \"build\", \"build\", \"build\", \"build\", \"build\", \"building\", \"bully\", \"burn\", \"busines\", \"busines\", \"busines\", \"busines\", \"busines\", \"busines\", \"busines\", \"busines\", \"busines_model\", \"business\", \"business\", \"button\", \"buy\", \"buy\", \"buy\", \"buy\", \"buy\", \"buy\", \"buy\", \"buy\", \"buy\", \"buy\", \"buy\", \"buy\", \"buy\", \"buy\", \"buy\", \"buy\", \"buy\", \"buy\", \"buy\", \"buy\", \"buy\", \"buy\", \"buy\", \"buy\", \"buy\", \"buy\", \"buy\", \"buy\", \"buy\", \"buy\", \"buy\", \"buy\", \"buy\", \"buy\", \"buy\", \"buy_under\", \"c\", \"c\", \"c\", \"c\", \"c\", \"c\", \"c\", \"c\", \"c\", \"c\", \"c\", \"c\", \"c\", \"c\", \"c\", \"c++\", \"cable\", \"cake\", \"calculate\", \"calculate\", \"calculate\", \"calculate\", \"calculate\", \"calculate\", \"calculate\", \"calculate\", \"calculate\", \"calculate\", \"calculate\", \"california\", \"california_ca\", \"california_ca\", \"california_ca\", \"california_ca\", \"california_ca\", \"california_ca\", \"california_ca\", \"california_ca\", \"california_ca\", \"california_ca\", \"california_ca\", \"california_ca\", \"california_ca\", \"california_ca\", \"california_ca\", \"california_ca\", \"california_ca\", \"california_ca\", \"california_ca\", \"california_ca\", \"california_ca\", \"camera\", \"campaign\", \"campu\", \"canada\", \"canada\", \"canada\", \"canadian\", \"cancel\", \"cancer\", \"candidate\", \"cap\", \"capacitor\", \"capital\", \"car\", \"car\", \"car\", \"car\", \"car\", \"car\", \"car\", \"car\", \"car\", \"car\", \"car\", \"car\", \"car\", \"car\", \"car\", \"car\", \"car\", \"car\", \"car\", \"car\", \"car\", \"car\", \"card\", \"care\", \"care\", \"care_about\", \"career\", \"career\", \"career\", \"career\", \"carry\", \"carry\", \"case\", \"case\", \"case\", \"case\", \"case\", \"case\", \"cash\", \"cash\", \"caste\", \"cat\", \"cat\", \"cat\", \"catch\", \"cause\", \"cause\", \"cause\", \"cause\", \"cbse\", \"celebrate\", \"celebrity\", \"cell\", \"cell_phone\", \"center\", \"center_near\", \"central\", \"centre\", \"century\", \"ceo\", \"certain\", \"certain\", \"certain\", \"certain\", \"certain\", \"certificate\", \"certification\", \"change\", \"change\", \"change\", \"change\", \"change\", \"change\", \"change\", \"change\", \"change\", \"change\", \"change\", \"change\", \"change\", \"change\", \"change\", \"change\", \"change\", \"change\", \"change\", \"change\", \"change\", \"change\", \"change\", \"change\", \"change\", \"change\", \"change\", \"change\", \"change\", \"change\", \"change\", \"change\", \"change\", \"change\", \"change\", \"change\", \"change\", \"change\", \"change\", \"change\", \"change\", \"change\", \"channel\", \"character\", \"character\", \"character\", \"character\", \"character\", \"character\", \"character\", \"characteristic\", \"charge\", \"charge\", \"charge\", \"charge\", \"charge\", \"chat\", \"cheap\", \"cheap\", \"cheap\", \"cheat\", \"cheat_on\", \"cheat_on\", \"check\", \"cheese\", \"chemical\", \"chemistry\", \"chennai\", \"chennai\", \"chest\", \"chhattisgarh\", \"chicago\", \"chicken\", \"child\", \"child\", \"child\", \"child\", \"child\", \"child\", \"child\", \"child\", \"china\", \"china\", \"china\", \"china\", \"china\", \"china\", \"china\", \"chinese\", \"chinese\", \"chinese\", \"chinese\", \"chocolate\", \"choice\", \"choice\", \"choose\", \"choose\", \"christian\", \"christian\", \"christianity\", \"christians\", \"christmas\", \"cigarette\", \"circuit\", \"circuit\", \"citizen\", \"citizen\", \"citizen\", \"city\", \"city\", \"city\", \"city\", \"city\", \"city\", \"civil_engineering\", \"civil_engineering\", \"civil_war\", \"claim\", \"claim\", \"claim\", \"claim\", \"claim\", \"claim\", \"claim\", \"claim\", \"claim\", \"claim\", \"claim\", \"claim\", \"claim\", \"claim\", \"clas\", \"class\", \"class\", \"class\", \"classic\", \"clean\", \"clear\", \"clearly\", \"client\", \"clinton\", \"clinton\", \"clinton\", \"close\", \"close\", \"close\", \"close\", \"close\", \"close\", \"close\", \"close\", \"close\", \"close\", \"close\", \"close\", \"clothe\", \"clothing\", \"cloud\", \"club\", \"co\", \"coach\", \"coaching\", \"cod\", \"code\", \"coffee\", \"coin\", \"cold\", \"collapse\", \"college\", \"college\", \"college\", \"college\", \"college\", \"college\", \"college\", \"college\", \"college\", \"college\", \"college\", \"college\", \"college\", \"college\", \"college\", \"college\", \"college\", \"college\", \"college\", \"college\", \"college\", \"college\", \"college\", \"college\", \"college\", \"college\", \"college\", \"college\", \"college\", \"college\", \"college\", \"college\", \"college\", \"college\", \"college\", \"college\", \"college\", \"college\", \"college\", \"college\", \"college\", \"color\", \"color\", \"colour\", \"come\", \"come\", \"come\", \"come\", \"come\", \"come\", \"come\", \"come\", \"come\", \"come\", \"come\", \"come\", \"come\", \"come\", \"come\", \"come\", \"come\", \"come\", \"come\", \"come\", \"come\", \"come\", \"come\", \"come\", \"come\", \"come\", \"come\", \"come\", \"come\", \"come\", \"come\", \"come\", \"come\", \"come_back\", \"come_from\", \"come_out\", \"comment\", \"comment\", \"comment\", \"comment_on\", \"commercial\", \"commit_suicide\", \"common\", \"common\", \"common\", \"communication\", \"communism\", \"community\", \"company\", \"company\", \"company\", \"company\", \"company\", \"company\", \"company\", \"company\", \"company\", \"company\", \"company\", \"company\", \"company\", \"company\", \"company\", \"company\", \"company\", \"company\", \"company\", \"company\", \"company\", \"company\", \"company\", \"company\", \"company\", \"company\", \"company\", \"company\", \"company\", \"company\", \"company\", \"company\", \"company\", \"company\", \"company\", \"company\", \"company\", \"company\", \"company\", \"company\", \"company\", \"company\", \"company\", \"company\", \"company\", \"compare\", \"compare\", \"compare\", \"compare\", \"compare\", \"compare\", \"compare\", \"compare\", \"compare\", \"compare\", \"compare\", \"compare\", \"compare\", \"compare\", \"compare\", \"compare\", \"compare\", \"compare\", \"compare\", \"compare\", \"compare\", \"competition\", \"competitor\", \"complete\", \"complete\", \"complete\", \"complete\", \"completely\", \"computer\", \"computer\", \"computer\", \"computer\", \"computer\", \"computer\", \"computer\", \"computer_engineering\", \"computer_science\", \"computer_science\", \"computer_science\", \"computer_science\", \"computer_science\", \"computer_science\", \"concept\", \"concrete\", \"condition\", \"condition\", \"conduct\", \"conference\", \"congress\", \"connect\", \"connect\", \"connect\", \"connect\", \"connect\", \"connect\", \"conquer\", \"consequence\", \"conservative\", \"consider\", \"consider\", \"consider\", \"consider\", \"consider\", \"consider\", \"consider\", \"consider\", \"consider\", \"consider\", \"consider\", \"consider\", \"consider\", \"consider\", \"consider\", \"consider\", \"consider\", \"consider\", \"consider\", \"consider\", \"consider\", \"consider\", \"consider\", \"consider\", \"consider\", \"consider\", \"consider\", \"consider\", \"consider\", \"consider\", \"consider\", \"consider\", \"consider\", \"consider\", \"consider\", \"consider\", \"consider\", \"consider\", \"consider\", \"consider\", \"consider\", \"consider\", \"consider\", \"consider\", \"consider\", \"constant\", \"constant\", \"constitution\", \"consultant\", \"consume\", \"consume\", \"consume\", \"contact\", \"contain\", \"contain\", \"contain\", \"contain\", \"content\", \"continue\", \"continue\", \"continue\", \"continue\", \"continue\", \"contract\", \"contribute\", \"control\", \"conversation\", \"convert\", \"cook\", \"cool\", \"copy\", \"core\", \"core\", \"correct\", \"correct\", \"count\", \"count\", \"count\", \"count\", \"country\", \"country\", \"country\", \"country\", \"country\", \"country\", \"country\", \"country\", \"country\", \"country\", \"country\", \"country\", \"country\", \"country\", \"country\", \"country\", \"country\", \"country\", \"country\", \"country\", \"country\", \"country\", \"country\", \"country\", \"county_ga\", \"couple\", \"couple\", \"course\", \"course\", \"course\", \"course\", \"course\", \"course\", \"course\", \"course\", \"course\", \"course\", \"course\", \"course\", \"course\", \"course\", \"course\", \"course\", \"course\", \"course\", \"course\", \"course\", \"course\", \"course\", \"course\", \"court\", \"cover\", \"crack\", \"crack\", \"crash\", \"crazy\", \"create\", \"create\", \"create\", \"create\", \"create\", \"create\", \"create\", \"create\", \"credit\", \"credit_card\", \"credit_card\", \"cricket\", \"crime\", \"criterion\", \"criticize\", \"cros\", \"crush\", \"crush\", \"cry\", \"cs\", \"cs\", \"cs\", \"cs\", \"cse\", \"cse\", \"cuisine\", \"cultural\", \"culture\", \"culture\", \"cure\", \"cure\", \"currency\", \"current\", \"current\", \"current\", \"currently\", \"currently\", \"currently\", \"currently\", \"currently\", \"currently\", \"currently\", \"currently\", \"currently\", \"curve\", \"custom\", \"customer\", \"cut\", \"cut_off\", \"cute\", \"d\", \"d\", \"dad\", \"daily\", \"damage\", \"damage\", \"damage\", \"damage\", \"damage\", \"dance\", \"dangerous\", \"dangerous\", \"dangerous\", \"dangerous\", \"dangerous\", \"dark\", \"darth_vader\", \"database\", \"database\", \"date\", \"date\", \"date\", \"date\", \"date\", \"date\", \"date\", \"date\", \"date\", \"datum\", \"datum\", \"datum_science\", \"datum_scientist\", \"daughter\", \"day\", \"day\", \"day\", \"day\", \"day\", \"day\", \"day\", \"dc\", \"dead\", \"dead\", \"deal\", \"deal_with\", \"deal_with\", \"death\", \"debate\", \"debit_card\", \"debt\", \"decade\", \"december\", \"decent\", \"decide\", \"decide\", \"decision\", \"declare\", \"decrease\", \"deep\", \"deep\", \"default\", \"defeat\", \"defeat\", \"define\", \"definition\", \"degree\", \"degree\", \"degree\", \"degree\", \"degree\", \"delete\", \"delete\", \"delhi\", \"delhi\", \"delhi_ncr\", \"deliver\", \"delivery\", \"dell\", \"demand\", \"democracy\", \"demonetization\", \"demonetization\", \"demonetization\", \"density\", \"department\", \"department\", \"depressed\", \"depression\", \"describe\", \"describe\", \"describe\", \"desert\", \"deserve\", \"design\", \"design\", \"design\", \"designer\", \"despite\", \"despite\", \"destroy\", \"detail\", \"determine\", \"determine\", \"determine\", \"develop\", \"develop\", \"develop\", \"develop\", \"develop_country\", \"developer\", \"development\", \"development\", \"development\", \"development\", \"development\", \"development\", \"device\", \"die\", \"diesel\", \"diet\", \"differ_from\", \"difference\", \"difference_between\", \"difference_between\", \"difference_between\", \"difference_between\", \"difference_between\", \"difference_between\", \"difference_between\", \"difference_between\", \"difference_between\", \"difference_between\", \"difference_between\", \"different\", \"different\", \"different\", \"different\", \"different\", \"different\", \"different\", \"different\", \"different\", \"different\", \"different\", \"different\", \"different\", \"different_from\", \"different_from\", \"different_from\", \"different_from\", \"different_from\", \"different_from\", \"different_from\", \"different_from\", \"different_from\", \"different_type_of\", \"differently\", \"difficult\", \"difficult\", \"digital\", \"digital_marketing\", \"direct\", \"direction\", \"direction\", \"director\", \"dirty\", \"disadvantage\", \"disappear\", \"discover\", \"disease\", \"disease\", \"dish\", \"dislike\", \"dislike\", \"display\", \"distance\", \"distance\", \"distance\", \"divide\", \"divorce\", \"dna\", \"doctor\", \"doctor\", \"doctor\", \"dog\", \"dollar\", \"domestic\", \"dominate\", \"donald_trump\", \"donald_trump\", \"donald_trump\", \"donald_trump\", \"door\", \"double\", \"download\", \"dr.\", \"draw\", \"draw\", \"draw\", \"dream\", \"dream\", \"dream_about\", \"dres\", \"dress\", \"drink\", \"drink\", \"drive\", \"drive\", \"drive\", \"drive\", \"driver\", \"driver\", \"driver\", \"driver\", \"drone\", \"drop\", \"drop\", \"drop\", \"drug\", \"drunk\", \"dry\", \"dry\", \"dubai\", \"dump\", \"dump\", \"during_sex\", \"e\", \"e\", \"each_oth\", \"each_oth\", \"each_oth\", \"each_oth\", \"each_oth\", \"ear\", \"early\", \"earn\", \"earn\", \"earn\", \"earn\", \"earn\", \"earn\", \"earn\", \"earn\", \"earn\", \"earn\", \"earth\", \"earth\", \"earth\", \"earth\", \"earth\", \"earth\", \"earth\", \"earth\", \"earth\", \"earth\", \"earth\", \"earth\", \"earth\", \"earth\", \"earth\", \"earth\", \"earth\", \"earth\", \"earth\", \"earth\", \"earth\", \"earth\", \"earth\", \"earth\", \"earth\", \"earth\", \"earth\", \"earth\", \"earth\", \"earth\", \"earth\", \"earth\", \"earth\", \"easily\", \"easily\", \"east\", \"easy\", \"easy\", \"easy\", \"easy\", \"easy\", \"easy\", \"easy\", \"easy\", \"easy\", \"easy_way\", \"eat\", \"eat\", \"eat\", \"eat\", \"eat\", \"eat\", \"eat\", \"eat\", \"eat\", \"eat\", \"eat\", \"eat\", \"ebay\", \"ece\", \"economic\", \"economic\", \"economy\", \"edit\", \"educate\", \"education\", \"education\", \"education\", \"education\", \"education\", \"education\", \"education_system\", \"effect\", \"effect\", \"effect\", \"effect\", \"effect\", \"effect\", \"effect\", \"effect\", \"effect\", \"effect\", \"effect\", \"effective\", \"effective\", \"effective\", \"effective\", \"effective\", \"effective\", \"effective\", \"effective\", \"effective\", \"effective\", \"effective\", \"effective\", \"effective\", \"effective\", \"effective\", \"effective\", \"egg\", \"elect\", \"election\", \"election\", \"election\", \"election\", \"election\", \"election\", \"electrical\", \"electrical_engineering\", \"electricity\", \"electron\", \"electronic\", \"electronic\", \"electronic\", \"element\", \"elon_musk\", \"email\", \"email\", \"email\", \"email\", \"employee\", \"employee\", \"employee\", \"end\", \"end\", \"end\", \"end\", \"end\", \"end\", \"end\", \"end\", \"end\", \"end\", \"end\", \"end\", \"end\", \"end\", \"end\", \"end\", \"end\", \"end\", \"end\", \"end\", \"end\", \"end\", \"end\", \"end\", \"end\", \"end\", \"end\", \"end\", \"end\", \"end\", \"end\", \"end\", \"end_up\", \"enemy\", \"energy\", \"energy\", \"engine\", \"engine\", \"engineer\", \"engineer\", \"engineer\", \"engineer\", \"engineering\", \"engineering\", \"engineering\", \"engineering\", \"engineering\", \"engineering\", \"england\", \"england\", \"english\", \"english\", \"enjoy\", \"enjoy\", \"enjoy\", \"enter\", \"entire\", \"entrepreneur\", \"environment\", \"episode\", \"episode\", \"equal\", \"equal\", \"equal\", \"equal\", \"equal\", \"equal\", \"equal\", \"equal\", \"equal\", \"equal\", \"equal\", \"equal\", \"equal\", \"equal\", \"equal\", \"equal\", \"equal\", \"equal\", \"equity\", \"equivalent\", \"equivalent\", \"error\", \"error\", \"especially\", \"especially\", \"especially\", \"eu\", \"europe\", \"europe\", \"european\", \"europeans\", \"even_after\", \"even_after\", \"even_after\", \"even_though\", \"even_though\", \"evening\", \"event\", \"eventually\", \"every_day\", \"every_day\", \"everyday\", \"evidence\", \"evil\", \"evolution\", \"ex\", \"ex\", \"ex\", \"ex_girlfriend\", \"exactly\", \"exam\", \"exam\", \"exam\", \"exam\", \"exam\", \"exam\", \"exam\", \"exam\", \"exam\", \"exam\", \"exam\", \"exam\", \"exam\", \"exam\", \"exam\", \"exam\", \"exam\", \"exam\", \"exam\", \"exam\", \"examination\", \"example\", \"example\", \"example\", \"example\", \"example\", \"example\", \"example\", \"example\", \"example\", \"example\", \"example\", \"example\", \"example\", \"example\", \"executive\", \"exercise\", \"exercise\", \"exist\", \"exist\", \"exist\", \"exist\", \"exist\", \"existence\", \"expect\", \"expect\", \"expect\", \"expect\", \"expect\", \"expect\", \"expect\", \"expect\", \"expect\", \"expect\", \"expensive\", \"experience\", \"experience\", \"experience\", \"experience\", \"experience\", \"experience\", \"experience\", \"experience\", \"experience\", \"experience\", \"experience\", \"experience\", \"experience\", \"experience\", \"experience\", \"experience\", \"experience\", \"experience\", \"experience\", \"experience\", \"experience\", \"experience\", \"experience\", \"experience\", \"experience\", \"experience\", \"experience\", \"experience\", \"experience\", \"experience\", \"experience\", \"experience\", \"experience\", \"experience\", \"experience\", \"experience\", \"experience\", \"experience\", \"experience\", \"experience\", \"experience\", \"experience\", \"experience\", \"experience\", \"explain\", \"explain\", \"explain\", \"explain\", \"explain\", \"explain\", \"eye\", \"face\", \"face\", \"face\", \"facebook\", \"facebook\", \"facebook\", \"facebook\", \"fact\", \"fact_about\", \"factor\", \"factor\", \"factor\", \"fail\", \"failure\", \"fair\", \"fair\", \"fake\", \"fake\", \"fall\", \"fall_asleep\", \"family\", \"family\", \"family\", \"family\", \"family\", \"family\", \"family\", \"family\", \"family\", \"family\", \"family\", \"family\", \"family\", \"family\", \"family\", \"family\", \"family\", \"family\", \"famous\", \"fan\", \"fan\", \"fan\", \"fashion\", \"fast\", \"fast_way\", \"faster\", \"faster\", \"faster\", \"faster_than\", \"fat\", \"father\", \"favorite\", \"favourite\", \"fear\", \"feature\", \"feature\", \"feature\", \"feature\", \"feature\", \"fee\", \"feed\", \"feed\", \"feel\", \"feel\", \"feel\", \"feel\", \"feel\", \"feel\", \"feel\", \"feel_like\", \"feeling\", \"female\", \"festival\", \"fever\", \"field\", \"field\", \"field\", \"fight\", \"fight\", \"fight_between\", \"file\", \"file\", \"fill\", \"film\", \"filter\", \"final\", \"finance\", \"financial\", \"find\", \"find\", \"find\", \"find\", \"find\", \"find\", \"find\", \"find\", \"find\", \"find\", \"find\", \"find\", \"find\", \"find\", \"find\", \"find\", \"find\", \"find\", \"find\", \"find\", \"find\", \"find\", \"find\", \"find\", \"find\", \"find_out\", \"find_out\", \"fine\", \"finger\", \"fire\", \"firm\", \"first_day_at\", \"first_day_at\", \"first_time\", \"first_time\", \"fish\", \"fit\", \"fix\", \"flag\", \"flash\", \"flash\", \"flat\", \"flight\", \"float\", \"flow\", \"fly\", \"focu\", \"focu_on\", \"follow\", \"follow\", \"follow\", \"follow\", \"follow\", \"follow\", \"follow\", \"follow\", \"follow\", \"follow\", \"follow\", \"follow\", \"follow\", \"follow\", \"follow\", \"follow\", \"follow\", \"follow\", \"follow\", \"follower\", \"font\", \"food\", \"foot\", \"football\", \"force\", \"force\", \"force\", \"force\", \"force\", \"force\", \"force\", \"force\", \"force\", \"force\", \"force\", \"force\", \"force\", \"force\", \"force\", \"force\", \"force\", \"force\", \"force\", \"force\", \"force\", \"force\", \"force\", \"force\", \"force\", \"force\", \"force\", \"force\", \"force\", \"foreign\", \"foreign\", \"foreigner\", \"foreigner\", \"forget\", \"form\", \"form\", \"form\", \"form\", \"form\", \"form\", \"form\", \"form\", \"format\", \"formula\", \"founder\", \"frame\", \"framework\", \"france\", \"france\", \"free\", \"free\", \"free\", \"free\", \"free\", \"freedom\", \"freeze\", \"french\", \"french\", \"frequency\", \"frequency\", \"frequency\", \"frequently\", \"fresh\", \"fresh\", \"fresh\", \"fresher\", \"friend\", \"friend\", \"friend\", \"friend\", \"friendship\", \"fruit\", \"fuel\", \"full_form\", \"fully\", \"fun\", \"function\", \"function\", \"fund\", \"fund\", \"funny\", \"future\", \"future\", \"g\", \"g\", \"g\", \"ga\", \"gain\", \"gain\", \"gain\", \"game\", \"gaming\", \"gaming\", \"gate\", \"gay\", \"gb\", \"gender\", \"general\", \"generally\", \"generally\", \"generally\", \"generally\", \"generally\", \"generally\", \"generally\", \"generally\", \"generally\", \"generally\", \"generally\", \"generate\", \"geniu\", \"german\", \"germany\", \"germany\", \"germany\", \"get_angry\", \"get_into\", \"get_into\", \"get_into\", \"get_into\", \"get_rid_of\", \"gift\", \"gift\", \"girl\", \"girl\", \"girl\", \"girl\", \"girl\", \"girl\", \"girl\", \"girl\", \"girlfriend\", \"glas\", \"glass\", \"global\", \"global\", \"gmail\", \"gmat\", \"go_back\", \"go_into\", \"goa\", \"goal\", \"goal\", \"god\", \"god\", \"god\", \"god\", \"gold\", \"good\", \"good\", \"good\", \"good\", \"good\", \"good\", \"good\", \"good\", \"good\", \"good\", \"good\", \"good\", \"good\", \"good\", \"good\", \"good\", \"good\", \"good\", \"good\", \"good\", \"good\", \"good\", \"good\", \"good\", \"good\", \"good\", \"good\", \"good\", \"good\", \"good\", \"good\", \"good\", \"good\", \"good\", \"good\", \"good\", \"good\", \"good\", \"good\", \"good\", \"good\", \"good\", \"good\", \"good\", \"good\", \"good\", \"good\", \"good\", \"good\", \"good\", \"good_coaching_institute\", \"good_inpatient_drug\", \"good_inpatient_drug\", \"good_inpatient_drug\", \"good_inpatient_drug\", \"good_inpatient_drug\", \"good_inpatient_drug\", \"good_inpatient_drug\", \"good_inpatient_drug\", \"good_inpatient_drug\", \"good_laptop_under\", \"good_solar_panel\", \"google\", \"google\", \"google_chrome\", \"government\", \"government\", \"government\", \"government\", \"government\", \"government\", \"government\", \"government\", \"government\", \"government\", \"government\", \"government\", \"government\", \"government\", \"government\", \"government\", \"government\", \"government\", \"government\", \"government\", \"government\", \"grade\", \"grade\", \"graduate\", \"graduate\", \"graduate\", \"graduate\", \"graduate\", \"graduate\", \"graphic_card\", \"gravity\", \"gre\", \"gre\", \"great\", \"greece\", \"green\", \"grey\", \"ground\", \"group\", \"grow\", \"grow_up\", \"growth\", \"gst\", \"guide\", \"guitar\", \"gujarat\", \"gun\", \"gun\", \"gurgaon\", \"guy\", \"guy\", \"guy\", \"guy\", \"gym\", \"habit\", \"hack\", \"hacker\", \"hair\", \"hair\", \"half\", \"half\", \"half\", \"hand\", \"handle\", \"happen\", \"happen\", \"happen\", \"happen\", \"happen\", \"happen_if\", \"happy\", \"hard\", \"hard\", \"hard\", \"hard\", \"hard\", \"hard\", \"hard\", \"hard\", \"harry_potter\", \"harry_potter\", \"harry_potter\", \"hat\", \"hate\", \"hate\", \"have_ever_hear\", \"have_ever_see\", \"have_sex\", \"have_sex\", \"have_sex\", \"have_sex\", \"have_sex\", \"haven't\", \"haven't\", \"haven't\", \"head\", \"head\", \"head\", \"headache\", \"headphone\", \"health\", \"health\", \"health\", \"health\", \"health\", \"health\", \"health\", \"health\", \"health\", \"health\", \"health\", \"health\", \"health\", \"health\", \"health\", \"health\", \"health\", \"health\", \"healthy\", \"hear\", \"hear\", \"hear\", \"hear\", \"hear\", \"hear\", \"hear\", \"heart\", \"heat\", \"heavy\", \"height\", \"hell\", \"hell\", \"help\", \"help\", \"help\", \"help\", \"help\", \"help\", \"help\", \"help\", \"help\", \"help\", \"help\", \"help\", \"help\", \"help\", \"help\", \"help\", \"help\", \"help\", \"help\", \"help\", \"help\", \"help\", \"help\", \"help\", \"help\", \"help\", \"help\", \"help\", \"help\", \"help\", \"help\", \"help\", \"help\", \"help\", \"help\", \"help\", \"help\", \"help\", \"hero\", \"hide\", \"hide\", \"high\", \"high\", \"high\", \"high\", \"high\", \"high\", \"high\", \"high\", \"high\", \"high\", \"high\", \"high\", \"high\", \"high\", \"high\", \"high\", \"high\", \"high\", \"high\", \"high\", \"high\", \"high\", \"high\", \"high\", \"high\", \"high\", \"high\", \"high\", \"high\", \"high\", \"high\", \"high\", \"high\", \"high\", \"high\", \"high_quality\", \"high_school\", \"high_school\", \"highly\", \"hillary\", \"hillary_clinton\", \"hillary_clinton\", \"hillary_clinton\", \"hindi\", \"hindi\", \"hindu\", \"hinduism\", \"hindus\", \"hire\", \"hire\", \"hire\", \"history\", \"hit\", \"hitler\", \"hitler\", \"hold\", \"hold\", \"hold\", \"hold\", \"hold\", \"hole\", \"holiday\", \"hollywood\", \"hollywood_movie\", \"home\", \"home\", \"home\", \"home\", \"home\", \"home\", \"home\", \"home\", \"hong_kong\", \"hope\", \"hospital\", \"host\", \"host\", \"hostel\", \"hot\", \"hot\", \"hotel\", \"hotel\", \"hour\", \"hour\", \"house\", \"house\", \"house\", \"house\", \"house\", \"house\", \"house\", \"house\", \"hr\", \"hr\", \"html\", \"huge\", \"human\", \"human\", \"human\", \"human_being\", \"humanity\", \"hurt\", \"husband\", \"hyderabad\", \"hydrogen\", \"ias\", \"ias\", \"ibm\", \"ice\", \"ice\", \"idea\", \"ideal\", \"if_yes\", \"ignore\", \"iim\", \"iit\", \"iit\", \"iit_jee\", \"illegal\", \"illegal\", \"illegal\", \"illegal\", \"image\", \"image\", \"image\", \"image\", \"image\", \"image\", \"image\", \"image\", \"image\", \"image\", \"image\", \"impact\", \"impact\", \"impact\", \"impact\", \"implement\", \"implement\", \"import\", \"importance\", \"important\", \"impossible\", \"improve\", \"improve\", \"improve\", \"improve\", \"include\", \"include\", \"income\", \"income\", \"increase\", \"increase\", \"increase\", \"increase\", \"increase\", \"independence\", \"independent\", \"india\", \"india\", \"india\", \"india\", \"india\", \"india\", \"india\", \"india\", \"india\", \"india\", \"india\", \"india\", \"india\", \"india\", \"india\", \"india\", \"india\", \"india\", \"india\", \"india\", \"india\", \"india\", \"india\", \"india\", \"india\", \"india\", \"india\", \"india\", \"india\", \"india\", \"india\", \"india\", \"india\", \"india\", \"india\", \"india\", \"india\", \"india\", \"india\", \"india\", \"india\", \"india\", \"india\", \"india\", \"india\", \"india\", \"indian\", \"indian\", \"indian\", \"indian\", \"indian\", \"indian\", \"indian\", \"indian\", \"indian\", \"indian\", \"indian\", \"indian\", \"indian\", \"indian\", \"indian\", \"indian\", \"indian\", \"indian\", \"indian\", \"indian\", \"indian\", \"indian\", \"indian\", \"indian\", \"indian\", \"indian\", \"indian\", \"indian\", \"indian\", \"indian\", \"indian\", \"indian\", \"indian\", \"indian_army\", \"indian_government\", \"indians\", \"indians\", \"indians\", \"indians\", \"individual\", \"individual\", \"individual\", \"individual\", \"individual\", \"individual\", \"individual\", \"individual\", \"indonesia\", \"industry\", \"infinity\", \"inflation\", \"influence\", \"information\", \"information_about\", \"infosys\", \"inr\", \"inside\", \"inside\", \"inside\", \"inside\", \"inside\", \"inside\", \"inside\", \"inspire\", \"instagram\", \"install\", \"install\", \"instead\", \"instead\", \"instead\", \"instead\", \"instead\", \"instead\", \"instead\", \"instead\", \"instead\", \"instead\", \"instead\", \"instead\", \"instead\", \"instead\", \"instead\", \"institute\", \"institute\", \"institute\", \"institute\", \"institute\", \"institute\", \"instrument\", \"insurance\", \"intelligence\", \"intelligence\", \"intelligence\", \"intelligent\", \"interest\", \"interest\", \"interest_rate\", \"interested\", \"interested\", \"interested\", \"interested\", \"interested\", \"interested\", \"interested\", \"interested\", \"interested\", \"interested\", \"interested\", \"interested\", \"interested\", \"interesting\", \"interesting\", \"interesting\", \"international\", \"international\", \"internet\", \"internship\", \"internship\", \"internship\", \"interview\", \"interview\", \"interview\", \"introduce\", \"introduce\", \"invade\", \"invent\", \"invention\", \"invest\", \"invest\", \"investment\", \"investment\", \"investment\", \"investment\", \"investment\", \"investor\", \"investor\", \"invite\", \"invite\", \"involve\", \"io\", \"ios\", \"ipad\", \"iphone\", \"iphone\", \"iphone_6\", \"iphone_7\", \"iq\", \"iran\", \"iron\", \"iron\", \"isi\", \"isis\", \"islam\", \"islam\", \"islam\", \"islam\", \"islam\", \"islam\", \"islam\", \"islam\", \"islam\", \"islam\", \"islam\", \"islam\", \"islam\", \"islamic\", \"island\", \"israel\", \"issue\", \"issue\", \"issue\", \"issue\", \"issue\", \"issue\", \"issue\", \"issue\", \"issue\", \"issue\", \"issue\", \"issue\", \"it_company\", \"italian\", \"italy\", \"itch\", \"item\", \"item\", \"jaipur\", \"january\", \"japan\", \"japanese\", \"java\", \"java\", \"java\", \"java\", \"java\", \"javascript\", \"javascript\", \"jealous\", \"jee\", \"jesus\", \"jesus\", \"jesus\", \"jewish\", \"jews\", \"jews\", \"jews\", \"job\", \"job\", \"job\", \"job\", \"job\", \"job\", \"job\", \"job\", \"job\", \"job\", \"job\", \"job\", \"job\", \"job\", \"job\", \"job\", \"job\", \"john\", \"join\", \"joke\", \"judge\", \"jump\", \"justice\", \"k\", \"k\", \"karnataka\", \"kashmir\", \"kerala\", \"key\", \"keyboard\", \"keyboard\", \"kid\", \"kid\", \"kill\", \"kill\", \"kill\", \"kill\", \"kill\", \"kill\", \"kill\", \"kill\", \"kill\", \"kill\", \"kill\", \"kill\", \"kind_of\", \"kind_of\", \"kind_of\", \"kind_of\", \"king\", \"know\", \"know\", \"know\", \"know\", \"know\", \"know\", \"know\", \"know\", \"know\", \"know\", \"know\", \"know\", \"know\", \"know\", \"know\", \"know\", \"know\", \"know\", \"know\", \"know\", \"know\", \"know\", \"know\", \"know\", \"know\", \"know\", \"know\", \"know\", \"know\", \"know\", \"know\", \"know\", \"know\", \"know\", \"know\", \"know\", \"know\", \"know\", \"know\", \"know\", \"know\", \"know\", \"know\", \"know\", \"know\", \"know\", \"know\", \"know_about\", \"knowledge\", \"kolkata\", \"korean\", \"la\", \"lack\", \"lack\", \"lack\", \"lack\", \"lack\", \"lack\", \"lady\", \"lake\", \"land\", \"land\", \"land\", \"language\", \"language\", \"language\", \"language\", \"language\", \"language\", \"language\", \"language\", \"language\", \"language\", \"language\", \"language\", \"language\", \"language\", \"language\", \"language\", \"language\", \"language\", \"language\", \"language\", \"language\", \"language\", \"laptop\", \"laptop\", \"laptop\", \"laptop\", \"laptop\", \"large\", \"large\", \"large\", \"large\", \"large\", \"last_name\", \"late\", \"late\", \"late\", \"latin\", \"laugh\", \"launch\", \"launch\", \"law\", \"law\", \"law\", \"lawyer\", \"lawyer\", \"lead\", \"lead\", \"lead\", \"lead\", \"leader\", \"learn\", \"learn\", \"learn\", \"learn\", \"learn\", \"learn\", \"learn\", \"learn\", \"learn\", \"learn\", \"learn\", \"learn\", \"learn\", \"learn\", \"learn\", \"learn\", \"learn\", \"learn\", \"learn_english\", \"learn_java\", \"learn_python\", \"learning\", \"leave\", \"leave\", \"leave\", \"leave\", \"leave\", \"leave\", \"leave\", \"leave\", \"leave\", \"leave\", \"leave\", \"leave\", \"leave\", \"leave\", \"leave\", \"leave\", \"leave\", \"leave\", \"leave\", \"leave\", \"leave\", \"leave\", \"leave\", \"leave\", \"leave\", \"leave\", \"leave\", \"leave\", \"leave\", \"leave\", \"leave\", \"left\", \"leg\", \"legal\", \"legal\", \"len\", \"len\", \"less_than\", \"less_than\", \"less_than\", \"less_than\", \"less_than\", \"lesson\", \"let\", \"let\", \"let\", \"let\", \"let\", \"let\", \"let\", \"let\", \"let\", \"let\", \"letter\", \"level\", \"level\", \"level\", \"level\", \"level\", \"level\", \"liberal\", \"library\", \"license\", \"lick\", \"lie\", \"life\", \"life\", \"life\", \"life\", \"life\", \"life\", \"life\", \"life\", \"life\", \"life\", \"life\", \"life\", \"life\", \"life\", \"life\", \"life\", \"life\", \"life\", \"life\", \"life\", \"life\", \"life\", \"life\", \"life\", \"life\", \"life\", \"life\", \"life\", \"life\", \"life\", \"life\", \"life\", \"life\", \"life\", \"life\", \"life\", \"life\", \"life\", \"life\", \"lift\", \"light\", \"light\", \"light\", \"light\", \"light\", \"light\", \"light\", \"light\", \"like\", \"like\", \"like\", \"like\", \"like\", \"like\", \"like\", \"like\", \"like\", \"like\", \"like\", \"like\", \"like\", \"like\", \"like\", \"like\", \"like\", \"like\", \"like\", \"like\", \"like\", \"like\", \"like\", \"like\", \"like\", \"like\", \"like\", \"like\", \"like\", \"like\", \"like\", \"like\", \"like\", \"like\", \"like\", \"like\", \"like\", \"like\", \"like\", \"like\", \"like\", \"like\", \"like\", \"like\", \"like\", \"like\", \"like\", \"like\", \"like\", \"like\", \"likely\", \"likely\", \"likely\", \"likely\", \"likely\", \"likely\", \"likely\", \"likely\", \"likely\", \"likely\", \"likely\", \"limit\", \"limited\", \"line\", \"link\", \"linkedin\", \"linux\", \"lip\", \"liquid\", \"list\", \"list\", \"listen\", \"literature\", \"little\", \"live\", \"live\", \"live\", \"live\", \"live\", \"live\", \"live\", \"live\", \"live\", \"live\", \"live\", \"live\", \"live\", \"live\", \"live\", \"live\", \"live\", \"live\", \"living\", \"load\", \"loan\", \"local\", \"local\", \"local\", \"local\", \"local\", \"local\", \"local\", \"local\", \"local\", \"local\", \"locate\", \"location\", \"location\", \"lock\", \"log\", \"logo\", \"london\", \"long_term\", \"long_term\", \"long_term\", \"look\", \"look\", \"look\", \"look\", \"look\", \"look\", \"look\", \"look\", \"look\", \"look\", \"look\", \"look\", \"look\", \"look\", \"look\", \"look\", \"look\", \"look\", \"look\", \"look\", \"look\", \"look\", \"look\", \"look\", \"look\", \"look\", \"look\", \"look\", \"look\", \"look\", \"look\", \"look\", \"look\", \"look\", \"look\", \"look\", \"look\", \"look_at\", \"look_at\", \"look_like\", \"lord\", \"lord\", \"los\", \"los_angeles\", \"lose\", \"lose\", \"lose\", \"lose\", \"lose_weight\", \"lose_weight\", \"lot\", \"lot\", \"lot\", \"lot\", \"lot\", \"lot\", \"lot\", \"lot\", \"lot\", \"lot\", \"lot\", \"lot\", \"lot\", \"lot\", \"lot\", \"lot\", \"lot\", \"love\", \"love\", \"love\", \"love\", \"low\", \"lyric\", \"m\", \"m\", \"mac\", \"macbook\", \"macbook_pro\", \"machine\", \"machine_learning\", \"magazine\", \"magnetic_field\", \"maharashtra\", \"mail\", \"mail\", \"main\", \"main\", \"main\", \"main\", \"major\", \"majority\", \"make_money\", \"malaysia\", \"male\", \"man\", \"man\", \"man\", \"man\", \"man\", \"man\", \"man\", \"man\", \"man\", \"man\", \"man\", \"man\", \"manage\", \"manage\", \"manage\", \"management\", \"manager\", \"manaphy\", \"manchester_united\", \"manufacture\", \"manufacturer\", \"map\", \"marijuana\", \"marijuana\", \"mark\", \"mark\", \"mark\", \"mark\", \"market\", \"market\", \"market\", \"market\", \"marketing\", \"marriage\", \"marriage\", \"marry\", \"marry\", \"marry\", \"marry\", \"mars\", \"martial_art\", \"marvel\", \"mas\", \"mas\", \"mas\", \"mas\", \"mas\", \"mas\", \"mas\", \"master\", \"master_'s\", \"masturbate\", \"masturbate\", \"match\", \"match\", \"match\", \"match\", \"material\", \"math\", \"math\", \"math\", \"math\", \"mathematic\", \"matter\", \"matter\", \"matter\", \"matter\", \"matter\", \"maximum\", \"mba\", \"mba\", \"mbbs\", \"meal\", \"mean\", \"mean\", \"mean\", \"mean\", \"mean\", \"mean\", \"mean\", \"mean\", \"mean\", \"mean\", \"mean\", \"mean\", \"mean\", \"mean\", \"mean\", \"mean\", \"mean\", \"mean\", \"mean\", \"mean\", \"mean\", \"mean\", \"mean\", \"mean\", \"mean\", \"mean\", \"mean\", \"mean\", \"mean\", \"mean\", \"mean\", \"mean\", \"mean\", \"mean\", \"mean\", \"mean\", \"mean\", \"mean\", \"mean\", \"mean\", \"mean\", \"mean\", \"mean_by\", \"meaning\", \"meaning\", \"measure\", \"meat\", \"mechanical\", \"mechanical\", \"mechanical_engineer\", \"mechanical_engineer\", \"mechanical_engineering\", \"medal\", \"medical\", \"medical\", \"medical\", \"medical\", \"medicine\", \"medicine\", \"medicine\", \"medium\", \"meet\", \"melbourne\", \"member\", \"member\", \"member\", \"member\", \"member\", \"member\", \"member\", \"member\", \"member\", \"memory\", \"mention\", \"mention\", \"mention\", \"merge\", \"message\", \"message\", \"message\", \"message\", \"message\", \"metal\", \"method\", \"method\", \"mexico\", \"microsoft\", \"microsoft\", \"microsoft\", \"middle\", \"middle\", \"military\", \"military\", \"military\", \"milk\", \"million\", \"mind\", \"minimum\", \"mirror\", \"mis\", \"mis\", \"mis\", \"mis\", \"miss\", \"miss\", \"mistake\", \"mix\", \"mobile\", \"mobile\", \"mobile\", \"mobile_app\", \"mobile_phone\", \"mode\", \"model\", \"model\", \"model\", \"model\", \"modern\", \"modi\", \"mom\", \"moment\", \"money\", \"money\", \"money\", \"money\", \"money\", \"monitor\", \"month\", \"moon\", \"more_important\", \"more_popular\", \"more_than\", \"more_than\", \"more_than\", \"more_than\", \"morning\", \"morning\", \"morning\", \"mosquito\", \"most_beautiful\", \"most_difficult\", \"most_famous\", \"most_important\", \"most_important_thing\", \"most_interesting\", \"most_likely\", \"most_popular\", \"most_powerful\", \"mother\", \"motion\", \"motivate\", \"motivation\", \"motor\", \"movement\", \"movement\", \"movement\", \"movie\", \"movie\", \"movie\", \"movie\", \"movie\", \"movie\", \"movie\", \"movie\", \"movie\", \"movie\", \"movie\", \"movie\", \"movie\", \"movie\", \"movie\", \"movie\", \"movie\", \"ms\", \"ms\", \"multiple\", \"mumbai\", \"mumbai\", \"murder\", \"murder\", \"muscle\", \"music\", \"music\", \"music\", \"muslim\", \"muslim\", \"muslim\", \"muslim\", \"muslim\", \"muslim\", \"muslims\", \"muslims\", \"muslims\", \"mutual_fund\", \"n\", \"n\", \"n't\", \"narendra_modi\", \"naruto\", \"nasa\", \"nasa\", \"nation\", \"nation\", \"national\", \"nato\", \"natural\", \"natural\", \"nature\", \"nba\", \"ne\", \"ne\", \"ne\", \"ne\", \"ne\", \"ne\", \"ne\", \"ne\", \"ne\", \"ne\", \"ne\", \"ne\", \"ne\", \"ne\", \"ne\", \"ne\", \"ne\", \"ne\", \"ne\", \"ne\", \"ne\", \"ne\", \"ne\", \"ne\", \"ne\", \"ne\", \"ne\", \"ne\", \"ne\", \"ne\", \"ne\", \"ne\", \"ne\", \"ne\", \"ne\", \"ne\", \"ne\", \"ne\", \"necessary\", \"neet\", \"negative\", \"nepal\", \"net\", \"netflix\", \"network\", \"network\", \"network\", \"network\", \"networking\", \"new_york\", \"new_york_city\", \"new_zealand\", \"newspaper\", \"nice\", \"nice\", \"night\", \"noida\", \"normal\", \"normal\", \"normal\", \"normal\", \"normal\", \"normal\", \"normal\", \"normal\", \"normal\", \"normal\", \"normal\", \"normal\", \"normal\", \"normal\", \"normal\", \"normal\", \"normal\", \"normal\", \"normal\", \"normal\", \"normal\", \"normal\", \"normal\", \"north\", \"north\", \"north_korea\", \"norway\", \"nose\", \"nose\", \"note\", \"note\", \"notice\", \"notification\", \"novel\", \"november\", \"nowadays\", \"nuclear\", \"nucleu\", \"number\", \"number\", \"number\", \"number\", \"number\", \"number\", \"number\", \"number\", \"number\", \"number\", \"number\", \"number\", \"number\", \"number\", \"number\", \"number\", \"number\", \"number\", \"number\", \"number\", \"number\", \"nyc\", \"o\", \"obama\", \"obama\", \"object\", \"object\", \"object\", \"obsess_with\", \"occur\", \"occur\", \"ocean\", \"of_thrones\", \"offer\", \"offer\", \"offer\", \"offer\", \"offer\", \"offer\", \"offer\", \"offer\", \"offer\", \"offer\", \"offer\", \"offer\", \"offer\", \"offer\", \"offer\", \"offer\", \"offer\", \"offer\", \"offer\", \"offer\", \"offer\", \"offer\", \"offer\", \"offer\", \"offer\", \"offer\", \"offer\", \"offer\", \"offer\", \"offer\", \"offer\", \"offer\", \"office\", \"officer\", \"officer\", \"officer\", \"official\", \"oil\", \"ok\", \"okay\", \"old\", \"old\", \"old\", \"old\", \"old\", \"old\", \"old\", \"old\", \"old\", \"old\", \"old\", \"old\", \"old\", \"old\", \"old\", \"old\", \"old\", \"old\", \"old\", \"old\", \"old\", \"old\", \"old\", \"old\", \"old\", \"old\", \"old\", \"old\", \"old\", \"old\", \"old\", \"old\", \"old\", \"old\", \"old\", \"old\", \"old\", \"old\", \"old\", \"olympic\", \"olympics\", \"olympics\", \"olympics\", \"on_instagram\", \"on_quora\", \"on_quora\", \"on_quora\", \"on_quora\", \"on_quora\", \"on_quora\", \"on_quora\", \"on_youtube\", \"online\", \"online\", \"online\", \"online\", \"online\", \"online\", \"online\", \"online\", \"open\", \"open\", \"open\", \"open\", \"open\", \"open\", \"open\", \"operate\", \"operation\", \"opinion\", \"opinion_about\", \"opinion_on\", \"oppose\", \"option\", \"option\", \"option\", \"option\", \"option\", \"option\", \"option\", \"option\", \"option\", \"option\", \"option\", \"option\", \"option\", \"option\", \"option\", \"option\", \"option\", \"option\", \"option\", \"option\", \"option\", \"option\", \"option\", \"option\", \"option\", \"oracle\", \"orange\", \"order\", \"order\", \"order\", \"order\", \"order\", \"organic\", \"organization\", \"origin\", \"original\", \"original\", \"original\", \"original\", \"original\", \"original\", \"original\", \"original\", \"original\", \"original\", \"original\", \"original\", \"originate\", \"oth_company\", \"oth_country\", \"output\", \"output\", \"outside\", \"outside\", \"outside\", \"outside\", \"outside\", \"outside\", \"outside\", \"overall\", \"overcome\", \"overcome\", \"oxygen\", \"package\", \"page\", \"page\", \"pain\", \"pain\", \"painful\", \"paint\", \"painting\", \"pakistan\", \"pakistani\", \"pakistani\", \"pakistani\", \"palestine\", \"paper\", \"parent\", \"parent\", \"parent\", \"paris\", \"park\", \"partner\", \"partner\", \"party\", \"pas\", \"pas\", \"passport\", \"passport\", \"passport\", \"past\", \"past\", \"patient\", \"pattern\", \"pay\", \"pay\", \"pay\", \"pay\", \"pay\", \"pay\", \"pay\", \"pay\", \"pay\", \"pay\", \"pay\", \"pay\", \"pay\", \"pay\", \"pay\", \"pay\", \"pay\", \"pay\", \"payment\", \"payment\", \"pc\", \"pc\", \"peace\", \"pee\", \"peni\", \"peni\", \"people\", \"people\", \"people\", \"people\", \"people\", \"people\", \"people\", \"people\", \"people\", \"people\", \"people\", \"people\", \"people\", \"people\", \"people\", \"people\", \"people\", \"people\", \"people\", \"people\", \"people\", \"people\", \"people\", \"people\", \"people\", \"people\", \"people\", \"people\", \"people\", \"people\", \"people\", \"people\", \"people\", \"people\", \"people\", \"people\", \"people\", \"people\", \"people\", \"people\", \"people\", \"people\", \"people\", \"people\", \"people\", \"people\", \"people\", \"people\", \"people\", \"people\", \"people_hate\", \"percent\", \"percent\", \"percentage\", \"percentile\", \"perfect\", \"perform\", \"performance\", \"period\", \"person\", \"person\", \"person\", \"person\", \"person\", \"person\", \"person\", \"person\", \"person\", \"person\", \"person\", \"person\", \"person\", \"person\", \"person\", \"person\", \"person\", \"person\", \"person\", \"person\", \"person\", \"person\", \"person\", \"person\", \"person\", \"person\", \"person\", \"person\", \"person\", \"person\", \"person\", \"person\", \"person\", \"person\", \"person\", \"person\", \"person\", \"person\", \"person\", \"personal\", \"personality\", \"personality\", \"pet\", \"petrol\", \"phase\", \"phd\", \"phd\", \"phd\", \"phd\", \"philippine\", \"philippines\", \"philosophy\", \"phone\", \"phone\", \"photo\", \"photography\", \"php\", \"phrase\", \"physic\", \"pick\", \"pick\", \"pick\", \"pick_up\", \"picture\", \"picture\", \"pilot\", \"pimple\", \"pink\", \"pizza\", \"pizza\", \"place\", \"place\", \"place\", \"place\", \"place\", \"place\", \"place\", \"place\", \"place\", \"place\", \"place\", \"place\", \"place\", \"place\", \"place\", \"place\", \"place\", \"place\", \"place\", \"place\", \"place\", \"place\", \"place\", \"place\", \"place\", \"place\", \"place\", \"place\", \"place\", \"place\", \"place\", \"place\", \"place\", \"place\", \"place\", \"place\", \"place\", \"place\", \"place\", \"place\", \"place\", \"place\", \"place\", \"placement\", \"placement\", \"placement\", \"plan\", \"plan\", \"plan\", \"plan\", \"plan\", \"plan\", \"plan\", \"plan\", \"plan\", \"plan\", \"plan\", \"plan\", \"plan\", \"plan\", \"plan\", \"plan\", \"plan\", \"plan\", \"plane\", \"plane\", \"planet\", \"plant\", \"plastic\", \"platform\", \"platform\", \"play\", \"play\", \"play\", \"play\", \"play\", \"play\", \"play\", \"play\", \"play\", \"play\", \"play\", \"play\", \"play\", \"play\", \"play\", \"play\", \"play\", \"play\", \"play\", \"play\", \"play\", \"play\", \"play\", \"player\", \"plug\", \"plus\", \"pm\", \"poem\", \"poetry\", \"point\", \"point\", \"point\", \"point\", \"point\", \"point\", \"point\", \"point\", \"point\", \"point\", \"point\", \"point\", \"point\", \"point\", \"point\", \"point\", \"point\", \"point\", \"point\", \"point\", \"point\", \"point\", \"point\", \"point\", \"point\", \"point\", \"point\", \"point\", \"point\", \"point\", \"point\", \"pokemon\", \"pok\\u00e9mon\", \"pok\\u00e9mon_go\", \"police\", \"policy\", \"policy\", \"policy\", \"policy\", \"politic\", \"politic\", \"politic\", \"political\", \"political_party\", \"politician\", \"politician\", \"poor\", \"pop\", \"popular\", \"population\", \"porn\", \"position\", \"position\", \"position\", \"positive\", \"post\", \"post\", \"post\", \"potential\", \"poverty\", \"powder\", \"power\", \"power\", \"power\", \"power\", \"power\", \"power\", \"power\", \"power\", \"power\", \"power\", \"power\", \"powerful\", \"practice\", \"practice\", \"pre\", \"prefer\", \"prefer\", \"prefer\", \"prefer\", \"prefer\", \"prefer\", \"prefer\", \"pregnancy\", \"preparation\", \"prepare\", \"prepare\", \"prepare\", \"prepare_for\", \"present\", \"present\", \"present\", \"present\", \"present\", \"present\", \"present\", \"present\", \"presidency\", \"president\", \"president\", \"president\", \"president\", \"president_obama\", \"presidential_election\", \"pressure\", \"prevent\", \"prevent\", \"price\", \"primary\", \"prime_minister\", \"prime_minister\", \"principle\", \"print\", \"prison\", \"private\", \"private\", \"private\", \"private\", \"private\", \"private\", \"private\", \"private\", \"private\", \"pro\", \"pro\", \"pro_and_con\", \"problem\", \"problem\", \"problem\", \"problem\", \"problem\", \"problem\", \"problem\", \"problem\", \"problem\", \"problem\", \"procedure\", \"proces\", \"proces\", \"proces\", \"proces\", \"proces\", \"processor\", \"processor\", \"produce\", \"produce\", \"product\", \"product\", \"production\", \"profession\", \"professional\", \"professional\", \"professional\", \"professor\", \"profile\", \"profile\", \"profit\", \"program\", \"program\", \"program\", \"program\", \"program\", \"program\", \"programmer\", \"programming\", \"programming\", \"programming\", \"programming\", \"programming_language\", \"project\", \"project\", \"project\", \"project\", \"project\", \"project\", \"project\", \"project\", \"project\", \"project\", \"project\", \"project\", \"project\", \"project\", \"project\", \"promote\", \"promote\", \"pronounce\", \"proof\", \"prop\", \"properly\", \"property\", \"property\", \"prophet\", \"propose\", \"prostitute\", \"protect\", \"protein\", \"protein\", \"protein\", \"protein\", \"protein\", \"provide\", \"provide\", \"provide\", \"provide\", \"provide\", \"provide\", \"provide\", \"provide\", \"provide\", \"provide\", \"provide\", \"provide\", \"provide\", \"provide\", \"provide\", \"provide\", \"provide\", \"provide\", \"provide\", \"provide\", \"provide\", \"provide\", \"provide\", \"provide\", \"provide\", \"provide\", \"provide\", \"provide\", \"provide\", \"provide\", \"provide\", \"provider\", \"psu\", \"psychology\", \"public\", \"public\", \"public\", \"public\", \"public\", \"publish\", \"pull\", \"pune\", \"punishment\", \"puppy\", \"purchase\", \"purchase\", \"purchase\", \"purchase\", \"purchase\", \"purchase\", \"purchase\", \"purchase\", \"purpose\", \"pursue\", \"pursue\", \"pursue\", \"push\", \"python\", \"quality\", \"queen\", \"question\", \"question\", \"question\", \"question\", \"question_on_quora\", \"quick\", \"quickly\", \"quit\", \"quora\", \"quora\", \"quora\", \"quora_user\", \"quote\", \"r\", \"r\", \"r\", \"r\", \"race\", \"race\", \"race\", \"racism\", \"racist\", \"radio\", \"rahul_gandhi\", \"rain\", \"raise\", \"raise\", \"ram\", \"random\", \"range\", \"rank\", \"rape\", \"rat\", \"rat\", \"rat\", \"rate\", \"rate\", \"rather_than\", \"rather_than\", \"rather_than\", \"rather_than\", \"rather_than\", \"rather_than\", \"rather_than\", \"rather_than\", \"rather_than\", \"rather_than\", \"rather_than\", \"ratio\", \"ratio\", \"rbi\", \"rbi\", \"reach\", \"react\", \"reaction\", \"read\", \"read\", \"read\", \"real\", \"real\", \"real\", \"real\", \"real\", \"real\", \"real\", \"real\", \"real\", \"real\", \"real\", \"real\", \"real\", \"real\", \"real\", \"real\", \"real\", \"real\", \"real\", \"real\", \"real\", \"real\", \"real\", \"real\", \"real\", \"real\", \"real\", \"real\", \"real\", \"real\", \"real\", \"real\", \"real_estate\", \"real_life\", \"reason\", \"reason\", \"reason\", \"reason\", \"reason\", \"reason\", \"reason\", \"reason\", \"reason\", \"reason\", \"receive\", \"receive\", \"receive\", \"receive\", \"receive\", \"receive\", \"receive\", \"recent\", \"recently\", \"recently\", \"recipe\", \"recognize\", \"recognize\", \"recommend\", \"record\", \"record\", \"red\", \"reduce\", \"reduce\", \"refer\", \"refer\", \"refuse\", \"refuse\", \"regard\", \"regard\", \"regard\", \"regard\", \"regard\", \"regard\", \"regard\", \"regard\", \"regard\", \"region\", \"region\", \"region\", \"regular\", \"reject\", \"reject\", \"reject\", \"relate\", \"relationship\", \"relationship\", \"relationship\", \"relationship\", \"relationship\", \"relationship\", \"relationship\", \"relationship_between\", \"relative\", \"relative\", \"release\", \"reliable\", \"reliable\", \"reliance_jio\", \"religion\", \"religion\", \"religion\", \"religion\", \"religion\", \"religious\", \"remain\", \"remember\", \"remove\", \"remove\", \"remove\", \"remove\", \"remove\", \"remove\", \"remove\", \"remove\", \"remove\", \"remove\", \"remove\", \"remove\", \"remove\", \"repair\", \"replace\", \"replace\", \"replace\", \"reply\", \"reply\", \"report\", \"report\", \"represent\", \"republican\", \"request\", \"require\", \"require\", \"require\", \"require\", \"require\", \"require\", \"require\", \"require\", \"require\", \"require\", \"require\", \"require\", \"require\", \"require\", \"require\", \"require\", \"require\", \"require\", \"require\", \"require\", \"require\", \"require\", \"require\", \"require\", \"require\", \"require\", \"research\", \"research\", \"research\", \"research\", \"research\", \"reservation\", \"residential\", \"resistance\", \"resource\", \"resource\", \"resource\", \"resource\", \"resource\", \"respect\", \"respond\", \"respond\", \"response\", \"responsible_for\", \"rest\", \"rest\", \"restaurant\", \"restaurant\", \"result\", \"resume\", \"retire\", \"retirement\", \"return\", \"return\", \"return\", \"return\", \"return\", \"return\", \"return\", \"return\", \"return\", \"return\", \"return\", \"return\", \"return\", \"review\", \"review\", \"rice\", \"rich\", \"rich\", \"rich\", \"right\", \"right\", \"right\", \"right\", \"right\", \"right\", \"right\", \"right\", \"right\", \"right\", \"right\", \"right\", \"right\", \"right\", \"right\", \"right\", \"right\", \"right\", \"right\", \"right_now\", \"ring\", \"rise\", \"rise\", \"risk\", \"risk\", \"risk\", \"risk\", \"risk\", \"river\", \"road\", \"robot\", \"rock\", \"rocket\", \"role\", \"role\", \"role\", \"role\", \"role\", \"roll\", \"room\", \"root\", \"rotate\", \"round\", \"round\", \"route\", \"rude\", \"rule\", \"rule\", \"run\", \"run\", \"run\", \"run\", \"run\", \"run\", \"run\", \"run\", \"run\", \"rupee\", \"russia\", \"russia\", \"russian\", \"russian\", \"s\", \"sad\", \"safe\", \"safe\", \"safe\", \"safe\", \"safe\", \"safe\", \"safe\", \"safe\", \"safe\", \"safe\", \"safe\", \"safe\", \"safe\", \"safe\", \"safe\", \"safe\", \"safe\", \"safety\", \"salary\", \"salary\", \"salary\", \"salary\", \"salary\", \"salary\", \"salary\", \"salary\", \"salary\", \"salary\", \"salary\", \"salary\", \"salary\", \"salary\", \"salary\", \"salary\", \"salary\", \"salary\", \"salary\", \"sale\", \"sale\", \"sale\", \"salman_khan\", \"salt\", \"samsung\", \"samsung\", \"samsung\", \"san_francisco\", \"sap\", \"satellite\", \"satellite\", \"saudi_arabia\", \"save\", \"save\", \"save\", \"save\", \"save\", \"save\", \"save\", \"save\", \"scale\", \"scam\", \"scam\", \"scar\", \"scar\", \"scene\", \"schedule\", \"scheme\", \"school\", \"school\", \"science\", \"science\", \"science\", \"science\", \"science\", \"science\", \"science\", \"science\", \"science\", \"science\", \"science\", \"science\", \"science\", \"science\", \"science\", \"science\", \"science\", \"science\", \"science\", \"science\", \"scientific\", \"scientist\", \"scientist\", \"scope\", \"score\", \"score\", \"score\", \"screen\", \"sea\", \"search\", \"search_engine\", \"season\", \"season\", \"season\", \"season\", \"seat\", \"second\", \"second\", \"second\", \"secret\", \"section\", \"sector\", \"security\", \"seek\", \"select\", \"select\", \"self\", \"sell\", \"sell\", \"sell\", \"sell\", \"sell\", \"sell\", \"sell\", \"sell\", \"sell\", \"sell\", \"sell\", \"sell\", \"sell\", \"sell\", \"sell\", \"sell\", \"sell\", \"sell\", \"send\", \"send\", \"send\", \"send\", \"send\", \"send\", \"send\", \"send\", \"send\", \"sense\", \"sentence\", \"sentence\", \"seo\", \"separate\", \"serie\", \"serie\", \"serie\", \"serie\", \"serie\", \"serie\", \"serie\", \"serve\", \"serve\", \"server\", \"server\", \"service\", \"service\", \"service\", \"service\", \"set\", \"set\", \"set\", \"set\", \"set\", \"set\", \"set\", \"set\", \"set\", \"set\", \"set\", \"set\", \"set\", \"set\", \"set\", \"set\", \"sex\", \"sex\", \"sexy\", \"shall\", \"shape\", \"share\", \"share\", \"share\", \"share\", \"share\", \"share\", \"share\", \"share\", \"share\", \"share\", \"share\", \"share\", \"share\", \"share\", \"shave\", \"ship\", \"shirt\", \"shoe\", \"shoe\", \"shoot\", \"shop\", \"short\", \"short\", \"short\", \"short\", \"short\", \"short\", \"show_up\", \"shower\", \"sign\", \"sign\", \"signal\", \"significance\", \"significant\", \"silicon_valley\", \"sim_card\", \"similarity\", \"simple\", \"simple\", \"simple\", \"simple\", \"simple\", \"simple\", \"sing\", \"singapore\", \"singapore\", \"singapore\", \"singer\", \"single\", \"single\", \"single\", \"single\", \"single\", \"single\", \"single\", \"single\", \"single\", \"single\", \"single\", \"single\", \"single\", \"single\", \"single\", \"single\", \"single\", \"single\", \"sit\", \"site\", \"site\", \"site\", \"site\", \"situation\", \"size\", \"skill\", \"skin\", \"sky\", \"sleep\", \"slow\", \"slow_down\", \"slowly\", \"small\", \"small\", \"small\", \"small\", \"smart\", \"smartphone\", \"smell\", \"smell\", \"smile\", \"smoke\", \"smoking\", \"snake\", \"snapchat\", \"snapchat\", \"so_difficult\", \"so_expensive\", \"so_famous\", \"so_far\", \"so_few\", \"so_hard\", \"so_important\", \"so_many\", \"so_many\", \"so_many\", \"so_many_people\", \"so_much\", \"so_much\", \"so_popular\", \"so_slow\", \"social\", \"social\", \"social_medium\", \"social_medium\", \"society\", \"society\", \"society\", \"society\", \"society\", \"society\", \"society\", \"software\", \"software\", \"software\", \"software\", \"software\", \"software\", \"software\", \"software_engineer\", \"software_engineer\", \"solar_system\", \"soldier\", \"solid\", \"soluble\", \"solution\", \"solution\", \"solution\", \"solution\", \"solution\", \"solution\", \"solution\", \"solution\", \"solution\", \"solution\", \"solution\", \"solution\", \"solution\", \"solution\", \"solution\", \"solution\", \"solution\", \"solution\", \"solution\", \"solution\", \"solution\", \"solution\", \"solution\", \"solve\", \"solve\", \"solve\", \"some_example\", \"some_example\", \"some_less_know\", \"some_tip_on\", \"somebody\", \"son\", \"son\", \"song\", \"song\", \"song\", \"song\", \"song\", \"song\", \"song\", \"song\", \"song\", \"song\", \"song\", \"song\", \"song\", \"song\", \"song\", \"soon\", \"soon\", \"soon\", \"sort\", \"soul\", \"sound\", \"source\", \"source\", \"source\", \"source\", \"source\", \"south\", \"south_africa\", \"south_korea\", \"space\", \"space\", \"space\", \"space\", \"space\", \"space\", \"space\", \"space\", \"space\", \"space\", \"space\", \"space\", \"space\", \"space\", \"space\", \"space\", \"space\", \"space\", \"space\", \"space\", \"space\", \"space\", \"space\", \"space\", \"space\", \"space\", \"space\", \"space\", \"space\", \"spain\", \"spanish\", \"spanish\", \"speak\", \"speak\", \"speaker\", \"special\", \"specie\", \"specific\", \"specific\", \"specific\", \"specific\", \"specific\", \"specific\", \"specific\", \"specific\", \"specifically\", \"specifically\", \"speech\", \"speed\", \"speed\", \"speed\", \"speed\", \"speed\", \"spend\", \"spend\", \"spider\", \"spin\", \"split\", \"sport\", \"spotify\", \"spouse\", \"spread\", \"square\", \"square\", \"ssc_cgl\", \"stand\", \"standard\", \"standard\", \"star\", \"star\", \"star_trek\", \"start\", \"start\", \"start\", \"start\", \"start\", \"start\", \"start\", \"start\", \"start\", \"start\", \"start\", \"start\", \"start\", \"start\", \"start\", \"start\", \"start\", \"start\", \"start\", \"start\", \"start\", \"start\", \"start\", \"start\", \"start\", \"start\", \"start\", \"start\", \"start\", \"start\", \"start\", \"start\", \"start\", \"start\", \"start\", \"start\", \"start\", \"start_up\", \"startup\", \"startup\", \"startup\", \"startup\", \"startup\", \"startup\", \"startup\", \"startup\", \"startup\", \"startup\", \"startup\", \"startup\", \"startup\", \"startup\", \"startup\", \"state\", \"state\", \"state\", \"state\", \"state\", \"state\", \"state\", \"state\", \"state\", \"state\", \"state\", \"state\", \"state\", \"state\", \"state\", \"state\", \"state\", \"state\", \"state\", \"state\", \"station\", \"statistic\", \"statu\", \"statu\", \"stay\", \"stay\", \"stay\", \"stay\", \"stay\", \"steam\", \"steel\", \"step\", \"steve_jobs\", \"stick\", \"stick\", \"stock\", \"stock_market\", \"stomach\", \"stop\", \"stop\", \"stop\", \"stop\", \"stop\", \"stop\", \"stop\", \"stop\", \"stop\", \"stop\", \"stop\", \"stop\", \"stop\", \"stop\", \"stop\", \"stop\", \"stop\", \"stop\", \"stop\", \"stop\", \"stop\", \"stop\", \"storage\", \"store\", \"story\", \"story\", \"story\", \"story_behind\", \"straight\", \"straight\", \"straight\", \"strange\", \"stranger\", \"strategy\", \"stream\", \"stream\", \"street\", \"street\", \"stres\", \"strong\", \"strong\", \"strong\", \"structure\", \"structure\", \"student\", \"student\", \"student\", \"student\", \"student\", \"student\", \"student\", \"student\", \"student\", \"student\", \"student\", \"student\", \"student\", \"student\", \"student\", \"student\", \"student\", \"student\", \"student\", \"student\", \"student\", \"student\", \"student\", \"student\", \"student\", \"student\", \"student\", \"student\", \"student\", \"study\", \"study\", \"study\", \"study\", \"study\", \"study\", \"study\", \"study\", \"study\", \"study\", \"study\", \"stuff\", \"stupid\", \"style\", \"subject\", \"subject\", \"succe\", \"succes\", \"successful\", \"successful\", \"suck\", \"sudden\", \"suddenly\", \"suddenly\", \"suffer\", \"suffer\", \"sugar\", \"suggest\", \"suggest\", \"suggest\", \"suggest\", \"suggest\", \"suggest\", \"suggest\", \"suggest\", \"suggest\", \"suggest\", \"suggest\", \"suggest\", \"suicide\", \"suit\", \"suit\", \"suitable\", \"suitable_inpatient_drug\", \"suitable_inpatient_drug\", \"suitable_inpatient_drug\", \"suitable_inpatient_drug\", \"suitable_inpatient_drug\", \"suitable_inpatient_drug\", \"suitable_solar_panel_installation\", \"suitable_solar_panel_installation\", \"suitable_solar_panel_installation\", \"suitable_solar_panel_installation\", \"suitable_solar_panel_installation\", \"suitable_solar_panel_installation\", \"suitable_solar_panel_installation\", \"suitable_solar_panel_installation\", \"suitable_solar_panel_installation\", \"suitable_solar_panel_installation\", \"suitable_solar_panel_installation\", \"suitable_solar_panel_installation\", \"suitable_solar_panel_installation\", \"suitable_solar_panel_installation\", \"suitable_solar_panel_installation\", \"suitable_solar_panel_installation\", \"suitable_solar_panel_installation\", \"suitable_solar_panel_installation\", \"summer\", \"sun\", \"sup\", \"superhero\", \"superman\", \"supply\", \"supply\", \"support\", \"support\", \"support\", \"supreme_court\", \"surface\", \"surgical_strike\", \"survive\", \"sweat\", \"sweden\", \"sweet\", \"switch\", \"sydney\", \"syllabu\", \"symbol\", \"symbol\", \"syria\", \"system\", \"system\", \"system\", \"system\", \"system\", \"system\", \"system\", \"system\", \"system\", \"system\", \"system\", \"system\", \"system\", \"t_shirt\", \"table\", \"tablet\", \"tag\", \"taiwan\", \"talk\", \"talk\", \"talk_about\", \"talk_about\", \"talk_about\", \"tall\", \"tall\", \"tall\", \"tamil\", \"tamil_nadu\", \"tank\", \"target\", \"target\", \"taste\", \"taste\", \"tax\", \"tax\", \"tax\", \"taxi\", \"tcs\", \"tcs\", \"tea\", \"teach\", \"teach\", \"teacher\", \"team\", \"team\", \"team\", \"team\", \"team\", \"team\", \"team\", \"team\", \"team\", \"team\", \"team\", \"team\", \"team\", \"team\", \"team\", \"team\", \"team\", \"team\", \"tear\", \"tech\", \"technical\", \"technical\", \"technical\", \"technique\", \"technology\", \"technology\", \"technology\", \"technology\", \"teenager\", \"temperature\", \"temperature\", \"temperature\", \"temple\", \"tend\", \"tend\", \"term\", \"term\", \"term\", \"term\", \"term\", \"term\", \"term\", \"term\", \"term\", \"term\", \"term\", \"term\", \"term\", \"term\", \"term\", \"term\", \"term\", \"term\", \"term\", \"term\", \"terrorism\", \"terrorist\", \"test\", \"test\", \"test\", \"test\", \"test\", \"test\", \"test\", \"test\", \"test\", \"testing\", \"text\", \"thailand\", \"than_oth\", \"than_oth\", \"theme\", \"theory\", \"theory\", \"theory\", \"theory\", \"theory\", \"theory\", \"theory\", \"there_so_many\", \"these_day\", \"thing\", \"thing\", \"thing\", \"thing\", \"thing\", \"thing\", \"thing\", \"thing\", \"thing\", \"thing\", \"thing\", \"thing\", \"thing\", \"thing\", \"thing\", \"thing\", \"thing\", \"thing\", \"thing\", \"thing\", \"thing\", \"thing\", \"thing\", \"thing\", \"thing\", \"thing\", \"thing\", \"thing\", \"thing\", \"thing\", \"thing\", \"thing\", \"thing\", \"thing\", \"thing\", \"thing\", \"thing\", \"thing\", \"thing\", \"thing\", \"thing\", \"thing\", \"thing\", \"thing\", \"thing\", \"think\", \"think\", \"think\", \"think\", \"think\", \"think\", \"think\", \"think\", \"think\", \"think\", \"think\", \"think\", \"think\", \"think\", \"think\", \"think\", \"think\", \"think\", \"think\", \"think\", \"think\", \"think\", \"think\", \"think\", \"think\", \"think\", \"think\", \"think\", \"think\", \"think\", \"think\", \"think\", \"think\", \"think\", \"think\", \"think\", \"think\", \"think\", \"think\", \"think\", \"think\", \"think\", \"think\", \"think\", \"think_about\", \"think_about\", \"think_about\", \"thought\", \"thread\", \"ticket\", \"tie\", \"time\", \"time\", \"time\", \"time\", \"time\", \"time\", \"time\", \"time\", \"time\", \"time\", \"time\", \"time\", \"time\", \"time\", \"time\", \"time\", \"time\", \"time\", \"time\", \"time\", \"time\", \"time\", \"time\", \"time\", \"time\", \"time\", \"time\", \"time\", \"time\", \"time\", \"time\", \"time\", \"time\", \"time\", \"time\", \"time\", \"time\", \"time\", \"time\", \"time\", \"time\", \"time\", \"time\", \"time\", \"time\", \"time\", \"time\", \"time\", \"time\", \"tip\", \"tired\", \"title\", \"today\", \"today\", \"today\", \"today\", \"today\", \"today\", \"today\", \"today\", \"today\", \"today\", \"today\", \"today\", \"today\", \"today\", \"today\", \"today\", \"today_'s\", \"tool\", \"tooth\", \"top_10\", \"top_5\", \"topic\", \"toronto\", \"torque\", \"torrent\", \"total\", \"total\", \"total\", \"total\", \"touch\", \"tough\", \"tourist\", \"track\", \"track\", \"trade\", \"trading\", \"traffic\", \"traffic\", \"traffic\", \"train\", \"training\", \"training\", \"training_institute\", \"transaction\", \"transfer\", \"transfer\", \"transfer\", \"transfer\", \"transformer\", \"translation\", \"travel\", \"travel\", \"travel\", \"treat\", \"treatment\", \"treatment\", \"tree\", \"trend\", \"trick\", \"trip\", \"true\", \"true\", \"true\", \"true\", \"true\", \"true\", \"true\", \"true\", \"true\", \"true\", \"true\", \"true\", \"true\", \"true\", \"true\", \"true\", \"true\", \"true\", \"true\", \"true\", \"true\", \"true\", \"true\", \"true\", \"true\", \"true\", \"true\", \"true\", \"true\", \"true\", \"true_that\", \"trump\", \"trump\", \"trump\", \"trump\", \"trump\", \"trump\", \"trump\", \"trump\", \"trust\", \"truth\", \"truth\", \"try\", \"try\", \"try\", \"try\", \"try\", \"try\", \"try\", \"try\", \"try\", \"try\", \"try\", \"try\", \"try\", \"try\", \"try\", \"try\", \"try\", \"try\", \"try\", \"try\", \"try\", \"try\", \"try\", \"try\", \"try\", \"turkey\", \"turn\", \"tutorial\", \"tv\", \"tv\", \"tv_serie\", \"tv_show\", \"tweet\", \"twice\", \"twice\", \"twitter\", \"type\", \"type\", \"type\", \"type\", \"type\", \"type\", \"typical\", \"u\", \"u.s\", \"u.s.\", \"u.s.\", \"u.s.\", \"uber\", \"ugly\", \"uk\", \"uk\", \"uk\", \"uk\", \"ukraine\", \"un\", \"underrated\", \"understand\", \"unique\", \"unit\", \"united_kingdom\", \"united_states\", \"united_states\", \"united_states\", \"united_states\", \"united_states\", \"united_states\", \"universe\", \"university\", \"university\", \"university\", \"university\", \"university\", \"update\", \"update\", \"upgrade\", \"upgrade\", \"upgrade\", \"upload\", \"upsc\", \"upset\", \"upvote\", \"upvote\", \"upvote\", \"us_president\", \"usa\", \"usa\", \"usa\", \"usa\", \"usa\", \"usa\", \"usa\", \"usage\", \"use\", \"use\", \"use\", \"use\", \"use\", \"use\", \"use\", \"use\", \"use\", \"use\", \"use\", \"use\", \"use\", \"use\", \"use\", \"use\", \"use\", \"use\", \"use\", \"use\", \"use\", \"use\", \"use\", \"use\", \"use\", \"use\", \"use\", \"use\", \"use\", \"use\", \"use\", \"use\", \"use\", \"use\", \"use\", \"use\", \"use\", \"use\", \"use\", \"use\", \"use\", \"use\", \"use\", \"use\", \"use\", \"useful\", \"user\", \"usually\", \"usually\", \"usually\", \"usually\", \"usually\", \"usually\", \"vacation\", \"vagina\", \"value\", \"value\", \"value\", \"value\", \"value\", \"value\", \"value\", \"value\", \"value\", \"value\", \"variable\", \"vector\", \"vegetable\", \"vehicle\", \"vehicle\", \"vehicle\", \"vehicle\", \"version\", \"vice_versa\", \"video\", \"video_game\", \"vietnam\", \"view\", \"view\", \"view\", \"view\", \"visa\", \"visa\", \"vision\", \"visit\", \"voice\", \"voltage\", \"voltage\", \"volume\", \"vote\", \"vote\", \"vote\", \"vote\", \"vote\", \"vs\", \"vs\", \"vs\", \"wait\", \"wait\", \"wake_up\", \"walk\", \"wall\", \"want\", \"want\", \"want\", \"want\", \"want\", \"want\", \"want\", \"want\", \"want\", \"want\", \"want\", \"want\", \"want\", \"want\", \"want\", \"want\", \"want\", \"want\", \"want\", \"want\", \"want\", \"want\", \"want\", \"want\", \"want\", \"want\", \"want\", \"want\", \"want\", \"want\", \"want\", \"want\", \"want\", \"want\", \"war\", \"war\", \"war\", \"war\", \"war\", \"war\", \"war\", \"war\", \"war\", \"war\", \"war_between\", \"warcraft\", \"warm\", \"wash\", \"waste\", \"watch\", \"watch\", \"watch_porn\", \"water\", \"water\", \"water\", \"water\", \"water\", \"wave\", \"wave\", \"wave\", \"way\", \"way\", \"way\", \"way\", \"way\", \"way\", \"way\", \"way\", \"way\", \"way\", \"way\", \"way\", \"way\", \"way\", \"way\", \"way\", \"way\", \"way\", \"way\", \"way\", \"way\", \"way\", \"way\", \"way\", \"way\", \"way\", \"way\", \"way\", \"way\", \"way\", \"way\", \"way\", \"way\", \"way\", \"way\", \"way\", \"way\", \"way\", \"way\", \"way\", \"way\", \"way\", \"way\", \"way\", \"way\", \"way\", \"weak\", \"wealthy\", \"weapon\", \"weapon\", \"wear\", \"wear\", \"wear\", \"wear\", \"wear\", \"wear\", \"wear\", \"wear\", \"wear\", \"wear\", \"weather\", \"web\", \"web_development\", \"website\", \"website\", \"website\", \"website\", \"website\", \"website\", \"website\", \"website\", \"website\", \"website\", \"website\", \"website\", \"website\", \"website\", \"website\", \"website\", \"website\", \"website\", \"website\", \"website\", \"website\", \"wedding\", \"weed\", \"week\", \"weekend\", \"weight\", \"weight_los\", \"weird\", \"west\", \"west\", \"western\", \"whatsapp\", \"while_other\", \"white\", \"white\", \"white\", \"white\", \"white\", \"white_house\", \"who_invent\", \"who_would_win\", \"who_would_win\", \"why_hasn't\", \"wife\", \"wife\", \"wifi\", \"wikipedia\", \"will_happen_if\", \"will_win\", \"win\", \"win\", \"win\", \"win\", \"win\", \"win\", \"win\", \"win\", \"win\", \"win\", \"win\", \"win\", \"win\", \"win\", \"window\", \"windows\", \"windows_10\", \"windows_7\", \"wine\", \"winter\", \"wire\", \"wise\", \"wish\", \"wo_not\", \"woman\", \"woman\", \"woman\", \"woman\", \"woman\", \"woman\", \"woman\", \"woman\", \"woman\", \"woman\", \"woman\", \"woman\", \"woman\", \"woman\", \"woman\", \"woman\", \"woman\", \"woman\", \"woman\", \"woman\", \"woman\", \"wood\", \"word\", \"word\", \"wordpress\", \"work\", \"work\", \"work\", \"work\", \"work\", \"work\", \"work\", \"work\", \"work\", \"work\", \"work\", \"work\", \"work\", \"work\", \"work\", \"work\", \"work\", \"work\", \"work\", \"work\", \"work\", \"work\", \"work\", \"work\", \"work\", \"work\", \"work\", \"work\", \"work\", \"work\", \"work\", \"work\", \"work\", \"work\", \"work\", \"work\", \"work\", \"workout\", \"world\", \"world\", \"world\", \"world\", \"world\", \"world\", \"world\", \"world\", \"world\", \"world\", \"world\", \"world\", \"world\", \"world\", \"world\", \"world\", \"world\", \"world\", \"world\", \"world\", \"world\", \"world\", \"world_war_ii\", \"worldwide\", \"worship\", \"worth\", \"worth\", \"worth\", \"worth\", \"worth\", \"worth\", \"worth\", \"worth\", \"worth\", \"worth\", \"worth\", \"worth\", \"worth\", \"would_happen\", \"would_happen_if\", \"write\", \"write\", \"write\", \"write\", \"write\", \"write\", \"write\", \"write\", \"write\", \"write\", \"write\", \"write\", \"write\", \"write\", \"write\", \"write\", \"write\", \"write\", \"write\", \"write\", \"write\", \"write\", \"write\", \"write\", \"write\", \"write\", \"write\", \"write\", \"write\", \"write\", \"write\", \"write\", \"write\", \"write\", \"write\", \"write\", \"write\", \"write\", \"write\", \"write\", \"write\", \"writer\", \"writing\", \"writing\", \"wrong\", \"wrong\", \"wrong\", \"wrong\", \"wrong\", \"wrong\", \"wrong\", \"wrong\", \"wrong\", \"wrong\", \"wrong\", \"wrong\", \"wrong\", \"wrong\", \"wrong\", \"wrong\", \"wrong_with\", \"ww2\", \"x\", \"x\", \"yahoo\", \"yawn\", \"yellow\", \"yoga\", \"young\", \"young\", \"young\", \"youth\", \"youtube\", \"youtube\", \"youtube_channel\", \"youtube_video\", \"zero\", \"\\u2019\", \"\\u2019s\", \"\\u2019s\", \"\\u2019s\", \"\\u2019s\"], \"Freq\": [0.9928782084861058, 0.07283077316482651, 0.006978687744641888, 0.017001271207691408, 0.026429923798856513, 0.01596189218189368, 0.013289203258413809, 0.04001609249321253, 0.06614905085612684, 0.01291799646348605, 0.01447706500218264, 0.004157516103190912, 0.01744671936160472, 0.05152350313597309, 0.02850868185045197, 0.019005787900301312, 0.003637826590292048, 0.006830205026670784, 0.014996754515081505, 0.01447706500218264, 0.010542272975948385, 0.006978687744641888, 0.02635568243987096, 0.01818913295146024, 0.02375723487537664, 0.004305998821162016, 0.059244604470470495, 0.034002542415382815, 0.02264361449059336, 0.00816654948841072, 0.001262103102754384, 0.004528722898118672, 0.02442540710624661, 0.013808892771312673, 0.02375723487537664, 0.02004516692609904, 0.03637826590292048, 0.001633309897682144, 0.0258359929269721, 0.010616514334933937, 0.013363444617399361, 0.01811489159247469, 0.037343403569732654, 0.03489343872320944, 0.00965137666812176, 0.016778547130734754, 0.0129922378224716, 0.020861821874940113, 0.012695272386529392, 0.0013402540728021137, 0.004020762218406341, 0.9917880138735642, 0.9942563757221227, 0.007612848863541402, 0.0006920771694128548, 0.005536617355302838, 0.0006920771694128548, 0.0006920771694128548, 0.8913953942037569, 0.002076231508238564, 0.0006920771694128548, 0.002076231508238564, 0.0034603858470642736, 0.025606855268275625, 0.0006920771694128548, 0.0006920771694128548, 0.0006920771694128548, 0.002768308677651419, 0.0006920771694128548, 0.0006920771694128548, 0.005536617355302838, 0.01314946621884424, 0.0013841543388257095, 0.0013841543388257095, 0.002076231508238564, 0.0006920771694128548, 0.006920771694128547, 0.002768308677651419, 0.015917774896495658, 0.002768308677651419, 0.004589051963947029, 0.004589051963947029, 0.9820571202846642, 0.9903233708520766, 0.003614318871722907, 0.05325018658899396, 0.003132363916999645, 0.9271797194318949, 0.00626472783399929, 0.010844551345274232, 0.003614850448424744, 0.003614850448424744, 0.9723947706262562, 0.004006937705749266, 0.0005724196722498952, 0.0005724196722498952, 0.0005724196722498952, 0.0028620983612494756, 0.0005724196722498952, 0.922168091994581, 0.0011448393444997904, 0.0011448393444997904, 0.005724196722498951, 0.010303554100498113, 0.004006937705749266, 0.0028620983612494756, 0.0011448393444997904, 0.0011448393444997904, 0.0005724196722498952, 0.0011448393444997904, 0.0017172590167496855, 0.018317429511996646, 0.0011448393444997904, 0.0028620983612494756, 0.0017172590167496855, 0.0005724196722498952, 0.004006937705749266, 0.0011448393444997904, 0.0028620983612494756, 0.003434518033499371, 0.0011448393444997904, 0.9935179241570387, 0.9919754083359533, 0.9960048841989357, 0.9908102484708204, 0.992063066476241, 0.9937323735718453, 0.9919411699834538, 0.9957357450143274, 0.013351428994825982, 0.002861020498891282, 0.9737006431226664, 0.006675714497412991, 0.00037776964756882145, 0.00037776964756882145, 0.00037776964756882145, 0.00037776964756882145, 0.00037776964756882145, 0.00037776964756882145, 0.00037776964756882145, 0.00037776964756882145, 0.9852232408594863, 0.0015110785902752858, 0.006044314361101143, 0.0007555392951376429, 0.00037776964756882145, 0.00037776964756882145, 0.0007555392951376429, 0.0007555392951376429, 0.0007555392951376429, 0.00037776964756882145, 0.9962936260566817, 0.9983010099924827, 0.996127146595545, 0.0008087105138418148, 0.0008087105138418148, 0.0008087105138418148, 0.0008087105138418148, 0.008895815652259963, 0.0032348420553672593, 0.7844491984265604, 0.065505551621187, 0.0024261315415254445, 0.0016174210276836297, 0.004852263083050889, 0.10108881423022685, 0.004043552569209074, 0.0016174210276836297, 0.004043552569209074, 0.006469684110734519, 0.0008087105138418148, 0.005660973596892703, 0.0016174210276836297, 0.9908777400612911, 0.003464607482731787, 0.9956246669072361, 0.0011794395105385383, 0.005897197552692692, 0.0011794395105385383, 0.9860114308102181, 0.013868693316210282, 0.9638741854766146, 0.006934346658105141, 0.0034671733290525704, 0.0034671733290525704, 0.0034671733290525704, 0.9963652257127883, 0.0088729128735517, 0.0011091141091939625, 0.002218228218387925, 0.0011091141091939625, 0.007763798764357737, 0.0011091141091939625, 0.0011091141091939625, 0.05434659135050416, 0.0033273423275818875, 0.02218228218387925, 0.002218228218387925, 0.8362720383322477, 0.0011091141091939625, 0.0011091141091939625, 0.0011091141091939625, 0.002218228218387925, 0.00443645643677585, 0.0033273423275818875, 0.0011091141091939625, 0.0088729128735517, 0.0088729128735517, 0.0011091141091939625, 0.014418483419521512, 0.005545570545969812, 0.00443645643677585, 0.011921486199130641, 0.003973828733043547, 0.973588039595669, 0.7959421451029085, 0.20226294510850382, 0.004302336659731596, 0.008604673319463192, 0.002151168329865798, 0.7873276087308821, 0.004302336659731596, 0.18069813970872706, 0.002151168329865798, 0.002151168329865798, 0.002151168329865798, 0.002151168329865798, 0.001956845096795325, 0.001956845096795325, 0.8981918994290541, 0.0058705352903859745, 0.08414433916219896, 0.001956845096795325, 0.001956845096795325, 0.016150685345589874, 0.023072407636556966, 0.0023072407636556967, 0.00692172229096709, 0.009228963054622787, 0.8882876940074431, 0.0023072407636556967, 0.0046144815273113935, 0.00692172229096709, 0.016150685345589874, 0.00692172229096709, 0.011536203818278483, 0.0023072407636556967, 0.99509885698884, 0.9947493295592349, 0.9962499101383601, 0.9879610069800641, 0.9943523666735277, 0.9903106099044034, 0.99660928296519, 0.9972803066014896, 0.9958103614041447, 0.0016868581919635042, 0.0016868581919635042, 0.005060574575890512, 0.002530287287945256, 0.9193377146201097, 0.018555440111598546, 0.0033737163839270084, 0.0008434290959817521, 0.04132802570310585, 0.002530287287945256, 0.0008434290959817521, 0.9957416600515497, 0.003212077122688451, 0.0010706923742294836, 0.002141384748458967, 0.009636231368065353, 0.013919000864983287, 0.9636231368065353, 0.0010706923742294836, 0.0010706923742294836, 0.0010706923742294836, 0.002141384748458967, 0.9930856588298412, 0.9968693720665278, 0.9953976271621814, 0.996270993648244, 0.9971092948576761, 0.001152727508505984, 0.0027343991096573294, 0.005468798219314659, 0.987118078586296, 0.9972923207301205, 0.9950069648897806, 0.9980156250483008, 0.9953137933094179, 0.994546523126817, 0.002204099478570398, 0.004408198957140796, 0.980824267963827, 0.002204099478570398, 0.006612298435711194, 0.9950248570322209, 0.0010664789464439666, 0.0021329578928879333, 0.9937479161894914, 0.02068880783989953, 0.010344403919949764, 0.9620295645553281, 0.9973795799342726, 0.00522850846231334, 0.9855738451460646, 0.00261425423115667, 0.0080788500186902, 0.9815802772708595, 0.0040394250093451, 0.9957956885410748, 0.9917525206599171, 0.0018522938550316241, 0.0037045877100632483, 0.9909772124419189, 0.0018522938550316241, 0.0018522938550316241, 0.9966905296006541, 0.000977147578039857, 0.9936612249076677, 0.9963051346584749, 0.002642141915882903, 0.9934453603719715, 0.9943104648812073, 0.9944529371500507, 0.9921396646562972, 0.99531659337459, 0.9906905649331605, 0.9925911603229011, 0.0035704717997226657, 0.9956681645487158, 0.9927538367488616, 0.9901812489981026, 0.005051945147949503, 0.9928542746764308, 0.9947498940478556, 0.9957235522041112, 0.002470778045171492, 0.0016921636981885129, 0.0016921636981885129, 0.9949922545348456, 0.0028693777784930532, 0.9870659558016103, 0.0028693777784930532, 0.9940031788928334, 0.9988057768745683, 0.9908601008156693, 0.9950794670187842, 0.9918306339501183, 0.002201490532321273, 0.002201490532321273, 0.004402981064642546, 0.013208943193927639, 0.002201490532321273, 0.004402981064642546, 0.013208943193927639, 0.002201490532321273, 0.002201490532321273, 0.004402981064642546, 0.9466409288981474, 0.994382736056265, 0.0013293886845671993, 0.0013293886845671993, 0.99608909555826, 0.0005791215671850349, 0.0011582431343700697, 0.0005791215671850349, 0.0005791215671850349, 0.0018905643585136634, 0.0006301881195045544, 0.0006301881195045544, 0.9919161001001687, 0.0012603762390091088, 0.9959831589863144, 0.0010289082220933, 0.9961757160673421, 0.9931611708695658, 0.9974187325679107, 0.021701085552345917, 0.9738362141615231, 0.9947549537831938, 0.003229234126173339, 0.022604638883213374, 0.003229234126173339, 0.006458468252346678, 0.003229234126173339, 0.006458468252346678, 0.933248662464095, 0.003229234126173339, 0.006458468252346678, 0.006458468252346678, 0.003229234126173339, 0.9960597284825344, 0.003436989542333821, 0.9955813040960302, 0.002265483130691136, 0.9960574164605361, 0.9958572307853114, 0.9953377688997683, 0.9982631047139521, 0.003192651310259514, 0.0023944884826946357, 0.0007981628275648785, 0.001596325655129757, 0.001596325655129757, 0.0007981628275648785, 0.0007981628275648785, 0.001596325655129757, 0.9713641611464572, 0.0007981628275648785, 0.0047889769653892715, 0.0047889769653892715, 0.001596325655129757, 0.0007981628275648785, 0.001596325655129757, 0.12095877842080235, 0.8774311387032806, 0.9922712282287848, 0.9920425391716217, 0.00028499200146643534, 0.9988969651398558, 0.052347232681451465, 0.9447429136319098, 0.9950361616402673, 0.994038991138371, 0.010438207031359477, 0.9853667437603346, 0.0047047963118056904, 0.0047047963118056904, 0.9833024291673893, 0.008351928132091017, 0.9855275195867399, 0.011350269548617696, 0.0003338314573122852, 0.0010014943719368556, 0.006342797688933418, 0.007010460603557989, 0.0003338314573122852, 0.9363972377609598, 0.012017932463242266, 0.002002988743873711, 0.002336820201185996, 0.0010014943719368556, 0.002336820201185996, 0.0003338314573122852, 0.0003338314573122852, 0.0026706516584982815, 0.010014943719368554, 0.002336820201185996, 0.0003338314573122852, 0.0003338314573122852, 0.9977147504805615, 0.0012435031615222682, 0.0006217515807611341, 0.0006217515807611341, 0.0006217515807611341, 0.9805022428603085, 0.0006217515807611341, 0.0018652547422834025, 0.011813280034461549, 0.9960264840130908, 0.0006351027477558368, 0.0006351027477558368, 0.041281678604129395, 0.0019053082432675104, 0.0012702054955116735, 0.03239024013554768, 0.0006351027477558368, 0.0012702054955116735, 0.0006351027477558368, 0.9081969292908466, 0.0006351027477558368, 0.005715924729802532, 0.003175513738779184, 0.9927865945032178, 0.9943082088770626, 0.992543799544363, 0.995831373224896, 0.9948150274304167, 0.9921399035379582, 0.9950321547419199, 0.9973496066794653, 0.9888700980232867, 0.004642582619827637, 0.9967189970876338, 0.9965300012099135, 0.9965381878405435, 0.9903188596380925, 0.0082987613936153, 0.9956815921067198, 0.9905553826393432, 0.9974273488102706, 0.0025994733912535232, 0.9955983088500994, 0.9914351953115111, 0.0015991495844196893, 0.00031982991688393785, 0.9710036276596354, 0.00031982991688393785, 0.02430707368317928, 0.00031982991688393785, 0.0006396598337678757, 0.9915579428581393, 0.9970563856537156, 0.9930028761574016, 0.994796195739189, 0.9952355729681471, 0.00872206843804608, 0.00436103421902304, 0.00436103421902304, 0.9637885624040917, 0.00436103421902304, 0.00436103421902304, 0.9968608090008226, 0.0020811290375800057, 0.9923816835342172, 0.9905926143365487, 0.9948841488409664, 0.9964279556386656, 0.9715992436474311, 0.024806789199508877, 0.0020052558876256167, 0.9946069202623059, 0.9938460892933592, 0.9919258166564062, 0.0007111218828584945, 0.0021333656485754836, 0.9955706360018923, 0.9951102898634199, 0.9976289687671932, 0.9911842093359999, 0.0011549834098321845, 0.011549834098321846, 0.970186064259035, 0.0011549834098321845, 0.0011549834098321845, 0.0034649502294965533, 0.005774917049160923, 0.9936179372552854, 0.9969632131711945, 0.9937260994659365, 0.003040828483351804, 0.9852284286059846, 0.009122485450055413, 0.9924863308160305, 0.988204611770245, 0.005120231149068627, 0.0025601155745343133, 0.020396525838619544, 0.9722343983075316, 0.0033994209731032575, 0.0012535564196428555, 0.003760669258928567, 0.013789120616071411, 0.005014225678571422, 0.0012535564196428555, 0.030085354071428535, 0.0012535564196428555, 0.9389137583124988, 0.0012535564196428555, 0.9636162458222994, 0.005618753619955099, 0.00842813042993265, 0.0168562608598653, 0.00021843793260326922, 0.00021843793260326922, 0.00021843793260326922, 0.00021843793260326922, 0.996295410603511, 0.00021843793260326922, 0.00021843793260326922, 0.00021843793260326922, 0.00021843793260326922, 0.00021843793260326922, 0.00043687586520653845, 0.00021843793260326922, 0.00043687586520653845, 0.9976664421386326, 0.996668922811253, 0.0007886805864244086, 0.0007886805864244086, 0.0007886805864244086, 0.0007886805864244086, 0.0031547223456976346, 0.07334729453746999, 0.0015773611728488173, 0.0031547223456976346, 0.00552076410497086, 0.9093487161473431, 0.9943389654304924, 0.9979832787636753, 0.000568780479698808, 0.0017063414390964238, 0.000568780479698808, 0.9959346199526128, 0.9963898302639448, 0.0006664395802351985, 0.9976600516120923, 0.9923770182497698, 0.004659437515095618, 0.9924601907153665, 0.9950096693305367, 0.0040317743497026125, 0.006047661524553919, 0.006047661524553919, 0.0020158871748513062, 0.0967625843928627, 0.0020158871748513062, 0.0040317743497026125, 0.0020158871748513062, 0.0020158871748513062, 0.0020158871748513062, 0.0020158871748513062, 0.8507043877872512, 0.0020158871748513062, 0.0040317743497026125, 0.0020158871748513062, 0.0020158871748513062, 0.006047661524553919, 0.0020158871748513062, 0.994219666311216, 0.9974412100734017, 0.9964307599613869, 0.9974865685560507, 0.001841981162685698, 0.014735849301485584, 0.001841981162685698, 0.9780919973861056, 0.9924007080045633, 0.006860316997124738, 0.013720633994249476, 0.013720633994249476, 0.0017150792492811844, 0.012005554744968292, 0.008575396246405922, 0.010290475495687108, 0.015435713243530661, 0.006860316997124738, 0.008575396246405922, 0.030871426487061322, 0.0017150792492811844, 0.013720633994249476, 0.01886587174209303, 0.02915634723778014, 0.008575396246405922, 0.030871426487061322, 0.6723110657182243, 0.0017150792492811844, 0.02915634723778014, 0.05659761522627909, 0.006860316997124738, 0.9935534175841061, 0.9948028747823436, 0.0021911957594324748, 0.9956093186869392, 0.994248436528173, 0.0030973471542933735, 0.9937123890022479, 0.9960446927740564, 0.9983689832420233, 0.9986675183235575, 0.9957254669649243, 0.0009237526547799494, 0.002771257964339848, 0.004618763273899747, 0.01755130044081904, 0.0009237526547799494, 0.012932537166919292, 0.005542515928679696, 0.002771257964339848, 0.8692512481479324, 0.004618763273899747, 0.0036950106191197974, 0.0009237526547799494, 0.0009237526547799494, 0.011085031857359392, 0.011085031857359392, 0.0036950106191197974, 0.0018475053095598987, 0.0018475053095598987, 0.0009237526547799494, 0.002771257964339848, 0.0018475053095598987, 0.005542515928679696, 0.0009237526547799494, 0.01847505309559899, 0.011085031857359392, 0.9955670934354159, 0.9981326723574411, 0.9948751367302917, 0.99630207160066, 0.9949256242878103, 0.9948077158581089, 0.00042861719601555346, 0.9973922151281929, 0.9929974518180641, 0.9920074310367482, 0.00250628013651883, 0.001253140068259415, 0.9937400741297161, 0.9963139765468271, 0.9916401575116256, 0.9972455313569787, 0.9957287621289941, 0.996931547681453, 0.9970990507805297, 0.9923671188168702, 0.9953009876305682, 0.9942230758763075, 0.9937581988104343, 0.0010094039601934324, 0.0005047019800967162, 0.0005047019800967162, 0.002523509900483581, 0.0021113638161474164, 0.9965637212215805, 0.9899915301852037, 0.003586925834004361, 0.003586925834004361, 0.9919618765789279, 0.9969824808842891, 0.9966371265657432, 0.9972944419844478, 0.8074711571619908, 0.18469567110888635, 0.0030528210100642375, 0.0015264105050321187, 0.9926432407799568, 0.002494078494422002, 0.002494078494422002, 0.08963799427849786, 0.03088367870099506, 0.002259781368365492, 0.006779344105096476, 0.009039125473461968, 0.006779344105096476, 0.007532604561218307, 0.03088367870099506, 0.0007532604561218307, 0.009039125473461968, 0.0015065209122436614, 0.046702148279553504, 0.03163693915711689, 0.0293771577887514, 0.07231300378769574, 0.0097923859295838, 0.007532604561218307, 0.0293771577887514, 0.002259781368365492, 0.0007532604561218307, 0.033896720525482385, 0.24405638778347316, 0.024857595052020415, 0.03992280417445703, 0.053481492384649984, 0.05046845056016266, 0.0015065209122436614, 0.017324990490802106, 0.046702148279553504, 0.038416283262213365, 0.024857595052020415, 0.9973888486694958, 0.9977781652079438, 0.9951094093651051, 0.9969222605540882, 0.0015533282924385604, 0.00012944402436988005, 0.0002588880487397601, 0.9928356669169799, 0.0009061081705891602, 0.00012944402436988005, 0.00012944402436988005, 0.0002588880487397601, 0.00012944402436988005, 0.00012944402436988005, 0.0003883320731096401, 0.0002588880487397601, 0.00012944402436988005, 0.00012944402436988005, 0.00012944402436988005, 0.00012944402436988005, 0.00012944402436988005, 0.00012944402436988005, 0.00012944402436988005, 0.0009061081705891602, 0.0003883320731096401, 0.00012944402436988005, 0.00012944402436988005, 0.00012944402436988005, 0.00012944402436988005, 0.994237752933002, 0.9981924843617787, 0.9965825589328505, 0.0011588169289916868, 0.995600139382806, 0.9960907937839008, 0.0016494902665120648, 0.9913436501737509, 0.0016494902665120648, 0.9839827444720547, 0.010872737507978505, 0.9979294789326187, 0.9967550369571562, 0.9959904754700016, 0.995126666774697, 0.9960226010728895, 0.9969998635082421, 0.0028998508708106513, 0.9946488486880535, 0.003264970915501321, 0.9925511583124015, 0.9816487023034447, 0.011594276011458009, 0.0032400605938259423, 0.9963186326014772, 0.9956615896365503, 0.0006125065167615784, 0.0012250130335231567, 0.0012250130335231567, 0.0006125065167615784, 0.0006125065167615784, 0.0006125065167615784, 0.0006125065167615784, 0.9904230376034722, 0.0006125065167615784, 0.0006125065167615784, 0.0006125065167615784, 0.9949991826739893, 0.9958066511120249, 0.9976515030427816, 0.0004240552918741184, 0.0012721658756223552, 0.0004240552918741184, 0.0042405529187411846, 0.0004240552918741184, 0.9905931618179407, 0.0004240552918741184, 0.0004240552918741184, 0.9949135750710225, 0.9922235673464099, 0.0024805589183660246, 0.9962768017373074, 0.0456689181698527, 0.0011747631683563394, 0.023788954159215874, 0.01277554945587519, 0.01820882910952326, 0.01585930277281058, 0.05154273401163439, 0.026872707476151263, 0.00014684539604454242, 0.054626487328569784, 0.0706326354974249, 0.03421497727837838, 0.013656621832142446, 0.055948095892970666, 0.04111671089247188, 0.021879964010636823, 0.011307095495429766, 0.006167506633870782, 0.28326476896992236, 0.002790062524846306, 0.04904636227887717, 0.0064611974259598665, 0.0019089901485790516, 0.010572868515207055, 0.011307095495429766, 0.02055835544623594, 0.01820882910952326, 0.008370187574538918, 0.006608042822004409, 0.006901733614093494, 0.004699052673425358, 0.037151885199269236, 0.0005873815841781697, 0.002349526336712679, 0.02408264495130496, 0.9961068340811541, 0.013978117493282012, 0.002150479614351079, 0.0010752398071755395, 0.0010752398071755395, 0.012902877686106474, 0.004300959228702158, 0.9365338720498949, 0.009677158264579854, 0.002150479614351079, 0.0010752398071755395, 0.0010752398071755395, 0.002150479614351079, 0.0032257194215266185, 0.004300959228702158, 0.002150479614351079, 0.9973249801666185, 0.9941877587359769, 0.9946617912890057, 0.01771167775321838, 0.9032955654141372, 0.002530239679031197, 0.002530239679031197, 0.02530239679031197, 0.002530239679031197, 0.002530239679031197, 0.0075907190370935905, 0.002530239679031197, 0.027832636469343166, 0.005060479358062394, 0.9976931533379015, 0.0020523727807837773, 0.0020523727807837773, 0.0041047455615675545, 0.0020523727807837773, 0.0020523727807837773, 0.0041047455615675545, 0.0020523727807837773, 0.0020523727807837773, 0.0020523727807837773, 0.0020523727807837773, 0.4597315028955661, 0.0020523727807837773, 0.0041047455615675545, 0.0041047455615675545, 0.0020523727807837773, 0.0041047455615675545, 0.0041047455615675545, 0.0041047455615675545, 0.36942710054107986, 0.016418982246270218, 0.09646152069683753, 0.9975707932831631, 0.9949674681048549, 0.9920540141198471, 0.9919782758642438, 0.005316882029900235, 0.0007595545757000336, 0.9957108003573699, 0.9965053031945915, 0.9925925451416228, 0.9959975709287759, 0.993918313566523, 0.9954724891965399, 0.9972670162939085, 0.0009960992144954247, 0.00033203307149847497, 0.0009960992144954247, 0.0023242315004893244, 0.0013281322859938999, 0.00033203307149847497, 0.0009960992144954247, 0.00033203307149847497, 0.9818217924209904, 0.00033203307149847497, 0.00033203307149847497, 0.00033203307149847497, 0.0023242315004893244, 0.00033203307149847497, 0.00033203307149847497, 0.00033203307149847497, 0.00033203307149847497, 0.0006640661429969499, 0.0013281322859938999, 0.0019921984289908495, 0.00033203307149847497, 0.00033203307149847497, 0.995664157922802, 0.9935143295944876, 0.002587276899985645, 0.997300124103163, 0.0009004973280623575, 0.9950495475089051, 0.0009004973280623575, 0.0009004973280623575, 0.9919245424941026, 0.0034322648529207704, 0.002709711387635942, 0.001354855693817971, 0.002709711387635942, 0.006774278469089855, 0.9795606666303931, 0.001354855693817971, 0.026453485099087633, 0.9688588917540845, 0.9939070324741632, 0.0005147929922096109, 0.9961244399255971, 0.0025739649610480547, 0.9975322528000854, 0.0004743536884133182, 0.0009487073768266364, 0.0004743536884133182, 0.9966170993563815, 0.9916547192428524, 0.9969246912075062, 0.9980548483314889, 0.9966767539982231, 0.9932616967309196, 0.9982833368646366, 0.9973948398414877, 0.9926392425822509, 0.9934991648099321, 0.9953313753538788, 0.9953160865688508, 0.002023570080954787, 0.004047140161909574, 0.9875021995059359, 0.002023570080954787, 0.002023570080954787, 0.9949944776040435, 0.9968483221030415, 0.04854745912287213, 0.004824592210968658, 0.344355269057888, 0.02321835001528667, 0.00783996234282407, 0.038898274700934814, 0.038295200674563726, 0.012363017540607188, 0.01809222079113247, 0.028947553265811953, 0.011458406501050565, 0.008141499356009612, 0.010553795461493942, 0.011156869487865022, 0.008744573382380693, 0.014775313646091517, 0.003618444158226494, 0.006935351303267447, 0.002412296105484329, 0.0012061480527421646, 0.04432594093827455, 0.01839375780431801, 0.003015370131855412, 0.014473776632905977, 0.00783996234282407, 0.006935351303267447, 0.0051261292241542, 0.04372286691190347, 0.029852164305368575, 0.006332277276896364, 0.016584535725204765, 0.0009046110395566235, 0.037993663661378185, 0.014473776632905977, 0.006935351303267447, 0.03678751560863602, 0.0051261292241542, 0.0027138331186698705, 0.019599905857060177, 0.009046110395566236, 0.021409127936173424, 0.004221518184597576, 0.9925593231263609, 0.0010305983583928043, 0.0010305983583928043, 0.0010305983583928043, 0.9883438256986993, 0.004122393433571217, 0.0010305983583928043, 0.0010305983583928043, 0.9940919381746682, 0.0015495298732170189, 0.0007747649366085094, 0.0007747649366085094, 0.9924738837955005, 0.0007747649366085094, 0.994218296472452, 0.0008475775887700318, 0.9967512443935574, 0.0008475775887700318, 0.997234724121329, 0.0038420942693403624, 0.9912603214898135, 0.9960819251178524, 0.9935074449653135, 0.993569667936128, 0.9973064830060698, 0.0011352125741365443, 0.9978518526660224, 0.9939444956376113, 0.9965714729743639, 0.994753526122826, 0.9974791101027188, 0.002684414631362026, 0.0004474024385603377, 0.0004474024385603377, 0.1127454145172051, 0.001342207315681013, 0.0004474024385603377, 0.0004474024385603377, 0.8791457917710636, 0.9970422760086444, 0.0006537982137761602, 0.0003268991068880801, 0.0003268991068880801, 0.0003268991068880801, 0.0003268991068880801, 0.0003268991068880801, 0.0006439354763462655, 0.9955242464313265, 0.0006439354763462655, 0.0006439354763462655, 0.9936578864214196, 0.9930116478850218, 0.0026693861502285533, 0.00045129316647341596, 0.9982604842391961, 0.0033699493896261474, 0.9907651205500873, 0.995225142741426, 0.9959759420623838, 0.9953403263679588, 0.9960661860204694, 0.004469481330875511, 0.9922248554543633, 0.9904287198751457, 0.003144218158333796, 0.003144218158333796, 0.0005423199101879634, 0.0005423199101879634, 0.0021692796407518536, 0.0010846398203759268, 0.0005423199101879634, 0.994072395374537, 0.0025892701340649105, 0.9942797314809256, 0.9910287141437569, 0.009804948542456756, 0.005882969125474053, 0.06863463979719729, 0.001960989708491351, 0.005882969125474053, 0.003921979416982702, 0.01960989708491351, 0.01960989708491351, 0.001960989708491351, 0.011765938250948106, 0.003921979416982702, 0.009804948542456756, 0.8353816158173155, 0.001960989708491351, 0.9970349253057335, 0.00765579868051999, 0.9850460968935721, 0.0025519328935066634, 0.9928296171361085, 0.9953665399928283, 0.9961610039208271, 0.995080176273271, 0.9928523596931942, 0.002753752432430505, 0.002753752432430505, 0.9913508756749817, 0.0010670303499018766, 0.0010670303499018766, 0.0010670303499018766, 0.0010670303499018766, 0.00320109104970563, 0.0010670303499018766, 0.985936043309334, 0.0010670303499018766, 0.0010670303499018766, 0.0010670303499018766, 0.0010670303499018766, 0.0010670303499018766, 0.9975163293091952, 0.9935351962844491, 0.9951036544666709, 0.9964876044513801, 0.9903765268224839, 0.9946524246382644, 0.9955428912123008, 0.9949731742678973, 0.9977577714803455, 0.9964987977147606, 0.9946624157575117, 0.9970587556538738, 0.9977071145142055, 0.007895684327057027, 0.27664138419984996, 0.05819411781793883, 0.06842926416782757, 0.000584865505707928, 0.02778111152112658, 0.00438649129280946, 0.03538436309532964, 0.0017545965171237839, 0.000292432752853964, 0.000292432752853964, 0.08509793108050352, 0.011112444608450631, 0.032752468319643964, 0.018715696182653695, 0.06141087809933244, 0.030997871802520182, 0.005263789551371352, 0.000584865505707928, 0.0017545965171237839, 0.00146216376426982, 0.009357848091326847, 0.01023514634988874, 0.003216760281393604, 0.0020470292699777477, 0.02339462022831712, 0.0017545965171237839, 0.030413006296812255, 0.0035091930342475678, 0.022224889216901262, 0.023979485734025047, 0.012282175619866487, 0.03362976657820586, 0.001169731011415856, 0.006433520562787208, 0.013744339384136307, 0.016961099665529913, 0.03596922860103757, 0.000292432752853964, 0.017253532418383875, 0.0020470292699777477, 0.021745198443004956, 0.9756975997035268, 0.996976863339396, 0.010605847248957002, 0.025361808638810227, 0.009222475868658264, 0.006916856901493697, 0.006455733108060784, 0.0018444951737316528, 0.0018444951737316528, 0.011989218629255742, 0.010605847248957002, 0.01890607553074944, 0.005994609314627871, 0.0036889903474633056, 0.024900684845377313, 0.01844495173731653, 0.009222475868658264, 0.005533485521194958, 0.007839104488359524, 0.007377980694926611, 0.016600456563584873, 0.01567820897671905, 0.007377980694926611, 0.008300228281792436, 0.014294837596420308, 0.002766742760597479, 0.012450342422688656, 0.003227866554030392, 0.012911466216121568, 0.6713962432383216, 0.005994609314627871, 0.021211694497914005, 0.012911466216121568, 0.007377980694926611, 0.0018444951737316528, 0.9953412990038601, 0.9980521812133997, 0.9973836320913076, 0.013208971497175656, 0.002201495249529276, 0.9818668812900572, 0.995911804530822, 0.996791201755375, 0.9956997691162774, 0.994009947854499, 0.0014343577891118313, 0.0014343577891118313, 0.9982271747437037, 0.9916380770556051, 0.9956592909864569, 0.017349381994531066, 0.061008815804944404, 0.008388712173179855, 0.012583068259769783, 0.0602462056073826, 0.01048589021647482, 0.01048589021647482, 0.06939752797812426, 0.008388712173179855, 0.0066728392286657945, 0.00038130509878090253, 0.02421287377258731, 0.16434249757456898, 0.07721428250313277, 0.0076261019756180505, 0.07321057896593329, 0.02573809416771092, 0.004956966284151733, 0.03469876398906213, 0.03164832319881491, 0.004956966284151733, 0.002097178043294964, 0.002859788240856769, 0.03927442517443296, 0.0024784831420758663, 0.00019065254939045127, 0.018302644741483323, 0.0038130509878090252, 0.03241093339637672, 0.009151322370741661, 0.0061008815804944405, 0.004956966284151733, 0.008198059623789404, 0.017730687093311968, 0.015442856500626552, 0.0059102290311039895, 0.007244796876837148, 0.004956966284151733, 0.008579364722570306, 0.029551145155519945, 0.018302644741483323, 0.010676542765865271, 0.004194356086589928, 0.025166136519539566, 0.008388712173179855, 0.00040084402209587973, 0.0008016880441917595, 0.001202532066287639, 0.00040084402209587973, 0.001202532066287639, 0.00040084402209587973, 0.00040084402209587973, 0.006814348375629955, 0.00040084402209587973, 0.001202532066287639, 0.0008016880441917595, 0.00040084402209587973, 0.0036075961988629173, 0.001202532066287639, 0.0020042201104793988, 0.9315615073508244, 0.001202532066287639, 0.00040084402209587973, 0.044092842430546765, 0.00040084402209587973, 0.0008016880441917595, 0.9932507306962183, 0.9953650289510738, 0.0019890592551400172, 0.0019890592551400172, 0.9905515090597287, 0.0019890592551400172, 0.9953995845119856, 0.0006189412124608603, 0.0006189412124608603, 0.0006189412124608603, 0.0006189412124608603, 0.0006189412124608603, 0.0006189412124608603, 0.9946385284246027, 0.9945823441834628, 0.0010041206699284509, 0.015061810048926764, 0.0010041206699284509, 0.0010041206699284509, 0.9790176531802397, 0.0020082413398569018, 0.9976887499795936, 0.9933554136879259, 0.006025422916511696, 0.9911820697661741, 0.9930246754105448, 0.9920831908049522, 0.9920643606890697, 0.0013769992865344763, 0.0027539985730689527, 0.0013769992865344763, 0.009638995005741335, 0.9818004912990816, 0.0013769992865344763, 0.9928919953016383, 0.9968360475243981, 0.9939985788423471, 0.04444671678095267, 0.010444978443523876, 0.028890365907619234, 0.014445182953809617, 0.010889445611333403, 0.014889650121619144, 0.004222438094190504, 0.03466843908914308, 0.00266680300685716, 0.01466741653771438, 0.025112394981238257, 0.03000153382714305, 0.01466741653771438, 0.018889854631904884, 0.014889650121619144, 0.03777970926380977, 0.022445591974381097, 0.01200061353085722, 0.023334526310000152, 0.011556146363047694, 0.0400020451028574, 0.022223358390476334, 0.01200061353085722, 0.013111781450381037, 0.03422397192133356, 0.021778891222666807, 0.012445080698666747, 0.023556759893904912, 0.01600081804114296, 0.03422397192133356, 0.031779402498381154, 0.061558702741619446, 0.011111679195238167, 0.013334015034285801, 0.023778993477809676, 0.020889956887047752, 0.0648922065001909, 0.011778379946952456, 0.011111679195238167, 0.00800040902057148, 0.02466792781342873, 0.03755747567990501, 0.021778891222666807, 0.00933381052400006, 0.02800143157200018, 0.003242906162236367, 0.9955721918065646, 0.9944244409355489, 0.9926924946226423, 0.0038069026955854374, 0.0038069026955854374, 0.9859877981566282, 0.9970638905361205, 0.0031116691888819163, 0.0031116691888819163, 0.0031116691888819163, 0.9863991328755675, 0.9967100522340817, 0.0036563708881451598, 0.0091409272203629, 0.0036563708881451598, 0.0018281854440725799, 0.9780792125788302, 0.9906346021737201, 0.994884222168685, 0.9982907052816893, 0.9961708078264195, 0.9962535507089869, 0.9966661332041101, 0.9982953919539034, 0.995950361235663, 0.024609166727589418, 0.972062085739782, 0.9966381204777057, 0.0010535286685810843, 0.021148439448703028, 0.003524739908117171, 0.021148439448703028, 0.9481550352835191, 0.0007726475332128584, 0.0001931618833032146, 0.9752743487979306, 0.0013521331831225023, 0.0005794856499096438, 0.0001931618833032146, 0.0015452950664257168, 0.0001931618833032146, 0.0001931618833032146, 0.0005794856499096438, 0.0007726475332128584, 0.0007726475332128584, 0.0032837520161546484, 0.0003863237666064292, 0.0003863237666064292, 0.0005794856499096438, 0.0001931618833032146, 0.0011589712998192876, 0.001931618833032146, 0.0063743421490060825, 0.0017384569497289316, 0.0003863237666064292, 0.0003863237666064292, 0.0001931618833032146, 0.9950939464832793, 0.9921420006207508, 0.002970485031798655, 0.005099132786464771, 0.015297398359394313, 0.005609046065111248, 0.0005099132786464771, 0.0010198265572929541, 0.8908184977953955, 0.0005099132786464771, 0.0010198265572929541, 0.004589219507818294, 0.0035693929505253397, 0.04538228179953646, 0.0005099132786464771, 0.0020396531145859082, 0.008158612458343633, 0.0025495663932323855, 0.0020396531145859082, 0.0015297398359394314, 0.0010198265572929541, 0.0010198265572929541, 0.003059479671878863, 0.0005099132786464771, 0.0025495663932323855, 0.0010198265572929541, 0.9934916048467844, 0.996682022760025, 0.9930876067971942, 0.0025861656427010266, 0.9959965730262258, 0.9935512311133874, 0.001323659081873643, 0.0008824393879157621, 0.001323659081873643, 0.9909794326294008, 0.00044121969395788103, 0.00044121969395788103, 0.001323659081873643, 0.0017648787758315241, 0.9959119770530274, 0.002030633038037315, 0.9950101886382844, 0.9970082337260665, 0.9967999523471096, 0.9937539015384345, 0.995333111085547, 0.9942699765009448, 0.0026468108356893063, 0.99255406338349, 0.9977352902939198, 0.7972148876913469, 0.0016574114089217189, 0.19723195766168455, 0.0016574114089217189, 0.9948018710649357, 0.001869928329069428, 0.9961856235738484, 0.9905802227643872, 0.9933711137188344, 0.001579286349314522, 0.9951833361473822, 0.0022983448871764026, 0.9972520749884953, 0.0014569080959934062, 0.0007284540479967031, 0.9957966836114931, 0.0037038180258692826, 0.02592672618108498, 0.005555727038803924, 0.0018519090129346413, 0.0018519090129346413, 0.9407697785707978, 0.007407636051738565, 0.0037038180258692826, 0.0018519090129346413, 0.9970755965490048, 0.9967572759161997, 0.9910806081466019, 0.9953517271589235, 0.9971160611955371, 0.9929673894456716, 0.004153256419126842, 0.9926282841713152, 0.994690956527803, 0.9956552135848258, 0.0038051291528247563, 0.9741130631231376, 0.015220516611299025, 0.0038051291528247563, 0.0038051291528247563, 0.9944217618751184, 0.005011288205705584, 0.002505644102852792, 0.005011288205705584, 0.002505644102852792, 0.9797068442154415, 0.9980400667976169, 0.9939391540031319, 0.0027010457267791243, 0.9966858731814968, 0.0005818242317954522, 0.0005818242317954522, 0.0005818242317954522, 0.0005818242317954522, 0.0005818242317954522, 0.0005818242317954522, 0.0005818242317954522, 0.9937557879066323, 0.0005818242317954522, 0.005665054288667741, 0.9913845005168547, 0.9938820180224262, 0.9955626674218934, 0.9977842587688107, 0.9920982932210984, 0.0002967688582773253, 0.0002967688582773253, 0.0002967688582773253, 0.0035612262993279034, 0.0005935377165546506, 0.0014838442913866264, 0.9976680578206709, 0.0024676220473479346, 0.9944516850812177, 0.9958160542045077, 0.0030178754659533217, 0.9928810282986429, 0.9981654498692152, 0.9965239271524349, 0.9895725015753931, 0.9965037356458258, 0.9937048324376785, 0.9952459541831112, 0.9910716762462004, 0.0014286633596664552, 0.9957783616875192, 0.9958624897939101, 0.996046941775124, 0.9939812419050317, 0.990479671074136, 0.007532164799042859, 0.9954980577536479, 0.9828171916807119, 0.011888917641298935, 0.993678272879458, 0.9971789795436449, 0.002395529507478036, 0.001197764753739018, 0.9893536865884289, 0.001197764753739018, 0.001197764753739018, 0.9921026264206783, 0.005636946741026581, 0.9981724147981913, 0.0005857819335670137, 0.9952548445969724, 0.9964545538821588, 0.995892601916795, 0.9948002685991868, 0.9978586252929363, 0.9965995936973053, 0.9229337906304274, 0.005461146690120872, 0.0682643336265109, 0.9958503108448209, 0.007354052639819643, 0.989120080055742, 0.9943857357941507, 0.9961557421714782, 0.0027612239669998584, 0.9940406281199491, 0.0027612239669998584, 0.9931873346640319, 0.9954827481905293, 0.0006021936520357633, 0.0006021936520357633, 0.9978348814232597, 0.9964852850647091, 0.9967975332888224, 0.00147020285145844, 0.9952860302165573, 0.9926053892893734, 0.9578227800442507, 0.023813273537011757, 0.013229596409450976, 0.0007897357463420101, 0.0007897357463420101, 0.9942773046445906, 0.0007897357463420101, 0.9971808197717418, 0.9971417594521682, 0.987769179765272, 0.0016353794366974702, 0.0016353794366974702, 0.0016353794366974702, 0.0016353794366974702, 0.0016353794366974702, 0.9963553215397635, 0.9985545998354145, 0.9910285459375703, 0.9975813958608667, 0.9961034026390585, 0.9978262413636286, 8.806780636003737e-05, 8.806780636003737e-05, 8.806780636003737e-05, 0.00017613561272007474, 8.806780636003737e-05, 8.806780636003737e-05, 8.806780636003737e-05, 0.998865059735544, 8.806780636003737e-05, 8.806780636003737e-05, 8.806780636003737e-05, 0.0004262178696600769, 0.0004262178696600769, 0.0004262178696600769, 0.0004262178696600769, 0.0004262178696600769, 0.0004262178696600769, 0.0008524357393201538, 0.0004262178696600769, 0.0012786536089802309, 0.0025573072179604617, 0.0004262178696600769, 0.9909565469596789, 0.0004262178696600769, 0.9660654310163773, 0.0065274691284890355, 0.0021758230428296785, 0.0065274691284890355, 0.004351646085659357, 0.0021758230428296785, 0.0065274691284890355, 0.0021758230428296785, 0.0021758230428296785, 0.9958313733377604, 0.9941552929186636, 0.00205420012582502, 0.9942328608993097, 0.9927163710607267, 0.996210193177541, 0.9945841756477288, 0.9920646715885273, 0.0037578207257141184, 0.9955654818124621, 0.9949855027022585, 0.9979137527963737, 0.9971205555093302, 0.9972147304080073, 0.004724673323420505, 0.9921813979183061, 0.9949767504913862, 0.9944356434370931, 0.002995288082641847, 0.9959593495032263, 0.9820395026477965, 0.0036780505717145936, 0.0036780505717145936, 0.9935575477873416, 0.9964956694925472, 0.9950382278977815, 0.0010070893530576372, 0.0010070893530576372, 0.9950042808209456, 0.998854502891602, 0.9959503382019279, 0.991126563542999, 0.9909193823816147, 0.9980538454067069, 0.00038298305656435416, 0.00038298305656435416, 0.00038298305656435416, 0.9945986122264162, 0.9954038158448533, 0.9988620401303081, 0.9950522842030197, 0.0052075021371249955, 0.0026037510685624978, 0.9816141528480616, 0.9972775164098759, 0.0015497708102717575, 0.9932252706345078, 0.996925354024269, 0.9931063895137127, 0.0014162749039214606, 0.9970575323607083, 0.0011096808991665702, 0.9953837665524136, 0.0011096808991665702, 0.0011096808991665702, 0.9826777098733456, 0.003365334622853923, 0.003365334622853923, 0.003365334622853923, 0.9917459182745966, 0.9942701855135375, 0.0032492489722664624, 0.0016246244861332312, 0.9958952673387753, 0.9916404491178163, 0.9957495890083401, 0.0026985083712963145, 0.9950804129168774, 0.009020683206489966, 0.9832544695074064, 0.9939848012648917, 0.0027953255280735475, 0.995135887994183, 0.007095134679828647, 0.0014190269359657293, 0.034056646463177506, 0.9493290201610729, 0.004257080807897188, 0.9967965915567619, 0.9958406880913561, 0.9418897998856243, 0.012031439049633887, 0.0017187770070905552, 0.0034375540141811105, 0.01718777007090555, 0.005156331021271666, 0.0017187770070905552, 0.005156331021271666, 0.0034375540141811105, 0.0017187770070905552, 0.022448372487245016, 0.03687946908618824, 0.0008017275888301791, 0.03166823975879208, 0.01843973454309412, 0.02806046560905627, 0.06373734331199923, 0.008418139682716881, 0.011625050038037597, 0.005211229327396164, 0.0016034551776603582, 0.020444053515169567, 0.26777701466927983, 0.017237143159848853, 0.021245781103999748, 0.007215548299471612, 0.028862193197886448, 0.04770279153539566, 0.00881900347713197, 0.010422458654792329, 0.005612093121811254, 0.034474286319697706, 0.03567687770294297, 0.028862193197886448, 0.005612093121811254, 0.006413820710641433, 0.01763800695426394, 0.004409501738565985, 0.10502631413675347, 0.04409501738565985, 0.037681196675018416, 0.014831960393358315, 0.00040086379441508954, 0.0018461073647762405, 0.9968979769791698, 0.9954410079909503, 0.0019127808949247886, 0.0063759363164159625, 0.0006375936316415962, 0.0012751872632831924, 0.0019127808949247886, 0.0012751872632831924, 0.0006375936316415962, 0.9850821608862662, 0.0006375936316415962, 0.9985868703379063, 0.7921074693962037, 0.0008103401221444538, 0.00526721079393895, 0.0008103401221444538, 0.0004051700610722269, 0.0004051700610722269, 0.19286094907038, 0.0004051700610722269, 0.0032413604885778153, 0.0008103401221444538, 0.0012155101832166807, 0.0004051700610722269, 0.9939623996825958, 0.9953233713135865, 0.9912378941290061, 0.005872262405977524, 0.996938261596248, 0.995224915030975, 0.9906404233158672, 0.0009276618755604517, 0.0027829856266813552, 0.0009276618755604517, 0.0018553237511209034, 0.0009276618755604517, 0.9907428830985624, 0.9924337957774042, 0.9877084687671748, 0.0007789498965040811, 0.0007789498965040811, 0.0015578997930081621, 0.0007789498965040811, 0.0007789498965040811, 0.0007789498965040811, 0.0031157995860163243, 0.0007789498965040811, 0.0007789498965040811, 0.0007789498965040811, 0.012642748327558873, 0.0031606870818897182, 0.0031606870818897182, 0.0031606870818897182, 0.0031606870818897182, 0.0063213741637794365, 0.0031606870818897182, 0.0031606870818897182, 0.0031606870818897182, 0.009482061245669155, 0.0031606870818897182, 0.0031606870818897182, 0.0031606870818897182, 0.0031606870818897182, 0.0031606870818897182, 0.9355633762393566, 0.996596355777386, 0.9974464567735479, 0.007109839357288196, 0.006094148020532739, 0.9547498565501291, 0.013203987377820935, 0.0010156913367554566, 0.015235370051331848, 0.9968833365190097, 0.9962108857410993, 0.996388070977754, 0.9954590684032019, 0.8722075856245491, 0.12126950388362714, 0.002332105843915907, 0.9971298413966592, 0.9964208824147242, 0.0012831586430884214, 0.9854658378919077, 0.00898211050161895, 0.0012831586430884214, 0.9932667313481478, 0.0017244214085905343, 0.0017244214085905343, 0.004918092946644186, 0.001092909543698708, 0.0475415651508938, 0.031694376767262535, 0.034973105398358656, 0.09071149212699277, 0.03934474357315349, 0.029508557679865117, 0.001092909543698708, 0.026776283820618346, 0.01639364315548062, 0.00819682157774031, 0.028962102908015763, 0.026776283820618346, 0.24918337596330545, 0.019672371786576746, 0.007650366805890956, 0.00546454771849354, 0.058470660587880884, 0.015300733611781912, 0.001092909543698708, 0.004918092946644186, 0.004371638174794832, 0.03661246971390672, 0.03114792199541318, 0.03606601494205736, 0.00928973112143902, 0.01803300747102868, 0.05737775104418217, 0.03278728631096124, 0.007103912034041602, 0.01803300747102868, 0.9944594849729196, 0.9940341845634169, 0.001177806368376091, 0.9964241876461729, 0.994149600305865, 0.003634916271685064, 0.9950673192792491, 0.0010585822545523926, 0.0010585822545523926, 0.0010585822545523926, 0.020637345369137895, 0.969955232349481, 0.002211144146693346, 0.0007370480488977819, 0.00368524024448891, 0.0007370480488977819, 0.004715476969393567, 0.992607902057346, 0.9977479762909215, 0.000508018317867068, 0.0023453839571821945, 0.9827158780593395, 0.007036151871546583, 0.9959065006971404, 0.9967171025502812, 0.9923670419371363, 0.993777791917199, 0.0037403376650750626, 0.9949298189099667, 0.035943611660535106, 0.0017971805830267553, 0.0017971805830267553, 0.014377444664214043, 0.0017971805830267553, 0.0035943611660535107, 0.0017971805830267553, 0.012580264081187287, 0.010783083498160533, 0.0323492504944816, 0.0017971805830267553, 0.008985902915133777, 0.007188722332107021, 0.007188722332107021, 0.0035943611660535107, 0.0017971805830267553, 0.8392833322734947, 0.008985902915133777, 0.9915986008873631, 0.0029284016121279427, 0.9927281465113725, 0.018661831054915583, 0.9766358252072488, 0.9951479469894041, 0.0019666955474098896, 0.0019666955474098896, 0.9950708329987977, 0.0010867040984821824, 0.9975943624066436, 0.9966728383257145, 0.9954784666649118, 0.00273622685390109, 0.9932503479660957, 0.00273622685390109, 0.9984210217796623, 0.0009665256745204863, 0.9932038695583167, 0.997473781293877, 0.9976981805829723, 0.9890881232986756, 0.004037094380810921, 0.9962345221482352, 0.9952763304302501, 0.9970445002808486, 0.9953272693760363, 0.001635373895957834, 0.001635373895957834, 0.9926719548464052, 0.991486231990841, 0.9971561833455249, 0.04528359742987859, 0.000665935256321744, 0.15316510895400112, 0.002663741025286976, 0.001331870512643488, 0.022641798714939296, 0.6832495729861093, 0.008657158332182672, 0.022641798714939296, 0.000665935256321744, 0.000665935256321744, 0.002663741025286976, 0.011986834613791391, 0.004661546794252208, 0.010654964101147904, 0.002663741025286976, 0.001997805768965232, 0.011986834613791391, 0.004661546794252208, 0.00665935256321744, 0.9914581968132491, 0.9591101803455936, 0.0016930453315897502, 0.0008465226657948751, 0.0016930453315897502, 0.0033860906631795005, 0.0016930453315897502, 0.005079135994769251, 0.0008465226657948751, 0.0008465226657948751, 0.0016930453315897502, 0.0025395679973846254, 0.012697839986923127, 0.0016930453315897502, 0.005079135994769251, 0.9953507223550432, 0.0020790597533367496, 0.9958696218483031, 0.0006988235500067374, 0.0006988235500067374, 0.0006988235500067374, 0.995124735209594, 0.0006988235500067374, 0.9964417780961864, 0.0010119014515900353, 0.003035704354770106, 0.003035704354770106, 0.0010119014515900353, 0.0010119014515900353, 0.9825563094939243, 0.0010119014515900353, 0.0020238029031800706, 0.003035704354770106, 0.0010119014515900353, 0.9919047744133326, 0.014952863660193941, 0.031352778642342136, 0.06994081389445554, 0.015435214100845359, 0.0009647008813028349, 0.023635171591919458, 0.012541111456936855, 0.00964700881302835, 0.004341153965862757, 0.02508222291387371, 0.0019294017626056699, 0.008682307931725515, 0.1760579108377674, 0.03810568481146198, 0.016399914982148194, 0.022670470710616623, 0.06994081389445554, 0.026046923795176546, 0.04244683877732474, 0.011094060134982603, 0.014952863660193941, 0.015917564541496777, 0.01157641057563402, 0.012058761016285438, 0.016399914982148194, 0.002894102643908505, 0.02122341938866237, 0.027976325557782216, 0.008682307931725515, 0.013988162778891108, 0.01157641057563402, 0.006270555728468428, 0.008199957491074097, 0.008682307931725515, 0.02701162467647938, 0.010611709694331185, 0.0014470513219542525, 0.013023461897588273, 0.043411539658627575, 0.033764530845599224, 0.03279982996429639, 0.0014470513219542525, 0.027976325557782216, 0.006752906169119845, 0.9832991077082415, 0.002341188351686289, 0.002341188351686289, 0.002341188351686289, 0.004682376703372578, 0.002341188351686289, 0.9986890408877062, 0.013686286386408958, 0.0007203308624425767, 0.9839719580965598, 0.9973483313003381, 0.0004104314120577523, 0.0008208628241155046, 0.0004104314120577523, 0.9966314400642496, 0.9924380744921791, 0.011702701585607076, 0.9830269331909944, 0.002925675396401769, 0.9984732505953127, 0.9953932139445627, 0.004571049756067152, 0.9873467473105048, 0.002331783273268718, 0.993339674412474, 0.99764070819942, 0.993916900173182, 0.009725252364761797, 0.0008104376970634831, 0.0008104376970634831, 0.0008104376970634831, 0.0008104376970634831, 0.0008104376970634831, 0.0008104376970634831, 0.962799984111418, 0.0008104376970634831, 0.0008104376970634831, 0.0008104376970634831, 0.010535690061825281, 0.0008104376970634831, 0.0008104376970634831, 0.0008104376970634831, 0.0008104376970634831, 0.0032417507882539325, 0.0024313130911904493, 0.9986729019363424, 0.9956657595862304, 0.001777974570689697, 0.001777974570689697, 0.9960866368765081, 0.9988040783545915, 0.9968935742609575, 0.0025037105126399168, 0.9939730735180469, 0.0025037105126399168, 0.995309217268508, 0.9962907597335985, 0.9972586549019287, 0.9994997120113838, 0.9991680698312039, 0.9971732423456805, 0.02134362458773087, 0.0011857569215406039, 0.9723206756632952, 0.0011857569215406039, 0.0011857569215406039, 0.9982402468582452, 0.9904041435144431, 0.004441274186163422, 0.00032236489898235823, 0.9967522676534516, 0.00032236489898235823, 0.00032236489898235823, 0.00032236489898235823, 0.00032236489898235823, 0.00032236489898235823, 0.9972308901441782, 0.9962999046126861, 0.9977452301186861, 0.9937991433951309, 0.9915723856578519, 0.0010279310417522767, 0.0020558620835045534, 0.9940093173744515, 0.9968867485018899, 0.0009395728072590856, 0.9962553647335118, 0.9965599671093148, 0.0011835629063055996, 0.994596229257959, 0.9977721430010247, 0.992641727593489, 0.992965409676715, 0.9966896758649367, 0.9951231321697159, 0.000381102371640164, 0.00025406824776010934, 0.0005081364955202187, 0.000381102371640164, 0.001143307114920492, 0.00012703412388005467, 0.9927716781226272, 0.00012703412388005467, 0.0005081364955202187, 0.00012703412388005467, 0.0006351706194002733, 0.00012703412388005467, 0.00012703412388005467, 0.00012703412388005467, 0.000762204743280328, 0.00012703412388005467, 0.00012703412388005467, 0.000381102371640164, 0.00012703412388005467, 0.00012703412388005467, 0.00012703412388005467, 0.00012703412388005467, 0.00012703412388005467, 0.000381102371640164, 0.00012703412388005467, 0.9906860986595801, 0.0036965899203715677, 0.9936191777063429, 0.9980189561850715, 0.998361079010069, 0.9950790929354119, 0.0028974461010762937, 0.9938240126691688, 0.9924778581179866, 0.002551356961742896, 0.9978707640559916, 0.9966154576051093, 0.9982250481272361, 0.9973538394206584, 0.0037758580492868983, 0.9930506669624543, 0.9960689210917112, 0.9974302825265277, 0.9911786096110894, 0.9970078454147356, 0.9972947547456483, 0.9956516227874144, 0.9957370189527804, 0.00047930401228495474, 0.00047930401228495474, 0.00047930401228495474, 0.00047930401228495474, 0.001917216049139819, 0.0043137361105645925, 0.00047930401228495474, 0.001917216049139819, 0.00047930401228495474, 0.9820939211718722, 0.00047930401228495474, 0.00047930401228495474, 0.0014379120368548642, 0.00047930401228495474, 0.0009586080245699095, 0.00047930401228495474, 0.0009586080245699095, 0.00047930401228495474, 0.00047930401228495474, 0.9967708525272667, 0.9959936359315501, 0.9985089619686813, 0.9965041673623851, 0.9962888424916471, 0.021302031351285493, 0.06166377496424748, 0.021302031351285493, 0.008969276358435996, 0.002242319089608999, 0.002242319089608999, 0.015696233627262995, 0.010090435903240496, 0.05942145587463848, 0.015696233627262995, 0.08969276358435997, 0.004484638179217998, 0.02466550998569899, 0.007848116813631498, 0.0011211595448044995, 0.10426783766681846, 0.03924058406815749, 0.007848116813631498, 0.004484638179217998, 0.0033634786344134988, 0.022423190896089993, 0.052694498605811484, 0.033634786344134984, 0.038119424523352985, 0.2836533648355384, 0.013453914537653995, 0.0033634786344134988, 0.04372522224737548, 0.0011211595448044995, 0.0028353381062384956, 0.995203675289712, 0.002845998704101303, 0.9932535477313547, 0.9973837042475963, 0.0006278935357971632, 0.0012557870715943263, 0.992699680095315, 0.0006278935357971632, 0.0006278935357971632, 0.0006278935357971632, 0.0006278935357971632, 0.0006278935357971632, 0.9948985805916984, 0.9965793205965133, 0.9954093955184707, 0.991959822953701, 0.9974367112551062, 0.9948702436185628, 0.003754227334409671, 0.0002848966251442794, 0.0017093797508656765, 0.9962834981295452, 0.0002848966251442794, 0.0002848966251442794, 0.9954590879960693, 0.9945282545241586, 0.0016447729503629902, 0.9950876349696091, 0.010141153226737889, 0.9735507097668373, 0.013521537635650518, 0.9948699368337153, 0.0017072248814043636, 0.0017072248814043636, 0.9936048809773397, 0.9930007314052265, 0.0002865246659972388, 0.9979654116683828, 0.0005730493319944777, 0.0002865246659972388, 0.9912811988624687, 0.994831445858803, 0.9928965800659446, 0.995639866217555, 0.9917591388219726, 0.9933461423322193, 0.0020212602071186135, 0.9964812821094765, 0.9460547841114628, 0.0516616946955065, 0.9972288920446999, 0.0009153692231270414, 0.9968370839853481, 0.004246150089803693, 0.9893529709242604, 0.004246150089803693, 0.9965594412649104, 0.0030443682121580047, 0.9894196689513515, 0.0030443682121580047, 0.9984295295130625, 0.0030562281275012286, 0.9932741414378994, 0.9973045627460922, 0.995925280599455, 0.9958735910119593, 0.9914121325145999, 0.9966677317675017, 0.01761725113755986, 0.0029362085229266434, 0.00880862556877993, 0.011744834091706574, 0.005872417045853287, 0.0029362085229266434, 0.9102246421072594, 0.005872417045853287, 0.005872417045853287, 0.014681042614633216, 0.00880862556877993, 0.9927430353687434, 0.9923984402266113, 0.9968069779736256, 0.0009616676013265634, 0.0009616676013265634, 0.9962876349743197, 0.9955840454663574, 0.9937692424268574, 0.001389887052345255, 0.001389887052345255, 0.001389887052345255, 0.9978551800637793, 0.9779638014241778, 0.018839933127260868, 0.0005769928677999742, 0.0005769928677999742, 0.0001923309559333247, 0.0001923309559333247, 0.0001923309559333247, 0.2958050102254534, 0.7014309962888352, 0.0001923309559333247, 0.998207191644238, 0.9938484975455127, 0.9920793006033769, 0.0028332371300759237, 0.9916329955265734, 0.9960561253785931, 0.9931214701409927, 0.9967054321516032, 0.9970838285093516, 0.9976509081868766, 0.9927812013344179, 0.0029903048232964393, 0.0026684088723604974, 0.9520882856582256, 0.043228223732240056, 0.0005336817744720995, 0.9962653407050287, 0.005290617315868713, 0.011793915454700593, 0.055985431326799485, 0.039221902303485136, 0.010153229635397486, 0.03346761290824816, 0.03501318650614239, 0.007537643546653403, 0.02351649674334453, 0.02241081716946635, 0.07611355518245282, 0.015741072643168937, 0.03520341094896014, 0.017928653735573077, 0.03400261915367308, 0.015360623757533434, 0.014266833211331362, 0.026738423243570196, 0.040838810067436025, 0.0454517528057665, 0.03689165287896768, 0.013434601274003699, 0.01608585444577611, 0.010022450330960282, 0.00807264979207833, 0.014635393069290755, 0.004838834264176554, 0.010188896718425815, 0.01342271224632759, 0.011532356845826184, 0.01521795542542012, 0.03907923397137182, 0.011449133652093418, 0.006538965221860208, 0.01496828584422182, 0.011900916703785578, 0.013791272104286984, 0.012150586284983876, 0.009047550061519305, 0.014017163630133063, 0.00964200144532478, 0.006669744526297412, 0.009939227137227516, 0.03198148444873447, 0.00872654631426435, 0.014659171124642975, 0.012887706000902664, 0.016490081386763833, 0.007180972716370119, 0.02847422128428218, 0.9969355099540054, 0.002601928178793685, 0.002601928178793685, 0.002601928178793685, 0.0078057845363810555, 0.00520385635758737, 0.002601928178793685, 0.9575095697960762, 0.002601928178793685, 0.002601928178793685, 0.9938311710822062, 0.9971640165688044, 0.005876367217646324, 0.992714301967719, 0.9950420321035213, 0.7215484499882565, 0.09580499146278064, 0.04434402461991561, 0.0005474570940730322, 0.0038321996585112257, 0.004379656752584258, 0.005474570940730322, 0.0016423712822190967, 0.0010949141881460645, 0.00985422769331458, 0.002189828376292129, 0.0016423712822190967, 0.0005474570940730322, 0.0010949141881460645, 0.00492711384665729, 0.06131519453617961, 0.019160998292556127, 0.0005474570940730322, 0.014233884445898837, 0.0032847425644381935, 0.002189828376292129, 0.989140683497266, 0.005419948950669951, 0.007569706418780889, 0.0037848532093904446, 0.007569706418780889, 0.9745997014180394, 0.0018924266046952223, 0.0018924266046952223, 0.9933920380706807, 0.9964742086502623, 0.9919597460151669, 0.005166457010495661, 0.9988804191946475, 0.995658153392514, 0.9968156714467665, 0.9940394005927037, 0.9923234441358144, 0.9982171629245605, 0.9980444452607743, 0.9943885976859753, 0.9975525320449946, 0.993267979779199, 0.9900754928837835, 0.9900383444843854, 0.9944254062319049, 0.9968942713980313, 0.0018564139132179356, 0.9966060770159254, 0.0003540508375103187, 0.0003540508375103187, 0.9980693109415884, 0.0003540508375103187, 0.9950860614353235, 0.9942951943410195, 0.9974854317492655, 0.9935796691333443, 0.005359350694604811, 0.9923731036176574, 0.001978759737945137, 0.9933373884484589, 0.001978759737945137, 0.9981146253293459, 0.9927998572642024, 0.0002740610217928793, 0.0002740610217928793, 0.0002740610217928793, 0.9978561803478736, 0.0002740610217928793, 0.9976445565531257, 0.9971604257104245, 0.0006724880713627635, 0.0006724880713627635, 0.0006724880713627635, 0.001344976142725527, 0.001344976142725527, 0.0006724880713627635, 0.0006724880713627635, 0.992592393331439, 0.004722523722956198, 0.007083785584434296, 0.9846461962363672, 0.9967886412050874, 0.9969686557329313, 0.0019026119384216245, 0.9958870908901808, 0.9973661836589555, 0.8840862416453334, 0.07652942918635315, 0.007995612004544359, 0.00114223028636348, 0.02741352687272352, 0.9792847002418049, 0.004970988326100533, 0.012427470815251331, 0.001000251657050711, 0.9952503987654573, 0.001000251657050711, 0.9943344271496237, 0.9943991638479268, 0.01134692629280291, 0.0037823087642676373, 0.0018911543821338187, 0.0037823087642676373, 0.0510611683176131, 0.0018911543821338187, 0.8245433106103449, 0.0018911543821338187, 0.005673463146401455, 0.005673463146401455, 0.0018911543821338187, 0.0037823087642676373, 0.03782308764267637, 0.0037823087642676373, 0.017020389439204368, 0.013238080674936729, 0.005673463146401455, 0.005673463146401455, 0.9959021522172333, 0.0012536423979632217, 0.0062682119898161085, 0.0012536423979632217, 0.9314563016866737, 0.0025072847959264435, 0.05139933831649209, 0.0025072847959264435, 0.9970225245225194, 0.9981081298340133, 0.9955454593311546, 0.9953507055660477, 0.9942626790042981, 0.0042672217983017085, 0.017192699381470014, 0.018011399352016205, 0.029473198939662878, 0.03602279870403241, 0.017192699381470014, 0.019239449307835492, 0.012689849543465963, 0.04461914839476742, 0.05116874815913695, 0.04257239846840194, 0.017192699381470014, 0.025379699086931926, 0.034794748748213124, 0.08105129708407292, 0.030701248895482165, 0.008186999705461911, 0.015145949455104534, 0.02415164913111264, 0.034794748748213124, 0.027426449013297403, 0.03520409873348622, 0.03602279870403241, 0.005730899793823338, 0.006140249779096434, 0.012280499558192867, 0.015964649425650727, 0.02415164913111264, 0.0016373999410923823, 0.015145949455104534, 0.0032747998821847646, 0.02046749926365478, 0.0372508486598517, 0.015145949455104534, 0.005730899793823338, 0.01760204936674311, 0.02824514898384359, 0.11338994592064747, 0.018830099322562396, 0.9967591753042725, 0.9916349420490215, 0.005164765323171987, 0.0063793220068676494, 0.039339152375683833, 0.0028352542252745106, 0.045718474382551486, 0.04784491505150737, 0.06131237262156129, 0.013113050791894612, 0.007442542341345591, 0.008505762675823533, 0.00921457623214216, 0.003898474559752452, 0.0035440677815931384, 0.021618813467718146, 0.04323762693543629, 0.0357950845940907, 0.03792152526304658, 0.013467457570053926, 0.008151355897664218, 0.0435920337135956, 0.037212711706727956, 0.022682033802196085, 0.027289321918267165, 0.009568983010301475, 0.018783559242443633, 0.03508627103777207, 0.09320898265589954, 0.0010632203344779416, 0.020909999911399517, 0.0818679657548015, 0.014176271126372554, 0.09462660976853679, 0.0063793220068676494, 0.014530677904531868, 0.033314237146975505, 0.036503898150409324, 0.9944207640462985, 0.9958951275538217, 0.0022685538213071113, 0.9964566514506341, 0.9964218239838148, 0.003083164529021821, 0.0005138607548369702, 0.9958621428740482, 0.0016306934677280179, 0.996353708781819, 0.9974342522332683, 0.9976792208433879, 0.9895305456447532, 0.9972993907774003, 0.0008221759198494644, 0.0008221759198494644, 0.998770834296534, 0.9963138448668325, 0.006329872738368032, 0.9895701047648691, 0.0011259757422356473, 0.0011259757422356473, 0.993110604651841, 0.0011259757422356473, 0.0011259757422356473, 0.9920725418610361, 0.9965748800931654, 0.998413862978249, 0.9972504044749941, 0.0017155523211029881, 0.0008577761605514941, 0.0008577761605514941, 0.0008577761605514941, 0.9898736892764242, 0.0008577761605514941, 0.0008577761605514941, 0.0008577761605514941, 0.9957481124320224, 0.9893585462338861, 0.9976113225789899, 0.9952031554449843, 0.0022264052694518665, 0.9952216703116474, 0.9932942950612107, 0.0017304778659602974, 0.0011794617530026812, 0.9966451812872655, 0.002102513255850065, 0.9944887700170807, 0.000783506041015646, 0.000783506041015646, 0.9919186479258079, 0.000783506041015646, 0.000783506041015646, 0.000783506041015646, 0.000783506041015646, 0.000783506041015646, 0.004055585830584639, 0.9936185284932365, 0.990046678670143, 0.9923536442257804, 0.9977906370165593, 0.0003762408133546604, 0.0003762408133546604, 0.992623685035294, 0.9959057982072179, 0.9982806283408477, 0.9971522281877477, 0.9987273197076945, 0.9959027888034166, 0.9910899902079505, 0.003489753486647713, 0.9924645571622251, 0.7874091937491596, 0.20824044793366206, 0.9975090117590235, 0.9970509637056872, 0.9836951245947647, 0.9971057181414189, 0.9962947435348379, 0.9982789125578984, 0.001110432605737373, 0.9936901151053048, 0.001360176694956686, 0.9942891640133376, 0.001360176694956686, 0.001360176694956686, 0.002891545362258283, 0.949872651501846, 0.0014457726811291415, 0.007228863405645707, 0.0014457726811291415, 0.005783090724516566, 0.002891545362258283, 0.008674636086774849, 0.0014457726811291415, 0.010120408767903991, 0.005783090724516566, 0.0015281722375873308, 0.0030563444751746617, 0.0015281722375873308, 0.9902556099565905, 0.9937212219591491, 0.002700329407497688, 0.9968296284449085, 0.9992430659496213, 0.9996425144819193, 0.9965635981995439, 0.9955296199831238, 0.0008087161819521721, 0.0008087161819521721, 0.0008087161819521721, 0.0014389419160095558, 0.9957478058786126, 0.9873251336950696, 0.0033697103539080875, 0.000657594547411417, 0.9962557393282967, 0.000657594547411417, 0.000657594547411417, 0.000657594547411417, 0.9959441348697201, 0.9945620129945084, 4.9878821404523615e-05, 0.00019951528561809446, 0.00019951528561809446, 0.0006484246782588071, 0.9702927127821979, 0.0002992729284271417, 0.0004987882140452362, 0.002992729284271417, 0.00014963646421357085, 9.975764280904723e-05, 0.0002493941070226181, 0.0003990305712361889, 0.0006983034996633306, 0.00593557974713831, 4.9878821404523615e-05, 4.9878821404523615e-05, 0.0018953952133718974, 0.0009975764280904724, 9.975764280904723e-05, 0.001695879927753803, 4.9878821404523615e-05, 4.9878821404523615e-05, 0.00019951528561809446, 0.0002493941070226181, 0.0002493941070226181, 0.00019951528561809446, 0.00014963646421357085, 0.0005985458568542834, 0.00019951528561809446, 0.0009975764280904724, 0.0012469705351130904, 0.00019951528561809446, 0.00019951528561809446, 0.0002493941070226181, 0.0007980611424723778, 4.9878821404523615e-05, 0.00019951528561809446, 0.0004987882140452362, 9.975764280904723e-05, 4.9878821404523615e-05, 0.00014963646421357085, 0.002843092820057846, 9.975764280904723e-05, 9.975764280904723e-05, 0.0017457587491583266, 0.0008479399638769015, 0.00043956896582168743, 0.00021978448291084371, 0.00021978448291084371, 0.001538491380375906, 0.00021978448291084371, 0.00043956896582168743, 0.00021978448291084371, 0.00021978448291084371, 0.00021978448291084371, 0.0006593534487325312, 0.00021978448291084371, 0.00021978448291084371, 0.0008791379316433749, 0.0035165517265734994, 0.00021978448291084371, 0.00021978448291084371, 0.005494612072771092, 0.00021978448291084371, 0.00021978448291084371, 0.0013187068974650623, 0.00043956896582168743, 0.9701287075684641, 0.0013187068974650623, 0.0026374137949301247, 0.00021978448291084371, 0.0008791379316433749, 0.00021978448291084371, 0.00021978448291084371, 0.0017582758632867497, 0.00021978448291084371, 0.0024176293120192808, 0.0006593534487325312, 0.0013187068974650623, 0.9969776451619956, 0.998156328836394, 0.0527272770381216, 0.9454795293548106, 0.0007222914662756383, 0.0007222914662756383, 0.006006366679342889, 0.9640218520345336, 0.006006366679342889, 0.0030031833396714446, 0.006006366679342889, 0.0030031833396714446, 0.006006366679342889, 0.006006366679342889, 0.9968527504836672, 0.9950465926371761, 0.9925087619094848, 0.9975526600330956, 0.9976823214742399, 0.9948972585678624, 0.9951475751142351, 0.9943740321449857, 0.9982120052622552, 0.001638307548175518, 0.004914922644526554, 0.001638307548175518, 0.001638307548175518, 0.9813462213571352, 0.004914922644526554, 0.001638307548175518, 0.9946605987584588, 0.9971211376032595, 0.9946945453288686, 0.0037254477353141145, 0.981949492055347, 0.0003789847518546303, 0.0003789847518546303, 0.0003789847518546303, 0.0003789847518546303, 0.001515939007418521, 0.0007579695037092605, 0.0022739085111277814, 0.0018949237592731513, 0.0003789847518546303, 0.001515939007418521, 0.0003789847518546303, 0.005684771277819454, 0.0007579695037092605, 0.0003789847518546303, 0.01854847168460085, 0.8411018506209385, 0.0021402082713000976, 0.032103124069501464, 0.10344339977950473, 0.001426805514200065, 0.996847369446215, 0.9966549673358719, 0.003224563933984674, 0.9867165637993103, 0.003224563933984674, 0.9939346901272927, 0.99237201975452, 0.0024871479191842607, 0.9944959163574636, 0.008343071996571411, 0.0020857679991428527, 0.0020857679991428527, 0.0020857679991428527, 0.008343071996571411, 0.029200751987999936, 0.0020857679991428527, 0.0020857679991428527, 0.008343071996571411, 0.0020857679991428527, 0.0020857679991428527, 0.9219094556211409, 0.0041715359982857055, 0.010366172778068544, 0.0034553909260228483, 0.977875632064466, 0.9959852753425783, 0.0014646842284449682, 0.998726983213628, 0.0035203922638632986, 0.9857098338817236, 0.0035203922638632986, 0.00643364293724512, 0.9854196432213775, 0.005361369114370933, 0.9928754536269077, 0.0031420109291990747, 0.9983182735627854, 0.9974683217482981, 0.9917657090952761, 0.8548216335380718, 0.14351020125091718, 0.001952391989622761, 0.003904783979245522, 0.001952391989622761, 0.001952391989622761, 0.9840055627698716, 0.009587535759707062, 0.9875161832498274, 0.9921863674409093, 0.004863658663926026, 0.99603817962609, 0.9949437925758351, 0.9967166472080976, 0.9930801263769732, 0.9975528686139636, 0.0008446679666502655, 0.9973422204055851, 0.9956682972806981, 0.9955681901478567, 0.9974225947616195, 0.0031582891237257973, 0.9948610739736261, 0.9881905429050869, 0.9973611862868329, 0.0071280557349483265, 0.005091468382105948, 0.004073174705684758, 0.0193475798520026, 0.002036587352842379, 0.7861227181971583, 0.08451837514295872, 0.05295127117390185, 0.0030548810292635683, 0.0010182936764211894, 0.026475635586950926, 0.002036587352842379, 0.0030548810292635683, 0.9965589903905747, 0.993618406937406, 0.997837034372713, 0.005097360557225373, 0.01146906125375709, 0.00382302041791903, 0.0012743401393063433, 0.9366400023901623, 0.0012743401393063433, 0.00382302041791903, 0.00764604083583806, 0.00382302041791903, 0.0025486802786126865, 0.016566421810982463, 0.0025486802786126865, 0.9952965185104949, 0.9946445078781224, 0.9971196656656296, 0.9925655500434944, 0.08344726862133584, 0.9095752279725605, 0.9940261400555366, 0.9959189721432025, 0.9987788559777457, 0.9972050991135832, 0.013414135311918924, 0.9819147048324651, 0.0006707067655959461, 0.0013414135311918922, 0.0013414135311918922, 0.9903788719255379, 0.0036545345827510623, 0.9933049239758793, 0.9955622911750271, 0.9849440061377726, 0.0025516684096833484, 0.007655005229050046, 0.993920735527342, 0.8103196275549882, 0.0021102073634244483, 0.183588040617927, 0.00022385620757691137, 0.0008954248303076455, 0.0015669934530383796, 0.00022385620757691137, 0.00022385620757691137, 0.9919068557732943, 0.00022385620757691137, 0.00022385620757691137, 0.0006715686227307342, 0.00022385620757691137, 0.0008954248303076455, 0.00044771241515382274, 0.00022385620757691137, 0.00044771241515382274, 0.00022385620757691137, 0.00022385620757691137, 0.00044771241515382274, 0.9950533462466983, 0.9980123917434072, 0.9965051509979735, 0.9938324643243062, 0.9941102352063113, 0.9949037204224764, 0.0041457242171785945, 0.9908280879056842, 0.994713143906638, 0.9980441686720717, 0.9967617859456732, 0.9980763500277269, 0.0045815258657690115, 0.9896095870061065, 0.9966526757660055, 0.001102491897971245, 0.9804763518661743, 0.0021314703301438575, 0.0010657351650719287, 0.004795808242823679, 0.0010657351650719287, 0.0031972054952157858, 0.0005328675825359644, 0.0015986027476078929, 0.0015986027476078929, 0.0005328675825359644, 0.0005328675825359644, 0.0010657351650719287, 0.0014379809832816427, 0.00035949524582041067, 0.00035949524582041067, 0.9968803166599988, 0.9964428231196092, 0.14717892784718292, 0.007746259360378049, 0.020891426759807465, 0.013379902531562083, 0.023238778081134146, 0.04295652918027827, 0.01737039977781744, 0.006572583699714708, 0.016900929513552106, 0.03309765363070621, 0.03990497246255358, 0.00891993502104139, 0.013379902531562083, 0.024881924006062824, 0.008215729624643385, 0.013614637663694753, 0.014553578192225424, 0.019717751099144122, 0.009154670153174057, 0.03145450770577753, 0.014084107927960087, 0.034506064423502215, 0.015961988985021432, 0.05093752367278898, 0.031923977970042865, 0.009858875549572061, 0.018074605174215448, 0.005398908039051367, 0.0368534157448289, 0.0030515567177246856, 0.006807318831847376, 0.03380185902710421, 0.022065102420470804, 0.015961988985021432, 0.013379902531562083, 0.00633784856758204, 0.023004042949001477, 0.009154670153174057, 0.009624140417439394, 0.013145167399429416, 0.008215729624643385, 0.035914475216298224, 0.020891426759807465, 0.015257783588623428, 0.0161967241171541, 0.003286291849857354, 0.013379902531562083, 0.9978709206923606, 0.9967194040235684, 0.9964961214337206, 0.9944268607639797, 0.9960773765972428, 0.9293151021189394, 0.003467593664622908, 0.010402780993868726, 0.003467593664622908, 0.010402780993868726, 0.03814353031085199, 0.9936839019365417, 0.992124284588657, 0.001562646382959761, 0.001562646382959761, 0.993843099562408, 0.003916284002329752, 0.8725480757190687, 0.0015665136009319007, 0.009790710005824379, 0.00039162840023297516, 0.00039162840023297516, 0.09399081605591403, 0.0011748852006989254, 0.00039162840023297516, 0.00039162840023297516, 0.00039162840023297516, 0.0035246556020967763, 0.0015665136009319007, 0.00039162840023297516, 0.00039162840023297516, 0.002349770401397851, 0.001958142001164876, 0.002741398801630826, 0.00039162840023297516, 0.0015665136009319007, 0.00039162840023297516, 0.00039162840023297516, 0.9926155453930001, 0.001471995371319328, 0.002943990742638656, 0.0004906651237731093, 0.0009813302475462186, 0.0009704340184743903, 0.0019408680369487805, 0.0009704340184743903, 0.0019408680369487805, 0.9917835668808268, 0.9909578575375357, 0.0013936599022471212, 0.0013936599022471212, 0.9950731702044445, 0.9918847747553741, 0.9967359436964787, 0.9962581206599814, 0.00143967936511558, 0.000596287957975788, 0.000596287957975788, 0.9969934657355176, 0.0030283898607801054, 0.9963402641966547, 0.002309071097335134, 0.001154535548667567, 0.001154535548667567, 0.9929005718541076, 0.9957843821846086, 0.0005697643670924577, 0.9919597631079689, 0.0015668520095042588, 0.00014244109177311443, 0.00014244109177311443, 0.00014244109177311443, 0.00014244109177311443, 0.0004273232753193433, 0.000997087642411801, 0.0007122054588655721, 0.00014244109177311443, 0.00014244109177311443, 0.00014244109177311443, 0.00028488218354622886, 0.00014244109177311443, 0.0014244109177311442, 0.00014244109177311443, 0.00014244109177311443, 0.9940428498307886, 0.9955630418848588, 0.99539964123815, 0.9955185951765473, 0.21993477866832462, 0.013874390243095244, 0.03751224028688714, 0.016443721769594362, 0.055497560972380976, 0.020554652211992954, 0.02415171634909172, 0.025179448959691368, 0.0010277326105996476, 0.0215823848225926, 0.09814846431226636, 0.023123983738492074, 0.004624796747698415, 0.028262646791490313, 0.028262646791490313, 0.0005138663052998238, 0.054983694667081154, 0.04676183378228397, 0.032887443539188724, 0.003597064137098767, 0.017985320685493834, 0.010277326105996477, 0.0015415989158994716, 0.010277326105996477, 0.01592985546429454, 0.02415171634909172, 0.06166395663597886, 0.022096251127892427, 0.039567705508086436, 0.039567705508086436, 0.0010277326105996476, 0.9942711548399824, 0.9974175396242994, 0.9922174402470824, 0.0014359152536137228, 0.004756515140412544, 0.989355149205809, 0.002528759126968401, 0.002528759126968401, 0.010115036507873603, 0.9735722638828342, 0.002528759126968401, 0.9934813640948553, 0.012652269418891325, 0.0011502063108083022, 0.0011502063108083022, 0.0011502063108083022, 0.009201650486466418, 0.0011502063108083022, 0.9684737137005905, 0.0011502063108083022, 0.0011502063108083022, 0.0011502063108083022, 0.9977941203400076, 0.0010535048019173238, 0.0010535048019173238, 0.0010535048019173238, 0.0010535048019173238, 0.0021070096038346476, 0.992401523406119, 0.9969358199563222, 0.9944848790471693, 0.9964744139431173, 0.9925396407713043, 0.9978845176233324, 0.0028943807113782382, 0.0012404488763049593, 0.9669988129061771, 0.000551310611691093, 0.0015161041821505057, 0.0008269659175366395, 0.0002756553058455465, 0.0002756553058455465, 0.0012404488763049593, 0.0039970019347604245, 0.00013782765292277325, 0.0002756553058455465, 0.000551310611691093, 0.0012404488763049593, 0.00013782765292277325, 0.0002756553058455465, 0.0006891382646138662, 0.00041348295876831974, 0.00041348295876831974, 0.0006891382646138662, 0.004548312546451517, 0.0006891382646138662, 0.0019295871409188254, 0.0009647935704594127, 0.0008269659175366395, 0.0002756553058455465, 0.0006891382646138662, 0.000551310611691093, 0.00013782765292277325, 0.00013782765292277325, 0.00013782765292277325, 0.001102621223382186, 0.000551310611691093, 0.0009647935704594127, 0.0006891382646138662, 0.0002756553058455465, 0.00013782765292277325, 0.0006891382646138662, 0.00013782765292277325, 0.9921270199342956, 0.0005827198030940615, 0.01223711586497529, 0.9684803127423302, 0.010488956455693105, 0.0005827198030940615, 0.002330879212376246, 0.0005827198030940615, 0.002913599015470307, 0.035548710176588255, 0.014165622388549562, 0.009102624272490022, 0.06118687084940039, 0.026015192447412315, 0.026499947586183972, 0.03517167840198808, 0.016966429857008032, 0.03193997747684369, 0.010125996232119079, 0.007756082220346528, 0.02472251207735456, 0.019390205550866322, 0.01944406723295206, 0.026122915811583793, 0.08553235115215477, 0.01664325976449359, 0.015081270984007139, 0.033501966257330144, 0.005493891572745458, 0.03721842232124619, 0.01960565227920928, 0.010933921463405175, 0.010287581278376298, 0.013357697157263466, 0.012872942018491807, 0.020682885920924075, 0.01222660183346293, 0.000484755138771658, 0.008833315862061325, 0.06678848578631733, 0.009479656047090201, 0.0022621906476010707, 0.0050091364339738, 0.021813981244724612, 0.010449166324633517, 0.006624986896545993, 0.004255072884773442, 0.02192170460889609, 0.0077022205382607884, 0.014057899024378083, 0.011957293423034232, 0.010395304642547778, 0.011526399966348314, 0.07492159978126403, 0.01201115510511997, 0.016535536400322112, 0.01211887846929145, 0.006247955121945814, 0.00721746539948913, 0.887284669187895, 0.003681679125260975, 0.003681679125260975, 0.04049847037787072, 0.003681679125260975, 0.003681679125260975, 0.003681679125260975, 0.011045037375782924, 0.003681679125260975, 0.011045037375782924, 0.02209007475156585, 0.9961663965084749, 0.9934866966332903, 0.9985730335728485, 0.9979151171964106, 0.9960746756886923, 0.9967694664518416, 0.994113259307239, 0.9974716350410748, 0.0008258744028362946, 0.997656278626244, 0.9977920262965773, 0.9958093627328867, 0.9978346246093691, 0.0007107500427445869, 0.9910224762668689, 0.00023691668091486227, 0.00023691668091486227, 0.00023691668091486227, 0.0018953334473188982, 0.0009476667236594491, 0.00023691668091486227, 0.00023691668091486227, 0.00023691668091486227, 0.00023691668091486227, 0.0007107500427445869, 0.00023691668091486227, 0.00023691668091486227, 0.00023691668091486227, 0.0009476667236594491, 0.00047383336182972455, 0.00023691668091486227, 0.9948519345134913, 0.9970331545358674, 0.994226137061605, 0.007728717863240467, 0.005152478575493644, 0.002576239287746822, 0.005152478575493644, 0.9454798186030838, 0.015457435726480935, 0.002576239287746822, 0.002576239287746822, 0.005152478575493644, 0.002576239287746822, 0.9982813907258893, 0.989330692699067, 0.0028676251962291796, 0.997427015183504, 0.9923359770966813, 0.9979713293409552, 0.9975333477106088, 0.004245341529893693, 0.004245341529893693, 0.9891645764652305, 0.1097202384357012, 0.0076549003559791525, 0.006561343162267845, 0.0010935571937113076, 0.0018225953228521792, 0.009112976614260896, 0.037180944586184456, 0.01494528164738787, 0.022235662938796585, 0.0018225953228521792, 0.022600182003367022, 0.0007290381291408717, 0.5150654382380259, 0.005467785968556538, 0.024058258261648764, 0.006925862226838281, 0.012758167259965255, 0.00036451906457043586, 0.006196824097697409, 0.0010935571937113076, 0.0670715078809602, 0.005103266903986102, 0.0018225953228521792, 0.005103266903986102, 0.0043742287748452305, 0.00036451906457043586, 0.0007290381291408717, 0.008019419420549588, 0.006925862226838281, 0.002551633451993051, 0.0010935571937113076, 0.030255082359346177, 0.02296470106793746, 0.018590472293092228, 0.0036451906457043584, 0.005467785968556538, 0.008383938485120025, 0.005125563883850741, 0.9917966115251184, 0.998345749088649, 0.0038397255555365746, 0.9906491933284363, 0.9940402397771457, 0.9917276143531217, 0.996412818616876, 0.0006958190074140196, 0.0006958190074140196, 0.0006958190074140196, 0.0023367910125096838, 0.9954729713291254, 0.0021048406970351776, 0.007016135656783926, 0.004209681394070355, 0.009120976353819104, 0.004911294959748748, 0.0007016135656783926, 0.006314522091105533, 0.0014032271313567852, 0.0028064542627135704, 0.0007016135656783926, 0.017540339141959814, 0.0007016135656783926, 0.9317428152209054, 0.004209681394070355, 0.0021048406970351776, 0.0021048406970351776, 0.0007016135656783926, 0.00019114391079638757, 0.998726933911125, 0.00019114391079638757, 0.00019114391079638757, 0.9986185059264259, 0.9962502387646692, 0.001702190671424249, 0.9923771614403372, 0.9970487714983707, 0.9925319774284947, 0.9948745210512518, 0.9964976773421277, 0.9953783422760051, 0.994941293541788, 0.9933619599005188, 0.9943101533421659, 0.003926802177531031, 0.9895541487378199, 0.9849732970158817, 0.006168935054379217, 0.004112623369586145, 0.0020563116847930724, 0.9986520507809321, 0.9943309237317389, 0.9957472723536883, 0.9970600839473459, 0.9967667493403363, 0.9914629460556293, 0.00020029554465770288, 0.0008011821786308115, 0.00020029554465770288, 0.00020029554465770288, 0.00020029554465770288, 0.00040059108931540577, 0.00020029554465770288, 0.00480709307178487, 0.00020029554465770288, 0.00020029554465770288, 0.00020029554465770288, 0.983788138793552, 0.003214993917625987, 0.003214993917625987, 0.9974323782549434, 0.9960671891463752, 0.9961423133831686, 0.9905787574791939, 0.9929600382818424, 0.992259098477375, 0.9968030919762895, 0.003928024597582776, 0.9937902231884425, 0.9932072135919869, 0.0032090701570015733, 0.0008022675392503933, 0.0008022675392503933, 0.0009315404702189249, 0.0009315404702189249, 0.0009315404702189249, 0.9939536817235928, 0.9973876463102538, 0.0034730891129322082, 0.9950400308550776, 0.2283641421521962, 0.6739686716812667, 0.07459459084627612, 0.021593171034448348, 0.9958712709648014, 0.9950643423719568, 0.9956165128734854, 0.014559694887611843, 0.0020799564125159775, 0.9630198189948975, 0.0020799564125159775, 0.0020799564125159775, 0.010399782062579887, 0.0020799564125159775, 0.9960240397632786, 0.9961556671319206, 0.9781218350920305, 0.01536317018469158, 0.0024764228733671176, 0.9856163036001128, 0.0024764228733671176, 0.0024764228733671176, 0.9977478076181431, 0.0020089423877683085, 0.0010044711938841542, 0.015067067908262313, 0.9803638852309344, 0.9976428916180192, 0.0015044397201929146, 0.0015044397201929146, 0.0030088794403858293, 0.0015044397201929146, 0.9914257756071307, 0.9963388662246138, 0.0024398021812876104, 0.995439289965345, 0.994271316384848, 0.9966742148061299, 0.04661794517534012, 0.018335091407874357, 0.0403762119301063, 0.02399166216136751, 0.04408224104446388, 0.007607112392628722, 0.027112528783984423, 0.02477187881702174, 0.018335091407874357, 0.026137257964416637, 0.06943928235322629, 0.019310362227442143, 0.005266462425666038, 0.04466740353620455, 0.01287357481829476, 0.008582383212196508, 0.015409278949171002, 0.008972491540023622, 0.008192274884369393, 0.018530145571787913, 0.02477187881702174, 0.031208666226169118, 0.0017554874752220128, 0.18569156404570625, 0.005266462425666038, 0.023601553833540397, 0.015799387276998117, 0.009557654031764293, 0.0046812999339253675, 0.008387329048282951, 0.022821337177886168, 0.019700470555269255, 0.007607112392628722, 0.012093358162640533, 0.030038341242687776, 0.026137257964416637, 0.0181400372439608, 0.015214224785257444, 0.016579603932652343, 0.01033787068741852, 0.014043899801776102, 0.007412058228715166, 0.9986374807396633, 0.03241576169504974, 0.9670000599159644, 0.996599665874086, 0.9947471982464736, 0.0027197588459739936, 0.9927119787805078, 0.9939882778069171, 0.0027158149666855662, 0.9984021768499063, 0.9945709753365026, 0.00409922685906439, 0.002049613429532195, 0.022545747724854147, 0.9674175387391961, 0.9895522374067391, 0.0031615087457084316, 0.0031615087457084316, 0.9984768000152263, 0.9980274639579299, 0.9941442192959974, 0.011708675376819178, 0.004683470150727671, 0.004683470150727671, 0.0023417350753638356, 0.9530861756730811, 0.0023417350753638356, 0.007025205226091507, 0.0023417350753638356, 0.0023417350753638356, 0.996676162043801, 0.003076545558409904, 0.990647669807989, 0.003076545558409904, 0.9958012478908386, 0.98997486950539, 0.001311224992722371, 0.001311224992722371, 0.001311224992722371, 0.005244899970889484, 0.9971808138676359, 0.9947158110243723, 0.003279282893486942, 0.9984627868039487, 0.0020524311829654388, 0.0020524311829654388, 0.9954291237382378, 0.7581359682867901, 0.24007638995748354, 0.0018880612848555397, 0.9950082971188694, 0.0018880612848555397, 0.9962886201063752, 0.9903703986676049, 0.998721025810755, 0.9972636130412494, 0.9940275657467779, 0.002413090029134995, 0.002413090029134995, 0.989366911945348, 0.002413090029134995, 0.9923644042842531, 0.004034001643431923, 0.9931110231888983, 0.9967304286348474, 0.9907039939897496, 0.005907093660926957, 0.0016877410459791306, 0.9974015239188786, 0.9968690582485423, 0.9972562000699073, 0.001138063699414506, 0.002276127398829012, 0.9923915458894493, 0.001138063699414506, 0.9949237563214587, 0.9968757838510593, 0.9936208163328658, 0.9981885068695022, 0.00046177035520213606, 0.9955768858158054, 0.0009235407104042721, 0.0009235407104042721, 0.00046177035520213606, 0.995260328695147, 0.9970574079106903, 0.998647440042025, 0.9980605189254285, 0.9937950274484206, 0.003403564513319251, 0.0011345215044397503, 0.9904372733759019, 0.0011345215044397503, 0.97849537123647, 0.008659251072889115, 0.010391101287466937, 0.9907232317825135, 0.9976979144002709, 0.9942204799071621, 0.998057246152141, 0.9972297641408387, 0.9948257954782732, 0.9967566698163335, 0.996116961385909, 0.9980217540016462, 0.9956946678707025, 0.9975172505025007, 0.9921922319836448, 0.997157086978163, 0.9953662239944066, 0.9933267219603331, 0.9842050492168961, 0.0037422245217372473, 0.007484449043474495, 0.0010013552089541198, 0.000200271041790824, 0.000801084167163296, 0.000200271041790824, 0.9891386754048797, 0.000600813125372472, 0.000200271041790824, 0.000801084167163296, 0.000200271041790824, 0.000200271041790824, 0.000200271041790824, 0.000400542083581648, 0.000200271041790824, 0.000801084167163296, 0.0010013552089541198, 0.002202981459699064, 0.000801084167163296, 0.9956432772984941, 0.0017528930938353771, 0.992750261247501, 0.9978668641226861, 0.0007194425840826864, 0.9766113067533059, 0.01669421037185138, 0.9959757891946571, 0.0006255423898395099, 0.0006255423898395099, 0.9977401117940183, 0.0016392574354041746, 0.8638886684579999, 0.0016392574354041746, 0.09343767381803794, 0.016392574354041744, 0.019671089224850096, 0.0012220498327702074, 0.9923044642094083, 0.00488819933108083, 0.9917185976754513, 0.0029571757765132884, 0.9936110609084648, 0.9961667416519175, 0.9978901750521435, 0.9973162085570708, 0.0033786806409547786, 0.98995342779975, 0.9948890317323928, 0.002107815745195748, 0.9961923243219932, 0.9914617109609066, 0.00914756377293443, 0.9848876995526069, 0.9959307913837736, 0.9949127202915379, 0.028627399510695237, 0.03260342722051402, 0.049037675087764986, 0.02544657734284021, 0.017229453409214727, 0.029422605052658993, 0.040290414126163666, 0.0323383587065261, 0.0323383587065261, 0.019615070035105996, 0.014578768269335537, 0.010867809073504674, 0.02968767356664691, 0.023326029230936858, 0.028097262482719397, 0.04055548264015158, 0.026241782884803968, 0.029422605052658993, 0.008482192447613402, 0.010867809073504674, 0.013518494213383862, 0.12272672197640642, 0.005301370279758377, 0.015108905297311374, 0.019615070035105996, 0.022265755174985184, 0.0058315073077342145, 0.017494521923202645, 0.0323383587065261, 0.028627399510695237, 0.023856166258912695, 0.012988357185408023, 0.03684452344432072, 0.019084933007130156, 0.019615070035105996, 0.02279589220296102, 0.031278084650574425, 0.02067534409105767, 0.9974650433746483, 0.9969624480225091, 0.9967576511937278, 0.9952834241059545, 0.9951168996465609, 0.997126710438355, 0.005356053393699485, 0.0017853511312331616, 0.9872991755719384, 0.0035707022624663232, 0.9926762453874388, 0.9943299023046578, 0.9956468941861611, 0.9948037504899594, 0.9944557085523662, 0.002876491018542757, 0.9952658924157939, 0.9969074315708067, 0.9935857483818228, 0.08901257926680184, 0.5228080605037475, 0.0033802245291190574, 0.011267415097063525, 0.0011267415097063525, 0.00450696603882541, 0.020281347174714345, 0.0056337075485317625, 0.01802786415530164, 0.00450696603882541, 0.03267550378148422, 0.03830921133001598, 0.0033802245291190574, 0.0011267415097063525, 0.006760449058238115, 0.007887190567944468, 0.01802786415530164, 0.007887190567944468, 0.05070336793678586, 0.02253483019412705, 0.041689435859135045, 0.05521033397561127, 0.03154876227177787, 0.009644968595814369, 0.9870017863050037, 0.9973185116074159, 0.9915852846378481, 0.00227992085535064, 0.9940454929328791, 0.9923065212072485, 0.005320678397894094, 0.9945334194100487, 0.9960603500399025, 0.9974003363239139, 0.9921798117148808, 0.9971212394256771, 0.9950408737821926, 0.9971955799409906, 0.005125079180597997, 0.0021354496585824986, 0.006406348975747496, 0.94685837861548, 0.011104338224628994, 0.0012812697951494992, 0.0008541798634329995, 0.00042708993171649976, 0.0029896295220154983, 0.0021354496585824986, 0.00042708993171649976, 0.0012812697951494992, 0.0012812697951494992, 0.00042708993171649976, 0.007687618770896996, 0.001708359726865999, 0.0029896295220154983, 0.00042708993171649976, 0.001708359726865999, 0.00042708993171649976, 0.0008541798634329995, 0.9938457164973888, 0.996913308278468, 0.872429842960884, 0.12400018072540483, 0.0019867821196579184, 0.9933910598289591, 0.0019867821196579184, 0.9938419262396524, 0.990470472292975, 0.005574880707089915, 0.9942033627606761, 0.9975324813051646, 0.0013150200457376947, 0.003945060137213084, 0.03419052118918006, 0.03879309134926199, 0.006575100228688473, 0.003945060137213084, 0.0835037729043436, 0.005917590205819626, 0.0006575100228688474, 0.0026300400914753895, 0.2998245704281944, 0.007890120274426168, 0.001972530068606542, 0.04536819157795047, 0.21829332759245731, 0.0013150200457376947, 0.0006575100228688474, 0.0026300400914753895, 0.026300400914753892, 0.0013150200457376947, 0.023012850800409657, 0.0006575100228688474, 0.025642890891885047, 0.005917590205819626, 0.028272930983360436, 0.003945060137213084, 0.0032875501143442365, 0.02432787084614735, 0.0013150200457376947, 0.005917590205819626, 0.013807710480245794, 0.07627116265278629, 0.9974196808862755, 0.0027449490495275483, 0.990926606879445, 0.0027449490495275483, 0.9961821401205904, 0.9982470790500725, 0.9969115072546383, 0.9945655390001682, 0.16611425235400032, 0.01947919571577854, 0.012986130477185692, 0.018397018176013063, 0.0422049240508535, 0.034088592502612446, 0.02543117218448865, 0.00973959785788927, 0.03949948020143981, 0.04707472297979814, 0.017855929406130327, 0.02543117218448865, 0.0027054438494136857, 0.014609396786833904, 0.017855929406130327, 0.002164355079530949, 0.05410887698827372, 0.0037876213891791604, 0.0037876213891791604, 0.06871827377510763, 0.02705443849413686, 0.007034154008475583, 0.027595527264019596, 0.016232663096482115, 0.014068308016951166, 0.028136616033902332, 0.002164355079530949, 0.04491036790026719, 0.02651334972425412, 0.035711858812260654, 0.016232663096482115, 0.010280686627772007, 0.010821775397654743, 0.01569157432659938, 0.005951976468710109, 0.03300641496284697, 0.02272572833507496, 0.01731484063624759, 0.012445041707302954, 0.995247258890482, 0.01402449057838115, 0.002337415096396858, 0.9817143404866805, 0.9946156619209702, 0.0004479288465658597, 0.0008958576931317193, 0.2486005098440521, 0.7462494583787221, 0.0008958576931317193, 0.0008958576931317193, 0.0004479288465658597, 0.9970418314158108, 0.00025099005115756796, 0.0005019801023151359, 0.00025099005115756796, 0.9964305030955447, 0.00025099005115756796, 0.00025099005115756796, 0.00025099005115756796, 0.00025099005115756796, 0.000757985194734535, 0.000757985194734535, 0.002273955584203605, 0.000757985194734535, 0.9914446347127718, 0.000757985194734535, 0.000757985194734535, 0.9949682536543176, 0.9922106411416604, 0.9967332235740957, 0.9955969632742848, 0.995254662348403, 0.9945555713250281, 0.006846620847101913, 0.02909813860018313, 0.0017116552117754783, 0.03166562141784635, 0.002567482817663218, 0.08900607101232488, 0.0008558276058877392, 0.39624818152602326, 0.04450303550616244, 0.011981586482428348, 0.039368069870836006, 0.013693241694203826, 0.027386483388407653, 0.02909813860018313, 0.006846620847101913, 0.005134965635326436, 0.05049382874737661, 0.004279138029438696, 0.023963172964856696, 0.059052104806254, 0.025674828176632174, 0.005990793241214174, 0.04450303550616244, 0.01112575887654061, 0.03765641465906053, 0.9931077581081525, 0.9961325738327417, 0.9921815880545212, 0.0008444098621740605, 0.001688819724348121, 0.0008444098621740605, 0.001688819724348121, 0.9907492255205192, 0.996833548432322, 0.9973791994252017, 0.0023987195089610223, 0.8899249378245393, 0.014392317053766134, 0.03358207312545431, 0.007196158526883067, 0.00959487803584409, 0.014392317053766134, 0.004797439017922045, 0.00959487803584409, 0.0023987195089610223, 0.0023987195089610223, 0.007196158526883067, 0.9957523009759404, 0.9973502457694409, 0.9964579584726245, 0.012955298323103843, 0.9846026725558921, 0.0018684803937623273, 0.0018684803937623273, 0.0018684803937623273, 0.0018684803937623273, 0.0018684803937623273, 0.0018684803937623273, 0.9865576479065088, 0.9925502296574689, 0.004466710583941542, 0.9916097496350225, 0.9970764960953394, 0.9959413903150534, 0.9740296722014216, 0.0218214386847569, 0.9941026182107474, 0.0024070281312608896, 0.9973165486242264, 0.9941218420596782, 0.9955059672100764, 0.9994714576450774, 0.004767546809304124, 0.004767546809304124, 0.9868821895259536, 0.996522643955584, 0.9970338903048086, 0.0005932229143900977, 0.9966144961753641, 0.0005932229143900977, 0.9946038623465748, 0.9923162638360356, 0.006794410491643041, 0.9897191282826697, 0.9966871831068363, 0.9931353598157141, 0.004208200677185229, 0.003041897673717934, 0.9855748462846106, 0.006083795347435868, 0.9953518533255518, 0.0014219312190365025, 0.9948363810065233, 0.9938061321546493, 0.00045881742448686984, 0.0009176348489737397, 0.0018352696979474794, 0.0009176348489737397, 0.00045881742448686984, 0.0013764522734606096, 0.00045881742448686984, 0.00045881742448686984, 0.003211721971408089, 0.005046991669355568, 0.005964626518329308, 0.0018352696979474794, 0.9703988527897297, 0.0009176348489737397, 0.00045881742448686984, 0.0022940871224343493, 0.00045881742448686984, 0.0009176348489737397, 0.003534987307095488, 0.9897964459867367, 0.9967344923668569, 0.001605047491734069, 0.9949667402579849, 0.9940597067518657, 0.002636021230669227, 0.9964160251929678, 0.08131846119291654, 0.011112586951375372, 0.014161527775579446, 0.030489408242040734, 0.015485409975562794, 0.03161270222990539, 0.018413997872495654, 0.028323055551158893, 0.013439410211952165, 0.032896466787465, 0.0061379992908318845, 0.06466963958706534, 0.02086117406034366, 0.0391548190055681, 0.008183999054442512, 0.018895409581580508, 0.005536234654475817, 0.0071810579938490675, 0.008304351981713726, 0.009106704830188482, 0.004773999448424799, 0.01556564526041027, 0.00842470490898494, 0.01737093916947847, 0.029526584823871025, 0.017290703884630994, 0.0718506975809144, 0.02892482018751496, 0.010310234102900617, 0.02009893885429264, 0.029887643605684664, 0.0019256468363394146, 0.003129176109051549, 0.040358348278280234, 0.014362115987698135, 0.00493447001811975, 0.014803410054359251, 0.0024070585454242684, 0.04112058348433125, 0.008585175478679891, 0.012195763296816294, 0.04990634717512983, 0.008063646127171298, 0.006258352218103098, 0.0034099996060177134, 0.021864115120937104, 0.006338587502950573, 0.009186940115035958, 0.019818115357326475, 0.011874822157426392, 0.9993350335183723, 0.007812536029130904, 0.9882858076850594, 0.9978084969092906, 0.9967128523089842, 0.996559083416372, 0.9951990081567523, 0.9929837969390536, 0.9971478849587269, 0.018251971796502984, 0.0017501890763769986, 0.0065007022836859945, 0.018251971796502984, 0.014501566632837987, 0.018001944785591983, 0.004750513207308996, 0.004500486196397996, 0.037504051636649965, 0.01150124250190599, 0.04675505104035696, 0.004750513207308996, 0.002250243098198998, 0.0032503511418429973, 0.0007500810327329994, 0.012501350545549988, 0.0015001620654659987, 0.014251539621926988, 0.013251431578282988, 0.0007500810327329994, 0.6748229024487884, 0.0010001080436439992, 0.0007500810327329994, 0.0025002701091099977, 0.004000432174575997, 0.002250243098198998, 0.008250891360062993, 0.0005000540218219996, 0.0002500270109109998, 0.004250459185486996, 0.009751053425528991, 0.01100118848008399, 0.005500594240041995, 0.008500918370973993, 0.007500810327329993, 0.014751593643748987, 0.0002500270109109998, 0.0015001620654659987, 0.0065007022836859945, 0.9973459374320758, 0.9862266086065503, 0.007305382285974447, 0.9973402156993436, 0.9901674033045823, 0.9921216199654821, 0.9882516102439699, 0.004585854339879211, 0.0022929271699396055, 0.0022929271699396055, 0.9914685430322971, 0.9973310860824481, 0.9972133350981476, 0.9969404008515111, 0.001916271794044231, 0.9986312631056933, 0.9936805094216593, 0.9958404738262356, 0.9977675600701817, 0.9969969242188321, 0.0033138144286718268, 0.0033138144286718268, 0.9908305141728762, 0.994543119618376, 0.9926804137472864, 0.006230211801761212, 0.9934907020631136, 0.9924836657596681, 0.9958971768167701, 0.004149923261107747, 0.9918316594047516, 0.022885756891114203, 0.024985367615069635, 0.035063499090055704, 0.09091314434727019, 0.07327641426604456, 0.01784669115362117, 0.09574224901236768, 0.006088871099470751, 0.01658692471924791, 0.011127936836963788, 0.005039065737493036, 0.02876466691818941, 0.010288092547381614, 0.01868653544320334, 0.004829104665097493, 0.020996107239554314, 0.05186038488169916, 0.013647469705710305, 0.013437508633314763, 0.0073486375338440105, 0.01742676900883008, 0.014487313995292477, 0.027504900483816153, 0.020366224022367686, 0.023725601180696377, 0.056059606329610025, 0.023515640108300834, 0.012597664343732589, 0.004829104665097493, 0.011757820054150417, 0.045561552709832864, 0.00797852075103064, 0.010708014692172701, 0.010078131474986072, 0.008188481823426182, 0.011127936836963788, 0.01931641866038997, 0.014067391850501392, 0.042832058768690805, 0.01595704150206128, 0.015537119357270193, 0.010078131474986072, 0.006718754316657381, 0.8349490060879782, 0.006050355116579552, 0.1552924479922085, 0.003728699890161029, 0.0018643499450805145, 0.004660874862701286, 0.0009321749725402572, 0.0009321749725402572, 0.0018643499450805145, 0.003728699890161029, 0.9452254221558208, 0.0018643499450805145, 0.002796524917620772, 0.013982624588103858, 0.0018643499450805145, 0.004660874862701286, 0.0009321749725402572, 0.002796524917620772, 0.0018643499450805145, 0.0009321749725402572, 0.004660874862701286, 0.004173954974970189, 0.9913143065554199, 0.9982284448426448, 0.9960280821404176, 0.9960107310916015, 0.0017157153269068174, 0.9951148896059541, 0.0034988855236871112, 0.0010496656571061334, 0.7914479054580246, 0.0003498885523687111, 0.0017494427618435556, 0.0010496656571061334, 0.0006997771047374222, 0.0006997771047374222, 0.16864628224171876, 0.0069977710473742225, 0.0006997771047374222, 0.0034988855236871112, 0.0003498885523687111, 0.0010496656571061334, 0.0017494427618435556, 0.0031489969713184, 0.006647882495005511, 0.0034988855236871112, 0.0010496656571061334, 0.0003498885523687111, 0.0003498885523687111, 0.0006997771047374222, 0.0003498885523687111, 0.9964507745642499, 0.9931602544965963, 0.9938736959733873, 0.9966356253248712, 0.9980178122277171, 0.9921537286738872, 0.004515233675819111, 0.025586324162974964, 0.06772850513728668, 0.0007525389459698519, 0.0007525389459698519, 0.0007525389459698519, 0.0007525389459698519, 0.007525389459698519, 0.0007525389459698519, 0.007525389459698519, 0.0007525389459698519, 0.01580331786536689, 0.006772850513728668, 0.0007525389459698519, 0.0030101557838794076, 0.0007525389459698519, 0.009030467351638222, 0.7532914849158218, 0.0015050778919397038, 0.01204062313551763, 0.007525389459698519, 0.005267772621788964, 0.006772850513728668, 0.01204062313551763, 0.006772850513728668, 0.004515233675819111, 0.0030101557838794076, 0.018060934703276445, 0.009030467351638222, 0.0030101557838794076, 0.0015050778919397038, 0.994917397443427, 0.9926190028252573, 0.9963012938865117, 0.9968019732196746, 0.002379347844551501, 0.002379347844551501, 0.011896739222757505, 0.9779119641106669, 0.9890140583804964, 0.0028918539718727964, 0.0028918539718727964, 0.9946707504579253, 0.9954325323243891, 0.0028121751526229825, 0.9926978288759128, 0.9954022425792662, 0.9932313895696568, 0.9979080984486537, 0.9971306613694714, 0.9947968765139317, 0.0031095046011715075, 0.9934867200742966, 0.0015547523005857537, 0.9974026695718193, 0.000776978386390669, 0.9968632697392283, 0.000776978386390669, 0.9962422307013137, 0.9910603716352296, 0.9952280862339666, 0.0006196563853939631, 0.001858969156181889, 0.003098281926969815, 0.003717938312363778, 0.0012393127707879261, 0.0006196563853939631, 0.0006196563853939631, 0.0012393127707879261, 0.0006196563853939631, 0.9852536527764012, 0.0006196563853939631, 0.9947574852911769, 0.0015251257272986282, 0.9959070999260042, 0.9940076495614872, 0.01170523624086168, 0.0013005818045401867, 0.0019508727068102802, 0.0013005818045401867, 0.0026011636090803735, 0.9773872261119503, 0.0013005818045401867, 0.9909989703438777, 0.9984647417230104, 0.0022226028057771795, 0.9890582485708448, 0.0022226028057771795, 0.9975959990679908, 0.0017413010621472513, 0.008706505310736258, 0.0017413010621472513, 0.005223903186441754, 0.0034826021242945026, 0.9716459926781663, 0.0034826021242945026, 0.0017413010621472513, 0.9925507744890063, 0.9973752548150038, 0.0005441217974986381, 0.0005441217974986381, 0.0005441217974986381, 0.9962980870128239, 0.9919629465618486, 0.9956791211005851, 0.0021722809467055416, 0.994904673591138, 0.9976675350489675, 0.995248304182878, 0.9490109919177684, 0.04519099961513182, 0.9936999056095909, 0.9965486996090153, 0.994096680083044, 0.0037053765769582228, 0.020379571173270227, 0.0018526882884791114, 0.0018526882884791114, 0.0037053765769582228, 0.0018526882884791114, 0.0018526882884791114, 0.0018526882884791114, 0.9615452217206588, 0.0021768881784759325, 0.9948378975635012, 0.9961145312167733, 0.0011049786410874997, 0.0005524893205437498, 0.0005524893205437498, 0.9795635653240685, 0.0011049786410874997, 0.012154765051962496, 0.0011049786410874997, 0.0005524893205437498, 0.0005524893205437498, 0.0016574679616312496, 0.998495672852651, 0.0009341533169630462, 0.9920708226147551, 0.0009341533169630462, 0.0018683066339260923, 0.0018683066339260923, 0.8581434295632895, 0.13693778131329087, 0.9957672245404927, 0.0012701112557914449, 0.000681162001305864, 0.996540007910479, 0.9951720169675762, 0.9949942987839699, 0.9920764335772635, 0.0015333484290220455, 0.0015333484290220455, 0.9981999792123009, 0.0023241798004974066, 0.9947489546128901, 0.99505622071695, 0.000814661932210369, 0.000814661932210369, 0.9751503328558117, 0.01710790057641775, 0.000814661932210369, 0.002443985796631107, 0.9972170632196381, 0.013618036574649215, 0.001513115174961024, 0.001513115174961024, 0.9804986333747434, 0.9994184895876461, 0.016446784485612143, 0.0009674579109183614, 0.0019349158218367227, 0.0019349158218367227, 0.0009674579109183614, 0.0009674579109183614, 0.0019349158218367227, 0.0009674579109183614, 0.0009674579109183614, 0.0009674579109183614, 0.0038698316436734455, 0.0058047474655101685, 0.0019349158218367227, 0.0009674579109183614, 0.955848415987341, 0.0024851562573629886, 0.9940625029451955, 0.9954953540051625, 0.9951844585535091, 0.9940272661676148, 0.9919943321847381, 0.0021352473783423863, 0.9928900309292098, 0.9908384543486468, 0.9946867419327028, 0.9936896984546302, 0.9974407514094825, 0.0033598257348159046, 0.98442894030106, 0.0033598257348159046, 0.0033598257348159046, 0.0033598257348159046, 0.025443222680843664, 0.02956915068314264, 0.0006876546670498288, 0.01169012933984709, 0.042634589357089386, 0.3225100388463697, 0.00550123733639863, 0.02269260401264435, 0.006188892003448459, 0.08183090537892963, 0.021317294678544693, 0.002750618668199315, 0.06395188403563408, 0.004125928002298973, 0.0006876546670498288, 0.12721611340421832, 0.0006876546670498288, 0.006876546670498288, 0.003438273335249144, 0.0006876546670498288, 0.05226175469578699, 0.01719136667624572, 0.01100247467279726, 0.04469755335823887, 0.008939510671647775, 0.006876546670498288, 0.002750618668199315, 0.0020629640011494864, 0.0006876546670498288, 0.03644569735364093, 0.0357580426865911, 0.9968419220783864, 0.9933802077065206, 0.9963809981521852, 0.0022668729039582868, 0.0045337458079165735, 0.9872231496738338, 0.0011334364519791434, 0.0011334364519791434, 0.9949653122916687, 0.9931856626623826, 0.9982518416967536, 0.9898495089574657, 0.9941808487135987, 0.0018037153959671538, 0.0018037153959671538, 0.0018037153959671538, 0.018037153959671537, 0.9631840214464601, 0.0018037153959671538, 0.0018037153959671538, 0.005411146187901461, 0.9989337722048156, 0.9444830974719072, 0.05029791643341517, 0.0018628857938301916, 0.9949734684883416, 0.9972759404995346, 0.9985602873450443, 0.9949867524338272, 0.00022215448271608291, 0.9983622453260766, 0.00044430896543216583, 0.00022215448271608291, 0.9981925975373479, 0.9951996406201672, 0.9950124767025931, 0.9952262358236527, 0.00018583370325346593, 0.0009291685162673296, 0.997926986471112, 0.9943203165995749, 0.9952475792561767, 0.9871437342241205, 0.0028863851877898258, 0.0014431925938949129, 0.004329577781684739, 0.9740970261395481, 0.008278444981355932, 0.008278444981355932, 0.9937004691913717, 0.9969175537718701, 0.9955134397675693, 0.9964221928405077, 0.9961937304022553, 0.0023216043241054488, 0.9959682550412376, 0.9977952092654662, 0.9948534636740662, 0.9974828164079509, 0.9980106870628732, 0.9943570155139099, 0.0036539658059631134, 0.9902247334160037, 0.0036539658059631134, 0.001120592337046844, 0.9973271799716911, 0.018858890205120653, 0.0020954322450134058, 0.0020954322450134058, 0.8811292590281371, 0.0020954322450134058, 0.0031431483675201087, 0.02933605143018768, 0.04714722551280163, 0.010477161225067028, 0.0010477161225067029, 0.0020954322450134058, 0.002913814977519761, 0.9936109073342385, 0.9920381276016195, 0.0037864050671817537, 0.9959104257875897, 0.996247814761536, 0.9943791025969387, 0.9950632290593935, 0.0025505099243558235, 0.0010930756818667816, 0.006666633258689281, 0.0024999874720084804, 0.016666583146723202, 0.0008333291573361601, 0.8616623486855896, 0.0008333291573361601, 0.02166655809074016, 0.0041666457866808004, 0.0041666457866808004, 0.0008333291573361601, 0.0024999874720084804, 0.0008333291573361601, 0.01749991230405936, 0.0041666457866808004, 0.0041666457866808004, 0.006666633258689281, 0.009999949888033922, 0.0058333041013531204, 0.0016666583146723202, 0.0008333291573361601, 0.0033333166293446404, 0.0008333291573361601, 0.004999974944016961, 0.0008333291573361601, 0.0008333291573361601, 0.0041666457866808004, 0.0016666583146723202, 0.0008333291573361601, 0.0033333166293446404, 0.0008333291573361601, 0.0016666583146723202, 0.0008333291573361601, 0.9939204516213009, 0.9945881252987441, 0.004173288868546091, 0.0013910962895153634, 0.0006955481447576817, 0.0006955481447576817, 0.0006955481447576817, 0.9869828174111503, 0.0006955481447576817, 0.0006955481447576817, 0.0006955481447576817, 0.0013910962895153634, 0.001460898426205084, 0.9247487037878181, 0.004382695278615252, 0.061357733900613526, 0.001460898426205084, 0.001460898426205084, 0.001460898426205084, 0.996791630982665, 0.9866781950116688, 0.004060404094698225, 0.99689793609498, 0.9879711296037704, 0.004772807389390195, 0.9973525808218271, 0.0019346896167354054, 0.9963651526187338, 0.9975519131002702, 0.9919128434535498, 0.001926044356220485, 0.0031090091128477084, 0.9948829161112667, 0.009299860748153201, 0.9826852857215217, 0.0020640369589027914, 0.0020640369589027914, 0.0020640369589027914, 0.9535850750130895, 0.012384221753416748, 0.004128073917805583, 0.006192110876708374, 0.0020640369589027914, 0.010320184794513956, 0.9858302281939078, 0.007777753279636353, 0.0019444383199090883, 0.9931997687032542, 0.0022784061655138064, 0.0022784061655138064, 0.9888282758329919, 0.997579048341988, 0.01185395750375859, 0.000790263833583906, 0.001580527667167812, 0.001580527667167812, 0.000790263833583906, 0.03398134484410796, 0.9467360726335194, 0.9974236385520644, 0.9897815989580098, 0.0030361398741043243, 0.9980991008315714, 0.9854216040796615, 0.0071928584239391346, 0.9935474209837308, 0.9888352158196576, 0.0016385007718635585, 0.0008192503859317793, 0.006554003087454234, 0.0008192503859317793, 0.9939010113710772, 0.9963579886643276, 0.9955762039918127, 0.0009743083500964233, 0.0009743083500964233, 0.0019486167001928466, 0.0009743083500964233, 0.0019486167001928466, 0.0019486167001928466, 0.0019486167001928466, 0.0009743083500964233, 0.00292292505028927, 0.0009743083500964233, 0.978205583496809, 0.004871541750482117, 0.0009743083500964233, 0.9945043261601515, 0.0014804063544979664, 0.0014804063544979664, 0.9963134765771314, 0.9953014760620953, 0.002697293973068009, 0.9920367029753916, 0.004049129399899557, 0.9934610826647339, 0.9961682081701425, 0.9961315773910951, 0.03099697366977371, 0.05458162754894936, 0.010107708805360991, 0.0020215417610721983, 0.0013476945073814656, 0.03773544620668104, 0.020889264864412716, 0.028301584655010776, 0.0040430835221443966, 0.016172334088577586, 0.0902955319945582, 0.02897543190870151, 0.017520028595959053, 0.0020215417610721983, 0.002695389014762931, 0.010107708805360991, 0.07749243417443427, 0.020215417610721983, 0.4231760753177802, 0.005390778029525862, 0.03571390444560884, 0.020889264864412716, 0.00471693077583513, 0.012803097820123923, 0.013476945073814656, 0.02628004289393858, 0.001536606424158307, 0.001536606424158307, 0.9911111435821081, 0.001536606424158307, 0.001536606424158307, 0.9930109498066614, 0.9914103056456417, 0.9929949670280656, 0.9886021289164562, 0.0022017864786558045, 0.0022017864786558045, 0.0022017864786558045, 0.0022017864786558045, 0.9967942914576418, 0.011872252445884458, 0.98539695300841, 0.9979385822208204, 0.9960068693655156, 0.0022386727174975615, 0.9939706865689173, 0.996762928769664, 0.0013691798472110768, 0.9965258212284325, 0.9933884245864014, 0.9948691961169805, 0.9957122890689752, 0.002435199491180198, 0.9521630010514575, 0.0036527992367702974, 0.001217599745590099, 0.001217599745590099, 0.001217599745590099, 0.002435199491180198, 0.001217599745590099, 0.001217599745590099, 0.006087998727950496, 0.021916795420621783, 0.001217599745590099, 0.0036527992367702974, 0.00031457648918016844, 0.9994095061253951, 0.9964518416102975, 0.0010910022808344948, 0.9960850824018936, 0.0010910022808344948, 0.0021829219322289763, 0.0005457304830572441, 0.0005457304830572441, 0.0005457304830572441, 0.0005457304830572441, 0.0005457304830572441, 0.0005457304830572441, 0.001637191449171732, 0.0005457304830572441, 0.0021829219322289763, 0.9790404866046958, 0.0005457304830572441, 0.0005457304830572441, 0.0038201133814007083, 0.0005457304830572441, 0.0005457304830572441, 0.0010914609661144881, 0.0010914609661144881, 0.0021829219322289763, 0.9976301152521906, 0.9964983637813057, 0.9934224644164897, 0.0022732779506098163, 0.0032654395596241124, 0.01306175823849645, 0.9731009887679855, 0.0032654395596241124, 0.0032654395596241124, 0.9947836341395386, 0.9973244328491694, 0.9966887566548039, 0.9947329141704196, 0.9936319977647504, 0.0009069353539553422, 0.9930942125810998, 0.0009069353539553422, 0.0027208060618660267, 0.0009069353539553422, 0.9953808686613319, 0.9947448490467591, 0.9974980641754636, 0.9968481946978781, 0.0026215879994065916, 0.9935818517750983, 0.9923815461986913, 0.9918834427365342, 0.001322789765763362, 0.9960606936198116, 0.9888342385198845, 0.0005602460274900195, 0.0005602460274900195, 0.005042214247410176, 0.0016807380824700588, 0.0005602460274900195, 0.0005602460274900195, 0.0005602460274900195, 0.001120492054980039, 0.995764798458664, 0.9980641449285735, 0.0007393067740211656, 0.0023815814077042174, 0.9931194470126588, 0.997767092858216, 0.9953725824516554, 0.9565832842486852, 0.000997479962720214, 0.001994959925440428, 0.0029924398881606418, 0.003989919850880856, 0.0029924398881606418, 0.000997479962720214, 0.001994959925440428, 0.000997479962720214, 0.006982359739041498, 0.000997479962720214, 0.001994959925440428, 0.000997479962720214, 0.001994959925440428, 0.000997479962720214, 0.000997479962720214, 0.008977319664481925, 0.992795614927991, 0.012807890906080387, 0.06332790503561969, 0.002134648484346731, 0.5756435412788351, 0.0014230989895644875, 0.0007115494947822437, 0.0014230989895644875, 0.1821566706642544, 0.0049808464634757054, 0.0035577474739112184, 0.002846197979128975, 0.002846197979128975, 0.0014230989895644875, 0.009961692926951411, 0.006403945453040193, 0.02134648484346731, 0.00569239595825795, 0.041981420192152376, 0.056923959582579495, 0.0014784179438644797, 0.0014784179438644797, 0.9949752762207948, 0.9961140516262218, 0.9935548176166765, 0.011960276422792713, 0.0029900691056981782, 0.9837327357747007, 0.9959496853175845, 0.9917626438419115, 0.004259328056103868, 0.9924234370722012, 0.9948934361494627, 0.0011687535965657168, 0.0011687535965657168, 0.0023375071931314335, 0.9794155139220706, 0.004675014386262867, 0.0011687535965657168, 0.005843767982828583, 0.0011687535965657168, 0.9951612309051617, 0.005754997514034382, 0.9898595724139138, 0.004924447733182827, 0.9898139943697483, 0.9971475993314395, 0.9940103099875608, 0.9916155320286492, 0.0025698363840719303, 0.9960685824662803, 0.0008959602831875084, 0.0017919205663750168, 0.004479801415937542, 0.007167682265500067, 0.0008959602831875084, 0.00537576169912505, 0.002687880849562525, 0.0017919205663750168, 0.006271721982312559, 0.0017919205663750168, 0.0008959602831875084, 0.0008959602831875084, 0.019711126230125185, 0.0008959602831875084, 0.0008959602831875084, 0.0035838411327500336, 0.9353825356477588, 0.0017919205663750168, 0.002687880849562525, 0.0008959602831875084, 0.9962750567838822, 0.9928924416729638, 0.0026128748465077995, 0.9976017029451145, 0.9962193784423011, 0.0010022327750928582, 0.0010022327750928582, 0.9977840210817056, 0.9968892164753231, 0.9977055906224745, 0.9948260549639627, 0.0017666417565885806, 0.9893193836896051, 0.0017666417565885806, 0.005299925269765742, 0.9948888270189209, 0.001447139265533052, 0.9941846754212068, 0.001447139265533052, 0.9960848432993581, 0.9941094652508816, 0.9972317963430503, 0.9957905412372006, 0.9944791503210618, 0.013002384516399864, 0.9803797925365497, 0.9968932304743838, 0.0012625379262881117, 0.023356951636330066, 0.8762013208439495, 0.0031563448157202792, 0.010100303410304894, 0.054289130830388804, 0.0018938068894321675, 0.0006312689631440559, 0.0025250758525762235, 0.0012625379262881117, 0.0018938068894321675, 0.0006312689631440559, 0.0006312689631440559, 0.0012625379262881117, 0.015781724078601397, 0.0012625379262881117, 0.0031563448157202792, 0.0006312689631440559, 0.0007687951451658947, 0.0007687951451658947, 0.9825201955220134, 0.0015375902903317893, 0.0015375902903317893, 0.0015375902903317893, 0.0038439757258294737, 0.002306385435497684, 0.0015375902903317893, 0.9928208243323998, 0.9888949491180461, 0.009616482487371599, 0.9958093950359815, 0.9947548111938053, 0.0020845670074970102, 0.0041691340149940205, 0.0010422835037485051, 0.026057087593712627, 0.9578585399448762, 0.0010422835037485051, 0.005211417518742526, 0.9978820477483804, 0.0017324341106742715, 0.0037375220022045383, 0.9904433305842026, 0.00041810687311625536, 0.9967667855091528, 0.00041810687311625536, 0.0008362137462325107, 0.004007303525032766, 0.005343071366710354, 0.005343071366710354, 0.017364981941808653, 0.01870074978348624, 0.0013357678416775886, 0.00935037489174312, 0.002671535683355177, 0.013357678416775886, 0.008014607050065532, 0.006678839208387943, 0.002671535683355177, 0.8722564006154654, 0.002671535683355177, 0.01870074978348624, 0.00935037489174312, 0.9971234970694737, 0.0014915833912781955, 0.9964301445087743, 0.9961248362311297, 0.9969151994972992, 0.000982656175018776, 0.000982656175018776, 0.000982656175018776, 0.000982656175018776, 0.000982656175018776, 0.0029479685250563287, 0.000982656175018776, 0.0029479685250563287, 0.0029479685250563287, 0.9787255503187011, 0.000982656175018776, 0.000982656175018776, 0.000982656175018776, 0.000982656175018776, 0.9912688619816153, 0.9976134049798275, 0.9937397333793943, 0.9955662567447668, 0.0023425088393994515, 0.9972594905604094, 0.9971326030207592, 0.0014242526835231708, 0.0014242526835231708, 0.0014242526835231708, 0.0014242526835231708, 0.0014242526835231708, 0.9912798677321268, 0.9942597843655637, 0.9918149691673005, 0.0012523799157728, 0.9956420330393758, 0.9963879887473553, 0.9988053643843018, 0.9951790125194108, 0.9940133913285718, 0.9951090033653511, 0.9902911506917952, 0.0035103926461192768, 0.9881755298825764, 0.0017551963230596384, 0.0017551963230596384, 0.0017551963230596384, 0.0017551963230596384, 0.9922561447254996, 0.0013877273727811788, 0.9950005262841053, 0.0013877273727811788, 0.994836416535357, 0.041993607900703306, 0.0009129045195805066, 0.0009129045195805066, 0.00273871355874152, 0.009129045195805067, 0.020083899430771147, 0.0009129045195805066, 0.0018258090391610133, 0.7732301280846892, 0.020083899430771147, 0.0018258090391610133, 0.0136935677937076, 0.03651618078322027, 0.00273871355874152, 0.031951658185317734, 0.03651618078322027, 0.00273871355874152, 0.0009129045195805066, 0.9961882199790516, 0.00048522542615608345, 0.9951973490461271, 0.0029113525569365007, 0.00048522542615608345, 0.9946028633953726, 0.9979274597293929, 0.9967229435888492, 0.9962758613512465, 0.9944405857708103, 0.998839312988082, 0.9969496995684421, 0.9924006363738537, 0.9928434636991709, 0.9934814688728044, 0.0022258733432549763, 0.0014839155621699843, 0.0007419577810849922, 0.9984579572575358, 0.99869841650744, 0.0017151851878143816, 0.9965225941201558, 0.9928130252923897, 0.996419769608901, 0.9942294064072995, 0.9946999726444853, 0.993742936517549, 0.0030389692248243088, 0.9976889924914234, 0.9971361266698832, 0.99622764979772, 0.994422137306861, 0.9919566399517687, 0.9989481068558952, 0.9992117899012768, 0.0008981728971399082, 0.9978700887224381, 0.0004490864485699541, 0.9978869790598013, 0.0003937507409633307, 0.99894562982397, 0.9989684951243976, 0.9957196473738944, 0.9949393216764457, 0.0019780105798736496, 0.004218440457772499, 0.9934427278054235, 0.001565704674847527, 0.9785654217797044, 0.004697114024542581, 0.001565704674847527, 0.001565704674847527, 0.006262818699390108, 0.001565704674847527, 0.9885983351099087, 0.0005842779758332793, 0.0011685559516665586, 0.004674223806666235, 0.0005842779758332793, 0.0005842779758332793, 0.0011685559516665586, 0.994916374535336, 0.0022458608905989524, 0.9943590350245496, 0.9941751783471852, 0.9966641251885592, 0.9934965133695397, 0.0011754342324372816, 0.0011754342324372816, 0.002350868464874563, 0.00705260539462369, 0.02938585581093204, 0.004701736929749126, 0.019982381951433786, 0.8592424239116528, 0.00822803962706097, 0.0011754342324372816, 0.00822803962706097, 0.0011754342324372816, 0.0011754342324372816, 0.005877171162186408, 0.0011754342324372816, 0.010578908091935534, 0.019982381951433786, 0.0011754342324372816, 0.005877171162186408, 0.003526302697311845, 0.002350868464874563, 0.0011754342324372816, 0.0011754342324372816, 0.0015897369904561628, 0.995175356025558, 0.0015897369904561628, 0.998488507290846, 0.0009177284074364393, 0.9983393367234714, 0.9954737459544148, 0.9908423557312167, 0.0025518502190610853, 0.9901178849957012, 0.9627919749431252, 0.00035099962630081124, 0.0007019992526016225, 0.00561599402081298, 0.00035099962630081124, 0.005966993647113791, 0.002105997757804867, 0.001403998505203245, 0.0007019992526016225, 0.00035099962630081124, 0.00035099962630081124, 0.00280799701040649, 0.00035099962630081124, 0.012986986173130015, 0.00280799701040649, 0.009239436516614623, 0.0030798121722048744, 0.982460082933355, 0.9946599044691992, 0.9916158472995069, 0.9981642241428201, 0.0025411852478557312, 0.0012705926239278656, 0.0012705926239278656, 0.9897916540398073, 0.0025411852478557312, 0.9930798450972597, 0.9951408612963902, 0.99376402338201, 0.0009363854087195727, 0.009363854087195728, 0.002809156226158718, 0.008427468678476154, 0.0009363854087195727, 0.0018727708174391454, 0.003745541634878291, 0.0103002394959153, 0.014982166539513163, 0.008427468678476154, 0.01685493735695231, 0.004681927043597864, 0.02340963521798932, 0.8118461493598695, 0.006554697861037009, 0.0018727708174391454, 0.002809156226158718, 0.004681927043597864, 0.0103002394959153, 0.0103002394959153, 0.003745541634878291, 0.004681927043597864, 0.005618312452317436, 0.0009363854087195727, 0.003745541634878291, 0.0018727708174391454, 0.004681927043597864, 0.017791322765671882, 0.004681927043597864, 0.9966565271677168, 0.005749685783509766, 0.9918207976554345, 0.9965212257395468, 0.0009895940672686662, 0.9945647023109676, 0.992978363997978, 0.9927366439462877, 0.01666398942249135, 0.01333119153799308, 0.01333119153799308, 0.00333279788449827, 0.00333279788449827, 0.00333279788449827, 0.9331834076595156, 0.00333279788449827, 0.015054321443946818, 0.9735127867085609, 0.9972065592566175, 0.0008964472907153835, 0.9950564926940757, 0.0008964472907153835, 0.0008964472907153835, 0.0008964472907153835, 0.993838325811494, 0.0017715478178458005, 0.9911231811206319, 0.9927946897734543, 0.9953741582931704, 0.9985494176008555, 0.9938276084519544, 0.9956201528426659, 0.9919862464274056, 0.9901609206283764, 0.0033793888076053802, 0.9929045276784296, 0.9976769685993757, 0.0019799594039154877, 0.9939396207655747, 0.9958205402337438, 0.001051552840795928, 0.9931314186294045, 0.0007356745493069068, 0.014897409623464863, 0.0014713490986138136, 0.0034944541092078074, 0.0022070236479207203, 0.0005517559119801801, 0.0014713490986138136, 0.0011035118239603602, 0.0003678372746534534, 0.0007356745493069068, 0.0016552677359405403, 0.001839186373267267, 0.0007356745493069068, 0.013058223250197596, 0.008092420042375975, 0.001839186373267267, 0.8517272094600714, 0.0003678372746534534, 0.0007356745493069068, 0.07264786174405705, 0.0005517559119801801, 0.0014713490986138136, 0.0012874304612870869, 0.0014713490986138136, 0.0003678372746534534, 0.0009195931866336335, 0.0005517559119801801, 0.0027587795599009006, 0.0003678372746534534, 0.0011035118239603602, 0.0016552677359405403, 0.0005517559119801801, 0.0009195931866336335, 0.0023909422852474473, 0.0007356745493069068, 0.0023909422852474473, 0.0007356745493069068, 0.9962891123673336, 0.0007231406448989894, 0.010847109673484841, 0.003615703224494947, 0.9169423377319186, 0.01229339096328282, 0.010123969028585852, 0.0007231406448989894, 0.005061984514292926, 0.0007231406448989894, 0.017355375477575746, 0.0007231406448989894, 0.004338843869393936, 0.010123969028585852, 0.0014462812897979788, 0.0028925625795959576, 0.0008017904371723285, 0.00040089521858616427, 0.02365281789658369, 0.001603580874344657, 0.9300769071199011, 0.00841879959030945, 0.00040089521858616427, 0.0008017904371723285, 0.005612533060206299, 0.00040089521858616427, 0.00040089521858616427, 0.00040089521858616427, 0.00040089521858616427, 0.00040089521858616427, 0.008819694808895613, 0.00040089521858616427, 0.0008017904371723285, 0.001603580874344657, 0.01042327568324027, 0.0028062665301031497, 0.9960927259771808, 0.9970170900749404, 0.9947115038245045, 0.0027402520766515275, 0.002057765908495115, 0.0010288829542475576, 0.0010288829542475576, 0.9928720508488931, 0.0010288829542475576, 0.9953784735768003, 0.9942686340273246, 0.9973501949420019, 0.9971046304500802, 0.991336871623913, 0.0032717388502439375, 0.9978335821211486, 0.9946433967956503, 0.996272152227391, 0.0004546054231411791, 0.0004546054231411791, 0.0004546054231411791, 0.0018184216925647165, 0.003182237961988254, 0.0022730271157058953, 0.0004546054231411791, 0.9801292922923821, 0.0009092108462823582, 0.0009092108462823582, 0.0004546054231411791, 0.0018184216925647165, 0.0009092108462823582, 0.0004546054231411791, 0.0013638162694235372, 0.0004546054231411791, 0.0004546054231411791, 0.0009092108462823582, 0.0004546054231411791, 0.0004546054231411791, 0.0004546054231411791, 0.0004546054231411791, 0.9925822665740334, 0.9971343339342822, 0.000941362549247162, 0.001882725098494324, 0.9940788520050031, 0.9939121116729894, 0.007737190874620797, 0.9787546456395309, 0.0038685954373103987, 0.9916971747472152, 0.9963286616165147, 0.9982089795857967, 0.009039272270044885, 0.9875404955024036, 0.004247866198677417, 0.9897528242918381, 0.995024726550258, 0.0011066314027884784, 0.9959682625096306, 0.0011066314027884784, 0.002126766369376839, 0.9953266608683605, 0.0718993452394075, 0.016177352678866688, 0.0008987418154925937, 0.013930498140135202, 0.00044937090774629685, 0.0008987418154925937, 0.00044937090774629685, 0.01707609449435928, 0.00044937090774629685, 0.00044937090774629685, 0.018873578125344466, 0.01977231994083706, 0.8079688921278417, 0.0008987418154925937, 0.00044937090774629685, 0.00044937090774629685, 0.00044937090774629685, 0.0017974836309851874, 0.0017974836309851874, 0.00044937090774629685, 0.00044937090774629685, 0.0031455963542240777, 0.004943079985209265, 0.005841821800701859, 0.00044937090774629685, 0.00044937090774629685, 0.0008987418154925937, 0.006291192708448155, 0.0022468545387314843, 0.0022265595124784086, 0.9908189830528917, 0.00031807993035405836, 0.0022265595124784086, 0.00031807993035405836, 0.00031807993035405836, 0.00031807993035405836, 0.00031807993035405836, 0.0022265595124784086, 0.00031807993035405836, 0.00031807993035405836, 0.9902114589898973, 0.9939994139738281, 0.9974775811326398, 0.010985767795438138, 0.9868881402901927, 0.9952261652362144, 0.996658548447465, 0.0008910128367391424, 0.9970433643111004, 0.9963147016566354, 0.9963809934195489, 0.004078847576917787, 0.9931993849794812, 0.0036730438680926273, 0.995394888253102, 0.9930007412894739, 0.0030472613306869547, 0.006094522661373909, 0.021330829314808685, 0.9172256605367735, 0.009141783992060865, 0.0030472613306869547, 0.012189045322747819, 0.0030472613306869547, 0.0030472613306869547, 0.012189045322747819, 0.006094522661373909, 0.0030472613306869547, 0.9907622298602919, 0.9951263727363114, 0.0026118802434023924, 0.9929971973781905, 0.002054932542189563, 0.010274662710947815, 0.002054932542189563, 0.002054932542189563, 0.002054932542189563, 0.9719830924556633, 0.002969677842959466, 0.002969677842959466, 0.005939355685918932, 0.002969677842959466, 0.002969677842959466, 0.005939355685918932, 0.002969677842959466, 0.005939355685918932, 0.002969677842959466, 0.002969677842959466, 0.005939355685918932, 0.005939355685918932, 0.005939355685918932, 0.008909033528878398, 0.008909033528878398, 0.7542981721117044, 0.02375742274367573, 0.13660518077613543, 0.9947646626416926, 0.9979264928287646, 0.9933549295140295, 0.9968321002514838, 0.9936412542982832, 0.9905969953075776, 0.004672627336356499, 0.9982688485978412, 0.0005724018627281199, 0.0005724018627281199, 0.9947308220004679, 0.9901688311024052, 0.99319859172538, 0.9969194955461482, 0.9932443112941558, 0.9966126176462721, 0.9920526751249689, 0.9974513790389823, 0.9993791578872895, 0.9954028803951166, 0.9940025871074419, 0.0028645607697620804, 0.9975643379265403, 0.9881758698669092, 0.0006168388700792192, 0.0012336777401584383, 0.0006168388700792192, 0.0006168388700792192, 0.0006168388700792192, 0.0006168388700792192, 0.0012336777401584383, 0.0006168388700792192, 0.0012336777401584383, 0.0012336777401584383, 0.0006168388700792192, 0.0012336777401584383, 0.9923695310760627, 0.9963840181542171, 0.9970381463420759, 0.9917239090891564, 0.9939515803987748, 0.9973164463761828, 0.000732244086913497, 0.9935994956291964, 0.0021982289726309653, 0.0021982289726309653, 0.01167076286981183, 0.9803440810641937, 0.0038902542899372766, 0.9976564045123251, 0.9949464550076598, 0.9950736418773174, 0.00376329981229475, 0.9897478506335192, 0.9950941341277919, 0.002415277024582019, 0.9933483360039482, 0.001625774690677493, 0.003251549381354986, 0.9962727321138652, 0.0036827546793119295, 0.9943437634142209, 0.9972297590136022, 0.0014774600309642894, 0.9958080608699311, 0.9930457196220829, 0.010795185937805506, 0.9370221394015178, 0.002159037187561101, 0.0010795185937805506, 0.0064771115626833025, 0.007556630156463853, 0.0010795185937805506, 0.004318074375122202, 0.002159037187561101, 0.002159037187561101, 0.004318074375122202, 0.005397592968902753, 0.002159037187561101, 0.007556630156463853, 0.0010795185937805506, 0.0010795185937805506, 0.0032385557813416513, 0.0010795185937805506, 0.9869232119773387, 0.9942001607647617, 0.003617445166705115, 0.003617445166705115, 0.9911799756772015, 0.9959922942705594, 0.0007005178687296632, 0.0007005178687296632, 0.996136409333581, 0.0007005178687296632, 0.9944003470720184, 0.9851301994763838, 0.009753764351251325, 0.0019507528702502651, 0.9965227348342336, 0.9927053811472535, 0.003320084886780112, 0.011687658818230464, 0.002191436028418212, 0.002921914704557616, 0.8977582929753275, 0.008035265437533443, 0.002921914704557616, 0.009496222789812252, 0.001460957352278808, 0.000730478676139404, 0.00365239338069702, 0.005843829409115232, 0.00365239338069702, 0.004382872056836424, 0.015340052198927484, 0.010226701465951655, 0.006574308085254636, 0.001460957352278808, 0.005113350732975828, 0.001460957352278808, 0.00365239338069702, 0.9952172215494822, 0.996584031358218, 0.0009043449508573528, 0.9866403413853719, 0.0009043449508573528, 0.0018086899017147056, 0.0018086899017147056, 0.0009043449508573528, 0.0018086899017147056, 0.0009043449508573528, 0.0009043449508573528, 0.9975277119937134, 0.9976363179905227, 0.9958292772911734, 0.9840002251549858, 0.004823530515465617, 0.9919461581810101, 0.001141830354555864, 0.001141830354555864, 0.002283660709111728, 0.001141830354555864, 0.001141830354555864, 0.981974104918043, 0.009134642836446912, 0.9955505594380721, 0.9939751680758454, 0.061298373812427163, 0.08106560184965937, 0.032546042121907585, 0.010183117473725686, 0.039135118134318324, 0.014575834815332844, 0.01058245541387179, 0.025158290229204634, 0.011181462324090948, 0.046722538997094325, 0.01058245541387179, 0.030549352421177057, 0.0065890760124107375, 0.02555762816935074, 0.007587420862776001, 0.01417649687518674, 0.018968552156940002, 0.021963586708035793, 0.01277881408467537, 0.037937104313880005, 0.00599006910219158, 0.012179807174456212, 0.017171531426282527, 0.013777158935040633, 0.022362924648181896, 0.00898510365328737, 0.0337440559423459, 0.008585765713141263, 0.027953655810227372, 0.032945380062053685, 0.016173186575917264, 0.008186427772995159, 0.011580800264237055, 0.02695531095986211, 0.009983448503652632, 0.008386096743068212, 0.009783779533579581, 0.029950345510957897, 0.013178152024821475, 0.010782124383944844, 0.009184772623360421, 0.029950345510957897, 0.010183117473725686, 0.012179807174456212, 0.09045004344309285, 0.04363980133198523, 0.004662371937177909, 0.005781341202100607, 0.03673949086496192, 0.02349835456337666, 0.02517680846076071, 0.024430828950812243, 0.03375557282516806, 0.008578764364407352, 0.02107392115604415, 0.0102572182617914, 0.03580701647752634, 0.018276497993737404, 0.042707326944549644, 0.008019279731946003, 0.012495156791636796, 0.009884228506817166, 0.014919590198969308, 0.028533716255528804, 0.012122167036662563, 0.016598044096353355, 0.01118969264922698, 0.04382629620947234, 0.01846299287122452, 0.19432766234157525, 0.021260416033531265, 0.021819900665992615, 0.0029839180397938617, 0.004475877059690793, 0.004662371937177909, 0.02200639554347973, 0.005967836079587723, 0.00969773362933005, 0.03356907794768094, 0.0063408258345619565, 0.016971033851327588, 0.022565880175941078, 0.05259155545136681, 0.00969773362933005, 0.011562682404201214, 0.011003197771739866, 0.005221856569639258, 0.017530518483788938, 0.015665569708917772, 0.0008651322449799232, 0.9983626107068314, 0.0008651322449799232, 0.9931979214790114, 0.9952589782310696, 0.9969610319805656, 0.99376197309204, 0.008944663330471829, 0.01711823499452367, 0.014959178328547713, 0.01927729166049963, 0.021282129993191592, 0.015576051661683701, 0.02930148332395944, 0.015884488328251695, 0.016038706661535694, 0.011566374996299778, 0.03038101165694742, 0.015884488328251695, 0.008019353330767847, 0.008790444997187832, 0.0013879649995559734, 0.018197763327511652, 0.062304206646734805, 0.016038706661535694, 0.040559421653691224, 0.007710916664199852, 0.01711823499452367, 0.05274266998312699, 0.03439068832233134, 0.010795283329879793, 0.028376173324255457, 0.03238584998963938, 0.011103719996447787, 0.10671908663252595, 0.02775929999111947, 0.0024674933325439527, 0.01465074166197972, 0.003392803332247935, 0.0157302699949677, 0.023286968325883554, 0.01094950166316379, 0.007094043331063864, 0.015576051661683701, 0.04102207665354322, 0.015576051661683701, 0.03176897665650339, 0.007248261664347861, 0.011874811662867772, 0.013879649995559734, 0.003392803332247935, 0.0024674933325439527, 0.017580889994375664, 0.02513758832529152, 0.03084366665679941, 0.0052434233316558995, 0.9975936810617548, 0.9961842974459286, 0.9953155541269445, 0.0008171226860756306, 0.0008171226860756306, 0.004902736116453784, 0.0008171226860756306, 0.9789129779186055, 0.0032684907443025226, 0.0008171226860756306, 0.0008171226860756306, 0.0008171226860756306, 0.0008171226860756306, 0.0008171226860756306, 0.0016342453721512613, 0.0008171226860756306, 0.0016342453721512613, 0.0008171226860756306, 0.0008171226860756306, 0.993220919450561, 0.997385510850661, 0.9973799327248769, 0.99693626495831, 0.9946236668371266, 0.9972073621933478, 0.9954921956330272, 0.9924151690466227, 0.9970205135006778, 0.0027989377877492656, 0.0027989377877492656, 0.9824271634999923, 0.005597875575498531, 0.9972519794941569, 0.9945238364387076, 0.9916455075738927, 0.004631694769947353, 0.9934985281537072, 0.9955120120106048, 0.992898466970871, 0.9726455858960267, 0.02038478772835984, 0.0029121125326228344, 0.9971146702519813, 0.9952175904800413, 0.0015623510054631731, 0.9961171363457594, 0.9961577534573315, 0.9839309577414965, 0.002893914581592637, 0.002893914581592637, 0.005787829163185274, 0.9955732287559168, 0.995524727334687, 0.0027904564536699143, 0.9947977257333245, 0.0006976141134174786, 0.9959796630834158, 0.9940704594079188, 0.002701278422304127, 0.9951342914056075, 0.9955420179994089, 0.9939242425364976, 0.9963530407286404, 0.014093166642600264, 0.0025623939350182296, 0.0025623939350182296, 0.0025623939350182296, 0.011530772707582035, 0.0025623939350182296, 0.0025623939350182296, 0.016655560577618495, 0.005124787870036459, 0.0064059848375455745, 0.0012811969675091148, 0.014093166642600264, 0.015374363610109378, 0.758468604765396, 0.04996668173285548, 0.0025623939350182296, 0.008968378772563804, 0.0038435909025273446, 0.0012811969675091148, 0.0038435909025273446, 0.0025623939350182296, 0.0064059848375455745, 0.0012811969675091148, 0.015374363610109378, 0.020499151480145836, 0.0064059848375455745, 0.0012811969675091148, 0.0064059848375455745, 0.005124787870036459, 0.005124787870036459, 0.995545841583508, 0.8385039957471595, 0.0016042806041080858, 0.000534760201369362, 0.000534760201369362, 0.0037433214095855334, 0.15080237678616007, 0.0026738010068468095, 0.000534760201369362, 0.9948586722892336, 0.0034631242599331554, 0.9904535383408826, 0.005006976489293133, 0.0011126614420651406, 0.002225322884130281, 0.003337984326195422, 0.0027816536051628515, 0.0005563307210325703, 0.0011126614420651406, 0.006119637931358273, 0.002225322884130281, 0.0027816536051628515, 0.0005563307210325703, 0.0005563307210325703, 0.0011126614420651406, 0.002225322884130281, 0.001668992163097711, 0.0005563307210325703, 0.0038943150472279925, 0.0005563307210325703, 0.005563307210325703, 0.0005563307210325703, 0.0005563307210325703, 0.9518818636867279, 0.0005563307210325703, 0.0011126614420651406, 0.002225322884130281, 0.997001387673287, 0.999114428571955, 0.9905590193165844, 0.9916951924898589, 0.005911744813650426, 0.9968852234268473, 0.9979468316169073, 0.997620150780045, 0.9876509631709646, 0.008625772604113228, 0.9984080832559903, 0.0004536566567846945, 0.0004536566567846945, 0.0004536566567846945, 0.0004536566567846945, 0.0004536566567846945, 0.9957763616424044, 0.9977735454858601, 0.9936950712294773, 0.9973282468322349, 0.0013264579406335954, 0.99616991341583, 0.0006632289703167977, 0.9960718679507262, 0.9978840894414419, 0.9948011957645662, 0.0006748990473300992, 0.0013497980946601984, 0.0006748990473300992, 0.9941978708517321, 0.9961632574614727, 0.9925896738759185, 0.9958191233171726, 0.9959861629320725, 0.9953771752162485, 0.9945457040936754, 0.0076546698307803016, 0.984668891868557, 0.000695879075525482, 0.000695879075525482, 0.000695879075525482, 0.002783516302101928, 0.9970059672010269, 0.001734779412587494, 0.0011565196083916625, 0.001734779412587494, 0.9937394735105362, 0.0005782598041958313, 0.9818744691228869, 0.013894450034757833, 0.004222619045785518, 0.008445238091571036, 0.9796476186222403, 0.9964366169846983, 0.9958340029772781, 0.9958521270495535, 0.003668690599989688, 0.8401301473976386, 0.15408500519956692, 0.9939656697328022, 0.00039384082762205087, 0.00039384082762205087, 0.00039384082762205087, 0.0015753633104882035, 0.00039384082762205087, 0.9948419305733005, 0.00039384082762205087, 0.9933113467461475, 0.00011183273325252971, 0.9698134627659376, 5.5916366626264854e-05, 0.00011183273325252971, 0.0003354981997575891, 0.0006150800328889133, 0.00044733093301011883, 0.0007828291327677079, 0.00044733093301011883, 0.00022366546650505942, 0.010680026025616587, 0.0007828291327677079, 0.00011183273325252971, 0.0002795818331313243, 0.00011183273325252971, 0.0005591636662626486, 0.00011183273325252971, 5.5916366626264854e-05, 0.00011183273325252971, 5.5916366626264854e-05, 0.0005032472996363837, 0.0005591636662626486, 0.00039141456638385396, 0.00039141456638385396, 0.0021807382984243293, 5.5916366626264854e-05, 0.00011183273325252971, 0.0003354981997575891, 0.0002795818331313243, 5.5916366626264854e-05, 0.00016774909987879455, 0.0035227310974546857, 0.00039141456638385396, 0.003019483797818302, 0.00016774909987879455, 5.5916366626264854e-05, 0.00011183273325252971, 5.5916366626264854e-05, 0.00011183273325252971, 0.0002795818331313243, 5.5916366626264854e-05, 5.5916366626264854e-05, 0.001174243699151562, 0.00016774909987879455, 5.5916366626264854e-05, 0.9953747697481609, 0.9972616834195985, 0.001606091253475405, 0.00642436501390162, 0.001606091253475405, 0.9845339383804232, 0.001606091253475405, 0.001606091253475405, 0.9894262864013699, 0.9953928482627997, 0.0005664201634630634, 0.0005664201634630634, 0.0005664201634630634, 0.0005664201634630634, 0.9918017062238239, 0.0005664201634630634, 0.0005664201634630634, 0.0005664201634630634, 0.00169926049038919, 0.0005664201634630634, 0.9956638990713124, 0.9965924416868494, 0.9916749009166556, 0.9735574640745952, 0.003300194793473204, 0.009900584380419611, 0.006600389586946408, 0.9974056675610052, 0.993491524792074, 0.9986125055129588, 0.9979078644324557, 0.9966957523095241, 0.996411731783575, 0.000715299161366529, 0.001430598322733058, 0.000715299161366529, 0.9941139793073229, 0.0019454285309340956, 0.9925065663350039, 0.9989280374288237, 0.9974354607321818, 0.00786225108255214, 0.9880228860407188, 0.995932171624785, 0.0007332953115414616, 0.37178072295152104, 0.0021998859346243848, 0.0007332953115414616, 0.6233010148102424, 0.9927700451618814, 0.0015156794582624144, 0.0015156794582624144, 0.003463355443244435, 0.9905196567679084, 0.997307832233457, 0.9964426800047711, 0.9954248886027319, 0.988426496863543, 0.0010676073773503614, 0.00017793456289172692, 0.00017793456289172692, 0.00035586912578345383, 0.00017793456289172692, 0.0008896728144586345, 0.00017793456289172692, 0.0005338036886751807, 0.00017793456289172692, 0.00017793456289172692, 0.00035586912578345383, 0.00017793456289172692, 0.00035586912578345383, 0.00017793456289172692, 0.00017793456289172692, 0.0014234765031338153, 0.00017793456289172692, 0.00035586912578345383, 0.00017793456289172692, 0.00035586912578345383, 0.00017793456289172692, 0.00017793456289172692, 0.00017793456289172692, 0.00017793456289172692, 0.00035586912578345383, 0.00035586912578345383, 0.00017793456289172692, 0.00017793456289172692, 0.0005338036886751807, 0.00017793456289172692, 0.0005338036886751807, 0.00017793456289172692, 0.00035586912578345383, 0.016812193936708044, 0.0006724877574683218, 0.0006724877574683218, 0.9535876400900803, 0.004707414302278253, 0.0013449755149366437, 0.01950214496658133, 0.0006724877574683218, 0.0006724877574683218, 0.0013449755149366437, 0.9968199581262772, 0.9924249966719603, 0.9936923696878052, 0.9956641667586474, 0.9955534934567928, 0.9985430299873019, 0.0007947019737264639, 0.9938799730688369, 0.00043544957812326337, 0.0026126974687395803, 0.00043544957812326337, 0.9950022860116569, 0.00043544957812326337, 0.9914959648334958, 0.0030601727309675793, 0.0030601727309675793, 0.007214249660974761, 0.1354122953605952, 0.03681754999394016, 0.009121465088588777, 0.04054905843927193, 0.043534265195537346, 0.008292240989626162, 0.020647680064169144, 0.01650155956935606, 0.03250558467933455, 0.02214028344230185, 0.02272074031157568, 0.013599275222986904, 0.027944852135040166, 0.011692059795372889, 0.026866860806388764, 0.0356566362553925, 0.014428499321949522, 0.01882338704645139, 0.010282378827136441, 0.017662473307903725, 0.026535171166803716, 0.013682197632883166, 0.0388906102413467, 0.03258850708923081, 0.012106671844854196, 0.019901378375102786, 0.021725671392820542, 0.020813524883961664, 0.016004025109978493, 0.013682197632883166, 0.01136037015578784, 0.0050582670036719585, 0.016584481979252323, 0.007131327251078499, 0.023881654050123345, 0.011443292565684103, 0.02371580923033082, 0.014096809682364474, 0.02048183524437662, 0.00970192195786261, 0.009867766777655133, 0.008541008219314946, 0.01840877499697008, 0.011940827025061673, 0.019320921505828956, 0.9934477703967651, 0.9913167588940885, 0.003533231218989727, 0.9928379725361133, 0.01541525097046448, 0.00045338973442542586, 0.97932182635892, 0.0009067794688508517, 0.00045338973442542586, 0.00045338973442542586, 0.00045338973442542586, 0.00045338973442542586, 0.0009067794688508517, 0.00045338973442542586, 0.9943371814542203, 0.997116869697696, 0.9963048776869866, 0.00029859759579598823, 0.009555123065471623, 0.9465543786732826, 0.00029859759579598823, 0.00029859759579598823, 0.017318660556167317, 0.0005971951915919765, 0.00029859759579598823, 0.00029859759579598823, 0.0026873783621638937, 0.001194390383183953, 0.0017915855747759292, 0.001492987978979941, 0.00029859759579598823, 0.009853720661267612, 0.001492987978979941, 0.0008957927873879646, 0.0005971951915919765, 0.0020901831705719175, 0.001492987978979941, 0.00029859759579598823, 0.9939503056254889, 0.9943929117365691, 0.9961549878828626, 0.9913385716030036, 0.995656089606573, 0.9947090931904202, 0.9958911028796203, 0.9947446347409981, 0.0029343499549881946, 0.9964268485408323, 0.9987684636773384, 0.9957185689916527, 0.9950904703702387, 0.0005682983839921409, 0.0005682983839921409, 0.0011365967679842818, 0.0005682983839921409, 0.9954473095332168, 0.9970825549240061, 0.5319480239882177, 0.4665033144123802, 0.9988406182300299, 0.00742873010528479, 0.9917354690555195, 0.9970229125286463, 0.9947358045693075, 0.9984738542874634, 0.9989886526909031, 0.006702742209169603, 0.0016756855522924007, 0.0016756855522924007, 0.004468494806113069, 0.0005585618507641336, 0.0005585618507641336, 0.004468494806113069, 0.0005585618507641336, 0.0005585618507641336, 0.004468494806113069, 0.9713390584788283, 0.0005585618507641336, 0.0005585618507641336, 0.0011171237015282671, 0.9954395106956674, 0.9965670063837897, 0.9956550289682249, 0.9951429652172101, 0.9953014310051742, 0.9957794291272728, 0.9936073533648767, 0.9962491889337378, 0.9958124446398285, 0.9977207337538568, 0.9350408887033375, 0.0001865232173754912, 0.0003730464347509824, 0.0001865232173754912, 0.0001865232173754912, 0.0001865232173754912, 0.0024248018258813857, 0.0001865232173754912, 0.0011191393042529474, 0.0009326160868774561, 0.0001865232173754912, 0.0011191393042529474, 0.0001865232173754912, 0.0014921857390039297, 0.05371868660414147, 0.0005595696521264737, 0.0007460928695019649, 0.0001865232173754912, 0.0001865232173754912, 0.0001865232173754912, 0.0001865232173754912, 0.9964783567954064, 0.9987300991784951, 0.0004150997918447611, 0.9917703727598346, 0.0011516022243112467, 0.00011516022243112467, 0.00011516022243112467, 0.00011516022243112467, 0.00023032044486224934, 0.000345480667293374, 0.00023032044486224934, 0.00011516022243112467, 0.00011516022243112467, 0.00011516022243112467, 0.00023032044486224934, 0.9864624653450139, 0.0009212817794489973, 0.00011516022243112467, 0.000345480667293374, 0.0005758011121556234, 0.00023032044486224934, 0.00011516022243112467, 0.00011516022243112467, 0.00011516022243112467, 0.0009212817794489973, 0.000345480667293374, 0.0016122431140357454, 0.00011516022243112467, 0.0009212817794489973, 0.001381922669173496, 0.00011516022243112467, 0.000345480667293374, 0.00023032044486224934, 0.00011516022243112467, 0.00011516022243112467, 0.00011516022243112467, 0.00011516022243112467, 0.000345480667293374, 0.00023032044486224934, 0.00023032044486224934, 0.0004606408897244987, 0.9941054862992372, 0.00029450158401780316, 0.00014725079200890158, 0.9939428460600856, 0.00044175237602670474, 0.00044175237602670474, 0.00029450158401780316, 0.00014725079200890158, 0.00014725079200890158, 0.00029450158401780316, 0.00029450158401780316, 0.00014725079200890158, 0.00014725079200890158, 0.00029450158401780316, 0.00014725079200890158, 0.00014725079200890158, 0.00014725079200890158, 0.00014725079200890158, 0.0008835047520534095, 0.00014725079200890158, 0.00044175237602670474, 0.00044175237602670474, 0.00014725079200890158, 0.9928622499141613, 0.9927028985584377, 0.9949714496626468, 0.0015025025376659003, 0.9676116342568398, 0.0015025025376659003, 0.0030050050753318005, 0.0015025025376659003, 0.0015025025376659003, 0.0030050050753318005, 0.0015025025376659003, 0.0015025025376659003, 0.0030050050753318005, 0.0030050050753318005, 0.0015025025376659003, 0.0015025025376659003, 0.9978354266437296, 0.9993006740158761, 0.007666929421331318, 0.014636865258905245, 0.07736628779707058, 0.025788762599023525, 0.005924445461937837, 0.03310719522847615, 0.005924445461937837, 0.0017424839593934815, 0.0031364711269082665, 0.06935086158386056, 0.1428836846702655, 0.050183538030532264, 0.004878955086301748, 0.001045490375636089, 0.0066214390456952295, 0.008015426213210015, 0.03938013748229268, 0.011500394131996978, 0.037986150314777894, 0.0066214390456952295, 0.010106406964482192, 0.025788762599023525, 0.023000788263993956, 0.027879743350295704, 0.020561310720843082, 0.0031364711269082665, 0.03972863427417138, 0.05262301557368314, 0.021258304304600475, 0.017076342802056117, 0.006969935837573926, 0.025788762599023525, 0.022303794680236563, 0.03972863427417138, 0.07039635195949666, 0.0066214390456952295, 0.0003484967918786963, 0.012894381299511763, 0.008712419796967408, 0.001045490375636089, 0.0094094133807248, 0.995692594875194, 0.9854835101378265, 0.007167152801002374, 0.0010678435810887255, 0.004271374324354902, 0.0032035307432661765, 0.004271374324354902, 0.002135687162177451, 0.004271374324354902, 0.0010678435810887255, 0.0010678435810887255, 0.0032035307432661765, 0.9525164743311432, 0.0053392179054436275, 0.0010678435810887255, 0.0010678435810887255, 0.0053392179054436275, 0.0032035307432661765, 0.004271374324354902, 0.9984304205248746, 0.9957272927133074, 0.9929017380083621, 0.0021398744353628494, 0.9946000348875624, 0.9930569957602257, 0.9979300357117198, 0.9948894662664755, 0.0015298543755021116, 0.003059708751004223, 0.9928754897008704, 0.9946173580229479, 0.9964457835774808, 0.001500671360809459, 0.9930917880384138, 0.9944231600918397, 0.9956647182617568, 0.9967898218465305, 0.001147723773877205, 0.9927810644037822, 0.001147723773877205, 0.00229544754775441]}, \"tinfo\": {\"logprob\": [30.0, 29.0, 28.0, 27.0, 26.0, 25.0, 24.0, 23.0, 22.0, 21.0, 20.0, 19.0, 18.0, 17.0, 16.0, 15.0, 14.0, 13.0, 12.0, 11.0, 10.0, 9.0, 8.0, 7.0, 6.0, 5.0, 4.0, 3.0, 2.0, 1.0, -3.9672, -3.891, -4.0472, -3.7524, -4.8585, -4.3288, -5.0742, -5.1804, -4.8189, -5.3769, -4.3085, -5.3232, -5.4656, -5.387, -3.5189, -5.6477, -5.667, -5.5549, -5.2597, -5.7168, -5.137, -5.3694, -4.9633, -5.8428, -4.5424, -5.7919, -5.3062, -3.4018, -5.6655, -5.9623, -2.4798, -2.3645, -3.8914, -5.3532, -2.4672, -5.1195, -5.5308, -4.7158, -3.3729, -4.0986, -4.5454, -4.9278, -4.4948, -5.2276, -5.1329, -4.8879, -5.2588, -4.3165, -4.2834, -4.6718, -5.0701, -5.1441, -4.7981, -4.7569, -5.0874, -4.9038, -4.2424, -5.4678, -5.3485, -5.535, -5.3889, -5.4413, -5.575, -5.7429, -5.0257, -5.3404, -5.4999, -5.7515, -5.86, -5.8796, -5.7652, -5.6396, -4.6116, -5.6177, -5.8289, -6.0115, -5.854, -1.2067, -3.7929, -3.5888, -3.1078, -4.8606, -3.9351, -5.6497, -4.1018, -5.6042, -5.6117, -3.7841, -5.3767, -4.8284, -4.0676, -5.4877, -5.1993, -5.2286, -5.3444, -5.3956, -4.4746, -4.3388, -4.1636, -3.7475, -3.8043, -3.8636, -4.839, -4.8697, -5.1506, -4.6183, -4.0623, -3.7251, -4.0372, -5.2579, -5.2791, -5.2089, -5.3996, -5.0841, -4.8724, -5.3736, -5.5595, -5.4741, -4.9792, -5.586, -5.6153, -5.1698, -4.6878, -5.7273, -5.4902, -5.8295, -2.1159, -3.8432, -5.0148, -4.8977, -5.3774, -5.3141, -5.3383, -5.3096, -3.2556, -4.6573, -4.3126, -5.1253, -4.7877, -4.938, -2.5072, -4.1124, -3.5662, -5.0985, -4.3725, -4.6761, -4.5701, -4.5424, -5.0581, -5.1536, -5.0602, -4.614, -4.7554, -4.6878, -5.2109, -5.2157, -5.2788, -5.2761, -4.8096, -3.2378, -5.331, -5.1906, -5.4898, -5.5953, -5.7378, -5.7604, -5.7776, -5.0113, -5.8748, -5.3166, -5.6298, -5.9632, -6.0158, -6.0075, -2.5749, -4.1749, -2.0577, -4.9247, -2.9968, -5.0847, -5.4749, -4.4464, -5.3281, -3.841, -5.0363, -4.9379, -3.873, -2.8121, -3.8788, -4.28, -4.844, -4.818, -4.9076, -5.0389, -3.3463, -3.9815, -4.5961, -4.7502, -4.9969, -4.1417, -4.3317, -5.44, -4.9998, -5.2871, -5.5354, -5.3325, -5.6454, -5.6873, -5.7288, -4.9709, -4.7584, -5.566, -5.3073, -5.847, -5.8859, -5.7839, -5.7222, -5.6374, -5.8208, -5.3097, -4.786, -5.8376, -5.9576, -5.4497, -1.0232, -4.3608, -4.6209, -4.9419, -5.2327, -5.3955, -4.1654, -5.6477, -5.4122, -4.1489, -4.7193, -5.0443, -5.1427, -4.9421, -5.4416, -2.2948, -3.0007, -4.0785, -3.7848, -3.2732, -4.6656, -4.745, -4.7782, -4.929, -4.4693, -4.9776, -4.685, -5.3421, -3.7401, -4.9224, -5.421, -4.8693, -5.4789, -5.0514, -5.5275, -5.4097, -5.5144, -5.5572, -5.0297, -5.2597, -5.5282, -5.0651, -5.6275, -5.7408, -5.3983, -3.9934, -4.3837, -4.4519, -5.0515, -4.4014, -5.2828, -3.152, -4.7601, -5.2377, -3.1318, -4.9398, -2.9133, -4.1866, -4.6631, -4.6571, -3.7106, -3.8889, -4.6904, -4.124, -4.6214, -4.6434, -4.6224, -4.63, -4.8887, -5.2288, -5.1071, -5.2582, -5.416, -5.4407, -4.9338, -5.381, -4.6933, -5.6446, -5.3157, -5.6498, -4.2329, -2.0327, -5.0932, -5.5875, -5.7302, -5.2883, -5.5304, -5.8335, -5.9429, -5.2952, -2.8062, -3.4162, -3.7811, -4.5168, -4.8997, -5.0138, -5.2122, -4.5024, -3.6733, -4.0836, -5.1271, -4.3997, -2.8621, -4.3679, -4.7284, -4.5598, -4.5863, -4.7211, -4.311, -3.3729, -4.4256, -3.3227, -4.4119, -4.5347, -4.8861, -4.734, -4.9771, -4.4814, -4.8624, -3.196, -4.0583, -4.02, -5.2962, -5.1712, -5.1946, -5.3444, -5.2875, -5.1843, -4.9789, -5.4959, -5.4197, -5.4203, -5.2375, -5.6417, -5.6119, -5.6935, -5.6509, -5.5609, -3.3606, -2.3097, -4.992, -5.2605, -5.256, -5.3072, -5.2655, -5.16, -3.7224, -3.4794, -3.2583, -5.1484, -5.154, -4.0439, -4.2769, -4.3854, -5.0852, -4.1779, -4.1363, -4.2748, -4.4235, -4.6905, -4.7717, -4.7997, -3.0367, -4.8285, -4.9109, -5.0734, -3.9597, -4.7913, -5.2444, -5.1911, -5.0616, -5.2, -4.404, -4.7105, -5.4148, -5.2648, -5.353, -3.5509, -5.529, -4.5933, -5.6213, -4.755, -5.688, -4.9199, -5.7374, -3.0963, -3.6682, -4.4849, -5.1315, -3.8739, -2.7519, -5.0339, -4.3255, -3.5774, -5.0812, -3.8721, -3.2237, -4.663, -4.4281, -4.9171, -2.6475, -2.399, -3.3967, -4.5067, -4.0021, -4.7699, -5.0113, -5.1312, -5.131, -4.8113, -4.7392, -4.9307, -5.6745, -5.7593, -5.7787, -5.7215, -5.8104, -3.1972, -5.3912, -5.0048, -5.8962, -5.6723, -5.9552, -5.7963, -6.0076, -5.9937, -6.0638, -6.0346, -6.0952, -6.0998, -4.0923, -3.1335, -2.7912, -4.9084, -3.7218, -5.0643, -5.5721, -5.2104, -5.5063, -5.1289, -3.0602, -5.3172, -4.9174, -4.1131, -5.3772, -4.4896, -3.2677, -4.1, -4.9497, -4.4979, -4.6885, -4.9231, -4.2858, -5.1574, -5.1598, -4.5644, -5.2059, -5.2189, -5.0629, -4.8973, -2.8959, -5.121, -4.8978, -5.4725, -5.2632, -5.5212, -5.6129, -5.5965, -4.9633, -5.5525, -5.6801, -4.9002, -5.0043, -4.8104, -5.7361, -5.5717, -5.7685, -1.8633, -5.6308, -4.1815, -3.5891, -3.6552, -4.652, -4.2811, -4.3708, -4.6724, -4.5403, -5.1023, -4.8832, -2.044, -4.7928, -3.0227, -3.699, -3.8166, -4.2644, -4.3799, -4.627, -3.4481, -2.7717, -4.0459, -4.9644, -5.0257, -3.8939, -4.6426, -4.2716, -5.1966, -5.4433, -5.4646, -5.0234, -5.4362, -5.377, -5.6094, -5.6526, -5.648, -5.4389, -1.8446, -5.7772, -5.9493, -4.8906, -4.2519, -6.0008, -4.3843, -4.6504, -4.8513, -4.8311, -5.4316, -5.3162, -3.6633, -5.2691, -3.39, -3.4229, -3.6199, -4.6803, -4.9332, -4.8362, -3.437, -2.97, -4.2111, -3.7249, -4.6871, -4.58, -3.9466, -4.2799, -5.0312, -4.9284, -5.0925, -4.7861, -4.7404, -5.0229, -5.3522, -5.3656, -5.345, -5.3202, -4.3427, -5.4205, -3.9612, -5.2744, -4.2578, -5.5981, -4.7438, -5.5207, -5.6125, -5.734, -5.7004, -5.6369, -2.2942, -4.5174, -4.9552, -5.0463, -4.9075, -2.86, -3.9973, -4.1991, -4.8616, -4.2046, -5.2543, -4.848, -2.8058, -4.5446, -4.8814, -4.9137, -3.5899, -3.3572, -4.6461, -4.1975, -4.5882, -2.7747, -4.5762, -5.0594, -5.1384, -4.637, -4.7551, -3.5311, -4.2861, -3.9982, -4.8878, -3.4541, -4.8087, -5.1943, -4.222, -4.6756, -5.2937, -5.4683, -5.4867, -5.0084, -5.2925, -5.5244, -5.4982, -5.3891, -5.6304, -5.7243, -2.8058, -4.4446, -4.5534, -3.7093, -4.9176, -5.3208, -3.5409, -4.9813, -5.2644, -5.2855, -3.4788, -3.9143, -4.2552, -4.6218, -4.9091, -4.2057, -4.0347, -3.0909, -3.7885, -4.3489, -4.6466, -3.0016, -4.5391, -4.831, -5.131, -3.6122, -5.181, -5.376, -5.2795, -5.3747, -5.0956, -3.9516, -5.4366, -5.5025, -5.5119, -4.5715, -5.2314, -5.5875, -5.6632, -5.4969, -5.6549, -5.7173, -5.577, -5.7504, -5.6056, -2.4007, -4.0349, -4.431, -4.568, -5.2299, -5.5465, -4.758, -5.1617, -5.2251, -3.3318, -4.5679, -5.1405, -4.6598, -2.8388, -4.0376, -4.6755, -4.8967, -4.6139, -4.8461, -5.1225, -4.403, -4.3666, -4.5528, -4.9012, -4.4878, -3.3737, -4.899, -3.4804, -4.6717, -5.0803, -3.5355, -3.993, -5.2243, -5.3244, -5.318, -5.3222, -3.4992, -5.2564, -5.4029, -5.3352, -3.9817, -4.8854, -5.484, -4.5228, -5.4419, -5.6078, -5.5342, -5.6744, -4.5591, -5.7069, -1.7397, -4.2863, -4.8311, -5.3919, -5.4134, -3.8013, -5.148, -5.3615, -3.4251, -3.6317, -4.7918, -4.6393, -4.9738, -5.2484, -3.1885, -4.2294, -3.7994, -3.9037, -4.1639, -4.7944, -4.8657, -4.564, -4.2725, -4.3667, -5.0527, -4.576, -5.0412, -4.1276, -5.3035, -5.1524, -5.1815, -4.7435, -5.3551, -5.2075, -4.699, -5.3624, -5.5897, -5.6331, -4.9158, -5.6827, -5.4893, -5.6762, -5.8122, -2.6778, -3.724, -3.1148, -4.5824, -4.1488, -3.6101, -5.3899, -4.1302, -3.4081, -3.6319, -5.1304, -3.5387, -5.1645, -3.7025, -4.7898, -5.0578, -3.8378, -4.0709, -3.3919, -3.0354, -4.5159, -4.5007, -4.9859, -4.7609, -4.7626, -2.5013, -5.0848, -5.2633, -5.1935, -4.3478, -5.4588, -5.4005, -5.3105, -5.4918, -5.0191, -3.7806, -5.004, -5.3984, -5.4613, -5.2142, -5.4379, -5.6424, -5.708, -5.4912, -3.588, -5.4948, -4.1809, -3.3071, -3.9647, -4.9999, -4.8007, -4.4509, -4.6348, -4.7783, -4.0457, -4.1383, -4.2839, -3.0695, -4.8368, -4.8446, -5.0064, -3.3103, -3.9071, -4.3287, -2.6309, -4.3432, -4.2549, -4.4111, -4.1572, -4.0082, -4.4949, -4.7663, -5.1418, -4.7075, -5.0576, -4.6043, -4.4222, -5.2307, -5.2664, -5.3235, -4.3053, -4.9426, -5.3497, -5.4985, -5.5283, -5.4722, -5.3467, -4.9202, -5.4962, -5.3194, -5.4124, -4.2143, -4.794, -4.814, -4.6154, -3.7064, -5.0057, -5.216, -3.9393, -4.6619, -3.8532, -2.6448, -4.3539, -3.7829, -3.485, -4.2574, -4.5315, -4.8252, -4.7744, -4.4504, -2.3352, -4.6139, -5.1786, -4.9757, -4.4181, -3.871, -4.7359, -5.3136, -5.1721, -5.3491, -5.3757, -5.2917, -5.1875, -5.222, -5.3885, -4.8086, -5.5111, -5.0635, -5.684, -4.2752, -5.4863, -5.7198, -4.3119, -2.8943, -4.292, -5.1691, -5.1462, -3.9914, -5.0046, -4.6316, -4.6832, -5.1186, -2.5117, -4.6957, -3.6954, -3.8651, -4.6368, -4.7375, -5.0873, -4.3383, -4.6668, -2.5939, -5.1084, -3.509, -4.7012, -4.9622, -5.139, -5.2264, -5.0821, -5.3612, -5.3725, -5.324, -5.4373, -5.4943, -5.311, -5.3977, -4.894, -5.5436, -2.6111, -4.5721, -5.4635, -5.674, -5.7348, -5.7474, -4.7672, -3.8757, -4.4385, -4.713, -4.5088, -4.974, -5.3479, -3.2591, -4.8491, -5.1227, -2.7134, -4.2159, -4.947, -3.5383, -4.6667, -4.1584, -4.4034, -4.8448, -4.8724, -5.0098, -4.6551, -4.3235, -3.3235, -4.9901, -5.0363, -5.3167, -5.3493, -4.7309, -4.5899, -5.2242, -4.217, -5.5544, -5.324, -5.3928, -5.6068, -4.3334, -5.493, -5.3664, -5.3398, -5.6508, -5.5436, -5.5611, -5.6429, -3.6065, -3.4611, -3.3864, -4.9375, -5.0858, -4.0186, -5.2468, -5.3407, -2.3092, -4.0149, -3.8723, -3.8127, -3.7194, -4.9159, -4.788, -4.8526, -3.5098, -4.2168, -4.4961, -4.0015, -4.6913, -4.2261, -4.728, -4.6488, -4.6638, -4.3751, -4.1911, -3.5905, -5.0492, -4.4733, -4.4154, -4.684, -4.9866, -3.4244, -3.8045, -5.1657, -4.8062, -5.0466, -5.1228, -5.0819, -4.4351, -4.5761, -4.7868, -5.0724, -5.1796, -5.4487, -3.7355, -3.7489, -4.4423, -3.8811, -3.23, -4.6675, -3.3313, -4.9901, -3.5368, -4.5692, -2.539, -3.6804, -4.5081, -3.7718, -4.5562, -4.8938, -4.7167, -4.8879, -4.7586, -4.938, -4.9148, -4.3221, -4.6824, -4.7194, -5.014, -4.8991, -5.2141, -5.2975, -5.1435, -5.2288, -5.1381, -4.6207, -4.278, -5.5001, -5.5185, -4.9468, -4.7049, -5.4743, -5.5752, -5.5961, -4.4633, -4.7211, -4.6589, -5.2767, -4.514, -5.1251, -3.2525, -5.1851, -5.0404, -4.1133, -4.7854, -4.8377, -4.6165, -4.0021, -4.6674, -3.6967, -4.444, -3.5661, -4.2117, -4.5484, -4.719, -4.7554, -4.9333, -3.0873, -4.7801, -4.452, -5.0189, -4.8939, -5.1072, -3.2875, -5.0488, -5.2673, -5.2698, -4.8979, -4.8125, -4.4099, -5.3246, -5.0536, -5.3004, -5.4391, -5.4416, -5.475, -5.4163, -5.358, -5.2089, -3.3717, -3.1123, -3.4822, -3.7424, -4.953, -5.1256, -5.1367, -4.8802, -5.1338, -4.5988, -3.8716, -4.9657, -5.1179, -5.0005, -5.0586, -4.1364, -4.2168, -4.9695, -4.0563, -4.4882, -4.3345, -4.6243, -4.5006, -2.8055, -4.1931, -4.4126, -5.0902, -5.1055, -5.0693, -5.087, -4.5126, -3.998, -4.8312, -4.8841, -4.971, -4.9264, -5.054, -5.148, -5.2018, -5.1823, -5.4841, -5.5354, -4.4667, -5.5308, -4.7492, -5.6098, -4.8596, -5.6111, -2.9772, -3.2654, -3.7655, -4.7385, -5.0757, -3.8291, -4.6329, -4.5362, -4.2271, -3.1684, -3.6176, -4.5954, -4.7547, -4.6677, -4.965, -3.1322, -3.1842, -3.6797, -2.865, -4.5195, -4.0799, -4.0969, -4.7594, -4.6505, -4.6554, -4.5931, -4.6753, -4.6409, -5.1144, -4.8697, -3.1612, -4.9351, -5.0965, -4.6468, -5.0792, -4.5468, -5.1743, -5.4783, -5.0638, -5.5054, -5.3875, -5.5603, -5.6392, -5.6172, -5.3062, -4.3314, -4.9473, -3.2694, -3.8849, -4.4497, -4.9066, -5.063, -4.3464, -3.7817, -3.2397, -4.5018, -4.0479, -4.7806, -4.7226, -3.7675, -4.4659, -4.0449, -4.1341, -3.9183, -4.6999, -4.7371, -4.2718, -4.3462, -4.8061, -4.8574, -5.0517, -5.176, -5.1298, -4.8545, -4.7019, -4.8614, -3.4687, -4.3247, -5.1023, -4.9572, -5.3828, -5.4429, -4.6159, -5.3136, -5.386, -4.4001, -5.4183, -5.501, -4.8978, -3.9476, -3.4723, -3.9603, -4.5161, -4.5358, -3.9018, -4.0207, -3.8089, -4.86, -3.9657, -4.1902, -4.1494, -3.9771, -4.5802, -4.6027, -3.9618, -3.7362, -3.733, -3.9022, -4.2758, -3.921, -4.3553, -4.2856, -4.3957, -4.4048, -4.4811, -4.7693, -4.8879, -4.4081, -5.0856, -5.205, -4.5485, -5.1638, -4.1925, -5.2663, -4.6136, -5.2484, -5.2712, -5.4065, -5.3829, -5.3422, -4.7574, -5.4441, -5.5841, -5.5059, -4.4867, -3.2124, -4.6614, -3.8212, -4.309, -3.9113, -4.8924, -2.8037, -3.7956, -4.6606, -3.6754, -4.7303, -2.8639, -1.3664, -4.2524, -4.0987, -4.4368, -4.8058, -4.8615, -3.4144, -4.8322, -3.2347, -4.8144, -5.314, -5.4133, -5.3651, -4.773, -5.4585, -5.4431, -5.4195, -5.5185, -4.8277, -4.9145, -5.4912, -5.4182, -5.4741, -4.7948, -5.4502, -5.4728, -5.5088, -5.674, -5.0026, -4.9072, -4.664, -5.2513, -5.385, -3.8252, -4.4868, -4.8928, -4.4264, -2.742, -4.0608, -4.2656, -4.5846, -3.488, -4.5482, -4.7337, -4.9753, -4.7973, -5.2795, -5.3046, -5.0753, -5.3393, -5.3788, -5.3658, -4.3357, -5.2792, -5.5158, -5.5416, -4.6072, -4.4801, -3.2429, -5.5326, -5.4312, -5.6921, -5.6611, -5.6982, -5.7472, -5.6617, -3.3245, -3.987, -3.3435, -2.2935, -5.0717, -4.9262, -5.3395, -5.3833, -5.3547, -3.3476, -3.8272, -3.5632, -3.5314, -4.072, -5.0248, -5.2042, -3.1108, -3.5864, -3.6766, -4.0926, -4.9028, -4.9526, -3.6135, -4.9743, -4.9415, -4.2184, -5.2053, -3.0573, -4.0882, -2.9493, -5.3915, -4.464, -4.5568, -5.1445, -5.0922, -3.7108, -4.2679, -5.3974, -5.4784, -5.6934, -5.7067, -5.5549, -5.5935, -5.6963, -5.5395, -3.9268, -3.2948, -3.6321, -5.1515, -4.5847, -4.0724, -5.193, -2.5854, -4.5181, -5.2716, -5.0958, -5.1144, -3.9197, -3.6803, -4.3551, -4.805, -4.3352, -4.1619, -4.7236, -4.8672, -4.8394, -4.9791, -5.0709, -4.6981, -4.909, -4.1109, -4.0386, -4.3306, -4.6284, -3.4422, -3.095, -3.9578, -4.8091, -5.1155, -4.162, -5.2225, -4.602, -4.2997, -5.2701, -5.3745, -4.585, -4.6712, -3.4863, -4.0473, -4.1868, -4.8076, -4.7693, -4.8681, -4.6101, -3.7921, -2.7222, -3.8044, -3.8443, -4.1387, -3.6333, -3.7844, -4.3125, -3.9848, -4.0258, -4.7832, -4.2082, -4.0824, -4.9262, -4.7769, -4.5446, -5.0211, -4.3188, -4.6836, -5.1832, -5.2085, -5.3774, -5.2918, -5.1294, -4.7536, -5.2047, -5.5632, -4.7388, -5.5961, -5.1494, -5.537, -4.8135, -4.8238, -4.6233, -4.7063, -4.0705, -4.7511, -4.7991, -3.9039, -3.8162, -4.4815, -3.7253, -4.3291, -3.0101, -3.3365, -3.7917, -2.7538, -4.5631, -4.5169, -3.9739, -4.2479, -3.9281, -4.3876, -4.1381, -4.4471, -4.7736, -4.5927, -4.2896, -4.1231, -5.1161, -5.1741, -5.1821, -5.0168, -4.9508, -4.8421, -5.0858, -4.8647, -5.199, -5.081, -5.4051, -5.4056, -5.3865, -5.2195, -5.0995, -5.0781, -3.7545, -3.5329, -4.9562, -5.035, -4.4056, -5.103, -5.0014, -3.4983, -4.6337, -5.0103, -4.7556, -4.8697, -3.4864, -3.9111, -3.2583, -4.4673, -4.6749, -4.505, -4.0572, -4.4061, -4.6027, -4.4845, -4.342, -4.4331, -4.6087, -4.9709, -4.6861, -4.9237, -4.7884, -4.3002, -4.8703, -5.1052, -4.9187, -5.2541, -4.5081, -5.021, -4.9909, -5.3015, -5.2962, -3.251, -5.2684, -5.3895, -3.3357, -3.7585, -3.5222, -4.1735, -4.4703, -4.2154, -2.8819, -4.7724, -3.724, -2.6301, -3.7515, -4.4168, -4.5788, -4.1863, -4.4923, -4.2299, -4.3635, -4.4349, -4.8392, -4.333, -5.058, -5.1648, -5.2743, -5.0829, -5.2873, -5.2589, -5.418, -5.3172, -5.3546, -5.4497, -3.1139, -5.4762, -4.6976, -5.4993, -4.5608, -5.2241, -5.3071, -3.7555, -5.3209, -3.8556, -4.2601, -4.6661, -4.1533, -4.6706, -4.9458, -4.6087, -5.1784, -5.2822, -3.5717, -4.4332, -4.7171, -5.0042, -3.8733, -3.3218, -3.9732, -4.5512, -4.787, -4.72, -4.0766, -4.8163, -4.8505, -4.9289, -4.8513, -3.7209, -4.6559, -4.901, -5.167, -5.2633, -5.096, -5.3474, -5.3488, -5.24, -5.4023, -5.4138, -5.3958, -4.6732, -5.1888, -5.4587, -5.2534, -5.6157, -5.6125, -5.692, -3.8953, -5.1237, -5.1476, -5.1547, -4.9247, -4.0399, -4.8582, -3.4329, -3.3587, -4.1427, -4.9324, -4.1811, -3.694, -4.8422, -5.0527, -5.0405, -3.0529, -4.1537, -2.0299, -4.4814, -4.3131, -4.0382, -3.8787, -4.7924, -4.421, -4.3795, -4.4967, -3.7427, -4.8346, -4.8507, -4.9448, -5.14, -4.3917, -5.2503, -5.2108, -5.3668, -4.7804, -5.4402, -5.2308, -4.6773, -5.4439, -4.7514, -5.6371, -2.7808, -5.6697, -5.5028, -4.6598, -4.4291, -4.9052, -5.1339, -5.134, -5.0455, -5.1889, -3.6861, -3.9844, -4.6089, -4.7665, -3.5624, -3.9832, -4.4059, -3.8942, -4.3272, -4.4461, -4.3173, -3.3919, -4.6464, -4.6101, -4.6602, -4.8878, -4.9736, -4.9585, -4.826, -5.0504, -4.6806, -5.0774, -5.2022, -5.0224, -4.987, -5.0606, -4.5363, -4.8148, -5.1259, -5.26, -5.3066, -5.2009, -4.2387, -5.0431, -3.4592, -3.957, -4.1248, -4.4266, -3.3001, -2.9582, -3.8577, -3.7033, -4.8367, -4.8907, -3.5424, -4.9515, -3.7043, -4.1246, -4.3416, -4.3336, -4.6039, -4.6343, -4.5949, -3.5909, -3.9189, -4.8029, -2.9249, -3.8204, -4.0546, -3.3117, -4.8221, -4.8882, -4.8355, -5.0152, -4.8052, -4.9443, -4.6328, -5.3285, -5.0109, -5.3579, -4.8853, -5.2174, -5.4104, -5.2742, -5.3517, -5.4577, -3.6379, -4.4571, -4.5507, -4.7792, -5.0455, -4.5303, -4.8363, -4.329, -3.6606, -4.8844, -4.7271, -4.8208, -3.9128, -3.0317, -2.9094, -4.3356, -3.7892, -4.4586, -4.4659, -4.9176, -4.9221, -4.9022, -4.9392, -3.8708, -4.9483, -4.6522, -4.0715, -5.0333, -5.1042, -5.1286, -4.6433, -4.08, -3.6485, -5.3793, -5.3741, -5.2993, -5.4367, -5.2538, -5.2413, -5.5145, -5.6509, -5.6438, -5.6415, -2.8596, -3.6815, -5.0397, -5.1332, -5.1587, -4.2868, -5.276, -3.8662, -5.2118, -4.6395, -3.4846, -4.281, -4.9327, -4.955, -5.0786, -3.7356, -4.1878, -4.1695, -4.6451, -4.8067, -4.8343, -4.4218, -4.681, -4.6525, -4.9382, -4.8029, -4.8977, -5.1832, -5.1705, -3.7095, -4.429, -4.9644, -5.2668, -5.0329, -3.467, -4.1494, -5.3254, -5.0979, -5.1611, -4.6977, -5.3034, -5.5179, -5.6034, -5.4339, -5.5598, -3.9199, -4.7182, -4.9498, -4.3304, -3.1607, -4.8553, -3.3221, -3.8764, -4.3841, -4.965, -4.9633, -3.2615, -3.3135, -4.0229, -4.3516, -4.5749, -4.7631, -4.7464, -4.8802, -4.6894, -4.7218, -4.8803, -4.7718, -5.0578, -4.7339, -5.1707, -5.1148, -2.7569, -5.2971, -5.3164, -5.3153, -5.2835, -4.6013, -5.4847, -5.0048, -5.318, -4.873, -4.9108, -5.544, -5.57, -5.5891, -3.5778, -4.3679, -5.351, -3.6622, -4.6576, -4.7954, -3.5031, -5.1445, -4.9975, -2.6939, -4.4395, -5.0037, -5.0815, -3.8272, -3.6925, -3.9256, -4.3763, -4.6684, -4.4293, -4.5238, -4.7447, -4.5806, -4.4911, -4.7732, -4.7924, -4.7647, -4.5587, -4.7573, -3.8235, -5.2378, -4.5827, -5.2213, -5.3238, -5.2331, -4.9501, -4.8321, -4.9164, -5.3493, -5.4603, -5.4301, -5.4568, -5.5192, -5.5695, -3.8194, -5.0654, -5.055, -2.8509, -4.8302, -4.4314, -4.6813, -4.499, -2.3886, -3.3528, -3.9916, -5.0228, -3.3904, -3.7294, -3.5283, -4.2149, -3.9629, -4.3828, -4.3861, -4.6703, -4.6594, -3.7858, -4.5496, -3.9894, -4.545, -4.8844, -4.3353, -4.5212, -4.3494, -4.8735, -5.3171, -5.2852, -5.2251, -5.2259, -5.4209, -5.3289, -5.2506, -5.4057, -4.6391, -5.523, -5.5641, -5.4982, -3.9149, -4.0456, -4.1168, -4.4492, -4.9057, -4.9778, -5.2708, -3.9709, -5.0606, -5.0879, -5.213, -3.4731, -4.2891, -5.0572, -2.8862, -3.8935, -3.9958, -4.2642, -4.1055, -4.0706, -4.2444, -4.0953, -4.6652, -4.4291, -4.946, -4.7083, -3.0091, -4.844, -4.5576, -4.7093, -5.0611, -5.1052, -5.1182, -5.1885, -5.1249, -4.7043, -5.3833, -5.3954, -5.2195, -5.4644, -5.4085, -5.5465, -5.6342, -5.4382, -4.4273, -4.4798, -4.689, -4.31, -4.6458, -4.5455, -4.6452, -4.6092, -4.3258, -4.6259, -2.995, -3.5899, -4.8517, -3.9823, -4.015, -3.7088, -4.4554, -3.8404, -4.2009, -4.0958, -4.3795, -4.5564, -4.6177, -4.4039, -4.6396, -2.8528, -4.7462, -4.8799, -5.1198, -5.0886, -4.6917, -5.1164, -4.8484, -4.6919, -5.0125, -4.4505, -5.3163, -5.2973, -4.8545, -5.3629, -4.8094, -5.4564, -5.387, -3.1753, -4.2576, -5.2076, -3.6513, -4.9916, -4.3996, -3.312, -5.0082, -2.4386, -3.6767, -3.191, -4.416, -4.5007, -4.726, -4.5303, -4.8419, -4.1794, -5.0017, -3.8243, -5.0085, -5.1793, -5.1839, -4.7498, -5.2358, -5.3623, -5.3765, -5.3635, -5.4643, -5.3523, -5.3765, -4.093, -5.4554, -4.4474, -5.2417, -5.1261, -5.4677, -3.6544, -5.6424, -4.8664, -5.3082, -4.9849, -5.0745, -3.4518, -4.8208, -4.9072, -5.2348, -4.447, -4.2993, -4.0989, -4.8767, -4.8621, -3.5763, -3.4644, -4.1287, -4.5256, -4.7317, -4.7802, -4.574, -4.6806, -3.9728, -4.1987, -4.5942, -5.0392, -5.0847, -4.9279, -3.823, -5.1874, -4.8726, -5.0632, -5.2345, -5.2428, -5.3293, -5.374, -5.2615, -5.3421, -5.3936, -5.4102, -5.4063, -5.477, -5.4841, -5.4173, -4.4574, -4.3205, -4.8623, -4.7997, -4.9438, -5.0082, -5.0262, -5.0511, -5.246, -4.3292, -4.7025, -5.1934, -2.6126, -4.2777, -4.7038, -4.9425], \"loglift\": [30.0, 29.0, 28.0, 27.0, 26.0, 25.0, 24.0, 23.0, 22.0, 21.0, 20.0, 19.0, 18.0, 17.0, 16.0, 15.0, 14.0, 13.0, 12.0, 11.0, 10.0, 9.0, 8.0, 7.0, 6.0, 5.0, 4.0, 3.0, 2.0, 1.0, 3.6548, 3.6548, 3.6545, 3.6541, 3.6539, 3.6539, 3.6535, 3.6534, 3.6533, 3.6525, 3.6525, 3.6523, 3.6523, 3.6522, 3.6518, 3.6516, 3.6516, 3.6516, 3.6515, 3.6513, 3.6512, 3.6512, 3.6509, 3.6504, 3.6504, 3.6503, 3.6502, 3.6502, 3.6499, 3.6499, 3.648, 3.645, 3.645, 3.6495, 3.5894, 3.6313, 3.6338, 3.4429, 1.147, 1.0367, 1.7411, 2.1422, 0.3196, 3.0259, 2.1788, -1.5843, 1.8628, 3.6742, 3.674, 3.673, 3.6727, 3.6727, 3.6727, 3.6726, 3.6725, 3.6724, 3.6719, 3.6715, 3.6715, 3.6714, 3.6712, 3.6711, 3.6704, 3.6702, 3.6702, 3.6697, 3.6697, 3.6696, 3.6696, 3.6695, 3.6695, 3.6693, 3.6691, 3.6689, 3.6687, 3.6686, 3.6686, 3.6452, 3.6679, 3.6638, 3.6577, 3.6644, 3.634, 3.6679, 3.6315, 3.6668, 3.6658, 3.3492, 3.6025, 3.0267, -0.764, 3.3983, 0.8792, 0.5888, -0.8245, -0.5812, 3.6772, 3.677, 3.6769, 3.6766, 3.6765, 3.6764, 3.6762, 3.6761, 3.6758, 3.6758, 3.6758, 3.6756, 3.6755, 3.6755, 3.6752, 3.675, 3.6747, 3.6746, 3.6746, 3.6746, 3.6745, 3.6745, 3.6745, 3.6745, 3.6744, 3.6742, 3.6739, 3.6737, 3.6734, 3.673, 3.671, 3.6723, 3.67, 3.6679, 3.6726, 3.6715, 3.6702, 3.6688, 3.5428, 3.6201, 3.5561, 3.6435, 3.4533, 3.4993, 0.7964, 2.3938, 1.6797, -0.5787, 3.7282, 3.7274, 3.7271, 3.7268, 3.7266, 3.7266, 3.7265, 3.7264, 3.7263, 3.7263, 3.7261, 3.726, 3.726, 3.726, 3.7258, 3.7253, 3.7252, 3.7252, 3.7251, 3.7247, 3.7242, 3.724, 3.7239, 3.7235, 3.7232, 3.7228, 3.7227, 3.7224, 3.7223, 3.7223, 3.7209, 3.7217, 3.6964, 3.7222, 3.692, 3.7137, 3.7208, 3.6965, 3.7101, 3.5571, 3.6278, 3.5928, 2.6639, 0.4915, 0.9357, 0.2399, 1.3309, 0.428, 1.2171, 0.0964, 3.7439, 3.7425, 3.7423, 3.7419, 3.7419, 3.7415, 3.7405, 3.7401, 3.74, 3.7397, 3.7396, 3.7395, 3.7393, 3.7387, 3.7387, 3.7383, 3.7382, 3.7381, 3.7379, 3.7379, 3.7379, 3.7378, 3.7377, 3.7377, 3.7377, 3.7374, 3.7374, 3.7374, 3.7372, 3.7371, 3.7145, 3.7368, 3.7346, 3.734, 3.7363, 3.735, 3.7145, 3.7214, 3.627, -0.8452, 0.0951, 1.1307, 0.9358, -0.4222, 1.0646, 3.7863, 3.7861, 3.7857, 3.7856, 3.7854, 3.7851, 3.7851, 3.7848, 3.7847, 3.7845, 3.7844, 3.7836, 3.7835, 3.7834, 3.7833, 3.783, 3.783, 3.7829, 3.7828, 3.7827, 3.7826, 3.7826, 3.7826, 3.7825, 3.7825, 3.7823, 3.7822, 3.782, 3.7816, 3.7815, 3.7801, 3.7795, 3.7758, 3.7814, 3.7687, 3.7786, 3.733, 3.7531, 3.7744, 3.5539, 3.6709, 0.3904, 0.3332, 0.5828, 0.1574, 3.792, 3.7918, 3.7913, 3.7911, 3.7909, 3.7909, 3.7909, 3.7908, 3.7895, 3.7894, 3.7893, 3.7892, 3.7889, 3.7887, 3.7886, 3.7884, 3.7881, 3.788, 3.7879, 3.7876, 3.7876, 3.7875, 3.7874, 3.7874, 3.7871, 3.7867, 3.7867, 3.7867, 3.786, 3.786, 3.7842, 3.7822, 3.7856, 3.7816, 3.7848, 3.7839, 3.7858, 3.7715, 3.7372, 3.7287, 3.7765, 3.7152, 0.4415, 0.4466, 1.4465, 0.5756, 0.6597, -0.2012, 3.8052, 3.805, 3.8045, 3.8045, 3.8041, 3.8041, 3.8041, 3.804, 3.804, 3.8039, 3.8039, 3.8038, 3.8037, 3.8028, 3.8025, 3.8023, 3.8022, 3.8022, 3.802, 3.802, 3.8019, 3.8018, 3.8017, 3.8017, 3.8013, 3.8012, 3.8012, 3.8008, 3.8007, 3.8007, 3.7958, 3.7818, 3.7972, 3.7991, 3.7982, 3.7979, 3.7964, 3.7893, 3.6994, 3.6305, 3.574, 3.7814, 3.7536, 1.0914, 0.2429, -1.0817, -0.2707, 3.8279, 3.8279, 3.8277, 3.8275, 3.8274, 3.8272, 3.827, 3.827, 3.827, 3.8269, 3.8266, 3.8264, 3.8263, 3.8263, 3.8262, 3.8262, 3.826, 3.8258, 3.8256, 3.8253, 3.825, 3.8249, 3.8248, 3.8246, 3.8246, 3.8245, 3.8242, 3.824, 3.824, 3.8239, 3.8213, 3.8178, 3.8199, 3.822, 3.8058, 3.7752, 3.8203, 3.7789, 3.6984, 3.8165, 3.6814, 0.0799, 2.6983, 0.3863, 1.1614, 3.833, 3.8324, 3.8319, 3.8315, 3.8312, 3.8311, 3.8306, 3.8301, 3.8301, 3.829, 3.8287, 3.8286, 3.8281, 3.8276, 3.8275, 3.8274, 3.8273, 3.8266, 3.8265, 3.8264, 3.8263, 3.8263, 3.8261, 3.8259, 3.8256, 3.8255, 3.8254, 3.8251, 3.8251, 3.8249, 3.8239, 3.8139, 3.8046, 3.8243, 3.809, 3.8225, 3.8245, 3.8208, 3.8237, 3.8188, 3.7616, 3.8147, 3.7914, 3.2824, 3.6585, 2.4431, 0.0359, 0.4198, 0.8677, 3.832, 3.8318, 3.8316, 3.8316, 3.8316, 3.8314, 3.8313, 3.831, 3.8309, 3.8304, 3.8304, 3.8303, 3.8302, 3.8302, 3.8301, 3.83, 3.8295, 3.8294, 3.8292, 3.829, 3.829, 3.829, 3.8289, 3.8288, 3.8286, 3.8285, 3.8283, 3.8281, 3.828, 3.8278, 3.8253, 3.8186, 3.8177, 3.8277, 3.8215, 3.8133, 3.7881, 3.6898, 3.7478, 3.6994, 1.2596, 1.8888, 3.8338, 3.8334, 3.8334, 3.8331, 3.8329, 3.8323, 3.8323, 3.8321, 3.832, 3.8316, 3.8315, 3.8314, 3.8314, 3.8312, 3.8309, 3.8304, 3.8303, 3.8301, 3.8301, 3.83, 3.8295, 3.8293, 3.8288, 3.828, 3.8279, 3.8278, 3.8273, 3.8271, 3.8269, 3.8269, 3.8232, 3.8214, 3.8213, 3.8152, 3.8262, 3.8209, 3.7483, 3.8186, 3.5427, 1.0969, -0.3162, 0.1342, 1.1681, 0.4098, 3.8434, 3.8429, 3.8428, 3.842, 3.842, 3.8414, 3.8413, 3.8413, 3.8411, 3.841, 3.841, 3.8407, 3.8407, 3.8405, 3.8399, 3.8399, 3.8395, 3.8394, 3.8392, 3.8392, 3.839, 3.8389, 3.8387, 3.8386, 3.8386, 3.8383, 3.8381, 3.838, 3.8379, 3.8375, 3.8335, 3.8348, 3.8366, 3.8351, 3.8282, 3.7786, 3.8068, 3.7791, 3.7875, 3.6928, 3.8178, 3.6346, 0.4978, -0.0247, 0.936, -0.0993, 3.8438, 3.8438, 3.8436, 3.8433, 3.843, 3.843, 3.8424, 3.8422, 3.8422, 3.8421, 3.842, 3.842, 3.842, 3.8417, 3.8416, 3.8416, 3.8416, 3.8414, 3.8414, 3.8413, 3.8412, 3.8407, 3.8407, 3.8405, 3.8405, 3.8405, 3.8401, 3.8398, 3.8398, 3.8396, 3.8275, 3.8396, 3.8379, 3.8245, 3.8357, 3.8381, 3.7981, 3.828, 3.8243, 3.8273, -0.1751, 0.6056, 0.8802, 1.1956, -0.0947, 3.8448, 3.8445, 3.8444, 3.8441, 3.8441, 3.8437, 3.8436, 3.8432, 3.8432, 3.8428, 3.8428, 3.8426, 3.8419, 3.8418, 3.8415, 3.8411, 3.8411, 3.8411, 3.8409, 3.8409, 3.8406, 3.8406, 3.8405, 3.8403, 3.8402, 3.8402, 3.8399, 3.8399, 3.8398, 3.8397, 3.8383, 3.8386, 3.8397, 3.8327, 3.8373, 3.8396, 3.8284, 3.8327, 3.8303, 3.7305, 3.79, 3.8189, 2.9203, 0.4649, 2.0409, 2.641, 2.11, 0.2005, 0.2892, 1.3838, 3.8462, 3.846, 3.8458, 3.8454, 3.8453, 3.8451, 3.845, 3.8448, 3.8447, 3.8445, 3.8444, 3.8441, 3.8438, 3.8437, 3.8435, 3.8434, 3.8434, 3.8434, 3.8433, 3.8432, 3.8431, 3.8431, 3.8429, 3.8428, 3.8427, 3.8423, 3.8422, 3.8422, 3.8421, 3.8421, 3.8347, 3.8402, 3.8413, 3.8406, 3.8407, 3.7642, 3.8277, 3.8359, 1.3894, -0.328, 1.2866, -0.1195, 0.2722, -0.113, 3.8498, 3.8495, 3.8493, 3.8493, 3.8486, 3.8484, 3.8484, 3.8483, 3.848, 3.8478, 3.8478, 3.8475, 3.8473, 3.8473, 3.8469, 3.8468, 3.8468, 3.8467, 3.8465, 3.8464, 3.8458, 3.8457, 3.8456, 3.8453, 3.845, 3.8448, 3.8443, 3.8441, 3.8438, 3.8432, 3.8421, 3.83, 3.8411, 3.8363, 3.8206, 3.8432, 3.8024, 3.7698, 3.7358, 3.8233, 3.1879, 3.8146, -0.3989, 1.0766, -0.2434, 3.8545, 3.854, 3.854, 3.8532, 3.8529, 3.8529, 3.8526, 3.8523, 3.8522, 3.8521, 3.852, 3.8517, 3.8517, 3.8515, 3.8509, 3.8508, 3.8508, 3.8507, 3.8506, 3.8504, 3.8503, 3.8502, 3.85, 3.8497, 3.8495, 3.8495, 3.8495, 3.8495, 3.8493, 3.8493, 3.8477, 3.8354, 3.8409, 3.8465, 3.8419, 3.8341, 3.8272, 3.8084, 3.599, 3.6156, 2.5377, 0.2342, 1.2417, 0.9728, 0.2396, 3.8557, 3.8556, 3.855, 3.855, 3.8547, 3.8546, 3.8546, 3.8544, 3.8544, 3.854, 3.8539, 3.8534, 3.8533, 3.8532, 3.8532, 3.8531, 3.8528, 3.8528, 3.8526, 3.8525, 3.8524, 3.8524, 3.8519, 3.8517, 3.8515, 3.8515, 3.8515, 3.8514, 3.8513, 3.8513, 3.8507, 3.8502, 3.8484, 3.8413, 3.8192, 3.8423, 3.8484, 3.7172, 3.7262, 3.476, 0.6588, 0.4605, 3.8816, 3.8815, 3.8807, 3.8803, 3.8801, 3.88, 3.8798, 3.8793, 3.8792, 3.8792, 3.879, 3.879, 3.879, 3.8784, 3.8783, 3.8783, 3.8782, 3.878, 3.878, 3.8779, 3.8778, 3.8778, 3.8778, 3.8773, 3.8772, 3.8766, 3.8764, 3.8764, 3.8759, 3.8758, 3.868, 3.8733, 3.8741, 3.8696, 3.8169, 3.8549, 3.7755, 3.6898, 3.73, 0.7919, 0.5502, 3.8885, 3.8885, 3.8876, 3.887, 3.8865, 3.8864, 3.8864, 3.8863, 3.8859, 3.8859, 3.8858, 3.8857, 3.8854, 3.8854, 3.8853, 3.8852, 3.8852, 3.8852, 3.8848, 3.8845, 3.8845, 3.8844, 3.884, 3.8839, 3.8838, 3.8836, 3.8835, 3.8833, 3.8831, 3.8828, 3.8825, 3.8719, 3.8769, 3.8719, 3.8649, 3.8743, 3.8789, 3.6768, 3.8331, 3.851, 0.5902, 0.5985, 2.3695, 3.8925, 3.8915, 3.8915, 3.891, 3.8907, 3.8907, 3.8905, 3.8904, 3.8902, 3.8901, 3.8899, 3.8892, 3.8892, 3.8891, 3.8891, 3.889, 3.8889, 3.8884, 3.8881, 3.8878, 3.8877, 3.8877, 3.8876, 3.8875, 3.8874, 3.8873, 3.8872, 3.8871, 3.887, 3.887, 3.8854, 3.8753, 3.8742, 3.887, 3.8867, 3.8731, 3.8845, 3.8857, 3.7333, 3.7675, 3.6512, 3.4989, -0.4158, 0.9505, -0.2682, -0.0382, 3.8954, 3.8948, 3.8944, 3.8941, 3.8939, 3.8939, 3.8934, 3.8934, 3.8933, 3.8933, 3.893, 3.8929, 3.8929, 3.8928, 3.8926, 3.8924, 3.8923, 3.8922, 3.8922, 3.8921, 3.892, 3.8918, 3.8918, 3.8917, 3.8917, 3.8916, 3.8915, 3.8914, 3.8912, 3.8912, 3.891, 3.8892, 3.891, 3.8849, 3.8763, 3.8895, 3.8644, 3.89, -0.2331, 2.1165, 3.9023, 3.9022, 3.902, 3.9017, 3.9017, 3.9015, 3.9013, 3.9013, 3.9011, 3.9009, 3.9008, 3.9007, 3.9006, 3.9005, 3.9004, 3.9003, 3.9002, 3.9001, 3.8999, 3.8997, 3.8995, 3.8995, 3.899, 3.899, 3.8989, 3.8988, 3.8987, 3.8987, 3.8986, 3.8986, 3.8985, 3.8962, 3.8943, 3.8982, 3.89, 3.8956, 3.8554, 3.8967, 3.8788, 3.726, 3.7864, 3.6641, 2.515, -0.6985, -0.1476, 3.905, 3.9038, 3.9038, 3.9037, 3.9036, 3.9033, 3.9032, 3.9031, 3.9027, 3.9026, 3.9024, 3.9023, 3.9022, 3.9022, 3.902, 3.902, 3.9017, 3.9016, 3.9015, 3.9014, 3.9013, 3.9013, 3.9013, 3.9013, 3.901, 3.901, 3.9009, 3.9007, 3.9005, 3.9004, 3.8987, 3.888, 3.891, 3.8929, 3.9, 3.9, 3.9001, 3.897, 3.8979, 3.8693, 3.7491, 3.8698, 3.8952, 3.8124, 3.8493, 0.3834, -0.9132, 0.1659, 3.9087, 3.9081, 3.9079, 3.9074, 3.9074, 3.9073, 3.9071, 3.907, 3.9068, 3.9066, 3.9066, 3.9065, 3.9065, 3.9064, 3.9063, 3.9063, 3.906, 3.906, 3.9059, 3.9059, 3.9051, 3.905, 3.905, 3.9048, 3.9046, 3.9044, 3.9043, 3.9043, 3.9042, 3.9041, 3.9007, 3.902, 3.9021, 3.9037, 3.9022, 3.8892, 3.892, 3.8845, 3.8586, 2.649, -0.314, 1.8126, 1.2878, -0.1478, 0.281, 3.9125, 3.9116, 3.9112, 3.911, 3.9107, 3.9105, 3.9104, 3.9102, 3.9098, 3.9097, 3.9095, 3.9093, 3.9092, 3.909, 3.909, 3.9087, 3.9086, 3.9082, 3.9081, 3.9081, 3.908, 3.908, 3.9078, 3.9074, 3.9073, 3.9069, 3.9065, 3.9065, 3.9063, 3.9062, 3.9049, 3.9017, 3.884, 3.8664, 3.876, 3.8337, 3.845, 3.6372, 2.2747, 1.2802, 2.9238, 1.0874, 0.0338, -1.419, 3.912, 3.9113, 3.911, 3.911, 3.9106, 3.9106, 3.9105, 3.9104, 3.9101, 3.9101, 3.9095, 3.9094, 3.9093, 3.9093, 3.9091, 3.909, 3.9088, 3.9087, 3.9087, 3.9087, 3.9086, 3.9083, 3.908, 3.9079, 3.9078, 3.9077, 3.9076, 3.9076, 3.907, 3.907, 3.9068, 3.9004, 3.9007, 3.9062, 3.9053, 3.8989, 3.8855, 3.8566, 3.8996, 3.7043, 1.6762, 0.3705, -0.6735, 0.6657, 0.5327, 3.9378, 3.9377, 3.9374, 3.9372, 3.937, 3.9368, 3.9367, 3.9367, 3.9367, 3.9366, 3.9366, 3.9362, 3.9359, 3.9352, 3.9352, 3.9349, 3.9346, 3.9345, 3.9343, 3.9341, 3.9341, 3.9341, 3.9338, 3.9338, 3.9337, 3.9337, 3.9337, 3.9331, 3.9329, 3.9328, 3.9315, 3.9178, 3.9321, 3.919, 3.9204, 3.8901, 3.9122, 3.5459, 3.6559, 3.7762, -0.3717, 0.5156, 3.9398, 3.9398, 3.9392, 3.9387, 3.9382, 3.938, 3.9377, 3.9374, 3.9368, 3.9368, 3.9362, 3.9361, 3.9358, 3.9356, 3.9352, 3.9352, 3.9351, 3.9351, 3.9349, 3.9349, 3.9348, 3.9348, 3.9348, 3.9348, 3.9347, 3.9346, 3.9345, 3.9337, 3.9335, 3.9332, 3.9331, 3.9243, 3.9305, 3.9243, -0.5215, 0.0331, 0.9246, 3.9556, 3.9555, 3.955, 3.9547, 3.9545, 3.9545, 3.9539, 3.9539, 3.9538, 3.9536, 3.9529, 3.9527, 3.9527, 3.9524, 3.9523, 3.952, 3.952, 3.9519, 3.9518, 3.9516, 3.9515, 3.9514, 3.9513, 3.9507, 3.9504, 3.9503, 3.9503, 3.9502, 3.9502, 3.95, 3.9495, 3.9493, 3.9422, 3.9272, 3.9482, 3.941, 3.9488, 3.9491, 3.9429, 2.7396, 2.2741, 1.2513, -0.2277, 0.4478, 1.0318, 0.0418, 3.9588, 3.9581, 3.9579, 3.9574, 3.9572, 3.957, 3.9569, 3.9568, 3.9566, 3.9556, 3.9555, 3.9553, 3.9552, 3.9551, 3.955, 3.9548, 3.9548, 3.9547, 3.9545, 3.9541, 3.9539, 3.9535, 3.9535, 3.9532, 3.9532, 3.9532, 3.953, 3.953, 3.9529, 3.9527, 3.9508, 3.9503, 3.9524, 3.9414, 3.8894, 3.7225, 0.7182, 2.3142, 3.1832, 1.0791, 0.1316, 3.9791, 3.979, 3.9788, 3.978, 3.9779, 3.9777, 3.9774, 3.9773, 3.9772, 3.9771, 3.9771, 3.977, 3.977, 3.9769, 3.9769, 3.9769, 3.9768, 3.9768, 3.9768, 3.9767, 3.9764, 3.9763, 3.9763, 3.9761, 3.976, 3.9759, 3.9758, 3.9757, 3.9756, 3.9749, 3.9724, 3.9738, 3.9741, 3.9741, 3.973, 3.9706, 3.7531, -0.4885, 4.003, 4.0028, 4.0027, 4.0024, 4.0023, 4.0019, 4.0019, 4.0019, 4.0016, 4.0011, 4.0008, 4.0006, 4.0006, 4.0003, 4.0002, 4.0002, 4.0, 3.9995, 3.9994, 3.9994, 3.9988, 3.9985, 3.9983, 3.9979, 3.9977, 3.9977, 3.9976, 3.9975, 3.9975, 3.9972, 3.9967, 3.9963, 3.9934, 3.9929, 3.9852, 3.9906, 3.9908, 3.9718, 3.961, 3.972, 0.7945, -1.0254, 4.0057, 4.0052, 4.0049, 4.0044, 4.0043, 4.0041, 4.004, 4.0038, 4.0037, 4.0036, 4.0036, 4.0035, 4.0033, 4.0033, 4.0033, 4.003, 4.0025, 4.0024, 4.0024, 4.0023, 4.002, 4.0017, 4.0016, 4.0016, 4.0014, 4.0014, 4.0013, 4.0013, 4.001, 4.001, 4.0009, 4.0005, 3.9854, 3.9774, 3.997, 3.9966, 3.9464, 3.9954, 3.9382, -0.1947, 0.1808, 3.2432, -0.2358, 0.2657, 4.0093, 4.0084, 4.0084, 4.008, 4.0079, 4.0078, 4.0077, 4.0076, 4.0074, 4.0073, 4.0072, 4.0071, 4.007, 4.0069, 4.0066, 4.0066, 4.0065, 4.0064, 4.0064, 4.0063, 4.0057, 4.0057, 4.0056, 4.0055, 4.0054, 4.0053, 4.0051, 4.005, 4.005, 4.0049, 4.0033, 4.0048, 4.002, 4.0036, 4.0012, 3.9942, 3.9397, 3.9926, -0.4203, 4.0154, 4.0138, 4.0138, 4.0135, 4.0133, 4.0129, 4.0129, 4.0123, 4.0122, 4.012, 4.0118, 4.0116, 4.0115, 4.0111, 4.0108, 4.0105, 4.0103, 4.0102, 4.0101, 4.0101, 4.0101, 4.01, 4.0099, 4.0098, 4.0096, 4.0096, 4.0093, 4.0092, 4.0087, 4.0087, 4.0064, 4.0076, 4.0065, 3.9966, 4.002, 4.0048, 3.9939, 4.0065, 4.0063, -0.2681, 0.7021, -0.1972, 1.2276, 4.0184, 4.0179, 4.0171, 4.0168, 4.0166, 4.0165, 4.0159, 4.0158, 4.0155, 4.0153, 4.0153, 4.0151, 4.0149, 4.0149, 4.0148, 4.0148, 4.0147, 4.0144, 4.0142, 4.0141, 4.0141, 4.0141, 4.0141, 4.014, 4.0137, 4.0132, 4.0132, 4.0128, 4.0128, 4.0123, 4.0055, 4.0121, 4.0121, 4.0121, 4.0092, 3.9996, 4.0024, 3.9486, 3.9232, 3.8826, 3.9452, 3.1599, -0.3903, 2.6103, 1.6458, 0.8259, 4.0234, 4.023, 4.023, 4.0228, 4.0226, 4.0225, 4.0221, 4.0221, 4.022, 4.0218, 4.0217, 4.0216, 4.0216, 4.0215, 4.0212, 4.0205, 4.0202, 4.0202, 4.0201, 4.0198, 4.0192, 4.0192, 4.019, 4.0189, 4.0185, 4.0183, 4.018, 4.0179, 4.0175, 4.0175, 4.0171, 4.0115, 4.0159, 4.0172, 4.0166, 4.0156, 4.0166, 0.8337, -0.6808, 0.2055, 0.3688, 4.0272, 4.0267, 4.0263, 4.0263, 4.0261, 4.026, 4.026, 4.0258, 4.0256, 4.0255, 4.0254, 4.0251, 4.0249, 4.0248, 4.0246, 4.0245, 4.0244, 4.0242, 4.024, 4.024, 4.0238, 4.0237, 4.0236, 4.0236, 4.0236, 4.0236, 4.0235, 4.0232, 4.0231, 4.023, 4.0213, 4.0183, 4.0194, 4.0219, 4.0054, 3.9985, 4.0107, 4.0064, 4.014, 4.0159, -0.2388, 0.2945, 4.0302, 4.0302, 4.0301, 4.03, 4.0298, 4.0298, 4.0298, 4.0295, 4.0294, 4.0293, 4.0293, 4.0292, 4.0292, 4.0291, 4.029, 4.0289, 4.0287, 4.0286, 4.0285, 4.0282, 4.0282, 4.0273, 4.0273, 4.027, 4.027, 4.0269, 4.0268, 4.0267, 4.0264, 4.0264, 4.0228, 4.025, 4.0248, 4.026, 4.0262, 4.0208, 4.0233, 4.0101, 3.9653, 4.0192, 4.0066, 3.938, -0.6092, 4.0315, 4.0308, 4.03, 4.0298, 4.0296, 4.0293, 4.0291, 4.0291, 4.0289, 4.0289, 4.0286, 4.0286, 4.0283, 4.0282, 4.0281, 4.028, 4.0278, 4.0278, 4.0272, 4.0268, 4.0267, 4.0267, 4.0266, 4.0261, 4.0261, 4.026, 4.026, 4.0255, 4.0254, 4.0253, 4.0234, 4.0243, 4.0248, 4.0247, 4.0235, 4.0036, 4.0228, 3.5594, 3.9967, 3.6357, 1.0353, -0.9773, 1.2991, 0.2909, 2.7716, 4.0367, 4.0364, 4.0357, 4.0354, 4.035, 4.035, 4.035, 4.0348, 4.0346, 4.0346, 4.0345, 4.0344, 4.0337, 4.0336, 4.0334, 4.0334, 4.0331, 4.0329, 4.0328, 4.0328, 4.0327, 4.0325, 4.0324, 4.0321, 4.0321, 4.0318, 4.0315, 4.0314, 4.0312, 4.0311, 4.0295, 4.0306, 4.0282, 4.0163, 3.9887, 4.0152, 3.6396, -0.5727, 0.7513, 2.1448, 1.0931, 4.0517, 4.0507, 4.0504, 4.0499, 4.0498, 4.0493, 4.0491, 4.049, 4.0485, 4.0485, 4.0482, 4.0482, 4.0479, 4.0479, 4.0476, 4.0473, 4.0471, 4.0471, 4.0468, 4.0468, 4.0464, 4.0463, 4.0463, 4.0462, 4.0461, 4.046, 4.046, 4.0457, 4.0457, 4.0456, 4.045, 4.0369, 4.0453, 4.0261, 4.0351, 4.0357, 3.9973, 4.0317, 3.9981, 0.6097, 0.6958, 1.6947, 0.1644, 4.0519, 4.0516, 4.0511, 4.0507, 4.0505, 4.0502, 4.0501, 4.0498, 4.0497, 4.0495, 4.0493, 4.0493, 4.0492, 4.0492, 4.0486, 4.0483, 4.0482, 4.048, 4.0479, 4.0478, 4.0478, 4.0475, 4.0475, 4.0473, 4.0473, 4.0472, 4.0471, 4.047, 4.0465, 4.0465, 4.0457, 4.0462, 4.0452, 4.0197, 4.0407, 4.0246, 4.0107, 3.9719, 3.6987, 1.4616, -0.6879, 1.7988, 4.0522, 4.0515, 4.0512, 4.0509, 4.0507, 4.0506, 4.0505, 4.0505, 4.0502, 4.0501, 4.0499, 4.0495, 4.0494, 4.0493, 4.0492, 4.0492, 4.0492, 4.049, 4.048, 4.0479, 4.0476, 4.0475, 4.0472, 4.0471, 4.0471, 4.047, 4.0469, 4.0467, 4.0466, 4.0466, 4.0465, 4.0438, 4.0431, 4.0452, 4.045, 4.0437, 4.0462, 3.9908, 4.0337, 4.0276, 4.0425, -0.1695, 0.2308, 0.7602, 4.0645, 4.0634, 4.0632, 4.0631, 4.063, 4.0628, 4.0627, 4.0624, 4.0614, 4.0613, 4.0611, 4.0611, 4.0611, 4.0611, 4.0607, 4.0607, 4.0607, 4.0606, 4.0605, 4.0603, 4.06, 4.0597, 4.0594, 4.0592, 4.059, 4.0583, 4.0582, 4.0582, 4.0579, 4.0578, 4.0551, 4.0546, 4.0566, 4.0509, 4.051, 4.0495, 4.0463, 4.0451, 4.0266, 4.0376, 3.9365, -0.2862, -0.0373, 4.0952, 4.0944, 4.0942, 4.0942, 4.0941, 4.094, 4.0939, 4.0936, 4.0935, 4.0931, 4.0929, 4.0928, 4.0926, 4.0926, 4.0925, 4.0922, 4.0921, 4.0919, 4.0918, 4.0918, 4.0913, 4.0912, 4.0912, 4.0911, 4.0908, 4.0907, 4.0905, 4.0904, 4.0903, 4.0902, 4.0819, 4.083, 4.0877, 4.0514, 4.081, 3.9224, -0.0083, 3.816, 4.1407, 4.1392, 4.1389, 4.1383, 4.1379, 4.1379, 4.1379, 4.1377, 4.1375, 4.1369, 4.1366, 4.1366, 4.1364, 4.1361, 4.1361, 4.1357, 4.1353, 4.1351, 4.1349, 4.1348, 4.1348, 4.1348, 4.1346, 4.1344, 4.1342, 4.134, 4.1339, 4.1336, 4.1335, 4.1335, 4.1321, 4.133, 4.1264, 4.1242, 4.0466, 4.1109, 4.1136, 4.1141, 3.9623, 0.2205, -0.7953, 1.9659, 0.2732, 4.2487, 4.2484, 4.2477, 4.2469, 4.2461, 4.246, 4.246, 4.2459, 4.2454, 4.2454, 4.2452, 4.2448, 4.2448, 4.2448, 4.2447, 4.2443, 4.2442, 4.2442, 4.2441, 4.2438, 4.2432, 4.2432, 4.2431, 4.243, 4.243, 4.2429, 4.2425, 4.2424, 4.2424, 4.2424, 4.2422, 4.2388, 4.2413, 4.2382, 4.2379, 4.234, 4.2332, 4.2333, 4.2399, 4.1957, 4.1841, 4.2352, 0.691, 1.847, -0.184, 0.3034], \"Term\": [\"india\", \"use\", \"difference_between\", \"work\", \"find\", \"book\", \"world\", \"learn\", \"life\", \"quora\", \"want\", \"love\", \"movie\", \"country\", \"man\", \"woman\", \"girl\", \"bad\", \"question\", \"start\", \"indian\", \"job\", \"good\", \"live\", \"online\", \"happen\", \"free\", \"answer\", \"friend\", \"university\", \"eye\", \"release\", \"even_though\", \"mumbai\", \"disadvantage\", \"happy\", \"collapse\", \"sad\", \"n't\", \"syllabu\", \"advantage\", \"publish\", \"upsc\", \"paint\", \"white\", \"motor\", \"sweat\", \"vector\", \"okay\", \"vision\", \"symbol\", \"judge\", \"pain\", \"weekend\", \"culture\", \"billion\", \"mistake\", \"black\", \"saudi_arabia\", \"itch\", \"man\", \"want\", \"religion\", \"religious\", \"woman\", \"race\", \"murder\", \"blue\", \"people\", \"'s\", \"know\", \"leave\", \"like\", \"who_would_win\", \"marry\", \"good\", \"old\", \"smartphone\", \"smart\", \"gravity\", \"psychology\", \"pok\\u00e9mon_go\", \"respect\", \"measure\", \"electrical\", \"machine\", \"understand\", \"flow\", \"organization\", \"holiday\", \"web_development\", \"infosys\", \"learning\", \"steam\", \"suit\", \"chat\", \"workout\", \"macbook\", \"bihar\", \"surgical_strike\", \"bomb\", \"pull\", \"employee\", \"operate\", \"canadian\", \"warcraft\", \"spider\", \"use\", \"canada\", \"system\", \"instead\", \"resource\", \"example\", \"invite\", \"safe\", \"arrest\", \"supply\", \"government\", \"lack\", \"normal\", \"good\", \"middle\", \"company\", \"buy\", \"people\", \"like\", \"invent\", \"prepare_for\", \"iit\", \"talk\", \"dream\", \"hire\", \"maximum\", \"early\", \"on_youtube\", \"clear\", \"score\", \"view\", \"affect\", \"neet\", \"youtube_video\", \"cigarette\", \"come_back\", \"make_money\", \"trust\", \"new_york_city\", \"tweet\", \"alive\", \"fit\", \"superhero\", \"gst\", \"article\", \"cse\", \"fall_asleep\", \"park\", \"dell\", \"learn\", \"mark\", \"gre\", \"phd\", \"shirt\", \"ias\", \"aircraft\", \"30\", \"language\", \"earn\", \"have_sex\", \"background\", \"cs\", \"placement\", \"good\", \"college\", \"way\", \"people\", \"question_on_quora\", \"professor\", \"london\", \"gate\", \"acquire\", \"there_so_many\", \"title\", \"leader\", \"active\", \"contact\", \"sector\", \"bite\", \"linkedin\", \"bond\", \"succes\", \"money\", \"tired\", \"winter\", \"suck\", \"computer_engineering\", \"top_5\", \"most_difficult\", \"good_laptop_under\", \"mechanical_engineer\", \"examination\", \"tcs\", \"motion\", \"prophet\", \"pimple\", \"ask_on_quora\", \"live\", \"economic\", \"life\", \"interest\", \"song\", \"transfer\", \"stuff\", \"worth\", \"distance\", \"institute\", \"calculate\", \"obama\", \"change\", \"good\", \"like\", \"people\", \"place\", \"way\", \"thing\", \"'s\", \"pakistan\", \"best\", \"event\", \"ignore\", \"would_happen\", \"boyfriend\", \"air\", \"un\", \"secret\", \"bangladesh\", \"smile\", \"reservation\", \"lesson\", \"campu\", \"constitution\", \"crush\", \"x\", \"jealous\", \"multiple\", \"shave\", \"dominate\", \"station\", \"storage\", \"agency\", \"petrol\", \"independent\", \"talk_about\", \"jump\", \"big_datum\", \"hell\", \"india\", \"legal\", \"occur\", \"b\", \"carry\", \"miss\", \"average\", \"masturbate\", \"likely\", \"good\", \"like\", \"place\", \"company\", \"people\", \"college\", \"love\", \"game\", \"beginner\", \"fall\", \"english\", \"of_thrones\", \"kashmir\", \"mac\", \"birthday\", \"train\", \"digital_marketing\", \"at_night\", \"true_that\", \"improve\", \"reaction\", \"puppy\", \"quote\", \"hacker\", \"android_app\", \"paris\", \"director\", \"different_type_of\", \"medal\", \"west\", \"fun\", \"retire\", \"snapchat\", \"drone\", \"instrument\", \"have_ever_hear\", \"picture\", \"professional\", \"development\", \"dislike\", \"update\", \"guitar\", \"number\", \"different_from\", \"writing\", \"play\", \"original\", \"good\", \"people\", \"way\", \"like\", \"internet\", \"fail\", \"funny\", \"israel\", \"step\", \"army\", \"moment\", \"get_rid_of\", \"writer\", \"eu\", \"deal\", \"macbook_pro\", \"ally\", \"sugar\", \"arm\", \"nyc\", \"nation\", \"resistance\", \"clothing\", \"route\", \"amazon\", \"world\", \"introduce\", \"schedule\", \"shower\", \"operation\", \"strange\", \"ebay\", \"mosquito\", \"lord\", \"study\", \"software\", \"order\", \"simple\", \"hide\", \"politic\", \"weapon\", \"gift\", \"indians\", \"team\", \"manage\", \"receive\", \"good\", \"like\", \"place\", \"'s\", \"way\", \"people\", \"happen_if\", \"support\", \"twitter\", \"president\", \"office\", \"narendra_modi\", \"oth_company\", \"cricket\", \"some_less_know\", \"serve\", \"terrorist\", \"phone\", \"user\", \"rich\", \"signal\", \"existence\", \"production\", \"2020\", \"firm\", \"ceo\", \"evidence\", \"highly\", \"real_estate\", \"speaker\", \"define\", \"slow_down\", \"faster_than\", \"education_system\", \"translation\", \"official\", \"run\", \"country\", \"location\", \"direction\", \"server\", \"customer\", \"deep\", \"driver\", \"term\", \"trump\", \"eat\", \"vehicle\", \"prime_minister\", \"'s\", \"people\", \"good\", \"like\", \"planet\", \"material\", \"instagram\", \"search\", \"sea\", \"band\", \"ok\", \"service\", \"enter\", \"racist\", \"electrical_engineering\", \"star\", \"taste\", \"painting\", \"ocean\", \"certification\", \"jee\", \"better\", \"host\", \"powerful\", \"roll\", \"jewish\", \"travel\", \"cell_phone\", \"social\", \"olympic\", \"profile\", \"awesome\", \"statu\", \"assassinate\", \"create\", \"effect\", \"season\", \"square\", \"color\", \"website\", \"wave\", \"image\", \"sell\", \"investor\", \"real\", \"good\", \"provide\", \"like\", \"company\", \"answer\", \"question\", \"design\", \"personal\", \"kid\", \"most_beautiful\", \"asia\", \"fill\", \"new_york\", \"alcohol\", \"cure\", \"20\", \"frequently\", \"dream_about\", \"plug\", \"cute\", \"philippine\", \"laptop\", \"million\", \"goal\", \"equity\", \"somebody\", \"punishment\", \"hope\", \"prostitute\", \"^\", \"manchester_united\", \"tear\", \"thread\", \"2000_rupee_note\", \"degree\", \"stop\", \"ask\", \"grade\", \"program\", \"medicine\", \"debit_card\", \"personality\", \"scar\", \"protein\", \"state\", \"advanced\", \"determine\", \"salary\", \"upvote\", \"on_quora\", \"good\", \"people\", \"buy\", \"skin\", \"heart\", \"shoot\", \"international\", \"response\", \"insurance\", \"record\", \"trend\", \"billionaire\", \"unique\", \"seat\", \"read\", \"situation\", \"reply\", \"gurgaon\", \"singer\", \"east\", \"los_angeles\", \"advertising\", \"nice\", \"white_house\", \"capacitor\", \"implement\", \"summer\", \"dead\", \"taxi\", \"fuel\", \"html\", \"book\", \"friendship\", \"message\", \"face\", \"send\", \"pas\", \"r\", \"society\", \"regard\", \"muslim\", \"suggest\", \"electronic\", \"good\", \"write\", \"word\", \"brand\", \"some_example\", \"lie\", \"novel\", \"little\", \"hate\", \"feel\", \"act\", \"font\", \"chicken\", \"speak\", \"gay\", \"treat\", \"disappear\", \"salman_khan\", \"more_popular\", \"attractive\", \"psu\", \"sense\", \"watch_porn\", \"drunk\", \"banking\", \"prison\", \"find\", \"latin\", \"slowly\", \"choice\", \"delete\", \"isi\", \"sentence\", \"anymore\", \"jesus\", \"haven't\", \"keyboard\", \"recently\", \"startup\", \"brown\", \"on_quora\", \"people\", \"good\", \"like\", \"mean\", \"way\", \"download\", \"watch\", \"so_many_people\", \"iphone\", \"colour\", \"oth_country\", \"correct\", \"despite\", \"ask_question\", \"dark\", \"who_invent\", \"load\", \"content\", \"diet\", \"acid\", \"iphone_7\", \"everyday\", \"meal\", \"training\", \"notification\", \"add\", \"edit\", \"common\", \"tag\", \"fake\", \"superman\", \"korean\", \"civil_war\", \"italian\", \"ww2\", \"movie\", \"advice\", \"spanish\", \"citizen\", \"branch\", \"app\", \"account\", \"issue\", \"answer_on_quora\", \"solution\", \"damage\", \"jews\", \"good\", \"people\", \"buy\", \"like\", \"russia\", \"delhi\", \"opinion\", \"japanese\", \"national\", \"china\", \"card\", \"ugly\", \"license\", \"german\", \"gold\", \"lose\", \"replace\", \"drive\", \"database\", \"chinese\", \"weight\", \"rape\", \"singapore\", \"wish\", \"spain\", \"sup\", \"malaysia\", \"completely\", \"porn\", \"aap\", \"youtube_channel\", \"channel\", \"nato\", \"radio\", \"car\", \"hot\", \"reduce\", \"today\", \"arvind_kejriwal\", \"pizza\", \"war\", \"factor\", \"straight\", \"defeat\", \"good\", \"people\", \"'s\", \"buy\", \"like\", \"mean_by\", \"look_like\", \"so_many\", \"scope\", \"mechanical_engineering\", \"an_mba\", \"facebook\", \"kolkata\", \"hero\", \"ios\", \"android\", \"import\", \"pokemon\", \"opinion_on\", \"an_m\", \"beer\", \"engineer\", \"founder\", \"pop\", \"ibm\", \"especially\", \"fresher\", \"story_behind\", \"bully\", \"frame\", \"usage\", \"martial_art\", \"criterion\", \"palestine\", \"supreme_court\", \"job\", \"\\u2019s\", \"fresh\", \"region\", \"rbi\", \"associate_with\", \"explain\", \"internship\", \"movement\", \"course\", \"pursue\", \"b.tech\", \"option\", \"good\", \"company\", \"offer\", \"experience\", \"like\", \"'s\", \"college\", \"clothe\", \"husband\", \"philippines\", \"iran\", \"tip\", \"law\", \"syria\", \"u.s.\", \"clean\", \"peace\", \"technology\", \"strong\", \"map\", \"consequence\", \"end_up\", \"gujarat\", \"uk\", \"island\", \"stranger\", \"seek\", \"method\", \"dry\", \"divorce\", \"france\", \"ssc_cgl\", \"chest\", \"spouse\", \"domestic\", \"visa\", \"yawn\", \"work\", \"tv\", \"first_time\", \"overcome\", \"as_well_as\", \"accept\", \"interesting\", \"twice\", \"like\", \"good\", \"company\", \"people\", \"way\", \"'s\", \"major\", \"phrase\", \"sound\", \"actor\", \"physic\", \"communication\", \"relationship_between\", \"chemistry\", \"relate\", \"battery\", \"most_interesting\", \"coffee\", \"root\", \"produce\", \"density\", \"los\", \"0\", \"remain\", \"most_likely\", \"intelligent\", \"software_engineer\", \"these_day\", \"while_other\", \"during_sex\", \"campaign\", \"delivery\", \"concrete\", \"9/11\", \"bra\", \"day\", \"mobile\", \"wear\", \"complete\", \"email\", \"engineering\", \"circuit\", \"return\", \"2\", \"1\", \"frequency\", \"look\", \"40\", \"good\", \"time\", \"like\", \"moon\", \"sun\", \"join\", \"big\", \"convert\", \"demand\", \"oxygen\", \"coaching\", \"element\", \"online\", \"nowadays\", \"dres\", \"electricity\", \"solve\", \"jaipur\", \"rotate\", \"loan\", \"nucleu\", \"library\", \"career\", \"direct\", \"basi\", \"datum_scientist\", \"cancer\", \"focu_on\", \"hydrogen\", \"century\", \"pronounce\", \"small\", \"datum_science\", \"+\", \"problem\", \"interview\", \"relative\", \"match\", \"morning\", \"attend\", \"member\", \"single\", \"islam\", \"earth\", \"good\", \"company\", \"buy\", \"way\", \"visit\", \"medium\", \"preparation\", \"friend\", \"procedure\", \"oil\", \"definition\", \"management\", \"chennai\", \"easily\", \"influence\", \"cut_off\", \"scene\", \"iphone_6\", \"uber\", \"smell\", \"custom\", \"steve_jobs\", \"trip\", \"practice\", \"profit\", \"robot\", \"south_africa\", \"learn_english\", \"magnetic_field\", \"airplane\", \"real_life\", \"t_shirt\", \"primary\", \"motivation\", \"get_into\", \"business\", \"airport\", \"main\", \"family\", \"away\", \"flash\", \"benefit\", \"anime\", \"exam\", \"good\", \"like\", \"2017\", \"sleep\", \"c++\", \"linux\", \"cook\", \"pet\", \"windows\", \"bad\", \"decision\", \"typical\", \"tamil_nadu\", \"ms\", \"application\", \"egg\", \"brexit\", \"characteristic\", \"learn_python\", \"dad\", \"cros\", \"mirror\", \"mom\", \"resume\", \"care\", \"expensive\", \"box\", \"announce\", \"vs\", \"phase\", \"learn_java\", \"teacher\", \"2016\", \"research\", \"find_out\", \"reliable\", \"c\", \"core\", \"7\", \"health\", \"processor\", \"good\", \"way\", \"pune\", \"photo\", \"kerala\", \"netflix\", \"vietnam\", \"hindi\", \"western\", \"free\", \"better_than\", \"australia\", \"shoe\", \"teenager\", \"silicon_valley\", \"principle\", \"award\", \"designer\", \"grey\", \"cod\", \"percentile\", \"appreciate\", \"grow_up\", \"cloud\", \"foreign\", \"vice_versa\", \"university\", \"difficult\", \"wordpress\", \"hostel\", \"communism\", \"air_force\", \"board\", \"expect\", \"network\", \"olympics\", \"graduate\", \"passport\", \"feed\", \"student\", \"local\", \"admission\", \"good\", \"like\", \"offer\", \"japan\", \"fast_way\", \"grow\", \"print\", \"adopt\", \"cheat\", \"debate\", \"remember\", \"knowledge\", \"parent\", \"android_phone\", \"belong\", \"orange\", \"testing\", \"anti\", \"hour\", \"google_chrome\", \"second\", \"so_few\", \"competition\", \"rocket\", \"networking\", \"drop\", \"newspaper\", \"random\", \"significant\", \"banana\", \"auto\", \"200\", \"log\", \"house\", \"java\", \"apple\", \"couple\", \"blame\", \"save\", \"every_day\", \"guide\", \"start\", \"rather_than\", \"3\", \"marry\", \"good\", \"time\", \"people\", \"like\", \"programming_language\", \"so_popular\", \"why_hasn't\", \"tool\", \"will_happen_if\", \"paper\", \"temple\", \"hat\", \"key\", \"player\", \"recommend\", \"post\", \"so_slow\", \"bollywood\", \"candidate\", \"european\", \"protect\", \"increase\", \"germany\", \"wedding\", \"living\", \"height\", \"gym\", \"club\", \"modern\", \"exercise\", \"security\", \"beat\", \"transformer\", \"cake\", \"speed\", \"role\", \"engine\", \"character\", \"kill\", \"rise\", \"light\", \"ground\", \"good\", \"play\", \"happen\", \"film\", \"go_into\", \"fight\", \"hillary\", \"inr\", \"tv_show\", \"fish\", \"right_now\", \"style\", \"tank\", \"break\", \"=\", \"bible\", \"oppose\", \"joke\", \"rain\", \"rahul_gandhi\", \"sort\", \"depressed\", \"react\", \"beautiful\", \"refer\", \"properly\", \"melbourne\", \"9\", \"russian\", \"lake\", \"profession\", \"world_war_ii\", \"episode\", \"atheist\", \"partner\", \"christianity\", \"temperature\", \"1000\", \"god\", \"cheat_on\", \"risk\", \"5\", \"8\", \"6\", \"end\", \"good\", \"people\", \"famous\", \"burn\", \"feel_like\", \"economy\", \"negative\", \"positive\", \"artist\", \"most_famous\", \"cause\", \"dc\", \"gun\", \"stock_market\", \"pro_and_con\", \"torrent\", \"america\", \"steel\", \"centre\", \"plastic\", \"smoke\", \"on_instagram\", \"fan\", \"enemy\", \"worship\", \"stomach\", \"nba\", \"painful\", \"county_ga\", \"rice\", \"atom\", \"at_home\", \"form\", \"follow\", \"united_states\", \"test\", \"gaming\", \"quit\", \"suffer\", \"global\", \"javascript\", \"mas\", \"invest\", \"individual\", \"black_money\", \"generally\", \"fund\", \"people\", \"good\", \"'s\", \"sport\", \"slow\", \"range\", \"flight\", \"night\", \"kind_of\", \"launch\", \"police\", \"nepal\", \"an_iphone\", \"christmas\", \"political_party\", \"week\", \"file\", \"fact\", \"conversation\", \"br\", \"tablet\", \"debt\", \"plus\", \"handle\", \"safety\", \"pok\\u00e9mon\", \"sim_card\", \"military\", \"variable\", \"faster\", \"pick_up\", \"e\", \"opinion_about\", \"busines\", \"value\", \"proces\", \"detail\", \"truth\", \"share\", \"comment\", \"page\", \"each_oth\", \"buy\", \"good\", \"ne\", \"start\", \"people\", \"way\", \"favorite\", \"believe\", \"think_about\", \"donald_trump\", \"speech\", \"store\", \"universe\", \"come_out\", \"memory\", \"survive\", \"commercial\", \"lose_weight\", \"zero\", \"abuse\", \"display\", \"hillary_clinton\", \"sit\", \"humanity\", \"high_school\", \"potential\", \"microsoft\", \"bernie_sanders\", \"search_engine\", \"soldier\", \"yoga\", \"today_'s\", \"south_korea\", \"comment_on\", \"spread\", \"addres\", \"brain\", \"gain\", \"win\", \"election\", \"purchase\", \"demonetization\", \"and/or\", \"true\", \"think\", \"people\", \"vote\", \"'s\", \"like\", \"good\", \"turn\", \"so_expensive\", \"death\", \"fly\", \"appear\", \"tamil\", \"heat\", \"avoid\", \"feeling\", \"indian_army\", \"wall\", \"eventually\", \"karnataka\", \"hinduism\", \"activity\", \"pressure\", \"dollar\", \"exist\", \"french\", \"stres\", \"achieve\", \"snake\", \"marvel\", \"decrease\", \"pre\", \"arabic\", \"spend\", \"get_angry\", \"beauty\", \"thought\", \"hold\", \"reason\", \"public\", \"object\", \"report\", \"close\", \"feature\", \"plan\", \"api\", \"space\", \"time\", \"people\", \"good\", \"way\", \"'s\", \"so_hard\", \"hurt\", \"line\", \"control\", \"marketing\", \"red\", \"mathematic\", \"population\", \"shape\", \"green\", \"finance\", \"ear\", \"mobile_app\", \"self\", \"author\", \"inflation\", \"black_hole\", \"responsible_for\", \"sale\", \"queen\", \"trade\", \"quora_user\", \"monitor\", \"clearly\", \"fashion\", \"affordable\", \"asian\", \"sudden\", \"ex_girlfriend\", \"warm\", \"half\", \"right\", \"england\", \"math\", \"inside\", \"wrong\", \"traffic\", \"person\", \"point\", \"base_on\", \"good\", \"way\", \"so_much\", \"difference_between\", \"easy_way\", \"code\", \"party\", \"voice\", \"bill\", \"product\", \"architecture\", \"bangalore\", \"weird\", \"as_need_improvement\", \"obsess_with\", \"wikipedia\", \"approach\", \"theme\", \"manufacturer\", \"mbbs\", \"sap\", \"any_oth\", \"digital\", \"anonymous\", \"consultant\", \"elon_musk\", \"treatment\", \"divide\", \"new_zealand\", \"rude\", \"solar_system\", \"tend\", \"deal_with\", \"enjoy\", \"g\", \"than_oth\", \"good\", \"people\", \"buy\", \"most_popular\", \"guy\", \"text\", \"skill\", \"san_francisco\", \"sex\", \"afraid\", \"care_about\", \"muscle\", \"fat\", \"gmail\", \"average_salary\", \"caste\", \"wine\", \"architect\", \"beach\", \"marriage\", \"propose\", \"united_kingdom\", \"wealthy\", \"$\", \"attract\", \"date\", \"oracle\", \"co\", \"transaction\", \"invention\", \"executive\", \"default\", \"conference\", \"american\", \"muslims\", \"easy\", \"indian\", \"hindus\", \"refuse\", \"along_with\", \"argument\", \"pakistani\", \"girl\", \"mean\", \"like\", \"good\", \"people\", \"woman\", \"way\", \"food\", \"list\", \"price\", \"restaurant\", \"good_solar_panel\", \"manaphy\", \"cheap\", \"poem\", \"ship\", \"industry\", \"photography\", \"site\", \"illegal\", \"water\", \"cuisine\", \"standard\", \"prevent\", \"ipad\", \"section\", \"market\", \"tax\", \"wash\", \"bitcoin\", \"reliance_jio\", \"dress\", \"repair\", \"athlete\", \"vacation\", \"tutorial\", \"lead\", \"build\", \"home\", \"marijuana\", \"ad\", \"hear\", \"ice\", \"good\", \"eat\", \"california_ca\", \"place\", \"way\", \"fix\", \"wo_not\", \"hollywood\", \"flag\", \"switch\", \"version\", \"goa\", \"wifi\", \"request\", \"lyric\", \"some_tip_on\", \"tree\", \"dna\", \"past\", \"rule\", \"poor\", \"separate\", \"current\", \"cat\", \"mba\", \"bjp\", \"u.s\", \"check\", \"gmat\", \"raise\", \"platform\", \"2000\", \"busines_model\", \"room\", \"promote\", \"open\", \"note\", \"young\", \"foreigner\", \"even_after\", \"condition\", \"500\", \"good\", \"great\", \"whatsapp\", \"favourite\", \"significance\", \"know_about\", \"group\", \"turkey\", \"python\", \"topic\", \"seo\", \"pc\", \"hit\", \"ideal\", \"minimum\", \"web\", \"notice\", \"master\", \"electron\", \"so_far\", \"tie\", \"criticize\", \"trick\", \"chemical\", \"describe\", \"human_being\", \"underrated\", \"mechanical\", \"soluble\", \"entrepreneur\", \"cultural\", \"equivalent\", \"n\", \"mis\", \"voltage\", \"connect\", \"action\", \"alien\", \"let\", \"serie\", \"medical\", \"people\", \"good\", \"dog\", \"video\", \"popular\", \"human\", \"mobile_phone\", \"screen\", \"hack\", \"\\u2019\", \"attack\", \"california\", \"youtube\", \"forget\", \"evil\", \"hindu\", \"art\", \"teach\", \"upload\", \"war_between\", \"fight_between\", \"nature\", \"button\", \"lawyer\", \"final\", \"bed\", \"push\", \"biology\", \"pee\", \"ahmedabad\", \"scientific\", \"conduct\", \"show_up\", \"2013\", \"computer_science\", \"animal\", \"nasa\", \"rat\", \"currently\", \"percent\", \"specific\", \"good\", \"like\", \"who_would_win\", \"people\", \"'s\", \"purpose\", \"basic\", \"music\", \"most_important\", \"so_difficult\", \"locate\", \"listen\", \"cell\", \"philosophy\", \"crime\", \"programmer\", \"developer\", \"community\", \"motivate\", \"touch\", \"mode\", \"magazine\", \"device\", \"proof\", \"lock\", \"coach\", \"master_'s\", \"pro\", \"shall\", \"coin\", \"crash\", \"it_company\", \"computer\", \"merge\", \"central\", \"hard\", \"field\", \"datum\", \"position\", \"plane\", \"usually\", \"compare\", \"total\", \"good\", \"important\", \"come_from\", \"bad_thing\", \"wrong_with\", \"clas\", \"blood\", \"limit\", \"2014\", \"drug\", \"hospital\", \"ga\", \"dance\", \"chhattisgarh\", \"iit_jee\", \"competitor\", \"impossible\", \"wise\", \"cable\", \"congress\", \"ukraine\", \"fact_about\", \"city\", \"accent\", \"africa\", \"december\", \"special\", \"presidency\", \"originate\", \"stay\", \"habit\", \"more_than\", \"m\", \"son\", \"programming\", \"class\", \"income\", \"policy\", \"satellite\", \"disease\", \"good\", \"'s\", \"people\", \"consider\", \"importance\", \"low\", \"month\", \"liquid\", \"bollywood_movie\", \"airline\", \"decide\", \"pm\", \"statistic\", \"headphone\", \"tough\", \"head\", \"involve\", \"independence\", \"wire\", \"pink\", \"bag\", \"sexy\", \"overall\", \"australian\", \"desert\", \"festival\", \"sweet\", \"civil_engineering\", \"specie\", \"evening\", \"chocolate\", \"full_form\", \"torque\", \"delhi_ncr\", \"4\", \"hr\", \"d\", \"asians\", \"pick\", \"case\", \"soon\", \"lot\", \"apply\", \"set\", \"12\", \"require\", \"good\", \"body\", \"high\", \"time\", \"die\", \"cry\", \"quora\", \"mexico\", \"blog\", \"difference\", \"hotel\", \"good_coaching_institute\", \"link\", \"plant\", \"isis\", \"americans\", \"deliver\", \"bird\", \"hong_kong\", \"weak\", \"information\", \"trading\", \"actress\", \"split\", \"first_day_at\", \"presidential_election\", \"ece\", \"scientist\", \"nuclear\", \"politician\", \"powder\", \"google\", \"geniu\", \"album\", \"look_at\", \"certain\", \"stick\", \"huge\", \"audio\", \"target\", \"gender\", \"people\", \"good\", \"like\", \"'s\", \"fast\", \"fire\", \"discover\", \"period\", \"concept\", \"fee\", \"liberal\", \"idea\", \"shop\", \"copy\", \"video_game\", \"so_famous\", \"indonesia\", \"rupee\", \"britain\", \"literature\", \"peni\", \"vagina\", \"weather\", \"pattern\", \"io\", \"lady\", \"nose\", \"conservative\", \"justice\", \"solid\", \"most_important_thing\", \"entire\", \"algorithm\", \"ancient\", \"charge\", \"source\", \"matter\", \"suddenly\", \"prefer\", \"pay\", \"theory\", \"remove\", \"natural\", \"intelligence\", \"good\", \"way\", \"female\", \"necessary\", \"capital\", \"mix\", \"formula\", \"recipe\", \"north_korea\", \"successful\", \"male\", \"follower\", \"future\", \"rate\", \"drink\", \"function\", \"growth\", \"italy\", \"terrorism\", \"quickly\", \"machine_learning\", \"failure\", \"iim\", \"toronto\", \"south\", \"decade\", \"constant\", \"weed\", \"sing\", \"contribute\", \"hole\", \"spotify\", \"education\", \"social_medium\", \"track\", \"ratio\", \"generate\", \"stream\", \"mention\", \"continue\", \"science\", \"north\", \"analysi\", \"item\", \"good\", \"history\", \"choose\", \"modi\", \"europe\", \"leg\", \"healthy\", \"celebrate\", \"finger\", \"meat\", \"yellow\", \"energy\", \"start_up\", \"freedom\", \"include\", \"glas\", \"stupid\", \"salt\", \"milk\", \"british\", \"story\", \"noida\", \"racism\", \"heavy\", \"deserve\", \"suitable\", \"sky\", \"suicide\", \"greece\", \"europeans\", \"accuse\", \"different\", \"large\", \"regular\", \"k\", \"street\", \"present\", \"recognize\", \"vote\", \"at_least\", \"bear\", \"people\", \"good\", \"consider\", \"way\", \"force\", \"mind\", \"will_win\", \"letter\", \"logo\", \"naruto\", \"hollywood_movie\", \"tooth\", \"democracy\", \"recent\", \"most_powerful\", \"christians\", \"windows_10\", \"taiwan\", \"maharashtra\", \"doctor\", \"political\", \"volume\", \"2012\", \"left\", \"develop\", \"land\", \"infinity\", \"republican\", \"ai\", \"majority\", \"barack_obama\", \"limited\", \"windows_7\", \"lift\", \"allah\", \"wife\", \"clinton\", \"wait\", \"battle\", \"try\", \"error\", \"come\", \"good\", \"'s\", \"trump\", \"think\", \"sydney\", \"quality\", \"stock\", \"cool\", \"have_ever_see\", \"ram\", \"iq\", \"training_institute\", \"ticket\", \"manager\", \"double\", \"cancel\", \"3d\", \"depression\", \"actres\", \"john\", \"usa\", \"cap\", \"filter\", \"sweden\", \"inspire\", \"performance\", \"graphic_card\", \"install\", \"fine\", \"brother\", \"represent\", \"la\", \"brisbane\", \"information_about\", \"hair\", \"investment\", \"freeze\", \"2015\", \"draw\", \"samsung\", \"relationship\", \"upgrade\", \"count\", \"good\", \"'s\", \"high\", \"way\", \"center\", \"boy\", \"camera\", \"celebrity\", \"top_10\", \"metal\", \"foot\", \"elect\", \"daily\", \"center_near\", \"flat\", \"ac\", \"batman\", \"dubai\", \"tech\", \"and_alcohol_rehab\", \"high_quality\", \"begin\", \"president_obama\", \"january\", \"us_president\", \"technique\", \"building\", \"court\", \"chicago\", \"darth_vader\", \"worldwide\", \"differ_from\", \"poverty\", \"2016_movie\", \"model\", \"pilot\", \"surface\", \"meaning\", \"contain\", \"suitable_inpatient_drug\", \"good_inpatient_drug\", \"interested\", \"girl\", \"like\", \"good\", \"earth\", \"hyderabad\", \"meet\", \"girlfriend\", \"currency\", \"hand\", \"king\", \"stand\", \"buy_under\", \"invade\", \"block\", \"football\", \"result\", \"credit\", \"tea\", \"cover\", \"destroy\", \"cut\", \"declare\", \"interest_rate\", \"conquer\", \"quick\", \"mars\", \"net\", \"scale\", \"tourist\", \"wood\", \"crack\", \"dr.\", \"diesel\", \"dirty\", \"bike\", \"short\", \"impact\", \"property\", \"christian\", \"technical\", \"soul\", \"baby\", \"tall\", \"50\", \"fair\", \"good\", \"people\", \"buy\", \"would_happen_if\", \"rank\", \"mother\", \"wake_up\", \"origin\", \"exactly\", \"tv_serie\", \"father\", \"perfect\", \"structure\", \"river\", \"perform\", \"school\", \"format\", \"php\", \"acces\", \"commit_suicide\", \"door\", \"rock\", \"headache\", \"go_back\", \"window\", \"glass\", \"classic\", \"cbse\", \"float\", \"u\", \"fever\", \"abolish\", \"differently\", \"hitler\", \"prepare\", \"officer\", \"outside\", \"adult\", \"harry_potter\", \"select\", \"dangerous\", \"private\", \"less_than\", \"child\", \"good\", \"like\", \"so_important\", \"strategy\", \"size\", \"road\", \"s\", \"cold\", \"general\", \"fear\", \"daughter\", \"provider\", \"useful\", \"o\", \"type\", \"framework\", \"evolution\", \"cheese\", \"laugh\", \"financial\", \"prop\", \"environment\", \"fruit\", \"crazy\", \"rest\", \"dish\", \"vegetable\", \"unit\", \"norway\", \"client\", \"organic\", \"spin\", \"power\", \"subject\", \"len\", \"project\", \"consume\", \"equal\", \"good\", \"suitable_solar_panel_installation\", \"review\", \"percentage\", \"bank\", \"catch\", \"walk\", \"more_important\", \"package\", \"waste\", \"reach\", \"table\", \"sign\", \"yahoo\", \"succe\", \"youth\", \"iron\", \"upset\", \"retirement\", \"2010\", \"educate\", \"lick\", \"decent\", \"fully\", \"ex\", \"and_1000_rupee\", \"bar\", \"patient\", \"mutual_fund\", \"weight_los\", \"level\", \"november\", \"payment\", \"contract\", \"respond\", \"output\", \"ban\", \"cash\", \"15\", \"specifically\", \"claim\", \"people\", \"good\", \"help\", \"'s\", \"people_hate\", \"all_time\", \"indian_government\", \"angry\", \"develop_country\", \"thailand\", \"ring\", \"brazil\", \"budget\", \"credit_card\", \"certificate\", \"curve\", \"smoking\", \"manufacture\", \"late\", \"poetry\", \"bicycle\", \"islamic\", \"lip\", \"4_g\", \"scheme\", \"last_name\", \"pregnancy\", \"residential\", \"similarity\", \"star_trek\", \"bug\", \"gb\", \"focu\", \"airtel\", \"round\", \"reject\", \"mail\", \"department\", \"long_term\", \"dump\", \"100%\", \"apart_from\", \"scam\", \"alternative\", \"effective\", \"if_yes\", \"good\", \"thing\", \"people\", \"way\"], \"Freq\": [20048.0, 17883.0, 11354.0, 8683.0, 7871.0, 7725.0, 6791.0, 7020.0, 7255.0, 5381.0, 5620.0, 5231.0, 4993.0, 5177.0, 4992.0, 5361.0, 5199.0, 4577.0, 4501.0, 5437.0, 4549.0, 4467.0, 84111.0, 4220.0, 3984.0, 3648.0, 3510.0, 3508.0, 3490.0, 3458.0, 1118.5171381771243, 1207.160110170327, 1032.5020636932973, 1386.504859938814, 458.75590781596736, 779.1286018547163, 369.7162079259671, 332.48021417963514, 477.2690893836276, 273.1584602701776, 795.1460072158042, 288.23231898463746, 249.97394434909128, 270.4131675553359, 1751.3220189666038, 208.36728634528137, 204.37333562575807, 228.6360642010546, 307.126021349168, 194.44529685537256, 347.2455105694979, 275.22365678806466, 413.1107332215213, 171.43971927375617, 629.3051536577079, 180.3784569540749, 293.1707323380107, 1968.8049404626722, 204.6923049531398, 152.12430189885433, 4950.015166290748, 5555.231249778075, 1206.5731571740735, 279.7286693322832, 5012.971584933234, 353.36674063472395, 234.213377533807, 529.0955376000353, 2026.593301503244, 980.784449137397, 627.4194828200021, 428.0262077936707, 659.9467143253659, 317.1666806897014, 348.66539491307674, 445.4300577352049, 307.4205354389008, 773.7284214859295, 799.7244356817713, 542.3507444194645, 364.16870185644643, 338.1776323564382, 478.0034179870209, 498.06794387232895, 357.91720022074423, 430.0207402815447, 833.2159118193551, 244.66693679031457, 275.6645399245885, 228.76491474078577, 264.7394259372794, 251.22039641930894, 219.7908057105377, 185.81736221018667, 380.69707310805995, 277.90642520078285, 236.9351468127438, 184.2261585026728, 165.28431304812418, 162.08249796082188, 181.73093340694825, 206.04911438953587, 576.0011925063187, 210.59443987524367, 170.50797786758892, 142.05031744861952, 166.27295566612435, 17343.510706908837, 1306.107234179643, 1601.7683801285161, 2591.1651129594593, 449.02404205701373, 1132.9024230647674, 203.9806642408193, 958.9991950191121, 213.4619049020107, 211.86504463794176, 1317.61190835745, 267.99806878871345, 463.7311401089469, 992.346554016233, 239.83208748714438, 320.01076232993535, 310.78999467274565, 276.79983700433854, 262.97850090887465, 658.3703894050342, 754.1789195547103, 898.5304655581006, 1362.2218022550683, 1287.0470878443805, 1212.9499241997955, 457.33914930295333, 443.48158738435006, 334.88306666327384, 570.267881495711, 994.4008293391929, 1393.0811006779143, 1019.641653771396, 300.8117897727337, 294.4962994211036, 315.92404634917983, 261.0641599867653, 357.91232346967405, 442.28465687072, 267.93722368926626, 222.50081421210032, 242.33435252281387, 397.50095312505465, 216.67102262767935, 210.41301301080904, 328.5249096954723, 531.9874825790124, 188.1283421487369, 238.45928972620652, 169.84238292761134, 6963.624364415989, 1237.9763073535983, 383.5873962603784, 431.2555591654049, 266.9409387142481, 284.37876563829667, 277.5872072339167, 285.66475143058574, 2227.8733039596646, 548.4260730985127, 774.1522998068197, 343.4695837229868, 481.3798441035361, 414.2034889688194, 4708.654943075674, 945.7198064581219, 1633.015220427556, 352.7940502412988, 693.1279395077463, 511.63532432925916, 568.8184875861335, 584.8000151992745, 349.1743145264945, 317.38517372163733, 348.449130670027, 544.3978661770349, 472.59105481849366, 505.6689973756831, 299.7093882620875, 298.2652581435, 280.02517819844434, 280.7776766689137, 447.6948718929137, 2155.7594213910606, 265.77755685367873, 305.8527289945314, 226.74657556123296, 204.0509831316887, 176.94514121285502, 172.98945807853255, 170.04359673846426, 365.8866334917881, 154.29397888744376, 269.62431375995686, 197.13153526521648, 141.24543494047722, 134.00320289857532, 135.1236469294884, 4183.087676393931, 844.4920086703279, 7016.293495478192, 398.9927474664773, 2743.0636226581782, 339.9977466341391, 230.16825942803231, 643.7040051310778, 266.558405810893, 1179.2762790020454, 356.8790511240464, 393.7605340848278, 1142.1582931739429, 3299.4868893408243, 1135.5552435418972, 760.2757834920499, 432.52793982839523, 443.95156476456344, 405.88198353882757, 355.9323604148449, 1905.6315807905328, 1009.7225678938183, 546.0748965418961, 468.086855627357, 365.77289215235703, 860.2421396965018, 711.3944743211855, 234.8302547613163, 364.71646198235266, 273.63823455024783, 213.4650081780191, 261.48991365836457, 191.225925714103, 183.37762020314497, 175.93489854212308, 375.4030909932416, 464.29159604528803, 207.03167498255686, 268.1483529729881, 156.3161884716044, 150.35253896696483, 166.50668510077577, 177.0952225188784, 192.75975947789365, 160.46241978459085, 267.5253653530309, 451.6277635394157, 157.78767049416425, 139.94579653445157, 232.57706116934332, 19452.51684479663, 690.9528532028742, 532.7357695691918, 386.4584735029318, 288.92939385979093, 245.52181098087433, 840.0641256027499, 190.78641166153253, 241.46790814072173, 854.0819763714788, 482.7822348556337, 348.84120861245, 316.15106621297144, 386.3818109857775, 234.45669246215326, 5224.758329574285, 2579.169657913792, 877.7956940150714, 1177.4394048875458, 1963.9918591645417, 487.9799702668234, 450.7386817756244, 436.05025998465925, 375.0141216996974, 593.8694756100766, 357.1972050333341, 478.606331380515, 248.0974079743059, 1231.2875198680824, 377.49444000050687, 229.28234293865822, 398.0613159259223, 216.37162668737082, 331.7936971724902, 206.1054697412276, 231.87912306662054, 208.82742603811744, 200.0795664433609, 339.06618400112507, 269.415010820984, 205.96466060232848, 327.28278224567117, 186.49101155277438, 166.51598884896842, 234.5348343008104, 955.80692148152, 646.9290076786189, 604.2718940282883, 331.7792657562136, 635.5864250239235, 263.2630022168078, 2216.9982826644878, 443.9921594767503, 275.3939077547971, 2262.3755895251365, 370.9579675343504, 2814.8318240837702, 787.8342269757183, 489.2139457999218, 492.1885571335003, 1260.6395096070235, 1054.8066081995428, 473.2474930139905, 833.7889323539382, 507.02614190380814, 496.0243204540862, 506.5674691222871, 502.69749428617706, 388.11822930577637, 276.22611535805515, 311.977858568312, 268.2171810348164, 229.06208393666012, 223.48543032431067, 371.0084927852933, 237.23739982641192, 471.8722430674326, 182.2648150932446, 253.22457987904846, 181.31898075010787, 747.7925911496433, 6750.357185296304, 316.3263249212856, 192.97166081574653, 167.30429554818096, 260.27039507610226, 204.31188913097537, 150.88053166242437, 135.24460754653353, 258.47442314837156, 3114.6031385500423, 1692.2109594159267, 1174.8665544290502, 562.9783918733453, 383.8715631667739, 342.49323517030393, 280.84987895849986, 571.1293956371445, 1308.6641179267467, 868.2051068359693, 305.79104825494716, 632.9307523315489, 2945.1368215790885, 653.3797987280041, 455.5889393034652, 539.2809441614053, 525.1842328095732, 458.9577328433534, 682.4637422311014, 1743.796610055053, 608.5673080441487, 1833.4440421867353, 616.9276990727466, 545.6729971997937, 383.9688337583071, 447.0698210888594, 350.5693785783182, 575.5210372205199, 393.1801957108765, 2081.0857068795162, 878.6118722081131, 912.9162609526511, 254.81059968022348, 288.7259136268472, 282.06092232113804, 242.8142044560801, 257.0276935222868, 284.9610002364098, 349.9360020419976, 208.68267308524406, 225.21031600706934, 225.0578937433262, 270.2132555521457, 180.36387628180407, 185.81783989544192, 171.26872089897216, 178.70780226379904, 195.5367704713493, 1765.2755339596467, 5049.065002440364, 345.38577772157674, 264.068691999137, 265.2574594551843, 252.0066614979707, 262.755545577448, 291.980181151354, 1229.4523538511671, 1567.6571127867003, 1955.3850410163245, 295.39378026568284, 293.73139144360107, 891.3679559799612, 706.1026941386501, 633.5249333770257, 314.6605183800067, 761.6005210254428, 793.9086104523756, 691.2233791076663, 595.7314730210411, 456.14967251639155, 420.5598809266277, 408.95799470485997, 2384.0923259428305, 397.3418571276223, 365.9205031166074, 311.0448424876187, 947.3110414645367, 412.41210949847414, 262.1512835528422, 276.4999119077509, 314.72812712271747, 274.0461051023356, 607.4523418832696, 447.0878304231766, 221.07606658257666, 256.85317966863295, 235.17498584345594, 1425.6560735320513, 197.22444842551954, 502.71725525883346, 179.82665766423816, 427.6657505215236, 168.22127017176157, 362.64954106969645, 160.111601963687, 2246.2606727190255, 1267.9047217915027, 560.2472053165911, 293.48161583973234, 1032.198496578753, 3169.752433261005, 323.555945063183, 657.0500808679561, 1388.4054872958081, 308.62272604673933, 1034.02045466025, 1977.5114851337746, 468.85822440021354, 592.9796717368246, 363.67201255649417, 3504.878057785513, 4493.709947923674, 1656.8499860738032, 546.0428474642877, 904.4048204914629, 419.68452928298035, 329.68057139478884, 292.4189592390557, 292.48364206002725, 402.67268496388493, 432.76023327389663, 357.36721912955954, 169.85729711386296, 156.041011746205, 153.04129608687705, 162.05796293346526, 148.26112868452634, 2022.7632768379033, 225.4705544021337, 331.832693648378, 136.0838521175793, 170.2293628548781, 128.27842794754332, 150.366750503759, 121.73463832341997, 123.43649938562257, 115.08135541588338, 118.48929050975606, 111.52113195344023, 111.00649056801538, 826.4005424046887, 2155.7730990069317, 3035.6483988152695, 365.4026418769389, 1197.102630748981, 312.6505558246072, 188.17123544284098, 270.1491807490027, 200.96243937604896, 293.1157046438906, 2319.866438748086, 242.79753361707793, 362.1270147390918, 809.4538753901016, 228.6682441289888, 555.4953056736834, 1885.0815833242432, 820.0729902673123, 350.6359730312215, 550.314252232982, 454.83739873698187, 359.71690449854816, 680.3236992649777, 284.57610385057524, 283.88523979963924, 514.8976620631308, 271.1038125687775, 267.6074333082116, 312.7788185099544, 369.13119634277285, 2731.204641738376, 295.1390090614362, 368.9138318576016, 207.6655964968372, 256.0006873780885, 197.79005132189522, 180.4671056256822, 183.43660603072865, 345.53002398817324, 191.69394924588258, 168.7238289689349, 368.0284058789927, 331.65559458449854, 402.6278378312775, 159.5366654475924, 188.0549703747576, 154.45242616282982, 7670.350451938125, 177.25016993747818, 755.1521801666914, 1365.5382746947466, 1278.22403138307, 471.72924937760433, 683.5215802949881, 624.8940302407816, 462.2211765580567, 527.495860893027, 300.7111998692934, 374.3597020839423, 6402.10083079476, 409.76999070109895, 2405.7827752831186, 1223.3342666583376, 1087.6724123111767, 695.0080452579654, 619.2191367691837, 483.65516574048917, 1572.23831578795, 3092.3976911350524, 864.7870560885112, 345.1575389731176, 324.63057518299047, 1006.7369393753252, 476.15853055574973, 690.0275217805888, 273.61890254015594, 213.81003307645008, 209.28797041373298, 325.3544637641962, 215.33116225380277, 228.46950955981197, 181.0770999019758, 173.42878185215088, 174.22139160155353, 214.73699942153004, 7814.786263048851, 153.11213712934358, 128.90516963923173, 371.5884221600413, 703.7606491955504, 122.43625216896086, 616.5218437724233, 472.4564141298536, 386.4810300617651, 394.37773666973436, 216.31038931594915, 242.78565566079882, 1267.851463242601, 254.48301481651805, 1666.3031481830176, 1612.2987449580176, 1324.12780197529, 458.5484770765915, 356.08363205454566, 392.36723179007697, 1575.2858812321358, 2512.917653648942, 726.409112366996, 1181.118579613345, 451.2926155465369, 502.3020769146826, 946.2901129417792, 678.0851611607052, 319.9009461530794, 354.50504523235804, 300.8671150699231, 408.71855446602416, 427.8387004460565, 322.54053858425004, 232.0433088704441, 228.97041462199707, 233.73779137858492, 239.59782095102767, 636.7885887117908, 216.72520601462617, 932.6198472038078, 250.82380115927543, 693.2297321820428, 181.46851801949205, 426.37867405560917, 196.0685034540957, 178.87978719441088, 158.4114690983249, 163.8207082687543, 174.55164555512886, 4939.301234205254, 534.7458135472991, 345.1477380825236, 315.0990743500437, 362.0001261153941, 2804.9446868130663, 899.520710095536, 735.1308974901411, 379.0029259423502, 731.1013513287746, 255.91446844108717, 384.1980686415103, 2961.195921397437, 520.4028880613412, 371.5951342676188, 359.7529141018668, 1349.8279679513507, 1703.5548522259946, 469.4543113171942, 735.1652399391514, 497.43405591227577, 3050.026167812285, 503.40283376996575, 310.5106176978686, 286.9394785983576, 473.7147306245461, 420.9411323010019, 1431.5781495968404, 672.849312253619, 897.3476326874447, 368.64764276317965, 1546.2239598134145, 399.0010316857667, 271.3163542271948, 717.368458068124, 455.7961381483287, 245.65401756257882, 206.30090627595388, 202.53071660011236, 326.7499931955714, 245.94844420142542, 195.0427118515707, 200.22918895280162, 223.30768915594405, 175.4239679104927, 159.70709372904994, 2956.687283433253, 574.2158683669418, 515.0545746082938, 1197.8964744700988, 357.8353292491912, 239.08257523864873, 1417.5919216102607, 335.72216866845065, 252.9569767147358, 247.67268687677034, 1508.4444484628384, 975.8917881821012, 693.9864576443765, 480.99340986520787, 360.8689568971865, 728.8713076260229, 864.8134722998773, 2222.364344358672, 1106.2118153421009, 631.6105904215804, 468.98084502618866, 2429.851508799383, 522.2206855324237, 390.04048581286594, 288.93520060521803, 1319.4998260657908, 274.84822306559613, 226.14292346413143, 249.06699635682673, 226.4540709200407, 299.3369278965979, 939.7521817619382, 212.86414167736262, 199.27681285703395, 197.41481874802486, 505.58301770648796, 261.34770764100017, 183.04613091583147, 169.69181523482303, 200.3980343857676, 171.10546512769946, 160.76320485092157, 184.965089844359, 155.532747715697, 179.7526670413984, 4431.366478387041, 864.6027400471373, 581.8495788589821, 507.33262361937636, 261.7257872747989, 190.70815881673735, 419.54531994602155, 280.2022866598597, 262.9754797610224, 1746.638564984108, 507.4239276547236, 286.1947583886433, 462.83600961712744, 2859.5794216364793, 862.3120811819412, 455.6308678470123, 365.22525107352635, 484.5814332022428, 384.17348099319855, 291.4033806499843, 597.2090691403594, 619.3152670374459, 514.0917507660112, 362.8733935276971, 548.6619817804922, 1671.6496301591403, 363.6850386139865, 1502.4555873645697, 456.48272924942285, 303.3721549337411, 1421.9008780337422, 899.8748414291604, 262.66905376741124, 237.65072069213375, 239.19330498991098, 238.17350910221444, 1474.4127992294143, 254.3718054115797, 219.71903375387134, 235.11451134530017, 910.0794647999472, 368.64240306509475, 202.60858090555175, 529.7911542434138, 211.31853198510078, 179.01919541694062, 192.67723160856474, 167.4719006372521, 510.8731478782138, 162.1216468223932, 8566.153592569535, 671.1487782534285, 389.22165345287783, 222.15487304565008, 217.41912651960308, 1090.0528984703883, 283.49913328728724, 229.01304451780302, 1587.939353732127, 1291.503239071408, 404.8031559234051, 471.4888544707213, 337.4654610191648, 256.43714082340796, 2005.9822765058775, 708.4174762207138, 1089.0280650344143, 981.1376304589814, 756.3812880956086, 402.610863838319, 374.92446259503134, 506.928713441181, 678.5375306223815, 617.5124996876835, 310.97882495811444, 500.91502846760926, 314.582747453315, 784.3107415855037, 241.98127865492867, 281.4595715658097, 273.3862146945846, 423.6536753355201, 229.8190695566998, 266.36467805430397, 442.91133521548846, 228.14738395280253, 181.76642045533663, 174.03597531193648, 356.6034407801438, 165.62731502134548, 200.96012900653295, 166.70494906891764, 145.5087462101988, 3343.003248845951, 1174.3187102502427, 2159.5378002777898, 497.7184552261287, 767.8187726555108, 1315.9795352385506, 221.96212495372558, 782.2444447343175, 1610.5189041645724, 1287.5488351976546, 287.71697212792486, 1413.3536481882702, 278.0677458503579, 1199.7508188283548, 404.4885001850068, 309.38726275762747, 1043.0765865672734, 826.2443576743918, 1629.2847930943344, 2327.089517156093, 529.4897115490911, 537.5977041469284, 330.9309648482555, 414.417437932532, 413.7317036756583, 3969.624805980721, 299.74617932686493, 250.7631423962059, 268.88305323754304, 626.3644298134404, 206.2218286132589, 218.61256482939172, 239.1916611540718, 199.53929660079405, 320.1275019309392, 1104.5006021037173, 324.99009669607426, 219.05564389601565, 205.71820860090784, 263.3616234051539, 210.58963298734142, 171.6365592806882, 160.74420031568715, 199.64141059222558, 1339.1593068358152, 198.92439320510505, 740.1332563864381, 1773.473512523586, 918.812601137923, 326.3193074211229, 398.2480400587173, 565.0297586790679, 470.11954021483194, 407.26288353804296, 847.3206924117696, 772.3917507397297, 667.7135948798896, 2249.1578473238246, 384.1390017821253, 381.1491257080843, 324.21115107469006, 1765.5279036208203, 972.0756304881012, 637.7000790741447, 3482.953940563258, 628.5008462213872, 686.5340709671194, 587.2164482201634, 756.9562344363444, 878.5716402262316, 540.0481203423587, 411.68821392035784, 282.79721232249705, 436.61717163971065, 307.65170393863883, 484.05351809930266, 580.7636281447556, 258.75130423998354, 249.66430517943624, 235.81267869606845, 652.7434930349175, 345.1284835353433, 229.7069079969502, 197.94826283766315, 192.13442531752446, 203.23609741894364, 230.4028126850363, 352.96402589495733, 198.4053314135708, 236.77290805039212, 215.75847860871488, 714.981663521377, 400.41199554530834, 392.491787444995, 478.7409810101039, 1188.1527696405021, 324.03909311622306, 262.5725461203121, 941.2474075276539, 456.97699616301065, 1025.8607206697855, 3434.738065696873, 621.782357581282, 1072.3718850577666, 1444.5689361336943, 667.2478617148024, 507.2679714096049, 378.17926795647213, 397.870758490054, 550.1312447596489, 4561.294009740607, 467.1631911675513, 265.5807079547014, 325.3517733859681, 568.1995118005372, 981.9529800262358, 413.5142632577898, 232.05688208058885, 267.3342998239998, 223.96677430486088, 218.08534141103559, 237.18940130741714, 263.2318949501314, 254.31931039113536, 215.30740303258366, 384.4909745417303, 190.47158448505687, 298.00062536154195, 160.21538582203894, 655.4639271922948, 195.25005112665048, 154.58967321673444, 631.8654386943698, 2607.731852743984, 644.5415914735241, 268.1327679691357, 274.34873832759496, 870.5708832425503, 316.0720864736815, 458.9434037353481, 435.8850882646372, 282.0094859194819, 3823.0761463470835, 430.45907155924533, 1162.2422114462747, 980.8218185515923, 453.3667028957398, 409.9324370086222, 288.9460686576132, 611.0524483214359, 440.0002902705577, 3496.995739218996, 282.89935652263193, 1400.4813433170248, 425.10208744880197, 327.4429981686159, 274.3749778674899, 251.4209304981547, 290.45623518396513, 219.7226024932456, 217.25494254863318, 228.0432895360331, 203.61722857887824, 192.34170021373185, 231.0295558826904, 211.8479583441322, 350.5693236082446, 183.0840498683765, 3437.1369748584925, 483.69607393746423, 198.34832005980698, 160.69352366654988, 151.21717414836021, 149.32602710696398, 397.9683150359375, 970.528094718663, 552.7956628775919, 420.12509650816344, 515.3046957768489, 323.6091726247639, 222.66315445458963, 1798.0023535101905, 366.673835103942, 278.9035154103156, 3102.965515286925, 690.6356700027391, 332.4719388527908, 1354.8509578918292, 438.3541646286683, 728.7372609285458, 570.4037819277086, 366.84153633057525, 356.87611661416827, 311.055969533016, 443.4851552494111, 617.8274314344528, 1679.577809673338, 317.24975521818436, 302.92014973663134, 228.8405876707208, 221.5148252830824, 411.1078080527425, 473.36900330699024, 251.03210661061627, 687.3065312677311, 180.4389957164008, 227.18737508866957, 212.0745298958283, 171.21578702299178, 611.7385610940299, 191.85299104657875, 217.74236651325756, 223.62732124551087, 163.8584488865045, 182.39705182664588, 179.23181347876184, 165.15352225126927, 1265.5969316051435, 1463.6380541263213, 1577.0897542147077, 334.36319871883245, 288.2722372642216, 838.0854816729444, 245.41042076950532, 223.4206315389799, 4631.106144251421, 841.2249426687451, 970.1580859275264, 1029.692620284865, 1130.4141604664478, 341.68714835636723, 388.2875960523681, 363.98252838805524, 1390.501766523917, 685.6771104928647, 518.5893096774734, 850.3834064738392, 426.62541980083023, 679.3556621939142, 411.25123754263933, 445.1519560643267, 438.5365002863763, 585.3225724140145, 703.5140405916223, 1282.7129886372115, 298.2679204424891, 530.5319963692268, 562.1870840453882, 429.74751724735427, 317.5330482319292, 1514.519351524281, 1035.5567268331802, 265.48662347643034, 380.31820163072473, 299.0508188948804, 277.1171351390221, 288.68314659364853, 551.2397088234569, 478.7260576289546, 387.768924156701, 291.4493529145485, 261.816506085792, 200.0415296324421, 1109.588654734599, 1094.8078097802788, 547.2813925522056, 959.2661590064948, 1839.5502921150526, 436.92699238964593, 1662.263150350634, 316.4456533120582, 1353.4849687241597, 482.0542528365146, 3641.0305122182212, 1162.8971830620562, 508.2384501468575, 1061.3622198373905, 484.3680512973907, 345.5991644078658, 412.5508631868343, 347.62435355186113, 395.6113766311508, 330.66533306937185, 338.4269115854765, 612.1664178000749, 426.9369509726329, 411.4487762869087, 306.4381514947257, 343.7597263991586, 250.88800773828947, 230.81071812570679, 269.2156009346274, 247.21051372503084, 270.6750559626514, 454.1001491887047, 639.7688741409072, 188.4738611644681, 185.046363635512, 327.762958869579, 417.4649926803443, 193.4084657070942, 174.84637938231555, 171.21658297866125, 531.5096361539693, 410.72873838981985, 437.07852007069556, 235.6534487422262, 505.2787169167829, 274.2273357892321, 1783.9837020377686, 258.2595850529743, 298.46899897631846, 754.266414629921, 385.14534569193745, 365.52144985052837, 456.0393676949237, 842.96696650605, 433.37998859455706, 1142.1462540173984, 540.974375781655, 1301.4653675146867, 682.4137237296343, 487.33115539975796, 410.88954380644446, 396.20529464025316, 331.63082949127437, 2100.7419626312053, 386.53751734897776, 536.642641308402, 304.44403853071424, 344.9877177880571, 278.71956378948624, 1719.6353916013763, 295.46383950607503, 237.47799331937148, 236.87305833874157, 343.6124208956561, 374.24377493619994, 559.7325678250863, 224.2583175766256, 294.05339167689596, 229.73765507834406, 199.9842890534523, 199.50092990588425, 192.93628212227617, 204.61267161453003, 216.8775695505761, 251.75287471981775, 1580.7560844085583, 2048.8367840292817, 1415.4481618670359, 1091.1721293698888, 325.1835535465953, 273.62015638586166, 270.59533715106306, 349.72969638252937, 271.38721974369133, 463.3718194854534, 958.8459362156427, 321.08731876859684, 275.73611776373576, 310.09447627281446, 292.57916295957733, 735.7773360952167, 678.9533864887833, 319.86509279834826, 793.8464805677949, 515.423175945714, 601.0435642888394, 449.83999874199026, 509.06928006266395, 2773.1489189340296, 692.316840700907, 555.8975928111066, 282.3200602682715, 278.03239876078874, 288.2628707714339, 283.21257416435776, 502.9836325246677, 841.5459933801463, 365.7612893109689, 346.9141175346873, 318.03272829482984, 332.53909080134076, 292.72253859075613, 266.43959132812483, 252.49571260773888, 257.4747518854135, 190.38463219842387, 180.87819065270577, 526.6257193516018, 181.7073247004116, 397.01728595357565, 167.91035510588364, 355.5375515568642, 167.68599795270075, 2335.527740901029, 1750.724578698829, 1061.7406908179926, 401.30931768624197, 286.41936695308544, 996.3496951389797, 445.9710476670193, 491.2492976115693, 669.1767912344231, 1929.132199880351, 1230.991952233691, 463.0261296293009, 394.84882133581203, 430.7453117736183, 319.9673194037014, 1994.6400578942043, 1893.6186701120896, 1153.6487571363525, 2605.53368457339, 498.1681196929723, 773.1758736816585, 760.1745462835787, 391.8858328566706, 436.9925591114702, 434.84155624071985, 462.8128985132805, 426.28185948541653, 441.1955808659244, 274.7916491570928, 350.95720161127815, 1937.5078654009726, 328.749853930168, 279.76106785136363, 438.6062965809286, 284.63063516844056, 484.7279706836939, 258.8169706425729, 190.9657862114651, 289.0383820578926, 185.86529561618988, 209.11334578293867, 175.93170822412392, 162.5821703197637, 166.2033569583336, 226.84008206775027, 601.2579190995996, 324.75687193765475, 1738.8506850452954, 939.6125006454089, 534.1791708706129, 338.26972050057, 289.2816571149002, 592.3059133352868, 1041.771654795133, 1791.344827579714, 507.0426874041523, 798.3093486931513, 383.6793247316482, 406.5829155018398, 1056.5279948979392, 525.4567658985223, 800.5848914487674, 732.2513282420177, 908.6289496798624, 415.8278410365507, 400.64687198847923, 638.0598201731987, 592.2915886460582, 373.9295857937968, 355.262760939929, 292.5176566095424, 258.32664551237986, 270.5302204090077, 356.2670627443884, 415.02055944376747, 353.8252846670391, 1424.4340915843622, 605.1732802733233, 278.09267890025274, 321.50314982134944, 210.0647967050894, 197.8144343785086, 452.29660848754116, 225.10659806657992, 209.3915438694963, 561.2491131538748, 202.73121374424434, 186.64115937889338, 341.1696798311751, 882.3418802463744, 1419.2938749910934, 871.2274389760979, 499.74707276346203, 490.0053220991004, 923.7362402349381, 820.188327333123, 1013.6098768693067, 354.3181054614378, 866.5198041321767, 692.2761844731601, 721.1426962483503, 856.7004433216205, 468.7123347168275, 458.30506015495115, 847.8823954235367, 1062.492860336866, 1065.8408245947999, 899.9428209170607, 619.3698114560614, 883.228433516212, 572.0642622474328, 613.351698716822, 549.4172694634577, 544.4337506135388, 504.45054122594894, 378.1423362875989, 335.83958050488843, 542.6507935801129, 275.5963330262142, 244.58847637231946, 471.56646468856337, 254.86680906631005, 673.2229410038652, 230.0318409177713, 441.82584873521984, 234.18743621617608, 228.90649258573373, 199.95020928917495, 204.72774692051473, 213.23216235367295, 382.6646288105564, 192.5705531800944, 167.41800468824033, 181.0293044334174, 501.617849328823, 1793.9142078151351, 421.22537367576706, 975.8827171799807, 599.1452115576845, 891.7587480668448, 334.3226390890834, 2699.4852073746224, 1001.2161575494911, 421.55168207931746, 1129.0752044662079, 393.17434309379104, 2536.9685618243357, 11341.806563502403, 632.821581084884, 738.0004768565869, 526.3041583192047, 363.8854774264635, 344.15704198286, 1462.9074199586535, 354.39120632729276, 1750.9181774883134, 360.7690327977544, 218.897829773519, 198.20251755651157, 207.98896081491148, 376.01682879021297, 189.44247139225848, 192.38672012473612, 196.98039399415913, 178.41103027582992, 356.0009190480138, 326.4066760876433, 183.349667376925, 197.23423270721008, 186.52173553016337, 367.90435463768443, 191.0365923077041, 186.76802310930447, 180.16525297133387, 152.72588715632492, 298.88231440625594, 328.79228053117754, 419.33576484139724, 233.07574253731107, 203.90324644822448, 970.1750005923514, 500.6187011716581, 333.54924189086057, 523.0242925788093, 2818.757993415712, 753.8516118440001, 614.2885382712999, 446.4755077704281, 1336.806839656221, 463.0391046444405, 384.63083703477105, 302.09941835745286, 360.9400823556909, 222.85720713733758, 217.34128036250007, 273.3409414463514, 209.91795046047056, 201.7951342251616, 204.43668008510164, 572.6762325153093, 222.9257701106298, 175.95283980527134, 171.47342372240348, 436.4939846017738, 495.656475565499, 1708.0408058825606, 173.01908779495093, 191.49303004064978, 147.507656871604, 152.164504869692, 146.61669810378666, 139.61137276616998, 152.0719043067767, 1574.1980085648397, 811.6042326627503, 1544.5635010152648, 4413.953214793058, 274.3345910632796, 317.28765713960075, 209.8830671955222, 200.88999116975205, 206.71772975623614, 1538.232117078114, 952.2622713407882, 1239.953588546669, 1280.070688802457, 745.467395334463, 287.50665525438376, 240.2884590964002, 1943.9245759103053, 1208.1587282767348, 1103.9435701489024, 728.243793344297, 323.9084852364297, 308.17702845060467, 1175.8803806889296, 301.55722765298793, 311.59126026921047, 642.1573457641291, 239.36525489375012, 2050.706086675552, 731.4717684860946, 2284.6395650261206, 198.6984542255028, 502.30648860128974, 457.81270488794604, 254.3502540291763, 268.0242223237911, 1066.8489095248954, 611.1460635795398, 197.51551705735196, 182.15643556003914, 146.9146991969855, 144.97912024980658, 168.73615017519637, 162.3503019518447, 146.4827900021584, 171.36274080627896, 859.6126141437942, 1617.158823633056, 1154.1564975088975, 252.5754402994432, 445.20225198156385, 743.0913810857538, 242.30484934789345, 3287.231736334915, 475.868188332439, 224.00950057811906, 267.0386048851669, 262.1426381073137, 848.0380165225041, 1077.4594894220022, 548.7305203087112, 349.91790371183777, 559.7544129548608, 665.6254510119248, 379.58842250881634, 328.80242419088864, 338.0594518271402, 293.9945139973216, 268.1985475713899, 389.3841540644161, 315.33703357561257, 700.4862356371962, 752.9853601070358, 562.3404432552554, 417.497474268514, 1367.160344530487, 1934.553417523066, 816.3331986735925, 348.46909124687323, 256.519060852227, 665.5691989607939, 230.48233406149018, 428.6568969586362, 579.9396541134092, 219.76652229952887, 197.97958728470206, 436.0146883804219, 399.9887777033335, 1308.134861840873, 746.4727323359959, 649.2667109209624, 349.0084415383201, 362.6124154226269, 328.52303022971597, 425.2112059924699, 963.4512720081879, 2744.26009870127, 929.9361078102743, 893.5159805422238, 665.6618423384676, 1103.453494652419, 948.6494490028814, 559.4708841805076, 776.4054227811464, 745.2148811502568, 349.414720498582, 620.9875120248379, 704.1819898464272, 302.8516894653659, 351.6432278786216, 443.57435390234406, 275.4481580644076, 555.9693326937654, 386.00058419446384, 234.21782191576025, 228.36086183437772, 192.88138894540526, 210.11264951635525, 247.16269577834393, 359.92302479563324, 229.24851665563025, 160.17509203046913, 365.30098405084965, 154.99914508287574, 242.26839082695307, 164.43453876062438, 338.98984929495396, 335.5293168476153, 410.02161098091733, 377.3484397674099, 712.6477014524864, 360.8109768045786, 343.910303308933, 841.8394816752391, 918.969827076218, 472.49162505537845, 1006.4053605283045, 550.2578739627152, 2052.1315525506484, 1480.7344950941224, 939.2152948428956, 2651.620877468889, 434.293266985833, 454.79532054602754, 782.8051720997511, 595.1723461695904, 819.4442104692891, 517.5628410588921, 664.2584396476869, 487.69503415588224, 351.82325842470544, 421.60837293675695, 570.877659423454, 674.2665785242632, 249.81541774184663, 235.73239702018714, 233.85070661733337, 275.886475153115, 294.7013992879149, 328.5523003267298, 257.49287735104826, 321.1900279026309, 229.92234354117602, 258.7143356168126, 187.10051440163815, 187.01118298535948, 190.61636819137914, 225.27455642335036, 253.97990660398523, 259.47158714476956, 974.8401676222273, 1216.6233842944403, 293.10817676365673, 270.9133968597873, 508.3411113388422, 253.10027827259674, 280.15763503297984, 1259.463208740057, 404.6760517459578, 277.68914470414023, 358.2303573477144, 319.605438407171, 1269.781566987564, 830.3879669237836, 1595.244600373648, 476.15158861371356, 386.8853917356015, 458.5512489649864, 717.5585596541354, 506.2066037219974, 415.85818211232964, 468.01164153563127, 539.7088804529551, 492.7168977441365, 413.3483298056619, 287.7747221134225, 382.5775343686141, 301.6593107224317, 345.36157835758627, 562.7680689481288, 318.2297895340816, 251.58840717034585, 303.1764674618559, 216.7857655399797, 457.117781095514, 273.7069758511886, 282.0739452283196, 206.76390617858036, 207.84928975373452, 1606.839932347244, 213.71504432666745, 189.34620520322972, 1476.304680028531, 967.3060343121875, 1225.1427238392057, 638.7909010926529, 474.72878439359795, 612.5593005001099, 2324.2803468463403, 350.9557498480276, 1001.3243758093598, 2973.64099561458, 968.894521739341, 498.1074747323174, 423.63941790806655, 627.2625549656952, 461.88601734308537, 600.4940364972214, 525.3891046734083, 489.211991361298, 326.51672532408276, 541.664371380401, 262.3310983809138, 235.7753241982286, 211.32625169007412, 255.88971935769652, 208.5949990914766, 214.60563805968457, 183.0275763255525, 202.4505619612813, 195.0130834073847, 177.31266045315007, 1833.0865723170764, 172.68798440999046, 376.1719732060321, 168.7475311342035, 431.31309829606596, 222.2014053732395, 204.504001642779, 965.0142219266711, 201.6952922876152, 873.0937384523987, 582.6439482489848, 388.19857363519264, 648.2965905652252, 386.4663888806408, 293.48083127247577, 411.12954380973815, 232.58996940800034, 209.64512933396267, 1159.7076718187968, 490.0130096248689, 368.91799044539226, 276.85704495705306, 854.6371348444387, 1483.5258408263076, 773.348554343813, 433.89356034735243, 342.74112598446294, 366.4798196745933, 697.3935820097493, 332.855506206041, 321.6618745978594, 297.4028017239741, 321.3805235166502, 995.2924200453731, 390.7382200306379, 305.807114008356, 234.39764717963178, 212.85879622547807, 251.62184173008558, 195.6916644119318, 195.4190754178105, 217.883778595659, 185.25009905346724, 183.13130311573624, 186.46018195988867, 384.0661681888272, 229.32685690013756, 175.07893694797428, 214.99088311572856, 149.64635015898318, 150.12790505594887, 138.65218730541193, 836.0538487215348, 244.7492541077735, 238.9784266663424, 237.2792497944538, 298.64712071429096, 723.4788261589591, 319.1799098572418, 1327.5877232475118, 1429.8318938751897, 652.77804237743, 296.3645454411682, 628.19976947208, 1022.4748169737371, 324.34846995707176, 262.7761596214943, 266.0062903282226, 1930.537188885963, 642.1103075276925, 5369.735141790757, 462.67206190680884, 547.4921838319566, 720.7240883880027, 845.3270420156017, 339.02933188249153, 491.5209277024536, 512.3526532874515, 455.64546436498176, 968.4995246911413, 325.0130985047, 319.8354563840499, 291.09947031807224, 239.47722738085847, 506.11678483219646, 214.47539770635024, 223.10252937798742, 190.87491824493597, 343.1115318691194, 177.382712443858, 218.69604742087895, 380.3802461697902, 176.71246581510638, 353.19845861228663, 145.66569673841096, 2534.393170646971, 141.00571178474908, 166.61173914233314, 387.1071241741896, 487.5316418309572, 302.8526786555196, 240.95271913441528, 240.91247699093367, 263.2138415715892, 228.0397428812793, 1024.8843141805316, 760.5497660651143, 407.29160893893743, 347.9088146367588, 1155.8405496717312, 758.8602795517806, 497.25336734738994, 829.474905214264, 537.9279359505484, 477.6303261865005, 543.2820472299863, 1370.6675010967367, 390.9640155154637, 405.40852657733643, 385.5897245390009, 307.0968836694669, 281.8433436469998, 286.1488275633102, 326.67403745596414, 261.023748033685, 377.7952261364176, 254.06340553915643, 224.259565645819, 268.4334059651865, 278.0938720034406, 258.3740906491752, 436.45185564081237, 330.3487222530693, 242.03117718319587, 211.64864457033687, 202.02499631679703, 224.53664999897362, 587.7402718655717, 262.9162647829613, 1281.420294680906, 778.9823072268746, 658.6332299855011, 487.0743711604871, 1502.500347326785, 2114.8661859410095, 860.3078964681202, 1003.9176810510068, 323.2145180729239, 306.2137075069019, 1179.1230340299442, 288.15557756573435, 999.0283272591149, 656.1921918825004, 528.2179326874341, 532.4429493338943, 406.3272754498325, 394.1786768199061, 410.0023198820731, 1118.9953681554487, 806.107431059042, 333.01807733695955, 2177.9603570196086, 889.5140244972936, 703.7807221814866, 1479.3133291791974, 326.67172825833165, 305.795619014706, 322.3281087083472, 269.3115949055768, 332.2307645286016, 289.0992352012864, 394.7757455437708, 196.86724240723402, 270.471774345432, 191.16447651965018, 306.68365235060384, 220.0034917906861, 181.3893673946206, 207.86649310545863, 192.36317886141634, 173.01779251643615, 1067.6494051348832, 470.57294070130854, 428.5312018795512, 340.98334089929557, 261.2691501990465, 437.37893137310465, 322.06163678245474, 534.9099860337315, 1043.625749223307, 306.9524007303942, 359.24734897876755, 327.09883528592957, 810.9991648129303, 1957.1891836578682, 2211.858547424988, 531.2947129608925, 917.6191747714587, 469.8058915403803, 466.3906900066163, 296.8797506519096, 295.54335600133646, 301.48094351948424, 290.52784757394716, 845.6615165347349, 287.9089677236115, 387.10954338123787, 691.9293652583726, 264.4460668820299, 246.36039701688674, 240.40938035069732, 390.57373415895074, 686.0164351314966, 1056.1920327454657, 187.1028034639292, 188.0738252107402, 202.689811066318, 176.6559322907214, 212.1173513820335, 214.79042098796677, 163.44566103179545, 142.60410633125096, 143.61975286734094, 143.94998343462294, 2324.6707235423783, 1021.9561720705002, 262.7546589319243, 239.30688310231983, 233.29229426875764, 557.8626006028053, 207.47070986220814, 849.5667758063548, 221.22277564622362, 392.0733877301374, 1244.3401122186867, 561.1410829147999, 292.4502950607356, 285.9829173744759, 252.73782114885185, 962.7938754207895, 612.5303364320622, 623.8323682944496, 387.72264154709467, 329.85544289104774, 320.87401448385276, 484.7295249367847, 374.0351943413742, 384.86424073789186, 289.20852780243735, 331.13901056170755, 301.18076170405624, 226.3642217660018, 229.2587601676324, 988.2465800677323, 481.2734254400858, 281.7354169487014, 208.21199848976636, 263.0953007513844, 1259.436187492101, 636.4817483020156, 196.3682671654448, 246.53788054087894, 231.4241375182741, 367.85945542274504, 200.72655877042723, 161.97611333055957, 148.71619114644173, 176.16918892557527, 155.33867213706523, 800.694847029535, 360.40391747699573, 285.8886550057537, 531.13905838723, 1710.767900250074, 314.23232196002465, 1455.710674149738, 836.3191496389023, 503.37200087194464, 281.5593040112623, 282.0534392523629, 1524.910199923506, 1447.6761752755522, 712.1487871914704, 512.6337144041302, 410.04253807569046, 339.71604455628085, 345.4086148923843, 302.1654649875119, 365.69629191319564, 354.0136153154965, 302.125201434683, 336.76251416854456, 252.99226339667368, 349.77299872865063, 225.9889065858382, 238.97028998263625, 2525.7049210331606, 199.16022629914664, 195.3534813974749, 195.5690670463906, 201.87209009104046, 399.37511631771827, 165.085835668772, 266.7702357084863, 195.0297380807342, 304.35037473761764, 293.048443472757, 155.57911901706865, 151.59524810736278, 148.71480604657648, 1111.3436537031876, 504.34605075045573, 188.70499447195309, 1021.4133211206332, 377.4960712260675, 328.9174371165569, 1197.5521740796828, 231.98428315758974, 268.73251451105676, 2689.916517743433, 469.50243765692875, 267.051666219113, 247.05973075841393, 865.3303133983374, 990.1637638057099, 784.2874678316736, 499.735822414196, 373.1229533255213, 473.9159437501505, 431.17214715198463, 345.7078796983501, 407.35964112882544, 445.5130880571476, 336.019276636753, 329.6150065641583, 338.8659968707577, 416.3900189438426, 341.41053907496666, 868.5642518537768, 211.1343998944146, 406.50931222495876, 214.6673788737765, 193.75056980720663, 212.13827543774917, 281.53337839557673, 316.7763682814808, 291.1817784225603, 188.87561284827737, 169.01717684035708, 174.20630652517843, 169.60850218863771, 159.36195837943808, 151.53987929403996, 872.1324871031194, 250.87775424829084, 253.48694139755324, 2297.0978433074083, 317.39191069804576, 472.9201697712024, 368.3472642685817, 442.0252144499359, 3647.3285596949568, 1390.6410090886932, 734.2062001014865, 261.789989252369, 1339.3665313066401, 954.2198272651882, 1166.7988443355077, 587.2466395653081, 755.5211779766739, 496.47811392115057, 494.83244144949344, 372.4417391169955, 376.51502364218874, 901.9035577538596, 420.18109929585177, 735.802153507483, 422.13155351609663, 300.6586266966914, 520.6467962164637, 432.3102290037496, 513.3226525006571, 303.9377650713508, 195.05387058895366, 201.3657107116775, 213.83097898061806, 213.67135022391668, 175.81191843433217, 192.75972295821364, 208.4653475840613, 178.5147069677547, 384.2433413206412, 158.75364724524488, 152.36382684114722, 162.73660174243565, 792.6835043982965, 695.5610284154915, 647.78649988893, 464.5972548920896, 294.3138021662225, 273.8323854447125, 204.28975356566244, 749.4863075788802, 252.08590349078892, 245.28861908258784, 216.44737235284688, 1233.0285951285919, 545.2630458604332, 252.93084877258033, 2191.2572030976125, 800.2578553277705, 722.4419887948462, 552.3744885410451, 647.3607855198843, 670.3766810400471, 563.4274341226106, 654.0271756670276, 369.89526880558896, 468.42786985666544, 279.35318687887957, 354.28739603966875, 1937.8212627355797, 309.3324599160465, 411.92383479583924, 353.9547851053407, 248.9648241409637, 238.21936123682096, 235.16359521591522, 219.1897750836987, 233.57210826745708, 355.720125418051, 180.396870109635, 178.22661085550337, 212.49413820639495, 166.34585055084506, 175.89815760383527, 153.23381333902543, 140.3585972361025, 170.76070222279483, 469.22868201213765, 445.24409563446943, 361.21327685661686, 527.6327968617718, 377.14532616564526, 416.9518185274232, 377.3746987043015, 391.1936182803154, 519.3545061689238, 384.716524869276, 1965.3943366835888, 1084.175511018761, 306.9571251892068, 709.5151770678495, 686.6705071973906, 932.6484937940597, 442.0771805678768, 817.6889730368654, 570.1650353085654, 633.3591525677193, 476.9030485564383, 399.6026939759544, 375.84830050828964, 465.418178761227, 367.7031503091722, 2195.383691482744, 330.50291730754026, 289.1607573938643, 227.47099373648686, 234.68207134041248, 349.04163227691896, 228.26406638300787, 298.40228162575346, 348.9477231056871, 253.254371852004, 444.24184105637835, 186.9016586246521, 190.48077976309307, 296.58972002864067, 178.39667065185526, 310.2668157318124, 162.46764369355517, 174.13528236981338, 1590.0509874915522, 538.7651226229784, 208.35939613095027, 987.9182817532014, 258.60499212891057, 467.45618611448845, 1386.9925674584915, 254.33541455670516, 3176.6559648958437, 921.0219616362837, 1496.8769821788533, 439.7228117181628, 404.03787474263703, 322.50570727102695, 392.22099932083484, 287.2142932858208, 557.1067816103573, 244.800133230671, 794.6534108731892, 243.14704230717228, 204.96293441708585, 204.0316259913283, 314.9479010912881, 193.71558089847443, 170.69477188280362, 168.29341350558792, 170.49527634680018, 154.14581340626634, 172.41532850584431, 168.27872734626732, 607.3826794516276, 155.52695743976423, 426.16126725221534, 192.57311064882, 216.1767475206156, 153.61712698131078, 941.7940190733773, 128.99712802897656, 280.28671382847426, 180.18773955754494, 248.94271969702518, 227.61916529298313, 1153.2801289813503, 293.34035443475705, 269.060799848924, 193.9102717163384, 426.3326518261714, 494.1453238314029, 603.8141345504879, 277.4136055464137, 281.47362461318824, 913.5981938293274, 1021.7181892226475, 525.832385556328, 353.56250386316816, 287.72598298614406, 274.09510794435073, 336.8685838616719, 302.79108526762093, 614.5554894258427, 490.2773283950978, 330.12090092350724, 211.55135907772336, 202.14753405400464, 236.46918128472646, 713.8250409365983, 182.417482958737, 249.89828384070591, 206.54606671036694, 174.0203683761539, 172.58388810101954, 158.28663536787747, 151.36783201769993, 169.38950407873395, 156.27562920064508, 148.42723063567084, 145.98787106248943, 146.55532532239516, 136.54753866685166, 135.57897734195254, 144.95397472969523, 378.53687333577074, 434.06053101803184, 252.49104522727617, 268.8058638228605, 232.743162196648, 218.22693921179388, 214.32173179794233, 209.05325005264493, 172.04028139138393, 430.2969391777639, 296.2412756352252, 181.3255349769093, 2394.848153818708, 453.04634482592877, 295.8609303937782, 233.02891424732854], \"Total\": [20048.0, 17883.0, 11354.0, 8683.0, 7871.0, 7725.0, 6791.0, 7020.0, 7255.0, 5381.0, 5620.0, 5231.0, 4993.0, 5177.0, 4992.0, 5361.0, 5199.0, 4577.0, 4501.0, 5437.0, 4549.0, 4467.0, 84111.0, 4220.0, 3984.0, 3648.0, 3510.0, 3508.0, 3490.0, 3458.0, 1120.4688888999451, 1209.298754997757, 1034.6336640215181, 1389.9649841759558, 459.9595894071818, 781.2183274772495, 370.8503173099623, 333.5434447895545, 478.83550017841713, 274.26080974533147, 798.3565395475275, 289.4573272475798, 251.04585628987027, 271.59648704689823, 1759.6389998072373, 209.3973668497626, 205.38753424542298, 229.78299896835532, 308.6774958125189, 195.4647017766113, 349.0936588100577, 276.706597813716, 415.4500676633818, 172.49404481810026, 633.1973935151424, 181.5174573523559, 295.0324718571459, 1981.3673007749437, 206.0522188119079, 153.13850051851924, 4992.62228577755, 5620.043592140665, 1220.6280487285264, 281.71819607441853, 5361.2628715646315, 362.38689835547206, 239.60402504238968, 655.1317595779767, 24926.689096971837, 13469.581021470909, 4260.120719530035, 1946.0314671080318, 18566.07445731362, 595.9228828849289, 1528.2609463591027, 84111.16764489164, 1848.1255861523728, 775.0087385807265, 801.2355394486111, 543.9177404642979, 365.32210135986895, 339.2548038169079, 479.5372566801185, 499.6991440522107, 359.1192538638379, 431.5112917743089, 836.4972920234692, 245.73527793864534, 276.8767167136916, 229.78704819309894, 265.9828391237247, 252.42010741024933, 220.99034720791403, 186.8635950420208, 382.86594591233626, 279.61666063314385, 238.405283208205, 185.38445529656093, 166.32939919367166, 163.10937344219784, 182.89446194275138, 207.41338477217462, 579.9046538266743, 212.06706769290335, 171.73661261746534, 143.0838607211515, 167.4867495403639, 17883.851550724386, 1316.5610898708142, 1621.1689121854015, 2638.6285862592613, 454.17664687018254, 1181.303277994348, 205.606533907703, 1002.5264039118276, 215.39735140720586, 214.01235921796288, 1826.6271655374646, 288.38442352753214, 887.5150079991431, 84111.16764489164, 316.5659064327786, 5245.143603886602, 6809.88323050095, 24926.689096971837, 18566.07445731362, 659.6700723755317, 755.8169847357331, 900.5499251671908, 1365.6648348163912, 1290.5134015585784, 1216.2847097043345, 458.67928622687526, 444.850271029858, 335.99392667837833, 572.1966607370855, 997.7721990855354, 1398.0164580223607, 1023.3868685485407, 301.91708885027543, 295.6487859482755, 317.2479945961203, 262.2216120854318, 359.52897882791166, 444.28421072405155, 269.1717330360001, 223.53197239012766, 243.45998598269148, 399.35162249680883, 217.68961888893284, 211.423305970945, 330.1456048493797, 534.7798546362743, 189.15062211664025, 239.84288948359483, 170.8885746878446, 7020.446049324291, 1246.466983986863, 387.11248268145823, 436.1237518182226, 268.6820210881752, 286.5531917443855, 280.0750310022542, 288.6329851171239, 2553.440964457919, 581.8090397268819, 875.4802003926033, 355.95082740360175, 603.3504986251913, 495.8386643751235, 84111.16764489164, 3419.5895987731005, 12059.466207639522, 24926.689096971837, 694.2547978313083, 512.9232725530902, 570.4069957218821, 586.5810925292412, 350.306294396866, 318.4167765210511, 349.6378596286012, 546.3030046791272, 474.2842095221543, 507.49004632784784, 300.8327663639791, 299.4069168055628, 281.10342209674815, 281.86751476872485, 449.5019891194106, 2165.578601428969, 267.0188645635002, 307.29696863509866, 227.83965711090357, 205.11122200493207, 177.9567548024015, 174.0056692617661, 171.05521032801073, 368.21359785803804, 155.32677070499565, 271.53587112862914, 198.55023416797655, 142.30372204588082, 135.0148164881218, 136.1493808529899, 4220.893168596082, 851.4605878154174, 7255.438069168267, 402.0669588192333, 2849.005882254094, 345.5527009541726, 232.273619853501, 665.5562802266376, 271.88315671631204, 1401.73273799078, 395.2194759600363, 451.6122450176951, 3316.342459705542, 84111.16764489164, 18566.07445731362, 24926.689096971837, 4762.787637682246, 12059.466207639522, 5008.289468484418, 13469.581021470909, 1907.007934464538, 1011.8895292892578, 547.3828086907247, 469.3584556633982, 366.7939524166422, 862.9490776167061, 714.3455707790188, 235.90510715969543, 366.43464907166026, 274.99277057797457, 214.5419072612088, 262.8369808518391, 192.25322880013655, 184.46576234294872, 176.98680035902998, 377.81317293858325, 467.3171394892777, 208.39522185337182, 269.9571185841122, 157.3740545911481, 151.3745746293549, 167.65507431667135, 178.3227506279432, 194.1043635933754, 161.5888378732893, 269.4653490666547, 454.91166409436556, 158.93609622398637, 140.98727015228096, 234.34450967558922, 20048.589197604975, 696.4199297161385, 538.1281067027528, 390.6073655217306, 291.3528072138796, 247.89280927244513, 865.8133021540949, 195.27219733524197, 271.6151967559409, 84111.16764489164, 18566.07445731362, 4762.787637682246, 5245.143603886602, 24926.689096971837, 3419.5895987731005, 5231.660249251838, 2583.056614178656, 879.4343721985966, 1179.783453428133, 1968.4329576904504, 489.2071277333287, 451.883808509266, 437.2905443178839, 376.09102095368536, 595.7188453058162, 358.35810800259173, 480.5084076683816, 249.10957350344913, 1236.5277489391706, 379.13105677243203, 230.34038555088864, 399.900495409851, 217.39575266108986, 333.3811210450237, 207.11763527037084, 233.03339080984992, 209.87489006244894, 201.09173197250414, 340.7909810825625, 270.801877146702, 207.06239654823702, 329.058942693904, 187.54803682337914, 167.52815437811165, 235.97052532325083, 963.0491211075466, 652.1674924451386, 611.4788883608732, 333.857703302448, 647.7406430255202, 265.6462766974658, 2341.4272398811668, 459.5961989167513, 279.05083867059267, 2858.052923509781, 416.88909281149694, 84111.16764489164, 24926.689096971837, 12059.466207639522, 18566.07445731362, 1262.607320313355, 1056.6131835489682, 474.3143763415934, 835.8078235934502, 508.34702050615545, 497.31808854004765, 507.92009376068927, 504.0811633285805, 389.6785031816313, 277.36718919620216, 313.3108757211555, 269.38070513336, 230.13237393599755, 224.5718363819351, 372.8522723933738, 238.4675971993513, 474.4247699445534, 183.2839098315954, 254.64623794521933, 182.38952617903757, 752.2254488916187, 6791.134949817779, 318.267511645769, 194.16297603836244, 168.3781805997629, 262.0411324160342, 205.70795722192094, 151.9172154280878, 136.2640903828483, 260.4352799532979, 3143.863867446427, 1711.5141103407682, 1184.259024906873, 569.7368361943759, 387.2392790098122, 345.7989268221552, 283.02704748712557, 583.8661913339438, 1384.4826454288793, 926.3388382204046, 311.04257912202183, 684.5102863158386, 84111.16764489164, 18566.07445731362, 4762.787637682246, 13469.581021470909, 12059.466207639522, 24926.689096971837, 683.610205178003, 1747.0243636767848, 609.9710230850097, 1837.82381922037, 618.5961755354109, 547.1544000034568, 385.0202089274563, 448.34133247771723, 351.5838624089226, 577.2225297565835, 394.3470772498639, 2087.3865661603913, 881.4135894461716, 916.5883679318359, 255.9244018191973, 290.0319982088335, 283.3680963611619, 243.94476230318486, 258.2709272303857, 286.3411973803009, 351.6611309832896, 209.74319323950456, 226.37626545763894, 226.2296253599094, 271.7177253132447, 181.3783601124083, 186.87659751655062, 172.3036848680172, 179.80467494688529, 196.7511683920309, 1784.9301037976827, 5177.004815335417, 348.720607321683, 266.1116836035239, 267.55695335309343, 254.26791517115814, 265.5279130714383, 297.14727124281166, 1368.9653547246885, 1869.9970518361263, 2468.099437933882, 303.0124167148255, 309.7962009964528, 13469.581021470909, 24926.689096971837, 84111.16764489164, 18566.07445731362, 763.3523207406872, 795.7922773044858, 692.9950373541667, 597.370612735719, 457.42294375724924, 421.85075537692825, 410.2671069835793, 2391.732985747757, 398.63179899126845, 367.13166361172705, 312.1828966651388, 950.974559911885, 414.03118144307155, 263.18275191685666, 277.6091998256885, 315.99591734823554, 275.22135222358355, 610.1268165118054, 449.1545244348962, 222.1647017165302, 258.1926256485462, 236.4373652747235, 1433.4572377000668, 198.33645115721043, 505.5584687842658, 180.85957875499898, 430.25931117118654, 169.27185270337074, 364.9299305419952, 161.12742857215883, 2266.444616353549, 1283.7796172616358, 566.045717118687, 295.91149670303713, 1057.7047645844175, 3348.988786511306, 326.77893959398017, 691.6716666820712, 1584.11082816343, 312.9062644655692, 1200.0060134660641, 84111.16764489164, 1454.2182986849969, 18566.07445731362, 5245.143603886602, 3508.8704063779633, 4501.3721432667035, 1660.5953859185013, 547.452974447179, 907.0361440661416, 420.969106918969, 330.85116464234045, 293.5864739984518, 293.66510986263455, 404.73081018112737, 435.0957097777154, 359.3291991212948, 170.87660779161143, 157.06406654387843, 154.053688019917, 163.14735178809568, 149.27352061756628, 2038.0498868764403, 227.1877272409432, 334.4140678265784, 137.15227096760336, 171.57118790561216, 129.31258624840135, 151.61338684645045, 122.77474566731685, 124.49884067386274, 116.0937473489234, 119.56350663146574, 112.53352388648025, 112.0295234847573, 834.8884844693725, 2199.709790284325, 3126.6618512204004, 369.0071656030604, 1227.503042012489, 316.30467616369657, 189.98102685826981, 273.7707517154559, 203.0684564406308, 297.6344843238702, 2494.4173780038996, 247.55998630659735, 377.9404787003248, 1405.3836132734957, 272.57681528194576, 2232.4974327210884, 84111.16764489164, 24926.689096971837, 6809.88323050095, 552.0559328357473, 456.3587971273793, 360.9892945693585, 682.7410171963714, 285.58871766011765, 284.9531776871105, 516.8787754634253, 272.21352298578813, 268.7402365547081, 314.26139403238574, 370.8957121427019, 2744.549210788887, 296.6007950076976, 370.7419398793082, 208.70834003220335, 257.3287384186761, 198.9068145782076, 181.50144998978308, 184.5218400637196, 347.64579258328587, 192.87811435246357, 169.76862930325913, 370.3251896688668, 333.74727960112926, 405.2484459987482, 160.59859398190716, 189.3449970262902, 155.54822143018237, 7725.346958794702, 178.5568012417808, 762.6456218804949, 1388.2509443078568, 1300.7366218268908, 475.2625060974409, 692.9082121334775, 638.690051875449, 484.48744858308345, 610.0323099973864, 328.1635184779398, 428.79700447938114, 84111.16764489164, 2869.4668740252764, 2409.059266341381, 1225.5375012151317, 1089.646993486206, 696.47337715519, 620.6133860766763, 485.05031601752205, 1576.7797622928565, 3102.074708371789, 867.5077089953986, 346.3877554572148, 325.8213597741731, 1010.5153548060921, 477.94750195867306, 692.7852300355763, 274.7912461397815, 214.83483708580448, 210.3049363575603, 327.0124051412028, 216.4327397828713, 229.64868827495988, 182.11454592562134, 174.458393819962, 175.33658760747946, 216.2767508508725, 7871.900631551549, 154.25178800403907, 129.92984767142173, 374.6179622286494, 709.6040079441187, 123.4579716188579, 623.92876063355, 479.00946829072404, 391.9004507815715, 402.3344793426401, 218.26789355736824, 246.28090620480998, 1382.8568578657105, 258.74836833582873, 2232.4974327210884, 24926.689096971837, 84111.16764489164, 18566.07445731362, 5126.781094727998, 12059.466207639522, 1576.7943286687828, 2516.666707925403, 727.537301552957, 1183.8971518782002, 452.3675689818574, 503.784425355454, 949.1910660075555, 680.1782481975197, 320.9447375337689, 355.69714263985264, 301.8807204213307, 410.2170505958702, 429.4127455027235, 323.7831031534684, 233.07268740575364, 229.9962754919779, 234.8844522024924, 240.80085190794674, 640.0610339822714, 217.85828538532522, 937.6650175180373, 252.20429694747742, 697.1761213213127, 182.51047326895497, 428.85632273971567, 197.25428986784235, 180.00318280067498, 159.4302947483324, 164.8830297669482, 175.75093228903438, 4993.233125757964, 539.871142628677, 347.8450954200049, 318.044089068529, 367.89263026581546, 2995.52357363537, 933.9750838513659, 784.7198476729503, 401.16733825818966, 850.7494272363364, 262.8031690481899, 473.8870773236229, 84111.16764489164, 24926.689096971837, 6809.88323050095, 18566.07445731362, 1352.6184733313034, 1707.1199070798923, 470.537139635273, 737.0600096743813, 498.8996480556677, 3059.047819125331, 505.19042590563924, 311.6594435071912, 288.01542316006027, 475.51834053527415, 422.5781855485109, 1437.155336869074, 675.4902104828635, 901.1599647710017, 370.22697916056944, 1552.9506242986786, 400.74078204820927, 272.53792729560024, 720.6026339279272, 457.91755511242764, 246.82525352949727, 207.37804170436806, 203.59856268272824, 328.5112884192314, 247.28666304427713, 196.10754349823324, 201.39125346615373, 224.67170959373507, 176.50706836716185, 160.72108482770108, 3011.7481836582447, 577.8750596414408, 519.1988423165496, 1223.8064332819695, 361.4997296232745, 240.96831123886085, 1487.0159179769246, 341.80141830836067, 258.49174880256794, 252.335838342323, 84111.16764489164, 24926.689096971837, 13469.581021470909, 6809.88323050095, 18566.07445731362, 729.9946317456959, 866.433298072962, 2226.7427645263942, 1108.658893358815, 633.0114403336393, 470.2137474323678, 2436.460686540456, 523.8354558259257, 391.26803109783054, 289.9520147571707, 1324.2208513310727, 275.8746250640747, 227.15453622656227, 250.18722284853163, 227.55621809310657, 300.8918911640173, 944.6597047131086, 213.982308142728, 200.35613260896022, 198.4957534033117, 508.46710936880186, 262.8396855565763, 184.12090752367195, 170.71587120869268, 201.62106909176185, 172.15146143266708, 161.79858240746597, 186.1627911232356, 156.54436047812786, 180.95347607507364, 4467.153316069759, 871.2897848424199, 585.7459148424546, 514.287334167923, 264.10275241478763, 191.9991258692705, 427.1335107573593, 284.0592539260367, 267.2207384114333, 1961.1177858604071, 536.8015598765973, 294.1677444224043, 1168.4596209802237, 84111.16764489164, 5245.143603886602, 1520.8893632325187, 2073.1814791119364, 18566.07445731362, 13469.581021470909, 3419.5895987731005, 598.486443237914, 620.7678050571956, 515.3754928255673, 363.9380157482353, 550.3242556786151, 1677.0420844899982, 364.88874567888234, 1507.7749084487978, 458.1226931772144, 304.53279264534524, 1427.515334924183, 903.6432523785339, 263.8434833489219, 238.7554107729785, 240.33156062311406, 239.33419088902204, 1481.703084270159, 255.63133515500684, 220.81067069079023, 236.30460218711636, 914.8341565646465, 370.5750964632428, 203.71388076716397, 532.7327894261597, 212.50784352182572, 180.09053904481078, 193.84902911913943, 168.49513083679437, 514.0255651128191, 163.1326305455231, 8683.553912012307, 676.6191921484601, 391.94829065270227, 223.87839579200445, 219.0690230987405, 1185.6361189863853, 289.402855251171, 231.8632882863494, 18566.07445731362, 84111.16764489164, 5245.143603886602, 24926.689096971837, 12059.466207639522, 13469.581021470909, 2008.7076358891325, 709.5841038870818, 1091.0028366676693, 982.9505424351676, 758.2771637859784, 403.7157174202063, 375.9686310867651, 508.36930135238504, 680.6478154573538, 619.5572145844623, 312.01195780039893, 502.76026539011144, 315.79008653052415, 787.3326021167096, 243.00840936094244, 282.6847332287046, 274.57706751110516, 425.5498574045612, 230.89658033731135, 267.62321774475294, 445.2635531372151, 229.38198792366856, 182.7825709671241, 175.0529784545769, 358.8057011351224, 166.6846401715403, 202.34449546488955, 167.88149037908505, 146.57298402024415, 3369.625794986607, 1185.0159150687211, 2205.607944051237, 502.7502310028498, 779.3268629614731, 1356.7636485782025, 223.73960779116032, 821.2879508408231, 1746.9700090311374, 1444.9255721704867, 295.8243439306569, 2743.3407390596726, 288.4193852152344, 84111.16764489164, 6484.313367324974, 18566.07445731362, 1044.4126307038935, 827.7162756332739, 1632.2442621722698, 2333.0841816335164, 530.989324578603, 539.1545318777618, 331.97051710298274, 415.8535043084487, 415.19166593201015, 3984.221666906687, 300.86612152880656, 251.77411627339322, 269.97513101098326, 629.0348692918428, 207.23801085199904, 219.69242775864572, 240.38796717450498, 200.56246138980586, 321.7746259818417, 1110.4974649416752, 326.76972744749514, 220.27325290450193, 206.91816471328428, 264.9626992337276, 211.9033399219297, 172.7076195927306, 161.75517419287448, 200.90500593030674, 1347.7855822708177, 200.22497277489703, 746.1271861008165, 1809.989737024814, 932.5976058238001, 329.3655896848312, 403.8082553487039, 577.4171412645939, 483.7385404249565, 427.03378811739833, 1095.404808007211, 982.0349700240869, 2494.612918233549, 84111.16764489164, 5245.143603886602, 6809.88323050095, 12059.466207639522, 1767.8951173956134, 973.482808999846, 638.9810008704254, 3490.1009186051606, 629.9476473473133, 688.2063713662415, 588.660623661199, 758.9486931679604, 880.8922864165872, 541.6803047753434, 412.95710180691805, 283.8185152294954, 438.2500647777688, 308.8207775609328, 485.9087135908777, 583.0274229888117, 259.8425978500456, 250.725944264398, 236.86383275090066, 655.6836476499844, 346.7140778753419, 230.7641161438915, 198.96680731415387, 193.15062729205616, 204.35652681961935, 231.67878227821288, 354.9207868271799, 199.52244985323293, 238.13152858831796, 217.00555513446255, 719.4829236754375, 403.13495180300436, 395.8871170269466, 486.30759986204646, 1233.901142090714, 328.857745668619, 264.84046459025603, 1082.5408672175495, 520.8385933001894, 1501.6474807527745, 84111.16764489164, 18566.07445731362, 1073.8244169542334, 1446.6791416901724, 668.7890239032891, 508.64318888573763, 379.26441704685504, 399.06141729271286, 551.8946508130618, 4577.959460073344, 468.9402450499404, 266.5935584316107, 326.65074423276167, 570.4854468973765, 985.9175591831889, 415.4139211928615, 233.1361501465283, 268.5868275828291, 225.03524285117547, 219.1635488081434, 238.36584187531764, 264.5801877761985, 255.63071528375596, 216.43094954475188, 386.5067554251918, 191.5506456881171, 299.7271016121645, 161.24623535200328, 659.7701080849952, 196.54848364939818, 155.69079352980484, 636.4258840373595, 2647.1157924825648, 650.7847320420783, 270.51959279797086, 278.0535751049455, 930.0250914508264, 325.08211629251036, 511.0266528698028, 528.7775601226615, 328.6163947482651, 84111.16764489164, 12059.466207639522, 1164.0349173059572, 982.3445712576022, 454.4716765703636, 411.18144334911716, 289.9580933603206, 613.2360371770308, 441.5778244477616, 3510.0450891391665, 284.0503980337328, 1406.228698771444, 426.89273277464764, 328.84139769544686, 275.6502099370904, 252.5913493430621, 291.830918153258, 220.7759645800628, 218.3012060393301, 229.1519067011658, 204.6727896880368, 193.39503682165974, 232.30354867056616, 213.04313279165083, 352.69162354914033, 184.19885367245556, 3458.6529886533276, 486.80748648984434, 199.64298736714466, 161.7730047513775, 152.27329758086006, 150.40014034054383, 400.9496903311169, 988.2385270113665, 560.1139084104364, 427.8230261888472, 528.4220785730558, 328.7421561349756, 225.16060888910042, 2225.3331997285727, 388.16270086254275, 290.01187726383455, 84111.16764489164, 18566.07445731362, 1520.8893632325187, 1356.6566731867133, 439.364854292204, 730.4283927050193, 571.9740542771599, 367.9642208277267, 357.9899409485118, 312.0848296023176, 444.96844965133687, 620.0340813124039, 1685.7069673852982, 318.4848499724944, 304.30074358103525, 229.88907903984563, 222.55020821055555, 413.0503149980872, 475.621258138366, 252.2506506276779, 691.0184968491275, 181.45954445020098, 228.5424948450675, 213.35866847777635, 172.26160170001768, 615.5268546888026, 193.0704387825329, 219.12774891983602, 225.08513260636204, 164.933695351059, 183.61874441272914, 180.44802169065252, 166.27433027546513, 1276.3143455840066, 1490.9645336758538, 1608.359400993919, 336.6453590222238, 290.3337384227433, 855.6123403071573, 247.7029035420105, 225.2353498322335, 5437.186869884893, 954.4570122749088, 1236.5364155456025, 1528.2609463591027, 84111.16764489164, 6484.313367324974, 24926.689096971837, 18566.07445731362, 1391.8093516299843, 686.7083430039254, 519.6024175705637, 852.228141228002, 427.65266027393193, 681.0199799651938, 412.4341428782031, 446.4336586560702, 439.84610995722363, 587.0836923738875, 705.8687304141711, 1287.0370881812335, 299.2810283355798, 532.3901512517884, 564.2584042408159, 431.4354555125091, 318.8159292174844, 1520.6938742671184, 1039.8603411621223, 266.61292672296787, 381.9663879789609, 300.3966323909533, 278.3678826738383, 290.01866025128334, 553.811281014354, 480.9866567784153, 389.6401742458178, 292.88812745225783, 263.16497112663336, 201.07337162395197, 1115.5145543492906, 1102.6144207950242, 550.2190010756, 970.3101036949819, 1876.6388363144758, 439.89341458740046, 1716.0906402876822, 318.44455743479404, 84111.16764489164, 2858.052923509781, 3648.8224172051237, 1165.5967829508802, 509.48574781266296, 1064.313475522128, 485.7380562630689, 346.61975429668087, 413.8497031258102, 348.74255518370245, 396.94070371952967, 331.8370319903813, 339.673352579539, 614.4637073072421, 428.60731595016944, 413.096205351232, 307.67511521987836, 345.2064443976964, 251.95902397282518, 231.82944103391222, 270.444197852282, 248.39455264584754, 272.02067194984727, 456.37182150215665, 643.2917779929222, 189.51721184329202, 186.08970047726842, 329.6154926682611, 419.88906898797717, 194.53207929490347, 175.8804047559628, 172.22932991438032, 534.7110820166722, 414.1551651137753, 441.5394100326918, 237.13227275380063, 512.6225957425906, 276.6773036611766, 1873.775811417145, 260.27471735400366, 306.2374855638458, 901.6204840516725, 433.41813986311286, 464.8636678573571, 1829.9776148275246, 84111.16764489164, 24926.689096971837, 1143.5175599395543, 542.2735277298536, 1304.6126156520315, 684.094518458962, 488.58416026881105, 412.07028268376354, 397.37563982180694, 332.64624978173936, 2108.1315997456118, 387.9045710307411, 538.6729720564231, 305.6371770821265, 346.3457154656461, 279.83376091269395, 1726.7531666291586, 296.70049914487475, 238.5507793006961, 237.94924351894707, 345.2360245070423, 376.0246438083107, 562.4377403846042, 225.3443628786082, 295.48586554888897, 230.86061322278573, 201.02265849148483, 200.53813433246955, 193.9515366182996, 205.7299624924307, 218.11584821489376, 253.20638333741047, 1592.6266842840112, 2086.358499760445, 1437.0312819721817, 1105.7727463972267, 327.20070566774075, 275.3142854732288, 272.2537589836327, 352.9531606742717, 273.63265481735283, 480.77930575014796, 1121.8714669523958, 332.98000384798434, 278.79026394131574, 340.57526643348126, 309.707223007372, 24926.689096971837, 84111.16764489164, 13469.581021470909, 795.1534355782692, 516.575711114545, 602.5166450127626, 451.1593520703356, 510.5790004975478, 2781.6779543715015, 694.5991060445033, 557.7838075541902, 283.3363775281555, 279.0672323327414, 289.34826849719315, 284.2985243200557, 504.94150620982236, 844.9065061707814, 367.2370600473984, 348.3338372032118, 319.4053389718638, 333.989227214332, 294.0279996141802, 267.63964181533447, 253.82759491366258, 258.86496287419703, 191.4128174649181, 181.88962152676496, 529.6438246052551, 182.7926071938103, 399.40719781760964, 168.92178597994283, 357.7400878563039, 168.7429815449491, 2358.183046320412, 1765.4738734688613, 1070.4880899540376, 403.9873290302042, 288.7566038474466, 1017.649942494782, 454.2367285206816, 504.09141940232917, 704.7082579298909, 6809.88323050095, 84111.16764489164, 3772.6095225537706, 5437.186869884893, 24926.689096971837, 12059.466207639522, 1995.9985741119233, 1896.5270875930946, 1155.8926462430106, 2611.081568387781, 499.395030425032, 775.221526020531, 762.2822982028961, 393.0283066487234, 438.45736121939586, 436.34416012868866, 464.4904561603725, 427.9372843556141, 442.9201837842592, 275.9356196059086, 352.42402230078466, 1946.0524871514358, 330.2588741783339, 281.15108929382944, 440.8094666335988, 286.0750038666517, 487.22705457785827, 260.1532349831546, 191.99336310800476, 290.6932362568759, 186.95544209348475, 210.42649818090473, 177.10441901592603, 163.66911131934012, 167.34102977520266, 228.42815195067521, 606.2478938505975, 328.4753782431425, 1790.3120283491658, 984.5510774901544, 554.4111904992634, 366.22345333040926, 309.67095011627595, 780.5201115517671, 5362.077572715546, 24926.689096971837, 1363.7070689813875, 13469.581021470909, 18566.07445731362, 84111.16764489164, 1057.9368786724274, 526.5078517948524, 802.4721754343943, 733.9856110911668, 911.0820498165123, 416.97722594518837, 401.7600779052735, 639.9433716020625, 594.198591467437, 375.1337874172996, 356.63162943244265, 293.6759890940114, 259.3712585185417, 271.630394157062, 357.7864402581695, 416.8009464146191, 355.43940939776746, 1430.9763888042396, 607.9866523700471, 279.3900418573753, 323.0112279731178, 211.11893613679217, 198.8717517636835, 454.73695170918086, 226.35640691423268, 210.57005252155471, 564.4781303256034, 203.90041496186245, 187.82467830516615, 343.33539431113894, 888.1186001525042, 1437.7149986481304, 882.2726657977656, 503.32645442378896, 493.9333378798939, 937.1804654778182, 843.3431691047962, 1072.7599747447775, 359.1984931566826, 1067.9363333602291, 6484.313367324974, 24926.689096971837, 84111.16764489164, 12059.466207639522, 13469.581021470909, 848.8929446685759, 1063.8291176350426, 1067.5233199377524, 901.54099926839, 620.621282296743, 885.1669656526878, 573.3514515121802, 614.7639659962902, 550.6987959224984, 545.7378084861415, 505.6739446634922, 379.2147798275001, 336.87536257196234, 544.692233231042, 276.65595992171654, 245.60106931284378, 473.62751618273427, 256.0223306114768, 676.3987167161073, 231.15885657512453, 443.9926336070082, 235.33663759405482, 230.09055359438906, 200.98882961273623, 205.80539122865002, 214.35877204506218, 384.69330109887295, 193.70100521250404, 168.43400806955702, 182.14892810021874, 505.36706444131516, 1832.4063453408112, 424.1352493037856, 995.5487087022728, 610.3860054320315, 936.4667426107902, 343.3933231623217, 3999.567872112675, 1328.8348800489348, 496.0595079304282, 84111.16764489164, 12059.466207639522, 2539.6777604873846, 11354.88711858924, 633.8957769250487, 739.6584833461632, 527.7483335948721, 364.9358924263637, 345.2726832080448, 1468.07954360767, 355.8450468067149, 1758.1475379210272, 362.4894317824188, 219.94983309536468, 199.2268536598795, 209.10074719795384, 378.15236427007017, 190.53453500599306, 193.49784778454, 198.13505303189106, 179.47842773192158, 358.1348449846114, 328.3918846343452, 184.46789605696668, 198.4501757262572, 187.6716990784302, 370.19508679413485, 192.23848726765561, 187.9767742209446, 181.47293547253204, 153.86796379460927, 301.19711817664427, 331.35893488040546, 426.36942106546434, 235.50745471793527, 207.31702573327036, 84111.16764489164, 24926.689096971837, 6809.88323050095, 524.0366734522476, 2824.4531407748905, 755.7864388084184, 616.0187281223824, 447.8137867554838, 1340.8569790295953, 464.7170669844159, 386.0422662096999, 303.22022209414973, 362.34402103310583, 223.8829663491497, 218.3938029535061, 274.6735771859997, 210.99135745029216, 202.84558754746206, 205.56212662341426, 575.8562291283881, 224.19118562564236, 176.96522067870973, 172.49784033790303, 439.1273736028434, 498.6894720873155, 1718.7321279385333, 174.20063289965736, 192.85594400424944, 148.57084581868818, 153.26200392495906, 147.6866361760321, 140.63312219404176, 153.21295775273734, 1586.8277567437906, 818.2972356643976, 1568.3970955376785, 4549.9117442501765, 276.89898124516054, 322.58547533582697, 211.7296974017052, 202.5923957732539, 209.75148016343462, 5199.371027650222, 5126.781094727998, 18566.07445731362, 84111.16764489164, 24926.689096971837, 5361.2628715646315, 12059.466207639522, 1946.9029062765433, 1210.8378665880757, 1106.5810615415219, 730.3642410724418, 324.9214719107787, 309.1927688062449, 1179.8329890378025, 302.59980964256863, 312.7463989984265, 645.1959182117339, 240.51996364415206, 2060.8977726536696, 735.1985986143104, 2296.477135906028, 199.76196733905977, 505.0608603501872, 460.3456111496948, 255.7698953524135, 269.5880175855335, 1073.490666234808, 615.0913811945737, 198.86223348238252, 183.39986941222503, 147.95468932368865, 146.00651202234346, 169.93390129585504, 163.5384694529545, 147.5602599270076, 172.62979455578315, 866.1491637516798, 1632.6356906162612, 1165.8053067796443, 254.58089051055813, 453.70003020399537, 797.6756383037846, 307.33702618805404, 84111.16764489164, 2468.099437933882, 487.2409190781178, 4762.787637682246, 12059.466207639522, 849.5078355235902, 1079.4603776027188, 549.8721726102077, 350.9286134631091, 561.4308744949002, 667.7323196173485, 380.8947567547542, 329.9823864284034, 339.3126045509312, 295.10657921101654, 269.2185515581366, 390.90201529538814, 316.5707519252812, 703.2688969847626, 755.9780290732103, 564.5958748734149, 419.19877673128144, 1372.7701874264633, 1942.52838545406, 819.7385900132674, 350.02205082925985, 257.6884800127707, 668.6197020603516, 231.5930194997668, 430.73662019703374, 582.8472732728063, 220.88245097004824, 199.01226092514182, 438.30335026897467, 402.3891845984384, 1319.2869820501237, 751.7838329757323, 653.6569859283445, 351.3705043361134, 365.46677355142583, 331.9269083202979, 533.9584071717312, 84111.16764489164, 2747.075573082476, 931.1467410333105, 894.7443648304628, 666.7965789416294, 1105.3533850196745, 950.6949341760816, 560.6812657548495, 778.1196442093071, 747.0863415622803, 350.4686757724249, 623.0345239938135, 706.6046543738402, 303.8962009262352, 352.96585115197655, 445.2838112493384, 276.5115727967476, 558.2194583698426, 387.7607952471373, 235.3125410439166, 229.4311979865657, 193.9049327812546, 211.28370856925613, 248.59857136447778, 362.15823560539565, 230.70172861315274, 161.1945038428853, 367.67965714323554, 156.01463911967087, 243.86138371504887, 165.55953392884157, 341.4832159149589, 338.160486753029, 414.40641995378166, 381.5701086750565, 726.216788765898, 365.71106114985474, 348.5076128683141, 869.4092447617111, 959.4318593775731, 487.896881232009, 24926.689096971837, 84111.16764489164, 2054.3532557140484, 1483.057734430486, 940.9684132835157, 2657.872204463257, 435.3630964958628, 456.0105096759626, 784.9738703720939, 596.9162073683457, 821.9359918249762, 519.1977095031365, 666.3684175731868, 489.28010145116235, 353.0434197278539, 423.08553075567283, 572.8796197006732, 676.8372605973868, 250.8940315305967, 236.7528840851153, 234.87953820212815, 277.12769038551164, 296.102448120421, 330.20847578138523, 258.8206975746243, 322.85693213750824, 231.16194278972876, 260.1109959365091, 188.11747295444738, 188.0430868210951, 191.71412422647137, 226.580472340205, 255.46643240939005, 261.104194318621, 995.8962403106943, 1252.8771892959587, 295.9735193313242, 273.67524851164274, 539.9833323427389, 255.99881940288313, 300.04819813744666, 84111.16764489164, 18566.07445731362, 595.9228828849289, 24926.689096971837, 13469.581021470909, 1271.3555546299085, 832.1292439269882, 1598.6126859549222, 477.3222953389251, 387.89643156589887, 459.790199701352, 719.5888332210287, 507.68716935571484, 417.1624920750348, 469.50243014962666, 541.5069796906037, 494.4131517176206, 414.8005283924154, 288.821093246973, 384.05539209285075, 302.83090742261606, 346.75412734340375, 565.0594600427708, 319.5387521045193, 252.65006478056713, 304.62902667753025, 217.83743962906428, 459.3713218196228, 275.06592550858164, 283.5132759944844, 207.83204039653802, 208.98294742483492, 1615.6623276451096, 214.90232157598084, 190.40149924793982, 1487.01522388873, 972.8279032174536, 1235.6457049321941, 643.189271772262, 479.1618529651926, 622.6296281958512, 2494.73596929632, 357.27839481710623, 84111.16764489164, 2975.063542131682, 970.8911199632078, 499.1648300131954, 424.666547897352, 628.8646306023182, 463.25335883823624, 602.3090139388129, 527.2483212827174, 491.01548730791995, 327.78296777411373, 543.8712208797617, 263.4696967069215, 236.81191605418445, 212.33983994863388, 257.19207783477736, 209.72068453793906, 215.8094605126951, 184.06985842661004, 203.61582171916197, 196.13801811197098, 178.3486592758638, 1843.930088521752, 173.72785693458837, 378.48080528476765, 169.80727154898474, 434.04772513339236, 223.66613951240126, 205.87449288249576, 971.9278523098088, 203.15898251311353, 881.4288632579251, 587.4782518713281, 391.8725294025818, 660.8882235456788, 391.85983398876897, 296.7614112115691, 420.283231092046, 234.7788164771533, 211.65484501180995, 84111.16764489164, 13469.581021470909, 24926.689096971837, 4499.76993769107, 855.6476688556841, 1486.0529733757357, 775.2813367284466, 435.10009182579745, 343.7637863407408, 367.59234957149465, 699.9549566620553, 334.1241187233827, 322.96337064372386, 298.6728175139738, 322.76752777436644, 999.7484062646266, 392.55523332125716, 307.24614894190626, 235.50550346427391, 213.87750157182015, 252.8422370080493, 196.70219842317715, 196.46360876597137, 219.07119464106916, 186.2689882796184, 184.14183712698159, 187.49004429282908, 386.2092204454906, 230.67547813052232, 176.1974609279598, 216.37225743188685, 150.65688417022852, 151.14642004525138, 139.66272131665727, 847.8603532142099, 246.57350177590584, 240.77492432076576, 239.04739424298336, 301.7670486759269, 738.085985513342, 324.695125574521, 1425.2860105877464, 1574.54837588649, 748.6330848810536, 319.24770764115317, 1484.01584264519, 84111.16764489164, 1327.56205622224, 2821.6164634144707, 6484.313367324974, 1933.7951077670411, 643.4572438656301, 5381.15520754629, 463.7128254744976, 548.8456986193933, 722.5706942870954, 847.8443641382976, 340.0420554942818, 493.02790540166166, 514.0417315340508, 457.2064827363937, 971.9039837834257, 326.15636983524155, 320.9849269432978, 292.2425826038068, 240.5763112282669, 508.59522995206396, 215.5305976580566, 224.2227938205408, 191.88764185672602, 345.1315279440529, 178.43408427046938, 220.0289939047376, 382.7202061884195, 177.8821399840747, 355.59662742460273, 146.70003994006765, 2552.597454249632, 142.08002983942927, 167.8813951117304, 390.2009701413451, 494.1761144878003, 305.64786670716126, 242.85697080099365, 242.96171745218336, 265.7242446464103, 229.9749947801273, 24926.689096971837, 84111.16764489164, 18566.07445731362, 13469.581021470909, 1157.3841407459706, 760.245983099212, 498.3881453462425, 831.3711662080227, 539.2463330983777, 478.8426448486786, 544.6689637691923, 1374.423673208081, 392.1243762519515, 406.64677253344394, 386.80925740527294, 308.16249685735494, 282.8903264430732, 287.2164194222341, 327.98399675738443, 262.09835915150956, 379.3596153040552, 255.17563286022315, 225.2756953857438, 269.6703022137276, 279.4127689166026, 259.6399111399475, 438.61171656601437, 331.9924263718083, 243.2396170930359, 212.709572505072, 203.05062546441744, 225.7410848316907, 590.9593741258693, 264.38672056849157, 1290.7140640326918, 787.0343186068836, 664.6992807872487, 490.3345766872994, 1537.77332038494, 2179.516179269729, 875.7868417230583, 1026.3691160001185, 327.956172207984, 310.1194519546322, 84111.16764489164, 12059.466207639522, 1001.2576054923005, 657.6671577187353, 529.4469699420913, 533.7451177532962, 407.39356276927793, 395.2260163596742, 411.1023662231913, 1122.318286299578, 808.6144532142687, 334.078789679387, 2184.91068900885, 892.3851849954219, 706.0776105197829, 1484.2225604770692, 327.802285589558, 306.8839283153933, 323.5474557993168, 270.34836878774485, 333.54151471776834, 290.33752285164314, 396.4690193973585, 197.8920586863355, 271.88146183105437, 192.2099941201391, 308.3653827683937, 221.24051509558788, 182.4125765933879, 209.06955338641717, 193.53423454279442, 174.07445569908768, 1077.9789774111875, 474.108860850457, 431.80738354715317, 343.19268989797007, 262.90791342903196, 442.51349893016754, 325.03988028600645, 546.9904616308166, 1116.1209026390716, 311.043003426876, 368.64515282901084, 359.5084715850075, 84111.16764489164, 1959.408437650642, 2215.8545138504915, 532.6641579642738, 920.2137006722588, 471.2168989699504, 467.9174545034548, 297.9161842608837, 296.5875529373313, 302.5894423533925, 291.60360905708177, 849.0359933940222, 289.0727163681117, 388.76534924108114, 694.9550839224835, 265.63404850135146, 247.48505536490907, 241.55687813552973, 392.4565553687167, 689.6906389675485, 1062.2899761624597, 188.20720839097442, 189.19181969692121, 203.90831789477815, 177.80318174446484, 213.4950637924693, 216.201956231854, 164.51979605942864, 143.62359160396062, 144.65405814596275, 145.00259742918456, 2346.2179115050562, 1030.4667612251374, 264.80070604867257, 241.2123787338073, 235.41231131793944, 574.2832309347297, 209.52029244317913, 1363.7070689813875, 229.30340597603023, 583.0634359427502, 24926.689096971837, 84111.16764489164, 4499.76993769107, 12059.466207639522, 891.933716868435, 964.2332294128314, 613.6205835259555, 625.3795119451759, 388.78872427750923, 330.888034475493, 321.88505370322866, 486.2740707795905, 375.27609118571854, 386.2391978757449, 290.24962101888906, 332.33734473002716, 302.3135435894093, 227.37526098537765, 230.3104310362962, 992.9605520740407, 483.57710305501377, 283.1518129793309, 209.31188872550294, 264.51536758333003, 1266.2463420605138, 639.9400471563697, 197.4793649407348, 247.9500931411105, 232.83012284366674, 370.0981144374857, 202.00808715279823, 163.06207274740837, 149.72723036581758, 177.39664021211289, 156.42975216421073, 807.6750554891753, 363.1408503622762, 288.7373289826731, 542.8937169704556, 1797.4919633126913, 321.51185927811633, 2168.6150535745137, 84111.16764489164, 13469.581021470909, 1869.9970518361263, 5362.077572715546, 1525.94737239056, 1450.0877096263448, 713.5458384618237, 513.8759570911532, 411.08271637591184, 340.75128527655824, 346.5357806869687, 303.1771957140326, 367.1156527280744, 355.39771197902456, 303.3944567950809, 338.1818430064016, 254.11182387225085, 351.3506826121884, 227.0640691600888, 240.1881275024083, 2539.0968377703325, 200.21766103284594, 196.44549949834192, 196.66618355976536, 203.0843488242498, 401.8192454196606, 166.0975663952927, 268.42411195863525, 196.252250736681, 306.28144197310706, 294.9285131674147, 156.6143390716498, 152.60697883388346, 149.72653677309717, 1119.5386049358783, 512.1922264151569, 190.03984968775856, 1048.5768980552834, 384.06129221565294, 334.44043085636343, 1265.4001834614203, 236.8198478615003, 283.7088767023877, 84111.16764489164, 13469.581021470909, 2821.6164634144707, 12059.466207639522, 866.4874670920113, 991.792680780384, 785.9091357513907, 500.97447132878665, 374.146285084331, 475.3400721395327, 432.51198952915576, 346.8857878539269, 408.7760446054504, 447.1649362762706, 337.3260553413687, 330.89994639979096, 340.21430652455643, 418.05666617492744, 342.9892826990643, 872.856889160887, 212.18382361752072, 408.616202618856, 215.79886863441567, 194.79496367311384, 213.28704446803462, 283.134720642121, 318.5932265271667, 292.90635027044624, 189.99681331781824, 170.03052885012664, 175.2790288541271, 170.66501283863207, 160.43422232457263, 152.56546466287674, 878.685437831349, 252.64453857370341, 255.51198144494435, 2375.3876501306704, 321.3709232244317, 486.6339792032707, 384.330362440528, 479.4397077771595, 5199.371027650222, 18566.07445731362, 84111.16764489164, 2494.612918233549, 1340.7062904736558, 955.8855186376056, 1169.095965014766, 588.6174766863953, 757.4280356332262, 497.7706582773611, 496.1525780182371, 373.4539180660743, 377.6350788957987, 904.7300401908337, 421.56449223059656, 738.5659100059461, 423.73222706762425, 301.83615889855764, 522.7344209111346, 434.0460801062426, 515.3956998339457, 305.2064990614003, 196.07923651836174, 202.43893691472118, 215.03223199180826, 214.88721106762776, 176.8636429172397, 193.93842324871756, 209.75237462516395, 179.632601931917, 386.67283467411096, 159.7905984682503, 153.37600579022597, 163.82148238071008, 797.9953919987403, 702.1226019573312, 654.3764998497774, 468.32981046735193, 296.7403614660626, 276.43819157342807, 205.72482837538195, 797.7303488939931, 257.0526051694485, 251.6464767806191, 218.76812840916915, 84111.16764489164, 24926.689096971837, 6809.88323050095, 2192.5332955046033, 801.5946225529759, 723.7970066545631, 553.4900881744844, 648.700113630675, 671.9107910980462, 564.7590984091999, 655.7977679966236, 371.2775350274043, 470.1973918710257, 280.4629976058337, 355.7077500063605, 1945.6491592190207, 310.5844213952217, 413.7208828408092, 355.513899038505, 250.0753818804209, 239.29251164671874, 236.24431910547932, 220.24783012672023, 234.77347714947297, 357.63097222372437, 181.4371087981828, 179.2855460068308, 213.78408823775487, 167.4773833801092, 177.11670822945618, 154.30038413029544, 141.36978701411113, 172.00532071601646, 473.94317769071927, 449.9229450267562, 364.30548689860626, 535.1942698132486, 382.51826776524047, 423.5023723180036, 384.544849730718, 399.0989777285025, 539.7562051956992, 395.4508712733144, 2235.1241607395436, 84111.16764489164, 18566.07445731362, 710.5600706234148, 688.2326387056428, 934.9376960255215, 443.18577329674827, 819.8306056143293, 571.6814548468535, 635.1163781307846, 478.3521857023947, 400.88826465710065, 377.19119919841546, 467.1607259220056, 369.13941959054125, 2204.3102091514115, 331.8506289822561, 290.35675891927696, 228.4834413172669, 235.76956513525823, 350.71036811199247, 229.3699657545955, 299.86582757609983, 350.81319700215204, 254.6421282337748, 446.69325363370774, 187.94409005803087, 191.59504775645055, 298.3793554794703, 179.51053001458172, 312.2317200271292, 163.51261835696974, 175.26282301097424, 1613.7976200539326, 546.1611888876363, 210.2379516263387, 1033.6366974876953, 262.6807354859951, 556.4271111341695, 84111.16764489164, 336.73686267714436, 3178.877107460077, 923.0228073350701, 1500.5111185729425, 441.0884948981996, 405.44228795786387, 323.6276697406697, 393.5974584568634, 288.28184711950473, 559.2872467014402, 245.88913063244226, 798.4797483620895, 244.3193157815148, 205.98333038334434, 205.1040014076381, 316.62712336491586, 194.80803899547888, 171.7363558502334, 169.3440726472438, 171.60616102356974, 155.15753091768337, 173.54950617847345, 169.39596866185985, 611.4809600860742, 156.61711395325767, 429.2363602946519, 194.00175112688655, 217.8037202350499, 154.81913360826118, 949.2125694919018, 130.01675550829518, 282.8864471430442, 181.70170878851934, 252.69004459553557, 231.56548966919175, 1267.9404276116861, 302.41761983474595, 276.6366172729977, 199.2783275666183, 509.9465824169625, 24926.689096971837, 84111.16764489164, 2442.8973640559816, 13469.581021470909, 914.6081837860402, 1023.2219553214944, 526.9715622734038, 354.6159307384571, 288.8142193367941, 275.14756419426334, 338.18419803643445, 303.9864247137223, 617.2724065133459, 492.4572688753939, 331.6601322196715, 212.62179190199498, 203.17242549678517, 237.6732103019574, 717.5351736730113, 183.43931463449846, 251.30484616753608, 207.71474844542004, 175.03035833286663, 173.63110989370165, 159.33594714552652, 152.37782197441265, 170.53499050695967, 157.35160216879856, 149.45099721088138, 147.00974841928866, 147.6405251845257, 137.567660430464, 136.59396207205089, 146.04358736054715, 381.44819103015215, 438.90330667819654, 254.660141965376, 271.9588909617935, 235.5523090329651, 221.71269672357988, 217.90993169314717, 212.54905286562814, 173.76202119312083, 454.23770182903775, 316.386903888669, 184.00009868358688, 84111.16764489164, 5008.289468484418, 24926.689096971837, 12059.466207639522], \"Category\": [\"Default\", \"Default\", \"Default\", \"Default\", \"Default\", \"Default\", \"Default\", \"Default\", \"Default\", \"Default\", \"Default\", \"Default\", \"Default\", \"Default\", \"Default\", \"Default\", \"Default\", \"Default\", \"Default\", \"Default\", \"Default\", \"Default\", \"Default\", \"Default\", \"Default\", \"Default\", \"Default\", \"Default\", \"Default\", \"Default\", \"Topic1\", \"Topic1\", \"Topic1\", \"Topic1\", \"Topic1\", \"Topic1\", \"Topic1\", \"Topic1\", \"Topic1\", \"Topic1\", \"Topic1\", \"Topic1\", \"Topic1\", \"Topic1\", \"Topic1\", \"Topic1\", \"Topic1\", \"Topic1\", \"Topic1\", \"Topic1\", \"Topic1\", \"Topic1\", \"Topic1\", \"Topic1\", \"Topic1\", \"Topic1\", \"Topic1\", \"Topic1\", \"Topic1\", \"Topic1\", \"Topic1\", \"Topic1\", \"Topic1\", \"Topic1\", \"Topic1\", \"Topic1\", \"Topic1\", \"Topic1\", \"Topic1\", \"Topic1\", \"Topic1\", \"Topic1\", \"Topic1\", \"Topic1\", \"Topic1\", \"Topic1\", \"Topic1\", \"Topic2\", \"Topic2\", \"Topic2\", \"Topic2\", \"Topic2\", \"Topic2\", \"Topic2\", \"Topic2\", \"Topic2\", \"Topic2\", \"Topic2\", \"Topic2\", \"Topic2\", \"Topic2\", \"Topic2\", \"Topic2\", \"Topic2\", \"Topic2\", \"Topic2\", \"Topic2\", \"Topic2\", \"Topic2\", \"Topic2\", \"Topic2\", \"Topic2\", \"Topic2\", \"Topic2\", \"Topic2\", \"Topic2\", \"Topic2\", \"Topic2\", \"Topic2\", \"Topic2\", \"Topic2\", \"Topic2\", \"Topic2\", \"Topic2\", \"Topic2\", \"Topic2\", \"Topic2\", \"Topic2\", \"Topic2\", \"Topic2\", \"Topic2\", \"Topic2\", \"Topic2\", \"Topic2\", \"Topic2\", \"Topic2\", \"Topic3\", \"Topic3\", \"Topic3\", \"Topic3\", \"Topic3\", \"Topic3\", \"Topic3\", \"Topic3\", \"Topic3\", \"Topic3\", \"Topic3\", \"Topic3\", \"Topic3\", \"Topic3\", \"Topic3\", \"Topic3\", \"Topic3\", \"Topic3\", \"Topic3\", \"Topic3\", \"Topic3\", \"Topic3\", \"Topic3\", \"Topic3\", \"Topic3\", \"Topic3\", \"Topic3\", \"Topic3\", \"Topic3\", \"Topic3\", \"Topic3\", \"Topic3\", \"Topic3\", \"Topic3\", \"Topic3\", \"Topic3\", \"Topic3\", \"Topic3\", \"Topic3\", \"Topic3\", \"Topic3\", \"Topic3\", \"Topic3\", \"Topic3\", \"Topic3\", \"Topic3\", \"Topic3\", \"Topic3\", \"Topic4\", \"Topic4\", \"Topic4\", \"Topic4\", \"Topic4\", \"Topic4\", \"Topic4\", \"Topic4\", \"Topic4\", \"Topic4\", \"Topic4\", \"Topic4\", \"Topic4\", \"Topic4\", \"Topic4\", \"Topic4\", \"Topic4\", \"Topic4\", \"Topic4\", \"Topic4\", \"Topic4\", \"Topic4\", \"Topic4\", \"Topic4\", \"Topic4\", \"Topic4\", \"Topic4\", \"Topic4\", \"Topic4\", \"Topic4\", \"Topic4\", \"Topic4\", \"Topic4\", \"Topic4\", \"Topic4\", \"Topic4\", \"Topic4\", \"Topic4\", \"Topic4\", \"Topic4\", \"Topic4\", \"Topic4\", \"Topic4\", \"Topic4\", \"Topic4\", \"Topic4\", \"Topic4\", \"Topic4\", \"Topic4\", \"Topic4\", \"Topic5\", \"Topic5\", \"Topic5\", \"Topic5\", \"Topic5\", \"Topic5\", \"Topic5\", \"Topic5\", \"Topic5\", \"Topic5\", \"Topic5\", \"Topic5\", \"Topic5\", \"Topic5\", \"Topic5\", \"Topic5\", \"Topic5\", \"Topic5\", \"Topic5\", \"Topic5\", \"Topic5\", \"Topic5\", \"Topic5\", \"Topic5\", \"Topic5\", \"Topic5\", \"Topic5\", \"Topic5\", \"Topic5\", \"Topic5\", \"Topic5\", \"Topic5\", \"Topic5\", \"Topic5\", \"Topic5\", \"Topic5\", \"Topic5\", \"Topic5\", \"Topic5\", \"Topic5\", \"Topic5\", \"Topic5\", \"Topic5\", \"Topic5\", \"Topic5\", \"Topic6\", \"Topic6\", \"Topic6\", \"Topic6\", \"Topic6\", \"Topic6\", \"Topic6\", \"Topic6\", \"Topic6\", \"Topic6\", \"Topic6\", \"Topic6\", \"Topic6\", \"Topic6\", \"Topic6\", \"Topic6\", \"Topic6\", \"Topic6\", \"Topic6\", \"Topic6\", \"Topic6\", \"Topic6\", \"Topic6\", \"Topic6\", \"Topic6\", \"Topic6\", \"Topic6\", \"Topic6\", \"Topic6\", \"Topic6\", \"Topic6\", \"Topic6\", \"Topic6\", \"Topic6\", \"Topic6\", \"Topic6\", \"Topic6\", \"Topic6\", \"Topic6\", \"Topic6\", \"Topic6\", \"Topic6\", \"Topic6\", \"Topic6\", \"Topic6\", \"Topic7\", \"Topic7\", \"Topic7\", \"Topic7\", \"Topic7\", \"Topic7\", \"Topic7\", \"Topic7\", \"Topic7\", \"Topic7\", \"Topic7\", \"Topic7\", \"Topic7\", \"Topic7\", \"Topic7\", \"Topic7\", \"Topic7\", \"Topic7\", \"Topic7\", \"Topic7\", \"Topic7\", \"Topic7\", \"Topic7\", \"Topic7\", \"Topic7\", \"Topic7\", \"Topic7\", \"Topic7\", \"Topic7\", \"Topic7\", \"Topic7\", \"Topic7\", \"Topic7\", \"Topic7\", \"Topic7\", \"Topic7\", \"Topic7\", \"Topic7\", \"Topic7\", \"Topic7\", \"Topic7\", \"Topic7\", \"Topic7\", \"Topic7\", \"Topic7\", \"Topic7\", \"Topic7\", \"Topic7\", \"Topic8\", \"Topic8\", \"Topic8\", \"Topic8\", \"Topic8\", \"Topic8\", \"Topic8\", \"Topic8\", \"Topic8\", \"Topic8\", \"Topic8\", \"Topic8\", \"Topic8\", \"Topic8\", \"Topic8\", \"Topic8\", \"Topic8\", \"Topic8\", \"Topic8\", \"Topic8\", \"Topic8\", \"Topic8\", \"Topic8\", \"Topic8\", \"Topic8\", \"Topic8\", \"Topic8\", \"Topic8\", \"Topic8\", \"Topic8\", \"Topic8\", \"Topic8\", \"Topic8\", \"Topic8\", \"Topic8\", \"Topic8\", \"Topic8\", \"Topic8\", \"Topic8\", \"Topic8\", \"Topic8\", \"Topic8\", \"Topic8\", \"Topic8\", \"Topic8\", \"Topic8\", \"Topic8\", \"Topic9\", \"Topic9\", \"Topic9\", \"Topic9\", \"Topic9\", \"Topic9\", \"Topic9\", \"Topic9\", \"Topic9\", \"Topic9\", \"Topic9\", \"Topic9\", \"Topic9\", \"Topic9\", \"Topic9\", \"Topic9\", \"Topic9\", \"Topic9\", \"Topic9\", \"Topic9\", \"Topic9\", \"Topic9\", \"Topic9\", \"Topic9\", \"Topic9\", \"Topic9\", \"Topic9\", \"Topic9\", \"Topic9\", \"Topic9\", \"Topic9\", \"Topic9\", \"Topic9\", \"Topic9\", \"Topic9\", \"Topic9\", \"Topic9\", \"Topic9\", \"Topic9\", \"Topic9\", \"Topic9\", \"Topic9\", \"Topic9\", \"Topic9\", \"Topic9\", \"Topic10\", \"Topic10\", \"Topic10\", \"Topic10\", \"Topic10\", \"Topic10\", \"Topic10\", \"Topic10\", \"Topic10\", \"Topic10\", \"Topic10\", \"Topic10\", \"Topic10\", \"Topic10\", \"Topic10\", \"Topic10\", \"Topic10\", \"Topic10\", \"Topic10\", \"Topic10\", \"Topic10\", \"Topic10\", \"Topic10\", \"Topic10\", \"Topic10\", \"Topic10\", \"Topic10\", \"Topic10\", \"Topic10\", \"Topic10\", \"Topic10\", \"Topic10\", \"Topic10\", \"Topic10\", \"Topic10\", \"Topic10\", \"Topic10\", \"Topic10\", \"Topic10\", \"Topic10\", \"Topic10\", \"Topic10\", \"Topic10\", \"Topic10\", \"Topic10\", \"Topic10\", \"Topic10\", \"Topic10\", \"Topic10\", \"Topic11\", \"Topic11\", \"Topic11\", \"Topic11\", \"Topic11\", \"Topic11\", \"Topic11\", \"Topic11\", \"Topic11\", \"Topic11\", \"Topic11\", \"Topic11\", \"Topic11\", \"Topic11\", \"Topic11\", \"Topic11\", \"Topic11\", \"Topic11\", \"Topic11\", \"Topic11\", \"Topic11\", \"Topic11\", \"Topic11\", \"Topic11\", \"Topic11\", \"Topic11\", \"Topic11\", \"Topic11\", \"Topic11\", \"Topic11\", \"Topic11\", \"Topic11\", \"Topic11\", \"Topic11\", \"Topic11\", \"Topic11\", \"Topic11\", \"Topic11\", \"Topic11\", \"Topic11\", \"Topic11\", \"Topic11\", \"Topic12\", \"Topic12\", \"Topic12\", \"Topic12\", \"Topic12\", \"Topic12\", \"Topic12\", \"Topic12\", \"Topic12\", \"Topic12\", \"Topic12\", \"Topic12\", \"Topic12\", \"Topic12\", \"Topic12\", \"Topic12\", \"Topic12\", \"Topic12\", \"Topic12\", \"Topic12\", \"Topic12\", \"Topic12\", \"Topic12\", \"Topic12\", \"Topic12\", \"Topic12\", \"Topic12\", \"Topic12\", \"Topic12\", \"Topic12\", \"Topic12\", \"Topic12\", \"Topic12\", \"Topic12\", \"Topic12\", \"Topic12\", \"Topic12\", \"Topic12\", \"Topic12\", \"Topic12\", \"Topic12\", \"Topic12\", \"Topic12\", \"Topic12\", \"Topic13\", \"Topic13\", \"Topic13\", \"Topic13\", \"Topic13\", \"Topic13\", \"Topic13\", \"Topic13\", \"Topic13\", \"Topic13\", \"Topic13\", \"Topic13\", \"Topic13\", \"Topic13\", \"Topic13\", \"Topic13\", \"Topic13\", \"Topic13\", \"Topic13\", \"Topic13\", \"Topic13\", \"Topic13\", \"Topic13\", \"Topic13\", \"Topic13\", \"Topic13\", \"Topic13\", \"Topic13\", \"Topic13\", \"Topic13\", \"Topic13\", \"Topic13\", \"Topic13\", \"Topic13\", \"Topic13\", \"Topic13\", \"Topic13\", \"Topic13\", \"Topic13\", \"Topic13\", \"Topic13\", \"Topic13\", \"Topic13\", \"Topic13\", \"Topic13\", \"Topic13\", \"Topic14\", \"Topic14\", \"Topic14\", \"Topic14\", \"Topic14\", \"Topic14\", \"Topic14\", \"Topic14\", \"Topic14\", \"Topic14\", \"Topic14\", \"Topic14\", \"Topic14\", \"Topic14\", \"Topic14\", \"Topic14\", \"Topic14\", \"Topic14\", \"Topic14\", \"Topic14\", \"Topic14\", \"Topic14\", \"Topic14\", \"Topic14\", \"Topic14\", \"Topic14\", \"Topic14\", \"Topic14\", \"Topic14\", \"Topic14\", \"Topic14\", \"Topic14\", \"Topic14\", \"Topic14\", \"Topic14\", \"Topic14\", \"Topic14\", \"Topic14\", \"Topic14\", \"Topic14\", \"Topic14\", \"Topic14\", \"Topic14\", \"Topic14\", \"Topic14\", \"Topic15\", \"Topic15\", \"Topic15\", \"Topic15\", \"Topic15\", \"Topic15\", \"Topic15\", \"Topic15\", \"Topic15\", \"Topic15\", \"Topic15\", \"Topic15\", \"Topic15\", \"Topic15\", \"Topic15\", \"Topic15\", \"Topic15\", \"Topic15\", \"Topic15\", \"Topic15\", \"Topic15\", \"Topic15\", \"Topic15\", \"Topic15\", \"Topic15\", \"Topic15\", \"Topic15\", \"Topic15\", \"Topic15\", \"Topic15\", \"Topic15\", \"Topic15\", \"Topic15\", \"Topic15\", \"Topic15\", \"Topic15\", \"Topic15\", \"Topic15\", \"Topic15\", \"Topic15\", \"Topic15\", \"Topic15\", \"Topic15\", \"Topic15\", \"Topic15\", \"Topic15\", \"Topic15\", \"Topic15\", \"Topic15\", \"Topic15\", \"Topic16\", \"Topic16\", \"Topic16\", \"Topic16\", \"Topic16\", \"Topic16\", \"Topic16\", \"Topic16\", \"Topic16\", \"Topic16\", \"Topic16\", \"Topic16\", \"Topic16\", \"Topic16\", \"Topic16\", \"Topic16\", \"Topic16\", \"Topic16\", \"Topic16\", \"Topic16\", \"Topic16\", \"Topic16\", \"Topic16\", \"Topic16\", \"Topic16\", \"Topic16\", \"Topic16\", \"Topic16\", \"Topic16\", \"Topic16\", \"Topic16\", \"Topic16\", \"Topic16\", \"Topic16\", \"Topic16\", \"Topic16\", \"Topic16\", \"Topic16\", \"Topic16\", \"Topic16\", \"Topic16\", \"Topic16\", \"Topic16\", \"Topic16\", \"Topic17\", \"Topic17\", \"Topic17\", \"Topic17\", \"Topic17\", \"Topic17\", \"Topic17\", \"Topic17\", \"Topic17\", \"Topic17\", \"Topic17\", \"Topic17\", \"Topic17\", \"Topic17\", \"Topic17\", \"Topic17\", \"Topic17\", \"Topic17\", \"Topic17\", \"Topic17\", \"Topic17\", \"Topic17\", \"Topic17\", \"Topic17\", \"Topic17\", \"Topic17\", \"Topic17\", \"Topic17\", \"Topic17\", \"Topic17\", \"Topic17\", \"Topic17\", \"Topic17\", \"Topic17\", \"Topic17\", \"Topic17\", \"Topic17\", \"Topic17\", \"Topic17\", \"Topic17\", \"Topic17\", \"Topic17\", \"Topic17\", \"Topic17\", \"Topic17\", \"Topic18\", \"Topic18\", \"Topic18\", \"Topic18\", \"Topic18\", \"Topic18\", \"Topic18\", \"Topic18\", \"Topic18\", \"Topic18\", \"Topic18\", \"Topic18\", \"Topic18\", \"Topic18\", \"Topic18\", \"Topic18\", \"Topic18\", \"Topic18\", \"Topic18\", \"Topic18\", \"Topic18\", \"Topic18\", \"Topic18\", \"Topic18\", \"Topic18\", \"Topic18\", \"Topic18\", \"Topic18\", \"Topic18\", \"Topic18\", \"Topic18\", \"Topic18\", \"Topic18\", \"Topic18\", \"Topic18\", \"Topic18\", \"Topic18\", \"Topic18\", \"Topic18\", \"Topic18\", \"Topic18\", \"Topic18\", \"Topic18\", \"Topic18\", \"Topic18\", \"Topic19\", \"Topic19\", \"Topic19\", \"Topic19\", \"Topic19\", \"Topic19\", \"Topic19\", \"Topic19\", \"Topic19\", \"Topic19\", \"Topic19\", \"Topic19\", \"Topic19\", \"Topic19\", \"Topic19\", \"Topic19\", \"Topic19\", \"Topic19\", \"Topic19\", \"Topic19\", \"Topic19\", \"Topic19\", \"Topic19\", \"Topic19\", \"Topic19\", \"Topic19\", \"Topic19\", \"Topic19\", \"Topic19\", \"Topic19\", \"Topic19\", \"Topic19\", \"Topic19\", \"Topic19\", \"Topic19\", \"Topic19\", \"Topic19\", \"Topic19\", \"Topic19\", \"Topic19\", \"Topic19\", \"Topic19\", \"Topic20\", \"Topic20\", \"Topic20\", \"Topic20\", \"Topic20\", \"Topic20\", \"Topic20\", \"Topic20\", \"Topic20\", \"Topic20\", \"Topic20\", \"Topic20\", \"Topic20\", \"Topic20\", \"Topic20\", \"Topic20\", \"Topic20\", \"Topic20\", \"Topic20\", \"Topic20\", \"Topic20\", \"Topic20\", \"Topic20\", \"Topic20\", \"Topic20\", \"Topic20\", \"Topic20\", \"Topic20\", \"Topic20\", \"Topic20\", \"Topic20\", \"Topic20\", \"Topic20\", \"Topic20\", \"Topic20\", \"Topic20\", \"Topic20\", \"Topic20\", \"Topic20\", \"Topic20\", \"Topic20\", \"Topic21\", \"Topic21\", \"Topic21\", \"Topic21\", \"Topic21\", \"Topic21\", \"Topic21\", \"Topic21\", \"Topic21\", \"Topic21\", \"Topic21\", \"Topic21\", \"Topic21\", \"Topic21\", \"Topic21\", \"Topic21\", \"Topic21\", \"Topic21\", \"Topic21\", \"Topic21\", \"Topic21\", \"Topic21\", \"Topic21\", \"Topic21\", \"Topic21\", \"Topic21\", \"Topic21\", \"Topic21\", \"Topic21\", \"Topic21\", \"Topic21\", \"Topic21\", \"Topic21\", \"Topic21\", \"Topic21\", \"Topic21\", \"Topic21\", \"Topic21\", \"Topic21\", \"Topic21\", \"Topic21\", \"Topic21\", \"Topic21\", \"Topic22\", \"Topic22\", \"Topic22\", \"Topic22\", \"Topic22\", \"Topic22\", \"Topic22\", \"Topic22\", \"Topic22\", \"Topic22\", \"Topic22\", \"Topic22\", \"Topic22\", \"Topic22\", \"Topic22\", \"Topic22\", \"Topic22\", \"Topic22\", \"Topic22\", \"Topic22\", \"Topic22\", \"Topic22\", \"Topic22\", \"Topic22\", \"Topic22\", \"Topic22\", \"Topic22\", \"Topic22\", \"Topic22\", \"Topic22\", \"Topic22\", \"Topic22\", \"Topic22\", \"Topic22\", \"Topic22\", \"Topic22\", \"Topic22\", \"Topic22\", \"Topic22\", \"Topic22\", \"Topic22\", \"Topic22\", \"Topic22\", \"Topic22\", \"Topic22\", \"Topic22\", \"Topic23\", \"Topic23\", \"Topic23\", \"Topic23\", \"Topic23\", \"Topic23\", \"Topic23\", \"Topic23\", \"Topic23\", \"Topic23\", \"Topic23\", \"Topic23\", \"Topic23\", \"Topic23\", \"Topic23\", \"Topic23\", \"Topic23\", \"Topic23\", \"Topic23\", \"Topic23\", \"Topic23\", \"Topic23\", \"Topic23\", \"Topic23\", \"Topic23\", \"Topic23\", \"Topic23\", \"Topic23\", \"Topic23\", \"Topic23\", \"Topic23\", \"Topic23\", \"Topic23\", \"Topic23\", \"Topic23\", \"Topic23\", \"Topic23\", \"Topic23\", \"Topic23\", \"Topic23\", \"Topic24\", \"Topic24\", \"Topic24\", \"Topic24\", \"Topic24\", \"Topic24\", \"Topic24\", \"Topic24\", \"Topic24\", \"Topic24\", \"Topic24\", \"Topic24\", \"Topic24\", \"Topic24\", \"Topic24\", \"Topic24\", \"Topic24\", \"Topic24\", \"Topic24\", \"Topic24\", \"Topic24\", \"Topic24\", \"Topic24\", \"Topic24\", \"Topic24\", \"Topic24\", \"Topic24\", \"Topic24\", \"Topic24\", \"Topic24\", \"Topic24\", \"Topic24\", \"Topic24\", \"Topic24\", \"Topic24\", \"Topic24\", \"Topic24\", \"Topic24\", \"Topic24\", \"Topic24\", \"Topic24\", \"Topic24\", \"Topic24\", \"Topic24\", \"Topic24\", \"Topic25\", \"Topic25\", \"Topic25\", \"Topic25\", \"Topic25\", \"Topic25\", \"Topic25\", \"Topic25\", \"Topic25\", \"Topic25\", \"Topic25\", \"Topic25\", \"Topic25\", \"Topic25\", \"Topic25\", \"Topic25\", \"Topic25\", \"Topic25\", \"Topic25\", \"Topic25\", \"Topic25\", \"Topic25\", \"Topic25\", \"Topic25\", \"Topic25\", \"Topic25\", \"Topic25\", \"Topic25\", \"Topic25\", \"Topic25\", \"Topic25\", \"Topic25\", \"Topic25\", \"Topic25\", \"Topic25\", \"Topic25\", \"Topic25\", \"Topic25\", \"Topic25\", \"Topic25\", \"Topic25\", \"Topic25\", \"Topic25\", \"Topic25\", \"Topic25\", \"Topic25\", \"Topic25\", \"Topic25\", \"Topic26\", \"Topic26\", \"Topic26\", \"Topic26\", \"Topic26\", \"Topic26\", \"Topic26\", \"Topic26\", \"Topic26\", \"Topic26\", \"Topic26\", \"Topic26\", \"Topic26\", \"Topic26\", \"Topic26\", \"Topic26\", \"Topic26\", \"Topic26\", \"Topic26\", \"Topic26\", \"Topic26\", \"Topic26\", \"Topic26\", \"Topic26\", \"Topic26\", \"Topic26\", \"Topic26\", \"Topic26\", \"Topic26\", \"Topic26\", \"Topic26\", \"Topic26\", \"Topic26\", \"Topic26\", \"Topic26\", \"Topic26\", \"Topic26\", \"Topic26\", \"Topic26\", \"Topic26\", \"Topic26\", \"Topic26\", \"Topic26\", \"Topic26\", \"Topic26\", \"Topic27\", \"Topic27\", \"Topic27\", \"Topic27\", \"Topic27\", \"Topic27\", \"Topic27\", \"Topic27\", \"Topic27\", \"Topic27\", \"Topic27\", \"Topic27\", \"Topic27\", \"Topic27\", \"Topic27\", \"Topic27\", \"Topic27\", \"Topic27\", \"Topic27\", \"Topic27\", \"Topic27\", \"Topic27\", \"Topic27\", \"Topic27\", \"Topic27\", \"Topic27\", \"Topic27\", \"Topic27\", \"Topic27\", \"Topic27\", \"Topic27\", \"Topic27\", \"Topic27\", \"Topic27\", \"Topic27\", \"Topic27\", \"Topic27\", \"Topic27\", \"Topic27\", \"Topic27\", \"Topic27\", \"Topic27\", \"Topic27\", \"Topic27\", \"Topic28\", \"Topic28\", \"Topic28\", \"Topic28\", \"Topic28\", \"Topic28\", \"Topic28\", \"Topic28\", \"Topic28\", \"Topic28\", \"Topic28\", \"Topic28\", \"Topic28\", \"Topic28\", \"Topic28\", \"Topic28\", \"Topic28\", \"Topic28\", \"Topic28\", \"Topic28\", \"Topic28\", \"Topic28\", \"Topic28\", \"Topic28\", \"Topic28\", \"Topic28\", \"Topic28\", \"Topic28\", \"Topic28\", \"Topic28\", \"Topic28\", \"Topic28\", \"Topic28\", \"Topic28\", \"Topic28\", \"Topic28\", \"Topic28\", \"Topic28\", \"Topic28\", \"Topic28\", \"Topic28\", \"Topic28\", \"Topic28\", \"Topic28\", \"Topic28\", \"Topic29\", \"Topic29\", \"Topic29\", \"Topic29\", \"Topic29\", \"Topic29\", \"Topic29\", \"Topic29\", \"Topic29\", \"Topic29\", \"Topic29\", \"Topic29\", \"Topic29\", \"Topic29\", \"Topic29\", \"Topic29\", \"Topic29\", \"Topic29\", \"Topic29\", \"Topic29\", \"Topic29\", \"Topic29\", \"Topic29\", \"Topic29\", \"Topic29\", \"Topic29\", \"Topic29\", \"Topic29\", \"Topic29\", \"Topic29\", \"Topic29\", \"Topic29\", \"Topic29\", \"Topic29\", \"Topic29\", \"Topic29\", \"Topic29\", \"Topic29\", \"Topic29\", \"Topic29\", \"Topic29\", \"Topic29\", \"Topic30\", \"Topic30\", \"Topic30\", \"Topic30\", \"Topic30\", \"Topic30\", \"Topic30\", \"Topic30\", \"Topic30\", \"Topic30\", \"Topic30\", \"Topic30\", \"Topic30\", \"Topic30\", \"Topic30\", \"Topic30\", \"Topic30\", \"Topic30\", \"Topic30\", \"Topic30\", \"Topic30\", \"Topic30\", \"Topic30\", \"Topic30\", \"Topic30\", \"Topic30\", \"Topic30\", \"Topic30\", \"Topic30\", \"Topic30\", \"Topic30\", \"Topic30\", \"Topic30\", \"Topic30\", \"Topic30\", \"Topic30\", \"Topic30\", \"Topic31\", \"Topic31\", \"Topic31\", \"Topic31\", \"Topic31\", \"Topic31\", \"Topic31\", \"Topic31\", \"Topic31\", \"Topic31\", \"Topic31\", \"Topic31\", \"Topic31\", \"Topic31\", \"Topic31\", \"Topic31\", \"Topic31\", \"Topic31\", \"Topic31\", \"Topic31\", \"Topic31\", \"Topic31\", \"Topic31\", \"Topic31\", \"Topic31\", \"Topic31\", \"Topic31\", \"Topic31\", \"Topic31\", \"Topic31\", \"Topic31\", \"Topic31\", \"Topic31\", \"Topic31\", \"Topic31\", \"Topic31\", \"Topic31\", \"Topic31\", \"Topic31\", \"Topic31\", \"Topic31\", \"Topic31\", \"Topic31\", \"Topic31\", \"Topic31\", \"Topic31\", \"Topic32\", \"Topic32\", \"Topic32\", \"Topic32\", \"Topic32\", \"Topic32\", \"Topic32\", \"Topic32\", \"Topic32\", \"Topic32\", \"Topic32\", \"Topic32\", \"Topic32\", \"Topic32\", \"Topic32\", \"Topic32\", \"Topic32\", \"Topic32\", \"Topic32\", \"Topic32\", \"Topic32\", \"Topic32\", \"Topic32\", \"Topic32\", \"Topic32\", \"Topic32\", \"Topic32\", \"Topic32\", \"Topic32\", \"Topic32\", \"Topic32\", \"Topic32\", \"Topic32\", \"Topic32\", \"Topic32\", \"Topic32\", \"Topic32\", \"Topic32\", \"Topic32\", \"Topic32\", \"Topic32\", \"Topic33\", \"Topic33\", \"Topic33\", \"Topic33\", \"Topic33\", \"Topic33\", \"Topic33\", \"Topic33\", \"Topic33\", \"Topic33\", \"Topic33\", \"Topic33\", \"Topic33\", \"Topic33\", \"Topic33\", \"Topic33\", \"Topic33\", \"Topic33\", \"Topic33\", \"Topic33\", \"Topic33\", \"Topic33\", \"Topic33\", \"Topic33\", \"Topic33\", \"Topic33\", \"Topic33\", \"Topic33\", \"Topic33\", \"Topic33\", \"Topic33\", \"Topic33\", \"Topic33\", \"Topic33\", \"Topic33\", \"Topic33\", \"Topic33\", \"Topic33\", \"Topic34\", \"Topic34\", \"Topic34\", \"Topic34\", \"Topic34\", \"Topic34\", \"Topic34\", \"Topic34\", \"Topic34\", \"Topic34\", \"Topic34\", \"Topic34\", \"Topic34\", \"Topic34\", \"Topic34\", \"Topic34\", \"Topic34\", \"Topic34\", \"Topic34\", \"Topic34\", \"Topic34\", \"Topic34\", \"Topic34\", \"Topic34\", \"Topic34\", \"Topic34\", \"Topic34\", \"Topic34\", \"Topic34\", \"Topic34\", \"Topic34\", \"Topic34\", \"Topic34\", \"Topic34\", \"Topic34\", \"Topic34\", \"Topic34\", \"Topic34\", \"Topic34\", \"Topic34\", \"Topic34\", \"Topic34\", \"Topic35\", \"Topic35\", \"Topic35\", \"Topic35\", \"Topic35\", \"Topic35\", \"Topic35\", \"Topic35\", \"Topic35\", \"Topic35\", \"Topic35\", \"Topic35\", \"Topic35\", \"Topic35\", \"Topic35\", \"Topic35\", \"Topic35\", \"Topic35\", \"Topic35\", \"Topic35\", \"Topic35\", \"Topic35\", \"Topic35\", \"Topic35\", \"Topic35\", \"Topic35\", \"Topic35\", \"Topic35\", \"Topic35\", \"Topic35\", \"Topic35\", \"Topic35\", \"Topic35\", \"Topic35\", \"Topic35\", \"Topic35\", \"Topic35\", \"Topic35\", \"Topic35\", \"Topic35\", \"Topic35\", \"Topic35\", \"Topic35\", \"Topic35\", \"Topic36\", \"Topic36\", \"Topic36\", \"Topic36\", \"Topic36\", \"Topic36\", \"Topic36\", \"Topic36\", \"Topic36\", \"Topic36\", \"Topic36\", \"Topic36\", \"Topic36\", \"Topic36\", \"Topic36\", \"Topic36\", \"Topic36\", \"Topic36\", \"Topic36\", \"Topic36\", \"Topic36\", \"Topic36\", \"Topic36\", \"Topic36\", \"Topic36\", \"Topic36\", \"Topic36\", \"Topic36\", \"Topic36\", \"Topic36\", \"Topic36\", \"Topic36\", \"Topic36\", \"Topic36\", \"Topic36\", \"Topic36\", \"Topic36\", \"Topic36\", \"Topic36\", \"Topic37\", \"Topic37\", \"Topic37\", \"Topic37\", \"Topic37\", \"Topic37\", \"Topic37\", \"Topic37\", \"Topic37\", \"Topic37\", \"Topic37\", \"Topic37\", \"Topic37\", \"Topic37\", \"Topic37\", \"Topic37\", \"Topic37\", \"Topic37\", \"Topic37\", \"Topic37\", \"Topic37\", \"Topic37\", \"Topic37\", \"Topic37\", \"Topic37\", \"Topic37\", \"Topic37\", \"Topic37\", \"Topic37\", \"Topic37\", \"Topic37\", \"Topic37\", \"Topic37\", \"Topic37\", \"Topic37\", \"Topic37\", \"Topic37\", \"Topic37\", \"Topic37\", \"Topic37\", \"Topic37\", \"Topic37\", \"Topic37\", \"Topic38\", \"Topic38\", \"Topic38\", \"Topic38\", \"Topic38\", \"Topic38\", \"Topic38\", \"Topic38\", \"Topic38\", \"Topic38\", \"Topic38\", \"Topic38\", \"Topic38\", \"Topic38\", \"Topic38\", \"Topic38\", \"Topic38\", \"Topic38\", \"Topic38\", \"Topic38\", \"Topic38\", \"Topic38\", \"Topic38\", \"Topic38\", \"Topic38\", \"Topic38\", \"Topic38\", \"Topic38\", \"Topic38\", \"Topic38\", \"Topic38\", \"Topic38\", \"Topic38\", \"Topic38\", \"Topic38\", \"Topic38\", \"Topic38\", \"Topic38\", \"Topic38\", \"Topic38\", \"Topic38\", \"Topic38\", \"Topic38\", \"Topic38\", \"Topic38\", \"Topic38\", \"Topic39\", \"Topic39\", \"Topic39\", \"Topic39\", \"Topic39\", \"Topic39\", \"Topic39\", \"Topic39\", \"Topic39\", \"Topic39\", \"Topic39\", \"Topic39\", \"Topic39\", \"Topic39\", \"Topic39\", \"Topic39\", \"Topic39\", \"Topic39\", \"Topic39\", \"Topic39\", \"Topic39\", \"Topic39\", \"Topic39\", \"Topic39\", \"Topic39\", \"Topic39\", \"Topic39\", \"Topic39\", \"Topic39\", \"Topic39\", \"Topic39\", \"Topic39\", \"Topic39\", \"Topic39\", \"Topic39\", \"Topic39\", \"Topic39\", \"Topic39\", \"Topic39\", \"Topic39\", \"Topic39\", \"Topic40\", \"Topic40\", \"Topic40\", \"Topic40\", \"Topic40\", \"Topic40\", \"Topic40\", \"Topic40\", \"Topic40\", \"Topic40\", \"Topic40\", \"Topic40\", \"Topic40\", \"Topic40\", \"Topic40\", \"Topic40\", \"Topic40\", \"Topic40\", \"Topic40\", \"Topic40\", \"Topic40\", \"Topic40\", \"Topic40\", \"Topic40\", \"Topic40\", \"Topic40\", \"Topic40\", \"Topic40\", \"Topic40\", \"Topic40\", \"Topic40\", \"Topic40\", \"Topic40\", \"Topic40\", \"Topic40\", \"Topic40\", \"Topic40\", \"Topic40\", \"Topic40\", \"Topic40\", \"Topic40\", \"Topic40\", \"Topic41\", \"Topic41\", \"Topic41\", \"Topic41\", \"Topic41\", \"Topic41\", \"Topic41\", \"Topic41\", \"Topic41\", \"Topic41\", \"Topic41\", \"Topic41\", \"Topic41\", \"Topic41\", \"Topic41\", \"Topic41\", \"Topic41\", \"Topic41\", \"Topic41\", \"Topic41\", \"Topic41\", \"Topic41\", \"Topic41\", \"Topic41\", \"Topic41\", \"Topic41\", \"Topic41\", \"Topic41\", \"Topic41\", \"Topic41\", \"Topic41\", \"Topic41\", \"Topic41\", \"Topic41\", \"Topic41\", \"Topic41\", \"Topic41\", \"Topic41\", \"Topic41\", \"Topic41\", \"Topic41\", \"Topic41\", \"Topic41\", \"Topic42\", \"Topic42\", \"Topic42\", \"Topic42\", \"Topic42\", \"Topic42\", \"Topic42\", \"Topic42\", \"Topic42\", \"Topic42\", \"Topic42\", \"Topic42\", \"Topic42\", \"Topic42\", \"Topic42\", \"Topic42\", \"Topic42\", \"Topic42\", \"Topic42\", \"Topic42\", \"Topic42\", \"Topic42\", \"Topic42\", \"Topic42\", \"Topic42\", \"Topic42\", \"Topic42\", \"Topic42\", \"Topic42\", \"Topic42\", \"Topic42\", \"Topic42\", \"Topic42\", \"Topic42\", \"Topic42\", \"Topic42\", \"Topic42\", \"Topic42\", \"Topic42\", \"Topic42\", \"Topic42\", \"Topic42\", \"Topic42\", \"Topic42\", \"Topic42\", \"Topic43\", \"Topic43\", \"Topic43\", \"Topic43\", \"Topic43\", \"Topic43\", \"Topic43\", \"Topic43\", \"Topic43\", \"Topic43\", \"Topic43\", \"Topic43\", \"Topic43\", \"Topic43\", \"Topic43\", \"Topic43\", \"Topic43\", \"Topic43\", \"Topic43\", \"Topic43\", \"Topic43\", \"Topic43\", \"Topic43\", \"Topic43\", \"Topic43\", \"Topic43\", \"Topic43\", \"Topic43\", \"Topic43\", \"Topic43\", \"Topic43\", \"Topic43\", \"Topic43\", \"Topic43\", \"Topic43\", \"Topic43\", \"Topic43\", \"Topic43\", \"Topic43\", \"Topic43\", \"Topic43\", \"Topic44\", \"Topic44\", \"Topic44\", \"Topic44\", \"Topic44\", \"Topic44\", \"Topic44\", \"Topic44\", \"Topic44\", \"Topic44\", \"Topic44\", \"Topic44\", \"Topic44\", \"Topic44\", \"Topic44\", \"Topic44\", \"Topic44\", \"Topic44\", \"Topic44\", \"Topic44\", \"Topic44\", \"Topic44\", \"Topic44\", \"Topic44\", \"Topic44\", \"Topic44\", \"Topic44\", \"Topic44\", \"Topic44\", \"Topic44\", \"Topic44\", \"Topic44\", \"Topic44\", \"Topic44\", \"Topic44\", \"Topic44\", \"Topic44\", \"Topic44\", \"Topic44\", \"Topic44\", \"Topic44\", \"Topic44\", \"Topic44\", \"Topic45\", \"Topic45\", \"Topic45\", \"Topic45\", \"Topic45\", \"Topic45\", \"Topic45\", \"Topic45\", \"Topic45\", \"Topic45\", \"Topic45\", \"Topic45\", \"Topic45\", \"Topic45\", \"Topic45\", \"Topic45\", \"Topic45\", \"Topic45\", \"Topic45\", \"Topic45\", \"Topic45\", \"Topic45\", \"Topic45\", \"Topic45\", \"Topic45\", \"Topic45\", \"Topic45\", \"Topic45\", \"Topic45\", \"Topic45\", \"Topic45\", \"Topic45\", \"Topic45\", \"Topic45\", \"Topic45\", \"Topic45\", \"Topic45\", \"Topic45\", \"Topic45\", \"Topic45\", \"Topic45\", \"Topic45\", \"Topic46\", \"Topic46\", \"Topic46\", \"Topic46\", \"Topic46\", \"Topic46\", \"Topic46\", \"Topic46\", \"Topic46\", \"Topic46\", \"Topic46\", \"Topic46\", \"Topic46\", \"Topic46\", \"Topic46\", \"Topic46\", \"Topic46\", \"Topic46\", \"Topic46\", \"Topic46\", \"Topic46\", \"Topic46\", \"Topic46\", \"Topic46\", \"Topic46\", \"Topic46\", \"Topic46\", \"Topic46\", \"Topic46\", \"Topic46\", \"Topic46\", \"Topic46\", \"Topic46\", \"Topic46\", \"Topic46\", \"Topic46\", \"Topic46\", \"Topic46\", \"Topic46\", \"Topic46\", \"Topic46\", \"Topic46\", \"Topic46\", \"Topic46\", \"Topic47\", \"Topic47\", \"Topic47\", \"Topic47\", \"Topic47\", \"Topic47\", \"Topic47\", \"Topic47\", \"Topic47\", \"Topic47\", \"Topic47\", \"Topic47\", \"Topic47\", \"Topic47\", \"Topic47\", \"Topic47\", \"Topic47\", \"Topic47\", \"Topic47\", \"Topic47\", \"Topic47\", \"Topic47\", \"Topic47\", \"Topic47\", \"Topic47\", \"Topic47\", \"Topic47\", \"Topic47\", \"Topic47\", \"Topic47\", \"Topic47\", \"Topic47\", \"Topic47\", \"Topic47\", \"Topic47\", \"Topic47\", \"Topic47\", \"Topic47\", \"Topic47\", \"Topic47\", \"Topic47\", \"Topic47\", \"Topic47\", \"Topic48\", \"Topic48\", \"Topic48\", \"Topic48\", \"Topic48\", \"Topic48\", \"Topic48\", \"Topic48\", \"Topic48\", \"Topic48\", \"Topic48\", \"Topic48\", \"Topic48\", \"Topic48\", \"Topic48\", \"Topic48\", \"Topic48\", \"Topic48\", \"Topic48\", \"Topic48\", \"Topic48\", \"Topic48\", \"Topic48\", \"Topic48\", \"Topic48\", \"Topic48\", \"Topic48\", \"Topic48\", \"Topic48\", \"Topic48\", \"Topic48\", \"Topic48\", \"Topic48\", \"Topic48\", \"Topic48\", \"Topic48\", \"Topic48\", \"Topic48\", \"Topic49\", \"Topic49\", \"Topic49\", \"Topic49\", \"Topic49\", \"Topic49\", \"Topic49\", \"Topic49\", \"Topic49\", \"Topic49\", \"Topic49\", \"Topic49\", \"Topic49\", \"Topic49\", \"Topic49\", \"Topic49\", \"Topic49\", \"Topic49\", \"Topic49\", \"Topic49\", \"Topic49\", \"Topic49\", \"Topic49\", \"Topic49\", \"Topic49\", \"Topic49\", \"Topic49\", \"Topic49\", \"Topic49\", \"Topic49\", \"Topic49\", \"Topic49\", \"Topic49\", \"Topic49\", \"Topic49\", \"Topic49\", \"Topic49\", \"Topic49\", \"Topic49\", \"Topic49\", \"Topic49\", \"Topic49\", \"Topic49\", \"Topic50\", \"Topic50\", \"Topic50\", \"Topic50\", \"Topic50\", \"Topic50\", \"Topic50\", \"Topic50\", \"Topic50\", \"Topic50\", \"Topic50\", \"Topic50\", \"Topic50\", \"Topic50\", \"Topic50\", \"Topic50\", \"Topic50\", \"Topic50\", \"Topic50\", \"Topic50\", \"Topic50\", \"Topic50\", \"Topic50\", \"Topic50\", \"Topic50\", \"Topic50\", \"Topic50\", \"Topic50\", \"Topic50\", \"Topic50\", \"Topic50\", \"Topic50\", \"Topic50\", \"Topic50\", \"Topic50\", \"Topic50\", \"Topic50\", \"Topic50\", \"Topic50\", \"Topic50\", \"Topic50\", \"Topic50\", \"Topic50\", \"Topic50\", \"Topic50\", \"Topic50\"]}, \"lambda.step\": 0.01, \"plot.opts\": {\"ylab\": \"PC2\", \"xlab\": \"PC1\"}};\n",
       "\n",
       "function LDAvis_load_lib(url, callback){\n",
       "  var s = document.createElement('script');\n",
       "  s.src = url;\n",
       "  s.async = true;\n",
       "  s.onreadystatechange = s.onload = callback;\n",
       "  s.onerror = function(){console.warn(\"failed to load library \" + url);};\n",
       "  document.getElementsByTagName(\"head\")[0].appendChild(s);\n",
       "}\n",
       "\n",
       "if(typeof(LDAvis) !== \"undefined\"){\n",
       "   // already loaded: just create the visualization\n",
       "   !function(LDAvis){\n",
       "       new LDAvis(\"#\" + \"ldavis_el597231173280598728820573272\", ldavis_el597231173280598728820573272_data);\n",
       "   }(LDAvis);\n",
       "}else if(typeof define === \"function\" && define.amd){\n",
       "   // require.js is available: use it to load d3/LDAvis\n",
       "   require.config({paths: {d3: \"https://cdnjs.cloudflare.com/ajax/libs/d3/3.5.5/d3.min\"}});\n",
       "   require([\"d3\"], function(d3){\n",
       "      window.d3 = d3;\n",
       "      LDAvis_load_lib(\"https://cdn.rawgit.com/bmabey/pyLDAvis/files/ldavis.v1.0.0.js\", function(){\n",
       "        new LDAvis(\"#\" + \"ldavis_el597231173280598728820573272\", ldavis_el597231173280598728820573272_data);\n",
       "      });\n",
       "    });\n",
       "}else{\n",
       "    // require.js not available: dynamically load d3 & LDAvis\n",
       "    LDAvis_load_lib(\"https://cdnjs.cloudflare.com/ajax/libs/d3/3.5.5/d3.min.js\", function(){\n",
       "         LDAvis_load_lib(\"https://cdn.rawgit.com/bmabey/pyLDAvis/files/ldavis.v1.0.0.js\", function(){\n",
       "                 new LDAvis(\"#\" + \"ldavis_el597231173280598728820573272\", ldavis_el597231173280598728820573272_data);\n",
       "            })\n",
       "         });\n",
       "}\n",
       "</script>"
      ],
      "text/plain": [
       "<IPython.core.display.HTML object>"
      ]
     },
     "execution_count": 91,
     "metadata": {},
     "output_type": "execute_result"
    }
   ],
   "source": [
    "pyLDAvis.display(LDAvis_prepared)"
   ]
  },
  {
   "cell_type": "code",
   "execution_count": null,
   "metadata": {
    "collapsed": true
   },
   "outputs": [],
   "source": []
  },
  {
   "cell_type": "code",
   "execution_count": null,
   "metadata": {
    "collapsed": true
   },
   "outputs": [],
   "source": []
  },
  {
   "cell_type": "code",
   "execution_count": null,
   "metadata": {
    "collapsed": true
   },
   "outputs": [],
   "source": []
  },
  {
   "cell_type": "code",
   "execution_count": null,
   "metadata": {
    "collapsed": true
   },
   "outputs": [],
   "source": []
  },
  {
   "cell_type": "code",
   "execution_count": null,
   "metadata": {
    "collapsed": true
   },
   "outputs": [],
   "source": []
  },
  {
   "cell_type": "code",
   "execution_count": null,
   "metadata": {
    "collapsed": true
   },
   "outputs": [],
   "source": []
  },
  {
   "cell_type": "code",
   "execution_count": null,
   "metadata": {
    "collapsed": true
   },
   "outputs": [],
   "source": []
  },
  {
   "cell_type": "code",
   "execution_count": null,
   "metadata": {
    "collapsed": true
   },
   "outputs": [],
   "source": []
  },
  {
   "cell_type": "code",
   "execution_count": null,
   "metadata": {
    "collapsed": true
   },
   "outputs": [],
   "source": []
  },
  {
   "cell_type": "code",
   "execution_count": null,
   "metadata": {
    "collapsed": true
   },
   "outputs": [],
   "source": []
  },
  {
   "cell_type": "code",
   "execution_count": null,
   "metadata": {
    "collapsed": true
   },
   "outputs": [],
   "source": []
  },
  {
   "cell_type": "code",
   "execution_count": null,
   "metadata": {
    "collapsed": true
   },
   "outputs": [],
   "source": []
  },
  {
   "cell_type": "code",
   "execution_count": null,
   "metadata": {
    "collapsed": true
   },
   "outputs": [],
   "source": []
  },
  {
   "cell_type": "code",
   "execution_count": null,
   "metadata": {
    "collapsed": true
   },
   "outputs": [],
   "source": []
  },
  {
   "cell_type": "code",
   "execution_count": null,
   "metadata": {
    "collapsed": true
   },
   "outputs": [],
   "source": []
  },
  {
   "cell_type": "code",
   "execution_count": null,
   "metadata": {
    "collapsed": true
   },
   "outputs": [],
   "source": []
  },
  {
   "cell_type": "code",
   "execution_count": null,
   "metadata": {
    "collapsed": true
   },
   "outputs": [],
   "source": []
  },
  {
   "cell_type": "code",
   "execution_count": null,
   "metadata": {
    "collapsed": true
   },
   "outputs": [],
   "source": []
  },
  {
   "cell_type": "code",
   "execution_count": null,
   "metadata": {
    "collapsed": true
   },
   "outputs": [],
   "source": []
  },
  {
   "cell_type": "code",
   "execution_count": null,
   "metadata": {
    "collapsed": true
   },
   "outputs": [],
   "source": []
  },
  {
   "cell_type": "code",
   "execution_count": null,
   "metadata": {
    "collapsed": true
   },
   "outputs": [],
   "source": []
  },
  {
   "cell_type": "code",
   "execution_count": null,
   "metadata": {
    "collapsed": true
   },
   "outputs": [],
   "source": []
  },
  {
   "cell_type": "code",
   "execution_count": null,
   "metadata": {
    "collapsed": true
   },
   "outputs": [],
   "source": []
  },
  {
   "cell_type": "code",
   "execution_count": null,
   "metadata": {
    "collapsed": true
   },
   "outputs": [],
   "source": []
  },
  {
   "cell_type": "code",
   "execution_count": null,
   "metadata": {
    "collapsed": true
   },
   "outputs": [],
   "source": []
  },
  {
   "cell_type": "code",
   "execution_count": null,
   "metadata": {
    "collapsed": true
   },
   "outputs": [],
   "source": []
  }
 ],
 "metadata": {
  "anaconda-cloud": {},
  "kernelspec": {
   "display_name": "Python 3",
   "language": "python",
   "name": "python3"
  },
  "language_info": {
   "codemirror_mode": {
    "name": "ipython",
    "version": 3
   },
   "file_extension": ".py",
   "mimetype": "text/x-python",
   "name": "python",
   "nbconvert_exporter": "python",
   "pygments_lexer": "ipython3",
   "version": "3.6.0"
  }
 },
 "nbformat": 4,
 "nbformat_minor": 1
}
