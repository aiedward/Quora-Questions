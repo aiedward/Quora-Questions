{
 "cells": [
  {
   "cell_type": "markdown",
   "metadata": {},
   "source": [
    "# Quora Questions with Spacy and Neo4j"
   ]
  },
  {
   "cell_type": "markdown",
   "metadata": {},
   "source": [
    "Now I can combine the use of Spacy and Neo4j to try and make an interesting graph database for analysing the Quora Questions Dataset."
   ]
  },
  {
   "cell_type": "code",
   "execution_count": 1,
   "metadata": {
    "collapsed": false
   },
   "outputs": [],
   "source": [
    "# The usual imports\n",
    "import os, matplotlib, seaborn\n",
    "import numpy as np\n",
    "import pandas as pd\n",
    "import matplotlib.pyplot as plt\n",
    "% matplotlib inline\n",
    "seaborn.set()"
   ]
  },
  {
   "cell_type": "code",
   "execution_count": 2,
   "metadata": {
    "collapsed": false
   },
   "outputs": [],
   "source": [
    "# import the questions dataset\n",
    "q_data = pd.read_csv('data/train.csv')"
   ]
  },
  {
   "cell_type": "code",
   "execution_count": 3,
   "metadata": {
    "collapsed": true
   },
   "outputs": [],
   "source": [
    "def train_dev_test_split(data, a, b, c, seed=1234):\n",
    "    import random\n",
    "    random.seed(seed)\n",
    "    index = list(data.index)\n",
    "    random.shuffle(index)\n",
    "    l = len(index)\n",
    "    ix_train = index[:int(l * a)]\n",
    "    ix_dev   = index[int(l * a):int(l * (1 - c))]\n",
    "    ix_test  = index[int(l * (1 - c)):]\n",
    "    return data.ix[ix_train,:], data.ix[ix_dev,:], data.ix[ix_test,:]"
   ]
  },
  {
   "cell_type": "code",
   "execution_count": 4,
   "metadata": {
    "collapsed": false
   },
   "outputs": [],
   "source": [
    "q_train, q_dev, q_test = train_dev_test_split(q_data, 0.7, 0.2, 0.1)"
   ]
  },
  {
   "cell_type": "markdown",
   "metadata": {},
   "source": [
    "Now I perform all of the processing on the training set, and package this so that it can be performed on the dev and test sets later for validation."
   ]
  },
  {
   "cell_type": "code",
   "execution_count": 5,
   "metadata": {
    "collapsed": false,
    "scrolled": true
   },
   "outputs": [
    {
     "data": {
      "text/html": [
       "<div>\n",
       "<table border=\"1\" class=\"dataframe\">\n",
       "  <thead>\n",
       "    <tr style=\"text-align: right;\">\n",
       "      <th></th>\n",
       "      <th>id</th>\n",
       "      <th>qid1</th>\n",
       "      <th>qid2</th>\n",
       "      <th>question1</th>\n",
       "      <th>question2</th>\n",
       "      <th>is_duplicate</th>\n",
       "    </tr>\n",
       "  </thead>\n",
       "  <tbody>\n",
       "    <tr>\n",
       "      <th>214837</th>\n",
       "      <td>214837</td>\n",
       "      <td>320541</td>\n",
       "      <td>320542</td>\n",
       "      <td>Will projectile weapons ever go obsolete?</td>\n",
       "      <td>Are projectile weapons ever largely going to b...</td>\n",
       "      <td>1</td>\n",
       "    </tr>\n",
       "    <tr>\n",
       "      <th>352538</th>\n",
       "      <td>352538</td>\n",
       "      <td>481451</td>\n",
       "      <td>274326</td>\n",
       "      <td>What is the easiest way to make an atheist bel...</td>\n",
       "      <td>How do I convince an atheist that there is a God?</td>\n",
       "      <td>0</td>\n",
       "    </tr>\n",
       "    <tr>\n",
       "      <th>251562</th>\n",
       "      <td>251562</td>\n",
       "      <td>365705</td>\n",
       "      <td>118438</td>\n",
       "      <td>How do I lose weight in two month?</td>\n",
       "      <td>How do I lose weight in weeks?</td>\n",
       "      <td>0</td>\n",
       "    </tr>\n",
       "    <tr>\n",
       "      <th>294831</th>\n",
       "      <td>294831</td>\n",
       "      <td>416786</td>\n",
       "      <td>416787</td>\n",
       "      <td>Why are onion and garlic considered non-vegeta...</td>\n",
       "      <td>Why do some Hindus avoid onion and garlic in t...</td>\n",
       "      <td>0</td>\n",
       "    </tr>\n",
       "    <tr>\n",
       "      <th>180664</th>\n",
       "      <td>180664</td>\n",
       "      <td>276940</td>\n",
       "      <td>276941</td>\n",
       "      <td>What are the uses of electrophoresis in biology?</td>\n",
       "      <td>Does spirolactone work for acne?</td>\n",
       "      <td>0</td>\n",
       "    </tr>\n",
       "  </tbody>\n",
       "</table>\n",
       "</div>"
      ],
      "text/plain": [
       "            id    qid1    qid2  \\\n",
       "214837  214837  320541  320542   \n",
       "352538  352538  481451  274326   \n",
       "251562  251562  365705  118438   \n",
       "294831  294831  416786  416787   \n",
       "180664  180664  276940  276941   \n",
       "\n",
       "                                                question1  \\\n",
       "214837          Will projectile weapons ever go obsolete?   \n",
       "352538  What is the easiest way to make an atheist bel...   \n",
       "251562                 How do I lose weight in two month?   \n",
       "294831  Why are onion and garlic considered non-vegeta...   \n",
       "180664   What are the uses of electrophoresis in biology?   \n",
       "\n",
       "                                                question2  is_duplicate  \n",
       "214837  Are projectile weapons ever largely going to b...             1  \n",
       "352538  How do I convince an atheist that there is a God?             0  \n",
       "251562                     How do I lose weight in weeks?             0  \n",
       "294831  Why do some Hindus avoid onion and garlic in t...             0  \n",
       "180664                   Does spirolactone work for acne?             0  "
      ]
     },
     "execution_count": 5,
     "metadata": {},
     "output_type": "execute_result"
    }
   ],
   "source": [
    "q_train.head()"
   ]
  },
  {
   "cell_type": "markdown",
   "metadata": {},
   "source": [
    "Now I want to make a neo4j database with all of the questions."
   ]
  },
  {
   "cell_type": "code",
   "execution_count": 6,
   "metadata": {
    "collapsed": true
   },
   "outputs": [],
   "source": [
    "# q_train.to_csv('data/q_train.csv', index=False, encoding='utf-8')\n",
    "# q_dev.to_csv('data/q_dev.csv', index=False, encoding='utf-8')\n",
    "# q_test.to_csv('data/q_test.csv', index=False, encoding='utf-8')"
   ]
  },
  {
   "cell_type": "markdown",
   "metadata": {},
   "source": [
    "I can turn the training data into a graph database."
   ]
  },
  {
   "cell_type": "code",
   "execution_count": 7,
   "metadata": {
    "collapsed": false
   },
   "outputs": [
    {
     "data": {
      "text/html": [
       "<div>\n",
       "<table border=\"1\" class=\"dataframe\">\n",
       "  <thead>\n",
       "    <tr style=\"text-align: right;\">\n",
       "      <th></th>\n",
       "      <th>qid1</th>\n",
       "      <th>qid2</th>\n",
       "      <th>question1</th>\n",
       "      <th>question2</th>\n",
       "      <th>is_duplicate</th>\n",
       "    </tr>\n",
       "    <tr>\n",
       "      <th>id</th>\n",
       "      <th></th>\n",
       "      <th></th>\n",
       "      <th></th>\n",
       "      <th></th>\n",
       "      <th></th>\n",
       "    </tr>\n",
       "  </thead>\n",
       "  <tbody>\n",
       "    <tr>\n",
       "      <th>214837</th>\n",
       "      <td>320541</td>\n",
       "      <td>320542</td>\n",
       "      <td>Will projectile weapons ever go obsolete?</td>\n",
       "      <td>Are projectile weapons ever largely going to b...</td>\n",
       "      <td>1</td>\n",
       "    </tr>\n",
       "    <tr>\n",
       "      <th>352538</th>\n",
       "      <td>481451</td>\n",
       "      <td>274326</td>\n",
       "      <td>What is the easiest way to make an atheist bel...</td>\n",
       "      <td>How do I convince an atheist that there is a God?</td>\n",
       "      <td>0</td>\n",
       "    </tr>\n",
       "    <tr>\n",
       "      <th>251562</th>\n",
       "      <td>365705</td>\n",
       "      <td>118438</td>\n",
       "      <td>How do I lose weight in two month?</td>\n",
       "      <td>How do I lose weight in weeks?</td>\n",
       "      <td>0</td>\n",
       "    </tr>\n",
       "    <tr>\n",
       "      <th>294831</th>\n",
       "      <td>416786</td>\n",
       "      <td>416787</td>\n",
       "      <td>Why are onion and garlic considered non-vegeta...</td>\n",
       "      <td>Why do some Hindus avoid onion and garlic in t...</td>\n",
       "      <td>0</td>\n",
       "    </tr>\n",
       "    <tr>\n",
       "      <th>180664</th>\n",
       "      <td>276940</td>\n",
       "      <td>276941</td>\n",
       "      <td>What are the uses of electrophoresis in biology?</td>\n",
       "      <td>Does spirolactone work for acne?</td>\n",
       "      <td>0</td>\n",
       "    </tr>\n",
       "  </tbody>\n",
       "</table>\n",
       "</div>"
      ],
      "text/plain": [
       "          qid1    qid2                                          question1  \\\n",
       "id                                                                          \n",
       "214837  320541  320542          Will projectile weapons ever go obsolete?   \n",
       "352538  481451  274326  What is the easiest way to make an atheist bel...   \n",
       "251562  365705  118438                 How do I lose weight in two month?   \n",
       "294831  416786  416787  Why are onion and garlic considered non-vegeta...   \n",
       "180664  276940  276941   What are the uses of electrophoresis in biology?   \n",
       "\n",
       "                                                question2  is_duplicate  \n",
       "id                                                                       \n",
       "214837  Are projectile weapons ever largely going to b...             1  \n",
       "352538  How do I convince an atheist that there is a God?             0  \n",
       "251562                     How do I lose weight in weeks?             0  \n",
       "294831  Why do some Hindus avoid onion and garlic in t...             0  \n",
       "180664                   Does spirolactone work for acne?             0  "
      ]
     },
     "execution_count": 7,
     "metadata": {},
     "output_type": "execute_result"
    }
   ],
   "source": [
    "pd.read_csv(\"data/q_train.csv\", index_col='id').head()"
   ]
  },
  {
   "cell_type": "markdown",
   "metadata": {},
   "source": [
    "This problem here is coming up with nice representations of the questions that a model can sink its teeth into. The first step in that regard is to do some cleaning."
   ]
  },
  {
   "cell_type": "code",
   "execution_count": 8,
   "metadata": {
    "collapsed": false
   },
   "outputs": [],
   "source": [
    "qs = list(pd.concat([q_train.question1, q_train.question2]))"
   ]
  },
  {
   "cell_type": "code",
   "execution_count": 9,
   "metadata": {
    "collapsed": false
   },
   "outputs": [
    {
     "data": {
      "text/plain": [
       "['Will projectile weapons ever go obsolete?',\n",
       " 'What is the easiest way to make an atheist believe in god(s)?',\n",
       " 'How do I lose weight in two month?',\n",
       " 'Why are onion and garlic considered non-vegetarian by some Hindus?',\n",
       " 'What are the uses of electrophoresis in biology?',\n",
       " 'Can I hack a Facebook account when I am logged in but don’t have password or email?',\n",
       " 'How can I clear my doubts in quantitative aptitude for banking exams?',\n",
       " 'What do you collect and why?',\n",
       " 'How should I train and eat to get a body like Alexis Ren?',\n",
       " 'What kinds of cells produce antibodies? How are they produced?',\n",
       " 'I want to know all thing related to free body diagram..how to draw fbd of this question and why we drawing reation direction like this?',\n",
       " 'How can I get rid of dark spots on my face?',\n",
       " 'How is it being a JP Morgan Summer Analyst in India?',\n",
       " 'What are the best blogs?',\n",
       " 'What are the greatest contributions of America in literature and culture?',\n",
       " 'What are the most cliche crime thriller plots?',\n",
       " 'What are your Christmas traditions?',\n",
       " 'What are the major theories of Earth science?',\n",
       " 'How many cards are in a deck? Also, how many of each card come in a deck?',\n",
       " 'How do I take pictures with my MacBook?',\n",
       " 'What positions pay/salary of 7 figures or higher with a finance degree?',\n",
       " 'Is there a non-surgical way to permanently and naturally change your voice?',\n",
       " \"I tried uploading a 2 - 3 second video on instagram but it says that the video is too short. Why won't instagram let me upload the video?\",\n",
       " \"How can I get my password back from Facebook if my email address doesn't exist anymore?\",\n",
       " 'How can I approach a guy that I like?',\n",
       " 'Who is the best astrologer?',\n",
       " 'How do I make a question with an \"out of the box\" answer?',\n",
       " 'What are the pros and cons of homeschooling?',\n",
       " 'Boyfriend still has loads of pictures of his ex on Instagram. Should I be upset?',\n",
       " 'I want to sleep on my stomach, but I have a fear that my knees will lock, cutting blood flow and dying. Is this irrational?',\n",
       " 'How do I waste time?',\n",
       " 'How much mark is needed for CSE at BITS Pilani?',\n",
       " 'How do greet when some unknown person meets?',\n",
       " 'Which countries have no official language?',\n",
       " 'What would be the best book to begin with for Java?',\n",
       " 'What is the price of a used 4k black magic cinema camera?',\n",
       " 'How do I increase the visibility of my comments on Quora?',\n",
       " 'Is it possible to have ovulate 2 times in 1 month?',\n",
       " 'Was \"Hello\" the name of Alexander Graham Bell\\'s wife?',\n",
       " 'I have a Delhi state OBC certificate (jat). Is it valid?',\n",
       " 'What will happen when earth will be destroyed?',\n",
       " 'What is Hillary Clinton like in private?',\n",
       " 'What are your views on donald Trump and his strategies to make America great again?',\n",
       " 'How do I set timeout for http post request using CFHTTPMessageSetHeaderFieldValue?',\n",
       " 'What is the difference between infatuation & love?',\n",
       " 'What type of induction motor is used in table fan?',\n",
       " \"How can I increase my height I am 5'2 and 13 years old?\",\n",
       " 'Is ulwe a smart city?',\n",
       " 'Were Arjun and Subhadra cousins? If so, how was their marriage possible?',\n",
       " 'What is resistive touchscreen and capacitive?',\n",
       " 'Is it plausible to lose 75 pounds in 2 months?',\n",
       " 'What is your language exchange experience on Lang-8?',\n",
       " 'What are the pros and cons of Google SDK vs Mapbox and Foursquare API on iOS?',\n",
       " 'What if I didnt give deworming tablet to my dog since 9 months and how to restart the procedure?',\n",
       " 'What is 45minuteswealth.com?',\n",
       " 'Is sector 4 noida safe for girls?',\n",
       " 'What is a vertical line?',\n",
       " 'What is it like to be trapped in a flood?',\n",
       " \"I do ejaculate very early when I am having sex, and I can not have another course of sex again in time. What's wrong with me?\",\n",
       " 'Who can possibly win the debate against Dr. Zakir Naik?',\n",
       " 'What are some good books for Learning Algorithms?',\n",
       " 'What does an Art Director in movies do?',\n",
       " 'How is it to be raised by gay parents?',\n",
       " 'What are good developer centric startups to work in India?',\n",
       " 'What is the best book to read to learn Java?',\n",
       " \"Why don't we still do great music like in the 70's and 80's?\",\n",
       " 'Which is a good solar panel installation provider near Camp Verde, Arizona AZ?',\n",
       " 'What are the best pictures that showcase acceptance?',\n",
       " 'What are the functions of plant cells?',\n",
       " 'How is the work culture at ICICI bank?',\n",
       " 'Why do most Indians dislike Barkha Dutt and Ravish Kumar?',\n",
       " 'How much tax does fawad Khan pay to Pakistan?',\n",
       " 'Which is your favorite movie?',\n",
       " \"I'm looking for a keyboard to compose orchestrated music. I don't plan to go gigging. Currently I'm leaning towards the roland ds88. Any suggestions?\",\n",
       " 'What are the advantages of K-Means clustering?',\n",
       " 'Which railway waiting list ticket gets confirmed first -the Tatkal or the General wait list?',\n",
       " 'How do I drive my manual transmission downhill?',\n",
       " 'Can I score 10 CGPA in class 10 if I got 8.2 CGPA in SA1?',\n",
       " 'How does a ZIP code work?',\n",
       " 'How do you overcome anxiety, mild depression, and over worrying about what other people think of you simultaneously without the use of medications?',\n",
       " 'Why does my dog lick my cat?',\n",
       " 'Why is the laptop touchpad not working? How do I fix it?',\n",
       " 'How do you display PDF files inside an Android application instead of loading in WebView by appending PDF URL with a Google DOCs Url and launching a third party PDF rendering application installed in the device? Are there any good free PDF rendering libraries available?',\n",
       " 'What are the best weight loss foods?',\n",
       " 'What form of religion would aliens in other planets have?',\n",
       " 'What is the meaning of eating in a dream?',\n",
       " \"What is the world's highest-resolution photograph?\",\n",
       " 'How do I know if I found the one?',\n",
       " 'Who is the fiancé minister of India?',\n",
       " 'Is EagerPanda dead?',\n",
       " 'What can I do to improve communication skills?',\n",
       " 'Does radio work as an effective device that provides information for students?',\n",
       " 'What is your view about life?',\n",
       " 'How can Costco survive with 10% gross margins?',\n",
       " 'Why does ground smell after it rains?',\n",
       " 'Wanna know about a Hollywood movie in which Ghost awake because they start shooting an abandoned movie n to kill that ghost they burn that movie reel?',\n",
       " 'What should I look for if I am interested in setting up a new business in Australia and whom should I connect with?',\n",
       " 'How do you fill out music copyright forms for works with two producers?',\n",
       " 'What are some of your favourite anime movies?',\n",
       " 'What is the best way to promote a website in India?',\n",
       " 'Is it possible to restore an iPhone back to factory defaults without the use of iTunes?',\n",
       " \"What is the importance of education to the United States and how are their views of education different from Denmark's?\",\n",
       " 'Am I a competitive candidate for the London School of economics?',\n",
       " 'What does it take to be an effective lecturer or teacher?',\n",
       " 'Can I upgrade my Note 3 to Lollipop?',\n",
       " 'How do I know if my wife has been faithful?',\n",
       " \"What's the difference between Java and Java script?\",\n",
       " 'What is the correct pronunciation of the word qarrtsiluni ?',\n",
       " 'How can you design a homemade Miss Frizzle Halloween costume?',\n",
       " 'Is Thomas Edison State College nationally accredited?',\n",
       " 'When was the snooze button first incorporated into alarm clocks?',\n",
       " 'Why do metals appear to feel colder than other stuff like wood or plastic?',\n",
       " \"How did the Commercial Revolution impact Europe's economy?\",\n",
       " 'Who is the girl on the homepage of brazzers?',\n",
       " 'Do you know Janet Frizzell?',\n",
       " 'Why should people switch to LED bulbs?',\n",
       " \"What is RetailNext's business model?\",\n",
       " 'Has anyone ever seen a ghost in real life?',\n",
       " 'How can I grow long, curly hair?',\n",
       " 'What is the best way to loose weight quickly?',\n",
       " 'What are the main differences between turtle and tortoise?',\n",
       " 'What is the best bunn coffee grinder?',\n",
       " 'Filipinos who speak Japanese: Where did you study Japanese? Did you take the Japanese Language Proficiency Test?',\n",
       " 'What will be different about bananas in the UK after it exits the EU?',\n",
       " 'How do I write a press release?',\n",
       " 'Which country is best for an MBA: the USA or Canada?',\n",
       " 'How can I easily prepare for the Oracle 1Z0-432 exam?',\n",
       " 'How can I estimate the power generator required to charge 4 no 12v 200Ah batteries connected in parallel?',\n",
       " 'How many species of giraffes are there?',\n",
       " 'How much salary do IIT professors get?',\n",
       " 'What are the most popular misconceptions about the Soviet Union?',\n",
       " 'What were the daily habits Bruce Lee followed?',\n",
       " \"What is a goood answer to 'Why should I not hire you?'\",\n",
       " 'What is the best book on lean startups?',\n",
       " 'How much will it cost to put up a radio station in Vijayawada?',\n",
       " 'How should I think if I want to do everything?',\n",
       " 'What skills do self-taught real investors commonly lack?',\n",
       " 'Would people pay me $1000 to pothole patch 1 mile of road?',\n",
       " 'Are you a believer in ghosts?',\n",
       " 'Why do schools spend so much on athletics?',\n",
       " 'How do I become rich at the age of 13?',\n",
       " 'Can I skip electric and magnetic phenomena for jee main physics?2k17',\n",
       " 'Can I use earbuds to chat on Xbox one?',\n",
       " 'I am 24. Is it too late to get into medicine?',\n",
       " 'Between Georgetown and Melaka, Which one do you prefer and why?',\n",
       " 'Is salt water a compound or mixture?',\n",
       " 'What will be the impact of demonetization in India?',\n",
       " 'Can anyone give me a brief insight on Uk Actuarial Science and how many papers are there to clear ?',\n",
       " 'What is unusual or different about the food and cuisine in China?',\n",
       " 'What is it like to study history at Oxford?',\n",
       " \"How do you know when it's time to let a relationship go?\",\n",
       " 'Why are all the payment gateways built using Java and not PHP?',\n",
       " 'How does the XNXX virus harm a computer?',\n",
       " 'How many atheletes from India have won medals in the Olympics to-date?',\n",
       " 'What should I have for lunch?',\n",
       " 'What country took the lead in European exploration?',\n",
       " 'Is it possible to lose 3kg in 3 days?',\n",
       " 'Why do scores for the TOEFL exam expire in 2 years?',\n",
       " 'How did you celebrate your 30th birthday?',\n",
       " \"How can I get an edu email if I'm not a student?\",\n",
       " 'How can I start learning and doing programming again?',\n",
       " 'How can you describe what is popular sovereignty?',\n",
       " 'What is the best book for CDS (OTA) exam.?',\n",
       " \"What's darker than black?\",\n",
       " 'Is Delhi a state, a city or a Union Territory (UT)?',\n",
       " 'Have you ever been angry with God?',\n",
       " 'What causes vitamin C deficiency in guinea pigs?',\n",
       " \"Why didn't Ratan Tata get married?\",\n",
       " 'What is the strangest thing that happened to you as a foreigner in China?',\n",
       " 'Someone explain why my spring airsoft sniper rifle (Accuracy International replica L96) is skewing or curving to the right when I shoot long range?',\n",
       " 'How do you search for answers on Quora?',\n",
       " 'Is Mormonism the true religion?',\n",
       " 'What\\'s the meaning behind \"True Colors\" by Cyndi Lauper?',\n",
       " 'What is the CIF Harare price of PEC2540 diesel engine crusher Zimbabwe?',\n",
       " 'How can a non native English speaker get better at writing articles and books?',\n",
       " 'My dad is a Brahmin and my mom is Forward caste. Am I considered Brahmin, semi-Brahmin or non-Brahmin?',\n",
       " 'What is the Lewis Dot Structure for BeCI2?',\n",
       " 'What are some things new employees should know going into their first day at AMETEK?',\n",
       " 'Is the climate an hoax?',\n",
       " 'Who is the best actor of Bollywood now?',\n",
       " 'Do entrepreneurs leave US to find better opportunities abroad?',\n",
       " 'TensorFlow (open source s/w library): For a CS & ML novice what does it mean for TensforFlow to have the ability to support distributed computation across machines?',\n",
       " 'How much does a haircut change your look?',\n",
       " 'What are Muslims’ opinions on Buddhism?',\n",
       " 'What is a quantitative user experience researcher position and how is it similar to or different from a data scientist?',\n",
       " 'What are some of the best Virat Kohli and Anushka Sharma memes/jokes?',\n",
       " 'How can I take screenshots on Snapchat without letting the poster know?',\n",
       " 'How do I make green tea?',\n",
       " 'Is Equatorial Guinea really rich?',\n",
       " 'What are acidic salts? What are some examples?',\n",
       " 'What is negative interest rate?',\n",
       " 'What can hackers do?',\n",
       " 'You have 4.196 seconds to live, what will you think about?',\n",
       " 'What are your views on iaioa.com?',\n",
       " 'What do the colors represent on the Mexican flag?',\n",
       " 'Why did Jack Nicholson show his dick in The Departed?',\n",
       " 'Should I take a trip or save the money?',\n",
       " 'What was the significance of the battle of Somme, and how did this battle compare and contrast to the Battle of Rutterdam?',\n",
       " 'Travis a scottish band - have they been to India on tours?',\n",
       " 'How many episodes of Naruto Shippuden are English dubbed?',\n",
       " 'Are there cottonmouth snakes in Virginia?',\n",
       " 'Which compiler is best for C++ beginner?',\n",
       " 'Can saudis visit or live in russia safely?',\n",
       " 'Why men watch porn?',\n",
       " 'How many states are there in the United States?',\n",
       " 'Where should I start to become a Data Analyst?',\n",
       " 'Could you help me answer this math question?',\n",
       " 'What are the pleural membranes for?',\n",
       " 'What are cultural faux pas?',\n",
       " 'UNESCO stands for?',\n",
       " 'Why do some people still think the Earth is flat?',\n",
       " 'What is your review of Parasakthi (1952 Indian Tamil drama film stars Sivaji Ganesan)?',\n",
       " 'Can a psychopath fall in love?',\n",
       " 'Hw true is that if someone starts a business with usd100k can get american citizenship',\n",
       " 'How and where do I find a girlfriend?',\n",
       " 'How do I deal with my brother graduating from university after a year and only play games all day?',\n",
       " 'How much did the guy who got into JBIMS for marketing with poor academics score in MHCET MMS?',\n",
       " 'Jio money charges to transfer money to bank?',\n",
       " 'Is studying animation in Japan a good idea? Will I actually learn something, or will it be the same as people in America who go to a for-profit school?',\n",
       " 'Indian Railways: What are the chances of Tatkal waiting ticket to get confirmed (if it is only 10)?',\n",
       " 'What are the fastest ways to increase height?',\n",
       " 'What is a good Node js workflow, editor tools & framework?',\n",
       " 'Was Jawaharlal Nehru a Muslim?',\n",
       " 'What is your favorite novel genre?',\n",
       " 'How far back has there been human occupation at Pedra Furada in Brazil and where did they come from?',\n",
       " 'What is a way to make money online?',\n",
       " 'Do you require landline connection for hathway internet connection?',\n",
       " 'Can hookah make you throw up?',\n",
       " 'How can we use programming in our daily life?',\n",
       " 'How can I improve my writing skills to become a better writer?',\n",
       " 'Which is correct: \"my sister and I\" or \"me and my sister\"?',\n",
       " 'What trousers look best with a navy blue shirt?',\n",
       " \"What's the best thing about you?\",\n",
       " 'What are the primary tasks of SEO client development?',\n",
       " 'What will happen to Star Wars: Episode 8 now that Carrie Fisher (Leia) has died?',\n",
       " \"If I click on someone's Twitter account, can they see that I viewed them?\",\n",
       " \"What is a 'map' or 'mapping' in mathematics and language?\",\n",
       " 'Which cream is réally glow the mens face?',\n",
       " 'How do I sell photos on the Internet?',\n",
       " 'Who are the reputed residential real estate developers in Bengaluru, India?',\n",
       " 'Which is the best business to do in India with less investment for youth?',\n",
       " 'How can I prepare to be a successful fashion designer?',\n",
       " 'Where can I find a good, honest research persons in Delhi?',\n",
       " \"What's mutual fund and what are the pros and cons?\",\n",
       " 'If we replace electromagnet by permanent magnet in motor, will motor work (without electricity)?',\n",
       " 'What is One Fitness?',\n",
       " 'Is it possible for gene therapy to change hair colour?',\n",
       " 'When should one start preparation for IAS?',\n",
       " 'How does Facebook show unknown and unrelated people in the suggested friends list, even though there are no mutual friends?',\n",
       " 'How can I specifically improve my English?',\n",
       " \"I'm 17 year old my height is 5 feet 4 inch and my weight 50 kg what should I do to gain weight?\",\n",
       " 'I used a fake email and phone number for Snapchat and I forgot my password how can I get it back?',\n",
       " 'Is String Theory untestable and will it always be? How could we practically test it?',\n",
       " 'How can I sync my Galaxy 4 contacts, notes and calendars with Outlook?',\n",
       " 'What role did the media play in influencing the outcome of the 2016 presidential election (if any)?',\n",
       " 'Will Donald Trump be hosting a Q&A in Quora session? When?',\n",
       " 'Why is Diwali celebrated in the White House, but Eid is not?',\n",
       " 'What are the job opportunities if I am fresher m.tech mechanical engineer?',\n",
       " 'What business should I start with a $100k investment?',\n",
       " 'What actor would play you in a movie about your life?',\n",
       " 'What are some movies about loneliness and alienation?',\n",
       " 'What is oxidation process?',\n",
       " 'Is 173 cms (5\\'8\")  short for a guy?',\n",
       " 'What is time travel theory?',\n",
       " \"Why don't you allow people from commenting on your answers?\",\n",
       " 'What do people think of Dubai?',\n",
       " 'What rhymes with orange?',\n",
       " 'What should I do while visiting Singapore?',\n",
       " \"What is there in two girls' friendship that boys adore the most?\",\n",
       " 'What is the best philosophy of life?',\n",
       " 'I broke up for 6 months now and discovered that my ex girlfriend was sleeping with a friend of hers while we were apart. Why am I upset?',\n",
       " 'Why was Cyrus Mistry removed as the chairman of Tata Sons?',\n",
       " 'What are the advantages and disadvantages of having a tattoo?',\n",
       " 'What should we do to be best software developer?',\n",
       " 'If a president-elect is assassinated before taking office, does the president-elect’s VP become president, or the next best candidate in the polls?',\n",
       " 'What is capital market segment?',\n",
       " 'What are some websites that teach hacking for free?',\n",
       " \"Is it acceptable to give your two weeks' notice immediately after returning from vacation?\",\n",
       " 'What are important things for people intending to major in forestry to know about?',\n",
       " 'What happens if the Earth revolves 1.5 times faster?',\n",
       " 'What are examples of input devices?',\n",
       " 'What work is done in google?',\n",
       " 'App request: could someone make a packet-switching app for cell-phones to create a mobile internet?',\n",
       " 'What is the relationship between Saraswati and Brahma?',\n",
       " 'How did god come into existence out of nothing?',\n",
       " 'Which is the best gift for wife on Karva Chauth?',\n",
       " 'Which film will you watch on 12th August 2016: Rustom or Mohenjo Daro?',\n",
       " 'What is the best way to lock a door that has no lock?',\n",
       " 'Phrase Origins: Where did the saying \"that\\'s what she said\" come from?',\n",
       " 'What exactly is \"print it modulo 10^9 + 7\" in competitive programming websites?',\n",
       " \"I messaged someone on Facebook and it's been sent, not delivered. The problem is, the person has gone online. What is going on?\",\n",
       " 'How does hydrochloric acid act as a catalyst when brought into the iodine clock reaction?',\n",
       " 'How realistic is it to get a good petroleum engineering job around the Twin Cities in Minnesota?',\n",
       " 'Can anyone find out who I voted for?',\n",
       " 'How do I stop procrastinating my study?',\n",
       " 'How are demand drafts processed and settled?',\n",
       " \"What's the difference between Post-structuralism and structuralism?\",\n",
       " 'Is Donald Trump fit to be the President of the United States? Why or why not?',\n",
       " 'Did Neil Armstrong really go to the Moon or NASA had faked the Moon landings?',\n",
       " 'What does that mean to you if someone says you are just like a monkey?',\n",
       " \"What are the gang related rules in women's prison?\",\n",
       " 'How do I download SQL*Plus for Windows?',\n",
       " 'What is Melania Trump like in person?',\n",
       " 'Which country is predicted to win the most gold medals at the 2016 Olympic games?',\n",
       " 'What is one thing you will never do again?',\n",
       " 'Who are the most uneducated actors/actresses from India?',\n",
       " 'Is it bad to add cold water on a hot pan?',\n",
       " 'Following script, (ɖ∀ཡز∂ ɐŧ ƫҿϞɮ☉ ɽφʉʛƕ),look like written Greek?',\n",
       " 'Does advertising makes markets less competitive or more competitive?',\n",
       " 'When Concorde accelerated to supersonic speeds, were passengers able to feel the the acceleration?',\n",
       " 'What are the major differences between Chinese and Western cultures?',\n",
       " 'Is the pen mightier than the sword?',\n",
       " 'Get cheAP flight TICKET in India?',\n",
       " 'Who will win this presidential elections 2016?',\n",
       " 'Is Putin smarter than Obama?',\n",
       " 'Where can I learn about cosmetic science?',\n",
       " 'Why do we give gifts at Christmas?',\n",
       " 'What will over dose sleep pills will do to man?',\n",
       " \"I am a Microbiology student under Calcutta University. I could not study well and I am sure, I'll fail in my Part1 what should I do?\",\n",
       " 'What is the eligibility for GRE?',\n",
       " 'Is humanity destined to doom?',\n",
       " 'How can I write essays if I have no personal opinions on anything?',\n",
       " 'What is the rate of dollars against rupee?',\n",
       " 'How does sulfuric acid react with copper oxide?',\n",
       " 'I have smoked 5 cigarettes a day for the last 2 years. Am I already at risk for cancer?',\n",
       " 'Is there anything permanent in this world?',\n",
       " 'How can I take preparation for a global graduate program of an apparel company?',\n",
       " 'Should I start learning web development?',\n",
       " 'Why is the direction of flow of electrons opposite to the direction of flow of electric current?',\n",
       " 'Which business can we start in towns?',\n",
       " 'What should I ask my client when building a website?',\n",
       " 'Why do squirrels eat so fast?',\n",
       " 'Dating a married women what should I do?',\n",
       " 'What is means love?',\n",
       " 'Did anyone notice the inequality of standards put on Hillary compared to Trump?',\n",
       " 'How does the Cisco IP phone work?',\n",
       " 'Does AT&T provide 24 hour customer service for their Internet subscribers?',\n",
       " 'Do people have the option to pay more tax than they need to?',\n",
       " 'Who was Richard Feynman?',\n",
       " 'Could you lose weight by eating more fruits?',\n",
       " 'What is fungal infection?',\n",
       " 'How do I apply for a PAN card online?',\n",
       " \"He has a girlfriend but he always spends most of his time with me and doesn't even want to talk about her. Says I'm the one he loves. Whatdoesitmean?\",\n",
       " 'What are some things new employees should know going into their first day at Ligand Pharmaceuticals?',\n",
       " \"When I suck my boyfriend's dick it starts to soften. I often apply Nutella over it. What should I do to suck it for a long time?\",\n",
       " 'How do protein shakes help me lose weight?',\n",
       " 'Do fathers have unconditional love?',\n",
       " 'What will be the effect of banning 500 and 1000 Rs notes on real estate sector in India? Can we expect sharp fall in prices in short/long term?',\n",
       " \"What's the difference between the minimum due amount and the total due amount on a credit card statement?\",\n",
       " 'What is a way to obtain a blacklist of porn site URLs?',\n",
       " 'How do you cook with mustard oil?',\n",
       " 'What is the relationship between work done and kinetic energy?',\n",
       " 'How much electricity (units) is used by 1.5 ton split AC?',\n",
       " 'What are some good stories about books?',\n",
       " 'Are both type 1 and type 2 diabetes patients at the risk of death?',\n",
       " 'Where can you find the best Binary Options trading Systems?',\n",
       " \"Why there is No Indian cricketer in Geoffrey Boycott's all-time XI?\",\n",
       " 'Has anyone living in india seen a UFO?',\n",
       " 'Why is Britain making a closer relationship with India after brexit of all other countries?',\n",
       " 'Do Skullcandy headphones come with built-in volume control?',\n",
       " 'What exactly is offensive in saying \"Bharat mata ki Jai\" that makes some people refuse to say it?',\n",
       " 'How do I find God?',\n",
       " 'Is there any way how to improve my life?',\n",
       " 'Could I be pregnant if my period is brown?',\n",
       " 'How can I hitchhike through Europe?',\n",
       " 'Why do ADHD meds make me sleepy?',\n",
       " 'What are some ways to make the world a better place and how can we all contribute to that?',\n",
       " 'How do I recover my Gmail account password without a recovery email (forgot) or the security question when 2 step verification code is turned on?',\n",
       " 'What is the need of oxidation number?',\n",
       " 'What are the differences between a girl and a lady?',\n",
       " 'How can you tell if a professional liar is lying?',\n",
       " 'How do I prepare for aakash aiats?',\n",
       " 'Why are organic chemistry tasks hard to do?',\n",
       " 'How will a girl know if the boy she fancies or any other random boy likes her?',\n",
       " 'Is one year sufficient for CAT preparation?',\n",
       " 'What is the exact business model of Uber in India?',\n",
       " 'How can I get jobs as a mechanical engineer?',\n",
       " 'In the American Wild West era, what would have been the best way to defend a wagon train against attack and robbery?',\n",
       " 'When does a theory become the New Theory?',\n",
       " 'What is Illuminati?',\n",
       " 'What is the annual salary of a marketing manager in India?',\n",
       " 'What is your opinion on incest?',\n",
       " 'Has there ever been, in all of history, any time and place where Jews were safe from persecution?',\n",
       " 'What is the best platform to build an e-commerce website in India?',\n",
       " 'What is the best laptop under Rs.60000 in India?',\n",
       " 'Does the MMR vaccine cause autism?',\n",
       " 'What would be the next step up from quantum computers?',\n",
       " 'How can we use 100% of our brain?',\n",
       " 'What is the best Microsoft program in history?',\n",
       " 'China: Why in China is the old man dating a younger women so pervasive?',\n",
       " 'How many earthquake measuring station are there India?',\n",
       " 'What are some mechanical advantage examples?',\n",
       " 'Who is more powerful in India, president or prime minister?',\n",
       " 'What is difference between residue and error?',\n",
       " 'Is eating oats and milk every day for breakfast healthy?',\n",
       " 'Politics: What is the difference between Conservative, Liberal, Centrist, Leftist, Right Wing Parties in the modern world?',\n",
       " \"Do UC's look for improvement?\",\n",
       " 'Which are the best SEO companies in Delhi?',\n",
       " 'Why can a database table have only one primary key?',\n",
       " 'How could you decrease the speed of light?',\n",
       " 'Can a boy who is a doctor marry an engineer girl?',\n",
       " \"What's the difference between analogy, metaphor and simile?\",\n",
       " 'How can I download a YouTube video in full 1080p HD?',\n",
       " 'How many years does it take to become a CA?',\n",
       " 'What does Robert Kubica do for living now?',\n",
       " 'What is the difference between DHMS and BHMS? Which one is better?',\n",
       " 'How does Baba Ramdev run a yoga island in Glasgow, Scotland?',\n",
       " 'Is CO2 polar or nonpolar?',\n",
       " 'What is the best Hadoop training center in Chennai?',\n",
       " 'Is peer pressure harmful or beneficial to students and individuals at large?',\n",
       " 'Why does Dante put Ulysses in hell?',\n",
       " 'What are the properties of orthoboric acid?',\n",
       " \"I hope you're having fun?\",\n",
       " 'How much data does a YouTube video consume?',\n",
       " 'What is the salary of a junior copywriter in India?',\n",
       " 'What is the true definition of democracy?',\n",
       " 'What does \"economic equity\" mean? What are some examples?',\n",
       " 'What are the shopping sites in india where I can buy from USA and pay in india in NR?',\n",
       " 'What is the \"AP\" format?',\n",
       " 'Are there any natural method to make water sticky or hard?',\n",
       " 'Why did RBI introduce 2000 rupee notes?',\n",
       " 'Can anyone be an entrepreneur? What does it take?',\n",
       " 'What is the evolutionary significance of computers and how has it changed modern society?',\n",
       " 'Who really did frame Roger Rabbit?',\n",
       " 'What movie can you watch all the time and never get tired of watching?',\n",
       " 'Should I end my affair with my married man?',\n",
       " 'What causes body odour?',\n",
       " 'Is Hinduism the worst religion when we talk about social equality?',\n",
       " 'What can I do to add weight?',\n",
       " 'How is National Institute of Bank Management. How much intake they take and how much cat percentile required?',\n",
       " 'What are some cool YouTube usernames?',\n",
       " 'If the sun was a pebble how far would it be from pluto?',\n",
       " 'What are the best headhunters in Mexico?',\n",
       " 'What are some ways to put underline and Bold text in Facebook Chat? As previously we can do this by putting text in between underscore(_) and asterisk(*) for underline and bold text respectively?',\n",
       " 'What will be the implications on Earth if there was / will be no moon?',\n",
       " 'What is the best way to get free traffic to my website?',\n",
       " 'Which are the Best architecture colleges in India?',\n",
       " 'What is Universalhunt.com?',\n",
       " 'What is the best way to deal with someone who has a histrionic personality disorder?',\n",
       " 'How do I reset my gmail password when I forgot without phone number and recovery mail?',\n",
       " 'What should I do for belly fat?',\n",
       " \"How much did Courteney Cox (Monica Geller) weigh in this picture (she's really skinny)? What do you think?\",\n",
       " 'What is your review of Hai Preet Jahan Ki Reet Sada (Hindi Song)?',\n",
       " 'What would happen to the Philippines if the UN, USA, EU, UK stops supporting it?',\n",
       " 'Has the Suzuki ciaz passed the Euro NCAP crash test?',\n",
       " 'How much would it cost to construct 1240 sqft area RCC slab?',\n",
       " 'How can you learn faster and better?',\n",
       " 'Are there more colors in a rainbow than the seven usually mentioned?',\n",
       " 'What are some mind-blowing facts about Punjab?',\n",
       " 'What are the strengths and weaknesses of the advising system at Indiana Wesleyan University?',\n",
       " 'How does the new change of elimination of master’s degree exemption impact the H-1B holders and H-1B applicants?',\n",
       " 'How should I plan my bike trip from Chennai to goa?',\n",
       " 'Why do architects use pens to draw?',\n",
       " 'Fruit: Where can I buy soursop (guanabana) in the United States?',\n",
       " \"Why can't we see the other side of the moon, and what is on the other side?\",\n",
       " 'How would you describe Christianity in three words?',\n",
       " 'What are some of the most mind-blowing facts about Finland?',\n",
       " 'What was the Japanese song sung by the red pandas in the movie Sing?',\n",
       " 'Should we give property to those buyers who are in cyclic debt?',\n",
       " \"What were the big announcements at Facebook's f8 conference in 2010?\",\n",
       " 'Is IBM India GBS GB band 7B equivalent to Accenture Technology India Career level 8?',\n",
       " 'How does an Apple shareholder attend the annual meeting?',\n",
       " 'How does Facebook Games make money and how can we make money from Facebook by games?',\n",
       " 'Car are designated like this sometimes \"1.0 litres\" or \"2.5 litres\" .what does it mean?',\n",
       " \"Who's your favourite Walking Dead character?\",\n",
       " 'Do you have to be intelligent to be intelligent?',\n",
       " 'Who painted this piece of art?',\n",
       " 'Why don’t girls fall for the nice guy?',\n",
       " 'Whether extension of CA-articleship is to be served at same firm/company?',\n",
       " 'How do I maintain creatinine levels naturally in diabetic patients?',\n",
       " 'Is it possible to get into the good IIMs having 55% marks in grad and a very high CAT score?',\n",
       " 'Is it possible for God to prove he does not exist?',\n",
       " 'What is the purpose of the rotating tower in Dubai?',\n",
       " 'What strikes first time visitors as special or unusual when they arrive in Erode, Tamil Nadu, India?',\n",
       " 'How can I stop feeling that old at my 26?',\n",
       " 'When will India legalize homosexuality?',\n",
       " 'What are Ten things president Trump will do in the first 100 days?',\n",
       " 'How do start preparation for IAS?',\n",
       " 'What is the average salary of IIM Lucknow?',\n",
       " 'What makes a mobile app so addictive?',\n",
       " 'Can I pass a urine test for meth in 56 hrs?',\n",
       " 'Is there option of \"save site as template\" in SharePoint online?',\n",
       " 'What are some good martial arts anime?',\n",
       " 'Before Copernicus, Mythology of Greek God Atlas carrying the world existed. So did the painters/sculptors depict earth as a spherical or flat land?',\n",
       " 'Why do rich people like to play golf?',\n",
       " 'How do I start from the scraps in an online business?',\n",
       " 'About how many notifications do you receive on Quora in a week?',\n",
       " 'What is efficiency seeking FDI? And what are some examples?',\n",
       " 'Can blackwhole be the \"third eye\" of lord Shiva?',\n",
       " 'How do I loose weight fast?',\n",
       " 'What programming language would be ideal to learn first for a beginner?',\n",
       " 'How differently are wheat flour and white flour process?',\n",
       " 'What are some of the best books on behavioral economics?',\n",
       " 'What are the best books for Mathematics (Conceptually and Numerically) to prepare for GATE exam?',\n",
       " 'Why is it impossible for physicists to understand in a double slit experiment it is the dark matter that waves?',\n",
       " 'How did yoga help you?',\n",
       " 'Do I have to be a super-genius to get into RSI?',\n",
       " 'How can I study efficiently?',\n",
       " 'What did the QR Codes in Alipay do during an e-wallet transaction?',\n",
       " 'How much money does Mukesh Ambani carry?',\n",
       " 'What do you think of the decision by the Indian Government to demonetize 500 and 1000 rupee notes?',\n",
       " 'The more you care, the more you have to lose. How true is it?',\n",
       " 'I want to learn to be a DJ without computer softwares. What should I buy?',\n",
       " \"Item-based collaborative filtering prediction doesn't add up?\",\n",
       " 'How to get rid of a boil under my armpit?',\n",
       " 'What is the best smartphone for 2016?',\n",
       " 'How will real estate prices be affected in India after banning of 500 and 1000 rupees notes?',\n",
       " 'What is difference between impact factor and load factor?',\n",
       " 'What is it like to be in live-in relationship in abroad?',\n",
       " 'Do I have to pay for open courses on edx or it is free?',\n",
       " 'How can you become a travel agent?',\n",
       " 'How do I change my life by the \"20 minutes rule\"?',\n",
       " 'Capital gain tax..is deducted at source ir we havto pay extensively?',\n",
       " 'What have you created with C#?',\n",
       " \"How do I reset my Gmail password when I don't remember my recovery information?\",\n",
       " 'How are ADHD and Autism different?',\n",
       " 'What college should I go, if I want to study aerospace?',\n",
       " 'Which is the most soul-wrenching tamil songs?',\n",
       " 'How do I get placed in wipro healthcare?',\n",
       " 'Will there be a cure to T1 diabetes soon?',\n",
       " 'What is the best yoga studio in Bangkok?',\n",
       " \"How do know when you're in love?\",\n",
       " 'What are the measures to prevent migration of people from rural areas to urban areas?',\n",
       " 'How do I remove hard water stains from a toilet bowl?',\n",
       " 'Does Asus zenfone 2 ze550ml provide volt update?',\n",
       " 'How does one teach kids with patience?',\n",
       " 'What is freelancing?',\n",
       " 'What is the meaning of \"af\"?',\n",
       " \"What's the worst thing you've done to your Sims?\",\n",
       " \"What's your current mobile wallpaper and why?\",\n",
       " 'What is a lesbian?',\n",
       " \"What is Sirius Black's relation to Harry Potter?\",\n",
       " 'Can someone not be a lawyer and still start a law firm?',\n",
       " 'How do I get rid of attending weddings?',\n",
       " 'Is it okay to book a ticket with a different station as the departure point and board the train from a different one?',\n",
       " 'How strong was Samson in the bible?',\n",
       " 'How do I prepare ink for inkjet printer?',\n",
       " 'When will Detective Conan end?',\n",
       " 'What is vitamin A?',\n",
       " 'Why do people say sorry frequently?',\n",
       " 'I want to invest Rs 20,000 in mutual fund. Which mutual fund is best to invest?',\n",
       " 'Is there a cure for tinnitus?',\n",
       " 'What is the difference between a compressor and a pump?',\n",
       " 'What are the best arguments against existentialism?',\n",
       " 'Statistics on firing squads in ww1?',\n",
       " 'What are the largest classes at Union College? Are they worth taking? What is the workload like for them?',\n",
       " 'What makes a person a good problem solver?',\n",
       " 'How do I delete a question on Quora application?',\n",
       " 'What is the expansion of CCCP?',\n",
       " 'What might the ramifications be for society economically, when robots start taking more jobs?',\n",
       " 'What is the academic pressure and workload at Missouri State like?',\n",
       " 'Is Unitech Transfer a fake company?',\n",
       " 'How do I increase the stamina?',\n",
       " \"What were Theresa May's first days like at 10 Downing Street?\",\n",
       " 'What is the corporate culture like at Minerals Technologies? How is the culture different than other companies?',\n",
       " 'How do I write articles to earn?',\n",
       " 'Who is good among Rahul Gandhi and Arvind Kejriwal as a politician?',\n",
       " 'How do I download a video from any website?',\n",
       " 'What is the chance of meeting the persons who were in our pre-birth?',\n",
       " 'How much commission does Paytm take from merchants?',\n",
       " 'Should you Facebook friend a guy who never called after a first date?',\n",
       " 'What are the features of levis jeans?',\n",
       " 'Which is the most meaningful Bollywood song ever?',\n",
       " 'Who is the best doctor in Delhi for PCOS treatment?',\n",
       " 'Can a person increase his/her height even after 20?',\n",
       " 'What was the significance of the battle of Somme, and how did this battle compare and contrast to the Battle of Rutterdam?',\n",
       " 'What are the safety precautions on handling shotguns proposed by the NRA in Maine?',\n",
       " 'What are the top 5 countries in CTF-hacking?',\n",
       " 'Which is the best electric shaver for men?',\n",
       " 'Is there really free will?',\n",
       " 'What is osell.com?',\n",
       " 'What strikes first time visitors as special or unusual when they arrive in Piracicaba, Brazil?',\n",
       " 'Is it true that there is life after death?',\n",
       " 'What are some of the best party songs with an awesome bass?',\n",
       " \"ResearchGate: I'm a freelancer who wishes join to ResarchGate, but signing up it requires a institution email. What can I do without an institution email address?\",\n",
       " 'What will be the effect of banning 500 and 1000 notes on stock markets in India?',\n",
       " 'From where can I get uppcl office assistant priviousyrs papers?',\n",
       " 'How can I prevent Prostate Enlargement?',\n",
       " 'Is the communist ideology of equal pay for everyone more effective in eradicating poverty?',\n",
       " 'Which country is likely to host the 2026 FIFA World Cup?',\n",
       " 'My mobile was stolen. Is it possible for the thief to change its IMEI number by using any software?',\n",
       " \"What is the point of being alive if you don't at least try to do something remarkable?\",\n",
       " 'What is the evolutionary benefit or purpose of having periods?',\n",
       " 'What are the top torrent sites?',\n",
       " \"I have irregular periods and I had sex about 4 weeks ago and I'm late but I'm showing no signs. What does this mean? I'm due about now.\",\n",
       " 'Do I have to talk to fake people?',\n",
       " 'What is the difference between Quora and Stack Exchange?',\n",
       " 'What is a pizza?',\n",
       " 'Who or what inspires you?',\n",
       " 'How do I start learning to code? Also,which programming language is recommended for beginners?',\n",
       " 'What is the worst thing you have seen in a movie?',\n",
       " 'Is carbohydrate good?',\n",
       " 'Where can you watch Highlights of European football games?',\n",
       " 'Which country steals from which between Indonesia and Malaysia?',\n",
       " 'Should I lie for my friend?',\n",
       " 'What can US$1 buy around the world?',\n",
       " 'Which classic music is this?',\n",
       " 'Is Navjot Singh Sidhu going to join AAP?',\n",
       " 'How do you report a grievance against an employee of a company? Any email IDs to reach out in oracle USA?',\n",
       " 'How can I get a monthly Yojana magazine?',\n",
       " 'Is Christmas tree burning a tradition to celebrate the new year in the Netherlands?',\n",
       " 'What is TIOBE?',\n",
       " 'Can you schedule an Uber ahead of time? How do you do this? Can I set the pickup time in advance?',\n",
       " 'What did Bashar Al-Assad do to become so hated?',\n",
       " 'Hadoop (or) SAP HANA? What is the difference? Which one have better career scope?',\n",
       " 'What is the work of a steel detailer? Is the future of a steel detailer bright?',\n",
       " 'Which is the best country in mathematics including overall research, as well as in terms of the quality of education?',\n",
       " 'How does the Moon affect the Earth?',\n",
       " 'When I delete a file on my computer, where does it go?',\n",
       " \"What are your New Year's resolutions?\",\n",
       " 'What makes iPad Pro work with Apple Pencil?',\n",
       " 'What are the good B.Tech colleges in Rajkot?',\n",
       " 'How can you increase your stamina before running?',\n",
       " 'What words can be used to replace missing?',\n",
       " 'Can somebody explain Darryl Anka & Bashar?',\n",
       " 'What is the equivalent of Wahhabism (Islam) in Christianity?',\n",
       " 'My 9 year old cousin is watching inappropriate videos on YouTube. How do I get her to stop?',\n",
       " 'Can time travel exist somewhere in our universe already?',\n",
       " \"Why doesn't McDonalds open more restaurants in Africa?\",\n",
       " 'What do you think of the new MacBook Pro that was released late 2016? Is it worth buying?',\n",
       " 'How is space and time connected?',\n",
       " 'How can one get a job online that pays real cash?',\n",
       " 'Is it OK to have a sex chat with true love?',\n",
       " 'What is Data Science?',\n",
       " 'How does it feel being raped?',\n",
       " 'What would be the first thing you would do if you were made the president of USA?',\n",
       " 'Why do so many Americans pronounce \"jaguar\" as \"jagawar\"?',\n",
       " 'What Lee Sedol doing now?',\n",
       " 'Is everything certain or does probability exist?',\n",
       " 'HBase: What is a column family?',\n",
       " 'What is it like to not have kids?',\n",
       " 'What is the best invention of 2016?',\n",
       " 'Can I hack WPA password without wireless adapter with Kali Linux?',\n",
       " 'How can I withdraw money from PayPal in Morocco?',\n",
       " 'Is there an attitude shift if a girl finds out that the guy has a small penis?',\n",
       " 'Do love spells really work? What are the signs?',\n",
       " 'Where should I start to learn game development?',\n",
       " 'Where is calgary?',\n",
       " 'Did the Queen assassinate Diana, Princess of Wales?',\n",
       " 'What career advice would you give to someone who wants to become a merchandising manager?',\n",
       " 'How was the personal relationship between Steve Jobs and Bill Gates?',\n",
       " 'How can an international student find business analysis internship in Canada?',\n",
       " \"How do you know if you're in love?\",\n",
       " 'Is the Bible literally true?',\n",
       " 'I have rental car with CDW, WILL IT COVER ME IF SOMEONE KNOKED OFTHE SIDE MIRRORWHLE IT WAS PAKED?',\n",
       " 'How can one cope with the loss of a loved one?',\n",
       " 'How can you convert .ISO files to either .BIN/.CUE?',\n",
       " 'What do you do for the onset of shingles?',\n",
       " 'Why does suffering cause more suffering?',\n",
       " 'Recent trend in vlsi design?',\n",
       " 'How do I post something in Quora?',\n",
       " 'What is wrong with Indian Education System?',\n",
       " 'What are some of the characteristics of Italian art?',\n",
       " 'What is right, saving electricity or saving power?',\n",
       " 'What are some ways to make spicy spaghetti?',\n",
       " 'Are there many sunny days?',\n",
       " 'What is Hillary Clinton’s plan for the budget at NASA?',\n",
       " 'How can you recover your Gmail password?',\n",
       " 'Why did the senate not execute Order 65 before the Jedi tried to arrest Palpatine?',\n",
       " 'Why did Napoleon lose The Battle of Waterloo?',\n",
       " 'What is the best way to get healthy?',\n",
       " 'When is the world going to the end?',\n",
       " 'How is epoxy paint removed from cement?',\n",
       " \"I am black man who was adopted by white parents yet I don't like to be around other black people. I didn't learn this from my parents. Am I racist?\",\n",
       " 'What is the best idea to give a gift to your crush?',\n",
       " 'How was the TCS off campus test on 20th Feb? What will be the cut off? How many did you solve in aptitude?',\n",
       " 'What are some Chinese websites where I can read free e-books/stories?',\n",
       " 'Can I File for bankruptcy with child support and student loan debt',\n",
       " 'What will be the last day of earth?',\n",
       " 'How do I earn from Quora?',\n",
       " 'What do you think about Chinese people?',\n",
       " 'What is the difference in quality between: BD, HD, 720p and 1080p?',\n",
       " 'How do you find out what your zip code plus four is?',\n",
       " 'Which are the best GMAT coaching institutes in Delhi/NCR?',\n",
       " 'Is time discrete or continuous?',\n",
       " 'Why do many distrust Hillary Clinton?',\n",
       " 'What do you absolutely hate about Quora?',\n",
       " 'Can any state secede from United States?',\n",
       " 'How could I improve my English pronunciation?',\n",
       " 'What is the noun form of “complex”?',\n",
       " \"Why can't India get more medals in every Olympics?\",\n",
       " 'What will Hillary Clinton and Tim Kaine do about gun violence in America?',\n",
       " 'How strong is France’s soft power?',\n",
       " 'Why did MS Dhoni quit ODI and T20 captaincy but will still play?',\n",
       " 'How likely is World War III in the future?',\n",
       " 'What do you think of the decision by the Indian Government to replace 1000 notes with 2000 notes?',\n",
       " 'What is the difference between oats and this muesli?',\n",
       " 'My F1 visa is valid till 2017. My current employer will be applying for an H1B this year. Are there any additional steps I need to take?',\n",
       " 'If I block a follower on instgram can they still see my followers?',\n",
       " 'What are some scientifically proven impossible fossils?',\n",
       " 'Which programming language has features that are well-suited for recreating a board game (Settlers of Catan)?',\n",
       " 'Has Islam failed Europe?',\n",
       " 'What is the scope of biomedical engineering?',\n",
       " 'What do you think Bermuda triangle is?',\n",
       " 'Which actor/actress has done the most movies?',\n",
       " \"What are some mind-blowing money safe tools that exist that most people don't know about?\",\n",
       " 'What are some memorable instances of the unarmed getting the upper hand over people armed with guns?',\n",
       " 'What is the AMCAT reasoning syllabus?',\n",
       " 'Which is the best laptop under INR 30,000?',\n",
       " 'If a silverback gorilla fought a grizzly bear who would win?',\n",
       " 'What are some good anime movies?',\n",
       " 'How many views did your answers get?',\n",
       " 'What affects the rate of diffusion in molecules?',\n",
       " 'Who are some of the greatest people that have ever lived that most people have never heard of?',\n",
       " 'How is Grendel defeated in \"Beowulf\"?',\n",
       " \"My iPhone's photos are not in iTunes, and they won't sync. What do I do?\",\n",
       " 'How do I prepare for GK Section in XAT, CMAT, SNAP?',\n",
       " 'How can I manage my time more efficiently?',\n",
       " 'What are the health benefits of pomegranate?',\n",
       " 'How do you keep yourself focused on your goal?',\n",
       " 'In the US, our history books tell us we invented almost everything. Do other countries recognize the US as inventing the car, light bulb, phone, computer, refrigerator, plane, steam engine, and the Internet? Or do they claim any of them too?',\n",
       " 'What are the mind-blowing facts about Dubai?',\n",
       " 'What is happiest moment in your life?',\n",
       " 'Which is the most expensive whey protein brand in India?',\n",
       " 'How do I think without words, images or sounds?',\n",
       " 'What are the legal protocols for ambulance in India?',\n",
       " 'How can we get rid of depression?',\n",
       " 'What is a good inpatient drug and alcohol rehab center in Pasco County FL?',\n",
       " 'What is Roadrunner Technical Support?',\n",
       " 'What are some of the best sites for cricket live streaming?',\n",
       " 'How can I become a video game designer or developer?',\n",
       " 'Have any famous paradoxes been solved?',\n",
       " 'Is love a decision or a feeling?',\n",
       " 'I am using Quora app. I need to answer the question as anonymous. How to do it?',\n",
       " 'Where can we get alcohol in Patna?',\n",
       " 'Who will be CM of Delhi, if AAP wins Punjab elections, and Kejriwal decides to become CM of Punjab in 2017?',\n",
       " 'How do I ask a girl to date me ?',\n",
       " 'What is the sales tax rate on used cars in Texas?',\n",
       " 'Where are the main pressure points in a migraine?',\n",
       " 'Are there any European universities that have direct second year admission for students that have completed diploma in engineering in India?',\n",
       " 'Is the ability to do 100 pushups better than the ability to do 12 one arm pushups?',\n",
       " 'How can I improve my English writing skills by myself?',\n",
       " 'What is some recent evidence of extraterrestrial life?',\n",
       " 'What is an electronic cloud?',\n",
       " 'Which element of the periodic table has the longest half-life?',\n",
       " 'What are all the best places to visit in goa?',\n",
       " 'Are there any free open source SEO tools that scrape from others sites?',\n",
       " 'Who is the head of immigration officer of Malaysia?',\n",
       " 'How should you introduce yourself on the first day of college?',\n",
       " 'Why is life suck so bad?',\n",
       " 'What is the difference between anodized aluminum and corrosion resistant?',\n",
       " 'Reserve Bank of India (RBI): What is the difference between Repo rate and Marginal Standing Facility?',\n",
       " 'How many combinations of three letters in a 26 letter alphabet are there?',\n",
       " 'How can you get cashback from a credit card?',\n",
       " 'Can my Linux Mint virtual machine infect other computers that share my Wi-Fi network?',\n",
       " 'What is the smallest possible size a neutron star can be?',\n",
       " 'How would a company recruit sales reps on social media?',\n",
       " \"If animals in the Zoo don't like to see people around all day long, why don't use those glass that could only see through one side when needed?\",\n",
       " 'Is it harmful from security perspectives to use public Wi-Fi?',\n",
       " 'How do I push back negative search result down?',\n",
       " \"What is the name of the creepiest horror movie you've ever seen? Which was the scariest part?\",\n",
       " 'What are some of the cranial nerves? What functions do they have?',\n",
       " 'How do I fold both rear-seats & one of the front seats in Maruti Swift Diesel Vdi 2014 model?',\n",
       " \"What does the term 'state of incorporation' mean?\",\n",
       " 'Why are you competitive?',\n",
       " 'Where is a good and cheap hotel in Paris?',\n",
       " 'Can I run return air ducts outside my house?',\n",
       " 'What should be the name of our country, India or Bharat? How did we get the name India?',\n",
       " 'Why different cultures have so many differences but the name structures of people are so similar?',\n",
       " 'Which regions of New Zealand are hot-beds of left-wing politics? Which regions are hot-beds of right-wing politics? Why?',\n",
       " 'What is the relationship between biotic and abiotic factors? What are some examples?',\n",
       " 'Do people with private planes have to go through immigration or passport control when they leave the country?',\n",
       " 'Chart of green and red days for 2016? Horoscope thing, I believe? Anyone know what these days are?',\n",
       " \"Will there be a civil war if Trump doesn't become president?\",\n",
       " 'Why is a diesel engine heavier than a petrol engine?',\n",
       " 'How did caste system started in India?',\n",
       " 'What is the difference between intercooler and aftercooler in engine?',\n",
       " 'How do you pronounce lululemon?',\n",
       " 'Are there any Nobel Prize winners on Quora?',\n",
       " 'How can I lose more than 1 kg a week?',\n",
       " 'What are the best books for GATE ECE preparation?',\n",
       " 'What is the salary of IIT teachers?',\n",
       " 'How would one begin to create their own operating system?',\n",
       " 'How do car insurance companies investigate accident claims?',\n",
       " 'What is the global environment?',\n",
       " \"I'm 20 and I want to know about the stock market. What should I learn?\",\n",
       " 'How can I slim my thighs and buttocks?',\n",
       " 'If human beings evolved from monkeys, why do we still have monkeys today?',\n",
       " 'Can you eat “edibles” (food cooked with marijuhana) while pregnant?',\n",
       " 'How did Uber protect its idea?',\n",
       " 'I want to take up corporate law, which stream should I opt for?',\n",
       " 'What is the meaning and differences between a scholarship, a fellowship and an internship?',\n",
       " 'Does Bill Gates use Google or Bing?',\n",
       " 'How do I get over a breakup?',\n",
       " 'Devil in the white city?',\n",
       " \"How can I hack someone's whatsapp account and change their wallpaper on my phone?\",\n",
       " 'What is the best thing to do to get rid of boredom?',\n",
       " 'Aryabhatta proved the Earth was spherical before Copernicus. Does he get the credit he deserves?',\n",
       " 'How good is the work culture in TCS EIS - product life cycle management?',\n",
       " 'What is the best digital marketing agency in India?',\n",
       " 'How do I retrieve texts from a number I blocked?',\n",
       " 'Will people be able to buy things online without net neutrality?',\n",
       " 'What are the best luxury hotels in Bhopal?',\n",
       " 'What websites do manufacturing industries people mostly search?',\n",
       " 'How do you deal with being indecisive?',\n",
       " 'If you have ever thought of being a non-living thing, what is that and why?',\n",
       " 'Will you marry a girl who is not virgin?',\n",
       " 'What should I say to a friend whose mother died?',\n",
       " 'What is the rss?',\n",
       " 'How I can improve my communication skills?',\n",
       " 'What are some examples of vertebrate carnivores?',\n",
       " 'What are the most common causes of project failure?',\n",
       " 'Slider suggestion for WordPress?',\n",
       " 'Which is the best foreign language to learn, and why ?',\n",
       " 'What signs do (shy) women give to show interest in a guy?',\n",
       " 'Is it good to have sex on the first night?',\n",
       " 'Pets: How would a dog react if I tried to lick its face?',\n",
       " 'Why do I feel sleepy during the day?',\n",
       " 'Digital Cameras: What are the things that I should consider before buying a DSLR?',\n",
       " 'What is the best time or age for a man to get married?',\n",
       " \"Why don't human lay eggs?\",\n",
       " 'Which are the best MS (USA/Singapore) consultants in Chennai?',\n",
       " 'Why is Russia not in the list of top 10 countries which are not easy to invade?',\n",
       " 'What are good programming language to start with before I advance?',\n",
       " 'What word can I use instead of \"well\" to mean \\'doing well\\' or \\'progressing well\\'?',\n",
       " 'How is information management system domain in Capgemini?',\n",
       " 'a small bar magnet is being slowly inserted with constant velocity inside a solenoid. Plot a graph between emf induced with time.',\n",
       " 'Can you make a living with app development?',\n",
       " 'What happens if the President and Vice-President elect both die between being elected and the inauguration?',\n",
       " 'What is the difference between data communication and networking?',\n",
       " 'How can I get a passport without my birth certificate if my date of birth is after 1989?',\n",
       " 'What are some things new employees should know going into their first day at Gulfmark Offshore?',\n",
       " 'How do I prepare myself for my first half marathon?',\n",
       " 'How does environment affect the secondary, tertiary and quaternary structure of an amino acid sequence?',\n",
       " \"Is India's intelligence agency RAW really actively operative?\",\n",
       " 'What question on Quora has the most answers submitted by users?',\n",
       " 'How are gay rights in India?',\n",
       " 'Why was President Obama so distant on the October 3rd Debate? Is this a fair statement?',\n",
       " 'Why do some U.S. people call world human rights leader, the Philippine President as a dictator when he implements independant foreign policy?',\n",
       " 'How do I see the stability of base?',\n",
       " \"Why isn't Latin America considered a part of the Western civilization?\",\n",
       " 'Who is the best soccer player in history?',\n",
       " 'How can I ensure that my father (who is debt ridden) cannot use my name as a Guarantor without my information, or take any loan on my name?',\n",
       " 'How cold can the Gobi Desert get, and how do its average temperatures compare to the ones in the Chihuahuan Desert?',\n",
       " 'What was the main cause that ended World War One?',\n",
       " 'How shall I build up a career in civil engineering as a fresher?',\n",
       " 'How do I get background music without vocals for any song?',\n",
       " 'How can we expect Hillary Clinton to run the country with 500+ million if she cant control her husband bill?',\n",
       " 'How can I earn a daily income of 2000 to 3000 rs through business?',\n",
       " \"Is it true that if you don't love yourself, you will not love others either?\",\n",
       " 'What\\'s the difference between \"Paperback\" and \"Mass Market Paperback\"?',\n",
       " 'How can the new ban of 500 and 1000 rupee notes be helpful in bringing back the money from Swiss banks?',\n",
       " 'What are the best Naruto episodes?',\n",
       " 'How can one be good at aptitude?',\n",
       " \"What does a Trump presidency mean for Indian students looking to pursue Master's degrees in USA?\",\n",
       " 'Is it possible if I use a Swiss Army Knife for defensive purposes?',\n",
       " 'What is a strategy to spot a mediocre novel without actually reading it? Are there any telltale  signs to avoid the time investment in reading a pathetic novel?',\n",
       " 'Why do people say Islam is a religion of peace?',\n",
       " 'What are scripting languages and programming languages?',\n",
       " 'I have access to a very secure way to invest in real estate but I’m having a difficult time getting capital?',\n",
       " \"What happened to Jayalalitha's legs? They were not seen in her funeral photos.\",\n",
       " 'If Trump decides he doesn’t want to run for President before the election, will his name be removed from ballots?',\n",
       " 'What is an incentive?',\n",
       " \"What's it like to work at Tetra Tech for your first job?\",\n",
       " 'How can I write a letter to Mr. Narendra Modi?',\n",
       " 'What is the cheapest, painless, easiest way to commit suicide?',\n",
       " 'I am not able to sleep at nights. I go to sleep at 6am and wake up late. How do I avoid this bad routine?',\n",
       " 'How do I impress my in-laws?',\n",
       " 'Is divxcrawler.com legal?',\n",
       " 'If I traveled to Alpha Centauri and back again in two seconds, would I return to Earth in 2008?',\n",
       " 'What is the best cardio exercise for abs?',\n",
       " 'Which is the best game engine as of 2016?',\n",
       " 'How do I find common topic while approaching total strangers?',\n",
       " 'What is the workplace hierarchy in Cognizant Technology Solutions BPO?',\n",
       " 'What are the best project management books?',\n",
       " 'What is the best Solitaire game for Mac OS X?',\n",
       " 'What are some criticisms of cultural relativism?',\n",
       " 'What do stalkers do?',\n",
       " 'What is it like to study abroad in Paris as a college student?',\n",
       " 'What are some examples of abstract nouns?',\n",
       " 'What does it mean if l propose a girl and she blocks me but we still communicate normally?',\n",
       " 'What is it like to work in a salon?',\n",
       " 'Who is Mukesh from the anti smoking ad which occurs before the movie starts?',\n",
       " 'Is the speed of the amplitude of light faster than light?',\n",
       " 'Which country is the most attractive one for Chinese people?',\n",
       " 'What is the career path for an international relations students focusing on international security?',\n",
       " 'What modern films will become classics?',\n",
       " 'How do I pass a meth drug test?',\n",
       " 'White House Down (2013 movie): Does the Speaker know that Martin Walker (the bad guy) planned to nuke cities all over the world at the end, once he got the nuclear launch codes?',\n",
       " 'What generally defines the secularism?',\n",
       " 'Is Taxmann the best for the CA IPCC group 1 taxation?',\n",
       " 'What is a Dajjal?',\n",
       " 'What effort can a commerce graduate take to enter IIM-A?',\n",
       " 'What would be the characteristics of Scorpio Sun, Leo Moon, and Aries rising man?',\n",
       " 'What will happen to the Earth if there would be no magnetic fields?',\n",
       " 'What kind of music do you like most? Jazz? Blues? This is a survey for my homework.',\n",
       " 'What are the causes of a lower back pain and sore breasts?',\n",
       " 'Is it possible for something with or without mass to reach the speed of light?',\n",
       " 'How do I stop my Labrador/Pug mix from humping my pillows?',\n",
       " 'If I just got off my period a few days and started again what could cause this?',\n",
       " 'Should you rinse with water after mouthwash?',\n",
       " 'How many Spiderman movies are there?',\n",
       " 'How can I improve my English speaking skills as an introvert?',\n",
       " 'What are some home remedies for a (melanotic) macule?',\n",
       " 'What are best commentary on Dhoni?',\n",
       " 'As a foreigner, what are your experiences while visiting India?',\n",
       " 'How can I convince myself Donald Trump is not a Russian spy?',\n",
       " \"What's your biggest regret during your past years?\",\n",
       " 'Which book is good to read?',\n",
       " 'What are the good things that can happen only in India?',\n",
       " 'Where can I get wholesale high quality fashion clothing for my online boutique?',\n",
       " 'What are the 5 agents of socialization?',\n",
       " 'How can I make money online quickly and easily?',\n",
       " 'How do you determine Lewis Structure for phosphorus trichloride?',\n",
       " 'How is art marketable?',\n",
       " 'Is the religion, anti-humans?',\n",
       " 'What are top five companies to invest in mutual fund in India?',\n",
       " 'What does Natural Selection require?',\n",
       " 'How much is a Netflix year-long subscription?',\n",
       " 'What programming languages are best to learn?',\n",
       " 'What are the different career scopes for a mechanical engineer after completion of B Tech?',\n",
       " 'How do I add Malayalam language to Google Translate?',\n",
       " 'Why is oxalic acid soluble in water?',\n",
       " 'Why should prostitution not be legalized in India?',\n",
       " 'How big of a apartment building can I build on .70 acre of land.?',\n",
       " 'How do you organize yourself for a typical day?',\n",
       " 'What are words you most commonly associate with “your” children?',\n",
       " 'How can I burn my hip fat?',\n",
       " 'How should one prepare for CAT 2016?',\n",
       " 'What is expected cutoff for AMU MBBS for internal student?',\n",
       " 'Which is more dangerous: AC or DC power?',\n",
       " 'What is the best jailbreak?',\n",
       " 'Can we Mine (Bitcoin) with Genesis company? They are saying that we just need to purchase and nothing should be done from our side',\n",
       " 'Who is Haruki Murakami?',\n",
       " 'Does true and pure love exists?',\n",
       " 'What causes Itchy candida?',\n",
       " 'How many credits must you take for 2nd semester in VIT?',\n",
       " 'What is turkey made of?',\n",
       " \"Why can't we see the light?\",\n",
       " \"What's the English word of 霍比特人?\",\n",
       " 'Why do people criticise Cristiano Ronaldo so much?',\n",
       " 'How can I become a millionaire before the age of 30?',\n",
       " 'Is it moral to discipline children?',\n",
       " 'Why is there homeless people in rich countries like USA?',\n",
       " 'How could Leonardo DiCaprio win an Oscar award?',\n",
       " 'How can I change my profile pic on Quora?',\n",
       " 'What are some amazing facts about Composer Ilayaraja?',\n",
       " 'Why does Han Solo die?',\n",
       " 'I have set some cucumber plant in Kratky Method. The plants are flowering male flower only. What should I do to get female flower?',\n",
       " 'Israelis: Do you frequently encounter hateful/offensive content concerning Israel from Iranians on Quora?',\n",
       " 'What are some of the best hangout places in Pune?',\n",
       " 'Which are the latest seminar topics related to computer science?',\n",
       " 'What are the most and least followed topics on Quora in 2016?',\n",
       " 'What is the corporate culture like at Hill International? How is the culture different than other companies?',\n",
       " 'What products have you used to treat your tinnitus?',\n",
       " \"Can an airplane's exit door be opened in mid-flight?\",\n",
       " 'Which book helped you get self esteem?',\n",
       " 'What is the difference between dating someone and being in a relationship with someone?',\n",
       " 'I got 8.8 CGPA in class 10 SA1 , can I get 10 CGPA in overall?',\n",
       " 'What was the best day of your life?',\n",
       " 'Which state in India has the best and most effective police department?',\n",
       " 'Is it possible to perform outward remittances from India via online bank accounts?',\n",
       " \"I'm 44 years old. I want to invest in mutual funds in india. Which is the best mutual fund?\",\n",
       " 'Do employees at Corts Trust Weyerhaeuser have a good work-life balance? Does this differ across positions and departments?',\n",
       " 'Is there a pick-up/drop-off service in Berlin?',\n",
       " 'What are the safety precautions on handling shotguns proposed by the NRA in the entire U.S. including it’s territories and possessions? 3',\n",
       " 'If a bank already maintains CRR, what is the need for SLR?',\n",
       " 'How do you prevent the wood from warping if wanting to paint on it? Is the Gesso enough or do you need something else?',\n",
       " 'Is tax cut for the rich the best economic plan that Trump council of economic advisors can come up with?',\n",
       " 'Can Adobe Photoshop be found on the internet for free?',\n",
       " 'Can we report a fraud case to SFIO?',\n",
       " \"How do I connect my PC's internet to my Windows Phone via USB or via Bluetooth?\",\n",
       " 'Should I stop gaming to get better grades? If not how can I balance gaming and studying?',\n",
       " 'Why do men choose to cheat rather than to break up?',\n",
       " 'How should I keep myself updated with the latest English music?',\n",
       " 'How can I make you my new friend?',\n",
       " 'Which player is better in Inazuma Eleven series, Victor Blade or Axel Blaze?',\n",
       " 'Why do people still believe in space travel, space probes, nuclear bombs, evolution, 9/11, and missiles?',\n",
       " 'What could be the best possible diet plan for gaining healthy weight?',\n",
       " 'Which washing machine is the best in India?',\n",
       " 'Is hacktivism legal in the US? Why?',\n",
       " 'What is the meaning of oat in Hindi?',\n",
       " 'What does crude oil contain?',\n",
       " 'What do people from other countries think of America and Americans?',\n",
       " 'I appear on someone\\'s Instagram \"following\" list but they are not on my \"followers\" list. Why is this?',\n",
       " 'How good is fanshawe college for supply chain management?',\n",
       " 'Why and where did the Crusades take place? What was the reason that there were several Crusades?',\n",
       " 'What GMAT self-prep book is the best for the test?',\n",
       " 'How do you treat cysts in your earlobe?',\n",
       " 'How can I meet WW2 veterans?',\n",
       " 'Where can I get best domestic and commercial window cleaning service in Sydney?',\n",
       " 'What qualities should you look for when deciding whether or not to follow someone on Quora?',\n",
       " 'I am a vegetarian desiring to travel to Singapore, Malaysia and Thailand for around 10 days but I am not interested in any travel agent as I do not want to travel with any group. Can anyone please guide me as to how I can plan the trip on my own from the start to end of the trip?',\n",
       " 'If humans evolved from monkeys then why are monkeys still around?',\n",
       " 'Can height be increased after age 21?',\n",
       " 'What are the safety precautions on handling shotguns proposed by the NRA in Illinois?',\n",
       " 'What would be the salary of a backend software engineer at Agoda?',\n",
       " 'How does banning 500 & 1000 rupee notes solve black money problem?',\n",
       " 'How do I cancel Quora?',\n",
       " 'What is the QuickBooks payroll tech support number in Washington?',\n",
       " 'I have forgotten my old password for airtel 4g hotspot, what steps can be done to recover this?',\n",
       " 'What does \"Humma\" mean from \"The Humma song\"?',\n",
       " \"What's the difference between library and a game engine?\",\n",
       " 'What are the chances that this year, BITSAT cutoffs may drop?',\n",
       " 'How do I access my Yahoo accounts without still having the old mobile OR landline numbers or email associated with them?',\n",
       " 'Is there a word to describe someone who is Paranoid?',\n",
       " 'What does the Chinese word 「气质」mean?',\n",
       " 'Where is the Baraka River located, and how does it compare to the Missouri River?',\n",
       " 'How can I work in Nintendo?',\n",
       " 'What is an investment banker? How can one become an investment banker?',\n",
       " ...]"
      ]
     },
     "execution_count": 9,
     "metadata": {},
     "output_type": "execute_result"
    }
   ],
   "source": [
    "qs"
   ]
  },
  {
   "cell_type": "code",
   "execution_count": 10,
   "metadata": {
    "collapsed": true
   },
   "outputs": [],
   "source": [
    "import spacy\n",
    "nlp = spacy.load('en')"
   ]
  },
  {
   "cell_type": "code",
   "execution_count": 97,
   "metadata": {
    "collapsed": true
   },
   "outputs": [],
   "source": [
    "def punct_space(token):    \n",
    "    return token.is_punct or token.is_space\n",
    "\n",
    "def line_review(qs):\n",
    "    for q in qs:\n",
    "        yield q.replace('\\\\n', '\\n')\n",
    "            \n",
    "def lemmatized_sentence_corpus(qs):\n",
    "    qs = map(str, qs)\n",
    "    for parsed_q in nlp.pipe(line_review(qs),\n",
    "                                  batch_size=10000, n_threads=4):\n",
    "        for sent in parsed_q.sents:\n",
    "            yield u' '.join([token.lemma_ for token in sent\n",
    "                             if not punct_space(token)])"
   ]
  },
  {
   "cell_type": "code",
   "execution_count": 104,
   "metadata": {
    "collapsed": false
   },
   "outputs": [],
   "source": [
    "int_path = 'intermediate/'\n",
    "with open(int_path + \"lemmatized_sentence_corpus.txt\", 'w', encoding=\"utf-8\") as f:\n",
    "    for sent in lemmatized_sentence_corpus(qs):\n",
    "        f.write(sent + '\\n')"
   ]
  },
  {
   "cell_type": "code",
   "execution_count": null,
   "metadata": {
    "collapsed": true
   },
   "outputs": [],
   "source": []
  },
  {
   "cell_type": "code",
   "execution_count": null,
   "metadata": {
    "collapsed": true
   },
   "outputs": [],
   "source": []
  },
  {
   "cell_type": "code",
   "execution_count": null,
   "metadata": {
    "collapsed": true
   },
   "outputs": [],
   "source": []
  },
  {
   "cell_type": "code",
   "execution_count": null,
   "metadata": {
    "collapsed": true
   },
   "outputs": [],
   "source": []
  },
  {
   "cell_type": "code",
   "execution_count": null,
   "metadata": {
    "collapsed": true
   },
   "outputs": [],
   "source": []
  },
  {
   "cell_type": "code",
   "execution_count": 26,
   "metadata": {
    "collapsed": false
   },
   "outputs": [
    {
     "ename": "SyntaxError",
     "evalue": "EOL while scanning string literal (<ipython-input-26-3a989fca0676>, line 1)",
     "output_type": "error",
     "traceback": [
      "\u001b[0;36m  File \u001b[0;32m\"<ipython-input-26-3a989fca0676>\"\u001b[0;36m, line \u001b[0;32m1\u001b[0m\n\u001b[0;31m    ' hi there    \\'.strip()\u001b[0m\n\u001b[0m                            ^\u001b[0m\n\u001b[0;31mSyntaxError\u001b[0m\u001b[0;31m:\u001b[0m EOL while scanning string literal\n"
     ]
    }
   ],
   "source": [
    "' hi there    \\'.strip()"
   ]
  },
  {
   "cell_type": "code",
   "execution_count": 27,
   "metadata": {
    "collapsed": true
   },
   "outputs": [],
   "source": [
    "def grepl(pattern, col):\n",
    "    return col.str.contains(pattern)\n",
    "t = \"How difficult is it to get an H1B visa as a embedded systems developer?\""
   ]
  },
  {
   "cell_type": "code",
   "execution_count": 28,
   "metadata": {
    "collapsed": false
   },
   "outputs": [
    {
     "data": {
      "text/plain": [
       "'Who would win, Lobo vs all the predators and aliens?'"
      ]
     },
     "execution_count": 28,
     "metadata": {},
     "output_type": "execute_result"
    }
   ],
   "source": [
    "q_data.ix[grepl(t, q_data.question1), 'question2'][79250]"
   ]
  },
  {
   "cell_type": "code",
   "execution_count": null,
   "metadata": {
    "collapsed": true
   },
   "outputs": [],
   "source": [
    "\"CREATE CONSTRAINT ON (q:Question) ASSERT q.qid IS UNIQUE\""
   ]
  },
  {
   "cell_type": "code",
   "execution_count": null,
   "metadata": {
    "collapsed": true
   },
   "outputs": [],
   "source": [
    "\"\"\"USING PERIODIC COMMIT\n",
    "LOAD CSV WITH HEADERS FROM \"file:///data/train.csv\" AS line\n",
    "\n",
    "WITH toInt(line.id) AS id, \n",
    "     toInt(line.qid1) AS qid1, \n",
    "     toInt(line.qid2) AS qid2, \n",
    "     line.question1 AS question1, \n",
    "     line.question2 AS question2, \n",
    "     toBoolean(line.is_duplicate) AS is_duplicate\n",
    "\n",
    "MERGE (q1:Question {qid: qid1, text: question1})\n",
    "MERGE (q2:Question {qid: qid2, text: question2})\n",
    "\n",
    "WITH q1, q2\n",
    "\n",
    "CREATE (q1)-[r1:IS_DUPLICATE]->(q2)\n",
    "CREATE (q2)-[r2:IS_DUPLICATE]->(q1)\n",
    "\n",
    "SET r1.is_duplicate = is_duplicate\n",
    "SET r2.is_duplicate = is_duplicate\"\"\""
   ]
  },
  {
   "cell_type": "code",
   "execution_count": null,
   "metadata": {
    "collapsed": true
   },
   "outputs": [],
   "source": []
  },
  {
   "cell_type": "code",
   "execution_count": null,
   "metadata": {
    "collapsed": true
   },
   "outputs": [],
   "source": []
  },
  {
   "cell_type": "code",
   "execution_count": null,
   "metadata": {
    "collapsed": true
   },
   "outputs": [],
   "source": []
  },
  {
   "cell_type": "code",
   "execution_count": null,
   "metadata": {
    "collapsed": true
   },
   "outputs": [],
   "source": []
  },
  {
   "cell_type": "code",
   "execution_count": null,
   "metadata": {
    "collapsed": true
   },
   "outputs": [],
   "source": []
  },
  {
   "cell_type": "code",
   "execution_count": null,
   "metadata": {
    "collapsed": true
   },
   "outputs": [],
   "source": []
  },
  {
   "cell_type": "code",
   "execution_count": null,
   "metadata": {
    "collapsed": true
   },
   "outputs": [],
   "source": []
  },
  {
   "cell_type": "code",
   "execution_count": null,
   "metadata": {
    "collapsed": true
   },
   "outputs": [],
   "source": []
  },
  {
   "cell_type": "code",
   "execution_count": null,
   "metadata": {
    "collapsed": true
   },
   "outputs": [],
   "source": []
  },
  {
   "cell_type": "code",
   "execution_count": null,
   "metadata": {
    "collapsed": true
   },
   "outputs": [],
   "source": []
  },
  {
   "cell_type": "code",
   "execution_count": null,
   "metadata": {
    "collapsed": true
   },
   "outputs": [],
   "source": []
  },
  {
   "cell_type": "code",
   "execution_count": null,
   "metadata": {
    "collapsed": true
   },
   "outputs": [],
   "source": []
  },
  {
   "cell_type": "code",
   "execution_count": null,
   "metadata": {
    "collapsed": true
   },
   "outputs": [],
   "source": []
  },
  {
   "cell_type": "code",
   "execution_count": null,
   "metadata": {
    "collapsed": true
   },
   "outputs": [],
   "source": []
  },
  {
   "cell_type": "code",
   "execution_count": null,
   "metadata": {
    "collapsed": true
   },
   "outputs": [],
   "source": []
  },
  {
   "cell_type": "code",
   "execution_count": null,
   "metadata": {
    "collapsed": true
   },
   "outputs": [],
   "source": []
  },
  {
   "cell_type": "code",
   "execution_count": null,
   "metadata": {
    "collapsed": true
   },
   "outputs": [],
   "source": []
  },
  {
   "cell_type": "code",
   "execution_count": null,
   "metadata": {
    "collapsed": true
   },
   "outputs": [],
   "source": []
  },
  {
   "cell_type": "code",
   "execution_count": null,
   "metadata": {
    "collapsed": true
   },
   "outputs": [],
   "source": []
  },
  {
   "cell_type": "code",
   "execution_count": null,
   "metadata": {
    "collapsed": true
   },
   "outputs": [],
   "source": []
  },
  {
   "cell_type": "code",
   "execution_count": null,
   "metadata": {
    "collapsed": true
   },
   "outputs": [],
   "source": []
  },
  {
   "cell_type": "code",
   "execution_count": null,
   "metadata": {
    "collapsed": true
   },
   "outputs": [],
   "source": []
  },
  {
   "cell_type": "code",
   "execution_count": null,
   "metadata": {
    "collapsed": true
   },
   "outputs": [],
   "source": []
  },
  {
   "cell_type": "code",
   "execution_count": null,
   "metadata": {
    "collapsed": true
   },
   "outputs": [],
   "source": []
  },
  {
   "cell_type": "code",
   "execution_count": null,
   "metadata": {
    "collapsed": true
   },
   "outputs": [],
   "source": []
  },
  {
   "cell_type": "code",
   "execution_count": null,
   "metadata": {
    "collapsed": true
   },
   "outputs": [],
   "source": []
  },
  {
   "cell_type": "code",
   "execution_count": null,
   "metadata": {
    "collapsed": true
   },
   "outputs": [],
   "source": []
  },
  {
   "cell_type": "code",
   "execution_count": null,
   "metadata": {
    "collapsed": true
   },
   "outputs": [],
   "source": []
  },
  {
   "cell_type": "code",
   "execution_count": null,
   "metadata": {
    "collapsed": true
   },
   "outputs": [],
   "source": []
  },
  {
   "cell_type": "code",
   "execution_count": null,
   "metadata": {
    "collapsed": true
   },
   "outputs": [],
   "source": []
  },
  {
   "cell_type": "code",
   "execution_count": null,
   "metadata": {
    "collapsed": true
   },
   "outputs": [],
   "source": []
  },
  {
   "cell_type": "code",
   "execution_count": null,
   "metadata": {
    "collapsed": true
   },
   "outputs": [],
   "source": []
  },
  {
   "cell_type": "code",
   "execution_count": null,
   "metadata": {
    "collapsed": true
   },
   "outputs": [],
   "source": []
  },
  {
   "cell_type": "code",
   "execution_count": null,
   "metadata": {
    "collapsed": true
   },
   "outputs": [],
   "source": []
  },
  {
   "cell_type": "code",
   "execution_count": null,
   "metadata": {
    "collapsed": true
   },
   "outputs": [],
   "source": []
  },
  {
   "cell_type": "code",
   "execution_count": null,
   "metadata": {
    "collapsed": true
   },
   "outputs": [],
   "source": []
  },
  {
   "cell_type": "code",
   "execution_count": null,
   "metadata": {
    "collapsed": true
   },
   "outputs": [],
   "source": []
  },
  {
   "cell_type": "code",
   "execution_count": null,
   "metadata": {
    "collapsed": true
   },
   "outputs": [],
   "source": []
  },
  {
   "cell_type": "code",
   "execution_count": null,
   "metadata": {
    "collapsed": true
   },
   "outputs": [],
   "source": []
  },
  {
   "cell_type": "code",
   "execution_count": null,
   "metadata": {
    "collapsed": true
   },
   "outputs": [],
   "source": []
  },
  {
   "cell_type": "code",
   "execution_count": null,
   "metadata": {
    "collapsed": true
   },
   "outputs": [],
   "source": []
  },
  {
   "cell_type": "code",
   "execution_count": null,
   "metadata": {
    "collapsed": true
   },
   "outputs": [],
   "source": []
  },
  {
   "cell_type": "code",
   "execution_count": null,
   "metadata": {
    "collapsed": true
   },
   "outputs": [],
   "source": []
  },
  {
   "cell_type": "code",
   "execution_count": null,
   "metadata": {
    "collapsed": true
   },
   "outputs": [],
   "source": []
  },
  {
   "cell_type": "code",
   "execution_count": null,
   "metadata": {
    "collapsed": true
   },
   "outputs": [],
   "source": []
  },
  {
   "cell_type": "code",
   "execution_count": null,
   "metadata": {
    "collapsed": true
   },
   "outputs": [],
   "source": []
  },
  {
   "cell_type": "code",
   "execution_count": null,
   "metadata": {
    "collapsed": true
   },
   "outputs": [],
   "source": []
  },
  {
   "cell_type": "code",
   "execution_count": null,
   "metadata": {
    "collapsed": true
   },
   "outputs": [],
   "source": []
  },
  {
   "cell_type": "code",
   "execution_count": null,
   "metadata": {
    "collapsed": true
   },
   "outputs": [],
   "source": []
  },
  {
   "cell_type": "code",
   "execution_count": null,
   "metadata": {
    "collapsed": true
   },
   "outputs": [],
   "source": []
  },
  {
   "cell_type": "code",
   "execution_count": null,
   "metadata": {
    "collapsed": true
   },
   "outputs": [],
   "source": []
  },
  {
   "cell_type": "code",
   "execution_count": null,
   "metadata": {
    "collapsed": true
   },
   "outputs": [],
   "source": []
  },
  {
   "cell_type": "code",
   "execution_count": null,
   "metadata": {
    "collapsed": true
   },
   "outputs": [],
   "source": []
  },
  {
   "cell_type": "code",
   "execution_count": null,
   "metadata": {
    "collapsed": true
   },
   "outputs": [],
   "source": []
  },
  {
   "cell_type": "code",
   "execution_count": null,
   "metadata": {
    "collapsed": true
   },
   "outputs": [],
   "source": []
  },
  {
   "cell_type": "code",
   "execution_count": null,
   "metadata": {
    "collapsed": true
   },
   "outputs": [],
   "source": []
  },
  {
   "cell_type": "code",
   "execution_count": null,
   "metadata": {
    "collapsed": true
   },
   "outputs": [],
   "source": []
  },
  {
   "cell_type": "code",
   "execution_count": null,
   "metadata": {
    "collapsed": true
   },
   "outputs": [],
   "source": []
  },
  {
   "cell_type": "code",
   "execution_count": null,
   "metadata": {
    "collapsed": true
   },
   "outputs": [],
   "source": []
  },
  {
   "cell_type": "code",
   "execution_count": null,
   "metadata": {
    "collapsed": true
   },
   "outputs": [],
   "source": []
  },
  {
   "cell_type": "code",
   "execution_count": null,
   "metadata": {
    "collapsed": true
   },
   "outputs": [],
   "source": []
  },
  {
   "cell_type": "code",
   "execution_count": null,
   "metadata": {
    "collapsed": true
   },
   "outputs": [],
   "source": []
  },
  {
   "cell_type": "code",
   "execution_count": null,
   "metadata": {
    "collapsed": true
   },
   "outputs": [],
   "source": []
  },
  {
   "cell_type": "code",
   "execution_count": null,
   "metadata": {
    "collapsed": true
   },
   "outputs": [],
   "source": []
  }
 ],
 "metadata": {
  "anaconda-cloud": {},
  "kernelspec": {
   "display_name": "Python [conda root]",
   "language": "python",
   "name": "conda-root-py"
  },
  "language_info": {
   "codemirror_mode": {
    "name": "ipython",
    "version": 3
   },
   "file_extension": ".py",
   "mimetype": "text/x-python",
   "name": "python",
   "nbconvert_exporter": "python",
   "pygments_lexer": "ipython3",
   "version": "3.5.2"
  }
 },
 "nbformat": 4,
 "nbformat_minor": 1
}
