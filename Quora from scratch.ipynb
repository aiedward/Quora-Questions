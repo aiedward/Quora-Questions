{
 "cells": [
  {
   "cell_type": "markdown",
   "metadata": {},
   "source": [
    "# Quora From Scratch"
   ]
  },
  {
   "cell_type": "markdown",
   "metadata": {},
   "source": [
    "Here I'll be having a fresh look at the Quora Questions problem now that I've been away from the problem for a while."
   ]
  },
  {
   "cell_type": "code",
   "execution_count": 7,
   "metadata": {
    "collapsed": true
   },
   "outputs": [],
   "source": [
    "import os\n",
    "import numpy as np\n",
    "import pandas as pd\n",
    "import matplotlib\n",
    "import matplotlib.pyplot as plt\n",
    "% matplotlib inline\n",
    "import seaborn; seaborn.set()"
   ]
  },
  {
   "cell_type": "code",
   "execution_count": 14,
   "metadata": {
    "collapsed": false
   },
   "outputs": [],
   "source": [
    "quora = pd.read_csv('Data\\\\train.csv', encoding='utf-8', index_col=0)"
   ]
  },
  {
   "cell_type": "code",
   "execution_count": 15,
   "metadata": {
    "collapsed": false
   },
   "outputs": [
    {
     "data": {
      "text/html": [
       "<div>\n",
       "<table border=\"1\" class=\"dataframe\">\n",
       "  <thead>\n",
       "    <tr style=\"text-align: right;\">\n",
       "      <th></th>\n",
       "      <th>qid1</th>\n",
       "      <th>qid2</th>\n",
       "      <th>question1</th>\n",
       "      <th>question2</th>\n",
       "      <th>is_duplicate</th>\n",
       "      <th>similarity</th>\n",
       "    </tr>\n",
       "    <tr>\n",
       "      <th>id</th>\n",
       "      <th></th>\n",
       "      <th></th>\n",
       "      <th></th>\n",
       "      <th></th>\n",
       "      <th></th>\n",
       "      <th></th>\n",
       "    </tr>\n",
       "  </thead>\n",
       "  <tbody>\n",
       "    <tr>\n",
       "      <th>0</th>\n",
       "      <td>1</td>\n",
       "      <td>2</td>\n",
       "      <td>What is the step by step guide to invest in sh...</td>\n",
       "      <td>What is the step by step guide to invest in sh...</td>\n",
       "      <td>0</td>\n",
       "      <td>0.996546</td>\n",
       "    </tr>\n",
       "    <tr>\n",
       "      <th>1</th>\n",
       "      <td>3</td>\n",
       "      <td>4</td>\n",
       "      <td>What is the story of Kohinoor (Koh-i-Noor) Dia...</td>\n",
       "      <td>What would happen if the Indian government sto...</td>\n",
       "      <td>0</td>\n",
       "      <td>0.934446</td>\n",
       "    </tr>\n",
       "    <tr>\n",
       "      <th>2</th>\n",
       "      <td>5</td>\n",
       "      <td>6</td>\n",
       "      <td>How can I increase the speed of my internet co...</td>\n",
       "      <td>How can Internet speed be increased by hacking...</td>\n",
       "      <td>0</td>\n",
       "      <td>0.931912</td>\n",
       "    </tr>\n",
       "    <tr>\n",
       "      <th>3</th>\n",
       "      <td>7</td>\n",
       "      <td>8</td>\n",
       "      <td>Why am I mentally very lonely? How can I solve...</td>\n",
       "      <td>Find the remainder when [math]23^{24}[/math] i...</td>\n",
       "      <td>0</td>\n",
       "      <td>0.740894</td>\n",
       "    </tr>\n",
       "    <tr>\n",
       "      <th>4</th>\n",
       "      <td>9</td>\n",
       "      <td>10</td>\n",
       "      <td>Which one dissolve in water quikly sugar, salt...</td>\n",
       "      <td>Which fish would survive in salt water?</td>\n",
       "      <td>0</td>\n",
       "      <td>0.880832</td>\n",
       "    </tr>\n",
       "  </tbody>\n",
       "</table>\n",
       "</div>"
      ],
      "text/plain": [
       "    qid1  qid2                                          question1  \\\n",
       "id                                                                  \n",
       "0      1     2  What is the step by step guide to invest in sh...   \n",
       "1      3     4  What is the story of Kohinoor (Koh-i-Noor) Dia...   \n",
       "2      5     6  How can I increase the speed of my internet co...   \n",
       "3      7     8  Why am I mentally very lonely? How can I solve...   \n",
       "4      9    10  Which one dissolve in water quikly sugar, salt...   \n",
       "\n",
       "                                            question2  is_duplicate  \\\n",
       "id                                                                    \n",
       "0   What is the step by step guide to invest in sh...             0   \n",
       "1   What would happen if the Indian government sto...             0   \n",
       "2   How can Internet speed be increased by hacking...             0   \n",
       "3   Find the remainder when [math]23^{24}[/math] i...             0   \n",
       "4             Which fish would survive in salt water?             0   \n",
       "\n",
       "    similarity  \n",
       "id              \n",
       "0     0.996546  \n",
       "1     0.934446  \n",
       "2     0.931912  \n",
       "3     0.740894  \n",
       "4     0.880832  "
      ]
     },
     "execution_count": 15,
     "metadata": {},
     "output_type": "execute_result"
    }
   ],
   "source": [
    "quora.head()"
   ]
  },
  {
   "cell_type": "markdown",
   "metadata": {},
   "source": [
    "I want to come up with a quick + dirty way to start off with the problem (that does better than chance). Probably using some minimal tokenization, scikit-learn and string similarity metrics.\n",
    "\n",
    "I guess the easiest way to define 'better than chance' then is to start defining some metrics:"
   ]
  },
  {
   "cell_type": "code",
   "execution_count": 4,
   "metadata": {
    "collapsed": false
   },
   "outputs": [
    {
     "data": {
      "text/plain": [
       "<matplotlib.axes._subplots.AxesSubplot at 0x1543634a358>"
      ]
     },
     "execution_count": 4,
     "metadata": {},
     "output_type": "execute_result"
    },
    {
     "data": {
      "image/png": "[encoded data removed]",
      "text/plain": [
       "<matplotlib.figure.Figure at 0x1543634a438>"
      ]
     },
     "metadata": {},
     "output_type": "display_data"
    }
   ],
   "source": [
    "(quora.is_duplicate.value_counts()/len(quora)).plot(kind='bar')"
   ]
  },
  {
   "cell_type": "code",
   "execution_count": 5,
   "metadata": {
    "collapsed": false
   },
   "outputs": [
    {
     "name": "stdout",
     "output_type": "stream",
     "text": [
      "There are 178665 0s (63.13%) and 104338 (36.87%) 1s in the dataset\n"
     ]
    }
   ],
   "source": [
    "duplicate_counts = quora.is_duplicate.value_counts()\n",
    "print(\"There are %d 0s (%.2f%%) and %d (%.2f%%) 1s in the dataset\"\n",
    "      %(duplicate_counts[0], duplicate_counts[0]/len(quora)*100,\n",
    "        duplicate_counts[1], duplicate_counts[1]/len(quora)*100))"
   ]
  },
  {
   "cell_type": "markdown",
   "metadata": {},
   "source": [
    "So by chance, any model will achieve ~63% accuracy just by guessing 0 for all of the examples. We want to avoid this."
   ]
  },
  {
   "cell_type": "code",
   "execution_count": 6,
   "metadata": {
    "collapsed": false
   },
   "outputs": [
    {
     "data": {
      "text/plain": [
       "283003"
      ]
     },
     "execution_count": 6,
     "metadata": {},
     "output_type": "execute_result"
    }
   ],
   "source": [
    "len(quora)"
   ]
  },
  {
   "cell_type": "markdown",
   "metadata": {},
   "source": [
    "## Processing with Spacy"
   ]
  },
  {
   "cell_type": "markdown",
   "metadata": {},
   "source": [
    "We start off by loading spacy and the english language model"
   ]
  },
  {
   "cell_type": "code",
   "execution_count": 7,
   "metadata": {
    "collapsed": true
   },
   "outputs": [],
   "source": [
    "import spacy"
   ]
  },
  {
   "cell_type": "code",
   "execution_count": 8,
   "metadata": {
    "collapsed": false
   },
   "outputs": [],
   "source": [
    "nlp = spacy.load(\"en\")"
   ]
  },
  {
   "cell_type": "markdown",
   "metadata": {},
   "source": [
    "Next, we can compute a string similarity metric between each of the questions in the corpus. We can try using this as a starting point for comparisons."
   ]
  },
  {
   "cell_type": "code",
   "execution_count": 9,
   "metadata": {
    "collapsed": true
   },
   "outputs": [],
   "source": [
    "def string_similarity(col1, col2):\n",
    "    '''Measures the string similarity between two columns of text data\n",
    "       Returns a column of similarity values'''\n",
    "    \n",
    "    col1 = nlp.pipe(map(lambda s: str(s).lower(), col1),\n",
    "                    tag=False,\n",
    "                    entity=False,\n",
    "                    n_threads=3)\n",
    "    col2 = nlp.pipe(map(lambda s: str(s).lower(), col2),\n",
    "                    tag=False,\n",
    "                    entity=False,\n",
    "                    n_threads=3)\n",
    "    \n",
    "    for col1, col2 in zip(col1, col2):\n",
    "        yield col1.similarity(col2)"
   ]
  },
  {
   "cell_type": "code",
   "execution_count": 10,
   "metadata": {
    "collapsed": false
   },
   "outputs": [],
   "source": [
    "# quora['similarity'] = list(string_similarity(quora.question1, quora.question2))"
   ]
  },
  {
   "cell_type": "code",
   "execution_count": 11,
   "metadata": {
    "collapsed": false,
    "scrolled": false
   },
   "outputs": [
    {
     "data": {
      "text/html": [
       "<div>\n",
       "<table border=\"1\" class=\"dataframe\">\n",
       "  <thead>\n",
       "    <tr style=\"text-align: right;\">\n",
       "      <th></th>\n",
       "      <th>qid1</th>\n",
       "      <th>qid2</th>\n",
       "      <th>question1</th>\n",
       "      <th>question2</th>\n",
       "      <th>is_duplicate</th>\n",
       "      <th>similarity</th>\n",
       "    </tr>\n",
       "    <tr>\n",
       "      <th>id</th>\n",
       "      <th></th>\n",
       "      <th></th>\n",
       "      <th></th>\n",
       "      <th></th>\n",
       "      <th></th>\n",
       "      <th></th>\n",
       "    </tr>\n",
       "  </thead>\n",
       "  <tbody>\n",
       "    <tr>\n",
       "      <th>216861</th>\n",
       "      <td>323090</td>\n",
       "      <td>17986</td>\n",
       "      <td>Aaas</td>\n",
       "      <td>My dad always yells at me and causes me anxiet...</td>\n",
       "      <td>0</td>\n",
       "      <td>0.0</td>\n",
       "    </tr>\n",
       "    <tr>\n",
       "      <th>109009</th>\n",
       "      <td>178981</td>\n",
       "      <td>178982</td>\n",
       "      <td>How do I make a box that I can put my phone in...</td>\n",
       "      <td>Hh</td>\n",
       "      <td>0</td>\n",
       "      <td>0.0</td>\n",
       "    </tr>\n",
       "    <tr>\n",
       "      <th>20072</th>\n",
       "      <td>37898</td>\n",
       "      <td>37899</td>\n",
       "      <td>How could I solve this?</td>\n",
       "      <td>…………..</td>\n",
       "      <td>0</td>\n",
       "      <td>0.0</td>\n",
       "    </tr>\n",
       "    <tr>\n",
       "      <th>16619</th>\n",
       "      <td>31672</td>\n",
       "      <td>31673</td>\n",
       "      <td>Can we mention the sc/st scholarship provided ...</td>\n",
       "      <td>Tyrone st.ours</td>\n",
       "      <td>0</td>\n",
       "      <td>0.0</td>\n",
       "    </tr>\n",
       "    <tr>\n",
       "      <th>301583</th>\n",
       "      <td>424494</td>\n",
       "      <td>424495</td>\n",
       "      <td>…..</td>\n",
       "      <td>What do I do with this guy?</td>\n",
       "      <td>0</td>\n",
       "      <td>0.0</td>\n",
       "    </tr>\n",
       "  </tbody>\n",
       "</table>\n",
       "</div>"
      ],
      "text/plain": [
       "          qid1    qid2                                          question1  \\\n",
       "id                                                                          \n",
       "216861  323090   17986                                               Aaas   \n",
       "109009  178981  178982  How do I make a box that I can put my phone in...   \n",
       "20072    37898   37899                            How could I solve this?   \n",
       "16619    31672   31673  Can we mention the sc/st scholarship provided ...   \n",
       "301583  424494  424495                                                …..   \n",
       "\n",
       "                                                question2  is_duplicate  \\\n",
       "id                                                                        \n",
       "216861  My dad always yells at me and causes me anxiet...             0   \n",
       "109009                                                 Hh             0   \n",
       "20072                                              …………..             0   \n",
       "16619                                      Tyrone st.ours             0   \n",
       "301583                        What do I do with this guy?             0   \n",
       "\n",
       "        similarity  \n",
       "id                  \n",
       "216861         0.0  \n",
       "109009         0.0  \n",
       "20072          0.0  \n",
       "16619          0.0  \n",
       "301583         0.0  "
      ]
     },
     "execution_count": 11,
     "metadata": {},
     "output_type": "execute_result"
    }
   ],
   "source": [
    "quora[quora.similarity == 0].head()"
   ]
  },
  {
   "cell_type": "code",
   "execution_count": 13,
   "metadata": {
    "collapsed": false,
    "scrolled": false
   },
   "outputs": [
    {
     "data": {
      "text/html": [
       "<div>\n",
       "<table border=\"1\" class=\"dataframe\">\n",
       "  <thead>\n",
       "    <tr style=\"text-align: right;\">\n",
       "      <th></th>\n",
       "      <th>qid1</th>\n",
       "      <th>qid2</th>\n",
       "      <th>question1</th>\n",
       "      <th>question2</th>\n",
       "      <th>is_duplicate</th>\n",
       "      <th>similarity</th>\n",
       "    </tr>\n",
       "    <tr>\n",
       "      <th>id</th>\n",
       "      <th></th>\n",
       "      <th></th>\n",
       "      <th></th>\n",
       "      <th></th>\n",
       "      <th></th>\n",
       "      <th></th>\n",
       "    </tr>\n",
       "  </thead>\n",
       "  <tbody>\n",
       "    <tr>\n",
       "      <th>381512</th>\n",
       "      <td>27379</td>\n",
       "      <td>66488</td>\n",
       "      <td>What are the safety precautions on handling sh...</td>\n",
       "      <td>What are the safety precautions on handling sh...</td>\n",
       "      <td>1</td>\n",
       "      <td>1.0</td>\n",
       "    </tr>\n",
       "    <tr>\n",
       "      <th>42822</th>\n",
       "      <td>33378</td>\n",
       "      <td>77112</td>\n",
       "      <td>How can the drive from Edmonton to Auckland be...</td>\n",
       "      <td>How can the drive from Edmonton to Auckland be...</td>\n",
       "      <td>1</td>\n",
       "      <td>1.0</td>\n",
       "    </tr>\n",
       "    <tr>\n",
       "      <th>190971</th>\n",
       "      <td>290199</td>\n",
       "      <td>290200</td>\n",
       "      <td>What qualification do you need for a nursing job?</td>\n",
       "      <td>What qualifications do you need for a nursing ...</td>\n",
       "      <td>1</td>\n",
       "      <td>1.0</td>\n",
       "    </tr>\n",
       "    <tr>\n",
       "      <th>396679</th>\n",
       "      <td>25708</td>\n",
       "      <td>67593</td>\n",
       "      <td>What were the major effects of the cambodia ea...</td>\n",
       "      <td>What were the major effects of the cambodia ea...</td>\n",
       "      <td>1</td>\n",
       "      <td>1.0</td>\n",
       "    </tr>\n",
       "    <tr>\n",
       "      <th>22818</th>\n",
       "      <td>42793</td>\n",
       "      <td>42794</td>\n",
       "      <td>Why's playing snooker by myself (with other pe...</td>\n",
       "      <td>Why's playing snooker by myself (with other pe...</td>\n",
       "      <td>1</td>\n",
       "      <td>1.0</td>\n",
       "    </tr>\n",
       "  </tbody>\n",
       "</table>\n",
       "</div>"
      ],
      "text/plain": [
       "          qid1    qid2                                          question1  \\\n",
       "id                                                                          \n",
       "381512   27379   66488  What are the safety precautions on handling sh...   \n",
       "42822    33378   77112  How can the drive from Edmonton to Auckland be...   \n",
       "190971  290199  290200  What qualification do you need for a nursing job?   \n",
       "396679   25708   67593  What were the major effects of the cambodia ea...   \n",
       "22818    42793   42794  Why's playing snooker by myself (with other pe...   \n",
       "\n",
       "                                                question2  is_duplicate  \\\n",
       "id                                                                        \n",
       "381512  What are the safety precautions on handling sh...             1   \n",
       "42822   How can the drive from Edmonton to Auckland be...             1   \n",
       "190971  What qualifications do you need for a nursing ...             1   \n",
       "396679  What were the major effects of the cambodia ea...             1   \n",
       "22818   Why's playing snooker by myself (with other pe...             1   \n",
       "\n",
       "        similarity  \n",
       "id                  \n",
       "381512         1.0  \n",
       "42822          1.0  \n",
       "190971         1.0  \n",
       "396679         1.0  \n",
       "22818          1.0  "
      ]
     },
     "execution_count": 13,
     "metadata": {},
     "output_type": "execute_result"
    }
   ],
   "source": [
    "quora.ix[np.logical_and(np.array(quora.similarity > 0.999), np.array(quora.is_duplicate == 1)),:].head()"
   ]
  },
  {
   "cell_type": "code",
   "execution_count": 14,
   "metadata": {
    "collapsed": false
   },
   "outputs": [],
   "source": [
    "all_qs = sorted(set(quora.question1.append(quora.question2).astype('str')))"
   ]
  },
  {
   "cell_type": "code",
   "execution_count": 15,
   "metadata": {
    "collapsed": false
   },
   "outputs": [],
   "source": [
    "all_qs = list(nlp.pipe(all_qs, n_threads=3))"
   ]
  },
  {
   "cell_type": "code",
   "execution_count": 24,
   "metadata": {
    "collapsed": false
   },
   "outputs": [],
   "source": [
    "clusters = {}\n",
    "for q in all_qs:\n",
    "    for token in q:\n",
    "        try:\n",
    "            if token.text not in clusters[token.cluster]:\n",
    "                clusters[token.cluster].append(token.text)\n",
    "        except KeyError:\n",
    "            clusters[token.cluster] = [token.text]"
   ]
  },
  {
   "cell_type": "code",
   "execution_count": 36,
   "metadata": {
    "collapsed": false
   },
   "outputs": [
    {
     "name": "stdout",
     "output_type": "stream",
     "text": [
      "0:  [' ', '(', 'B.Ed', ')', '?', 'PayPal', 'Gopalasamy', 'Vaiko', 'Blackthorn', 'Kieran']\n",
      "1:  ['vice']\n",
      "2:  ['billion', 'A.M', 'cetera', 'P.M', 'a.m.', 'trillion', 'a.m', 'ppm', 'billon', 'p.m.']\n",
      "3:  ['an', 'WORKFORCE']\n",
      "4:  [',']\n",
      "5:  ['increase', 'uptick']\n",
      "6:  ['kg', 'Co', 'CO', 'Co.', 'Kg', 'KG', 'mfg', 'co.', 'Signatures', 'Flax']\n",
      "7:  ['major']\n",
      "8:  ['.']\n",
      "9:  ['company', 'pope', 'taxman', 'Saxons', 'Divisor', 'IBA', 'comany']\n",
      "10:  ['become', 'undergone']\n",
      "11:  ['the', 'retaking']\n",
      "12:  ['to']\n",
      "13:  ['chats', 'talks', 'interviews', 'fights', 'fasts', 'agreements', 'dialogues', 'apprenticeships', 'discussions', 'meetings']\n",
      "14:  [\"''\", 'Appear']\n",
      "15:  ['two', 'uncountable', 'sixty', 'magma', '80-hour', 'fifty', 'inflammable']\n",
      "17:  ['Sept', 'Dec.', 'aug', 'Sept.', 'Oct', 'Nov', 'feb', 'oct', 'Aug', 'Aug.']\n",
      "18:  ['$', '#', 'Proposition', 'EXL']\n",
      "19:  ['a']\n",
      "20:  ['and', 'and/or', 'cum', 'profiling', 'CUM', 'Profiling']\n",
      "21:  ['perimeter', 'wake', 'end', 'expiry', 'brink', 'verge', 'mastermind', 'eve', 'roughness', 'dustbin']\n",
      "22:  ['clary', 'Hepburn', 'Reiner', 'Prine', 'Trump', 'Harmon', 'Pence', 'Styles', 'Rodgers', 'saari']\n",
      "23:  ['U.S.', 'PDF', '9th', 'U.S', 'pdf', 'Tuna', 'Lithuanian', 'U.K.', 'SS', 'Maldives']\n",
      "25:  ['shares', 'denominator', 'RTs', 'Rabbits']\n",
      "26:  ['wo', 'etc', 'respectively', 'ah', 'however', 'lactose', 'sir', 'D.C.', 'Thackeray', 'yeah']\n",
      "27:  ['its', 'inboard']\n",
      "28:  ['of']\n",
      "29:  ['year', 'century', 'decade', 'miser', 'fortnight']\n",
      "30:  ['The', 'Comparable', 'Elaborate', 'Rigid', 'Unidentified', 'Silicone', 'Heated', 'Billionaire', 'Indirect']\n",
      "31:  ['12th', 'second', '10th', '15th', 'third', '30th', 'fourth', '29th', '45th', '11th']\n",
      "33:  ['executive']\n",
      "34:  ['%', 'mph', '1/', '3/', 'micrograms', 'kilobytes', 'MPH', '5/']\n",
      "36:  ['-', ';', '+']\n",
      "37:  ['grade', 'star', 'personality', 'job', 'baby', 'percentile', 'calculator', 'house', 'god', 'marriage']\n",
      "38:  ['NASA', 'Ford', 'Galaxy', 'MIT', 'amd', 'BMI', 'Bernie', 'Honda', 'Mg', 'Noah']\n",
      "39:  ['strong', 'reportable', 'legit', 'flagging', 'soft', 'mediocre', 'stable', 'healthy', 'weak', 'deteriorating']\n",
      "41:  ['Pentagon', 'AP', 'NFL', 'NBA', 'mas', 'NHL', 'API', 'BLS', 'NHS', 'ISO']\n",
      "42:  ['analogous', 'likely', 'resistant', 'susceptible', 'vulnerable', 'unlikely', 'apt', 'amenable']\n",
      "45:  ['Primer', 'spokesperson', 'Beeline']\n",
      "46:  ['Stops', 'Category', 'Zippo', 'Phase', 'Chewing', 'Trendy', 'Spreadsheet', 'Sans', 'Spare', '`']\n",
      "47:  ['other', 'Lowcost', 'Coptic', 'coptic']\n",
      "49:  ['2017', '2016', '2012', '2003', '2007', '2010', '2011', '2013', '2015', '1989']\n",
      "50:  ['6', '8.25', '0', '7', '9', '101', '8', '7.0', '23.0', '20.0']\n",
      "52:  [\"'s\", 'Gangster']\n",
      "53:  ['close', '98.15', 'gape', 'swat']\n",
      "54:  ['Dr.', 'Gigi', 'Mr.', 'ZOE', 'Angelina', 'IB', 'Django', 'Arnab', 'Arun', 'arun']\n",
      "55:  ['tax', 'wage', 'martial', 'immigration', 'medicare', 'passbook', 'tariff', 'Passbook', 'fringe', 'slotting']\n",
      "57:  ['user', 'student', 'master', 'tenant', 'customer', 'placebo', 'pro', 'pilot', 'rival', 'tutorial']\n",
      "58:  ['can', 'cannot']\n",
      "59:  ['our', 'spousal']\n",
      "60:  ['in']\n",
      "61:  ['times', 'inches', 'occasions', 'corvettes', 'millimeters', 'Grammys', 'tunings']\n",
      "62:  ['In', 'phelps', 'Averaging']\n",
      "63:  ['this']\n",
      "65:  ['chief']\n",
      "66:  ['million', 'mg', 's2', 'liter', '4/5', 'hertz', 'S2', 'decibels', 'zx', 'Gripen']\n",
      "69:  ['agreement', 'experiment', 'afterlife', 'algorithm', 'amendment', 'injunction', 'appendix', 'ordinance', 'arrangement', 'obsession']\n",
      "70:  ['CHEMICAL', 'Service', 'Watchers', 'SERVICE', 'Printer', 'Chrome', 'Device', 'Card', 'Group', 'Networks']\n",
      "71:  ['15-year', '21-day', 'single', 'brief', '100-mile', 'whole', 'quasi', 'lone', 'perpetual', '17-month']\n",
      "73:  ['country', 'planet', 'rim', 'river', 'city', 'region', 'hemisphere', 'kingdom', 'Boers', 'republic']\n",
      "74:  [\"n't\"]\n",
      "77:  ['rides', 'spells', 'quotes', 'mirrors', 'offers', 'speeds', 'passes', 'sets', 'plays', 'touches']\n",
      "79:  ['hundred', 'few', 'thousand', 'zillion', '50ish', 'dozen']\n",
      "81:  ['Dec', 'June', 'July', 'April', 'May', 'March', 'May.', 'july']\n",
      "84:  ['that']\n",
      "85:  ['sequence', 'denial', 'list', 'band', 'round', 'cluster', 'definition', 'class', 'circle', 'radius']\n",
      "86:  ['Potter', 'Love', 'Clinton', 'Knight', 'Disraeli', 'Luke', 'Rey', 'Pluto', 'Prem', 'Kramer']\n",
      "87:  ['general', 'Milanese', 'flirty', 'Dollywood']\n",
      "89:  ['common', 'fractional', 'optioned']\n",
      "90:  ['they']\n",
      "93:  ['night', 'summer', 'spring', 'morning', 'winter', 'season', 'Night', '50k', 'autumn', 'mornings']\n",
      "94:  ['Any', 'My', 'Mortal', 'No', 'Your', 'Faster', 'YOUR', 'Absolute', 'Bad', 'Empty']\n",
      "95:  ['current', 'STS', 'prevailing', 'Flex', 'SLR', 'dermal', 'Slr', 'federalist', 'vehicular']\n",
      "97:  ['presidents', 'versa', 'Colossus', 'president', 'spoilers', 'penguins']\n",
      "98:  ['cent', 'mm', 'cents', 'Cent']\n",
      "100:  ['Than', 'AR', 'ABOUT', 'ar', 'Bless', 'Kal', 'Se', 'Ar', 'kal']\n",
      "101:  ['multiples', 'charge', 'favor', 'sight', 'advance', 'violation', 'increments', 'fractions', 'anticipation', 'defiance']\n",
      "102:  ['Tax', 'Supreme', 'District', 'Surgeon', 'Attorney', 'Superior', 'Uniform', 'DAC', 'Circuit', 'Bankruptcy']\n",
      "103:  ['onsite', 'additional', 'extra', 'unwanted', 'dm', 'DM', 'uncensored', 'undetermined', 'unclaimed', 'IMPORTANT']\n",
      "105:  ['market', 'terrier']\n",
      "106:  ['than']\n",
      "109:  ['Arabs', 'Israelis', 'twins', 'pros', 'paramedics', 'Giants', 'Americans', 'Democrats', 'gods', 'Indians']\n",
      "111:  ['such']\n",
      "113:  ['reason', 'ACCOUNT', 'STUDY', 'COURSE', 'COLORADO', 'WATER', 'MEAN', 'WORK', 'NEST', 'drawback']\n",
      "114:  ['250', '8.1', '1.5', '100', '5.5', '3.8', '800', '281', '792', '1.6']\n",
      "116:  ['said']\n",
      "117:  ['trading']\n",
      "118:  ['M.', 'Minister', 'A.', 'P.', 'J.', 'N.', 'v.', 'B.', 'b.', 'T.']\n",
      "119:  ['net']\n",
      "121:  ['store', 'Bible', 'media', 'hospital', '8000', 'lab', 'magazine', 'restaurant', 'mag', 'warehouse']\n",
      "122:  ['also', 'reportedly']\n",
      "123:  ['his']\n",
      "124:  ['at']\n",
      "125:  ['Silence', 'y', 'Anonymous', 'onward', 'BOS', 'Reward', 'excepted', 'Telecommuting', 'OVER', 'Sets']\n",
      "126:  ['He', 'She', 'Specially', 'Resignation', 'Newly', 'Sexually', 'Warships']\n",
      "127:  ['last']\n",
      "133:  ['share', 'barrel', 'kilo', 'row', 'kilogram', 'coward', 'psychopath', 'mastiff', 'Psychopath', 'gram']\n",
      "134:  ['Corp', 'corp', 'Mates', 'Corp.', 'Puat', 'Bros.', 'Scotia', 'Sat']\n",
      "135:  ['big', 'viscous', 'microwaveable', 'budding', 'Utopian']\n",
      "138:  ['believe', 'suggest', 'admit', 'insist', 'argue', 'acknowledge', 'resent', 'warn', 'reckon', 'stipulate']\n",
      "141:  ['conspiracies', 'indicators', 'circumstances', 'combinations', 'conditions', 'cycle', 'deprivation', 'abuses', 'fever', 'cycles']\n",
      "143:  ['twenty', 'three', 'ten', 'five', 'four', 'seven', 'eight', 'thirty', 'eighteen', 'thirteen']\n",
      "148:  ['but', 'para', 'wherein']\n",
      "149:  ['mark', 'rank', 'max', 'spill', 'split', 'lag', 'shepherd', 'shepherds', 'spread', 'swap']\n",
      "151:  ['Indian', 'Spanish', 'indian', 'British', 'Dutch', 'Mexican', 'Brazilian', 'Irish', 'Italian', 'Danish']\n",
      "153:  ['stock', 'transceiver', 'Transceiver']\n",
      "154:  ['which', '000', 'whichever']\n",
      "157:  ['month', 'week', 'Temptation']\n",
      "159:  ['first', 'Colonies']\n",
      "164:  ['--', 'Clever', 'HAVE', 'Manohar', 'manohar', 'Recognized']\n",
      "165:  ['concern', 'conglomerate', 'Conglomerate']\n",
      "166:  ['cisco', 'Cairo', 'Mars', 'haryana', 'Melbourne', 'PM', 'Berkeley', 'UCLA', 'Kentucky', 'Gettysburg']\n",
      "167:  ['high', 'low', '2400', '25000', 'roman', '2100']\n",
      "169:  ['judge', 'referee', 'senator', 'jury', 'breaker', 'judiciary', 'prosecutor', 'maestro', 'magistrate', 'mediator']\n",
      "170:  ['handed', 'turned', 'pops', 'snatched', 'walked', 'broke', 'shuts', 'turns', 'entered', 'thrown']\n",
      "173:  ['dealers', 'brokers', 'caterers', 'traders', 'neurosurgeons', 'Gun', 'crocodiles', 'Androids', 'androids', 'maglevs']\n",
      "175:  ['most', 'thermally', 'lyrically']\n",
      "177:  ['1920', 'diameter', '1887', '1971', '1870', '1947', '1917', '1776', 'Jabalpur', 'Tagalog']\n",
      "178:  ['30']\n",
      "181:  ['ship', 'design', 'review', 'repair', 'spy', 'score', 'lease', 'stamp', 'sack', 'bat']\n",
      "183:  ['foreign', 'foriegn', 'LDC']\n",
      "185:  ['sweetened', 'tender']\n",
      "186:  ['might', 'may']\n",
      "187:  ['their']\n",
      "189:  ['years', 'Rs', 'millennia', 'quarts', 'milliseconds', 'microns', 'Iwo']\n",
      "190:  ['Would', 'If', 'When', 'Maybe', 'Should', 'Solving', 'Assume', 'Did', 'Suppose', 'Whenever']\n",
      "197:  ['nomination', 'candidate', 'Olympiad', 'campaign', 'race', 'Games', 'nominee', 'aspirant', 'victory', 'homeopathic']\n",
      "198:  ['Department', 'Scalia', 'Initiative', 'Lasalle', 'Supplement', 'bonefish']\n",
      "199:  ['new', 'bestselling', 'supercharged', 'Beechcraft', 'multimedia', 'newer', 'holographic', 'conical', 'crystalline', 'LaserJet']\n",
      "201:  ['dollar', 'latter', 'lizard', 'testicles', 'Sniper', 'CPI', '20k', 'iam', 'Iam', 'peso']\n",
      "202:  ['been']\n",
      "205:  ['services', 'aids', 'Thrones', 'sciences', 'thrones', 'mutton', 'Discharge', 'diagnostics']\n",
      "207:  ['subsequent', 'recent', 'Aaas', 'olden', '12-hour', 'sleepless', 'wee', 'formative', 'AAAS']\n",
      "209:  ['August', 'February', 'December', 'October', 'punctual', 'January', 'November', 'September', '1833', 'january']\n",
      "212:  ['as']\n",
      "213:  ['kind', 'aspect', 'Aspect', 'type', 'upwards', 'stacks', 'lots', 'hardening', 'falsification', 'misuse']\n",
      "214:  ['Wilde', 'Jamal', 'Assad', 'Carter', 'Te', 'Reagan', 'Nixon', 'Ambani', 'Bonaparte', 'Chun']\n",
      "215:  ['gay', 'beautiful', 'black', 'poor', 'dark', 'replaceable', 'Hindu', 'capitalist', 'tall', 'male']\n",
      "217:  ['own', 'militaries', 'entirety', '80-year']\n",
      "218:  ['he', 'she', 'Neri']\n",
      "221:  ['graders', 'quarter', 'grader', 'trimester', 'inning']\n",
      "222:  ['A', 'Fractional', 'Relatively']\n",
      "223:  ['biggest', 'omnivorous', 'oldest', 'wealthiest', 'richest', 'largest', 'Busiest', 'tiniest', 'costliest', 'poorest']\n",
      "225:  ['Aerodynamics', 'founder', 'sisal', 'flaxseed', 'saunas', 'chairman', 'Insights', 'ghostwriter', 'oboes', 'Maestro']\n",
      "226:  ['1/4', '0.10', '1/3', '3/4', '2/3', '1/2', '17.99', '0.27', '3/16', '0.025']\n",
      "228:  [':', '=', 'Brings']\n",
      "229:  ['traffic', 'overtime', 'delivery', 'pollution', 'HPV', 'hpv', 'asceticism']\n",
      "230:  ['New', 'Sergeant', 'Unforgettable']\n",
      "231:  ['annual', 'adjustable', 'annualized']\n",
      "233:  ['committee', 'suite', 'panel', 'Sketch', 'council', 'Presidium', 'newshour', 'Newshour', 'searcher']\n",
      "234:  ['very', 'surprisingly', 'extremely', 'pretty', 'perfectly', 'relatively', 'Abnormally', 'inherently', 'incredibly', 'mutually']\n",
      "237:  ['foreigners', 'consumers', 'tourists', 'REITs', 'employers', 'hamsters', 'xenophobes', 'homeowners', 'snowboarders', 'landlords']\n",
      "239:  ['some', 'overfilling']\n",
      "241:  ['officer']\n",
      "242:  ['1000', '21,000', '4,000', '90,000', '10,000', '80,000', '160,000', '500,000', '46,000', '75,000']\n",
      "244:  ['asks', 'says', 'explains', 'complains', 'retorts', 'mourns', 'warns', 'sniffs', 'asserts', 'exclaims']\n",
      "245:  ['rely', 'depend', 'focus', 'yield', 'Heard', 'foreclose', 'concentrate', 'infringe', 'dwell', 'renege']\n",
      "246:  ['walid', 'Sir', 'Astrophysicist', 'Developer', 'Sen.', 'Grandmaster', 'Judge', 'Detective', 'Soprano', 'Dara']\n",
      "247:  ['Class', 'Grade', 'Statement', 'vitamin', 'Discover', 'Series', 'Type', 'Vitamin', 'Hepatitis', 'hepatitis']\n",
      "249:  ['exchange', 'IPO', 'ipo']\n",
      "250:  ['was']\n",
      "251:  ['my', 'your', 'congestive', 'thy', 'potting', 'Uncharted', 'uncharted', 'banishing', 'filial', 'bloodshot']\n",
      "252:  ['by']\n",
      "253:  ['miles', 'watts', 'feet', 'meters', 'kilometers', 'volts', 'yards', 'centimeters', 'barrels', 'pairs']\n",
      "254:  ['Surprisingly', 'Also', 'Similarly', 'Actually', 'Indeed', 'Already', 'Unfortunately', 'Anyway', 'SCIENTIFICALLY', 'Still']\n",
      "255:  ['next', '20th', '18th', '21st', '19th', 'twentieth', 'Baikonur']\n",
      "261:  ['>', 'inception', 'Inception', 'stake']\n",
      "266:  ['improve', 'simplify', 'reduce', 'regain', 'loosen', 'reenter', 'consolidate', 'maximize', 'redirect', 'shorten']\n",
      "269:  ['gap', 'secrets', 'imbalance', 'infringement', 'deficit', 'barriers', 'deficits', 'surplus', 'infringements', 'imbalances']\n",
      "277:  ['shutdown', 'implementation', 'sale', 'retina', 'issuance', 'withdrawal', 'rejection', 'inauguration', 'implantation', 'installation']\n",
      "293:  ['mine', 'tank', 'thrower', 'shop', 'cone', 'parlor', 'transformer', 'plant', 'station', 'tournament']\n",
      "294:  ['img', 'Apple', 'Samsung', 'CA', 'IIT', 'Sun', 'GPA', 'Weight', 'IPM', 'MB']\n",
      "295:  ['false', 'similar', 'random', 'fraudulent', 'quick', 'comparable', 'menstrual', 'confidential', 'bogus', 'copyrighted']\n",
      "297:  ['government', 'mint', 'goverment', 'presenter', 'raj', 'corporal', 'DOE']\n",
      "298:  ['2000', 'earlier', '2040']\n",
      "306:  ['1', '1.0', '8s', '5.00']\n",
      "309:  ['please', 'help', 'succeed']\n",
      "311:  ['export', 'pedagogical', 'retail', 'restraining', 'rental', 'wholesale', 'import', 'alphabetical', 'gasket', 'Alphabetical']\n",
      "313:  ['baseline', 'patent', 'budget', 'gender', 'copyright', 'Jedi', 'jedi', 'rescission', 'appropriations']\n",
      "317:  ['days', 'minutes', 'seconds', 'dependencies', 'MHz', 'rpm', 'Carrera', 'MHZ', 'Minutes']\n",
      "318:  ['Behind', 'After', 'Determine', 'Using', 'Given', 'Wearing', 'Absent', 'Accepting', 'Under', 'Against']\n",
      "325:  ['ways', 'clue', 'solution', 'chance', 'transition', 'threat', 'tribute', 'lengths', 'stranger', 'Gratuity']\n",
      "326:  ['und', '&', 'OG', 'og']\n",
      "327:  ['original', 'final', 'formal', 'notarized', 'definitive', 'prenuptial', 'provisional', 'standstill', 'astral', 'mere']\n",
      "329:  ['world', 'Earth', 'U.K', 'AFC', 'ERP', 'finder', 'erp', 'Clock', 'RPA', 'aorta']\n",
      "333:  ['beaches', 'boards', 'examples', 'scars', 'memories', 'cultures', 'episodes', 'waves', 'IONS', 'ions']\n",
      "341:  ['number', 'continuation', 'Fountainhead', 'Matter', 'chunks', 'Tale', 'fraction', 'incidences', 'cadre', 'subset']\n",
      "343:  ['former', '22-year', '19-year', 'leftwing', 'outgoing', 'lifelong', 'longtime', 'dapper', 'insomniac', 'trusty']\n",
      "345:  ['Y', 'D', 'B', 'G', 'F', 'H', 'E', '10000', 'buffer', 'bo']\n",
      "346:  ['I', '.I', '.i', 've', 'Bucky']\n",
      "349:  ['Depression', 'cervix', '1970s', 'eighties', '1990s', '1960s', 'crash', 'rudest', '1600s', '1920s']\n",
      "350:  ['Each', 'One', 'None', 'Units', 'Another', 'Part', 'Sponsorship', 'Assets', 'Scores', 'Delivery']\n",
      "351:  ['NET', 'latest', 'lastest', 'Shree', 'Nikkei', 'cruelest', 'Longest', 'SHREE', 'Seng', 'Dax']\n",
      "357:  ['money', 'raccoons', 'leftovers', 'cashews', 'discoloration', 'frisbee', 'levity', 'Frisbee', 'omega-3', 'Omega-3']\n",
      "358:  ['1st', 'North', 'AC', 'Central', 'Latin', 'Anglo', 'Native', 'Discovery', 'Timor', 'Persons']\n",
      "359:  ['integrated', 'unexplored', 'empty', 'asteroid', 'offshore', 'evil', 'instant', 'anonymous', 'employee', 'emergency']\n",
      "361:  ['industry', 'oven', 'neuropathy', 'impurity', 'additive']\n",
      "362:  ['up', 'aside', 'aflame']\n",
      "365:  ['people', 'guys', 'persons', 'narcissists', 'spiders', 'rappers', 'masons', 'geographers', 'communicators', 'migraines']\n",
      "369:  ['particular', 'fact', 'rumours', 'macaw', 'essence', 'Alba', 'retrospect', 'snowboarding', 'Ghazni', 'Bexley']\n",
      "374:  ['b', 'c', 'd', 'UK', 'h', 'P', 'f', 'Pantheon', 'Wozniak', 'k']\n",
      "375:  ['consolidated', 'quarterly', 'volumetric', 'undistributed', 'Volumetric', 'unconsolidated']\n",
      "377:  ['china', 'food', 'energy', 'chemical', 'leisure', 'capacitor', 'entertainment', 'gaming', 'lodging', 'realty']\n",
      "378:  ['have']\n",
      "380:  ['from', 'vs.', 'fom']\n",
      "382:  ['Which', 'Every', 'This', 'Nicotine', 'Hydrogen', 'Rapeseed', 'Suicide', 'Compromise', 'Inflation', 'Flexibility']\n",
      "389:  ['point', 'gainer', 'notch', 'sunspots', 'birdhouse']\n",
      "390:  ['Inc', 'Inc.', 'Drift', 'Flame', 'Sec', 'Scouts', 'Statutes', 'Informatique', 'scotia', 'Perspective']\n",
      "391:  ['large', 'small', 'lesser', 'discrete', 'finite', 'disproportionate', 'tiny', 'sleepy', 'curvy', 'fancy']\n",
      "394:  ['agree', 'complain', 'appear', 'worry', 'talk', 'stick', 'confide', 'brag', 'bother', 'disagree']\n",
      "397:  ['improvement', 'differences', 'similarities', 'changes', 'differential', 'collisions', 'progress', 'surprises', 'escalators', 'accommodation']\n",
      "399:  ['six', 'twelve', 'nine', 'eleven']\n",
      "404:  ['or', 'versus', 'foreshadowing', 'fives']\n",
      "405:  ['average', 'median', 'auditory', 'eyelash']\n",
      "407:  ['European', 'African', 'inner', 'Asian', 'asian', 'Korean', 'Stateless', 'korean', 'Bengali', 'sovereign']\n",
      "410:  ['who', 'hast', 'Cristal']\n",
      "421:  ['professor', 'recruiter', 'director', 'compiler', 'editor', 'Compiler', 'cofounder', 'conservator', 'perquisite']\n",
      "422:  ['Windows', 'YES', 'Parliament', 'saliva', 'PowerPoint', 'hers', 'neutrons', 'God', 'Islam', 'astrology']\n",
      "423:  ['sexually', 'growing', 'politically', 'potentially', 'socially', 'mentally', 'financially', 'highly', 'innately', 'heated']\n",
      "425:  ['House', 'Shark', 'Collar', 'Plains', 'Lengths', 'Colosseum', 'Oberoi', 'Reaper', 'Cong']\n",
      "426:  ['unites', 'makes', 'exposes', 'contains', 'gives', 'requires', 'covers', 'kills', 'leaves', 'executes']\n",
      "429:  ['official', 'observer', 'offical', 'aide', 'informer', 'AE-1', 'alumnus']\n",
      "434:  ['75', '25', '.01', '0.75', '16.20', '6.0', '0.22', '12.5', '6.25', '0.94']\n",
      "437:  ['dig', 'speak', 'run', 'break', 'mesh', 'stand', 'catch', 'bite', 'ride', 'plug']\n",
      "439:  ['32-bit', 'personal', 'blue', 'taxable', 'Handcrafted', 'radial', 'laptop', 'T4', 'congenital', 'portable']\n",
      "441:  ['federal', 'texas', 'supplementary', 'messiest']\n",
      "442:  ['will']\n",
      "445:  ['months']\n",
      "446:  ['Like', 'While', 'Although', 'Though', 'Asking', 'Finding', 'Complains', 'Whatever', 'Explained', 'Observed']\n",
      "453:  ['hearing', 'conferences', 'conference', 'referendum', 'notary', 'pun', 'clipping', 'colloquium', 'symposium', 'seminar']\n",
      "454:  ['War', 'Universe', 'Safe', 'Federalist', 'USSR', 'Mahindra', 'Americas', 'Teeth', 'Dolphins', 'Vikings']\n",
      "455:  ['ranking', 'leading', 'tangential', 'coincident', 'prominent', 'visiting', 'reputed', 'dominant', '5th', 'prestigious']\n",
      "457:  ['woods', 'equator', 'sun', 'SAP', 'premiership', 'Beatles', 'penis', 'pendulum', 'Constitution', 'PSD']\n",
      "458:  ['be']\n",
      "461:  ['computers', 'songs', 'tickets', 'chips', 'apples', 'oranges', 'mangoes', 'bananas', 'wolves', 'lakes']\n",
      "463:  ['fiscal', 'centennial', 'nineteenth']\n",
      "468:  ['since', 'c.', 'circa']\n",
      "469:  ['half', '1/10th', 'Vis', 'Tripling', 'tripling', 'newsreels']\n",
      "470:  ['Bath', 'Raman', 'Desk', 'Black', 'Maps', 'Scottish', 'XII', 'Castle', 'YOUNG', 'Leeds']\n",
      "471:  ['IP', 'ACT', 'Muslim', 'Summer', 'Democratic', 'mod', 'GOP', 'Christian', 'Republican', 'Nobel']\n",
      "473:  ['previously', 'incorrectly']\n",
      "474:  ['it', 'TDD', 'Oberon', 'mummification']\n",
      "477:  ['time', 'Vim', 'Bandwidth', 'bandwidth', 'vim', 'downtime', 'beep', 'nettle']\n",
      "478:  ['IT', 'LINCOLN', 'DIRECT', 'DO', 'NOT', 'WHAT', 'THE', 'COME', 'FOR', 'GUY']\n",
      "479:  ['best', 'shortest', 'smallest', 'greatest', 'highest', 'worst', 'earliest', 'easiest', 'meanest', 'cheapest']\n",
      "485:  ['profit', 'typhus']\n",
      "486:  ['Metal', 'Stock', 'Cotton', 'Developments']\n",
      "487:  ['potential', 'mass', 'secret', 'replacement', 'multiple', 'superpower', 'prospective', 'halo', 'predatory', 'residual']\n",
      "489:  ['oracle', 'army', 'carrier', 'airline', 'infantry', 'countertop', 'utility', 'REIT', 'thrift', 'HMO']\n",
      "490:  ['clear', 'sure', 'surprising', 'wondering', 'convinced', 'conceivable', 'unclear', 'printable', 'debatable', 'kidding']\n",
      "493:  ['teachers', 'Muslims', 'students', 'corpses', 'workers', 'Olympians', 'employees', 'residents', 'smokers', 'drivers']\n",
      "495:  ['those']\n",
      "497:  ['example', 'Humanity', 'instance', 'Instance', 'starters', 'tat', 'Tat']\n",
      "501:  ['Ca', 'B2', 'permission', 'approval', 'b2', 'A2', 'clearance', 'authorization', 'fro', 'approvals']\n",
      "502:  ['Mark', 'Harry', 'Katherine', 'Peter', 'Eileen', 'Tim', 'Stephanie', 'Yair', 'Jon', 'Dorothy']\n",
      "503:  ['real', 'spatial', 'deterministic', 'Netherland', 'technicolor', 'Spatial']\n",
      "505:  ['notes', 'debentures', 'Eurobonds']\n",
      "506:  ['were', 'wer', 'Wer']\n",
      "507:  ['her', 'ischemic', 'Poznan', 'ventricular', 'medicated', 'Ventricular', 'characterless', 'pinot', 'rex', 'Sarin']\n",
      "508:  ['for', 'Provides']\n",
      "509:  ['annually', 'pesos', 'dollars', 'pennies', 'Rapunzel', 'BTUs', 'Mandate', 'KGMC', 'blockheads', 'cornmeal']\n",
      "510:  ['Judging', 'Thanks', 'Aside', 'Ranked', 'Due', 'According', 'Adding', 'Apart', 'Entrances', 'Used']\n",
      "511:  ['past', 'Tupac', 'mid-90s']\n",
      "517:  ['decrease', 'drop', 'leap', 'rise', 'jump', 'jinx', 'decline', 'slide', 'spike', 'dip']\n",
      "522:  ['let', 'give', 'pick', 'lend', 'bless', 'summon', 'rob', 'distract', 'lighten', 'accuse']\n",
      "525:  ['contact', 'links', 'friction', 'limbo', 'contacts', 'connections', 'relationships', 'trouble', 'sympathy', 'connection']\n",
      "533:  ['scope', 'din', 'context', 'effects', 'breadth', 'nature', 'middle', 'significance', 'chances', 'size']\n",
      "549:  ['guy', 'person', 'woman', 'man', 'patriot', 'musician', 'singer', 'boy', 'citizen', 'hunter']\n",
      "551:  ['good', 'lovely', 'strange', 'sad', 'cheap', 'bad', 'stupid', 'decent', 'perfect', 'plain']\n",
      "554:  ['thanks', 'according', 'referring', 'amounting', 'alluding', 'refering', 'preferring']\n",
      "565:  ['lead', 'cool', 'lean', 'slow', 'Tame', 'smooth', 'bake', 'calm', 'tame', 'narrow']\n",
      "567:  ['electoral', 'oral', 'algebraic', 'Algebraic', 'pajama', 'regulatory', 'autoimmune', 'investigatory', 'governmental', 'affirmative']\n",
      "569:  ['state', 'lemon', 'racquets', 'county', 'calligraphy', 'Sundance', 'Yankees', 'riot', 'yankees', 'Mets']\n",
      "581:  ['interview', 'Android', 'annum', 'hour', 'inch', 'uphill', 'se', 'Advertisement', 'introvert', 'Annum']\n",
      "582:  ['Physics', 'Publishing', 'Power', 'Development', 'Airplane', 'Insurance', 'Mining', 'Electric', 'Poly', 'Marketing']\n",
      "599:  ['associate', 'assistant', 'managing', 'deputy', 'bulking', 'adjunct', 'honorary', 'ASSISTANT', 'Honorary']\n",
      "602:  ['you', 'ye']\n",
      "606:  ['Active', 'Phone', 'Compulsory', 'Low', 'Reported', 'Her', 'His', 'Its', 'Positive', 'Promotional']\n",
      "607:  ['preceding', 'previous', '6th', 'prior', 'Ebenezer']\n",
      "613:  ['knowledge', 'choice', 'explanation', 'reminder', 'renderings', 'misunderstanding', 'hints', 'infinity', 'signs', 'acceptance']\n",
      "614:  ['Soft', 'Share', 'Dual', 'Core', 'Customer', 'Modeling', 'Silver', 'Pilot', 'Laptop', 'Actuarial']\n",
      "615:  ['initial', 'indefinite', 'inauspicious', '18-year', '11-year', 'immediate', 'intraday', 'eventual', 'shelf', 'unsolicited']\n",
      "618:  ['about']\n",
      "633:  ['sex', 'English', 'acne', 'charity', 'college', 'mba', 'apple', 'dinner', 'MBA', 'acid']\n",
      "634:  ['already', 'historically', 'traditionally']\n",
      "650:  ['regret', 'knew', 'thought', 'hope', 'guess', 'wish', 'loved', 'liked', 'cared', 'felt']\n",
      "653:  ['action', 'recommendations', 'arguments', 'intervention', 'eyesight', 'actions', 'comments', 'remarks', 'findings', 'duties']\n",
      "660:  ['via', 'including', 'aka', 'excluding', 'AKA', 'Permit', 'te', 'citing', 'IL', 'Aka']\n",
      "661:  ['cost', 'consist', 'purr', 'cradle', 'outlines']\n",
      "663:  ['Chinese', 'Singaporean', 'chinese', 'Japanese', 'Vietnamese', 'multinational', 'Taiwanese', 'Bedouin', 'Burmese', 'Kenyan']\n",
      "677:  ['unit', 'subsidiary', 'messiah', 'op', 'philips', 'electrolux']\n",
      "678:  ['London', 'Singapore', 'Amsterdam', 'Venice', 'Surat', 'Istanbul', 'Dubai', 'Scandinavia', 'Lisbon', 'Milan']\n",
      "679:  ['short', 'Search', 'nursing', 'grace', 'Uttar', 'madhya', 'dining', 'vested', 'Madhya', 'Sins']\n",
      "681:  ['court', 'snowboard', 'capitol', 'harmonics', 'penitentiary', 'trooper', 'panther', 'jailer', 'larceny', 'Snowboard']\n",
      "682:  ['caused', 'marked', 'superseded', 'hit', 'tracked', 'offended', 'hurt', 'influenced', 'irritated', 'inspired']\n",
      "685:  ['observers', 'specialists', 'analysts', 'skeptics', 'experts', 'economists', 'ma', 'commentators', 'meteorologists', 'oddsmakers']\n",
      "690:  ['16', '27', '13', '14', '17', '19', '21', '23', '24', '28']\n",
      "693:  ['quote', 'cry', 'repeat', 'ruin', 'mention', 'cause', 'refund', 'recall', 'bribe', 'reward']\n",
      "695:  ['certain', 'cataract', 'cinder', 'peppery', 'digitalized']\n",
      "697:  ['friendly', 'leveraged', 'hostile']\n",
      "698:  ['should', 'must', 'shall', 'shalt']\n",
      "702:  ['Are', 'Can', 'How', 'What', 'Do', 'Why', 'Be', 'Come', 'Get', 'Want']\n",
      "709:  ['truth', 'topic', 'question', 'conclusion', 'task', 'omen', 'trick', 'idea', 'aim', 'suggestion']\n",
      "710:  ['Principles', 'Act', 'Convention', 'Week', 'Activities', 'Scheme', 'Gym', 'Party', 'ANALYSIS', 'Abstract']\n",
      "717:  ['tools', 'devices', 'materials', 'tool', 'gear', 'equipment', 'cord', 'consoles', 'scopes', 'keyboards']\n",
      "725:  ['part', 'spite', 'trillions', 'mutuality', 'depictions', 'milestones', 'lieu']\n",
      "726:  ['Godfather', 'Jehovah', 'Alzheimer', 'alzheimer', 'Moody', 'Domino', 'Claire', 'Poor', 'Wendy', 'Barron']\n",
      "741:  ['prices']\n",
      "742:  ['Sphere', 'Morgan', 'wr', 'COAST', 'Fulton', 'WR']\n",
      "743:  ['calorie', 'daily', 'discount', 'capita', 'weekly', 'subscription', 'monthly', 'repo', 'variable', 'hourly']\n",
      "745:  ['group', 'Maker', 'clan', 'Survivor', '5/2', 'confederation', 'consortium']\n",
      "746:  ['well', 'Deadly', 'Giri']\n",
      "749:  ['companies', 'ruminants', 'racers', 'multinationals', 'Racers', 'outhouses']\n",
      "751:  ['many', 'vicks', 'Vicks']\n",
      "757:  ['byte', 'comment', 'elaborate', '2320', 'matrimony', 'generis', '2690', 'naught', 'posterity', 'nought']\n",
      "758:  ['Professor', 'Analyst', 'Consultant', 'Owner', 'Commissioner', 'Notice', 'Architect', 'Officer', 'Bertrand', 'Prince']\n",
      "759:  ['10-year', '30-year', 'longterm']\n",
      "761:  ['interest', 'delinquency', 'occupancy']\n",
      "762:  ['is', 'exerts', 'hath']\n",
      "773:  ['role', 'ingredient', 'player', 'healer', 'reduction', 'thorn', 'factor', 'bulge', 'presence', 'element']\n",
      "778:  ['distribute', 'convert', 'cancel', 'sell', 'refuel', 'embed', 'modify', 'combine', 'execute', 'customize']\n",
      "781:  ['results', 'standings', 'underbelly', 'overlords']\n",
      "789:  ['speaker', 'king', 'creator', 'conductor', 'owner', 'target', 'guardian', 'inventor', 'architect', 'author']\n",
      "805:  ['program', 'sc', 'procedure', 'device', 'formula', 'machine', 'weapon', 'generator', 'setup', 'valve']\n",
      "806:  ['Time', 'Gibraltar', 'GB', 'HANA', 'Com', 'K', 'gb', 'xyz', 'vertex', 'gf']\n",
      "807:  ['subliminal', 'specific', 'practical', 'positive', 'negative', 'mild', 'severe', 'substantial', 'serious', 'rational']\n",
      "809:  ['party', 'union', 'Knesset', 'zoo', 'MP', 'university', 'Thread', 'Nepalese', 'VC', 'Intrepid']\n",
      "810:  ['outstanding']\n",
      "818:  ['5', '4', '2', '3', '0.8', '2.25', '.22', '4.00', '1.10', '0.1']\n",
      "821:  ['lift', 'double', 'halt', 'hamstring', 'upgrade', 'limit', 'crease', 'stem', 'reload', 'bypass']\n",
      "823:  ['psychological', 'technical', 'viral', 'legal', 'diplomatic', 'historical', 'gravitational', 'democratic', 'mechanical', 'biochemical']\n",
      "825:  ['settlement', 'consent', 'merger', 'enlistment', 'confidentiality', 'buyout', 'ICP']\n",
      "830:  ['From', 'Until', 'Since', 'CONSIDER', 'Between', 'By', 'november', 'Before', 'Broadly', 'september']\n",
      "837:  ['order', 'principle', 'reaction', 'relation', 'response', 'jeopardy', 'vain', 'deference', 'utero']\n",
      "838:  ['Immigration', 'Securities', 'Food', 'ins', 'Humanities', 'Clothing', 'Ins', 'Metals', 'glycerol', 'Matrimonial']\n",
      "841:  ['lion', 'nation', 'Rubik', 'ITA', 'Pandora', 'colony', 'hornet', 'shah', 'hangman', 'rubik']\n",
      "845:  ['cities', 'states', 'countries', 'languages', 'nations', 'religions', 'Commando', 'democracies', 'provinces', 'currencies']\n",
      "853:  ['series', 'follower', 'mixture', 'couple', 'bit', 'bunch', 'lot', 'reflection', 'torrent', 'pair']\n",
      "855:  ['senior', 'junior', 'turbaned', 'tenured']\n",
      "858:  ['You', 'We', 'Fatal']\n",
      "862:  ['Fifty', 'Three', 'Two', 'Myriad', 'Arrival', 'Among', 'Debit', 'Five', 'Nine', 'Eleven']\n",
      "863:  ['sine', 'incubation', '-The', '-the']\n",
      "869:  ['responsibility', 'demand', 'amplitude', 'enthusiasm', 'empathy', 'foils', 'rationale', 'prospects', 'motivation', 'template']\n",
      "870:  ['Instruments', 'Air', 'marten', 'Sallie', 'Beef', 'Rangers', 'Cruise', 'Bounce', 'Punch', 'Intermediate']\n",
      "871:  ['unlimited', 'odd', 'intimate', 'ugly', 'awful', 'illegal', 'extreme', 'arbitrary', 'unexpected', 'anti']\n",
      "873:  ['poo', 'administration', 'Xiaoping', 'ISE', 'Presidency', 'Doo', 'Rajan', 'Rana', 'Alam', 'Curve']\n",
      "874:  ['Sundays', 'Saturdays', 'centigrade', 'Celsius', 'Tuesday', 'Monday', 'Friday', 'Sunday', 'Thursday', 'Fahrenheit']\n",
      "877:  ['x', 'wives', 'men', 'women', 'boys', 'girls', 'churches', 'teens', 'sharks', 'dogs']\n",
      "881:  ['Addition', 'addition', 'contrast', '1687']\n",
      "887:  ['operating']\n",
      "889:  ['investment']\n",
      "890:  ['has']\n",
      "894:  ['It', 'Boredom']\n",
      "901:  ['result', 'Homunculus', 'bundle']\n",
      "902:  ['SA', 'W', 'AB', 'AS', 'LP', 'Ltd', 'Ltd.', 'Wagon', 'Tzu', 'Gel']\n",
      "906:  ['want', 'hate', 'seem', 'belong', 'intend', 'Aspire', 'prefer', 'tend', 'aspire', 'hesitate']\n",
      "909:  ['rates']\n",
      "916:  [\"'\", 'Toe', 'Brownian', 'Query', 'brownian', 'Fates']\n",
      "917:  ['offering']\n",
      "919:  ['central', 'merchant', 'piggy']\n",
      "933:  ['analyst', 'MET', 'oceanographer']\n",
      "934:  ['Side', 'Germany', 'Germans', 'Coast', 'Virginia', 'Berlin', 'End', 'Bengal', 'sak', 'Point']\n",
      "935:  ['long', 'bio', 'comfy', 'Neanderthals', 'elapsed', 'tarantula', 'Comfy']\n",
      "937:  ['Challenger', 'Antarctic', 'Palestine', 'Rainbow', 'Vatican', 'UN', 'Senate', 'Homeless', 'senate', 'Mental']\n",
      "938:  ['jumped', 'fell', 'rose', 'climbed', 'dipped', 'leaped', 'skidded']\n",
      "941:  ['officials']\n",
      "946:  ['40', '99', '33', '64', '66', '35', '55', '94', '95', '69']\n",
      "949:  ['step', 'section', 'phase', 'twist', 'sign', 'pile', 'entrant', 'bang', 'tier', 'feature']\n",
      "951:  ['phone', 'Vodafone', 'neural', 'cellular', 'horoscope', 'cable', 'telephone', 'DMS', 'witch', 'vodafone']\n",
      "953:  ['treble', 'Chapter', 'punitive']\n",
      "954:  ['could']\n",
      "957:  ['hours', 'weeks', 'generations', 'semesters', 'nights', 'seasons', 'sessions', 'servings', 'Commandments', 'freelancers']\n",
      "958:  ['As', 'Introduce', 'Searching', 'Aiming', 'Formerly', 'Preparing', 'Waiting', 'Adjusting', 'Sending']\n",
      "965:  ['offer', 'overture']\n",
      "966:  ['/', 'Programming', 'Politics', 'Anybody', 'Believers', 'Look', 'Desire', 'Kiss', 'Men', 'Thought']\n",
      "967:  ['basic', 'barbarous', 'core', 'prime', 'subconscious', 'normal', 'traditional', 'usual', 'royal', 'premier']\n",
      "973:  ['translations', 'markets', 'pits', 'exchanges', 'picker', 'marketplaces', 'championships', 'pickers', 'bathhouses']\n",
      "980:  ['because', 'BECAUSE', \"'cause\", 'smacking']\n",
      "981:  ['worth', 'afraid', 'tired', 'jealous', 'cognizant', 'capable', 'aware', 'shy', 'supportive', 'proud']\n",
      "982:  ['Stanford', 'HQ', 'BC', 'CSS', 'Cornell', 'Harvard', 'Kai', 'Northwestern', 'Toll', 'Smiths']\n",
      "983:  ['Tamil', 'Islamic', 'Israeli', 'tamil', 'Soviet', 'Czech', 'Iranian', 'Pakistani', 'Iraqi', 'Moroccan']\n",
      "985:  ['holding', 'surviving']\n",
      "986:  ['there', 'taekwondo', 'TMJ', 'SCOTUS']\n",
      "989:  ['moment', 'day', 'semester', 'minute', 'cliff', 'penny', 'gig', 'rapist', 'whit', 'Treadmill']\n",
      "991:  ['same', 'weirdest', 'slightest', 'nth', 'luckiest', 'scariest', 'A10', 'stupidest', 'densest', 'Nth']\n",
      "997:  ['ratio', 'rate', 'chlorate', 'dichromate']\n",
      "998:  ['York']\n",
      "999:  ['total', 'proofreading', 'sonnet', 'Sonnet', 'Proofreading']\n",
      "1001:  ['law', 'code', 'acounting', 'statute', 'constitution', 'legislature', 'preparer', 'york', 'Limelight', 'fiat']\n",
      "1002:  ['raised', 'reduced', 'waived', 'lifted', 'upgraded', 'misrepresented', 'extended', 'abandoned', 'devalued', 'inflated']\n",
      "1005:  ['managers', 'scientists', 'consultants', 'counselors', 'accountants', 'geniuses', 'bankers', 'educators', 'wizards', 'critics']\n",
      "1007:  ['both', 'domesticated', 'equatorial', 'combatting']\n",
      "1009:  ['course', 'page', 'pages', 'photons', 'Lok', 'Photons', 'Campus', 'proprietorship', 'Biochemistry', 'berths']\n",
      "1013:  ['home', 'downhill', '2,160', 'insead', 'Pradesh', '1500', '1700', 'Harrow', '30000', '1600']\n",
      "1014:  ['Haskell', 'Pink', 'Floyd', 'Hillary', 'Joker', 'Benjamin', 'Henry', 'Theresa', 'ABRAHAM', 'Ferdinand']\n",
      "1015:  ['presidential', 'parliamentary', 'newly', 'genetically', 'democratically', 'midterm', 'nominating', 'doctoral', 'multiparty', '.357']\n",
      "1017:  ['securities', 'stockholding']\n",
      "1018:  [\"'ve\"]\n",
      "1020:  ['with', 'wih', 'symbolizing']\n",
      "1021:  ['marks', 'Rupees', 'rupees', 'rand', 'yuan', 'francs', 'mips', 'Baht', 'apiece', 'baht']\n",
      "1022:  ['Friends', 'Accommodations', 'Ads', 'Police', 'Witnesses', 'Feminists', 'Photos', 'Inspectors', 'Gangs', 'Physicists']\n",
      "1034:  ['represent', 'denote', 'contain', 'involve', 'predate', 'depict', 'include', 'secrete', 'reflect', 'constitute']\n",
      "1061:  ['friend', 'boss', 'lover', 'boyfriend', 'family', 'father', 'sister', 'son', 'mother', 'dad']\n",
      "1066:  ['waiting', 'looking', 'staring', 'searching', 'rooting', 'responsible', 'liable', 'caring', 'opting', 'angling']\n",
      "1081:  ['coefficient', 'news', 'Beetles', 'UCSD', 'confirmation', 'FIDE', 'Riddance', 'sublimation', 'Coefficient']\n",
      "1125:  ['rid', 'control', 'possession', 'jurisdiction', 'porpoises', 'mishandling', 'jams', 'precedence', 'Possession', 'authoring']\n",
      "1126:  ['Better', 'Criminal', 'Junior', 'Ivy', 'Pro', 'MNC', 'Platonic', 'Morning', 'rac', 'National']\n",
      "1145:  ['car', 'refrigerator', 'camera', 'tablet', 'movie', 'chip', 'lens', 'boat', 'battery', 'butcher']\n",
      "1162:  ['say', 'predict']\n",
      "1165:  ['statements', 'questions', 'moles', 'equations', 'reactions', 'messages', 'feelings', 'thoughts', 'specs', 'articles']\n",
      "1173:  ['purchase', 'downgrade', 'downgrading', 'rescue', 'buyback', 'retrofit']\n",
      "1190:  ['Maine', 'Bangalore', 'Ontario', 'Ark', 'Delta', 'Java', 'Texas', 'bangalore', 'Alaska', 'Ohio']\n",
      "1194:  ['acted', 'worked', 'arrived', 'squats', 'smiled', 'disappeared', 'screamed', 'died', 'waited', 'sleeps']\n",
      "1202:  ['....', '31', 'Strips', 'CAM']\n",
      "1205:  ['speed', 'drink', 'gauge', 'supply', 'transfer', 'track', 'release', 'worship', 'display', 'exhaust']\n",
      "1207:  ['mutual', 'pension', 'FD', 'contingency', 'sinking', 'slush', 'investable', 'fd', 'institutional', 'unfunded']\n",
      "1209:  ['commencement', 'PH.D', 'takeover', 'keynote', 'ph.d']\n",
      "1214:  ['Is', 'Will', 'Does', 'All', 'Could', 'Face', 'Hanging', 'Going', 'Name', 'Find']\n",
      "1221:  ['invention', 'admission', 'image', 'opinion', 'error', 'application', 'eye', 'acceleration', 'analysis', 'occurrence']\n",
      "1222:  ['Biology', 'SSB', 'Bank', 'Certificate', 'Spirit', 'Order', 'Institutes', 'Conference', 'BIOLOGY', 'ssb']\n",
      "1229:  ['governance', 'care', 'repellents', 'purposes', 'floss', 'Governance', 'Purposes', 'reverberation', 'thermometers', 'GOVERNANCE']\n",
      "1253:  ['sales', 'Caches', 'winnings', 'caches', 'registrations', 'billings', 'Hatchback']\n",
      "1257:  ['board', 'syllabus', 'Syllabus', 'midsection', 'Autopilot', 'autopilot', 'hull']\n",
      "1258:  ['not', 'unavoidably', 'EXPECTED']\n",
      "1261:  ['colleges', 'universities', 'processors', 'superstition', 'songwriters', 'diggers', 'bugs', 'Antihistamines', 'entrepreneurs', 'developers']\n",
      "1271:  ['unsecured', 'secured', 'promissory', 'retractable', 'reset', 'cumulative', 'convertible', 'extendable']\n",
      "1273:  ['capital', 'usury']\n",
      "1290:  ['address', 'monitor', 'meet', 'complete', 'win', 'capture', 'connect', 'match', 'solve', 'rectify']\n",
      "1301:  ['invasion', 'extension', 'selection', 'erection', 'influx', 'outbreak', 'acquisition', 'Wizard', 'SIMs', 'assassination']\n",
      "1317:  ['business', 'farming', 'pushups', 'dentistry', 'CPE', 'shui', 'Gyroscope', 'shingles', 'mentoring', 'housework']\n",
      "1319:  ['different', 'distinct', 'fresh', 'microscopic', 'straight', 'separate', 'themed', 'felony', 'psychedelic', 'Blurry']\n",
      "1322:  ['late', 'Papua', 'upstate']\n",
      "1335:  ['military', 'conveyor', 'Nazi', 'naval', 'wartime', 'intelligence', 'covert', 'armed', 'farm', 'colonial']\n",
      "1337:  ['Modi', 'trade', 'MODI', 'modi', 'splinter', 'biosciences']\n",
      "1342:  ['For', 'Above', 'Counting', 'Describing', 'Spanning']\n",
      "1349:  ['way', 'toolbox', 'prologue', 'Toolbox', 'Protons']\n",
      "1357:  ['aspects', 'types', 'members', 'counts', 'Commandants', 'descendants', 'kinds', 'victims', 'versions', 'hacks']\n",
      "1381:  ['discrimination', 'protection', 'specialization', 'damages', 'Anonymity', 'revenge', 'pumpkins', 'retaliation', 'competition', 'anonymity']\n",
      "1382:  ['Carnegie', 'JP', 'Ringo', 'P.S.', 'Flash', 'Old', 'Cricket', 'Princess', 'Amazing', 'Blue']\n",
      "1386:  ['out', 'massages', 'ahold']\n",
      "1401:  ['oil', 'starch', 'syrup', 'haiku', 'mash', 'pre-', 'Safavid', 'oil-']\n",
      "1406:  ['That', 'Melanin', 'Sequestration', 'Irony', 'Hardest']\n",
      "1413:  ['points', 'degrees', 'Billion', 'Million', 'COGS', 'cogs']\n",
      "1418:  ['communicate', 'stay', 'invest', 'live', 'interfere', 'remain', 'proceed', 'collide', 'originate', 'compete']\n",
      "1421:  ['zeros', 'nudes', 'startups', 'earphones', 'earthquakes', 'purchases', 'Allergies', 'allergies', 'exits', 'violets']\n",
      "1445:  ['scientist', 'classmate', 'neurologist', 'researcher', 'partner', 'consultant', 'nerd', 'trainee', 'programmer', 'Albanians']\n",
      "1446:  ['India', 'Russia', 'Hitler', 'China', 'Israel', 'india', 'Christianity', 'Txi', 'Pakistan', 'Ruthie']\n",
      "1447:  ['relative', 'continuing', 'ceasing', 'renewed', 'seeming', 'TMI', 'excretory', 'discontinued', 'professed', 'Ceasing']\n",
      "1450:  ['replied', 'added', 'replies', 'dreads', 'responds', 'agrees', 'adds', 'counters', 'confesses', 'postulates']\n",
      "1461:  ['fall', 'climb', 'sag', 'resort', 'vary', 'recede', 'zoom', 'lapse', 'flourish', 'plummet']\n",
      "1463:  ['electric', 'electronic', 'audio', 'raw', 'telecommunication', 'electrical', 'industrial', 'electromagnetic', 'agricultural', 'infrared']\n",
      "1470:  ['And', 'But', 'Yet', 'Attractive', 'Consider', 'Ditto', 'Quite', 'Mainly', 'Provided', 'Perhaps']\n",
      "1477:  ['study', 'graph', 'diagram', 'TRACKER', 'Graph', 'survey', 'poll', 'tracker', 'chart', 'Diagram']\n",
      "1478:  ['States', 'Airlines', 'Am', 'Balls', 'Monica', 'Claus', 'Arabia', 'Nations', 'Way', 'Technologies']\n",
      "1479:  ['top', 'NIMH', 'Rosetta', 'No.2', 'lynch']\n",
      "1485:  ['circuits', 'balls', 'branches', 'games', 'bullets', 'plants', 'shops', 'commercials', 'stores', 'windows']\n",
      "1492:  ['before']\n",
      "1509:  ['income']\n",
      "1510:  ['Exchanges', 'Mergers', 'Exchange', 'Jacket']\n",
      "1511:  ['voting', 'primary', 'worldwide', 'holiday', 'lipid', 'monsoon', 'paperback', 'subsurface', 'bargaining', 'countrywide']\n",
      "1513:  ['bank', 'IDA']\n",
      "1514:  ['more', 'fewer']\n",
      "1517:  ['holders', 'shareholders', 'Magritte', 'stewardesses', 'indiscipline', 'WON', 'condensation', 'financers', 'stockholders', 'dross']\n",
      "1519:  ['these']\n",
      "1527:  ['Shockwave', 'direct', 'poison', 'tear', 'natural', 'mustard', 'precious', 'pecuniary', 'pinkish', 'petrodollar']\n",
      "1529:  ['cds', 'bills', 'bonds', 'CDs', 'delinquencies', 'corporates']\n",
      "1530:  ['are']\n",
      "1534:  ['Next', 'Last', 'Rated']\n",
      "1546:  ['explain', 'hear', 'tell', 'calculate', 'see', 'ask', 'define', 'thank', 'imagine', 'reveal']\n",
      "1573:  ['member', 'host', 'champion', 'graduate', 'branch', 'representative', 'resident', 'native', 'demo', 'packet']\n",
      "1578:  ['located', 'based', 'frowned', 'centered', 'conditioned', 'depending', 'focusing', 'depended', 'predicated', 'patterned']\n",
      "1589:  ['correct', 'clean', 'alert', 'open', 'present', 'straddle', 'mute', 'bear', 'idle', 'NYC']\n",
      "1591:  ['criminal', 'keyless', 'sharp', 'quantum', 'civil', 'steep', 'derivative', 'bathing', 'libel', 'midlife']\n",
      "1593:  ['online', 'public', 'Hippocratic', 'Gujarati', 'Cantonese', 'cuff', 'hippocratic', 'gujarati', 'dosing', 'shipwreck']\n",
      "1605:  ['excuse', 'option', 'internship', 'alternative', 'attempt', 'Objection', 'Approximation', 'analogue', 'axe', 'Internship']\n",
      "1606:  ['Box', 'Certification', 'Sons', 'Stream', 'Ehrman', 'Shop', 'Cooke', 'Wireless', 'Shoulders', 'Root']\n",
      "1626:  ['we', \"y'\"]\n",
      "1630:  ['Anyone', 'These', 'Both', 'Mainland', 'Interested', 'Percentage', 'Pregnant', 'Quota', 'Neural', 'Likely']\n",
      "1637:  ['doubts', 'anxiety', 'rumors', 'note', 'anger', 'caterpillars', 'confusion', 'uncertainty', 'speculation', 'shyness']\n",
      "1638:  ['Directory', 'Ethical', 'Career', 'Regional', 'Restaurant', 'Tech', 'BF', 'Grow', 'Team', 'Solar']\n",
      "1639:  ['underlying', 'actual', 'overall', 'exact', 'automatic', 'untold', 'asymmetrical', 'sheer', 'intrinsic', 'aggregate']\n",
      "1642:  ['US', 'C', 'NZ', 'hk', 'grossing', 'earned', 'numbering', 'Grossing', 'HK', 'totaling']\n",
      "1657:  ['missile', 'paper', 'munitions', 'engine', 'airplane', 'satellite', 'charter', 'metal', 'flight', 'helicopter']\n",
      "1658:  ['still']\n",
      "1674:  ['think', 'feel', 'suppose', 'Hate', 'overdo']\n",
      "1677:  ['books', 'studies', 'deals', 'exams', 'texts', 'supplements', 'strikes', 'pins', 'formations', 'files']\n",
      "1684:  ['like', 'effeminate', 'ingest', 'disproves', 'populating', 'desiring', 'resembling', 'Decisis', 'fated', 'dogging']\n",
      "1685:  ['face', 'ogling']\n",
      "1687:  ['Canadian', 'Australian', 'Aryan', 'ROC', 'Pointer', 'upmarket', 'aryan', 'eponymous']\n",
      "1701:  ['lord', 'network', 'arm', 'affiliate', 'ltd', 'Segment', 'brogue', 'division', 'chain', 'empire']\n",
      "1702:  ['Executive', 'Anniversary', 'Manhattan', 'NH', 'Chicago', 'Amendment', 'dumbo', 'Albany', 'Interstate', 'Kenai']\n",
      "1703:  ['quiet', 'light', 'heavy', 'slack', 'thin', 'moderate', 'hectic', 'vitro', 'transverse', 'rainwater']\n",
      "1706:  ['met', 'born', 'destroyed', 'numbered', 'banned', 'killed', 'faced', 'rescued', 'deleted', 'betrayed']\n",
      "1714:  ['18', '11', '12', '1300', '535', '286', '18-', '386']\n",
      "1717:  ['hack', 'fool', 'chase', 'play', 'crush', 'block', 'recount', 'reverse', 'Kill', 'cure']\n",
      "1719:  ['mobile', 'grassy', 'local', 'urban', 'regional', 'digital', 'micro', 'Postgraduate', 'tropical', 'civilian']\n",
      "1721:  ['joint', 'proxy', 'ion', 'quarterfinal', 'collaborative', 'terse', 'televised', 'stumbling', 'Terse', 'PROXY']\n",
      "1726:  ['So', 'True', 'Then', 'Or', 'OH', 'Now', 'Naturally', 'Sometimes', 'Suddenly', 'Today']\n",
      "1733:  ['battle', 'date', 'debate', 'coursework', 'struggle', 'deadlock', 'controversy', 'TIFF', 'entanglement', 'dispute']\n",
      "1734:  ['Commission', 'Spotlight', 'Ruling']\n",
      "1741:  ['containers', 'technologies', 'wrappers', 'gases', 'products', 'foods', 'capacitors', 'stamps', 'alloys', 'polymers']\n",
      "1750:  ['Treasury', 'Serial', 'Baccalaureate', 'FICO', 'fico', 'edf']\n",
      "1765:  ['index', 'Index', 'deflator']\n",
      "1766:  ['La', 'Fort', 'Las', 'Los', 'San', 'Cinco', 'Kuala', 'Sri', 'Palo', 'El']\n",
      "1769:  ['firm']\n",
      "1770:  ['now', 'indeed', 'likewise', 'alternatively', 'selfishly', 'missy']\n",
      "1773:  ['police', 'inspectors', 'authorities', 'monopolies', 'lotteries', 'judges', 'Nimitz', 'regulators', 'courts', 'constitutions']\n",
      "1782:  ['Oscar', 'President', 'ACA', 'Muhammad', 'Agatha', 'Actor', 'Verna', 'Sopranos', 'Presidents', 'Remy']\n",
      "1783:  ['untied', 'junk', 'serial', 'bridge', 'mortgage', 'municipal', 'FMS', 'lien', 'ECU', 'mezzanine']\n",
      "1785:  ['gold', 'honey', 'monoxide', 'lamb', 'meat', 'dioxide', 'rice', 'fuel', 'coffee', 'denser']\n",
      "1802:  ['provide', 'create', 'transmit', 'erect', 'produce', 'receive', 'ignite', 'undergo', 'Reap', 'hire']\n",
      "1805:  ['bulls', 'numbers', 'statistics', 'polls', 'stats', 'rankings', 'surveys', 'figures', 'techs', 'coolest']\n",
      "1813:  ['head', 'publisher', 'bro', 'clap', 'grandmaster', 'grandson', 'premiere', 'birthplace', 'filet', 'Triumph']\n",
      "1829:  ['schools', 'parks', 'curriculum', 'society', 'library', 'titan', 'traveler', 'school', 'clinic', 'practice']\n",
      "1831:  ['great', 'lavish', 'deep', 'dual', 'wide', 'horizontal', 'constant', 'resultant', 'genuine', 'sudden']\n",
      "1833:  ['Passport', 'Army', 'Hui', 'Navy', 'Guard', 'giant', 'Sprint', 'Mint', 'Cadet', 'Admiral']\n",
      "1834:  ['enough', 'suction', 'insufficient', 'sufficient', 'fonder', 'adequate', 'fructose', 'uncommon', 'Suction', 'amniocentesis']\n",
      "1845:  ['spare', 'finance', 'curry', 'tetanus', 'repaint', 'wheedle', 'procreate', 'Montauk', 'Procreate']\n",
      "1847:  ['financial', 'teething']\n",
      "1849:  ['peace', 'primavera', 'coupling', 'succession', 'partition', 'privatization', 'retirement', 'decoupling', 'austerity', 'bailout']\n",
      "1854:  ['On', 'Through', 'Of', 'Mirroring', 'Dated', 'Restrict']\n",
      "1861:  ['ability', 'desire', 'commitment', 'intentions', 'Ability', 'contribution', 'attempts', 'failure', 'references', 'efforts']\n",
      "1862:  ['Acoustics', 'Hydro', 'Industries', 'Brothers', 'Valli', 'Wrap', 'Deacon', 'Feeds', 'Kumble', 'fibres']\n",
      "1869:  ['acts', 'situations', 'directions', 'environments', 'items', 'specializations', 'angles', 'diseases', 'topics', 'cases']\n",
      "1882:  ['They', 'Things', 'Cameras', 'Cigarettes', 'Foreigners', 'Humans', 'Mice', 'Bureaucrats', 'Anchors', 'Feet']\n",
      "1886:  ['Top', 'Most', 'Many', 'Some', 'Certain', 'Several', 'Wealthy', 'Experienced', 'Few', 'YOUNGER']\n",
      "1893:  ['life', 'mythology', 'religion', 'desperation', 'approbation', 'origin', 'happiness', 'absolutes', 'grammar', 'reality']\n",
      "1894:  ['American', 'Complete', 'UC', 'T2', 'Appalachian', 'NYU', 'Scandinavian', 'Territorial', 'Colour', 'Keyboard']\n",
      "1898:  ['me', 'him', 'us', 'A&B', 'bayonets', 'thee', 'aloud', 'dramamine', 'certiorari', 'chaperone']\n",
      "1901:  ['others', 'GPS', 'lyricists', 'Hindus', 'vegetables', 'feminists', 'M3', 'Benghazi', 'Anglicans', 'Asians']\n",
      "1913:  ['storage', 'Encrypted', 'pharmacy', 'navigation', 'landing', 'messaging', 'engineering', 'atropine', 'marketing', 'PR']\n",
      "1914:  ['had', 'succesfully', 'Succesfully']\n",
      "1918:  ['There', 'Here', 'Trouble', 'Horoscopes', 'Vampire', 'Gone', 'Galaxies', 'Mainframes', 'Specialization', 'Manipulation']\n",
      "1925:  ['percentage', 'focal', 'percent', 'decimal', 'megabyte', 'Focal']\n",
      "1930:  ['refer', 'respond', 'try', 'continue', 'apply', 'react', 'acquiesce', 'listen', 'immigrate', 'fail']\n",
      "1933:  ['bruises', 'taxes', 'IQs', 'salaries', 'coupons', 'levies', 'horoscopes', 'premiums', 'wages', 'fares']\n",
      "1941:  ['upward', 'signing', 'batting', 'auction', 'lifting', 'opening', 'inverse', 'loosening', 'killing', 'fixing']\n",
      "1943:  ['residential', 'Titan', 'commercial', 'monoclonal', 'peanut', 'F-14', 'commuter', 'toilet', 'rotary', 'seamless']\n",
      "1957:  ['agent', 'surgeon', 'electrician', 'investigator', 'acronym', 'abbreviation', 'accountant', 'inspector', 'examiner', 'alias']\n",
      "1958:  ['Africa', 'Africans', 'Kong', 'Korea', 'Carolina', 'Wales', 'Pole', 'Dakota', 'Yemen', 'Bend']\n",
      "1959:  ['little', 'clairvoyant', 'ripple', 'organically', 'staph', 'definable', 'presumptively', 'regretful']\n",
      "1962:  ['plans']\n",
      "1965:  ['sources', 'Redtape', 'trackers', 'kissers', 'CTK']\n",
      "1970:  ['20', '15', '10', '999', '99.99', '2:00']\n",
      "1973:  ['work', 'sleep', 'smoke', 'urinate', 'flesh', 'bloom', 'bark', 'sparkle', 'disinfection', 'Vipers']\n",
      "1975:  ['video', 'ID', 'cricket', 'chess', 'bromide', 'hockey', 'petrol', 'cartoon', 'convenience', 'football']\n",
      "1977:  ['circuit', 'bankruptcy', 'district', 'supreme', 'grand', 'appeals', 'probate', 'romanov', 'appellate']\n",
      "1978:  ['would']\n",
      "1982:  ['Only', 'Looking', 'Becoming', 'Even', 'About', 'Acting', 'Add', 'Released', 'Just', 'Hired']\n",
      "1989:  ['statement', 'speech', 'letter', 'trip', 'presentation', 'sequel', 'biopsy', 'memo', 'telegram', 'pound']\n",
      "1990:  ['Beach', 'xi', 'Sinai', 'Heights', 'wheeler', '6000', 'tahoe', 'Pen', 'Start', 'Area']\n",
      "1991:  ['upper', 'elder', 'remaining', 'main', 'entire', 'upcoming', 'nearest', 'hottest', 'cyber', 'ultimate']\n",
      "1997:  ['jobs', 'positions', 'posts', '20s', 'moons', 'passports', 'bachelors', 'roles', 'careers', 'investments']\n",
      "2004:  ['though', 'oh', 'i.e.', 'namely', 'er', 'Ragweed', 'I.E.', 'hey', 'ironically', 'conversely']\n",
      "2005:  ['instead', 'ahead', 'none', 'beware', 'consisting', 'regardless', 'composed', 'irrespective', 'devoid', 'disapproved']\n",
      "2013:  ['else', 'thing', 'mile', 'Else', 'ton', 'centimeter', 'micron', 'supposes', 'ELSE', 'millimeter']\n",
      "2021:  ['basis', 'pace', 'edition', 'editions', 'Foodies', 'exclamation', 'BASIS', 'Basis', 'Portofino', 'brownie']\n",
      "2022:  ['CLOUD', 'Cloud', 'Lanka', 'Antonio', 'Louis', 'Vegas', 'Angeles', 'Jose', 'Diego', 'Francisco']\n",
      "2023:  ['special', 'regular', 'controlling', '401k', 'Ouija', 'minority', 'graphical', 'vegetative', 'hefty', '50/50']\n",
      "2025:  ['trust', 'trusts', 'conduit', 'corporation', 'telemarketer', 'partnership', 'banker', 'Partnerhip', 'scaffold', 'partnerships']\n",
      "2026:  ['what', 'whatever', 'transcribing']\n",
      "2029:  ['candidates', 'sides', 'factions', 'nominations', 'districts', 'groups', 'camps', 'esp', 'worlds', 'parties']\n",
      "2031:  ['several', 'numerous', 'alternating', 'countless', 'innumerable']\n",
      "2039:  ['national', 'preseason', 'Norse', 'potholed', 'norse', 'wordless', 'basal']\n",
      "2041:  ['belly', 'metals', 'futures', 'commodity', 'commodities', 'bullion']\n",
      "2042:  ['do']\n",
      "2044:  ['on', 'ot']\n",
      "2045:  ['cst', 'CST', 'SX', 'ET', 'jst', 'PST', 'GMT', 'EST', 'kimonos', 'Sx']\n",
      "2046:  ['Redemption', 'COMPETITION', 'Q', 'Preparation', 'Pressure', 'Details', 'Ambition', 'Answer', 'Fallout', 'Conclusion']\n",
      "2090:  ['going', 'hurrying', 'rushing', 'venturing', 'flocking', \"goin'\", 'hellbent']\n",
      "2149:  ['return', 'preparation', 'search', 'GST', 'default', 'Bid', 'Gst', 'gst', 'PREPARATION']\n",
      "2150:  ['Dark', 'Middle', 'Big', 'Options', 'Tier', 'Deep', 'S', 'Upper', 'Pinnacle', 'Far']\n",
      "2189:  ['tricks', 'tactics', 'meanings', 'events', 'qualities', 'tasks', 'problems', 'skills', 'disadvantages', 'twists']\n",
      "2218:  ['picked', 'lined', 'messed', 'set', 'wound', 'shot', 'scooped', 'cast', 'snapped', 'lining']\n",
      "2245:  ['election', 'elections', 'article', 'essay', 'adapter', 'prefix', 'column', 'Regions', 'editorial', 'Adapter']\n",
      "2246:  ['Office', 'Clerk', 'University', 'Ministry', 'Voice', 'borough', 'Bureau', 'Declaration', 'Chamber', 'Study']\n",
      "2277:  ['pumps', 'exports', 'flakes', 'IDs', 'backlogs', 'reinforcements', 'injectors', 'cookers', 'shipments', 'deliveries']\n",
      "2282:  ['so', 'buffering']\n",
      "2297:  ['fund', 'NYSE']\n",
      "2341:  ['processor', 'spot', 'base', 'designer', 'bin', 'Lucifer', 'gluten', 'coach', 'stickers', 'producer']\n",
      "2346:  ['old', 'deadliest', 'gladiator', 'Melaleuca', 'Jima']\n",
      "2359:  ['arms', 'asset', 'pest', 'AK-47', 'transracial', 'Realizable', 'troop']\n",
      "2405:  ['jellyfish', 'photosynthesis', 'spending', 'punishment', 'expenditure', 'peeve', 'salinity', 'contracting', 'borrowing', 'expenditures']\n",
      "2406:  ['western', 'South', 'southern', 'Hong', 'eastern', 'Sao', 'continental', 'Lei', 'Khmer', 'neighboring']\n",
      "2410:  ['down', 'rearranges']\n",
      "2442:  ['look', 'looks', 'stares', 'looked', 'sounds', 'stare', 'sneeze', 'stab', 'swipe', 'ache']\n",
      "2445:  ['hike', 'rises', 'cheats', 'increases', 'decreases', 'jumps', 'scales', 'trends', 'tags', 'bracket']\n",
      "2474:  ['remains', 'becomes', 'became', 'arouses', 'deducts']\n",
      "2485:  ['kiss', 'feed', 'toss', 'wash', 'touch', 'check', 'snap', 'roll', 'hammer', 'nail']\n",
      "2501:  ['filing', 'registration', 'innovating', 'filings', 'LY', 'shoebox', 'GLS', 'milkman']\n",
      "2502:  ['Force', 'mac', 'Mac', 'Cavalry', 'Inter', 'Mae', 'Lines', 'Base', 'Freight', 'Brake']\n",
      "2516:  ['until', 'till']\n",
      "2533:  ['seagulls', 'earnings', 'colognes']\n",
      "2535:  ['possible', 'python', 'beneficial', 'permissible', 'zebra', 'practicable', 'screeching', 'underpaying']\n",
      "2538:  ['hard', 'impossible', 'unfit', 'harder', 'suitable', 'tricky', 'easy', 'tough', 'easier', 'difficult']\n",
      "2570:  ['get', 'carry', 'throw', 'pull', 'wipe', 'translate', 'straighten', 'leach', 'ferret', 'drown']\n",
      "2602:  ['elected', 'named', 'sentenced', 'appointed', 'reelected']\n",
      "2630:  ['bot', 'Accounting', 'Bot', 'Electron', 'rabanne', 'Motors', 'Acquisition', 'Agreement', 'Acceptance', 'Cycle']\n",
      "2661:  ['dream', 'love', 'view', 'stress', 'promise', 'feeling', 'claim', 'fear', 'envy', 'hypocrites']\n",
      "2662:  ['General', 'INR', 'Life', 'FB', 'MTS', 'Captain', 'Sanyo', 'Tasty', 'TCP', 'Teachers']\n",
      "2681:  ['Hearty', 'pleasure', 'brain', 'age', 'heart', 'meter', 'skin', 'birth', 'memory', 'standard']\n",
      "2682:  ['currently']\n",
      "2701:  ['claims', 'charges', 'motions', 'suspects', 'alchemy', 'accusations', 'protests', 'demands', 'notifications', 'libertarians']\n",
      "2708:  ['whose', 'SANS', 'sans', '1111', '66th']\n",
      "2730:  ['protected', 'owned', 'funded', 'covered', 'compounded', 'measured', 'controlled', 'impacted', 'shared', 'affected']\n",
      "2741:  ['use', 'exercise', 'echo', 'update', 'overthrow', 'stoning', 'surrender', 'reissue', 'eclipse', 'manufacture']\n",
      "2743:  ['ERROR', 'individual', 'various', 'existing', 'respective', 'ordinary', 'unused', 'incoming', 'W-2', 'unpaid']\n",
      "2757:  ['position', 'dimension', 'mission', 'path', 'smirk', 'blessing', 'journey', 'vision', 'manner', 'mood']\n",
      "2790:  ['hindi', 'Hindi', 'DJ', 'Dow', 'HINDI', 'Corn', 'Rust', 'Farm', 'Bronze', 'Lone']\n",
      "2794:  ['much']\n",
      "2797:  ['houses', 'capitalists', 'firms']\n",
      "2826:  ['buy', 'rehearse', 'accumulate', 'plead', 'poach', 'retake', 'liquefy', 'remarry', 'decontaminate', 'Swallow']\n",
      "2853:  ['policy', 'affairs', 'reform', 'stooge', 'stimulants', 'opprobrium', 'stimulation', 'hotspots', 'stimulus', 'collaborations']\n",
      "2858:  ['closed']\n",
      "2917:  ['recovery', 'success', 'experience', 'history', 'uniqueness', 'vitality', 'tradition', 'relativity', 'canon', 'achievement']\n",
      "2918:  ['Street']\n",
      "2922:  ['yesterday', 'Militia']\n",
      "2937:  ['quotation', 'caste', 'banking', 'advisory', 'deficiency', 'Caste', 'lawmaking', 'Chainsaw', 'parkway']\n",
      "2954:  ['need', 'regard', 'dare', 'yearn']\n",
      "2981:  ['engineer', 'intern', 'actuary', 'expert', 'statistician', 'watcher', 'astrophysicist', 'quotations', 'strategist', 'technologist']\n",
      "2982:  ['German', 'TED', 'Arthurian', 'Macedonian', 'deutsche']\n",
      "2986:  ['stayed', 'grows', 'stood', 'finished', 'stays', 'grew', 'slows', 'crept', 'remained', 'fared']\n",
      "2997:  ['blur', 'change', 'rake', 'hippopotamus', 'shift', 'converse', 'delay', 'squirrel', 'reshuffle', 'cave']\n",
      "2999:  ['computer', 'magnetic', 'CAT', '3x', 'PC', 'pc', 'shoe', 'database', 'AI', 'microwave']\n",
      "3013:  ['bidder', 'cue', 'bid', 'suitor']\n",
      "3021:  ['issues', 'Duos', 'listings', 'Registries', 'gainers', 'auctions', 'duos', 'offerings', 'gasses', 'riffs']\n",
      "3045:  ['penalty', 'premium', 'bonus', 'fee', 'margin', 'retainer', 'quota', 'Markup', 'coupon', 'royalty']\n",
      "3046:  ['Year', 'delhi', 'Delhi', 'Testament', 'Age', 'England', 'Jersey', 'Zealand', 'Yorkers', 'Yorker']\n",
      "3047:  ['peak', 'record', 'Pimple', 'pimple', 'carousel', 'saturation', 'measly', 'halftime', 'sunbeam']\n",
      "3050:  ['teaching', 'dreaming', 'drinking', 'tasting', 'learning', 'checking', 'singing', 'flapping', 'missing', 'dancing']\n",
      "3053:  ['insiders', 'recruiters', 'officers', 'Docs', 'docs', 'executives', 'exponents', 'pageants', 'protestants']\n",
      "3065:  ['secondary', 'bond', 'bull', 'flea', 'GIC', 'muni', 'CMO']\n",
      "3066:  [\"'m\", 'am']\n",
      "3082:  ['mean', 'glorify', 'allow', 'affect', 'require', 'permit', 'violate', 'prohibit', 'encourage', 'hinder']\n",
      "3114:  ['ready', 'scheduled', 'prepared', 'linked', 'designed', 'suited', 'destined', 'tied', 'traceable', 'rumored']\n",
      "3173:  ['impact', 'advantage', 'effect', 'Aggregation', 'vu', 'impossibility', 'edge', 'aggregation', 'abundance', 'deities']\n",
      "3174:  ['Economist', 'Defense', 'Agriculture', 'Commerce', 'State', 'Writers', 'Interior', 'Justice', 'Labor', 'Antonin']\n",
      "3193:  ['product', 'model', 'sportscar', 'Accord', 'LX', 'freshman', 'ticket', 'cell', 'leaf', 'curd']\n",
      "3213:  ['data', 'information', 'headsets', 'feedback', 'guidance', 'reservations', 'alarm', 'torque', 'humidifier', 'publicity']\n",
      "3242:  ['started', 'collapsed', 'starts', 'began', 'opens', 'sucks', 'convenes', 'begins', 'ceases', 'crashed']\n",
      "3269:  ['case', 'episode', 'incident', 'event', 'bench', 'privilege', 'occasion', 'payday', 'mufti', 'Spartans']\n",
      "3270:  ['Institute', 'League', 'Address', 'Society', 'Foundation', 'School', 'Exam', 'Gallery', 'Council', 'Studies']\n",
      "3301:  ['volume', 'horseback', 'turnover', 'doses', 'Habit', 'PBS', 'volumes', 'NOX', 'Endurance', 'Schizophrenia']\n",
      "3306:  ['even', 'infinitely', 'stupidly']\n",
      "3309:  ['oceans', 'governments', 'banks', 'airlines', 'realtors', 'railways', 'seamen', 'aircrafts', 'colonists', 'railroads']\n",
      "3321:  ['debt', 'Ridgecrest', 'pendants']\n",
      "3338:  ['defend', 'treat', 'disturb', 'justify', 'keep', 'bring', 'divide', 'remove', 'handle', 'advise']\n",
      "3365:  ['VP', 'management', 'ballerinas', 'doc', 'SWAT', 'vp', 'prom', 'Ballerinas', 'managment', 'redesigns']\n",
      "3370:  ['OTC', 'insider', 'otc']\n",
      "3383:  ['amusement', 'scientific', 'health', 'medical', 'molecular', 'dental', 'actuarial', 'logistic', 'athletic', 'statistical']\n",
      "3429:  ['rights', 'mains', 'beings', 'liberties', 'obligation', 'couture', 'HH', 'Hh', 'bono', 'tic']\n",
      "3430:  ['East', 'Easterners', 'West', 'Connecting', 'Throat', 'Quonset', 'Weimar', 'Ivory', 'Notre', 'Volta']\n",
      "3434:  ['away', 'overboard', 'apart', 'somewhere', 'idly', 'deviating', 'anywhere', 'Gaga', 'handstands', 'shear']\n",
      "3449:  ['auto', 'automobile', 'tire', 'AUTOMOBILE', 'ATV']\n",
      "3466:  ['go', 'happen', 'walk', 'sit', 'revolve', 'migrate', 'lie', 'creep', 'sail', 'slip']\n",
      "3469:  ['profits', 'leftism', 'losses', 'withdrawals', 'migrations', 'tremors', 'testimonials', 'arches', 'accelerations', 'defaults']\n",
      "3493:  ['manager', 'manger', 'administrator', 'controller', 'secretary', 'organizer', 'commissioner', 'superintendent', 'basher', 'raiser']\n",
      "3494:  ['Laos', 'Chandigarh', 'Australia', 'Qatar', 'Canada', 'Portugal', 'kampala', 'Hinduism', 'Europe', 'CFA']\n",
      "3498:  ['announced']\n",
      "3509:  ['force', 'mate', 'apnea', 'ethic', 'stoppage', 'MATE']\n",
      "3511:  ['binary', 'solar', 'plastic', 'wood', 'pet', 'thermal', 'consumer', 'phosphate', 'nylon', 'kosher']\n",
      "3525:  ['indicator', 'award', 'issue', 'exhibit', 'cooker', 'antecedent', 'Progressives']\n",
      "3526:  ['Fire', 'Accessories', 'Processor', 'Libraries', 'Doors', 'Medical', 'Reference', 'Graduate', 'Physical', 'Iron']\n",
      "3533:  ['activities', 'mills', 'operations', 'bunkum', 'joists', 'obscurity', 'pasts']\n",
      "3540:  ['after']\n",
      "3557:  ['loss', 'outflow']\n",
      "3559:  ['future', 'invisibility', 'aloe', 'Shield', 'workplace', 'switzerland', 'extinction', 'prepayment', 'azure', 'pointe']\n",
      "3562:  ['higher', 'lower']\n",
      "3565:  ['players', 'guests', 'enemies', 'parents', 'elders', 'associates', 'characters', 'friends', 'quarterbacks', 'customers']\n",
      "3582:  ['Never', 'Please', 'To', 'Re', 'Simply', 'Kindly', 'Ever', 'Having', 'ROOMS', 'Armies']\n",
      "3594:  ['prove', 'choose', 'learn', 'determine', 'add', 'contribute', 'elect', 'decide', 'distinguish', 'threaten']\n",
      "3621:  ['competitor', 'manipulator', 'buyer', 'source', 'saver', 'dealer', 'trader', 'broker', 'vendor', 'lender']\n",
      "3626:  ['combined', 'connected', 'loaded', 'associated', 'sided', 'familiar', 'consistent', 'incompatible', 'obsessed', 'blessed']\n",
      "3654:  ['Printing', '5000', 'Aerospace', '9000', 'Tea', 'Benz', 'Royce', 'Pharmaceuticals', 'Cards', 'Cola']\n",
      "3685:  ['nt', 'T', 'expectations', 'donuts', 'assertions', 'guesses', 'suggestions', 'predictions', 'bicarbonate', 'fears']\n",
      "3686:  ['Affordable', 'Drinks', 'Business', 'Dog', 'Abortion', 'Highway', 'Income', 'Gay', 'Transfer', 'Security']\n",
      "3690:  ['least']\n",
      "3705:  ['music', 'fish', 'tail', 'Electrons', 'war', 'chemistry', 'space', 'property', 'water', 'luggage']\n",
      "3706:  ['usually', 'often', 'typically', 'apparently', 'normally', 'frequently', 'sometimes', 'generally', 'nevertheless', 'effectively']\n",
      "3722:  ['know', 'realize', 'remember', 'understand', 'wonder', 'forget', 'specify', 'shirk', 'wondered', 'Shirk']\n",
      "3725:  ['reasons', 'advice', 'punishments', 'tips', 'deviations', 'returns', 'gifts', 'fees', 'Acronyms', 'advantages']\n",
      "3732:  ['indicating', 'saying', 'explaining', 'adding', 'knowing', 'assuming', 'claiming', 'charging', 'believing', 'pretending']\n",
      "3733:  ['form', 'post', 'breed', 'scrubs', 'shred', 'renditions', 'KO']\n",
      "3749:  ['provider', 'manufacturer', 'maker', 'Provider', 'supplier', 'puree', 'marketer', 'distributor', 'Gogh', 'wholesaler']\n",
      "3754:  ['asked', 'kissed', 'advised', 'hugged', 'plagiarized', 'approached', 'contacted', 'answered', 'taught', 'ogled']\n",
      "3765:  ['call', 'watch', 'fix', 'drive', 'wait', 'peg', 'pray', 'opt', 'push', 'blame']\n",
      "3767:  ['international', 'global', 'internal', 'genetic', 'external', 'artificial', 'extracurricular', 'automated', 'atmospheric', 'informatics']\n",
      "3781:  ['rectangle', 'peacemaker', 'disaster', 'panic', 'miracle', 'strike', 'depression', 'sunburn', 'trial', 'Hangover']\n",
      "3782:  ['Bang', 'Macs', 'Board', 'O', 'Ages', 'Peninsula', 'Rate', 'Hustle', 'CORPORATION', 'Stationery']\n",
      "3814:  ['Main', 'Wall', 'Jump', 'Tan', 'Sesame', 'Bourbon', '52nd', 'Downing', 'Elm', 'Aung']\n",
      "3817:  ['agency', 'academy', 'hoc', 'announcer', 'association', 'hominem', 'observatory', 'PAP', 'admiral', 'Hominem']\n",
      "3818:  ['being', 'Anatomically', 'ususally', 'anatomically']\n",
      "3821:  ['users', 'coolers', 'eaters', 'participants', 'detectors', 'addicts', 'trailers', 'boosters', 'operators', 'whisky']\n",
      "3833:  ['cash', 'prison', 'goa', 'Goa', 'jail', 'alimony', 'lederhosen', 'dreadlocks', 'loco', '12-']\n",
      "3850:  ['file', 'write', 'eat', 'leave', 'wear', 'pass', 'survive', 'marry', 'draw', 'hold']\n",
      "3877:  ['accident', 'mentality', 'item', 'entity', 'attraction', 'area', 'atmosphere', 'exam', 'angle', 'Olympics']\n",
      "3882:  ['expired', 'dated', 'expires', 'NC', 'effective', 'mature', 'emotionless', 'nc', 'Expired', 'payable']\n",
      "3895:  ['economic', 'saline', 'computational', 'macroeconomic', 'climatic', 'extramarital', 'dengue', 'Computational', 'monetary', 'Dengue']\n",
      "3902:  ['Over', 'At', 'Around', 'Cracking', 'Educating', 'Heading', 'Seize', 'Declaring', 'Surveying', 'Across']\n",
      "3910:  ['Plane', 'Vishnu', 'Comanche', 'Peach', 'Plasma', 'Kemal', 'Lambert', 'Futures', 'Exporting']\n",
      "3917:  ['things', 'neurons', 'factors', 'invertebrates', 'hoaxes', 'motorways', 'asses', 'embolisms', 'impurities', 'cocks']\n",
      "3941:  ['card', 'line', 'front', 'comparison', 'concert', 'alt', 'tow', '4000', 'Zapper', 'PTC']\n",
      "3942:  ['First', '2nd', 'U', 'Ka', 'Mt.', 'Sixth', 'Chase', 'Runway', 'Bipolar', 'Lago']\n",
      "3946:  ['here', 'nowadays', 'everywhere', 'whatsoever', 'alike', 'indoors', 'eliminators', 'thereof', 'Jade', 'synonyms']\n",
      "3961:  ['abuse', 'detection', 'development', 'placement', 'cons', 'vomit', 'innovation', 'rehabilitation', 'hardness', 'integration']\n",
      "3978:  ['start', 'finish', 'cease', 'begin', 'resume', 'retire', 'expire', 'exhale', 'squint', 'commence']\n",
      "3981:  ['costs', 'expenses', 'bins', 'bindings', 'braid', 'Braid', 'bottlenecks', 'manifolds', 'Manifolds']\n",
      "4005:  ['billionaire', 'Ayn', 'rupee', 'investor', 'actor', 'entrepreneur', 'actress', 'employer', 'developer', 'advertiser']\n",
      "4006:  ['STD', 'Millionaire', 'USA', 'America', 'Psychology', 'Jesus', 'Adventure', 'usa', 'Makeup', 'Christ']\n",
      "4010:  ['decided', 'talked', 'proceeded', 'confessed', 'apologized', 'voted', 'lied', 'reacted', 'believed', 'understood']\n",
      "4018:  ['60', '270', '111', '180', '120', '45', '301', '90', '-7', '-5']\n",
      "4021:  ['name', 'answer', 'reply', 'domicile', 'object', 'visit', 'audition', 'shoulder', 'approach', 'label']\n",
      "4023:  ['kinetic', 'nuclear', 'atomic', 'biological', 'conventional', 'radioactive', 'tactical', 'toxic', 'subatomic', 'geothermal']\n",
      "4037:  ['sum', 'compound', 'document', 'package', 'provision', 'cam', 'requirement', 'Booklet', 'rule', 'measure']\n",
      "4045:  ['horizons', 'certificates', 'assets', 'Customization', 'loads', 'cornstarch', 'debts', 'deposits', 'tans', 'condescension']\n",
      "4052:  ['if', 'unless']\n",
      "4069:  ['price', 'magnification', 'Allegro', 'radiance']\n",
      "4070:  ['jones', 'db', 'Jones', 'DB', 'Cove', 'Belt', 'Fiasco', 'hypo', 'BK']\n",
      "4071:  ['non', 'full', 'maximum', 'minimum', 'unitary', 'marginal', 'typical', 'withholding', 'nominal', 'lump']\n",
      "4073:  ['venture', 'solicitors', 'ventures', 'solicitation', 'tenancy']\n",
      "4074:  ['no', 'habeas']\n",
      "4077:  ['Embassy', 'mole', 'supporters', 'leader', 'sects', 'leadership', 'organizers', 'operative', 'ideologist', 'leaders']\n",
      "4089:  ['estate', 'Mahal', 'Antilles', 'mahal', 'visors']\n",
      "4090:  ['does', 'wa']\n",
      "4092:  ['included', 'involves', 'contained', 'featured', 'includes', 'reflected', 'eclipses', 'exceeded', 'INVOLVES', 'comprises']\n",
      "4138:  ['expected', 'Anathema']\n",
      "4522:  ['produces', 'holds', 'runs', 'buys', 'consumes', 'researches', 'spends', 'owns', 'owes', 'pays']\n",
      "4549:  ['meeting', 'shootout', 'massacre', 'conclave']\n",
      "4586:  ['true', 'wrong', 'sorry', 'talking', 'happy', 'angry', 'confused', 'insecure', 'crazy', 'comfortable']\n",
      "4618:  ['make', 'prevent', 'accompany', 'contaminate', 'prescribe', 'deter', 'deflect', 'subjugate', 'render', 'encrypt']\n",
      "4710:  ['Premier', 'Vice', 'Associate', 'Rio', 'Assistant', 'Foreign', 'Evangelist', 'Prime', 'Oliver', 'faux']\n",
      "4749:  ['answers', 'steps', 'moves', 'solutions', 'alternatives', 'approaches', 'invitations', 'proposals', 'tributes', 'gestures']\n",
      "4778:  ['helps', 'expressed', 'helped', 'enabled', 'dared', 'voiced']\n",
      "4805:  ['difference', 'mistake', 'matter', 'compliment', 'knot', 'surprise', 'vowel', 'mystery', 'contradiction', 'midget']\n",
      "4901:  ['system', 'profession', 'curve', 'pathway', 'syndrome', 'structure', 'ladder', 'Confederacy', 'dynasty', 'regime']\n",
      "4906:  ['vs', 's', 'gov', 'diff', '..', 'ms', 'Ms', 'na', 'v', 'PTE']\n",
      "4965:  ['growth', 'clip', 'rainfall', 'reactivity', 'depletion', 'nitrite', 'precipitation', 'enhancers', 'changers', 'tightness']\n",
      "4966:  ['Freshman', 'CIVIL', 'Federal', 'Nuclear', 'Riot', 'hong', 'Holistic', 'phi', 'allstar', 'Healing']\n",
      "5098:  ['@', '*', 'z', 'near', 'BE', 'Sing', 'OF', 'GET', 'SEE', 'Become']\n",
      "5114:  [\"'d\", \"'ll\"]\n",
      "5162:  ['eligible', 'available', 'repatriated', 'stored', 'manufactured', 'transferable', 'commonplace', 'deductible', 'recyclable', 'processed']\n",
      "5290:  ['happened', 'regressed', 'gone', 'existed', 'multiplied', 'occurred', 'changed', 'gotten', 'grown', 'clicked']\n",
      "5369:  ['currency', 'merchandise', 'equities', 'Leipzig', 'borax', 'sterling', 'Prefecture', 'Borax', 'keyhole', 'Pact']\n",
      "5418:  ['early', 'mid', 'Roaring']\n",
      "5477:  ['damage', 'attacks', 'attack', 'pressure', 'deviation', 'reliance', 'marrow', 'emphasis', 'dependence', 'assault']\n",
      "5546:  ['recommended', 'observed', 'maintains', 'warned', 'claimed', 'explained', 'admits', 'suggested', 'acknowledged', 'predicted']\n",
      "5573:  ['report', 'DIFFERENCE']\n",
      "5610:  ['less', 'prohibitively', 'cashew', 'allergenic', 'thyme', 'prouder']\n",
      "5642:  ['interpret', 'find', 'consider', 'reject', 'accept', 'propose', 'ignore', 'delete', 'resist', 'declare']\n",
      "5674:  ['locked', 'interested', 'embedded', 'dressed', 'involved', 'engaged', 'rooted', 'underrepresented', 'fluent', 'residing']\n",
      "5734:  ['Technology', 'Engineering', 'Switches', 'Care', 'Design', 'Software', 'Centre', 'Accountancy', 'Addiction', 'Management']\n",
      "5754:  ['eventually', 'probably', 'ultimately', 'surely', 'conceivably', 'gladly', 'presumably', 'undoubtedly', 'inevitably', 'certainly']\n",
      "5773:  ['lands', 'programs', 'journals', 'missions', 'bodies', 'techniques', 'structures', 'packages', 'courses', 'institutes']\n",
      "5802:  ['offered', 'promised', 'provided', 'arranged', 'managed', 'supplied', 'opposed', 'proved', 'promoted', 'attracted']\n",
      "5815:  ['Brahmin', 'professional', 'private', 'transnational', 'freelance', 'nonprofit', 'realestate', 'USO', 'matrimonial', 'reputable']\n",
      "5829:  ['puzzle', 'deal', 'dialogue', 'relationship', 'distance', 'confrontation', 'conflict', 'parachute', 'friendship', 'treasure']\n",
      "5830:  ['Code', 'Court', 'Path', 'Hike', 'Reform', 'Lie', 'Revolt', 'Worm', 'Blonde', 'turner']\n",
      "5866:  ['later', 'sometime', 'mischievously', 'dia', 'ha', 'HA', 'DIA']\n",
      "5898:  ['donate', 'spend', 'earn', 'consume', 'lose', 'recover', 'suffer', 'recoup', 'save', 'raise']\n",
      "5925:  ['delta', 'apartment', 'office', 'embassy', 'tallest', 'overprotected', 'wipers', 'secretariat', 'hub', 'Glue']\n",
      "5930:  ['starting', 'subject', 'replying', 'guilty', 'content', 'Content', 'beginning', 'innocent', 'SUBJECT']\n",
      "5990:  ['Western', 'Healthy', 'Presidential', 'Private', '3rd', 'hr', 'Temperature', 'Academic', 'HR', 'CT']\n",
      "5994:  ['them', 'wetting', 'captioning', 'Kaunas', 'Ouzo', 'Spl', 'sunfish', \"'em\"]\n",
      "6009:  ['drinks', 'invoice', 'ad', 'advertising', 'eyebrow', 'overdraft', 'encyclopedia', 'ARM', 'escrow', 'ADR']\n",
      "6058:  ['expects', 'intends']\n",
      "6085:  ['decision', 'recommendation', 'appointment', 'ruling', 'thumbprint', 'departure', 'resignation', 'announcement', 'assertion', 'Wehrmacht']\n",
      "6093:  ['interests', 'lives', 'theatres', 'labors', 'Slavs', 'compilers', 'cockpits', 'roots', 'minds', 'origins']\n",
      "6100:  ['while', 'although', 'besides', 'whereas', 'metaphorically', 'unlike']\n",
      "6117:  ['level', 'profile', 'levels', 'priestess', 'density', 'learners', 'layer', 'schoolers', 'altitudes', 'thresholds']\n",
      "6122:  ['all', 'sixteen', 'procrastinating', 'brainwashing', 'nuked', 'bloating', 'optimizing', 'Intersil', 'rereading', 'Nuked']\n",
      "6137:  ['options', 'overseas', 'arbitrage', 'orthodontics', 'collateral', 'ammunition', 'warrants', 'consumerism', 'crispy', 'glycerin']\n",
      "6186:  ['able', 'tempted', 'subjected', 'obliged', 'compelled', 'relegated', 'unfaithful']\n",
      "6245:  ['place', 'foot', 'detail', 'pains', 'shape', 'ruins', 'adulthood', 'orbit', 'flames', 'pad']\n",
      "6314:  ['put', 'shake', 'read', 'lay', 'knock', 'beat', 'rip', 'suck', 'shut', 'hoist']\n",
      "6373:  ['usage', 'intake', 'depreciation', 'Airfare', 'emissions', 'production', 'consumption', 'output', 'circulation', 'attendance']\n",
      "6378:  ['too', 'anytime', 'chewy', 'insanely', 'unreadable', 'nigh']\n",
      "6393:  ['penetrations', 'funds', 'monies']\n",
      "6437:  ['minister', 'sector', 'placements', 'shaming', 'contractor', 'ministers', 'Sho', 'mower', 'Verses', 'mowers']\n",
      "6442:  ['ago', 'olds', 'AGO']\n",
      "6501:  ['goods', 'confidence', 'luck', 'almonds', 'basil', 'faith', 'karma', 'seats', 'dough', 'storks']\n",
      "6506:  ['off', 'mignon']\n",
      "6570:  ['learns', 'loves', 'lauds', 'thinks', 'loses', 'wins', 'feels', 'saw', 'wrote', 'finds']\n",
      "6597:  ['contract', 'panda']\n",
      "6598:  ['Karte', 'Reserve', 'Standards', 'Deposit', 'karte']\n",
      "6634:  ['free', 'unique', 'zero', 'parallel', 'misplaced', 'misleading', 'valid', 'wasteful', 'rigged', 'useless']\n",
      "6666:  ['take', 'compress', 'haggle', 'cede', 'pore', 'gloat', 'consecrate', 'sate']\n",
      "6698:  ['rather', 'mightier']\n",
      "6758:  ['Parachute', 'Rapid', 'Golan', 'Defender', 'Combat', 'Mercury', 'quad', 'chevy', '7th', 'Pearl']\n",
      "6797:  ['laws', 'rules', 'standards', 'limitations', 'requirements', 'codes', 'formulas', 'gimmicks', 'regulations', 'statutes']\n",
      "6826:  ['watched', 'held', 'mimicked', 'scrutinized']\n",
      "6853:  ['book', 'myth', 'word', 'song', 'phrase', 'language', 'message', 'picture', 'story', 'argument']\n",
      "6886:  ['White', 'jawaharlal', 'NGO', 'Roman', 'Chart', 'Jawaharlal', '99th', 'Ngo', 'Ashford', 'Hash']\n",
      "6890:  ['babu', 'far', 'Babu', 'mainstreaming']\n",
      "6949:  ['forces', 'exercises', 'bases', 'values', 'guards', 'Embassies', 'escorts', 'rovers', 'belts', 'hostage']\n",
      "6954:  ['quoted', 'valued', 'aimed', 'adept', 'priced', 'winked']\n",
      "7013:  ['translation', 'length', 'boiler', 'concentration', 'scale', 'probability', 'degree', 'weight', 'spec', 'velocity']\n",
      "7014:  ['Oprah', 'World', 'Civil', 'Karate', 'Bathroom', 'Cold', 'flown', 'Falklands', 'DHL', 'Eiffel']\n",
      "7033:  ['consultancy', 'temp', 'clearing', 'accounting', 'brokerage', 'consulting', 'CPA', 'econometrics', 'auditing', 'cpa']\n",
      "7050:  ['expect', 'afford', 'deserve', 'owe', 'Outclass', 'anticipate', 'perceive', 'envisage', 'envision', 'cite']\n",
      "7082:  ['dropped', 'advanced', 'recovered', 'gained', 'rallied', 'recovers', 'bounded', 'zoomed', 'intl', 'pivoted']\n",
      "7093:  ['crawl', 'move', 'genie', 'query', 'guide', 'rush', 'switch', 'portals', 'ram', 'drift']\n",
      "7117:  ['coins', 'medals', 'stocks', 'bosons', 'beans', 'tortillas', 'narcissism', 'cheeseburgers', 'grains', 'syrups']\n",
      "7141:  ['ratings', 'rating', 'load', 'grip', 'vise', 'sights', 'necrosis']\n",
      "7146:  ['designing', 'making', 'raising', 'avoiding', 'comparing', 'INSTALLING', 'reversing', 'using', 'storing', 'curbing']\n",
      "7149:  ['owners', 'restarts', 'electors', 'brothers', 'founders', 'creators', 'architects', 'directors', 'butchers', 'sweeper']\n",
      "7162:  [\"'re\"]\n",
      "7210:  ['meant', 'required', 'needed', 'determined', 'committed', 'overreacting', 'exposed', 'allowed', 'attached', 'necessary']\n",
      "7269:  ['terms', 'portions', 'west', 'east', 'stages', 'details', 'south', 'northeast', 'southwest', 'north']\n",
      "7338:  ['went', 'goes', 'flips', 'sits', 'walks', 'falls', 'bounces', 'sailed', 'crawls', 'zooms']\n",
      "7365:  ['server', 'lawsuit', 'suit', 'Judgement', 'Avengers', 'informations', 'complaint', 'verdict', 'judgement', 'judgment']\n",
      "7397:  ['revenue', 'behalf']\n",
      "7402:  ['approximately', 'almost', 'practically', 'nearly', 'virtually', 'roughly', 'Prop']\n",
      "7417:  ['loan', 'CD', 'lending', 'cd', 'severance', 'sweatshop', 'px', 'origination']\n",
      "7434:  ['develop', 'negotiate', 'promote', 'obtain', 'achieve', 'arrange', 'adopt', 'evaluate', 'avoid', 'construct']\n",
      "7461:  ['faculty', 'crew', 'personnel', 'staff', 'primes', 'nectar', 'cabinet', 'fellow', 'portfolio', 'syndicate']\n",
      "7466:  ['composite', 'Composite']\n",
      "7525:  ['freedom', 'capacity', 'duty', 'resources', 'belt', 'pills', 'procrastination', 'schedule', 'capability', 'muscle']\n",
      "7530:  ['back', 'forward', 'southward', 'downstairs', 'thumbs', 'sideways', 'inversely', 'westward', 'eastward', 'inward']\n",
      "7562:  ['come', 'die', 'differ', 'shrivel', 'exist', 'occur', 'recuperate', 'reappear', 'disappear', 'loom']\n",
      "7565:  ['gains', 'gyration', 'movements', 'fluctuations', 'weasels', 'appreciation', 'rains', 'performances', 'rallies', 'advances']\n",
      "7594:  ['planned', 'proposed']\n",
      "7607:  ['carbon', 'diesel', 'seed', 'titanium', 'alcoholic', 'Ammonium', 'lithium', 'cathode', 'scavenging', 'Euro']\n",
      "7621:  ['figure', 'projection', 'estimate', 'advocate', 'forecast', 'tally']\n",
      "7622:  ['Communications', 'Store', 'Home', 'Aptitude', 'Machine', 'Chair', 'Biotech', 'Stores', 'Equipment', 'Logic']\n",
      "7629:  ['lines', 'phones', 'boxes', 'cards', 'units', 'networks', 'rings', 'teams', 'bags', 'models']\n",
      "7653:  ['gain', 'variation']\n",
      "7658:  ['better', 'faster', 'worse', 'thicker', 'thinner', 'rarer', 'taller', 'c++', 'C++', 'cheaper']\n",
      "7661:  ['partners', 'scratch', 'pilots', 'lenders', 'contractors', 'Achilles', 'creditors', 'affiliates', 'unions', 'wrestlers']\n",
      "7690:  ['show', 'demonstrate', 'ensure', 'conclude', 'Hide', 'imply', 'indicate', 'paraphrase', 'receivable', 'upstage']\n",
      "7722:  ['compared', 'coupled', 'compares']\n",
      "7782:  ['ds', 'Investor', 'Moto', 'Julius', 'PV', 'Storage', 'NJ', 'moto', 'Capital', 'Combustion']\n",
      "7801:  ['software', 'printer', 'technology', 'disc', 'disk', 'magnets', 'algorithms', 'vector', 'frock', 'graphics']\n",
      "7802:  ['really', 'merely', 'obviously', 'rightfully', 'simply', 'continually', 'legally', 'suddenly', 'automatically', 'sincerely']\n",
      "7821:  ['commitments', 'applications', 'orders', 'preparations', 'requests', 'contracts', 'bids', 'pardons', 'placebos', 'bookings']\n",
      "7850:  ['selected', 'formed', 'experienced', 'hired', 'founded', 'established', 'organized', 'recruited', 'acquired', 'enlisted']\n",
      "7861:  ['praise', 'support', 'respect', 'redress', 'prejudice', 'influence', 'dislike', 'finesse', 'uplift', 'disregard']\n",
      "7863:  ['corporate', 'divisional', 'coporate', 'strobe']\n",
      "7877:  ['plane', 'virus', 'transaction', 'clinician', 'sender', 'CR', 'Supercharger', 'supercharger', 'mike', 'treaty']\n",
      "7878:  ['Server', 'Plus', 'Account', 'X', 'V', 'LE', 'Accounts', 'RAW', 'ab', 'Wars']\n",
      "7910:  ['square', 'cubic', 'metric', 'trans', 'Third', 'TX', 'passenger', 'Waterline', 'tx', 'webbed']\n",
      "7913:  ['commission', 'institute', 'department', 'navigator', 'Talmud', 'denomination', 'tribunal', 'Nation', 'ministry', 'Mummy']\n",
      "7914:  ['slightly', 'considerably', 'somewhat', 'drastically', 'significantly', 'radically', 'noticeably', 'substantially', 'broadly', 'moderately']\n",
      "7929:  ['education', 'alcoholism', 'hemorrhoids', 'internet', 'tuition', 'slavery', 'poverty', 'contraception', 'diabetes', 'Internet']\n",
      "7946:  ['pay', 'prepare', 'qualify', 'compensate', 'reapply', 'High-', 'QUALIFY', 'ce']\n",
      "7973:  ['stage', 'field', 'project', 'genre', 'process', 'site', 'finals', 'earth', 'ball', 'clock']\n",
      "7978:  ['due', 'maturing']\n",
      "8037:  ['words', 'location', 'direction', 'pole', 'cheek', 'side', 'ear', 'hand', 'overnight', 'wing']\n",
      "8038:  ['Pan', 'United', 'Great', 'Affiliate', 'saudi', 'Santa', 'Saudi', 'Milky', 'Grand', 'Orient']\n",
      "8042:  ['yourself', 'himself', 'intersect', 'themselves', 'herself', 'myself', 'protons', 'ostriches', 'itself', 'biz']\n",
      "8057:  ['documentation', 'fine', 'salary', 'funding', 'instruction', 'gift', 'compensation', 'visa', 'payback', 'material']\n",
      "8106:  ['declined', 'contributed', 'Declined']\n",
      "8117:  ['pinch', 'vote', 'act', 'function', 'cap', 'ban', 'seat', 'drain', 'count', 'dissertation']\n",
      "8133:  ['plan']\n",
      "8141:  ['loans', 'attributions', 'Solver', 'grenades', 'solver', 'copter', 'mortgages', 'seawater', 'lobes', 'twos']\n",
      "8148:  ['where', 'whilst', 'Whilst']\n",
      "8165:  ['value', 'penetration', 'capitalization', 'jewel']\n",
      "8166:  ['Stanley', 'Lynch', 'fargo', 'Keegan']\n",
      "8170:  ['one', 'Paddy']\n",
      "8185:  ['resource', 'gas', 'condensate', 'distilled', 'mineral', 'coral', 'phosphorus', 'ivy', 'pill', 'blackberry']\n",
      "8186:  ['did', 'IS', 'Id', 'id']\n",
      "8188:  ['into', 'onto', 'denoting']\n",
      "9194:  ['continued', 'widened', 'Daydreaming', 'doubled', 'daydreaming', 'Sevenfold', 'tripled', 'swelled', 'shrank', 'quadrupled']\n",
      "9898:  ['known', 'viewed', 'defined', 'regarded', 'perceived', 'positioned', 'structured', 'reincarnated', 'interpreted', 'politic']\n",
      "9962:  ['thus', 'then', 'conceptually', 'jaundice', 'unfortunately', 'therefore', 'longitude', 'hopefully', 'furthermore', 'consequently']\n",
      "10026:  ['dedicated', 'refusing', 'equal', 'closer', 'related', 'failing', 'perpendicular', 'identical', 'adjacent', 'unrelated']\n",
      "10105:  ['printing', 'drilling', 'manufacturing', 'construction', 'Startup', 'startup', 'compression', 'distribution', 'radiator', 'turbine']\n",
      "10213:  ['span', 'digit', 'digits', 'period', 'wavelength', 'Digits', 'periods', 'Vein', 'Yelp', 'yelp']\n",
      "10218:  ['how']\n",
      "10666:  ['got', 'gets', 'wears', 'deserves', 'ate', 'poked', 'hid', 'breathed', 'soothes', 'slams']\n",
      "10730:  ['intelligent', 'interesting', 'economical', 'attractive', 'impressive', 'important', 'efficient', 'inverted', 'annoying', 'acceptable']\n",
      "11242:  ['spelling', 'asking', 'quitting', 'harassing', 'running', 'passing', 'paying', 'driving', 'rolling', 'moving']\n",
      "11498:  ['largely', 'mostly', 'mainly', 'partly', 'primarily', 'solely', 'partially', 'nominally', 'begotten']\n",
      "11621:  ['power', 'iodine', 'fabric', 'warfare', 'wisdom', 'weapons', 'isotopes', 'holocaust', 'nuclei', 'vera']\n",
      "11690:  ['reported']\n",
      "11878:  ['Instant', 'Election', 'Trade', 'Educational', 'Culture', 'Traffic', 'Safety', 'Science', 'Housing', 'Finance']\n",
      "11946:  ['attributed', 'called', 'labeled', 'dubbed', 'groped', 'mistreats', 'likened', 'termed', 'blamed', 'ascribed']\n",
      "12010:  ['grammatically', 'truly', 'morally', 'vertically', 'professionally', 'emotionally', 'deeply', 'completely', 'widely', 'continuously']\n",
      "12074:  ['ended', 'ending']\n",
      "12138:  ['together', 'awake', 'mum', 'alone', 'alive', 'SF', 'ablaze', 'unsaid', 'interchangeably', 'clockwise']\n",
      "12153:  ['spoiler', 'Spoiler', 'security', 'pricing', 'certification', 'coding', 'residency', 'verification', 'lottery', 'propaganda']\n",
      "12202:  ['definitively', 'agreed', 'conspires', 'acceded', 'consented', 'vowed']\n",
      "12229:  ['bill', 'sump']\n",
      "12266:  ['any', 'immeasurable']\n",
      "12284:  ['between', 'betwen', 'betweeen']\n",
      "12970:  ['headed', 'supported', 'preceded', 'accompanied', 'led', 'backed', 'sponsored', 'surrounded', 'dominated', 'symbolized']\n",
      "13290:  ['falling', 'recovering', 'changing', 'rising', 'accelerating', 'decreasing', 'increasing', 'piercing', 'depressing', 'evolving']\n",
      "13561:  ['eternity', 'equity', 'ownership', 'evacuation', 'ergonomics']\n",
      "13738:  ['found', 'maintained', 'discovered', 'denied', 'admitted', 'assumed', 'revealed', 'ruled', 'ensured', 'outsmarted']\n",
      "13994:  ['reached', 'reserved', 'substituted', 'payed', 'accounted', 'exchanged', 'gropes', 'swapped', 'Accounted']\n",
      "14058:  ['openly', 'ever', 'wisely', 'successfully', 'correctly', 'intentionally', 'improperly', 'randomly', 'verbally', 'accidentally']\n",
      "14122:  ['right', 'opposite', 'waist', 'vagina', 'horny', 'contrary', 'TIN', 'sloths', 'farthest', 'mountaineering']\n",
      "14201:  ['interior', 'bromine', 'agriculture', 'highway', 'telecom', 'stair', 'treasury', 'defense', 'transportation', 'tourism']\n",
      "14250:  ['promises', 'needs', 'likes', 'travels', 'wishes', 'aims', 'screeches', 'milks', 'desires', 'hopes']\n",
      "14309:  ['sentence', 'flow', 'flows', 'curvature', 'injection', 'range', 'stream', 'equivalents', 'infusion', 'parachutes']\n",
      "14314:  ['everything', 'something', 'nothing', 'anything', 'yours', 'hi', 'nowhere', 'hello', 'goodbye', 'audibly']\n",
      "14378:  ['trying', 'supposed', 'attempting', 'unable', 'responding', 'entitled', 'preferable', 'addicted', 'wishing', 'obligated']\n",
      "14506:  ['cut', 'tailed', 'spin', 'fend', 'ward', 'tapered', 'Siphon', 'spun', 'leveling', 'typecast']\n",
      "14762:  ['showed', 'showing', 'indicates', 'shows', 'suggests', 'signifies', 'implies', 'silences', 'confirms', 'ensures']\n",
      "14826:  ['successful', 'distant', 'magical', 'acidic', 'dynamic', 'complicated', 'distinctive', 'colder', 'futuristic', 'luminous']\n",
      "14890:  ['et', 'formerly', 'reptilian', 'starring', 'succeeds', 'succeeding', 'Alok', 'exec']\n",
      "15018:  ['divided', 'listed', 'backtracked', 'dependent', 'traded', 'focused', 'deadlocked', 'capitalized', 'tattooed', 'reneged']\n",
      "15141:  ['assistance', 'aid', 'planner', 'adviser', 'advisor', 'ambassador', 'Acrobat', 'Armageddon', 'acrobat', 'conscription']\n",
      "15146:  ['yes', 'mixed', 'flat', 'blah', 'trembling', 'asleep', 'indistinguishable', 'ands', 'nil', 'C-']\n",
      "15206:  ['Number', 'Unit', 'Model', 'Persian', 'Article', 'Site', 'Sublime', 'mager', 'bidding', 'Formula']\n",
      "15333:  ['payment', 'payouts', 'deduction', 'payments', 'ceiling', 'cheater', 'repayment', 'arrears', 'comforter', 'forgiveness']\n",
      "15338:  ['exactly', 'absolutely', 'doing', 'quite', 'qualitatively', 'Slugging', 'precisely', 'faring', 'DOING', 'Ze']\n",
      "15402:  ['used', 'applied', 'distributed', 'tuned', 'judged', 'marketed', 'proffered', 'glued', 'anchored', 'groomed']\n",
      "15530:  ['comes', 'occurs', 'came', 'occured', 'benefited', 'lies', 'arises', 'resulted', 'protruded', 'benefitted']\n",
      "15594:  ['only', 'troll', 'TROLL']\n",
      "15609:  ['debit', 'credit', 'trump', 'Adaptor', 'greeting', 'PET', 'Optima', 'adaptor', 'EI', '7UP']\n",
      "15717:  ['authority', 'resistance', 'attention', 'representation', 'intent', 'membership', 'opposition', 'comfort', 'submission', 'inspiration']\n",
      "15786:  ['stated', 'implied', 'indicated', 'stipulated']\n",
      "15813:  ['account', 'exit', 'orthodontist', 'allowance', 'adjustment', 'breakouts', 'exemption', 'overflow', 'increment', 'accrual']\n",
      "15821:  ['projects', 'towers', 'mints', 'sites', 'fields', 'platforms', 'particles', 'constituencies', 'buildings', 'industries']\n",
      "15850:  ['doubt', 'longer', 'avail', 'commandments', 'Avail', 'rave']\n",
      "15914:  ['along', 'disagrees', 'wrestles', 'competes', 'rhymes', 'contrasts', 'collided', 'contrasted', 'merges', 'swatter']\n",
      "15974:  ['Nadu', 'Hero', 'Leagues', 'Agile', 'Hemisphere', 'Union', 'Empire', 'Kippur', 'DU', 'Battle']\n",
      "15993:  ['programming', 'service', 'travel', 'transport', 'interface', 'Eve', 'fashion', 'rod', 'channel', 'wax']\n",
      "15994:  ['always', 'never', 'wanna', 'hereby']\n",
      "16042:  ['received', 'won', 'obtained', 'encountered', 'scored', 'suffered', 'violated', 'witnessed', 'swiped', 'fetched']\n",
      "16069:  ['trend', 'scam', 'problem', 'mess', 'situation', 'charger', 'headache', 'scenario', 'loser', 'summit']\n",
      "16106:  ['slowly', 'quickly', 'soon', 'simultaneously', 'nicely', 'fast', 'safely', 'easily', 'gently', 'efficiently']\n",
      "16121:  ['vibration', 'employment', 'cholesterol', 'inventory', 'HDL', 'LDL', 'labor', 'ozone', 'underworld', 'emigration']\n",
      "16170:  ['resulting', 'derived', 'coming', 'dating', 'originating', 'graduating', 'exempt', 'Mongols', 'emerging', 'ranging']\n",
      "16229:  ['fun', 'attribution', 'term', 'room', 'skirts', 'merit', 'sheet', 'rooms', 'sheets', 'overdue']\n",
      "16234:  ['today', 'tonight', 'Constantinople', 'tomorrow', 'afresh', 'A&T', 'decaf', 'Tommorrow', 'semiotics', 'upperclassmen']\n",
      "16249:  ['cheating', 'deposit', 'hunger', 'intimidation', 'fraud', 'theft', 'suicide', 'shoplifting', 'negligence', 'corruption']\n",
      "16298:  ['happens', 'seems', 'appears', 'fails', 'corresponds', 'reacts', 'appeared', 'continues', 'amounted', 'behaves']\n",
      "16325:  ['request', 'proposal', 'motion', 'deadline', 'recipe', 'prank', 'pleas', 'kilt', 'euphemism', 'timetable']\n",
      "16340:  ['when', 'whenever', 'lest', 'wherever']\n",
      "16357:  ['extent', 'quantity', 'amount', 'amounts', 'proportion', 'array', 'quantities', 'amputation', 'sums', 'Extent']\n",
      "16358:  ['Guaranty', 'Heavy', 'Lehman', 'Crucible']\n",
      "16362:  ['per', 'consecutive', 'Jax', 'kilowatt', 'Consecutive', 'Kilowatt', 'JAX']\n",
      "16380:  ['above', 'below', '08', 'exceeding', 'exceeds', 'outshines']\n",
      "18410:  ['why', 'whom', 'cloaks', 'EPS', 'cramping', 'Almighty', 'eps', 'satirizing']\n",
      "19434:  ['buying', 'importing', 'selling', 'purchasing', 'withdrawing', 'acquiring', 'meshing', 'saving', 'issuing', 'Asics']\n",
      "20138:  ['tells', 'told', 'informs', 'teases', 'notified', 'assured', 'joined', 'portrayed', 'conned', 'joins']\n",
      "20476:  ['reflects', 'nor', 'reflecting', 'mirroring', 'amidst', 'despite', 'amid', 'Vaporizing', 'vaporizing', 'hamstrings']\n",
      "21482:  ['o', 'bearing', 'B.A.', 'repeated', 're', 'schizoid', 'Chat', 'pending', 'celebrated', 'taped']\n",
      "22186:  ['given', 'written', 'shown', 'taken', 'drawn', 'driven', 'chosen', 'eaten', 'broken', 'spoken']\n",
      "22250:  ['once', 'twice', 'thrice', 'doubles', 'dissipates', 'generically', 'Doubles']\n",
      "22393:  ['science', 'zoology', 'recreation', 'physics', 'commerce', 'biology', 'viola', 'economics', 'geology', 'research']\n",
      "24042:  ['slower', 'greater', 'smaller', 'bigger', 'shorter', 'stronger', 'lighter', 'larger', 'heavier', 'darker']\n",
      "24234:  ['installed', 'created', 'released', 'introduced', 'launched', 'published', 'delivered', 'commissioned', 'conducted', 'drafted']\n",
      "24572:  ['against', 'againt']\n",
      "25578:  ['improved', 'increased', 'expanded', 'decreased', 'maximal']\n",
      "26282:  ['done', 'seen', 'heard', 'mentioned', 'counted', 'treated', 'cured', 'identified', 'solved', 'punished']\n",
      "26602:  ['whether', 'diapering']\n",
      "27050:  ['gave', 'mistook', 'sends', 'fills', 'throws', 'takes', 'drove', 'brings', 'keeps', 'took']\n",
      "27626:  ['speaking', 'traveling', 'working', 'seated', 'happening', 'resting', 'migrating', 'travelling', 'smiling', 'living']\n",
      "27882:  ['particularly', 'especially', 'fermented', 'expecially', 'notably', 'albeit', 'sorta', 'trivially', 'particulary']\n",
      "28330:  ['calls', 'calling', 'adjusting', 'begging', 'amends', 'apologizes', 'availing', 'pleading', 'raps', 'opts']\n",
      "28394:  ['privately', 'locally', 'specially', 'Aerodynamically', 'jointly', 'closely', 'comparably', 'publicly', 'actively', 'densely']\n",
      "28522:  ['again', 'anymore', 'horizontally', 'abroad', 'individually', 'anonymously', 'accordingly', 'evaporates', 'internally', 'forever']\n",
      "28586:  ['referred', 'refused', 'access', 'tried', 'returned', 'failed', 'struggled', 'attempted', 'listened', 'traveled']\n",
      "28650:  ['another', 'deductive']\n",
      "28668:  ['among', 'plaguing', 'rids']\n",
      "29674:  ['simplified', 'fixed', 'weighted', 'depressed', 'insured', 'floating', 'circumscribed', 'shaded', 'blind', 'spoiled']\n",
      "30378:  ['snowed', 'consumed', 'sold', 'Paged', 'dumped', 'executed', 'shipped', 'tested', 'settled', 'operated']\n",
      "30442:  ['recently', 'sarcastically', 'repeatedly', 'subsequently', 'abruptly', 'tactfully', 'posthumously', 'jokingly']\n",
      "30506:  ['equivalent', 'immune', 'bounties', 'goodnight', 'excerpts', 'proceeds', 'admixture', 'materiality', 'Shang']\n",
      "30585:  ['insurance', 'dryers', 'expectancy', 'annuity', 'metallurgy', 'Metallurgy', 'IND', 'follicles', 'boggling', 'reinsurance']\n",
      "30634:  ['wants', 'wanted', 'leads', 'refuses', 'prefers', 'Apt', 'chooses', 'chose', 'tries', 'pretended']\n",
      "30698:  ['anyone', 'someone', 'either', 'everyone', 'anybody', 'somebody', 'nobody', 'neither', 'hitmen', 'everybody']\n",
      "31146:  ['meaning', 'means', 'causes', 'accelerates', 'nips', 'highlights', 'proves', 'ends', 'traces', 'posited']\n",
      "31722:  ['collecting', 'getting', 'taking', 'loosing', 'wearing', 'posting', 'receiving', 'losing', 'earning', 'constructing']\n",
      "31978:  ['just', 'cognizable', 'onna']\n",
      "32170:  ['projected', 'estimated', 'anticipated', 'approximate', 'indictable', 'forecasted']\n",
      "32234:  ['farther', 'further', 'hairline', 'sour', 'moped', 'limp', 'Moped']\n",
      "32358:  ['Chemical', 'Dynamic', 'Northern', 'av', 'Krishna', 'Advantage', 'Die', 'Star', 'Horizon', 'Antiques']\n",
      "32426:  ['passed', 'played', 'represented', 'struck', 'attended', 'staged', 'followed', 'signed', 'hosted', 'commandeered']\n",
      "32490:  ['yet', 'necessarily', 'ALWAYS', 'Typography', 'typography']\n",
      "32746:  ['each']\n",
      "32764:  ['under']\n",
      "38570:  ['hacked', 'forced', 'brought', 'shuffled', 'rushed', 'sent', 'bled', 'traced', 'invited', 'shunted']\n",
      "46762:  ['completed', 'itches', 'reactivated', 'terminated', 'implemented', 'annulled', 'reheated', 'quantified', 'misspelled', 'rescinded']\n",
      "48106:  ['exploring', 'studying', 'resisting', 'considered', 'considering', 'examining', 'witnessing', 'experiencing', 'investigating', 'undergoing']\n",
      "48810:  ['posted', 'REJECTED', 'faces', 'cited', 'cites', 'STRUCK', 'awaited']\n",
      "49148:  ['over', 'hogging']\n",
      "53244:  ['following', 'representing', 'FOLLOWING', 'rebutting', 'comprising', 'constituting', 'strumming', 'swamping']\n",
      "54250:  ['outside', 'inside', 'invading', 'traversing', 'staining', 'conestoga', 'bespoke', 'Conestoga', 'overhanging', 'Nadia']\n",
      "54954:  ['stuck', 'married', 'left', 'avoided', 'inscribed', 'lit', 'saved', 'scared', 'stopped', 'caught']\n",
      "57002:  ['filed', 'discriminated', 'lodged', 'referenced', 'subbed', 'knighted', 'Unsealed', 'SLIPS', 'retaliated', 'Subbed']\n",
      "57340:  ['without', 'cornbread', 'begets']\n",
      "60650:  ['maybe', 'possibly', 'except', 'plus', 'perhaps', 'preferably', 'Preferably', 'minus', 'affixing', 'flicked']\n",
      "61418:  ['every']\n",
      "63146:  ['paired', 'booked', 'employed', 'recorded', 'owed', 'angled', 'paid', 'registered', 'repaid', 'graded']\n",
      "64490:  ['preparing', 'needing', 'struggling', 'wanting', 'seeking', 'sticking', 'returning', 'threatening', 'tending', 'traumatizing']\n",
      "65194:  ['blocked', 'declared', 'accepted', 'rejected', 'cleared', 'granted', 'approved', 'reversed', 'authorized', 'endorsed']\n",
      "65258:  ['indirectly', 'shortly', 'directly', 'immediately', 'Adieu', 'specifically', 'remotely', 'properly', 'exclusively', 'positively']\n",
      "65532:  ['through', 'thru']\n",
      "95914:  ['placed', 'bought', 'injected', 'purchased', 'ranked', 'exited', 'seized', 'retrieved', 'unloaded', 'shorted']\n",
      "114684:  ['behind', 'upon', 'beside', 'across', 'Amongst', 'amongst', 'underneath', 'atop', 'alongside', 'beyond']\n",
      "120490:  ['exerted', 'made', 'detected', 'spotted', 'produced', 'developed', 'swallowed', 'fashioned', 'hyped', 'built']\n",
      "122876:  ['containing', 'towards', 'affecting', 'regarding', 'concerning', 'toward', 'involving', 'covering', 'surrounding', 'whereby']\n",
      "128682:  ['equals', 'invested', 'borrowed', 'lost', 'spent', 'lasted', 'muscled', 'yielding', 'appreciated', 'logged']\n",
      "130026:  ['having', 'consuming', 'helping', 'finding', 'th', 'CHOOSING', 'demanding', 'confessing', 'winning', 'producing']\n",
      "131068:  ['within', 'spanning', 'narrows']\n",
      "245756:  ['around', 'aboard', 'voce', '2,000,000', 'multiplies', 'trimmers']\n"
     ]
    }
   ],
   "source": [
    "for i in range(max(clusters.keys())):\n",
    "    try:\n",
    "        print(\"%d: \" %i, clusters[i][:10])\n",
    "    except KeyError:\n",
    "        continue"
   ]
  },
  {
   "cell_type": "code",
   "execution_count": 37,
   "metadata": {
    "collapsed": false
   },
   "outputs": [
    {
     "name": "stdout",
     "output_type": "stream",
     "text": [
      "I I nsubj like\n",
      "green eggs eggs dobj like\n",
      "ham ham conj eggs\n"
     ]
    }
   ],
   "source": [
    "import spacy\n",
    "nlp = spacy.load('en')\n",
    "doc = nlp(u'I like green eggs and ham.')\n",
    "for np in doc.noun_chunks:\n",
    "    print(np.text, np.root.text, np.root.dep_, np.root.head.text)\n",
    "    # I I nsubj like\n",
    "    # green eggs eggs dobj like\n",
    "    # ham ham conj eggs"
   ]
  },
  {
   "cell_type": "code",
   "execution_count": 38,
   "metadata": {
    "collapsed": false,
    "scrolled": true
   },
   "outputs": [
    {
     "name": "stdout",
     "output_type": "stream",
     "text": [
      "['bright', 'red']\n",
      "['on']\n"
     ]
    }
   ],
   "source": [
    "apples = nlp(u'bright red apples on the tree')[2]\n",
    "print([w.text for w in apples.lefts])\n",
    "# ['bright', 'red']\n",
    "print([w.text for w in apples.rights])\n",
    "# ['on']\n",
    "assert apples.n_lefts == 2\n",
    "assert apples.n_rights == 1"
   ]
  },
  {
   "cell_type": "code",
   "execution_count": 44,
   "metadata": {
    "collapsed": false
   },
   "outputs": [
    {
     "name": "stdout",
     "output_type": "stream",
     "text": [
      "Credit\n",
      "and\n",
      "mortgage\n",
      "account\n",
      "holders\n"
     ]
    }
   ],
   "source": [
    "from spacy.symbols import nsubj\n",
    "doc = nlp(u'Credit and mortgage account holders must submit their requests within 30 days.')\n",
    "root = [w for w in doc if w.head is w][0]\n",
    "subject = list(root.lefts)[0]\n",
    "for descendant in subject.subtree:\n",
    "    print(descendant)"
   ]
  },
  {
   "cell_type": "code",
   "execution_count": 40,
   "metadata": {
    "collapsed": false
   },
   "outputs": [
    {
     "name": "stdout",
     "output_type": "stream",
     "text": [
      "Credit and mortgage account holders NOUN nsubj submit\n",
      "must VERB aux submit\n",
      "submit VERB ROOT submit\n",
      "their ADJ poss requests\n",
      "requests NOUN dobj submit\n",
      ". PUNCT punct submit\n"
     ]
    }
   ],
   "source": [
    "from spacy.symbols import nsubj\n",
    "doc = nlp(u'Credit and mortgage account holders must submit their requests.')\n",
    "holders = doc[4]\n",
    "span = doc[holders.left_edge.i : holders.right_edge.i + 1]\n",
    "span.merge()\n",
    "for word in doc:\n",
    "    print(word.text, word.pos_, word.dep_, word.head.text)\n",
    "    # Credit and mortgage account holders nsubj NOUN submit\n",
    "    # must VERB aux submit\n",
    "    # submit VERB ROOT submit\n",
    "    # their DET det requests\n",
    "    # requests NOUN dobj submit"
   ]
  },
  {
   "cell_type": "code",
   "execution_count": null,
   "metadata": {
    "collapsed": true
   },
   "outputs": [],
   "source": []
  },
  {
   "cell_type": "code",
   "execution_count": null,
   "metadata": {
    "collapsed": true
   },
   "outputs": [],
   "source": []
  },
  {
   "cell_type": "code",
   "execution_count": null,
   "metadata": {
    "collapsed": true
   },
   "outputs": [],
   "source": []
  },
  {
   "cell_type": "code",
   "execution_count": null,
   "metadata": {
    "collapsed": true
   },
   "outputs": [],
   "source": []
  },
  {
   "cell_type": "code",
   "execution_count": null,
   "metadata": {
    "collapsed": true
   },
   "outputs": [],
   "source": []
  },
  {
   "cell_type": "code",
   "execution_count": null,
   "metadata": {
    "collapsed": true
   },
   "outputs": [],
   "source": []
  },
  {
   "cell_type": "code",
   "execution_count": null,
   "metadata": {
    "collapsed": true
   },
   "outputs": [],
   "source": []
  },
  {
   "cell_type": "code",
   "execution_count": null,
   "metadata": {
    "collapsed": true
   },
   "outputs": [],
   "source": []
  },
  {
   "cell_type": "code",
   "execution_count": null,
   "metadata": {
    "collapsed": true
   },
   "outputs": [],
   "source": []
  },
  {
   "cell_type": "code",
   "execution_count": null,
   "metadata": {
    "collapsed": true
   },
   "outputs": [],
   "source": []
  },
  {
   "cell_type": "code",
   "execution_count": null,
   "metadata": {
    "collapsed": true
   },
   "outputs": [],
   "source": []
  },
  {
   "cell_type": "code",
   "execution_count": null,
   "metadata": {
    "collapsed": true
   },
   "outputs": [],
   "source": []
  },
  {
   "cell_type": "markdown",
   "metadata": {},
   "source": [
    "The plan is to fit curves to each of the distributions below and use them for bayesian inference."
   ]
  },
  {
   "cell_type": "code",
   "execution_count": 248,
   "metadata": {
    "collapsed": false
   },
   "outputs": [
    {
     "data": {
      "text/plain": [
       "<matplotlib.text.Text at 0x150488ccdd8>"
      ]
     },
     "execution_count": 248,
     "metadata": {},
     "output_type": "execute_result"
    },
    {
     "data": {
      "image/png": "[encoded data removed]",
      "text/plain": [
       "<matplotlib.figure.Figure at 0x150311de630>"
      ]
     },
     "metadata": {},
     "output_type": "display_data"
    }
   ],
   "source": [
    "quora.ix[quora.is_duplicate==0, 'similarity'].hist(bins=500)\n",
    "plt.title(\"Similarity Histogram of Non-Duplicate Questions\")\n",
    "plt.xlim(0,1)\n",
    "plt.ylim(0,4000)\n",
    "plt.xlabel('Similarity')\n",
    "plt.ylabel('Frequency')"
   ]
  },
  {
   "cell_type": "code",
   "execution_count": 250,
   "metadata": {
    "collapsed": false
   },
   "outputs": [
    {
     "data": {
      "text/plain": [
       "<matplotlib.text.Text at 0x1503175c9e8>"
      ]
     },
     "execution_count": 250,
     "metadata": {},
     "output_type": "execute_result"
    },
    {
     "data": {
      "image/png": "[encoded data removed]",
      "text/plain": [
       "<matplotlib.figure.Figure at 0x1502ee4f2e8>"
      ]
     },
     "metadata": {},
     "output_type": "display_data"
    }
   ],
   "source": [
    "quora.ix[quora.is_duplicate==1, 'similarity'].hist(bins=500)\n",
    "plt.title(\"Similarity Histogram of Duplicate Questions\")\n",
    "plt.xlim(0,1)\n",
    "plt.ylim(0, 4000)\n",
    "plt.xlabel('Similarity')\n",
    "plt.ylabel('Frequency')"
   ]
  },
  {
   "cell_type": "code",
   "execution_count": 85,
   "metadata": {
    "collapsed": false
   },
   "outputs": [
    {
     "data": {
      "text/plain": [
       "0.10959601134970301"
      ]
     },
     "execution_count": 85,
     "metadata": {},
     "output_type": "execute_result"
    }
   ],
   "source": [
    "np.sum(quora.similarity < 0.85) / len(quora)"
   ]
  },
  {
   "cell_type": "code",
   "execution_count": null,
   "metadata": {
    "collapsed": true
   },
   "outputs": [],
   "source": []
  },
  {
   "cell_type": "code",
   "execution_count": null,
   "metadata": {
    "collapsed": true
   },
   "outputs": [],
   "source": []
  },
  {
   "cell_type": "code",
   "execution_count": null,
   "metadata": {
    "collapsed": true
   },
   "outputs": [],
   "source": []
  },
  {
   "cell_type": "code",
   "execution_count": null,
   "metadata": {
    "collapsed": true
   },
   "outputs": [],
   "source": []
  },
  {
   "cell_type": "code",
   "execution_count": null,
   "metadata": {
    "collapsed": true
   },
   "outputs": [],
   "source": []
  },
  {
   "cell_type": "code",
   "execution_count": null,
   "metadata": {
    "collapsed": true
   },
   "outputs": [],
   "source": []
  },
  {
   "cell_type": "code",
   "execution_count": null,
   "metadata": {
    "collapsed": true
   },
   "outputs": [],
   "source": []
  },
  {
   "cell_type": "code",
   "execution_count": null,
   "metadata": {
    "collapsed": true
   },
   "outputs": [],
   "source": []
  },
  {
   "cell_type": "code",
   "execution_count": null,
   "metadata": {
    "collapsed": true
   },
   "outputs": [],
   "source": []
  },
  {
   "cell_type": "code",
   "execution_count": null,
   "metadata": {
    "collapsed": true
   },
   "outputs": [],
   "source": []
  },
  {
   "cell_type": "code",
   "execution_count": null,
   "metadata": {
    "collapsed": true
   },
   "outputs": [],
   "source": []
  },
  {
   "cell_type": "code",
   "execution_count": null,
   "metadata": {
    "collapsed": true
   },
   "outputs": [],
   "source": []
  },
  {
   "cell_type": "code",
   "execution_count": null,
   "metadata": {
    "collapsed": true
   },
   "outputs": [],
   "source": []
  },
  {
   "cell_type": "code",
   "execution_count": null,
   "metadata": {
    "collapsed": true
   },
   "outputs": [],
   "source": []
  },
  {
   "cell_type": "code",
   "execution_count": null,
   "metadata": {
    "collapsed": true
   },
   "outputs": [],
   "source": []
  },
  {
   "cell_type": "markdown",
   "metadata": {
    "collapsed": true
   },
   "source": [
    "## Predicting with scikit-learn"
   ]
  },
  {
   "cell_type": "code",
   "execution_count": 174,
   "metadata": {
    "collapsed": true
   },
   "outputs": [],
   "source": [
    "from sklearn.model_selection import cross_val_score\n",
    "from sklearn.ensemble import RandomForestClassifier"
   ]
  },
  {
   "cell_type": "code",
   "execution_count": 202,
   "metadata": {
    "collapsed": false
   },
   "outputs": [],
   "source": [
    "clf = RandomForestClassifier(n_estimators=10, max_depth=None, \n",
    "      min_samples_split=2, random_state=0, n_jobs=3)"
   ]
  },
  {
   "cell_type": "code",
   "execution_count": 207,
   "metadata": {
    "collapsed": false
   },
   "outputs": [
    {
     "data": {
      "text/plain": [
       "0.61455178908165065"
      ]
     },
     "execution_count": 207,
     "metadata": {},
     "output_type": "execute_result"
    }
   ],
   "source": [
    "scores = cross_val_score(clf, \n",
    "                         quora.similarity.values.reshape(-1,1),\n",
    "                         quora.is_duplicate)\n",
    "scores.mean()"
   ]
  },
  {
   "cell_type": "code",
   "execution_count": null,
   "metadata": {
    "collapsed": false
   },
   "outputs": [],
   "source": []
  },
  {
   "cell_type": "code",
   "execution_count": null,
   "metadata": {
    "collapsed": true
   },
   "outputs": [],
   "source": []
  },
  {
   "cell_type": "code",
   "execution_count": null,
   "metadata": {
    "collapsed": true
   },
   "outputs": [],
   "source": []
  }
 ],
 "metadata": {
  "kernelspec": {
   "display_name": "Python 3",
   "language": "python",
   "name": "python3"
  },
  "language_info": {
   "codemirror_mode": {
    "name": "ipython",
    "version": 3
   },
   "file_extension": ".py",
   "mimetype": "text/x-python",
   "name": "python",
   "nbconvert_exporter": "python",
   "pygments_lexer": "ipython3",
   "version": "3.6.0"
  }
 },
 "nbformat": 4,
 "nbformat_minor": 2
}
